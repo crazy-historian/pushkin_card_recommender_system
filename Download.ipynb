{
 "cells": [
  {
   "cell_type": "code",
   "execution_count": 1,
   "id": "dac71697",
   "metadata": {},
   "outputs": [],
   "source": [
    "import pandas as pd\n",
    "import numpy as np"
   ]
  },
  {
   "cell_type": "code",
   "execution_count": 8,
   "id": "9055cf6d",
   "metadata": {},
   "outputs": [],
   "source": [
    "dir = 'C:/Users/Rusla/Documents/GitHub/Пушкинская карта - стажировка/Sample/'"
   ]
  },
  {
   "cell_type": "code",
   "execution_count": 11,
   "id": "6cb8f0aa",
   "metadata": {},
   "outputs": [
    {
     "name": "stdout",
     "output_type": "stream",
     "text": [
      "{'encoding': 'utf-8', 'confidence': 0.99, 'language': ''}\n"
     ]
    }
   ],
   "source": [
    "from chardet.universaldetector import UniversalDetector\n",
    "detector = UniversalDetector()\n",
    "with open(dir + \"click.txt\", 'rb') as fh:\n",
    "    for line in fh:\n",
    "        detector.feed(line)\n",
    "        if detector.done:\n",
    "            break\n",
    "    detector.close()\n",
    "print(detector.result)"
   ]
  },
  {
   "cell_type": "code",
   "execution_count": 35,
   "id": "42f8b63c",
   "metadata": {},
   "outputs": [],
   "source": [
    "import csv\n",
    "\n",
    "with open(dir + \"click.txt\", \"r\", newline='', encoding='utf-8', errors = 'ignore') as in_file:\n",
    "    stripped = (line.strip() for line in in_file)\n",
    "    lines = (line.split(\";\") for line in stripped if line)\n",
    "    with open(dir + 'click.csv', 'w', encoding='utf-8', errors = 'ignore') as out_file:\n",
    "        writer = csv.writer(out_file, delimiter = ';')\n",
    "        writer.writerow(('create_time', 'create_date', 'user_phone_details', 'buyer_mobile_phone', 'user_id', 'url'))\n",
    "        writer.writerows(lines)"
   ]
  },
  {
   "cell_type": "code",
   "execution_count": 36,
   "id": "baad82e5",
   "metadata": {},
   "outputs": [
    {
     "name": "stdout",
     "output_type": "stream",
     "text": [
      "{'encoding': 'utf-8', 'confidence': 0.99, 'language': ''}\n"
     ]
    }
   ],
   "source": [
    "detector = UniversalDetector()\n",
    "with open(dir + \"click.csv\", 'rb') as fh:\n",
    "    for line in fh:\n",
    "        detector.feed(line)\n",
    "        if detector.done:\n",
    "            break\n",
    "    detector.close()\n",
    "print(detector.result)"
   ]
  },
  {
   "cell_type": "code",
   "execution_count": 54,
   "id": "b235a2c8",
   "metadata": {},
   "outputs": [
    {
     "name": "stderr",
     "output_type": "stream",
     "text": [
      "b'Skipping line 862995: expected 6 fields, saw 7\\nSkipping line 862997: expected 6 fields, saw 7\\n'\n",
      "b'Skipping line 2142333: expected 6 fields, saw 7\\nSkipping line 2142335: expected 6 fields, saw 7\\n'\n",
      "b'Skipping line 2844195: expected 6 fields, saw 7\\n'\n",
      "b'Skipping line 3074159: expected 6 fields, saw 7\\n'\n"
     ]
    }
   ],
   "source": [
    "click = pd.read_csv(dir + 'click.csv', sep=';', error_bad_lines=False)"
   ]
  },
  {
   "cell_type": "code",
   "execution_count": 55,
   "id": "d53f547b",
   "metadata": {},
   "outputs": [
    {
     "name": "stdout",
     "output_type": "stream",
     "text": [
      "<class 'pandas.core.frame.DataFrame'>\n",
      "RangeIndex: 1596724 entries, 0 to 1596723\n",
      "Data columns (total 6 columns):\n",
      " #   Column              Non-Null Count    Dtype \n",
      "---  ------              --------------    ----- \n",
      " 0   create_time         1596724 non-null  object\n",
      " 1   create_date         1596724 non-null  object\n",
      " 2   user_phone_details  1596724 non-null  object\n",
      " 3   buyer_mobile_phone  1596724 non-null  object\n",
      " 4   user_id             1596724 non-null  object\n",
      " 5   url                 1596724 non-null  object\n",
      "dtypes: object(6)\n",
      "memory usage: 73.1+ MB\n"
     ]
    }
   ],
   "source": [
    "click.info()"
   ]
  },
  {
   "cell_type": "code",
   "execution_count": 57,
   "id": "9a3974e6",
   "metadata": {},
   "outputs": [
    {
     "data": {
      "text/html": [
       "<div>\n",
       "<style scoped>\n",
       "    .dataframe tbody tr th:only-of-type {\n",
       "        vertical-align: middle;\n",
       "    }\n",
       "\n",
       "    .dataframe tbody tr th {\n",
       "        vertical-align: top;\n",
       "    }\n",
       "\n",
       "    .dataframe thead th {\n",
       "        text-align: right;\n",
       "    }\n",
       "</style>\n",
       "<table border=\"1\" class=\"dataframe\">\n",
       "  <thead>\n",
       "    <tr style=\"text-align: right;\">\n",
       "      <th></th>\n",
       "      <th>create_time</th>\n",
       "      <th>create_date</th>\n",
       "      <th>user_phone_details</th>\n",
       "      <th>buyer_mobile_phone</th>\n",
       "      <th>user_id</th>\n",
       "      <th>url</th>\n",
       "    </tr>\n",
       "  </thead>\n",
       "  <tbody>\n",
       "    <tr>\n",
       "      <th>1547123</th>\n",
       "      <td>2021-11-17 08:59:25</td>\n",
       "      <td>2021-11-17</td>\n",
       "      <td>Android, 10 (SDK 29)</td>\n",
       "      <td>eda3d6e23342983cd184553f365883bd</td>\n",
       "      <td>9a84e1d1ef42dcb01d9f023f60547ad0</td>\n",
       "      <td>https://vmuzey.com/event/ekspozicii-gosudarstv...</td>\n",
       "    </tr>\n",
       "    <tr>\n",
       "      <th>1423463</th>\n",
       "      <td>2021-11-30 08:28:01</td>\n",
       "      <td>2021-11-30</td>\n",
       "      <td>iOS, iOS 14.8</td>\n",
       "      <td>f4c685f8d40e2237fe27ad51f63b45c5</td>\n",
       "      <td>2a0d3ceda5bc3a767b9c46360973e844</td>\n",
       "      <td>https://сеспель.рф/мероприятия/любовь-и-ненави...</td>\n",
       "    </tr>\n",
       "    <tr>\n",
       "      <th>1218842</th>\n",
       "      <td>2021-11-24 13:28:08</td>\n",
       "      <td>2021-11-24</td>\n",
       "      <td>Android, 9 (SDK 28)</td>\n",
       "      <td>c0868c34a2b3f9bb1ad4dd0465f47734</td>\n",
       "      <td>f6bddce72b872d2e5fdb925102b4d600</td>\n",
       "      <td>http://widget.smart-bilet.ru/sites/beta/event?...</td>\n",
       "    </tr>\n",
       "    <tr>\n",
       "      <th>840333</th>\n",
       "      <td>2021-11-23 08:13:27</td>\n",
       "      <td>2021-11-23</td>\n",
       "      <td>Android, 7.0 (SDK 24)</td>\n",
       "      <td>f68b8af507e337a6a7b98226ccc5ec1f</td>\n",
       "      <td>85a93bbf6b5529beb3eb5dcad58c4690</td>\n",
       "      <td>https://tver.kassy.ru/widget/40-1/event/40-691...</td>\n",
       "    </tr>\n",
       "    <tr>\n",
       "      <th>1250206</th>\n",
       "      <td>2021-11-24 15:51:19</td>\n",
       "      <td>2021-11-24</td>\n",
       "      <td>Android, 10 (SDK 29)</td>\n",
       "      <td>d737214e9df9569c5476503e6951ba34</td>\n",
       "      <td>ee8d032abfd0d9684c80e7d4cd7bc8c8</td>\n",
       "      <td>https://rnd.kassir.ru/koncert/rostovskaya-na-d...</td>\n",
       "    </tr>\n",
       "    <tr>\n",
       "      <th>415725</th>\n",
       "      <td>2021-11-03 05:57:46</td>\n",
       "      <td>2021-11-03</td>\n",
       "      <td>Android, 10 (SDK 29)</td>\n",
       "      <td>5fc77b558cbcea623b3d77e15428504a</td>\n",
       "      <td>608d3bf9f09a8307ed1b65e10a4fa4a5</td>\n",
       "      <td>https://ekb.kassir.ru/drugie/tanets-strasti-1#...</td>\n",
       "    </tr>\n",
       "    <tr>\n",
       "      <th>882927</th>\n",
       "      <td>2021-11-25 13:30:01</td>\n",
       "      <td>2021-11-25</td>\n",
       "      <td>Android, 10 (SDK 29)</td>\n",
       "      <td>37fb884c027d9336e0b684d039ec0e1a</td>\n",
       "      <td>65467765d1f73798cd143f7cf64325d6</td>\n",
       "      <td>https://www.tretyakovgallery.ru/tickets#/buy/e...</td>\n",
       "    </tr>\n",
       "  </tbody>\n",
       "</table>\n",
       "</div>"
      ],
      "text/plain": [
       "                 create_time create_date     user_phone_details  \\\n",
       "1547123  2021-11-17 08:59:25  2021-11-17   Android, 10 (SDK 29)   \n",
       "1423463  2021-11-30 08:28:01  2021-11-30          iOS, iOS 14.8   \n",
       "1218842  2021-11-24 13:28:08  2021-11-24    Android, 9 (SDK 28)   \n",
       "840333   2021-11-23 08:13:27  2021-11-23  Android, 7.0 (SDK 24)   \n",
       "1250206  2021-11-24 15:51:19  2021-11-24   Android, 10 (SDK 29)   \n",
       "415725   2021-11-03 05:57:46  2021-11-03   Android, 10 (SDK 29)   \n",
       "882927   2021-11-25 13:30:01  2021-11-25   Android, 10 (SDK 29)   \n",
       "\n",
       "                       buyer_mobile_phone                           user_id  \\\n",
       "1547123  eda3d6e23342983cd184553f365883bd  9a84e1d1ef42dcb01d9f023f60547ad0   \n",
       "1423463  f4c685f8d40e2237fe27ad51f63b45c5  2a0d3ceda5bc3a767b9c46360973e844   \n",
       "1218842  c0868c34a2b3f9bb1ad4dd0465f47734  f6bddce72b872d2e5fdb925102b4d600   \n",
       "840333   f68b8af507e337a6a7b98226ccc5ec1f  85a93bbf6b5529beb3eb5dcad58c4690   \n",
       "1250206  d737214e9df9569c5476503e6951ba34  ee8d032abfd0d9684c80e7d4cd7bc8c8   \n",
       "415725   5fc77b558cbcea623b3d77e15428504a  608d3bf9f09a8307ed1b65e10a4fa4a5   \n",
       "882927   37fb884c027d9336e0b684d039ec0e1a  65467765d1f73798cd143f7cf64325d6   \n",
       "\n",
       "                                                       url  \n",
       "1547123  https://vmuzey.com/event/ekspozicii-gosudarstv...  \n",
       "1423463  https://сеспель.рф/мероприятия/любовь-и-ненави...  \n",
       "1218842  http://widget.smart-bilet.ru/sites/beta/event?...  \n",
       "840333   https://tver.kassy.ru/widget/40-1/event/40-691...  \n",
       "1250206  https://rnd.kassir.ru/koncert/rostovskaya-na-d...  \n",
       "415725   https://ekb.kassir.ru/drugie/tanets-strasti-1#...  \n",
       "882927   https://www.tretyakovgallery.ru/tickets#/buy/e...  "
      ]
     },
     "execution_count": 57,
     "metadata": {},
     "output_type": "execute_result"
    }
   ],
   "source": [
    "click.sample(7)"
   ]
  },
  {
   "cell_type": "code",
   "execution_count": 58,
   "id": "d1bf7048",
   "metadata": {},
   "outputs": [],
   "source": [
    "with open(dir + \"region.txt\", \"r\", newline='', encoding='utf-8', errors = 'ignore') as in_file:\n",
    "    stripped = (line.strip() for line in in_file)\n",
    "    lines = (line.split(\";\") for line in stripped if line)\n",
    "    with open(dir + 'region.csv', 'w', encoding='utf-8', errors = 'ignore') as out_file:\n",
    "        writer = csv.writer(out_file, delimiter = ';')\n",
    "        writer.writerow(('user_id', 'region'))\n",
    "        writer.writerows(lines)"
   ]
  },
  {
   "cell_type": "code",
   "execution_count": 59,
   "id": "f14ebc63",
   "metadata": {},
   "outputs": [],
   "source": [
    "region = pd.read_csv(dir + 'region.csv', sep=';', error_bad_lines=False)"
   ]
  },
  {
   "cell_type": "code",
   "execution_count": 60,
   "id": "24115929",
   "metadata": {},
   "outputs": [
    {
     "name": "stdout",
     "output_type": "stream",
     "text": [
      "<class 'pandas.core.frame.DataFrame'>\n",
      "RangeIndex: 2231053 entries, 0 to 2231052\n",
      "Data columns (total 2 columns):\n",
      " #   Column   Dtype \n",
      "---  ------   ----- \n",
      " 0   user_id  object\n",
      " 1   region   object\n",
      "dtypes: object(2)\n",
      "memory usage: 34.0+ MB\n"
     ]
    }
   ],
   "source": [
    "region.info()"
   ]
  },
  {
   "cell_type": "code",
   "execution_count": 61,
   "id": "246d00cb",
   "metadata": {
    "scrolled": true
   },
   "outputs": [
    {
     "data": {
      "text/html": [
       "<div>\n",
       "<style scoped>\n",
       "    .dataframe tbody tr th:only-of-type {\n",
       "        vertical-align: middle;\n",
       "    }\n",
       "\n",
       "    .dataframe tbody tr th {\n",
       "        vertical-align: top;\n",
       "    }\n",
       "\n",
       "    .dataframe thead th {\n",
       "        text-align: right;\n",
       "    }\n",
       "</style>\n",
       "<table border=\"1\" class=\"dataframe\">\n",
       "  <thead>\n",
       "    <tr style=\"text-align: right;\">\n",
       "      <th></th>\n",
       "      <th>user_id</th>\n",
       "      <th>region</th>\n",
       "    </tr>\n",
       "  </thead>\n",
       "  <tbody>\n",
       "    <tr>\n",
       "      <th>1528862</th>\n",
       "      <td>51f05e5cb7f6cf20ab7df32eaaf518f5</td>\n",
       "      <td>Республика Башкортостан</td>\n",
       "    </tr>\n",
       "    <tr>\n",
       "      <th>2174530</th>\n",
       "      <td>f6f8f5616e24e81b0215f87c12d86425</td>\n",
       "      <td>Тамбовская область</td>\n",
       "    </tr>\n",
       "    <tr>\n",
       "      <th>372851</th>\n",
       "      <td>90347b325340320bfb725a55f8a8926f</td>\n",
       "      <td>Алтайский край</td>\n",
       "    </tr>\n",
       "    <tr>\n",
       "      <th>1465743</th>\n",
       "      <td>376266930f1e8b0c1c6be9de1045a025</td>\n",
       "      <td>Чувашская Республика</td>\n",
       "    </tr>\n",
       "    <tr>\n",
       "      <th>1366835</th>\n",
       "      <td>15271c8517c3e190b2936684beb38b7a</td>\n",
       "      <td>Ивановская область</td>\n",
       "    </tr>\n",
       "    <tr>\n",
       "      <th>142288</th>\n",
       "      <td>9b8691180caff55c7277b7e8ecef9b16</td>\n",
       "      <td>Республика Дагестан</td>\n",
       "    </tr>\n",
       "    <tr>\n",
       "      <th>1185470</th>\n",
       "      <td>bbaa8850e855cbf74bd86a827b8df084</td>\n",
       "      <td>Московская область</td>\n",
       "    </tr>\n",
       "  </tbody>\n",
       "</table>\n",
       "</div>"
      ],
      "text/plain": [
       "                                  user_id                   region\n",
       "1528862  51f05e5cb7f6cf20ab7df32eaaf518f5  Республика Башкортостан\n",
       "2174530  f6f8f5616e24e81b0215f87c12d86425       Тамбовская область\n",
       "372851   90347b325340320bfb725a55f8a8926f           Алтайский край\n",
       "1465743  376266930f1e8b0c1c6be9de1045a025     Чувашская Республика\n",
       "1366835  15271c8517c3e190b2936684beb38b7a       Ивановская область\n",
       "142288   9b8691180caff55c7277b7e8ecef9b16      Республика Дагестан\n",
       "1185470  bbaa8850e855cbf74bd86a827b8df084       Московская область"
      ]
     },
     "execution_count": 61,
     "metadata": {},
     "output_type": "execute_result"
    }
   ],
   "source": [
    "region.sample(7)"
   ]
  },
  {
   "cell_type": "code",
   "execution_count": 62,
   "id": "1fffe567",
   "metadata": {},
   "outputs": [],
   "source": [
    "with open(dir + \"uniq.txt\", \"r\", newline='', encoding='utf-8', errors = 'ignore') as in_file:\n",
    "    stripped = (line.strip() for line in in_file)\n",
    "    lines = (line.split(\";\") for line in stripped if line)\n",
    "    with open(dir + 'uniq.csv', 'w', encoding='utf-8', errors = 'ignore') as out_file:\n",
    "        writer = csv.writer(out_file, delimiter = ';')\n",
    "        writer.writerow(('create_date', 'user_phone_details', 'buyer_mobile_phone', 'user_id'))\n",
    "        writer.writerows(lines)"
   ]
  },
  {
   "cell_type": "code",
   "execution_count": 63,
   "id": "cbd05de1",
   "metadata": {},
   "outputs": [],
   "source": [
    "uniq = pd.read_csv(dir + 'uniq.csv', sep=';', error_bad_lines=False)"
   ]
  },
  {
   "cell_type": "code",
   "execution_count": 64,
   "id": "9bd04f7c",
   "metadata": {},
   "outputs": [
    {
     "name": "stdout",
     "output_type": "stream",
     "text": [
      "<class 'pandas.core.frame.DataFrame'>\n",
      "RangeIndex: 2686972 entries, 0 to 2686971\n",
      "Data columns (total 4 columns):\n",
      " #   Column              Dtype \n",
      "---  ------              ----- \n",
      " 0   create_date         object\n",
      " 1   user_phone_details  object\n",
      " 2   buyer_mobile_phone  object\n",
      " 3   user_id             object\n",
      "dtypes: object(4)\n",
      "memory usage: 82.0+ MB\n"
     ]
    }
   ],
   "source": [
    "uniq.info()"
   ]
  },
  {
   "cell_type": "code",
   "execution_count": 65,
   "id": "9b3630b0",
   "metadata": {},
   "outputs": [
    {
     "data": {
      "text/html": [
       "<div>\n",
       "<style scoped>\n",
       "    .dataframe tbody tr th:only-of-type {\n",
       "        vertical-align: middle;\n",
       "    }\n",
       "\n",
       "    .dataframe tbody tr th {\n",
       "        vertical-align: top;\n",
       "    }\n",
       "\n",
       "    .dataframe thead th {\n",
       "        text-align: right;\n",
       "    }\n",
       "</style>\n",
       "<table border=\"1\" class=\"dataframe\">\n",
       "  <thead>\n",
       "    <tr style=\"text-align: right;\">\n",
       "      <th></th>\n",
       "      <th>create_date</th>\n",
       "      <th>user_phone_details</th>\n",
       "      <th>buyer_mobile_phone</th>\n",
       "      <th>user_id</th>\n",
       "    </tr>\n",
       "  </thead>\n",
       "  <tbody>\n",
       "    <tr>\n",
       "      <th>118941</th>\n",
       "      <td>2021-11-02</td>\n",
       "      <td>iOS, iOS 15.0.2</td>\n",
       "      <td>10c357580875966bcc24af88908a7978</td>\n",
       "      <td>b942e9d68f3f0ebc436cab82866d13b8</td>\n",
       "    </tr>\n",
       "    <tr>\n",
       "      <th>2636793</th>\n",
       "      <td>2021-11-30</td>\n",
       "      <td>Android, 8.1.0 (SDK 27)</td>\n",
       "      <td>8348953a838fecb4e19390a50bb74c35</td>\n",
       "      <td>8ec489ce30fa20eb150ba9eb88817c58</td>\n",
       "    </tr>\n",
       "    <tr>\n",
       "      <th>505278</th>\n",
       "      <td>2021-11-09</td>\n",
       "      <td>Android, 10 (SDK 29)</td>\n",
       "      <td>a95cd4b5bfeb9b13c81bed9f0e9cbed2</td>\n",
       "      <td>c32b380a8d1c4ac20560977ae2367c08</td>\n",
       "    </tr>\n",
       "    <tr>\n",
       "      <th>1629746</th>\n",
       "      <td>2021-11-20</td>\n",
       "      <td>iOS, iOS 15.0.2</td>\n",
       "      <td>0b40195eeb106babaefa89478fa54680</td>\n",
       "      <td>662c6d3c8b13083a0ee9de1c768ed1d5</td>\n",
       "    </tr>\n",
       "    <tr>\n",
       "      <th>2459403</th>\n",
       "      <td>2021-11-29</td>\n",
       "      <td>Android, 10 (SDK 29)</td>\n",
       "      <td>dce789dce9b3cdd89550922d76b66691</td>\n",
       "      <td>b7f987f83f57480560efd8d4ccb52db8</td>\n",
       "    </tr>\n",
       "    <tr>\n",
       "      <th>2229704</th>\n",
       "      <td>2021-11-26</td>\n",
       "      <td>Android, 11 (SDK 30)</td>\n",
       "      <td>f90c3853d1b59a694276ae8a466a9b6f</td>\n",
       "      <td>513c72aa14d9cfc863a1d2139a4223f5</td>\n",
       "    </tr>\n",
       "    <tr>\n",
       "      <th>1946509</th>\n",
       "      <td>2021-11-23</td>\n",
       "      <td>iOS, iOS 15.1</td>\n",
       "      <td>63348ec80df3d07ff9e1df8f9651ffc7</td>\n",
       "      <td>c07d6c1c068c69f178ca903cd55746fa</td>\n",
       "    </tr>\n",
       "  </tbody>\n",
       "</table>\n",
       "</div>"
      ],
      "text/plain": [
       "        create_date       user_phone_details  \\\n",
       "118941   2021-11-02          iOS, iOS 15.0.2   \n",
       "2636793  2021-11-30  Android, 8.1.0 (SDK 27)   \n",
       "505278   2021-11-09     Android, 10 (SDK 29)   \n",
       "1629746  2021-11-20          iOS, iOS 15.0.2   \n",
       "2459403  2021-11-29     Android, 10 (SDK 29)   \n",
       "2229704  2021-11-26     Android, 11 (SDK 30)   \n",
       "1946509  2021-11-23            iOS, iOS 15.1   \n",
       "\n",
       "                       buyer_mobile_phone                           user_id  \n",
       "118941   10c357580875966bcc24af88908a7978  b942e9d68f3f0ebc436cab82866d13b8  \n",
       "2636793  8348953a838fecb4e19390a50bb74c35  8ec489ce30fa20eb150ba9eb88817c58  \n",
       "505278   a95cd4b5bfeb9b13c81bed9f0e9cbed2  c32b380a8d1c4ac20560977ae2367c08  \n",
       "1629746  0b40195eeb106babaefa89478fa54680  662c6d3c8b13083a0ee9de1c768ed1d5  \n",
       "2459403  dce789dce9b3cdd89550922d76b66691  b7f987f83f57480560efd8d4ccb52db8  \n",
       "2229704  f90c3853d1b59a694276ae8a466a9b6f  513c72aa14d9cfc863a1d2139a4223f5  \n",
       "1946509  63348ec80df3d07ff9e1df8f9651ffc7  c07d6c1c068c69f178ca903cd55746fa  "
      ]
     },
     "execution_count": 65,
     "metadata": {},
     "output_type": "execute_result"
    }
   ],
   "source": [
    "uniq.sample(7)"
   ]
  },
  {
   "cell_type": "code",
   "execution_count": 66,
   "id": "71a8eb60",
   "metadata": {},
   "outputs": [],
   "source": [
    "with open(dir + \"users.txt\", \"r\", newline='', encoding='utf-8', errors = 'ignore') as in_file:\n",
    "    stripped = (line.strip() for line in in_file)\n",
    "    lines = (line.split(\";\") for line in stripped if line)\n",
    "    with open(dir + 'users.csv', 'w', encoding='utf-8', errors = 'ignore') as out_file:\n",
    "        writer = csv.writer(out_file, delimiter = ';')\n",
    "        writer.writerow(('create_date', 'user_id', 'user_birth'))\n",
    "        writer.writerows(lines)"
   ]
  },
  {
   "cell_type": "code",
   "execution_count": 67,
   "id": "4ec7ab6b",
   "metadata": {},
   "outputs": [
    {
     "name": "stderr",
     "output_type": "stream",
     "text": [
      "C:\\Users\\Rusla\\anaconda3\\lib\\site-packages\\IPython\\core\\interactiveshell.py:3169: DtypeWarning: Columns (0) have mixed types.Specify dtype option on import or set low_memory=False.\n",
      "  has_raised = await self.run_ast_nodes(code_ast.body, cell_name,\n"
     ]
    }
   ],
   "source": [
    "users = pd.read_csv(dir + 'users.csv', sep=';', error_bad_lines=False)"
   ]
  },
  {
   "cell_type": "code",
   "execution_count": 68,
   "id": "66e36f20",
   "metadata": {},
   "outputs": [
    {
     "name": "stdout",
     "output_type": "stream",
     "text": [
      "<class 'pandas.core.frame.DataFrame'>\n",
      "RangeIndex: 2879682 entries, 0 to 2879681\n",
      "Data columns (total 3 columns):\n",
      " #   Column       Dtype \n",
      "---  ------       ----- \n",
      " 0   create_date  object\n",
      " 1   user_id      object\n",
      " 2   user_birth   object\n",
      "dtypes: object(3)\n",
      "memory usage: 65.9+ MB\n"
     ]
    }
   ],
   "source": [
    "users.info()"
   ]
  },
  {
   "cell_type": "code",
   "execution_count": 69,
   "id": "a8278098",
   "metadata": {
    "scrolled": false
   },
   "outputs": [
    {
     "data": {
      "text/html": [
       "<div>\n",
       "<style scoped>\n",
       "    .dataframe tbody tr th:only-of-type {\n",
       "        vertical-align: middle;\n",
       "    }\n",
       "\n",
       "    .dataframe tbody tr th {\n",
       "        vertical-align: top;\n",
       "    }\n",
       "\n",
       "    .dataframe thead th {\n",
       "        text-align: right;\n",
       "    }\n",
       "</style>\n",
       "<table border=\"1\" class=\"dataframe\">\n",
       "  <thead>\n",
       "    <tr style=\"text-align: right;\">\n",
       "      <th></th>\n",
       "      <th>create_date</th>\n",
       "      <th>user_id</th>\n",
       "      <th>user_birth</th>\n",
       "    </tr>\n",
       "  </thead>\n",
       "  <tbody>\n",
       "    <tr>\n",
       "      <th>2413614</th>\n",
       "      <td>1630576606</td>\n",
       "      <td>77f7cc6221dab763bd39ba3c162b6379</td>\n",
       "      <td>2002-10-24</td>\n",
       "    </tr>\n",
       "    <tr>\n",
       "      <th>1683189</th>\n",
       "      <td>1635330259</td>\n",
       "      <td>d80dec57acb7b8b41b693442fc7fb952</td>\n",
       "      <td>2003-09-17</td>\n",
       "    </tr>\n",
       "    <tr>\n",
       "      <th>1781485</th>\n",
       "      <td>1630549110</td>\n",
       "      <td>ab469e40b313571053240b93a926d7d5</td>\n",
       "      <td>2000-12-19</td>\n",
       "    </tr>\n",
       "    <tr>\n",
       "      <th>1802072</th>\n",
       "      <td>1630910057</td>\n",
       "      <td>4e13ceafa54505358f2d872c0ac06305</td>\n",
       "      <td>2002-04-05</td>\n",
       "    </tr>\n",
       "    <tr>\n",
       "      <th>2526854</th>\n",
       "      <td>1630609270</td>\n",
       "      <td>54d4aa9a3e3de54d40c91c6e4e5c00ef</td>\n",
       "      <td>2007-02-25</td>\n",
       "    </tr>\n",
       "    <tr>\n",
       "      <th>1548632</th>\n",
       "      <td>1634390607</td>\n",
       "      <td>d15711d47e9da7449a487c1203543f5f</td>\n",
       "      <td>2001-04-30</td>\n",
       "    </tr>\n",
       "    <tr>\n",
       "      <th>2044021</th>\n",
       "      <td>1630674730</td>\n",
       "      <td>4ba5a1e132bec8b2915b0070d7fd9f8d</td>\n",
       "      <td>2000-02-10</td>\n",
       "    </tr>\n",
       "  </tbody>\n",
       "</table>\n",
       "</div>"
      ],
      "text/plain": [
       "        create_date                           user_id  user_birth\n",
       "2413614  1630576606  77f7cc6221dab763bd39ba3c162b6379  2002-10-24\n",
       "1683189  1635330259  d80dec57acb7b8b41b693442fc7fb952  2003-09-17\n",
       "1781485  1630549110  ab469e40b313571053240b93a926d7d5  2000-12-19\n",
       "1802072  1630910057  4e13ceafa54505358f2d872c0ac06305  2002-04-05\n",
       "2526854  1630609270  54d4aa9a3e3de54d40c91c6e4e5c00ef  2007-02-25\n",
       "1548632  1634390607  d15711d47e9da7449a487c1203543f5f  2001-04-30\n",
       "2044021  1630674730  4ba5a1e132bec8b2915b0070d7fd9f8d  2000-02-10"
      ]
     },
     "execution_count": 69,
     "metadata": {},
     "output_type": "execute_result"
    }
   ],
   "source": [
    "users.sample(7)"
   ]
  },
  {
   "cell_type": "code",
   "execution_count": 71,
   "id": "32227ba0",
   "metadata": {},
   "outputs": [
    {
     "name": "stdout",
     "output_type": "stream",
     "text": [
      "{'encoding': 'utf-8', 'confidence': 0.99, 'language': ''}\n"
     ]
    }
   ],
   "source": [
    "from chardet.universaldetector import UniversalDetector\n",
    "detector = UniversalDetector()\n",
    "with open(dir + \"tickets2.json\", 'rb') as fh:\n",
    "    for line in fh:\n",
    "        detector.feed(line)\n",
    "        if detector.done:\n",
    "            break\n",
    "    detector.close()\n",
    "print(detector.result)"
   ]
  },
  {
   "cell_type": "code",
   "execution_count": 72,
   "id": "a1c7da88",
   "metadata": {},
   "outputs": [],
   "source": [
    "import json \n",
    "expl = [json.loads(line) for line in open(dir + 'tickets2.json', 'r', encoding='utf-8', errors = 'ignore')]"
   ]
  },
  {
   "cell_type": "code",
   "execution_count": 73,
   "id": "59edf0aa",
   "metadata": {},
   "outputs": [],
   "source": [
    "tickets = pd.DataFrame(expl)"
   ]
  },
  {
   "cell_type": "code",
   "execution_count": 74,
   "id": "ba44244e",
   "metadata": {},
   "outputs": [
    {
     "name": "stdout",
     "output_type": "stream",
     "text": [
      "<class 'pandas.core.frame.DataFrame'>\n",
      "RangeIndex: 854291 entries, 0 to 854290\n",
      "Data columns (total 17 columns):\n",
      " #   Column                   Non-Null Count   Dtype  \n",
      "---  ------                   --------------   -----  \n",
      " 0   payment_date             854291 non-null  int64  \n",
      " 1   comment                  854291 non-null  object \n",
      " 2   session_event_id         854291 non-null  object \n",
      " 3   session_date             854291 non-null  int64  \n",
      " 4   session_params           854291 non-null  object \n",
      " 5   owner                    854291 non-null  object \n",
      " 6   refund_date              25115 non-null   float64\n",
      " 7   buyer_mobile_phone       854291 non-null  object \n",
      " 8   refund_reason            25115 non-null   object \n",
      " 9   payment_amount           854291 non-null  object \n",
      " 10  visitor_first_name       854291 non-null  object \n",
      " 11  refund_ticket_price      24407 non-null   object \n",
      " 12  create_date              854291 non-null  int64  \n",
      " 13  status                   854291 non-null  object \n",
      " 14  payment_ticket_price     854291 non-null  object \n",
      " 15  session_organization_id  854291 non-null  object \n",
      " 16  visit_date               393830 non-null  float64\n",
      "dtypes: float64(2), int64(3), object(12)\n",
      "memory usage: 110.8+ MB\n"
     ]
    }
   ],
   "source": [
    "tickets.info()"
   ]
  },
  {
   "cell_type": "code",
   "execution_count": 75,
   "id": "c18c00dd",
   "metadata": {
    "scrolled": true
   },
   "outputs": [
    {
     "data": {
      "text/html": [
       "<div>\n",
       "<style scoped>\n",
       "    .dataframe tbody tr th:only-of-type {\n",
       "        vertical-align: middle;\n",
       "    }\n",
       "\n",
       "    .dataframe tbody tr th {\n",
       "        vertical-align: top;\n",
       "    }\n",
       "\n",
       "    .dataframe thead th {\n",
       "        text-align: right;\n",
       "    }\n",
       "</style>\n",
       "<table border=\"1\" class=\"dataframe\">\n",
       "  <thead>\n",
       "    <tr style=\"text-align: right;\">\n",
       "      <th></th>\n",
       "      <th>payment_date</th>\n",
       "      <th>comment</th>\n",
       "      <th>session_event_id</th>\n",
       "      <th>session_date</th>\n",
       "      <th>session_params</th>\n",
       "      <th>owner</th>\n",
       "      <th>refund_date</th>\n",
       "      <th>buyer_mobile_phone</th>\n",
       "      <th>refund_reason</th>\n",
       "      <th>payment_amount</th>\n",
       "      <th>visitor_first_name</th>\n",
       "      <th>refund_ticket_price</th>\n",
       "      <th>create_date</th>\n",
       "      <th>status</th>\n",
       "      <th>payment_ticket_price</th>\n",
       "      <th>session_organization_id</th>\n",
       "      <th>visit_date</th>\n",
       "    </tr>\n",
       "  </thead>\n",
       "  <tbody>\n",
       "    <tr>\n",
       "      <th>640719</th>\n",
       "      <td>1637784676</td>\n",
       "      <td></td>\n",
       "      <td>1309020</td>\n",
       "      <td>1638020700</td>\n",
       "      <td></td>\n",
       "      <td>7810099978</td>\n",
       "      <td>NaN</td>\n",
       "      <td>1a38c208e9a5b7ea52a039f67684187e</td>\n",
       "      <td>None</td>\n",
       "      <td>300</td>\n",
       "      <td></td>\n",
       "      <td>None</td>\n",
       "      <td>1637784692614660917</td>\n",
       "      <td>visited</td>\n",
       "      <td>300</td>\n",
       "      <td>2217</td>\n",
       "      <td>1.638022e+09</td>\n",
       "    </tr>\n",
       "    <tr>\n",
       "      <th>350836</th>\n",
       "      <td>1637220671</td>\n",
       "      <td></td>\n",
       "      <td>1408019</td>\n",
       "      <td>1638190800</td>\n",
       "      <td>Основная сцена, Партер, Ряд 18 Место 20</td>\n",
       "      <td>7453098727</td>\n",
       "      <td>NaN</td>\n",
       "      <td>f017b03ca912b53a3e35bb9aa8dbfdf6</td>\n",
       "      <td>None</td>\n",
       "      <td>2100.00</td>\n",
       "      <td>А</td>\n",
       "      <td>None</td>\n",
       "      <td>1637220752219364875</td>\n",
       "      <td>active</td>\n",
       "      <td>2100.00</td>\n",
       "      <td>28940</td>\n",
       "      <td>NaN</td>\n",
       "    </tr>\n",
       "    <tr>\n",
       "      <th>771013</th>\n",
       "      <td>1637953921000</td>\n",
       "      <td></td>\n",
       "      <td>1450969</td>\n",
       "      <td>1638025200000</td>\n",
       "      <td>Новгородский академический театр драмы им. Ф. ...</td>\n",
       "      <td>9705121040</td>\n",
       "      <td>NaN</td>\n",
       "      <td>f06be04f3c307cb7bf74e426e9b0483f</td>\n",
       "      <td>None</td>\n",
       "      <td>RUB 416.00</td>\n",
       "      <td>Ольга</td>\n",
       "      <td>None</td>\n",
       "      <td>1637953964896346334</td>\n",
       "      <td>visited</td>\n",
       "      <td>RUB 400.00</td>\n",
       "      <td></td>\n",
       "      <td>1.638024e+12</td>\n",
       "    </tr>\n",
       "    <tr>\n",
       "      <th>506321</th>\n",
       "      <td>1635230733</td>\n",
       "      <td></td>\n",
       "      <td>1240642</td>\n",
       "      <td>1638273600</td>\n",
       "      <td></td>\n",
       "      <td>5406014684</td>\n",
       "      <td>NaN</td>\n",
       "      <td>92e7c75dfdd3feaf333cc1a08dcac26b</td>\n",
       "      <td>None</td>\n",
       "      <td>1000</td>\n",
       "      <td></td>\n",
       "      <td>None</td>\n",
       "      <td>1635231031397106177</td>\n",
       "      <td>visited</td>\n",
       "      <td>1000</td>\n",
       "      <td>5295</td>\n",
       "      <td>1.638272e+09</td>\n",
       "    </tr>\n",
       "    <tr>\n",
       "      <th>494229</th>\n",
       "      <td>1637223691</td>\n",
       "      <td></td>\n",
       "      <td>1245646</td>\n",
       "      <td>1632762000</td>\n",
       "      <td></td>\n",
       "      <td>7814779935</td>\n",
       "      <td>NaN</td>\n",
       "      <td>3bc11d0a6529428c6b8a9b05253870cc</td>\n",
       "      <td>None</td>\n",
       "      <td>200.00</td>\n",
       "      <td>Дарья</td>\n",
       "      <td>None</td>\n",
       "      <td>1637223692354722493</td>\n",
       "      <td>visited</td>\n",
       "      <td></td>\n",
       "      <td>4083</td>\n",
       "      <td>1.637312e+09</td>\n",
       "    </tr>\n",
       "    <tr>\n",
       "      <th>717219</th>\n",
       "      <td>1638025765</td>\n",
       "      <td></td>\n",
       "      <td>3765</td>\n",
       "      <td>1638027000</td>\n",
       "      <td>Третьяковская Галерея, Лаврушинский пер., 10, ...</td>\n",
       "      <td>7714836675</td>\n",
       "      <td>NaN</td>\n",
       "      <td>fe7dbb04c5663a8c3697f8ab14113313</td>\n",
       "      <td>None</td>\n",
       "      <td>500</td>\n",
       "      <td></td>\n",
       "      <td>None</td>\n",
       "      <td>1638027084995221426</td>\n",
       "      <td>visited</td>\n",
       "      <td>500</td>\n",
       "      <td>1860</td>\n",
       "      <td>1.638027e+09</td>\n",
       "    </tr>\n",
       "    <tr>\n",
       "      <th>552473</th>\n",
       "      <td>1632593978</td>\n",
       "      <td></td>\n",
       "      <td>1247482</td>\n",
       "      <td>1636626600</td>\n",
       "      <td>сектор:Партер,ряд:9,место:8</td>\n",
       "      <td>7720312951</td>\n",
       "      <td>NaN</td>\n",
       "      <td>da9a07eb20fc6227448145812019597b</td>\n",
       "      <td>None</td>\n",
       "      <td>298</td>\n",
       "      <td></td>\n",
       "      <td>None</td>\n",
       "      <td>1632593978873436272</td>\n",
       "      <td>visited</td>\n",
       "      <td>350</td>\n",
       "      <td>9471</td>\n",
       "      <td>1.636626e+09</td>\n",
       "    </tr>\n",
       "  </tbody>\n",
       "</table>\n",
       "</div>"
      ],
      "text/plain": [
       "         payment_date comment session_event_id   session_date  \\\n",
       "640719     1637784676                  1309020     1638020700   \n",
       "350836     1637220671                  1408019     1638190800   \n",
       "771013  1637953921000                  1450969  1638025200000   \n",
       "506321     1635230733                  1240642     1638273600   \n",
       "494229     1637223691                  1245646     1632762000   \n",
       "717219     1638025765                     3765     1638027000   \n",
       "552473     1632593978                  1247482     1636626600   \n",
       "\n",
       "                                           session_params       owner  \\\n",
       "640719                                                     7810099978   \n",
       "350836            Основная сцена, Партер, Ряд 18 Место 20  7453098727   \n",
       "771013  Новгородский академический театр драмы им. Ф. ...  9705121040   \n",
       "506321                                                     5406014684   \n",
       "494229                                                     7814779935   \n",
       "717219  Третьяковская Галерея, Лаврушинский пер., 10, ...  7714836675   \n",
       "552473                        сектор:Партер,ряд:9,место:8  7720312951   \n",
       "\n",
       "        refund_date                buyer_mobile_phone refund_reason  \\\n",
       "640719          NaN  1a38c208e9a5b7ea52a039f67684187e          None   \n",
       "350836          NaN  f017b03ca912b53a3e35bb9aa8dbfdf6          None   \n",
       "771013          NaN  f06be04f3c307cb7bf74e426e9b0483f          None   \n",
       "506321          NaN  92e7c75dfdd3feaf333cc1a08dcac26b          None   \n",
       "494229          NaN  3bc11d0a6529428c6b8a9b05253870cc          None   \n",
       "717219          NaN  fe7dbb04c5663a8c3697f8ab14113313          None   \n",
       "552473          NaN  da9a07eb20fc6227448145812019597b          None   \n",
       "\n",
       "       payment_amount visitor_first_name refund_ticket_price  \\\n",
       "640719            300                                   None   \n",
       "350836        2100.00                  А                None   \n",
       "771013     RUB 416.00              Ольга                None   \n",
       "506321           1000                                   None   \n",
       "494229         200.00              Дарья                None   \n",
       "717219            500                                   None   \n",
       "552473            298                                   None   \n",
       "\n",
       "                create_date   status payment_ticket_price  \\\n",
       "640719  1637784692614660917  visited                  300   \n",
       "350836  1637220752219364875   active              2100.00   \n",
       "771013  1637953964896346334  visited           RUB 400.00   \n",
       "506321  1635231031397106177  visited                 1000   \n",
       "494229  1637223692354722493  visited                        \n",
       "717219  1638027084995221426  visited                  500   \n",
       "552473  1632593978873436272  visited                  350   \n",
       "\n",
       "       session_organization_id    visit_date  \n",
       "640719                    2217  1.638022e+09  \n",
       "350836                   28940           NaN  \n",
       "771013                          1.638024e+12  \n",
       "506321                    5295  1.638272e+09  \n",
       "494229                    4083  1.637312e+09  \n",
       "717219                    1860  1.638027e+09  \n",
       "552473                    9471  1.636626e+09  "
      ]
     },
     "execution_count": 75,
     "metadata": {},
     "output_type": "execute_result"
    }
   ],
   "source": [
    "tickets.sample(7)"
   ]
  },
  {
   "cell_type": "code",
   "execution_count": 76,
   "id": "5d09395e",
   "metadata": {},
   "outputs": [
    {
     "data": {
      "text/plain": [
       "active      435719\n",
       "visited     393532\n",
       "refunded     25040\n",
       "Name: status, dtype: int64"
      ]
     },
     "execution_count": 76,
     "metadata": {},
     "output_type": "execute_result"
    }
   ],
   "source": [
    "tickets['status'].value_counts()"
   ]
  }
 ],
 "metadata": {
  "kernelspec": {
   "display_name": "Python 3 (ipykernel)",
   "language": "python",
   "name": "python3"
  },
  "language_info": {
   "codemirror_mode": {
    "name": "ipython",
    "version": 3
   },
   "file_extension": ".py",
   "mimetype": "text/x-python",
   "name": "python",
   "nbconvert_exporter": "python",
   "pygments_lexer": "ipython3",
   "version": "3.8.11"
  }
 },
 "nbformat": 4,
 "nbformat_minor": 5
}
