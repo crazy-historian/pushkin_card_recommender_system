{
 "cells": [
  {
   "cell_type": "code",
   "execution_count": 2,
   "id": "d4d457e3",
   "metadata": {},
   "outputs": [
    {
     "name": "stdout",
     "output_type": "stream",
     "text": [
      "Overwriting cliks_add.py\n"
     ]
    }
   ],
   "source": [
    "%%writefile cliks_add.py\n",
    "\n",
    "import pandas as pd\n",
    "import numpy as np\n",
    "import math\n",
    "import re\n",
    "\n",
    "path = 'C:/Users/Rusla/Documents/GitHub/Пушкинская карта - стажировка/Sample/'\n",
    "path2 = 'C:/Users/Rusla/Documents/GitHub/Пушкинская карта - стажировка/Sample/events/'\n",
    "\n",
    "click = pd.read_csv(path + 'click.csv', sep=';', error_bad_lines=False)\n",
    "events_pushka_accepted_30122021 = pd.read_csv(path2 + 'events_pushka_accepted_30122021.csv'\n",
    "                                              , sep = ',', error_bad_lines=False)\n",
    "\n",
    "events_pushka_accepted_30122021 = events_pushka_accepted_30122021[events_pushka_accepted_30122021[\n",
    "    'entity.saleLink'].notna() == True]\n",
    "\n",
    "events_pushka_accepted_30122021['event_identity'] = events_pushka_accepted_30122021['entity.name'\n",
    "                                                                                     ].apply(lambda x:\n",
    "                                                                                            x.split()[0].strip())\n",
    "\n",
    "events_pushka_accepted_30122021 = events_pushka_accepted_30122021.rename(columns= {'entity.saleLink': 'url',\n",
    "                                                                                  'entity._id': 'event_id',\n",
    "                                                                                  'entity.name': 'event_name',\n",
    "                                                                                  'entity.additionalSaleLinks.0': 'additional_url',\n",
    "                                                                                  'entity.organization._id': 'organization_id',\n",
    "                                                                                  'entity.organization.name': 'organization_name'}) \n",
    "\n",
    "events_pushka_accepted_30122021 = events_pushka_accepted_30122021.astype({\"organization_id\": \"object\",\n",
    "                                                                         'session_id': 'object'})\n",
    "\n",
    "cliks_add = pd.merge(click, events_pushka_accepted_30122021, how = 'left', on = 'url')\n",
    "\n",
    "organizations = pd.read_csv(path2 + 'organizations.csv', sep = ';', error_bad_lines=False)\n",
    "\n",
    "organizations = organizations[organizations['ИНН'].notna()]\n",
    "\n",
    "organizations['Org_region_number'] = organizations['ИНН'].apply(lambda x:\n",
    "                                                               int(str(x)[:2]) \n",
    "                                                                if len(str(x)) == 12\n",
    "                                                               else int(str(x)[:1]))\n",
    "\n",
    "organizations = organizations.rename(\n",
    "    columns= {'ID': 'organization_id','Категория': 'org_category'}) \n",
    "\n",
    "cliks_add = pd.merge(cliks_add, organizations[['organization_id', 'Org_region_number', 'org_category']],\n",
    "                     how = 'left', on = 'organization_id')\n",
    "\n",
    "users = pd.read_csv(path + 'users_full.csv', sep=';', error_bad_lines=False)\n",
    "\n",
    "cliks_add = pd.merge(cliks_add, users[['user_id', 'age', 'user_region']],\n",
    "                     how = 'left', on = 'user_id')\n",
    "\n",
    "cliks_add.drop(['additional_url'],axis = 1, inplace = True)\n",
    "\n",
    "cliks_add['user_phone_details_id'] = cliks_add['user_phone_details'].apply(lambda x: \n",
    "                                                                          re.sub('(\\..*)', '', x.replace('iOS ', '')) \n",
    "                                                                           if 'iOS' in x \n",
    "                                                                           else re.sub('\\ \\(.*', '', x))\n",
    "\n",
    "cliks_add['user_phone_details_id'] = cliks_add['user_phone_details_id'].apply(lambda x: \n",
    "                                                                          re.sub('(\\..*)', '', x) \n",
    "                                                                           if 'Android' in x\n",
    "                                                                          else x)\n",
    "\n",
    "cliks_add.drop(labels = [0],axis = 0, inplace = True)\n",
    "\n",
    "cliks_add['user_phone_details_id_2'] = cliks_add['user_phone_details_id'].apply(lambda x: \n",
    "                                                                          x.replace('iOS,', '2').split()[0]+x.split()[1]\n",
    "                                                                           if 'iOS' in x \n",
    "                                                                           else x.replace('Android,', '1').split()[0]+x.split()[1])\n",
    "\n",
    "cliks_add.to_csv(path + 'cliks_add.csv', sep=';', index=False)"
   ]
  },
  {
   "cell_type": "code",
   "execution_count": null,
   "id": "f3530775",
   "metadata": {},
   "outputs": [],
   "source": []
  }
 ],
 "metadata": {
  "kernelspec": {
   "display_name": "Python 3 (ipykernel)",
   "language": "python",
   "name": "python3"
  },
  "language_info": {
   "codemirror_mode": {
    "name": "ipython",
    "version": 3
   },
   "file_extension": ".py",
   "mimetype": "text/x-python",
   "name": "python",
   "nbconvert_exporter": "python",
   "pygments_lexer": "ipython3",
   "version": "3.8.11"
  }
 },
 "nbformat": 4,
 "nbformat_minor": 5
}
