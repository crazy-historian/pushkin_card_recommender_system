{
 "cells": [
  {
   "cell_type": "code",
   "execution_count": 38,
   "id": "75d6bfb8",
   "metadata": {},
   "outputs": [],
   "source": [
    "import pandas as pd\n",
    "import numpy as np\n",
    "from datetime import datetime\n",
    "from datetime import timedelta"
   ]
  },
  {
   "cell_type": "code",
   "execution_count": 39,
   "id": "1362c9a6",
   "metadata": {},
   "outputs": [],
   "source": [
    "dir = 'C:/Users/Rusla/Documents/GitHub/Пушкинская карта - стажировка/Sample/'\n",
    "dir2 = 'C:/Users/Rusla/Documents/GitHub/Пушкинская карта - стажировка/Sample/events/'"
   ]
  },
  {
   "cell_type": "code",
   "execution_count": 40,
   "id": "0bad9795",
   "metadata": {},
   "outputs": [],
   "source": [
    "organizations = pd.read_csv(dir2 + 'organizations.csv', sep = ';', error_bad_lines=False)"
   ]
  },
  {
   "cell_type": "code",
   "execution_count": 41,
   "id": "ddd2b468",
   "metadata": {},
   "outputs": [
    {
     "name": "stdout",
     "output_type": "stream",
     "text": [
      "<class 'pandas.core.frame.DataFrame'>\n",
      "RangeIndex: 3270 entries, 0 to 3269\n",
      "Data columns (total 5 columns):\n",
      " #   Column      Non-Null Count  Dtype  \n",
      "---  ------      --------------  -----  \n",
      " 0   ID          3270 non-null   int64  \n",
      " 1   Учреждение  3270 non-null   object \n",
      " 2   Адрес       3270 non-null   object \n",
      " 3   ИНН         3260 non-null   float64\n",
      " 4   Категория   3232 non-null   object \n",
      "dtypes: float64(1), int64(1), object(3)\n",
      "memory usage: 127.9+ KB\n"
     ]
    }
   ],
   "source": [
    "organizations.info()"
   ]
  },
  {
   "cell_type": "code",
   "execution_count": 42,
   "id": "f6d86d25",
   "metadata": {},
   "outputs": [],
   "source": [
    "organizations.dropna(subset = ['ИНН'], inplace = True)"
   ]
  },
  {
   "cell_type": "code",
   "execution_count": 43,
   "id": "e37f5900",
   "metadata": {},
   "outputs": [],
   "source": [
    "organizations2 = pd.read_excel(dir + 'Организации.xlsx', engine='openpyxl')"
   ]
  },
  {
   "cell_type": "code",
   "execution_count": 44,
   "id": "71f4e228",
   "metadata": {},
   "outputs": [
    {
     "name": "stdout",
     "output_type": "stream",
     "text": [
      "<class 'pandas.core.frame.DataFrame'>\n",
      "RangeIndex: 98021 entries, 0 to 98020\n",
      "Data columns (total 10 columns):\n",
      " #   Column               Non-Null Count  Dtype  \n",
      "---  ------               --------------  -----  \n",
      " 0   ИД                   98021 non-null  int64  \n",
      " 1   Полное наименование  95667 non-null  object \n",
      " 2   ИНН                  47729 non-null  object \n",
      " 3   Федеральный округ    98021 non-null  object \n",
      " 4   Субъект РФ           98021 non-null  object \n",
      " 5   Район/округ          94870 non-null  object \n",
      " 6   Вид организации      98021 non-null  object \n",
      " 7   Тип организации      94542 non-null  object \n",
      " 8   Широта               96196 non-null  float64\n",
      " 9   Долгота              96156 non-null  float64\n",
      "dtypes: float64(2), int64(1), object(7)\n",
      "memory usage: 7.5+ MB\n"
     ]
    }
   ],
   "source": [
    "organizations2.info()"
   ]
  },
  {
   "cell_type": "code",
   "execution_count": 45,
   "id": "98ed4e7d",
   "metadata": {},
   "outputs": [],
   "source": [
    "organizations2.dropna(inplace = True)"
   ]
  },
  {
   "cell_type": "code",
   "execution_count": 46,
   "id": "6abbdbe6",
   "metadata": {},
   "outputs": [
    {
     "name": "stdout",
     "output_type": "stream",
     "text": [
      "<class 'pandas.core.frame.DataFrame'>\n",
      "Int64Index: 45860 entries, 0 to 97901\n",
      "Data columns (total 10 columns):\n",
      " #   Column               Non-Null Count  Dtype  \n",
      "---  ------               --------------  -----  \n",
      " 0   ИД                   45860 non-null  int64  \n",
      " 1   Полное наименование  45860 non-null  object \n",
      " 2   ИНН                  45860 non-null  object \n",
      " 3   Федеральный округ    45860 non-null  object \n",
      " 4   Субъект РФ           45860 non-null  object \n",
      " 5   Район/округ          45860 non-null  object \n",
      " 6   Вид организации      45860 non-null  object \n",
      " 7   Тип организации      45860 non-null  object \n",
      " 8   Широта               45860 non-null  float64\n",
      " 9   Долгота              45860 non-null  float64\n",
      "dtypes: float64(2), int64(1), object(7)\n",
      "memory usage: 3.8+ MB\n"
     ]
    }
   ],
   "source": [
    "organizations2.info()"
   ]
  },
  {
   "cell_type": "code",
   "execution_count": 47,
   "id": "6b67a76d",
   "metadata": {},
   "outputs": [],
   "source": [
    "organizations['ИНН'] = organizations['ИНН'].apply(lambda x: str(int(x)))\n",
    "organizations2['ИНН'] = organizations2['ИНН'].apply(lambda x: x.replace(' ', ''))\n",
    "organizations2['ИНН'] = organizations2['ИНН'].apply(lambda x: str(int(x)))"
   ]
  },
  {
   "cell_type": "code",
   "execution_count": 48,
   "id": "aa74e75d",
   "metadata": {},
   "outputs": [],
   "source": [
    "org1 = list(organizations['ИНН'].unique())\n",
    "org2 = list(organizations2['ИНН'].unique())"
   ]
  },
  {
   "cell_type": "code",
   "execution_count": 49,
   "id": "1889ee6c",
   "metadata": {},
   "outputs": [
    {
     "name": "stdout",
     "output_type": "stream",
     "text": [
      "3260\n",
      "20774\n"
     ]
    }
   ],
   "source": [
    "print(len(org1))\n",
    "print(len(org2))"
   ]
  },
  {
   "cell_type": "code",
   "execution_count": 50,
   "id": "f451543d",
   "metadata": {},
   "outputs": [],
   "source": [
    "result_2=list(set(org1) & set(org2))"
   ]
  },
  {
   "cell_type": "code",
   "execution_count": 51,
   "id": "ffbc7c05",
   "metadata": {},
   "outputs": [
    {
     "data": {
      "text/plain": [
       "2181"
      ]
     },
     "execution_count": 51,
     "metadata": {},
     "output_type": "execute_result"
    }
   ],
   "source": [
    "len(result_2)"
   ]
  },
  {
   "cell_type": "code",
   "execution_count": 52,
   "id": "d33ecd81",
   "metadata": {},
   "outputs": [
    {
     "data": {
      "text/plain": [
       "201012447     103\n",
       "271008765      81\n",
       "260008523      81\n",
       "218003507      78\n",
       "6645002843     75\n",
       "             ... \n",
       "2623002578      1\n",
       "1434029043      1\n",
       "1110003101      1\n",
       "5426102402      1\n",
       "4501018020      1\n",
       "Name: ИНН, Length: 20774, dtype: int64"
      ]
     },
     "execution_count": 52,
     "metadata": {},
     "output_type": "execute_result"
    }
   ],
   "source": [
    "organizations2['ИНН'].value_counts()"
   ]
  },
  {
   "cell_type": "code",
   "execution_count": 53,
   "id": "6bfeb1f8",
   "metadata": {},
   "outputs": [
    {
     "data": {
      "text/html": [
       "<div>\n",
       "<style scoped>\n",
       "    .dataframe tbody tr th:only-of-type {\n",
       "        vertical-align: middle;\n",
       "    }\n",
       "\n",
       "    .dataframe tbody tr th {\n",
       "        vertical-align: top;\n",
       "    }\n",
       "\n",
       "    .dataframe thead th {\n",
       "        text-align: right;\n",
       "    }\n",
       "</style>\n",
       "<table border=\"1\" class=\"dataframe\">\n",
       "  <thead>\n",
       "    <tr style=\"text-align: right;\">\n",
       "      <th></th>\n",
       "      <th>ИД</th>\n",
       "      <th>Полное наименование</th>\n",
       "      <th>ИНН</th>\n",
       "      <th>Федеральный округ</th>\n",
       "      <th>Субъект РФ</th>\n",
       "      <th>Район/округ</th>\n",
       "      <th>Вид организации</th>\n",
       "      <th>Тип организации</th>\n",
       "      <th>Широта</th>\n",
       "      <th>Долгота</th>\n",
       "    </tr>\n",
       "  </thead>\n",
       "  <tbody>\n",
       "    <tr>\n",
       "      <th>873</th>\n",
       "      <td>48623</td>\n",
       "      <td>Районный Дом культуры -структурное подразделен...</td>\n",
       "      <td>201012447</td>\n",
       "      <td>( 5 ) Приволжский федеральный округ</td>\n",
       "      <td>( 030 ) Респ. Башкортостан</td>\n",
       "      <td>район Абзелиловский</td>\n",
       "      <td>( 16 ) КДУ</td>\n",
       "      <td>( 12 ) Дворец культуры</td>\n",
       "      <td>53.340206</td>\n",
       "      <td>58.507113</td>\n",
       "    </tr>\n",
       "    <tr>\n",
       "      <th>892</th>\n",
       "      <td>48775</td>\n",
       "      <td>Целинный сельский Д ом культуры филиал муницип...</td>\n",
       "      <td>201012447</td>\n",
       "      <td>( 5 ) Приволжский федеральный округ</td>\n",
       "      <td>( 030 ) Респ. Башкортостан</td>\n",
       "      <td>район Абзелиловский</td>\n",
       "      <td>( 16 ) КДУ</td>\n",
       "      <td>( 13 ) Дом культуры</td>\n",
       "      <td>53.022453</td>\n",
       "      <td>58.734476</td>\n",
       "    </tr>\n",
       "    <tr>\n",
       "      <th>930</th>\n",
       "      <td>49123</td>\n",
       "      <td>Амангильдинский сельский Дом культуры  муницип...</td>\n",
       "      <td>201012447</td>\n",
       "      <td>( 5 ) Приволжский федеральный округ</td>\n",
       "      <td>( 030 ) Респ. Башкортостан</td>\n",
       "      <td>район Абзелиловский</td>\n",
       "      <td>( 16 ) КДУ</td>\n",
       "      <td>( 13 ) Дом культуры</td>\n",
       "      <td>53.351899</td>\n",
       "      <td>58.316682</td>\n",
       "    </tr>\n",
       "    <tr>\n",
       "      <th>948</th>\n",
       "      <td>49255</td>\n",
       "      <td>Бурангуловский филиал муниципального автономно...</td>\n",
       "      <td>201012447</td>\n",
       "      <td>( 5 ) Приволжский федеральный округ</td>\n",
       "      <td>( 030 ) Респ. Башкортостан</td>\n",
       "      <td>район Абзелиловский</td>\n",
       "      <td>( 16 ) КДУ</td>\n",
       "      <td>( 13 ) Дом культуры</td>\n",
       "      <td>53.472209</td>\n",
       "      <td>58.346477</td>\n",
       "    </tr>\n",
       "    <tr>\n",
       "      <th>993</th>\n",
       "      <td>49189</td>\n",
       "      <td>Баимовский филиал муниципального автономного у...</td>\n",
       "      <td>201012447</td>\n",
       "      <td>( 5 ) Приволжский федеральный округ</td>\n",
       "      <td>( 030 ) Респ. Башкортостан</td>\n",
       "      <td>район Абзелиловский</td>\n",
       "      <td>( 16 ) КДУ</td>\n",
       "      <td>( 13 ) Дом культуры</td>\n",
       "      <td>53.731560</td>\n",
       "      <td>58.844040</td>\n",
       "    </tr>\n",
       "    <tr>\n",
       "      <th>...</th>\n",
       "      <td>...</td>\n",
       "      <td>...</td>\n",
       "      <td>...</td>\n",
       "      <td>...</td>\n",
       "      <td>...</td>\n",
       "      <td>...</td>\n",
       "      <td>...</td>\n",
       "      <td>...</td>\n",
       "      <td>...</td>\n",
       "      <td>...</td>\n",
       "    </tr>\n",
       "    <tr>\n",
       "      <th>3941</th>\n",
       "      <td>58330</td>\n",
       "      <td>Абдульмамбетовская сельская библиотека  муници...</td>\n",
       "      <td>201012447</td>\n",
       "      <td>( 5 ) Приволжский федеральный округ</td>\n",
       "      <td>( 030 ) Респ. Башкортостан</td>\n",
       "      <td>район Абзелиловский</td>\n",
       "      <td>( 22 ) Библиотеки</td>\n",
       "      <td>( 04 ) Общедоступная библиотека</td>\n",
       "      <td>53.115835</td>\n",
       "      <td>58.552088</td>\n",
       "    </tr>\n",
       "    <tr>\n",
       "      <th>3982</th>\n",
       "      <td>58194</td>\n",
       "      <td>Уральская сельская библиотека  муниципального ...</td>\n",
       "      <td>201012447</td>\n",
       "      <td>( 5 ) Приволжский федеральный округ</td>\n",
       "      <td>( 030 ) Респ. Башкортостан</td>\n",
       "      <td>район Абзелиловский</td>\n",
       "      <td>( 22 ) Библиотеки</td>\n",
       "      <td>( 04 ) Общедоступная библиотека</td>\n",
       "      <td>53.023436</td>\n",
       "      <td>58.731225</td>\n",
       "    </tr>\n",
       "    <tr>\n",
       "      <th>3984</th>\n",
       "      <td>58279</td>\n",
       "      <td>Халиловская сельская библиотека  муниципальног...</td>\n",
       "      <td>201012447</td>\n",
       "      <td>( 5 ) Приволжский федеральный округ</td>\n",
       "      <td>( 030 ) Респ. Башкортостан</td>\n",
       "      <td>район Абзелиловский</td>\n",
       "      <td>( 22 ) Библиотеки</td>\n",
       "      <td>( 04 ) Общедоступная библиотека</td>\n",
       "      <td>53.050900</td>\n",
       "      <td>58.568760</td>\n",
       "    </tr>\n",
       "    <tr>\n",
       "      <th>4450</th>\n",
       "      <td>73008</td>\n",
       "      <td>Библиотека ст. Альмухаметово  муниципального б...</td>\n",
       "      <td>201012447</td>\n",
       "      <td>( 5 ) Приволжский федеральный округ</td>\n",
       "      <td>( 030 ) Респ. Башкортостан</td>\n",
       "      <td>район Абзелиловский</td>\n",
       "      <td>( 22 ) Библиотеки</td>\n",
       "      <td>( 04 ) Общедоступная библиотека</td>\n",
       "      <td>53.013301</td>\n",
       "      <td>58.768463</td>\n",
       "    </tr>\n",
       "    <tr>\n",
       "      <th>4464</th>\n",
       "      <td>105587</td>\n",
       "      <td>Новобалапановская сельская библиотека  муницип...</td>\n",
       "      <td>201012447</td>\n",
       "      <td>( 5 ) Приволжский федеральный округ</td>\n",
       "      <td>( 030 ) Респ. Башкортостан</td>\n",
       "      <td>район Абзелиловский</td>\n",
       "      <td>( 22 ) Библиотеки</td>\n",
       "      <td>( 04 ) Общедоступная библиотека</td>\n",
       "      <td>53.744695</td>\n",
       "      <td>58.751302</td>\n",
       "    </tr>\n",
       "  </tbody>\n",
       "</table>\n",
       "<p>103 rows × 10 columns</p>\n",
       "</div>"
      ],
      "text/plain": [
       "          ИД                                Полное наименование        ИНН  \\\n",
       "873    48623  Районный Дом культуры -структурное подразделен...  201012447   \n",
       "892    48775  Целинный сельский Д ом культуры филиал муницип...  201012447   \n",
       "930    49123  Амангильдинский сельский Дом культуры  муницип...  201012447   \n",
       "948    49255  Бурангуловский филиал муниципального автономно...  201012447   \n",
       "993    49189  Баимовский филиал муниципального автономного у...  201012447   \n",
       "...      ...                                                ...        ...   \n",
       "3941   58330  Абдульмамбетовская сельская библиотека  муници...  201012447   \n",
       "3982   58194  Уральская сельская библиотека  муниципального ...  201012447   \n",
       "3984   58279  Халиловская сельская библиотека  муниципальног...  201012447   \n",
       "4450   73008  Библиотека ст. Альмухаметово  муниципального б...  201012447   \n",
       "4464  105587  Новобалапановская сельская библиотека  муницип...  201012447   \n",
       "\n",
       "                        Федеральный округ                  Субъект РФ  \\\n",
       "873   ( 5 ) Приволжский федеральный округ  ( 030 ) Респ. Башкортостан   \n",
       "892   ( 5 ) Приволжский федеральный округ  ( 030 ) Респ. Башкортостан   \n",
       "930   ( 5 ) Приволжский федеральный округ  ( 030 ) Респ. Башкортостан   \n",
       "948   ( 5 ) Приволжский федеральный округ  ( 030 ) Респ. Башкортостан   \n",
       "993   ( 5 ) Приволжский федеральный округ  ( 030 ) Респ. Башкортостан   \n",
       "...                                   ...                         ...   \n",
       "3941  ( 5 ) Приволжский федеральный округ  ( 030 ) Респ. Башкортостан   \n",
       "3982  ( 5 ) Приволжский федеральный округ  ( 030 ) Респ. Башкортостан   \n",
       "3984  ( 5 ) Приволжский федеральный округ  ( 030 ) Респ. Башкортостан   \n",
       "4450  ( 5 ) Приволжский федеральный округ  ( 030 ) Респ. Башкортостан   \n",
       "4464  ( 5 ) Приволжский федеральный округ  ( 030 ) Респ. Башкортостан   \n",
       "\n",
       "              Район/округ    Вид организации                  Тип организации  \\\n",
       "873   район Абзелиловский         ( 16 ) КДУ           ( 12 ) Дворец культуры   \n",
       "892   район Абзелиловский         ( 16 ) КДУ              ( 13 ) Дом культуры   \n",
       "930   район Абзелиловский         ( 16 ) КДУ              ( 13 ) Дом культуры   \n",
       "948   район Абзелиловский         ( 16 ) КДУ              ( 13 ) Дом культуры   \n",
       "993   район Абзелиловский         ( 16 ) КДУ              ( 13 ) Дом культуры   \n",
       "...                   ...                ...                              ...   \n",
       "3941  район Абзелиловский  ( 22 ) Библиотеки  ( 04 ) Общедоступная библиотека   \n",
       "3982  район Абзелиловский  ( 22 ) Библиотеки  ( 04 ) Общедоступная библиотека   \n",
       "3984  район Абзелиловский  ( 22 ) Библиотеки  ( 04 ) Общедоступная библиотека   \n",
       "4450  район Абзелиловский  ( 22 ) Библиотеки  ( 04 ) Общедоступная библиотека   \n",
       "4464  район Абзелиловский  ( 22 ) Библиотеки  ( 04 ) Общедоступная библиотека   \n",
       "\n",
       "         Широта    Долгота  \n",
       "873   53.340206  58.507113  \n",
       "892   53.022453  58.734476  \n",
       "930   53.351899  58.316682  \n",
       "948   53.472209  58.346477  \n",
       "993   53.731560  58.844040  \n",
       "...         ...        ...  \n",
       "3941  53.115835  58.552088  \n",
       "3982  53.023436  58.731225  \n",
       "3984  53.050900  58.568760  \n",
       "4450  53.013301  58.768463  \n",
       "4464  53.744695  58.751302  \n",
       "\n",
       "[103 rows x 10 columns]"
      ]
     },
     "execution_count": 53,
     "metadata": {},
     "output_type": "execute_result"
    }
   ],
   "source": [
    "organizations2[organizations2['ИНН'] == '201012447']"
   ]
  },
  {
   "cell_type": "code",
   "execution_count": null,
   "id": "d4d457e3",
   "metadata": {},
   "outputs": [],
   "source": []
  }
 ],
 "metadata": {
  "kernelspec": {
   "display_name": "Python 3 (ipykernel)",
   "language": "python",
   "name": "python3"
  },
  "language_info": {
   "codemirror_mode": {
    "name": "ipython",
    "version": 3
   },
   "file_extension": ".py",
   "mimetype": "text/x-python",
   "name": "python",
   "nbconvert_exporter": "python",
   "pygments_lexer": "ipython3",
   "version": "3.8.11"
  }
 },
 "nbformat": 4,
 "nbformat_minor": 5
}
