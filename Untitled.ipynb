{
 "cells": [
  {
   "cell_type": "code",
   "execution_count": 20,
   "id": "d0dbbf48",
   "metadata": {},
   "outputs": [],
   "source": [
    "import pandas as pd\n",
    "import numpy as np\n",
    "import math"
   ]
  },
  {
   "cell_type": "code",
   "execution_count": 21,
   "id": "e6a4963e",
   "metadata": {},
   "outputs": [],
   "source": [
    "path = 'C:/Users/Rusla/Documents/GitHub/Пушкинская карта - стажировка/Sample/'"
   ]
  },
  {
   "cell_type": "code",
   "execution_count": 22,
   "id": "4e7503dc",
   "metadata": {},
   "outputs": [
    {
     "name": "stderr",
     "output_type": "stream",
     "text": [
      "b'Skipping line 862995: expected 6 fields, saw 7\\nSkipping line 862997: expected 6 fields, saw 7\\n'\n",
      "b'Skipping line 2142333: expected 6 fields, saw 7\\nSkipping line 2142335: expected 6 fields, saw 7\\n'\n",
      "b'Skipping line 2844195: expected 6 fields, saw 7\\n'\n",
      "b'Skipping line 3074159: expected 6 fields, saw 7\\n'\n"
     ]
    }
   ],
   "source": [
    "click = pd.read_csv(path + 'click.csv', sep=';', error_bad_lines=False)"
   ]
  },
  {
   "cell_type": "code",
   "execution_count": 23,
   "id": "53d83c5b",
   "metadata": {},
   "outputs": [],
   "source": [
    "path2 = 'C:/Users/Rusla/Documents/GitHub/Пушкинская карта - стажировка/Sample/events/'"
   ]
  },
  {
   "cell_type": "code",
   "execution_count": 24,
   "id": "d1920fcd",
   "metadata": {},
   "outputs": [],
   "source": [
    "events_pushka_accepted_30122021 = pd.read_csv(path2 + 'events_pushka_accepted_30122021.csv', sep = ',', error_bad_lines=False)"
   ]
  },
  {
   "cell_type": "code",
   "execution_count": 25,
   "id": "5c2aafba",
   "metadata": {},
   "outputs": [
    {
     "data": {
      "text/html": [
       "<div>\n",
       "<style scoped>\n",
       "    .dataframe tbody tr th:only-of-type {\n",
       "        vertical-align: middle;\n",
       "    }\n",
       "\n",
       "    .dataframe tbody tr th {\n",
       "        vertical-align: top;\n",
       "    }\n",
       "\n",
       "    .dataframe thead th {\n",
       "        text-align: right;\n",
       "    }\n",
       "</style>\n",
       "<table border=\"1\" class=\"dataframe\">\n",
       "  <thead>\n",
       "    <tr style=\"text-align: right;\">\n",
       "      <th></th>\n",
       "      <th>create_time</th>\n",
       "      <th>create_date</th>\n",
       "      <th>user_phone_details</th>\n",
       "      <th>buyer_mobile_phone</th>\n",
       "      <th>user_id</th>\n",
       "      <th>url</th>\n",
       "    </tr>\n",
       "  </thead>\n",
       "  <tbody>\n",
       "    <tr>\n",
       "      <th>240210</th>\n",
       "      <td>2021-11-25 06:49:21</td>\n",
       "      <td>2021-11-25</td>\n",
       "      <td>Android, 11 (SDK 30)</td>\n",
       "      <td>275e0395bbef3493f99975266163826e</td>\n",
       "      <td>695c875966a5dc0578bb42aadb47137c</td>\n",
       "      <td>https://saransk.kassir.ru/koncert/myi-vyibirae...</td>\n",
       "    </tr>\n",
       "    <tr>\n",
       "      <th>1440609</th>\n",
       "      <td>2021-11-30 10:16:40</td>\n",
       "      <td>2021-11-30</td>\n",
       "      <td>Android, 10 (SDK 29)</td>\n",
       "      <td>c78b17db03cdce7c04d169deb5972e31</td>\n",
       "      <td>b7f315d48365a9b6bfc8021c1c3498d3</td>\n",
       "      <td>https://ch-ansamble21.ru/?event=%d0%ba%d0%be%d...</td>\n",
       "    </tr>\n",
       "    <tr>\n",
       "      <th>1367407</th>\n",
       "      <td>2021-11-10 09:42:15</td>\n",
       "      <td>2021-11-10</td>\n",
       "      <td>iOS, iOS 14.8</td>\n",
       "      <td>1f768440f50aef6139f87e80f2a9f7c6</td>\n",
       "      <td>0bbf3578355a6fe468feeb66d8750aa6</td>\n",
       "      <td>https://radario.ru/widgets/mobile/970607</td>\n",
       "    </tr>\n",
       "  </tbody>\n",
       "</table>\n",
       "</div>"
      ],
      "text/plain": [
       "                 create_time create_date    user_phone_details  \\\n",
       "240210   2021-11-25 06:49:21  2021-11-25  Android, 11 (SDK 30)   \n",
       "1440609  2021-11-30 10:16:40  2021-11-30  Android, 10 (SDK 29)   \n",
       "1367407  2021-11-10 09:42:15  2021-11-10         iOS, iOS 14.8   \n",
       "\n",
       "                       buyer_mobile_phone                           user_id  \\\n",
       "240210   275e0395bbef3493f99975266163826e  695c875966a5dc0578bb42aadb47137c   \n",
       "1440609  c78b17db03cdce7c04d169deb5972e31  b7f315d48365a9b6bfc8021c1c3498d3   \n",
       "1367407  1f768440f50aef6139f87e80f2a9f7c6  0bbf3578355a6fe468feeb66d8750aa6   \n",
       "\n",
       "                                                       url  \n",
       "240210   https://saransk.kassir.ru/koncert/myi-vyibirae...  \n",
       "1440609  https://ch-ansamble21.ru/?event=%d0%ba%d0%be%d...  \n",
       "1367407           https://radario.ru/widgets/mobile/970607  "
      ]
     },
     "execution_count": 25,
     "metadata": {},
     "output_type": "execute_result"
    }
   ],
   "source": [
    "click.sample(3)"
   ]
  },
  {
   "cell_type": "code",
   "execution_count": 26,
   "id": "e3baf59f",
   "metadata": {},
   "outputs": [
    {
     "data": {
      "text/html": [
       "<div>\n",
       "<style scoped>\n",
       "    .dataframe tbody tr th:only-of-type {\n",
       "        vertical-align: middle;\n",
       "    }\n",
       "\n",
       "    .dataframe tbody tr th {\n",
       "        vertical-align: top;\n",
       "    }\n",
       "\n",
       "    .dataframe thead th {\n",
       "        text-align: right;\n",
       "    }\n",
       "</style>\n",
       "<table border=\"1\" class=\"dataframe\">\n",
       "  <thead>\n",
       "    <tr style=\"text-align: right;\">\n",
       "      <th></th>\n",
       "      <th>entity._id</th>\n",
       "      <th>entity.name</th>\n",
       "      <th>entity.saleLink</th>\n",
       "      <th>entity.additionalSaleLinks.0</th>\n",
       "      <th>entity.organization._id</th>\n",
       "      <th>entity.organization.name</th>\n",
       "    </tr>\n",
       "  </thead>\n",
       "  <tbody>\n",
       "    <tr>\n",
       "      <th>33930</th>\n",
       "      <td>1349389</td>\n",
       "      <td>Тематический час ко Дню пожилого человека</td>\n",
       "      <td>https://iframeab-pre5547.intickets.ru/seance/1...</td>\n",
       "      <td>NaN</td>\n",
       "      <td>27419.0</td>\n",
       "      <td>МБУ «Сабинская ЦСКС» Районный дом культуры</td>\n",
       "    </tr>\n",
       "    <tr>\n",
       "      <th>45385</th>\n",
       "      <td>1473273</td>\n",
       "      <td>Программа «Следствие ведет Дед Мороз»</td>\n",
       "      <td>https://afisha.ckz-kkx.ru/event.php?id=133&amp;id_...</td>\n",
       "      <td>https://afisha.ckz-kkx.ru/event.php?id=134&amp;id_...</td>\n",
       "      <td>7337.0</td>\n",
       "      <td>ГБНТУК КК «Кубанский казачий хор»</td>\n",
       "    </tr>\n",
       "    <tr>\n",
       "      <th>5985</th>\n",
       "      <td>942456</td>\n",
       "      <td>Спектакль «Умка ищет Новый год»</td>\n",
       "      <td>https://sevtyuz.ru/playbill/plays/show/umka-is...</td>\n",
       "      <td>NaN</td>\n",
       "      <td>9605.0</td>\n",
       "      <td>ГБУК г. Севастополя «Севастопольский театр юно...</td>\n",
       "    </tr>\n",
       "  </tbody>\n",
       "</table>\n",
       "</div>"
      ],
      "text/plain": [
       "       entity._id                                entity.name  \\\n",
       "33930     1349389  Тематический час ко Дню пожилого человека   \n",
       "45385     1473273      Программа «Следствие ведет Дед Мороз»   \n",
       "5985       942456            Спектакль «Умка ищет Новый год»   \n",
       "\n",
       "                                         entity.saleLink  \\\n",
       "33930  https://iframeab-pre5547.intickets.ru/seance/1...   \n",
       "45385  https://afisha.ckz-kkx.ru/event.php?id=133&id_...   \n",
       "5985   https://sevtyuz.ru/playbill/plays/show/umka-is...   \n",
       "\n",
       "                            entity.additionalSaleLinks.0  \\\n",
       "33930                                                NaN   \n",
       "45385  https://afisha.ckz-kkx.ru/event.php?id=134&id_...   \n",
       "5985                                                 NaN   \n",
       "\n",
       "       entity.organization._id  \\\n",
       "33930                  27419.0   \n",
       "45385                   7337.0   \n",
       "5985                    9605.0   \n",
       "\n",
       "                                entity.organization.name  \n",
       "33930         МБУ «Сабинская ЦСКС» Районный дом культуры  \n",
       "45385                  ГБНТУК КК «Кубанский казачий хор»  \n",
       "5985   ГБУК г. Севастополя «Севастопольский театр юно...  "
      ]
     },
     "execution_count": 26,
     "metadata": {},
     "output_type": "execute_result"
    }
   ],
   "source": [
    "events_pushka_accepted_30122021.sample(3)"
   ]
  },
  {
   "cell_type": "code",
   "execution_count": 27,
   "id": "b4dadb66",
   "metadata": {},
   "outputs": [
    {
     "data": {
      "text/plain": [
       "'https://kostromakoncert.ru/shows/664-DANCE-CRUISE'"
      ]
     },
     "execution_count": 27,
     "metadata": {},
     "output_type": "execute_result"
    }
   ],
   "source": [
    "events[events['ID'] == 1557978]['Ссылка на покупку билета'].values[0]"
   ]
  },
  {
   "cell_type": "code",
   "execution_count": 28,
   "id": "4e922b5b",
   "metadata": {},
   "outputs": [],
   "source": [
    "events_links = events_pushka_accepted_30122021['entity.saleLink'].unique()"
   ]
  },
  {
   "cell_type": "code",
   "execution_count": 29,
   "id": "b501915d",
   "metadata": {},
   "outputs": [],
   "source": [
    "click_links = click['url'].unique()"
   ]
  },
  {
   "cell_type": "code",
   "execution_count": 30,
   "id": "39fc3180",
   "metadata": {},
   "outputs": [],
   "source": [
    "equal_links = []\n",
    "\n",
    "for i in click_links:\n",
    "    for j in events_links:\n",
    "        if i == j:\n",
    "            equal_links.append(i)"
   ]
  },
  {
   "cell_type": "code",
   "execution_count": 32,
   "id": "d10086ab",
   "metadata": {},
   "outputs": [
    {
     "data": {
      "text/plain": [
       "19572"
      ]
     },
     "execution_count": 32,
     "metadata": {},
     "output_type": "execute_result"
    }
   ],
   "source": [
    "len(equal_links)"
   ]
  },
  {
   "cell_type": "code",
   "execution_count": 33,
   "id": "cc12d8fa",
   "metadata": {},
   "outputs": [
    {
     "data": {
      "text/plain": [
       "19924"
      ]
     },
     "execution_count": 33,
     "metadata": {},
     "output_type": "execute_result"
    }
   ],
   "source": [
    "click['url'].nunique()"
   ]
  },
  {
   "cell_type": "code",
   "execution_count": null,
   "id": "78e79821",
   "metadata": {},
   "outputs": [],
   "source": []
  }
 ],
 "metadata": {
  "kernelspec": {
   "display_name": "Python 3 (ipykernel)",
   "language": "python",
   "name": "python3"
  },
  "language_info": {
   "codemirror_mode": {
    "name": "ipython",
    "version": 3
   },
   "file_extension": ".py",
   "mimetype": "text/x-python",
   "name": "python",
   "nbconvert_exporter": "python",
   "pygments_lexer": "ipython3",
   "version": "3.8.11"
  }
 },
 "nbformat": 4,
 "nbformat_minor": 5
}
