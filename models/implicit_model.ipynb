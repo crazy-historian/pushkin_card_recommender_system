{
 "cells": [
  {
   "cell_type": "code",
   "execution_count": 2,
   "metadata": {
    "collapsed": true
   },
   "outputs": [],
   "source": [
    "import implicit\n",
    "import numpy as np\n",
    "import pandas as pd\n",
    "import surprise as srp\n",
    "import scipy.sparse as sparse\n",
    "import data_management as dm\n",
    "\n",
    "from implicit.nearest_neighbours import bm25_weight\n",
    "from implicit.datasets.lastfm import get_lastfm"
   ]
  },
  {
   "cell_type": "markdown",
   "source": [
    "## Загрузка данных"
   ],
   "metadata": {
    "collapsed": false,
    "pycharm": {
     "name": "#%% md\n"
    }
   }
  },
  {
   "cell_type": "code",
   "execution_count": 3,
   "outputs": [
    {
     "data": {
      "text/plain": "                                 user_id  event_id  \\\n0       00001deaca68c3e7a9943ad6d29d1a95   1205186   \n1       00001deaca68c3e7a9943ad6d29d1a95   1237397   \n2       00001deaca68c3e7a9943ad6d29d1a95   1264968   \n3       00002fa07c02629bf0dc022a6c0283d1    476106   \n4       000061466abdfa67ca963ae752fa937d    185644   \n...                                  ...       ...   \n630584  ffff5daad033e2b9b57593627d9b1a9b   1189248   \n630585  ffff5daad033e2b9b57593627d9b1a9b   1390909   \n630586  ffff5daad033e2b9b57593627d9b1a9b   1423074   \n630587  ffff63c5a29c432e2ca2fb4aa968d7ba   1292376   \n630588  ffffd698c2166fcf938a69c74cab84ed     13441   \n\n                                               event_name  clicks_count  \n0                               Концерт оркестра UralBand             2  \n1       Выставка «Антика. Западноевропейское искусство...             1  \n2       Выставка «От романтизма к импрессионизму. Фран...             1  \n3                            Выставка «Искусство ХХ века»             1  \n4                               Мюзикл «Снежная королева»             1  \n...                                                   ...           ...  \n630584                         Выставка «91 день счастья»             2  \n630585                  Музыкальная программа The Beatles             2  \n630586  Ночь искусств в Волгоградском музее изобразите...             1  \n630587                        Посещение Павловского парка             1  \n630588                           Спектакль «Дядюшкин сон»             1  \n\n[630589 rows x 4 columns]",
      "text/html": "<div>\n<style scoped>\n    .dataframe tbody tr th:only-of-type {\n        vertical-align: middle;\n    }\n\n    .dataframe tbody tr th {\n        vertical-align: top;\n    }\n\n    .dataframe thead th {\n        text-align: right;\n    }\n</style>\n<table border=\"1\" class=\"dataframe\">\n  <thead>\n    <tr style=\"text-align: right;\">\n      <th></th>\n      <th>user_id</th>\n      <th>event_id</th>\n      <th>event_name</th>\n      <th>clicks_count</th>\n    </tr>\n  </thead>\n  <tbody>\n    <tr>\n      <th>0</th>\n      <td>00001deaca68c3e7a9943ad6d29d1a95</td>\n      <td>1205186</td>\n      <td>Концерт оркестра UralBand</td>\n      <td>2</td>\n    </tr>\n    <tr>\n      <th>1</th>\n      <td>00001deaca68c3e7a9943ad6d29d1a95</td>\n      <td>1237397</td>\n      <td>Выставка «Антика. Западноевропейское искусство...</td>\n      <td>1</td>\n    </tr>\n    <tr>\n      <th>2</th>\n      <td>00001deaca68c3e7a9943ad6d29d1a95</td>\n      <td>1264968</td>\n      <td>Выставка «От романтизма к импрессионизму. Фран...</td>\n      <td>1</td>\n    </tr>\n    <tr>\n      <th>3</th>\n      <td>00002fa07c02629bf0dc022a6c0283d1</td>\n      <td>476106</td>\n      <td>Выставка «Искусство ХХ века»</td>\n      <td>1</td>\n    </tr>\n    <tr>\n      <th>4</th>\n      <td>000061466abdfa67ca963ae752fa937d</td>\n      <td>185644</td>\n      <td>Мюзикл «Снежная королева»</td>\n      <td>1</td>\n    </tr>\n    <tr>\n      <th>...</th>\n      <td>...</td>\n      <td>...</td>\n      <td>...</td>\n      <td>...</td>\n    </tr>\n    <tr>\n      <th>630584</th>\n      <td>ffff5daad033e2b9b57593627d9b1a9b</td>\n      <td>1189248</td>\n      <td>Выставка «91 день счастья»</td>\n      <td>2</td>\n    </tr>\n    <tr>\n      <th>630585</th>\n      <td>ffff5daad033e2b9b57593627d9b1a9b</td>\n      <td>1390909</td>\n      <td>Музыкальная программа The Beatles</td>\n      <td>2</td>\n    </tr>\n    <tr>\n      <th>630586</th>\n      <td>ffff5daad033e2b9b57593627d9b1a9b</td>\n      <td>1423074</td>\n      <td>Ночь искусств в Волгоградском музее изобразите...</td>\n      <td>1</td>\n    </tr>\n    <tr>\n      <th>630587</th>\n      <td>ffff63c5a29c432e2ca2fb4aa968d7ba</td>\n      <td>1292376</td>\n      <td>Посещение Павловского парка</td>\n      <td>1</td>\n    </tr>\n    <tr>\n      <th>630588</th>\n      <td>ffffd698c2166fcf938a69c74cab84ed</td>\n      <td>13441</td>\n      <td>Спектакль «Дядюшкин сон»</td>\n      <td>1</td>\n    </tr>\n  </tbody>\n</table>\n<p>630589 rows × 4 columns</p>\n</div>"
     },
     "execution_count": 3,
     "metadata": {},
     "output_type": "execute_result"
    }
   ],
   "source": [
    "user_event_df = dm.get_user_event_dataframe(\n",
    "    user_event_file_path='../dataset/cliks_add.csv'\n",
    ")\n",
    "user_event_df"
   ],
   "metadata": {
    "collapsed": false,
    "pycharm": {
     "name": "#%%\n"
    }
   }
  },
  {
   "cell_type": "code",
   "execution_count": 4,
   "outputs": [
    {
     "data": {
      "text/plain": "                                  user_id  \\\n0        9af020ef757c476c64fbdf0b71781dfe   \n1        06d589eba089ca6bcb984d32c5399cc5   \n2        2816bd3aabf33fbc25c82678571b0e81   \n3        f6fcc2dadfeb783308bd102ddcbc1412   \n4        e0b3e50d8d9f467470a8aa2b42899841   \n...                                   ...   \n2231047  6e8f4dc75245926306665942fd1173b2   \n2231048  c925794714279efbdbe2e5cba0de7b28   \n2231049  18cf6bb59c25e9c6493f89780348b622   \n2231050  ec8d3c862c1383c63f8adbca559bf86c   \n2231051  313b97882f8a38e1554543773dc92e16   \n\n                                           region  region_code   age  \n0                                 Республика Коми           11  22.0  \n1                                   Пермский край           59  22.0  \n2                              Краснодарский край           23  23.0  \n3                             Саратовская область           64  17.0  \n4                                          Москва           77  21.0  \n...                                           ...          ...   ...  \n2231047  Ханты-Мансийский автономный округ – Югра           86  14.0  \n2231048                                    Москва           77  19.0  \n2231049  Ханты-Мансийский автономный округ – Югра           86  18.0  \n2231050                        Ростовская область           61  20.0  \n2231051                      Свердловская область           66  18.0  \n\n[2184602 rows x 4 columns]",
      "text/html": "<div>\n<style scoped>\n    .dataframe tbody tr th:only-of-type {\n        vertical-align: middle;\n    }\n\n    .dataframe tbody tr th {\n        vertical-align: top;\n    }\n\n    .dataframe thead th {\n        text-align: right;\n    }\n</style>\n<table border=\"1\" class=\"dataframe\">\n  <thead>\n    <tr style=\"text-align: right;\">\n      <th></th>\n      <th>user_id</th>\n      <th>region</th>\n      <th>region_code</th>\n      <th>age</th>\n    </tr>\n  </thead>\n  <tbody>\n    <tr>\n      <th>0</th>\n      <td>9af020ef757c476c64fbdf0b71781dfe</td>\n      <td>Республика Коми</td>\n      <td>11</td>\n      <td>22.0</td>\n    </tr>\n    <tr>\n      <th>1</th>\n      <td>06d589eba089ca6bcb984d32c5399cc5</td>\n      <td>Пермский край</td>\n      <td>59</td>\n      <td>22.0</td>\n    </tr>\n    <tr>\n      <th>2</th>\n      <td>2816bd3aabf33fbc25c82678571b0e81</td>\n      <td>Краснодарский край</td>\n      <td>23</td>\n      <td>23.0</td>\n    </tr>\n    <tr>\n      <th>3</th>\n      <td>f6fcc2dadfeb783308bd102ddcbc1412</td>\n      <td>Саратовская область</td>\n      <td>64</td>\n      <td>17.0</td>\n    </tr>\n    <tr>\n      <th>4</th>\n      <td>e0b3e50d8d9f467470a8aa2b42899841</td>\n      <td>Москва</td>\n      <td>77</td>\n      <td>21.0</td>\n    </tr>\n    <tr>\n      <th>...</th>\n      <td>...</td>\n      <td>...</td>\n      <td>...</td>\n      <td>...</td>\n    </tr>\n    <tr>\n      <th>2231047</th>\n      <td>6e8f4dc75245926306665942fd1173b2</td>\n      <td>Ханты-Мансийский автономный округ – Югра</td>\n      <td>86</td>\n      <td>14.0</td>\n    </tr>\n    <tr>\n      <th>2231048</th>\n      <td>c925794714279efbdbe2e5cba0de7b28</td>\n      <td>Москва</td>\n      <td>77</td>\n      <td>19.0</td>\n    </tr>\n    <tr>\n      <th>2231049</th>\n      <td>18cf6bb59c25e9c6493f89780348b622</td>\n      <td>Ханты-Мансийский автономный округ – Югра</td>\n      <td>86</td>\n      <td>18.0</td>\n    </tr>\n    <tr>\n      <th>2231050</th>\n      <td>ec8d3c862c1383c63f8adbca559bf86c</td>\n      <td>Ростовская область</td>\n      <td>61</td>\n      <td>20.0</td>\n    </tr>\n    <tr>\n      <th>2231051</th>\n      <td>313b97882f8a38e1554543773dc92e16</td>\n      <td>Свердловская область</td>\n      <td>66</td>\n      <td>18.0</td>\n    </tr>\n  </tbody>\n</table>\n<p>2184602 rows × 4 columns</p>\n</div>"
     },
     "execution_count": 4,
     "metadata": {},
     "output_type": "execute_result"
    }
   ],
   "source": [
    "users_df = dm.get_user_dataframe(\n",
    "    users_file_path='../dataset/users_and_purchases/users.txt',\n",
    "    regions_file_path='../dataset/users_and_purchases/region.txt',\n",
    "    regions_nums_file_path='../dataset/RegionRussia.csv'\n",
    ")\n",
    "users_df"
   ],
   "metadata": {
    "collapsed": false,
    "pycharm": {
     "name": "#%%\n"
    }
   }
  },
  {
   "cell_type": "code",
   "execution_count": 5,
   "outputs": [
    {
     "data": {
      "text/plain": "       event_id                      event_name  \\\n0            36             Спектакль «Касатка»   \n1            86         Спектакль «Горе от ума»   \n2            86         Спектакль «Горе от ума»   \n3           139               Спектакль «Куклы»   \n4           150  Спектакль «Филумена Мартурано»   \n...         ...                             ...   \n47851   1518521                   Опера «Садко»   \n47852   1518585                   Опера «Фауст»   \n47853   1518645                Опера «Трубадур»   \n47854   1519214     Спектакль «Царевна-лягушка»   \n47855   1521196         Новогодний гала-концерт   \n\n                                                    link add_link  org_id  \\\n0      https://quicktickets.ru/belgorodskiy-dramatich...      NaN       6   \n1      https://quicktickets.ru/belgorodskiy-dramatich...      NaN       6   \n2      https://quicktickets.ru/belgorodskiy-dramatich...      NaN       6   \n3      https://quicktickets.ru/belgorodskiy-dramatich...      NaN       6   \n4      https://quicktickets.ru/belgorodskiy-dramatich...      NaN       6   \n...                                                  ...      ...     ...   \n47851  https://tickets.mariinsky.ru/ru/performance/VG...      NaN    5268   \n47852  https://tickets.mariinsky.ru/ru/performance/Nk...      NaN    5268   \n47853  https://tickets.mariinsky.ru/ru/performance/OW...      NaN    5268   \n47854    https://ulan-ude.kassy.ru/events/range-2021-12/      NaN   12276   \n47855  https://tickets.mariinsky.ru/prim/ru/performan...      NaN    5268   \n\n                                                org_name        region_name  \\\n0        ОГАУК «Драматический театр имени М. С. Щепкина»   Белгородская обл   \n1        ОГАУК «Драматический театр имени М. С. Щепкина»   Белгородская обл   \n2        ОГАУК «Драматический театр имени М. С. Щепкина»   Белгородская обл   \n3        ОГАУК «Драматический театр имени М. С. Щепкина»   Белгородская обл   \n4        ОГАУК «Драматический театр имени М. С. Щепкина»   Белгородская обл   \n...                                                  ...                ...   \n47851  ФГБУК «Государственный академический Мариински...  г Санкт-Петербург   \n47852  ФГБУК «Государственный академический Мариински...  г Санкт-Петербург   \n47853  ФГБУК «Государственный академический Мариински...  г Санкт-Петербург   \n47854  АУК РБ Бурятский республиканский театр кукол «...       Респ Бурятия   \n47855  ФГБУК «Государственный академический Мариински...  г Санкт-Петербург   \n\n      category  \n0       Театры  \n1       Театры  \n2       Театры  \n3       Театры  \n4       Театры  \n...        ...  \n47851   Театры  \n47852   Театры  \n47853   Театры  \n47854   Театры  \n47855   Театры  \n\n[47220 rows x 8 columns]",
      "text/html": "<div>\n<style scoped>\n    .dataframe tbody tr th:only-of-type {\n        vertical-align: middle;\n    }\n\n    .dataframe tbody tr th {\n        vertical-align: top;\n    }\n\n    .dataframe thead th {\n        text-align: right;\n    }\n</style>\n<table border=\"1\" class=\"dataframe\">\n  <thead>\n    <tr style=\"text-align: right;\">\n      <th></th>\n      <th>event_id</th>\n      <th>event_name</th>\n      <th>link</th>\n      <th>add_link</th>\n      <th>org_id</th>\n      <th>org_name</th>\n      <th>region_name</th>\n      <th>category</th>\n    </tr>\n  </thead>\n  <tbody>\n    <tr>\n      <th>0</th>\n      <td>36</td>\n      <td>Спектакль «Касатка»</td>\n      <td>https://quicktickets.ru/belgorodskiy-dramatich...</td>\n      <td>NaN</td>\n      <td>6</td>\n      <td>ОГАУК «Драматический театр имени М. С. Щепкина»</td>\n      <td>Белгородская обл</td>\n      <td>Театры</td>\n    </tr>\n    <tr>\n      <th>1</th>\n      <td>86</td>\n      <td>Спектакль «Горе от ума»</td>\n      <td>https://quicktickets.ru/belgorodskiy-dramatich...</td>\n      <td>NaN</td>\n      <td>6</td>\n      <td>ОГАУК «Драматический театр имени М. С. Щепкина»</td>\n      <td>Белгородская обл</td>\n      <td>Театры</td>\n    </tr>\n    <tr>\n      <th>2</th>\n      <td>86</td>\n      <td>Спектакль «Горе от ума»</td>\n      <td>https://quicktickets.ru/belgorodskiy-dramatich...</td>\n      <td>NaN</td>\n      <td>6</td>\n      <td>ОГАУК «Драматический театр имени М. С. Щепкина»</td>\n      <td>Белгородская обл</td>\n      <td>Театры</td>\n    </tr>\n    <tr>\n      <th>3</th>\n      <td>139</td>\n      <td>Спектакль «Куклы»</td>\n      <td>https://quicktickets.ru/belgorodskiy-dramatich...</td>\n      <td>NaN</td>\n      <td>6</td>\n      <td>ОГАУК «Драматический театр имени М. С. Щепкина»</td>\n      <td>Белгородская обл</td>\n      <td>Театры</td>\n    </tr>\n    <tr>\n      <th>4</th>\n      <td>150</td>\n      <td>Спектакль «Филумена Мартурано»</td>\n      <td>https://quicktickets.ru/belgorodskiy-dramatich...</td>\n      <td>NaN</td>\n      <td>6</td>\n      <td>ОГАУК «Драматический театр имени М. С. Щепкина»</td>\n      <td>Белгородская обл</td>\n      <td>Театры</td>\n    </tr>\n    <tr>\n      <th>...</th>\n      <td>...</td>\n      <td>...</td>\n      <td>...</td>\n      <td>...</td>\n      <td>...</td>\n      <td>...</td>\n      <td>...</td>\n      <td>...</td>\n    </tr>\n    <tr>\n      <th>47851</th>\n      <td>1518521</td>\n      <td>Опера «Садко»</td>\n      <td>https://tickets.mariinsky.ru/ru/performance/VG...</td>\n      <td>NaN</td>\n      <td>5268</td>\n      <td>ФГБУК «Государственный академический Мариински...</td>\n      <td>г Санкт-Петербург</td>\n      <td>Театры</td>\n    </tr>\n    <tr>\n      <th>47852</th>\n      <td>1518585</td>\n      <td>Опера «Фауст»</td>\n      <td>https://tickets.mariinsky.ru/ru/performance/Nk...</td>\n      <td>NaN</td>\n      <td>5268</td>\n      <td>ФГБУК «Государственный академический Мариински...</td>\n      <td>г Санкт-Петербург</td>\n      <td>Театры</td>\n    </tr>\n    <tr>\n      <th>47853</th>\n      <td>1518645</td>\n      <td>Опера «Трубадур»</td>\n      <td>https://tickets.mariinsky.ru/ru/performance/OW...</td>\n      <td>NaN</td>\n      <td>5268</td>\n      <td>ФГБУК «Государственный академический Мариински...</td>\n      <td>г Санкт-Петербург</td>\n      <td>Театры</td>\n    </tr>\n    <tr>\n      <th>47854</th>\n      <td>1519214</td>\n      <td>Спектакль «Царевна-лягушка»</td>\n      <td>https://ulan-ude.kassy.ru/events/range-2021-12/</td>\n      <td>NaN</td>\n      <td>12276</td>\n      <td>АУК РБ Бурятский республиканский театр кукол «...</td>\n      <td>Респ Бурятия</td>\n      <td>Театры</td>\n    </tr>\n    <tr>\n      <th>47855</th>\n      <td>1521196</td>\n      <td>Новогодний гала-концерт</td>\n      <td>https://tickets.mariinsky.ru/prim/ru/performan...</td>\n      <td>NaN</td>\n      <td>5268</td>\n      <td>ФГБУК «Государственный академический Мариински...</td>\n      <td>г Санкт-Петербург</td>\n      <td>Театры</td>\n    </tr>\n  </tbody>\n</table>\n<p>47220 rows × 8 columns</p>\n</div>"
     },
     "execution_count": 5,
     "metadata": {},
     "output_type": "execute_result"
    }
   ],
   "source": [
    "events_df = dm.get_events_dataframe(\n",
    "    events_file_path='../dataset/users_and_purchases/events/events_pushka_accepted_30122021.csv',\n",
    "    organizations_file_path='../dataset/users_and_purchases/events/organizations.csv'\n",
    ")\n",
    "events_df"
   ],
   "metadata": {
    "collapsed": false,
    "pycharm": {
     "name": "#%%\n"
    }
   }
  },
  {
   "cell_type": "code",
   "execution_count": 6,
   "outputs": [
    {
     "data": {
      "text/plain": "(40148, 4)"
     },
     "execution_count": 6,
     "metadata": {},
     "output_type": "execute_result"
    }
   ],
   "source": [
    "user_event = dm.filter_user_event_by_user_region(\n",
    "    user_event_df=user_event_df,\n",
    "    user_df=users_df,\n",
    "    user_region=77\n",
    ")\n",
    "user_event.shape"
   ],
   "metadata": {
    "collapsed": false,
    "pycharm": {
     "name": "#%%\n"
    }
   }
  },
  {
   "cell_type": "code",
   "execution_count": 7,
   "outputs": [
    {
     "data": {
      "text/plain": "(35557, 4)"
     },
     "execution_count": 7,
     "metadata": {},
     "output_type": "execute_result"
    }
   ],
   "source": [
    "user_event = dm.filter_user_event_by_event_region(\n",
    "    user_event_df=user_event,\n",
    "    event_df=events_df,\n",
    "    event_region='г Москва'\n",
    ")\n",
    "user_event.shape\n"
   ],
   "metadata": {
    "collapsed": false,
    "pycharm": {
     "name": "#%%\n"
    }
   }
  },
  {
   "cell_type": "markdown",
   "source": [
    "## Модель для Пушкинской карты\n",
    "### Alternative Least Squares"
   ],
   "metadata": {
    "collapsed": false
   }
  },
  {
   "cell_type": "code",
   "execution_count": 12,
   "outputs": [
    {
     "data": {
      "text/plain": "                                 user_id  event_id  \\\n13      0001ad0041738ac671fe52a5f887742e       337   \n14      0001ad0041738ac671fe52a5f887742e       592   \n15      0001ad0041738ac671fe52a5f887742e       882   \n16      0001ad0041738ac671fe52a5f887742e      1481   \n17      0001ad0041738ac671fe52a5f887742e      1654   \n...                                  ...       ...   \n630238  ffe13ffdd93b045e3b06ee834c585d26      1150   \n630274  ffe4a90226a335c9ed184bc19163490b       513   \n630275  ffe4a90226a335c9ed184bc19163490b      1145   \n630276  ffe4a90226a335c9ed184bc19163490b      1151   \n630483  fff57c97533412e45cad515b6a0cc0f4      1024   \n\n                                               event_name  clicks_count  \\\n13      Экспозиция «Древнерусская иконопись XIII–XVI в...             1   \n14                   Экспозиция музея Владимира Высоцкого             1   \n15                       Экспозиции Мультимедиа Арт Музея             1   \n16                       Выставка «За все тебя благодарю»             1   \n17                         Вечер музыки П. И. Чайковского             1   \n...                                                   ...           ...   \n630238         Спектакль «Дневник Анны Франк. Белая роза»             1   \n630274                          Спектакль «Анна Каренина»             1   \n630275                          Спектакль «Люди как люди»             1   \n630276                         Спектакль «Мнимый больной»             1   \n630483                             Выставка ко Дню знаний             1   \n\n        user_num  \n13             0  \n14             0  \n15             0  \n16             0  \n17             0  \n...          ...  \n630238     13655  \n630274     13656  \n630275     13656  \n630276     13656  \n630483     13657  \n\n[35557 rows x 5 columns]",
      "text/html": "<div>\n<style scoped>\n    .dataframe tbody tr th:only-of-type {\n        vertical-align: middle;\n    }\n\n    .dataframe tbody tr th {\n        vertical-align: top;\n    }\n\n    .dataframe thead th {\n        text-align: right;\n    }\n</style>\n<table border=\"1\" class=\"dataframe\">\n  <thead>\n    <tr style=\"text-align: right;\">\n      <th></th>\n      <th>user_id</th>\n      <th>event_id</th>\n      <th>event_name</th>\n      <th>clicks_count</th>\n      <th>user_num</th>\n    </tr>\n  </thead>\n  <tbody>\n    <tr>\n      <th>13</th>\n      <td>0001ad0041738ac671fe52a5f887742e</td>\n      <td>337</td>\n      <td>Экспозиция «Древнерусская иконопись XIII–XVI в...</td>\n      <td>1</td>\n      <td>0</td>\n    </tr>\n    <tr>\n      <th>14</th>\n      <td>0001ad0041738ac671fe52a5f887742e</td>\n      <td>592</td>\n      <td>Экспозиция музея Владимира Высоцкого</td>\n      <td>1</td>\n      <td>0</td>\n    </tr>\n    <tr>\n      <th>15</th>\n      <td>0001ad0041738ac671fe52a5f887742e</td>\n      <td>882</td>\n      <td>Экспозиции Мультимедиа Арт Музея</td>\n      <td>1</td>\n      <td>0</td>\n    </tr>\n    <tr>\n      <th>16</th>\n      <td>0001ad0041738ac671fe52a5f887742e</td>\n      <td>1481</td>\n      <td>Выставка «За все тебя благодарю»</td>\n      <td>1</td>\n      <td>0</td>\n    </tr>\n    <tr>\n      <th>17</th>\n      <td>0001ad0041738ac671fe52a5f887742e</td>\n      <td>1654</td>\n      <td>Вечер музыки П. И. Чайковского</td>\n      <td>1</td>\n      <td>0</td>\n    </tr>\n    <tr>\n      <th>...</th>\n      <td>...</td>\n      <td>...</td>\n      <td>...</td>\n      <td>...</td>\n      <td>...</td>\n    </tr>\n    <tr>\n      <th>630238</th>\n      <td>ffe13ffdd93b045e3b06ee834c585d26</td>\n      <td>1150</td>\n      <td>Спектакль «Дневник Анны Франк. Белая роза»</td>\n      <td>1</td>\n      <td>13655</td>\n    </tr>\n    <tr>\n      <th>630274</th>\n      <td>ffe4a90226a335c9ed184bc19163490b</td>\n      <td>513</td>\n      <td>Спектакль «Анна Каренина»</td>\n      <td>1</td>\n      <td>13656</td>\n    </tr>\n    <tr>\n      <th>630275</th>\n      <td>ffe4a90226a335c9ed184bc19163490b</td>\n      <td>1145</td>\n      <td>Спектакль «Люди как люди»</td>\n      <td>1</td>\n      <td>13656</td>\n    </tr>\n    <tr>\n      <th>630276</th>\n      <td>ffe4a90226a335c9ed184bc19163490b</td>\n      <td>1151</td>\n      <td>Спектакль «Мнимый больной»</td>\n      <td>1</td>\n      <td>13656</td>\n    </tr>\n    <tr>\n      <th>630483</th>\n      <td>fff57c97533412e45cad515b6a0cc0f4</td>\n      <td>1024</td>\n      <td>Выставка ко Дню знаний</td>\n      <td>1</td>\n      <td>13657</td>\n    </tr>\n  </tbody>\n</table>\n<p>35557 rows × 5 columns</p>\n</div>"
     },
     "execution_count": 12,
     "metadata": {},
     "output_type": "execute_result"
    }
   ],
   "source": [
    "user_event['event_id'] = user_event['event_id'].astype(int)\n",
    "user_event['event_id'] = user_event['event_id'].astype('category')\n",
    "user_event['user_id'] = user_event['user_id'].astype('category')\n",
    "user_event['user_num'] = user_event['user_id'].cat.codes\n",
    "user_event['event_id'] = user_event['event_id'].cat.codes\n",
    "user_event"
   ],
   "metadata": {
    "collapsed": false,
    "pycharm": {
     "name": "#%%\n"
    }
   }
  },
  {
   "cell_type": "code",
   "execution_count": 14,
   "outputs": [],
   "source": [
    "sparse_event_user = sparse.csr_matrix(\n",
    "    (user_event['clicks_count'].astype(float), (user_event['event_id'], user_event['user_num']))\n",
    ")\n",
    "sparse_user_event = sparse.csr_matrix(\n",
    "    (user_event['clicks_count'].astype(float), (user_event['user_num'], user_event['event_id']))\n",
    ")"
   ],
   "metadata": {
    "collapsed": false,
    "pycharm": {
     "name": "#%%\n"
    }
   }
  },
  {
   "cell_type": "code",
   "execution_count": 15,
   "outputs": [
    {
     "data": {
      "text/plain": "  0%|          | 0/20 [00:00<?, ?it/s]",
      "application/vnd.jupyter.widget-view+json": {
       "version_major": 2,
       "version_minor": 0,
       "model_id": "1322bf0f078e4ff7aee0427731859c57"
      }
     },
     "metadata": {},
     "output_type": "display_data"
    }
   ],
   "source": [
    "model = implicit.als.AlternatingLeastSquares(factors=20, regularization=0.1, iterations=20)\n",
    "\n",
    "alpha_val = 15\n",
    "data_conf = (sparse_event_user * alpha_val).astype('double')\n",
    "\n",
    "model.fit(data_conf)\n"
   ],
   "metadata": {
    "collapsed": false,
    "pycharm": {
     "name": "#%%\n"
    }
   }
  },
  {
   "cell_type": "code",
   "execution_count": 20,
   "outputs": [
    {
     "data": {
      "text/plain": "                                          event_name     score\n0        Экспозиция картинной галереи Ильи Глазунова  0.730704\n1                   Концерт «Вечера органной музыки»  0.691417\n2                        Программа «Твой Пушкинский»  0.629830\n3                          Экспозиция «Зоогеография»  0.594213\n4                      Выставка «Карадаг заповедный»  0.539093\n5                   Цикл концертов «Мама, я меломан»  0.486502\n6                             Выставка «Частоты 2.0»  0.477433\n7                Экскурсия «Профессия – реставратор»  0.451066\n8  Концерт-закрытие XIII Международного виолончел...  0.427815\n9  Концерт «Вещь в себе. Сокровища современной му...  0.418230",
      "text/html": "<div>\n<style scoped>\n    .dataframe tbody tr th:only-of-type {\n        vertical-align: middle;\n    }\n\n    .dataframe tbody tr th {\n        vertical-align: top;\n    }\n\n    .dataframe thead th {\n        text-align: right;\n    }\n</style>\n<table border=\"1\" class=\"dataframe\">\n  <thead>\n    <tr style=\"text-align: right;\">\n      <th></th>\n      <th>event_name</th>\n      <th>score</th>\n    </tr>\n  </thead>\n  <tbody>\n    <tr>\n      <th>0</th>\n      <td>Экспозиция картинной галереи Ильи Глазунова</td>\n      <td>0.730704</td>\n    </tr>\n    <tr>\n      <th>1</th>\n      <td>Концерт «Вечера органной музыки»</td>\n      <td>0.691417</td>\n    </tr>\n    <tr>\n      <th>2</th>\n      <td>Программа «Твой Пушкинский»</td>\n      <td>0.629830</td>\n    </tr>\n    <tr>\n      <th>3</th>\n      <td>Экспозиция «Зоогеография»</td>\n      <td>0.594213</td>\n    </tr>\n    <tr>\n      <th>4</th>\n      <td>Выставка «Карадаг заповедный»</td>\n      <td>0.539093</td>\n    </tr>\n    <tr>\n      <th>5</th>\n      <td>Цикл концертов «Мама, я меломан»</td>\n      <td>0.486502</td>\n    </tr>\n    <tr>\n      <th>6</th>\n      <td>Выставка «Частоты 2.0»</td>\n      <td>0.477433</td>\n    </tr>\n    <tr>\n      <th>7</th>\n      <td>Экскурсия «Профессия – реставратор»</td>\n      <td>0.451066</td>\n    </tr>\n    <tr>\n      <th>8</th>\n      <td>Концерт-закрытие XIII Международного виолончел...</td>\n      <td>0.427815</td>\n    </tr>\n    <tr>\n      <th>9</th>\n      <td>Концерт «Вещь в себе. Сокровища современной му...</td>\n      <td>0.418230</td>\n    </tr>\n  </tbody>\n</table>\n</div>"
     },
     "execution_count": 20,
     "metadata": {},
     "output_type": "execute_result"
    }
   ],
   "source": [
    "user_num = 0\n",
    "recommended = model.recommend(user_num, sparse_user_event)\n",
    "\n",
    "events = list()\n",
    "scores = list()\n",
    "\n",
    "for item in recommended:\n",
    "    idx, score = item\n",
    "    events.append(user_event.event_name.loc[user_event.event_id == idx].iloc[0])\n",
    "    scores.append(score)\n",
    "\n",
    "recommendations = pd.DataFrame({\n",
    "    'event_name': events,\n",
    "    'score': scores\n",
    "})"
   ],
   "metadata": {
    "collapsed": false,
    "pycharm": {
     "name": "#%%\n"
    }
   }
  },
  {
   "cell_type": "markdown",
   "source": [
    "#### Что кликал пользователь:"
   ],
   "metadata": {
    "collapsed": false,
    "pycharm": {
     "name": "#%% md\n"
    }
   }
  },
  {
   "cell_type": "code",
   "execution_count": 26,
   "outputs": [
    {
     "data": {
      "text/plain": "13    Экспозиция «Древнерусская иконопись XIII–XVI в...\n14                 Экспозиция музея Владимира Высоцкого\n15                     Экспозиции Мультимедиа Арт Музея\n16                     Выставка «За все тебя благодарю»\n17                       Вечер музыки П. И. Чайковского\nName: event_name, dtype: object"
     },
     "execution_count": 26,
     "metadata": {},
     "output_type": "execute_result"
    }
   ],
   "source": [
    "visited = user_event.loc[user_event.user_num == 0]['event_name']\n",
    "visited"
   ],
   "metadata": {
    "collapsed": false,
    "pycharm": {
     "name": "#%%\n"
    }
   }
  },
  {
   "cell_type": "markdown",
   "source": [
    "#### Рекомендации для пользователя:"
   ],
   "metadata": {
    "collapsed": false,
    "pycharm": {
     "name": "#%% md\n"
    }
   }
  },
  {
   "cell_type": "code",
   "execution_count": 23,
   "outputs": [
    {
     "data": {
      "text/plain": "                                          event_name     score\n0        Экспозиция картинной галереи Ильи Глазунова  0.730704\n1                   Концерт «Вечера органной музыки»  0.691417\n2                        Программа «Твой Пушкинский»  0.629830\n3                          Экспозиция «Зоогеография»  0.594213\n4                      Выставка «Карадаг заповедный»  0.539093\n5                   Цикл концертов «Мама, я меломан»  0.486502\n6                             Выставка «Частоты 2.0»  0.477433\n7                Экскурсия «Профессия – реставратор»  0.451066\n8  Концерт-закрытие XIII Международного виолончел...  0.427815\n9  Концерт «Вещь в себе. Сокровища современной му...  0.418230",
      "text/html": "<div>\n<style scoped>\n    .dataframe tbody tr th:only-of-type {\n        vertical-align: middle;\n    }\n\n    .dataframe tbody tr th {\n        vertical-align: top;\n    }\n\n    .dataframe thead th {\n        text-align: right;\n    }\n</style>\n<table border=\"1\" class=\"dataframe\">\n  <thead>\n    <tr style=\"text-align: right;\">\n      <th></th>\n      <th>event_name</th>\n      <th>score</th>\n    </tr>\n  </thead>\n  <tbody>\n    <tr>\n      <th>0</th>\n      <td>Экспозиция картинной галереи Ильи Глазунова</td>\n      <td>0.730704</td>\n    </tr>\n    <tr>\n      <th>1</th>\n      <td>Концерт «Вечера органной музыки»</td>\n      <td>0.691417</td>\n    </tr>\n    <tr>\n      <th>2</th>\n      <td>Программа «Твой Пушкинский»</td>\n      <td>0.629830</td>\n    </tr>\n    <tr>\n      <th>3</th>\n      <td>Экспозиция «Зоогеография»</td>\n      <td>0.594213</td>\n    </tr>\n    <tr>\n      <th>4</th>\n      <td>Выставка «Карадаг заповедный»</td>\n      <td>0.539093</td>\n    </tr>\n    <tr>\n      <th>5</th>\n      <td>Цикл концертов «Мама, я меломан»</td>\n      <td>0.486502</td>\n    </tr>\n    <tr>\n      <th>6</th>\n      <td>Выставка «Частоты 2.0»</td>\n      <td>0.477433</td>\n    </tr>\n    <tr>\n      <th>7</th>\n      <td>Экскурсия «Профессия – реставратор»</td>\n      <td>0.451066</td>\n    </tr>\n    <tr>\n      <th>8</th>\n      <td>Концерт-закрытие XIII Международного виолончел...</td>\n      <td>0.427815</td>\n    </tr>\n    <tr>\n      <th>9</th>\n      <td>Концерт «Вещь в себе. Сокровища современной му...</td>\n      <td>0.418230</td>\n    </tr>\n  </tbody>\n</table>\n</div>"
     },
     "execution_count": 23,
     "metadata": {},
     "output_type": "execute_result"
    }
   ],
   "source": [
    "recommendations\n"
   ],
   "metadata": {
    "collapsed": false,
    "pycharm": {
     "name": "#%%\n"
    }
   }
  },
  {
   "cell_type": "markdown",
   "source": [
    "## Bayesian Personalized Ranking"
   ],
   "metadata": {
    "collapsed": false
   }
  },
  {
   "cell_type": "code",
   "execution_count": 25,
   "outputs": [
    {
     "data": {
      "text/plain": "  0%|          | 0/100 [00:00<?, ?it/s]",
      "application/vnd.jupyter.widget-view+json": {
       "version_major": 2,
       "version_minor": 0,
       "model_id": "7f2e0dcf3c4049dcb08e38e30ed61507"
      }
     },
     "metadata": {},
     "output_type": "display_data"
    }
   ],
   "source": [
    "bpr_model = implicit.bpr.BayesianPersonalizedRanking(factors=60)\n",
    "bpr_model.fit(sparse_event_user)"
   ],
   "metadata": {
    "collapsed": false,
    "pycharm": {
     "name": "#%%\n"
    }
   }
  },
  {
   "cell_type": "code",
   "execution_count": 28,
   "outputs": [],
   "source": [
    "user_num = 0\n",
    "recommended = bpr_model.recommend(user_num, sparse_user_event)\n",
    "\n",
    "events = list()\n",
    "scores = list()\n",
    "\n",
    "for item in recommended:\n",
    "    idx, score = item\n",
    "    events.append(user_event.event_name.loc[user_event.event_id == idx].iloc[0])\n",
    "    scores.append(score)\n",
    "\n",
    "bpr_recommendations = pd.DataFrame({\n",
    "    'event_name': events,\n",
    "    'score': scores\n",
    "})"
   ],
   "metadata": {
    "collapsed": false,
    "pycharm": {
     "name": "#%%\n"
    }
   }
  },
  {
   "cell_type": "markdown",
   "source": [
    "#### Что кликал пользователь:"
   ],
   "metadata": {
    "collapsed": false
   }
  },
  {
   "cell_type": "code",
   "execution_count": 27,
   "outputs": [
    {
     "data": {
      "text/plain": "13    Экспозиция «Древнерусская иконопись XIII–XVI в...\n14                 Экспозиция музея Владимира Высоцкого\n15                     Экспозиции Мультимедиа Арт Музея\n16                     Выставка «За все тебя благодарю»\n17                       Вечер музыки П. И. Чайковского\nName: event_name, dtype: object"
     },
     "execution_count": 27,
     "metadata": {},
     "output_type": "execute_result"
    }
   ],
   "source": [
    "visited = user_event.loc[user_event.user_num == 0]['event_name']\n",
    "visited"
   ],
   "metadata": {
    "collapsed": false,
    "pycharm": {
     "name": "#%%\n"
    }
   }
  },
  {
   "cell_type": "markdown",
   "source": [
    "#### Рекомендации для пользователя:"
   ],
   "metadata": {
    "collapsed": false
   }
  },
  {
   "cell_type": "code",
   "execution_count": 29,
   "outputs": [
    {
     "data": {
      "text/plain": "                                          event_name     score\n0                             Выставка «Частоты 2.0»  1.131621\n1        Экспозиция картинной галереи Ильи Глазунова  1.074359\n2                        Программа «Твой Пушкинский»  1.048114\n3         Экспозиция центра «Космонавтика и авиация»  1.005380\n4  Концерт Дениса Мацуева и Томского академическо...  0.983287\n5  Экспозиции Дворцово-выставочного комплекса и о...  0.975915\n6                Экскурсия «Профессия – реставратор»  0.975847\n7  Экскурсии по выставке «Бывают странные сближен...  0.974219\n8                   Цикл концертов «Мама, я меломан»  0.972228\n9  Концерт-закрытие XIII Международного виолончел...  0.958811",
      "text/html": "<div>\n<style scoped>\n    .dataframe tbody tr th:only-of-type {\n        vertical-align: middle;\n    }\n\n    .dataframe tbody tr th {\n        vertical-align: top;\n    }\n\n    .dataframe thead th {\n        text-align: right;\n    }\n</style>\n<table border=\"1\" class=\"dataframe\">\n  <thead>\n    <tr style=\"text-align: right;\">\n      <th></th>\n      <th>event_name</th>\n      <th>score</th>\n    </tr>\n  </thead>\n  <tbody>\n    <tr>\n      <th>0</th>\n      <td>Выставка «Частоты 2.0»</td>\n      <td>1.131621</td>\n    </tr>\n    <tr>\n      <th>1</th>\n      <td>Экспозиция картинной галереи Ильи Глазунова</td>\n      <td>1.074359</td>\n    </tr>\n    <tr>\n      <th>2</th>\n      <td>Программа «Твой Пушкинский»</td>\n      <td>1.048114</td>\n    </tr>\n    <tr>\n      <th>3</th>\n      <td>Экспозиция центра «Космонавтика и авиация»</td>\n      <td>1.005380</td>\n    </tr>\n    <tr>\n      <th>4</th>\n      <td>Концерт Дениса Мацуева и Томского академическо...</td>\n      <td>0.983287</td>\n    </tr>\n    <tr>\n      <th>5</th>\n      <td>Экспозиции Дворцово-выставочного комплекса и о...</td>\n      <td>0.975915</td>\n    </tr>\n    <tr>\n      <th>6</th>\n      <td>Экскурсия «Профессия – реставратор»</td>\n      <td>0.975847</td>\n    </tr>\n    <tr>\n      <th>7</th>\n      <td>Экскурсии по выставке «Бывают странные сближен...</td>\n      <td>0.974219</td>\n    </tr>\n    <tr>\n      <th>8</th>\n      <td>Цикл концертов «Мама, я меломан»</td>\n      <td>0.972228</td>\n    </tr>\n    <tr>\n      <th>9</th>\n      <td>Концерт-закрытие XIII Международного виолончел...</td>\n      <td>0.958811</td>\n    </tr>\n  </tbody>\n</table>\n</div>"
     },
     "execution_count": 29,
     "metadata": {},
     "output_type": "execute_result"
    }
   ],
   "source": [
    "bpr_recommendations"
   ],
   "metadata": {
    "collapsed": false,
    "pycharm": {
     "name": "#%%\n"
    }
   }
  }
 ],
 "metadata": {
  "kernelspec": {
   "display_name": "Python 3",
   "language": "python",
   "name": "python3"
  },
  "language_info": {
   "codemirror_mode": {
    "name": "ipython",
    "version": 2
   },
   "file_extension": ".py",
   "mimetype": "text/x-python",
   "name": "python",
   "nbconvert_exporter": "python",
   "pygments_lexer": "ipython2",
   "version": "2.7.6"
  }
 },
 "nbformat": 4,
 "nbformat_minor": 0
}