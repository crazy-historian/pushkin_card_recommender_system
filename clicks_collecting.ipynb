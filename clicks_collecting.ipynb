{
 "cells": [
  {
   "cell_type": "code",
   "execution_count": 1,
   "metadata": {},
   "outputs": [],
   "source": [
    "import pandas as pd\n",
    "import numpy as np\n",
    "import math\n",
    "import re"
   ]
  },
  {
   "cell_type": "code",
   "execution_count": 2,
   "metadata": {},
   "outputs": [],
   "source": [
    "path = './main_data/'\n",
    "path2 = './main_data/events/'"
   ]
  },
  {
   "cell_type": "code",
   "execution_count": 3,
   "metadata": {},
   "outputs": [],
   "source": [
    "organizations = pd.read_csv(path2 + 'organizations_updated.csv', sep=';')"
   ]
  },
  {
   "cell_type": "code",
   "execution_count": 4,
   "metadata": {},
   "outputs": [
    {
     "name": "stderr",
     "output_type": "stream",
     "text": [
      "b'Skipping line 431497: expected 6 fields, saw 7\\nSkipping line 431498: expected 6 fields, saw 7\\n'\n",
      "b'Skipping line 1071166: expected 6 fields, saw 7\\nSkipping line 1071167: expected 6 fields, saw 7\\n'\n",
      "b'Skipping line 1422097: expected 6 fields, saw 7\\n'\n",
      "b'Skipping line 1537079: expected 6 fields, saw 7\\n'\n"
     ]
    }
   ],
   "source": [
    "click = pd.read_csv(path + 'click.txt', sep=';', encoding= 'unicode_escape', error_bad_lines=False)"
   ]
  },
  {
   "cell_type": "code",
   "execution_count": 5,
   "metadata": {},
   "outputs": [
    {
     "name": "stdout",
     "output_type": "stream",
     "text": [
      "Decreased # clicks from 1596723 to 1031660\n"
     ]
    }
   ],
   "source": [
    "n_clicks_before = click.shape[0]\n",
    "click = click.drop_duplicates(['create_time', 'user_id'])\n",
    "n_clicks_after = click.shape[0]\n",
    "\n",
    "print(f'Decreased # clicks from {n_clicks_before} to {n_clicks_after}')"
   ]
  },
  {
   "cell_type": "code",
   "execution_count": 6,
   "metadata": {},
   "outputs": [
    {
     "name": "stdout",
     "output_type": "stream",
     "text": [
      "<class 'pandas.core.frame.DataFrame'>\n",
      "Int64Index: 1031660 entries, 0 to 1596722\n",
      "Data columns (total 6 columns):\n",
      " #   Column              Non-Null Count    Dtype \n",
      "---  ------              --------------    ----- \n",
      " 0   create_time         1031660 non-null  object\n",
      " 1   create_date         1031660 non-null  object\n",
      " 2   user_phone_details  1031660 non-null  object\n",
      " 3   buyer_mobile_phone  1031660 non-null  object\n",
      " 4   user_id             1031660 non-null  object\n",
      " 5   url                 1031660 non-null  object\n",
      "dtypes: object(6)\n",
      "memory usage: 55.1+ MB\n"
     ]
    }
   ],
   "source": [
    "click.info()"
   ]
  },
  {
   "cell_type": "code",
   "execution_count": 7,
   "metadata": {},
   "outputs": [],
   "source": [
    "events = pd.read_csv(path2 + 'events.csv', sep=';', error_bad_lines=False)"
   ]
  },
  {
   "cell_type": "code",
   "execution_count": 8,
   "metadata": {},
   "outputs": [],
   "source": [
    "events = events.rename(columns= {'Ссылка на покупку билета': 'url',\n",
    "                                 'ID': 'session_id',\n",
    "                                 'Название события': 'session_name',\n",
    "                                 'Дополнительная ссылка на покупку билета': 'additional_url',\n",
    "                                 'Организатор мероприятия': 'organization_name'})"
   ]
  },
  {
   "cell_type": "code",
   "execution_count": 9,
   "metadata": {},
   "outputs": [],
   "source": [
    "events['session_identity'] = events['session_name'].apply(lambda x: x.split()[0].strip())"
   ]
  },
  {
   "cell_type": "code",
   "execution_count": 10,
   "metadata": {},
   "outputs": [],
   "source": [
    "events = events.loc[(events['url'].notna())|(events['additional_url'].notna())]"
   ]
  },
  {
   "cell_type": "code",
   "execution_count": 11,
   "metadata": {},
   "outputs": [
    {
     "data": {
      "text/html": [
       "<div>\n",
       "<style scoped>\n",
       "    .dataframe tbody tr th:only-of-type {\n",
       "        vertical-align: middle;\n",
       "    }\n",
       "\n",
       "    .dataframe tbody tr th {\n",
       "        vertical-align: top;\n",
       "    }\n",
       "\n",
       "    .dataframe thead th {\n",
       "        text-align: right;\n",
       "    }\n",
       "</style>\n",
       "<table border=\"1\" class=\"dataframe\">\n",
       "  <thead>\n",
       "    <tr style=\"text-align: right;\">\n",
       "      <th></th>\n",
       "      <th>session_id</th>\n",
       "      <th>session_name</th>\n",
       "      <th>organization_name</th>\n",
       "      <th>url</th>\n",
       "      <th>additional_url</th>\n",
       "      <th>session_identity</th>\n",
       "    </tr>\n",
       "  </thead>\n",
       "  <tbody>\n",
       "    <tr>\n",
       "      <th>0</th>\n",
       "      <td>36</td>\n",
       "      <td>Спектакль «Касатка»</td>\n",
       "      <td>ОГАУК «Драматический театр имени М. С. Щепкина»</td>\n",
       "      <td>https://quicktickets.ru/belgorodskiy-dramatich...</td>\n",
       "      <td>NaN</td>\n",
       "      <td>Спектакль</td>\n",
       "    </tr>\n",
       "    <tr>\n",
       "      <th>1</th>\n",
       "      <td>40</td>\n",
       "      <td>Спектакль «Гамлет»</td>\n",
       "      <td>ОГАУК «Драматический театр имени М. С. Щепкина»</td>\n",
       "      <td>https://quicktickets.ru/belgorodskiy-dramatich...</td>\n",
       "      <td>NaN</td>\n",
       "      <td>Спектакль</td>\n",
       "    </tr>\n",
       "    <tr>\n",
       "      <th>2</th>\n",
       "      <td>86</td>\n",
       "      <td>Спектакль «Горе от ума»</td>\n",
       "      <td>ОГАУК «Драматический театр имени М. С. Щепкина»</td>\n",
       "      <td>https://quicktickets.ru/belgorodskiy-dramatich...</td>\n",
       "      <td>NaN</td>\n",
       "      <td>Спектакль</td>\n",
       "    </tr>\n",
       "    <tr>\n",
       "      <th>3</th>\n",
       "      <td>109</td>\n",
       "      <td>Спектакль «Женитьба»</td>\n",
       "      <td>ОГАУК «Драматический театр имени М. С. Щепкина»</td>\n",
       "      <td>https://quicktickets.ru/belgorodskiy-dramatich...</td>\n",
       "      <td>NaN</td>\n",
       "      <td>Спектакль</td>\n",
       "    </tr>\n",
       "    <tr>\n",
       "      <th>4</th>\n",
       "      <td>139</td>\n",
       "      <td>Спектакль «Куклы»</td>\n",
       "      <td>ОГАУК «Драматический театр имени М. С. Щепкина»</td>\n",
       "      <td>https://quicktickets.ru/belgorodskiy-dramatich...</td>\n",
       "      <td>NaN</td>\n",
       "      <td>Спектакль</td>\n",
       "    </tr>\n",
       "  </tbody>\n",
       "</table>\n",
       "</div>"
      ],
      "text/plain": [
       "   session_id             session_name  \\\n",
       "0          36      Спектакль «Касатка»   \n",
       "1          40       Спектакль «Гамлет»   \n",
       "2          86  Спектакль «Горе от ума»   \n",
       "3         109     Спектакль «Женитьба»   \n",
       "4         139        Спектакль «Куклы»   \n",
       "\n",
       "                                 organization_name  \\\n",
       "0  ОГАУК «Драматический театр имени М. С. Щепкина»   \n",
       "1  ОГАУК «Драматический театр имени М. С. Щепкина»   \n",
       "2  ОГАУК «Драматический театр имени М. С. Щепкина»   \n",
       "3  ОГАУК «Драматический театр имени М. С. Щепкина»   \n",
       "4  ОГАУК «Драматический театр имени М. С. Щепкина»   \n",
       "\n",
       "                                                 url additional_url  \\\n",
       "0  https://quicktickets.ru/belgorodskiy-dramatich...            NaN   \n",
       "1  https://quicktickets.ru/belgorodskiy-dramatich...            NaN   \n",
       "2  https://quicktickets.ru/belgorodskiy-dramatich...            NaN   \n",
       "3  https://quicktickets.ru/belgorodskiy-dramatich...            NaN   \n",
       "4  https://quicktickets.ru/belgorodskiy-dramatich...            NaN   \n",
       "\n",
       "  session_identity  \n",
       "0        Спектакль  \n",
       "1        Спектакль  \n",
       "2        Спектакль  \n",
       "3        Спектакль  \n",
       "4        Спектакль  "
      ]
     },
     "execution_count": 11,
     "metadata": {},
     "output_type": "execute_result"
    }
   ],
   "source": [
    "events.head()"
   ]
  },
  {
   "cell_type": "code",
   "execution_count": 12,
   "metadata": {},
   "outputs": [
    {
     "name": "stdout",
     "output_type": "stream",
     "text": [
      "<class 'pandas.core.frame.DataFrame'>\n",
      "Int64Index: 42151 entries, 0 to 42153\n",
      "Data columns (total 6 columns):\n",
      " #   Column             Non-Null Count  Dtype \n",
      "---  ------             --------------  ----- \n",
      " 0   session_id         42151 non-null  int64 \n",
      " 1   session_name       42151 non-null  object\n",
      " 2   organization_name  42151 non-null  object\n",
      " 3   url                42151 non-null  object\n",
      " 4   additional_url     3817 non-null   object\n",
      " 5   session_identity   42151 non-null  object\n",
      "dtypes: int64(1), object(5)\n",
      "memory usage: 2.3+ MB\n"
     ]
    }
   ],
   "source": [
    "events.info()"
   ]
  },
  {
   "cell_type": "code",
   "execution_count": 13,
   "metadata": {},
   "outputs": [],
   "source": [
    "events_pushka_accepted_30122021 = pd.read_csv(path2 + 'events_pushka_accepted_30122021.csv', sep = ',')"
   ]
  },
  {
   "cell_type": "code",
   "execution_count": 14,
   "metadata": {},
   "outputs": [
    {
     "data": {
      "text/html": [
       "<div>\n",
       "<style scoped>\n",
       "    .dataframe tbody tr th:only-of-type {\n",
       "        vertical-align: middle;\n",
       "    }\n",
       "\n",
       "    .dataframe tbody tr th {\n",
       "        vertical-align: top;\n",
       "    }\n",
       "\n",
       "    .dataframe thead th {\n",
       "        text-align: right;\n",
       "    }\n",
       "</style>\n",
       "<table border=\"1\" class=\"dataframe\">\n",
       "  <thead>\n",
       "    <tr style=\"text-align: right;\">\n",
       "      <th></th>\n",
       "      <th>entity._id</th>\n",
       "      <th>entity.name</th>\n",
       "      <th>entity.saleLink</th>\n",
       "      <th>entity.additionalSaleLinks.0</th>\n",
       "      <th>entity.organization._id</th>\n",
       "      <th>entity.organization.name</th>\n",
       "    </tr>\n",
       "  </thead>\n",
       "  <tbody>\n",
       "    <tr>\n",
       "      <th>0</th>\n",
       "      <td>36</td>\n",
       "      <td>Спектакль «Касатка»</td>\n",
       "      <td>https://quicktickets.ru/belgorodskiy-dramatich...</td>\n",
       "      <td>NaN</td>\n",
       "      <td>6.0</td>\n",
       "      <td>ОГАУК «Драматический театр имени М. С. Щепкина»</td>\n",
       "    </tr>\n",
       "    <tr>\n",
       "      <th>1</th>\n",
       "      <td>86</td>\n",
       "      <td>Спектакль «Горе от ума»</td>\n",
       "      <td>https://quicktickets.ru/belgorodskiy-dramatich...</td>\n",
       "      <td>NaN</td>\n",
       "      <td>6.0</td>\n",
       "      <td>ОГАУК «Драматический театр имени М. С. Щепкина»</td>\n",
       "    </tr>\n",
       "    <tr>\n",
       "      <th>2</th>\n",
       "      <td>86</td>\n",
       "      <td>Спектакль «Горе от ума»</td>\n",
       "      <td>https://quicktickets.ru/belgorodskiy-dramatich...</td>\n",
       "      <td>NaN</td>\n",
       "      <td>6.0</td>\n",
       "      <td>ОГАУК «Драматический театр имени М. С. Щепкина»</td>\n",
       "    </tr>\n",
       "    <tr>\n",
       "      <th>3</th>\n",
       "      <td>139</td>\n",
       "      <td>Спектакль «Куклы»</td>\n",
       "      <td>https://quicktickets.ru/belgorodskiy-dramatich...</td>\n",
       "      <td>NaN</td>\n",
       "      <td>6.0</td>\n",
       "      <td>ОГАУК «Драматический театр имени М. С. Щепкина»</td>\n",
       "    </tr>\n",
       "    <tr>\n",
       "      <th>4</th>\n",
       "      <td>150</td>\n",
       "      <td>Спектакль «Филумена Мартурано»</td>\n",
       "      <td>https://quicktickets.ru/belgorodskiy-dramatich...</td>\n",
       "      <td>NaN</td>\n",
       "      <td>6.0</td>\n",
       "      <td>ОГАУК «Драматический театр имени М. С. Щепкина»</td>\n",
       "    </tr>\n",
       "    <tr>\n",
       "      <th>5</th>\n",
       "      <td>155</td>\n",
       "      <td>Спектакль в фойе «С любовью не шутят»</td>\n",
       "      <td>https://quicktickets.ru/belgorodskiy-dramatich...</td>\n",
       "      <td>https://quicktickets.ru/belgorodskiy-dramatich...</td>\n",
       "      <td>6.0</td>\n",
       "      <td>ОГАУК «Драматический театр имени М. С. Щепкина»</td>\n",
       "    </tr>\n",
       "    <tr>\n",
       "      <th>6</th>\n",
       "      <td>890</td>\n",
       "      <td>Спектакль «Терешечка»</td>\n",
       "      <td>https://quicktickets.ru/belgorodskiy-gosudarst...</td>\n",
       "      <td>NaN</td>\n",
       "      <td>10.0</td>\n",
       "      <td>ГБУК «Белгородский государственный театр кукол»</td>\n",
       "    </tr>\n",
       "    <tr>\n",
       "      <th>7</th>\n",
       "      <td>1591</td>\n",
       "      <td>Спектакль «История солдата»</td>\n",
       "      <td>https://quicktickets.ru/belgorodskiy-gosudarst...</td>\n",
       "      <td>NaN</td>\n",
       "      <td>10.0</td>\n",
       "      <td>ГБУК «Белгородский государственный театр кукол»</td>\n",
       "    </tr>\n",
       "    <tr>\n",
       "      <th>8</th>\n",
       "      <td>1878</td>\n",
       "      <td>Спектакль «Примадонны, или Шоу продолжается»</td>\n",
       "      <td>https://quicktickets.ru/teatrkaluga/e10</td>\n",
       "      <td>NaN</td>\n",
       "      <td>214.0</td>\n",
       "      <td>ГБУК КО «Калужский ордена Трудового Красного З...</td>\n",
       "    </tr>\n",
       "    <tr>\n",
       "      <th>9</th>\n",
       "      <td>1878</td>\n",
       "      <td>Спектакль «Примадонны, или Шоу продолжается»</td>\n",
       "      <td>https://quicktickets.ru/teatrkaluga/e10</td>\n",
       "      <td>NaN</td>\n",
       "      <td>214.0</td>\n",
       "      <td>ГБУК КО «Калужский ордена Трудового Красного З...</td>\n",
       "    </tr>\n",
       "    <tr>\n",
       "      <th>10</th>\n",
       "      <td>5830</td>\n",
       "      <td>Спектакль «Грезы любви, или Женитьба Бальзамин...</td>\n",
       "      <td>http://www.vteatrekozlov.net/спектакли/женитьб...</td>\n",
       "      <td>NaN</td>\n",
       "      <td>7204.0</td>\n",
       "      <td>Санкт-Петербургский театр «Мастерская»</td>\n",
       "    </tr>\n",
       "    <tr>\n",
       "      <th>11</th>\n",
       "      <td>5830</td>\n",
       "      <td>Спектакль «Грезы любви, или Женитьба Бальзамин...</td>\n",
       "      <td>http://www.vteatrekozlov.net/спектакли/женитьб...</td>\n",
       "      <td>NaN</td>\n",
       "      <td>7204.0</td>\n",
       "      <td>Санкт-Петербургский театр «Мастерская»</td>\n",
       "    </tr>\n",
       "    <tr>\n",
       "      <th>12</th>\n",
       "      <td>5830</td>\n",
       "      <td>Спектакль «Грезы любви, или Женитьба Бальзамин...</td>\n",
       "      <td>http://www.vteatrekozlov.net/спектакли/женитьб...</td>\n",
       "      <td>NaN</td>\n",
       "      <td>7204.0</td>\n",
       "      <td>Санкт-Петербургский театр «Мастерская»</td>\n",
       "    </tr>\n",
       "    <tr>\n",
       "      <th>13</th>\n",
       "      <td>5830</td>\n",
       "      <td>Спектакль «Грезы любви, или Женитьба Бальзамин...</td>\n",
       "      <td>https://www.vteatrekozlov.net/zhenitba-balzami...</td>\n",
       "      <td>NaN</td>\n",
       "      <td>7204.0</td>\n",
       "      <td>Санкт-Петербургский театр «Мастерская»</td>\n",
       "    </tr>\n",
       "    <tr>\n",
       "      <th>14</th>\n",
       "      <td>6071</td>\n",
       "      <td>Спектакль «Здравствуйте, я ваша тетя!»</td>\n",
       "      <td>https://kurgandrama.ru/playbill/showhall?showi...</td>\n",
       "      <td>NaN</td>\n",
       "      <td>7011.0</td>\n",
       "      <td>Курганский театр драмы</td>\n",
       "    </tr>\n",
       "    <tr>\n",
       "      <th>15</th>\n",
       "      <td>6071</td>\n",
       "      <td>Спектакль «Здравствуйте, я ваша тетя!»</td>\n",
       "      <td>https://kurgandrama.ru/playbill/showhall?showi...</td>\n",
       "      <td>NaN</td>\n",
       "      <td>7013.0</td>\n",
       "      <td>ГАУ «Курганское театрально-концертное объедине...</td>\n",
       "    </tr>\n",
       "    <tr>\n",
       "      <th>16</th>\n",
       "      <td>6071</td>\n",
       "      <td>Спектакль «Здравствуйте, я ваша тетя!»</td>\n",
       "      <td>https://kurgandrama.ru/playbill/showhall?showi...</td>\n",
       "      <td>NaN</td>\n",
       "      <td>7013.0</td>\n",
       "      <td>ГАУ «Курганское театрально-концертное объедине...</td>\n",
       "    </tr>\n",
       "    <tr>\n",
       "      <th>17</th>\n",
       "      <td>6607</td>\n",
       "      <td>Спектакль «Травиата»</td>\n",
       "      <td>http://operann.ru/traviata.html</td>\n",
       "      <td>NaN</td>\n",
       "      <td>8417.0</td>\n",
       "      <td>ГБУК НО «Нижегородский государственный академи...</td>\n",
       "    </tr>\n",
       "    <tr>\n",
       "      <th>18</th>\n",
       "      <td>6613</td>\n",
       "      <td>Спектакль «Пиковая дама»</td>\n",
       "      <td>http://operann.ru/pikovaya-dama-4.html</td>\n",
       "      <td>NaN</td>\n",
       "      <td>8417.0</td>\n",
       "      <td>ГБУК НО «Нижегородский государственный академи...</td>\n",
       "    </tr>\n",
       "    <tr>\n",
       "      <th>19</th>\n",
       "      <td>6616</td>\n",
       "      <td>Спектакль «Ханума»</td>\n",
       "      <td>http://operann.ru/xanuma-2.html</td>\n",
       "      <td>NaN</td>\n",
       "      <td>8417.0</td>\n",
       "      <td>ГБУК НО «Нижегородский государственный академи...</td>\n",
       "    </tr>\n",
       "    <tr>\n",
       "      <th>20</th>\n",
       "      <td>6616</td>\n",
       "      <td>Спектакль «Ханума»</td>\n",
       "      <td>http://operann.ru/buy-tickets.html#/buy/2598</td>\n",
       "      <td>NaN</td>\n",
       "      <td>8417.0</td>\n",
       "      <td>ГБУК НО «Нижегородский государственный академи...</td>\n",
       "    </tr>\n",
       "    <tr>\n",
       "      <th>21</th>\n",
       "      <td>6616</td>\n",
       "      <td>Спектакль «Ханума»</td>\n",
       "      <td>https://operann.ru/tickets/#/buy/2692</td>\n",
       "      <td>NaN</td>\n",
       "      <td>8417.0</td>\n",
       "      <td>ГБУК НО «Нижегородский государственный академи...</td>\n",
       "    </tr>\n",
       "    <tr>\n",
       "      <th>22</th>\n",
       "      <td>6619</td>\n",
       "      <td>Спектакль «Моя прекрасная леди»</td>\n",
       "      <td>http://operann.ru/moya-prekrasnaya-ledi.html</td>\n",
       "      <td>NaN</td>\n",
       "      <td>8417.0</td>\n",
       "      <td>ГБУК НО «Нижегородский государственный академи...</td>\n",
       "    </tr>\n",
       "    <tr>\n",
       "      <th>23</th>\n",
       "      <td>6983</td>\n",
       "      <td>Спектакль «Женитьба»</td>\n",
       "      <td>https://quicktickets.ru/teatrkaluga/s1545</td>\n",
       "      <td>NaN</td>\n",
       "      <td>214.0</td>\n",
       "      <td>ГБУК КО «Калужский ордена Трудового Красного З...</td>\n",
       "    </tr>\n",
       "    <tr>\n",
       "      <th>24</th>\n",
       "      <td>7164</td>\n",
       "      <td>Спектакль «Возвращение»</td>\n",
       "      <td>http://www.ksc-samara.ru</td>\n",
       "      <td>NaN</td>\n",
       "      <td>5379.0</td>\n",
       "      <td>МБУК городского округа Самара «Театр драмы «Ка...</td>\n",
       "    </tr>\n",
       "    <tr>\n",
       "      <th>25</th>\n",
       "      <td>7164</td>\n",
       "      <td>Спектакль «Возвращение»</td>\n",
       "      <td>http://www.ksc-samara.ru</td>\n",
       "      <td>NaN</td>\n",
       "      <td>5379.0</td>\n",
       "      <td>МБУК городского округа Самара «Театр драмы «Ка...</td>\n",
       "    </tr>\n",
       "    <tr>\n",
       "      <th>26</th>\n",
       "      <td>7164</td>\n",
       "      <td>Спектакль «Возвращение»</td>\n",
       "      <td>https://lk.zakaz.cloud/b/5/530</td>\n",
       "      <td>NaN</td>\n",
       "      <td>5379.0</td>\n",
       "      <td>МБУК городского округа Самара «Театр драмы «Ка...</td>\n",
       "    </tr>\n",
       "    <tr>\n",
       "      <th>27</th>\n",
       "      <td>7164</td>\n",
       "      <td>Спектакль «Возвращение»</td>\n",
       "      <td>https://lk.zakaz.cloud/b/5/530</td>\n",
       "      <td>NaN</td>\n",
       "      <td>5379.0</td>\n",
       "      <td>МБУК городского округа Самара «Театр драмы «Ка...</td>\n",
       "    </tr>\n",
       "    <tr>\n",
       "      <th>28</th>\n",
       "      <td>7200</td>\n",
       "      <td>Спектакль «Дикарь»</td>\n",
       "      <td>https://quicktickets.ru/teatrkaluga/e19</td>\n",
       "      <td>NaN</td>\n",
       "      <td>214.0</td>\n",
       "      <td>ГБУК КО «Калужский ордена Трудового Красного З...</td>\n",
       "    </tr>\n",
       "    <tr>\n",
       "      <th>29</th>\n",
       "      <td>7200</td>\n",
       "      <td>Спектакль «Дикарь»</td>\n",
       "      <td>https://quicktickets.ru/teatrkaluga/e19</td>\n",
       "      <td>NaN</td>\n",
       "      <td>214.0</td>\n",
       "      <td>ГБУК КО «Калужский ордена Трудового Красного З...</td>\n",
       "    </tr>\n",
       "    <tr>\n",
       "      <th>30</th>\n",
       "      <td>7200</td>\n",
       "      <td>Спектакль «Дикарь»</td>\n",
       "      <td>https://quicktickets.ru/teatrkaluga/e19</td>\n",
       "      <td>NaN</td>\n",
       "      <td>214.0</td>\n",
       "      <td>ГБУК КО «Калужский ордена Трудового Красного З...</td>\n",
       "    </tr>\n",
       "    <tr>\n",
       "      <th>31</th>\n",
       "      <td>7279</td>\n",
       "      <td>Спектакль «Бедные люди»</td>\n",
       "      <td>https://www.tyuz-spb.ru/spektakli/93-bednye-ly...</td>\n",
       "      <td>NaN</td>\n",
       "      <td>6309.0</td>\n",
       "      <td>ГБУК «Театр юных зрителей им. А.А. Брянцева»</td>\n",
       "    </tr>\n",
       "    <tr>\n",
       "      <th>32</th>\n",
       "      <td>7691</td>\n",
       "      <td>Спектакль «Золотой теленок»</td>\n",
       "      <td>https://volkovteatr.ru/repertoire/curent/zolot...</td>\n",
       "      <td>NaN</td>\n",
       "      <td>9678.0</td>\n",
       "      <td>ФГБУК «Российский государственный академически...</td>\n",
       "    </tr>\n",
       "    <tr>\n",
       "      <th>33</th>\n",
       "      <td>7691</td>\n",
       "      <td>Спектакль «Золотой теленок»</td>\n",
       "      <td>https://volkovteatr.ru/repertoire/curent/zolot...</td>\n",
       "      <td>NaN</td>\n",
       "      <td>9678.0</td>\n",
       "      <td>ФГБУК «Российский государственный академически...</td>\n",
       "    </tr>\n",
       "    <tr>\n",
       "      <th>34</th>\n",
       "      <td>7691</td>\n",
       "      <td>Спектакль «Золотой теленок»</td>\n",
       "      <td>https://volkovteatr.ru/repertoire/curent/zolot...</td>\n",
       "      <td>NaN</td>\n",
       "      <td>9678.0</td>\n",
       "      <td>ФГБУК «Российский государственный академически...</td>\n",
       "    </tr>\n",
       "    <tr>\n",
       "      <th>35</th>\n",
       "      <td>7757</td>\n",
       "      <td>Спектакль «Герострат»</td>\n",
       "      <td>https://lk.zakaz.cloud/b/1/1066</td>\n",
       "      <td>NaN</td>\n",
       "      <td>9134.0</td>\n",
       "      <td>МБУК «Театр «Самарская площадь»</td>\n",
       "    </tr>\n",
       "    <tr>\n",
       "      <th>36</th>\n",
       "      <td>7757</td>\n",
       "      <td>Спектакль «Герострат»</td>\n",
       "      <td>https://lk.zakaz.cloud/b/1/1066</td>\n",
       "      <td>NaN</td>\n",
       "      <td>9134.0</td>\n",
       "      <td>МБУК «Театр «Самарская площадь»</td>\n",
       "    </tr>\n",
       "    <tr>\n",
       "      <th>37</th>\n",
       "      <td>7757</td>\n",
       "      <td>Спектакль «Герострат»</td>\n",
       "      <td>https://lk.zakaz.cloud/b/1/1100</td>\n",
       "      <td>https://lk.zakaz.cloud/b/1/1066</td>\n",
       "      <td>9134.0</td>\n",
       "      <td>МБУК «Театр «Самарская площадь»</td>\n",
       "    </tr>\n",
       "    <tr>\n",
       "      <th>38</th>\n",
       "      <td>7785</td>\n",
       "      <td>Спектакль «Картинки с выставки»</td>\n",
       "      <td>https://uralkukla.ru/repertuar/dlya-zritelei-o...</td>\n",
       "      <td>NaN</td>\n",
       "      <td>6875.0</td>\n",
       "      <td>МАУК «Екатеринбургский театр кукол»</td>\n",
       "    </tr>\n",
       "    <tr>\n",
       "      <th>39</th>\n",
       "      <td>7790</td>\n",
       "      <td>Спектакль «Бобок»</td>\n",
       "      <td>https://uralkukla.ru/repertuar/dlya-zritelei-o...</td>\n",
       "      <td>NaN</td>\n",
       "      <td>6875.0</td>\n",
       "      <td>МАУК «Екатеринбургский театр кукол»</td>\n",
       "    </tr>\n",
       "    <tr>\n",
       "      <th>40</th>\n",
       "      <td>7790</td>\n",
       "      <td>Спектакль «Бобок»</td>\n",
       "      <td>https://uralkukla.ru/repertuar/dlya-zritelei-o...</td>\n",
       "      <td>NaN</td>\n",
       "      <td>6875.0</td>\n",
       "      <td>МАУК «Екатеринбургский театр кукол»</td>\n",
       "    </tr>\n",
       "    <tr>\n",
       "      <th>41</th>\n",
       "      <td>7821</td>\n",
       "      <td>Спектакль «Халиф-Аладдин»</td>\n",
       "      <td>https://quicktickets.ru/tula-tyuz/e7</td>\n",
       "      <td>NaN</td>\n",
       "      <td>490.0</td>\n",
       "      <td>ГУК ТО «Тульский областной театр юного зрителя»</td>\n",
       "    </tr>\n",
       "    <tr>\n",
       "      <th>42</th>\n",
       "      <td>7821</td>\n",
       "      <td>Спектакль «Халиф-Аладдин»</td>\n",
       "      <td>https://quicktickets.ru/tula-tyuz/e7</td>\n",
       "      <td>NaN</td>\n",
       "      <td>490.0</td>\n",
       "      <td>ГУК ТО «Тульский областной театр юного зрителя»</td>\n",
       "    </tr>\n",
       "    <tr>\n",
       "      <th>43</th>\n",
       "      <td>7970</td>\n",
       "      <td>Спектакль «Апельсиновые сказки»</td>\n",
       "      <td>https://uralkukla.ru/repertuar/dlya-detei-ot-5...</td>\n",
       "      <td>NaN</td>\n",
       "      <td>6875.0</td>\n",
       "      <td>МАУК «Екатеринбургский театр кукол»</td>\n",
       "    </tr>\n",
       "    <tr>\n",
       "      <th>44</th>\n",
       "      <td>7974</td>\n",
       "      <td>Спектакль «Чайка»</td>\n",
       "      <td>https://lk.zakaz.cloud/b/1/1054</td>\n",
       "      <td>NaN</td>\n",
       "      <td>9134.0</td>\n",
       "      <td>МБУК «Театр «Самарская площадь»</td>\n",
       "    </tr>\n",
       "    <tr>\n",
       "      <th>45</th>\n",
       "      <td>7974</td>\n",
       "      <td>Спектакль «Чайка»</td>\n",
       "      <td>https://lk.zakaz.cloud/b/1/1054</td>\n",
       "      <td>NaN</td>\n",
       "      <td>9134.0</td>\n",
       "      <td>МБУК «Театр «Самарская площадь»</td>\n",
       "    </tr>\n",
       "    <tr>\n",
       "      <th>46</th>\n",
       "      <td>7974</td>\n",
       "      <td>Спектакль «Чайка»</td>\n",
       "      <td>https://lk.zakaz.cloud/b/1/1089</td>\n",
       "      <td>NaN</td>\n",
       "      <td>9134.0</td>\n",
       "      <td>МБУК «Театр «Самарская площадь»</td>\n",
       "    </tr>\n",
       "    <tr>\n",
       "      <th>47</th>\n",
       "      <td>7974</td>\n",
       "      <td>Спектакль «Чайка»</td>\n",
       "      <td>https://lk.zakaz.cloud/b/1/1114</td>\n",
       "      <td>NaN</td>\n",
       "      <td>9134.0</td>\n",
       "      <td>МБУК «Театр «Самарская площадь»</td>\n",
       "    </tr>\n",
       "    <tr>\n",
       "      <th>48</th>\n",
       "      <td>8069</td>\n",
       "      <td>Балет «Ромео и Джульетта»</td>\n",
       "      <td>https://permopera.ru/playbills/repertoire/rome...</td>\n",
       "      <td>NaN</td>\n",
       "      <td>7469.0</td>\n",
       "      <td>ГКБУК «Пермский театр оперы и балета им. П. И....</td>\n",
       "    </tr>\n",
       "    <tr>\n",
       "      <th>49</th>\n",
       "      <td>8294</td>\n",
       "      <td>Опера «Мадам Баттерфляй»</td>\n",
       "      <td>http://www.zazerkal.spb.ru/tickets/403.htm</td>\n",
       "      <td>NaN</td>\n",
       "      <td>7506.0</td>\n",
       "      <td>Санкт-Петербургский государственный детский му...</td>\n",
       "    </tr>\n",
       "  </tbody>\n",
       "</table>\n",
       "</div>"
      ],
      "text/plain": [
       "    entity._id                                        entity.name  \\\n",
       "0           36                                Спектакль «Касатка»   \n",
       "1           86                            Спектакль «Горе от ума»   \n",
       "2           86                            Спектакль «Горе от ума»   \n",
       "3          139                                  Спектакль «Куклы»   \n",
       "4          150                     Спектакль «Филумена Мартурано»   \n",
       "5          155              Спектакль в фойе «С любовью не шутят»   \n",
       "6          890                              Спектакль «Терешечка»   \n",
       "7         1591                        Спектакль «История солдата»   \n",
       "8         1878       Спектакль «Примадонны, или Шоу продолжается»   \n",
       "9         1878       Спектакль «Примадонны, или Шоу продолжается»   \n",
       "10        5830  Спектакль «Грезы любви, или Женитьба Бальзамин...   \n",
       "11        5830  Спектакль «Грезы любви, или Женитьба Бальзамин...   \n",
       "12        5830  Спектакль «Грезы любви, или Женитьба Бальзамин...   \n",
       "13        5830  Спектакль «Грезы любви, или Женитьба Бальзамин...   \n",
       "14        6071             Спектакль «Здравствуйте, я ваша тетя!»   \n",
       "15        6071             Спектакль «Здравствуйте, я ваша тетя!»   \n",
       "16        6071             Спектакль «Здравствуйте, я ваша тетя!»   \n",
       "17        6607                               Спектакль «Травиата»   \n",
       "18        6613                           Спектакль «Пиковая дама»   \n",
       "19        6616                                 Спектакль «Ханума»   \n",
       "20        6616                                 Спектакль «Ханума»   \n",
       "21        6616                                 Спектакль «Ханума»   \n",
       "22        6619                    Спектакль «Моя прекрасная леди»   \n",
       "23        6983                               Спектакль «Женитьба»   \n",
       "24        7164                            Спектакль «Возвращение»   \n",
       "25        7164                            Спектакль «Возвращение»   \n",
       "26        7164                            Спектакль «Возвращение»   \n",
       "27        7164                            Спектакль «Возвращение»   \n",
       "28        7200                                 Спектакль «Дикарь»   \n",
       "29        7200                                 Спектакль «Дикарь»   \n",
       "30        7200                                 Спектакль «Дикарь»   \n",
       "31        7279                            Спектакль «Бедные люди»   \n",
       "32        7691                        Спектакль «Золотой теленок»   \n",
       "33        7691                        Спектакль «Золотой теленок»   \n",
       "34        7691                        Спектакль «Золотой теленок»   \n",
       "35        7757                              Спектакль «Герострат»   \n",
       "36        7757                              Спектакль «Герострат»   \n",
       "37        7757                              Спектакль «Герострат»   \n",
       "38        7785                    Спектакль «Картинки с выставки»   \n",
       "39        7790                                  Спектакль «Бобок»   \n",
       "40        7790                                  Спектакль «Бобок»   \n",
       "41        7821                          Спектакль «Халиф-Аладдин»   \n",
       "42        7821                          Спектакль «Халиф-Аладдин»   \n",
       "43        7970                    Спектакль «Апельсиновые сказки»   \n",
       "44        7974                                  Спектакль «Чайка»   \n",
       "45        7974                                  Спектакль «Чайка»   \n",
       "46        7974                                  Спектакль «Чайка»   \n",
       "47        7974                                  Спектакль «Чайка»   \n",
       "48        8069                          Балет «Ромео и Джульетта»   \n",
       "49        8294                           Опера «Мадам Баттерфляй»   \n",
       "\n",
       "                                      entity.saleLink  \\\n",
       "0   https://quicktickets.ru/belgorodskiy-dramatich...   \n",
       "1   https://quicktickets.ru/belgorodskiy-dramatich...   \n",
       "2   https://quicktickets.ru/belgorodskiy-dramatich...   \n",
       "3   https://quicktickets.ru/belgorodskiy-dramatich...   \n",
       "4   https://quicktickets.ru/belgorodskiy-dramatich...   \n",
       "5   https://quicktickets.ru/belgorodskiy-dramatich...   \n",
       "6   https://quicktickets.ru/belgorodskiy-gosudarst...   \n",
       "7   https://quicktickets.ru/belgorodskiy-gosudarst...   \n",
       "8             https://quicktickets.ru/teatrkaluga/e10   \n",
       "9             https://quicktickets.ru/teatrkaluga/e10   \n",
       "10  http://www.vteatrekozlov.net/спектакли/женитьб...   \n",
       "11  http://www.vteatrekozlov.net/спектакли/женитьб...   \n",
       "12  http://www.vteatrekozlov.net/спектакли/женитьб...   \n",
       "13  https://www.vteatrekozlov.net/zhenitba-balzami...   \n",
       "14  https://kurgandrama.ru/playbill/showhall?showi...   \n",
       "15  https://kurgandrama.ru/playbill/showhall?showi...   \n",
       "16  https://kurgandrama.ru/playbill/showhall?showi...   \n",
       "17                    http://operann.ru/traviata.html   \n",
       "18             http://operann.ru/pikovaya-dama-4.html   \n",
       "19                    http://operann.ru/xanuma-2.html   \n",
       "20       http://operann.ru/buy-tickets.html#/buy/2598   \n",
       "21              https://operann.ru/tickets/#/buy/2692   \n",
       "22       http://operann.ru/moya-prekrasnaya-ledi.html   \n",
       "23          https://quicktickets.ru/teatrkaluga/s1545   \n",
       "24                           http://www.ksc-samara.ru   \n",
       "25                           http://www.ksc-samara.ru   \n",
       "26                     https://lk.zakaz.cloud/b/5/530   \n",
       "27                     https://lk.zakaz.cloud/b/5/530   \n",
       "28            https://quicktickets.ru/teatrkaluga/e19   \n",
       "29            https://quicktickets.ru/teatrkaluga/e19   \n",
       "30            https://quicktickets.ru/teatrkaluga/e19   \n",
       "31  https://www.tyuz-spb.ru/spektakli/93-bednye-ly...   \n",
       "32  https://volkovteatr.ru/repertoire/curent/zolot...   \n",
       "33  https://volkovteatr.ru/repertoire/curent/zolot...   \n",
       "34  https://volkovteatr.ru/repertoire/curent/zolot...   \n",
       "35                    https://lk.zakaz.cloud/b/1/1066   \n",
       "36                    https://lk.zakaz.cloud/b/1/1066   \n",
       "37                    https://lk.zakaz.cloud/b/1/1100   \n",
       "38  https://uralkukla.ru/repertuar/dlya-zritelei-o...   \n",
       "39  https://uralkukla.ru/repertuar/dlya-zritelei-o...   \n",
       "40  https://uralkukla.ru/repertuar/dlya-zritelei-o...   \n",
       "41               https://quicktickets.ru/tula-tyuz/e7   \n",
       "42               https://quicktickets.ru/tula-tyuz/e7   \n",
       "43  https://uralkukla.ru/repertuar/dlya-detei-ot-5...   \n",
       "44                    https://lk.zakaz.cloud/b/1/1054   \n",
       "45                    https://lk.zakaz.cloud/b/1/1054   \n",
       "46                    https://lk.zakaz.cloud/b/1/1089   \n",
       "47                    https://lk.zakaz.cloud/b/1/1114   \n",
       "48  https://permopera.ru/playbills/repertoire/rome...   \n",
       "49         http://www.zazerkal.spb.ru/tickets/403.htm   \n",
       "\n",
       "                         entity.additionalSaleLinks.0  \\\n",
       "0                                                 NaN   \n",
       "1                                                 NaN   \n",
       "2                                                 NaN   \n",
       "3                                                 NaN   \n",
       "4                                                 NaN   \n",
       "5   https://quicktickets.ru/belgorodskiy-dramatich...   \n",
       "6                                                 NaN   \n",
       "7                                                 NaN   \n",
       "8                                                 NaN   \n",
       "9                                                 NaN   \n",
       "10                                                NaN   \n",
       "11                                                NaN   \n",
       "12                                                NaN   \n",
       "13                                                NaN   \n",
       "14                                                NaN   \n",
       "15                                                NaN   \n",
       "16                                                NaN   \n",
       "17                                                NaN   \n",
       "18                                                NaN   \n",
       "19                                                NaN   \n",
       "20                                                NaN   \n",
       "21                                                NaN   \n",
       "22                                                NaN   \n",
       "23                                                NaN   \n",
       "24                                                NaN   \n",
       "25                                                NaN   \n",
       "26                                                NaN   \n",
       "27                                                NaN   \n",
       "28                                                NaN   \n",
       "29                                                NaN   \n",
       "30                                                NaN   \n",
       "31                                                NaN   \n",
       "32                                                NaN   \n",
       "33                                                NaN   \n",
       "34                                                NaN   \n",
       "35                                                NaN   \n",
       "36                                                NaN   \n",
       "37                    https://lk.zakaz.cloud/b/1/1066   \n",
       "38                                                NaN   \n",
       "39                                                NaN   \n",
       "40                                                NaN   \n",
       "41                                                NaN   \n",
       "42                                                NaN   \n",
       "43                                                NaN   \n",
       "44                                                NaN   \n",
       "45                                                NaN   \n",
       "46                                                NaN   \n",
       "47                                                NaN   \n",
       "48                                                NaN   \n",
       "49                                                NaN   \n",
       "\n",
       "    entity.organization._id                           entity.organization.name  \n",
       "0                       6.0    ОГАУК «Драматический театр имени М. С. Щепкина»  \n",
       "1                       6.0    ОГАУК «Драматический театр имени М. С. Щепкина»  \n",
       "2                       6.0    ОГАУК «Драматический театр имени М. С. Щепкина»  \n",
       "3                       6.0    ОГАУК «Драматический театр имени М. С. Щепкина»  \n",
       "4                       6.0    ОГАУК «Драматический театр имени М. С. Щепкина»  \n",
       "5                       6.0    ОГАУК «Драматический театр имени М. С. Щепкина»  \n",
       "6                      10.0    ГБУК «Белгородский государственный театр кукол»  \n",
       "7                      10.0    ГБУК «Белгородский государственный театр кукол»  \n",
       "8                     214.0  ГБУК КО «Калужский ордена Трудового Красного З...  \n",
       "9                     214.0  ГБУК КО «Калужский ордена Трудового Красного З...  \n",
       "10                   7204.0             Санкт-Петербургский театр «Мастерская»  \n",
       "11                   7204.0             Санкт-Петербургский театр «Мастерская»  \n",
       "12                   7204.0             Санкт-Петербургский театр «Мастерская»  \n",
       "13                   7204.0             Санкт-Петербургский театр «Мастерская»  \n",
       "14                   7011.0                             Курганский театр драмы  \n",
       "15                   7013.0  ГАУ «Курганское театрально-концертное объедине...  \n",
       "16                   7013.0  ГАУ «Курганское театрально-концертное объедине...  \n",
       "17                   8417.0  ГБУК НО «Нижегородский государственный академи...  \n",
       "18                   8417.0  ГБУК НО «Нижегородский государственный академи...  \n",
       "19                   8417.0  ГБУК НО «Нижегородский государственный академи...  \n",
       "20                   8417.0  ГБУК НО «Нижегородский государственный академи...  \n",
       "21                   8417.0  ГБУК НО «Нижегородский государственный академи...  \n",
       "22                   8417.0  ГБУК НО «Нижегородский государственный академи...  \n",
       "23                    214.0  ГБУК КО «Калужский ордена Трудового Красного З...  \n",
       "24                   5379.0  МБУК городского округа Самара «Театр драмы «Ка...  \n",
       "25                   5379.0  МБУК городского округа Самара «Театр драмы «Ка...  \n",
       "26                   5379.0  МБУК городского округа Самара «Театр драмы «Ка...  \n",
       "27                   5379.0  МБУК городского округа Самара «Театр драмы «Ка...  \n",
       "28                    214.0  ГБУК КО «Калужский ордена Трудового Красного З...  \n",
       "29                    214.0  ГБУК КО «Калужский ордена Трудового Красного З...  \n",
       "30                    214.0  ГБУК КО «Калужский ордена Трудового Красного З...  \n",
       "31                   6309.0       ГБУК «Театр юных зрителей им. А.А. Брянцева»  \n",
       "32                   9678.0  ФГБУК «Российский государственный академически...  \n",
       "33                   9678.0  ФГБУК «Российский государственный академически...  \n",
       "34                   9678.0  ФГБУК «Российский государственный академически...  \n",
       "35                   9134.0                    МБУК «Театр «Самарская площадь»  \n",
       "36                   9134.0                    МБУК «Театр «Самарская площадь»  \n",
       "37                   9134.0                    МБУК «Театр «Самарская площадь»  \n",
       "38                   6875.0                МАУК «Екатеринбургский театр кукол»  \n",
       "39                   6875.0                МАУК «Екатеринбургский театр кукол»  \n",
       "40                   6875.0                МАУК «Екатеринбургский театр кукол»  \n",
       "41                    490.0    ГУК ТО «Тульский областной театр юного зрителя»  \n",
       "42                    490.0    ГУК ТО «Тульский областной театр юного зрителя»  \n",
       "43                   6875.0                МАУК «Екатеринбургский театр кукол»  \n",
       "44                   9134.0                    МБУК «Театр «Самарская площадь»  \n",
       "45                   9134.0                    МБУК «Театр «Самарская площадь»  \n",
       "46                   9134.0                    МБУК «Театр «Самарская площадь»  \n",
       "47                   9134.0                    МБУК «Театр «Самарская площадь»  \n",
       "48                   7469.0  ГКБУК «Пермский театр оперы и балета им. П. И....  \n",
       "49                   7506.0  Санкт-Петербургский государственный детский му...  "
      ]
     },
     "execution_count": 14,
     "metadata": {},
     "output_type": "execute_result"
    }
   ],
   "source": [
    "events_pushka_accepted_30122021.head(50)"
   ]
  },
  {
   "cell_type": "code",
   "execution_count": 15,
   "metadata": {},
   "outputs": [
    {
     "name": "stdout",
     "output_type": "stream",
     "text": [
      "<class 'pandas.core.frame.DataFrame'>\n",
      "RangeIndex: 47856 entries, 0 to 47855\n",
      "Data columns (total 6 columns):\n",
      " #   Column                        Non-Null Count  Dtype  \n",
      "---  ------                        --------------  -----  \n",
      " 0   entity._id                    47856 non-null  int64  \n",
      " 1   entity.name                   47220 non-null  object \n",
      " 2   entity.saleLink               47218 non-null  object \n",
      " 3   entity.additionalSaleLinks.0  4636 non-null   object \n",
      " 4   entity.organization._id       47220 non-null  float64\n",
      " 5   entity.organization.name      47220 non-null  object \n",
      "dtypes: float64(1), int64(1), object(4)\n",
      "memory usage: 2.2+ MB\n"
     ]
    }
   ],
   "source": [
    "events_pushka_accepted_30122021.info()"
   ]
  },
  {
   "cell_type": "code",
   "execution_count": 16,
   "metadata": {},
   "outputs": [],
   "source": [
    "events_pushka_accepted_30122021 = events_pushka_accepted_30122021[(events_pushka_accepted_30122021['entity.saleLink'].notna())|\n",
    "                                                                 (events_pushka_accepted_30122021['entity.additionalSaleLinks.0'])]"
   ]
  },
  {
   "cell_type": "code",
   "execution_count": 17,
   "metadata": {},
   "outputs": [],
   "source": [
    "events_pushka_accepted_30122021['session_identity'] = events_pushka_accepted_30122021['entity.name'\n",
    "                                                                                     ].apply(lambda x:\n",
    "                                                                                            x.split()[0].strip())"
   ]
  },
  {
   "cell_type": "code",
   "execution_count": 18,
   "metadata": {},
   "outputs": [],
   "source": [
    "events_pushka_accepted_30122021 = events_pushka_accepted_30122021.rename(columns= {'entity.saleLink': 'url',\n",
    "                                                                                  'entity._id': 'session_id',\n",
    "                                                                                  'entity.name': 'session_name',\n",
    "                                                                                  'entity.additionalSaleLinks.0': 'additional_url',\n",
    "                                                                                  'entity.organization._id': 'organization_id',\n",
    "                                                                                  'entity.organization.name': 'organization_name'})"
   ]
  },
  {
   "cell_type": "code",
   "execution_count": 19,
   "metadata": {},
   "outputs": [],
   "source": [
    "events_all = pd.concat([events_pushka_accepted_30122021, events])"
   ]
  },
  {
   "cell_type": "code",
   "execution_count": 20,
   "metadata": {},
   "outputs": [
    {
     "name": "stdout",
     "output_type": "stream",
     "text": [
      "<class 'pandas.core.frame.DataFrame'>\n",
      "Int64Index: 89369 entries, 0 to 42153\n",
      "Data columns (total 7 columns):\n",
      " #   Column             Non-Null Count  Dtype  \n",
      "---  ------             --------------  -----  \n",
      " 0   session_id         89369 non-null  int64  \n",
      " 1   session_name       89369 non-null  object \n",
      " 2   url                89369 non-null  object \n",
      " 3   additional_url     8453 non-null   object \n",
      " 4   organization_id    47218 non-null  float64\n",
      " 5   organization_name  89369 non-null  object \n",
      " 6   session_identity   89369 non-null  object \n",
      "dtypes: float64(1), int64(1), object(5)\n",
      "memory usage: 5.5+ MB\n"
     ]
    }
   ],
   "source": [
    "events_all.info()"
   ]
  },
  {
   "cell_type": "code",
   "execution_count": 21,
   "metadata": {},
   "outputs": [],
   "source": [
    "events_all = events_all.drop_duplicates(['session_id', 'url', 'additional_url'])"
   ]
  },
  {
   "cell_type": "code",
   "execution_count": 22,
   "metadata": {},
   "outputs": [
    {
     "name": "stdout",
     "output_type": "stream",
     "text": [
      "<class 'pandas.core.frame.DataFrame'>\n",
      "Int64Index: 51092 entries, 0 to 42153\n",
      "Data columns (total 7 columns):\n",
      " #   Column             Non-Null Count  Dtype  \n",
      "---  ------             --------------  -----  \n",
      " 0   session_id         51092 non-null  int64  \n",
      " 1   session_name       51092 non-null  object \n",
      " 2   url                51092 non-null  object \n",
      " 3   additional_url     5793 non-null   object \n",
      " 4   organization_id    35611 non-null  float64\n",
      " 5   organization_name  51092 non-null  object \n",
      " 6   session_identity   51092 non-null  object \n",
      "dtypes: float64(1), int64(1), object(5)\n",
      "memory usage: 3.1+ MB\n"
     ]
    }
   ],
   "source": [
    "events_all.info()"
   ]
  },
  {
   "cell_type": "code",
   "execution_count": 23,
   "metadata": {},
   "outputs": [],
   "source": [
    "org_id_dict = dict(zip(organizations['Учреждение'], organizations['ID']))"
   ]
  },
  {
   "cell_type": "code",
   "execution_count": 24,
   "metadata": {},
   "outputs": [],
   "source": [
    "from typing import List, Union, Optional"
   ]
  },
  {
   "cell_type": "code",
   "execution_count": 25,
   "metadata": {},
   "outputs": [],
   "source": [
    "def get_org_id(org_name: str, org_dict: dict) -> Optional[int]:\n",
    "    try:\n",
    "        return org_dict[org_name]\n",
    "    except KeyError:\n",
    "        return None"
   ]
  },
  {
   "cell_type": "code",
   "execution_count": 26,
   "metadata": {},
   "outputs": [],
   "source": [
    "events_all['organization_id'].fillna(events_all[events_all['organization_id'].isnull()]['organization_name'].apply(func=get_org_id, org_dict=org_id_dict), inplace=True)"
   ]
  },
  {
   "cell_type": "code",
   "execution_count": 27,
   "metadata": {},
   "outputs": [],
   "source": [
    "events_all= events_all.astype({\"organization_id\": \"int\"})"
   ]
  },
  {
   "cell_type": "code",
   "execution_count": 28,
   "metadata": {},
   "outputs": [],
   "source": [
    "events_1 = events_all[events_all['additional_url'].isnull()].drop('additional_url', axis=1)"
   ]
  },
  {
   "cell_type": "code",
   "execution_count": 29,
   "metadata": {},
   "outputs": [],
   "source": [
    "events_2 = events_all[events_all['url'] == events_all['additional_url']].drop('additional_url', axis=1)"
   ]
  },
  {
   "cell_type": "code",
   "execution_count": 30,
   "metadata": {},
   "outputs": [],
   "source": [
    "events_3 = events_all.loc[events_all['additional_url'].notna()].drop_duplicates(subset=['additional_url', 'url']).drop('additional_url', axis=1)"
   ]
  },
  {
   "cell_type": "code",
   "execution_count": 31,
   "metadata": {},
   "outputs": [],
   "source": [
    "events_4 = events_all.loc[events_all['additional_url'].notna()].drop_duplicates(subset=['additional_url', 'url']).drop('url', axis=1).rename(columns = {'additional_url': 'url'})"
   ]
  },
  {
   "cell_type": "code",
   "execution_count": 32,
   "metadata": {},
   "outputs": [],
   "source": [
    "event = pd.concat([events_1, events_2, events_3, events_4], ignore_index=True)"
   ]
  },
  {
   "cell_type": "code",
   "execution_count": 33,
   "metadata": {},
   "outputs": [],
   "source": [
    "event.drop_duplicates(inplace=True)"
   ]
  },
  {
   "cell_type": "code",
   "execution_count": 34,
   "metadata": {},
   "outputs": [
    {
     "name": "stdout",
     "output_type": "stream",
     "text": [
      "<class 'pandas.core.frame.DataFrame'>\n",
      "Int64Index: 54608 entries, 0 to 56661\n",
      "Data columns (total 6 columns):\n",
      " #   Column             Non-Null Count  Dtype \n",
      "---  ------             --------------  ----- \n",
      " 0   session_id         54608 non-null  int64 \n",
      " 1   session_name       54608 non-null  object\n",
      " 2   url                54608 non-null  object\n",
      " 3   organization_id    54608 non-null  int32 \n",
      " 4   organization_name  54608 non-null  object\n",
      " 5   session_identity   54608 non-null  object\n",
      "dtypes: int32(1), int64(1), object(4)\n",
      "memory usage: 2.7+ MB\n"
     ]
    }
   ],
   "source": [
    "event.info()"
   ]
  },
  {
   "cell_type": "code",
   "execution_count": 35,
   "metadata": {},
   "outputs": [],
   "source": [
    "events_links = event['url'].unique()"
   ]
  },
  {
   "cell_type": "code",
   "execution_count": 36,
   "metadata": {},
   "outputs": [
    {
     "data": {
      "text/plain": [
       "47736"
      ]
     },
     "execution_count": 36,
     "metadata": {},
     "output_type": "execute_result"
    }
   ],
   "source": [
    "len(events_links)"
   ]
  },
  {
   "cell_type": "code",
   "execution_count": 37,
   "metadata": {},
   "outputs": [],
   "source": [
    "click_links = click['url'].unique()"
   ]
  },
  {
   "cell_type": "code",
   "execution_count": 38,
   "metadata": {},
   "outputs": [
    {
     "data": {
      "text/plain": [
       "19923"
      ]
     },
     "execution_count": 38,
     "metadata": {},
     "output_type": "execute_result"
    }
   ],
   "source": [
    "len(click_links)"
   ]
  },
  {
   "cell_type": "code",
   "execution_count": 39,
   "metadata": {},
   "outputs": [],
   "source": [
    "equal_links = []\n",
    "\n",
    "for i in click_links:\n",
    "    for j in events_links:\n",
    "        if i == j:\n",
    "            equal_links.append(i)"
   ]
  },
  {
   "cell_type": "code",
   "execution_count": 40,
   "metadata": {},
   "outputs": [],
   "source": [
    "click_filter = click['url'].isin(equal_links)\n",
    "click = click[click_filter]"
   ]
  },
  {
   "cell_type": "code",
   "execution_count": 41,
   "metadata": {},
   "outputs": [],
   "source": [
    "diff = list(set(click_links) - set(equal_links))"
   ]
  },
  {
   "cell_type": "code",
   "execution_count": 42,
   "metadata": {},
   "outputs": [
    {
     "data": {
      "text/plain": [
       "166"
      ]
     },
     "execution_count": 42,
     "metadata": {},
     "output_type": "execute_result"
    }
   ],
   "source": [
    "len(diff)"
   ]
  },
  {
   "cell_type": "code",
   "execution_count": 43,
   "metadata": {},
   "outputs": [],
   "source": [
    "cliks_add = pd.merge(click, event, how = 'left', on = 'url')"
   ]
  },
  {
   "cell_type": "code",
   "execution_count": 44,
   "metadata": {},
   "outputs": [
    {
     "data": {
      "text/html": [
       "<div>\n",
       "<style scoped>\n",
       "    .dataframe tbody tr th:only-of-type {\n",
       "        vertical-align: middle;\n",
       "    }\n",
       "\n",
       "    .dataframe tbody tr th {\n",
       "        vertical-align: top;\n",
       "    }\n",
       "\n",
       "    .dataframe thead th {\n",
       "        text-align: right;\n",
       "    }\n",
       "</style>\n",
       "<table border=\"1\" class=\"dataframe\">\n",
       "  <thead>\n",
       "    <tr style=\"text-align: right;\">\n",
       "      <th></th>\n",
       "      <th>create_time</th>\n",
       "      <th>create_date</th>\n",
       "      <th>user_phone_details</th>\n",
       "      <th>buyer_mobile_phone</th>\n",
       "      <th>user_id</th>\n",
       "      <th>url</th>\n",
       "      <th>session_id</th>\n",
       "      <th>session_name</th>\n",
       "      <th>organization_id</th>\n",
       "      <th>organization_name</th>\n",
       "      <th>session_identity</th>\n",
       "    </tr>\n",
       "  </thead>\n",
       "  <tbody>\n",
       "    <tr>\n",
       "      <th>0</th>\n",
       "      <td>2021-11-28 21:32:53</td>\n",
       "      <td>2021-11-28</td>\n",
       "      <td>Android, 10 (SDK 29)</td>\n",
       "      <td>ce730a5e7bb6372aad126e934320b75c</td>\n",
       "      <td>08014dcd786881f349938c9255e9df36</td>\n",
       "      <td>https://theatreofnations.ru/performances/shved...</td>\n",
       "      <td>717865</td>\n",
       "      <td>Спектакль «Шведская спичка»</td>\n",
       "      <td>7577</td>\n",
       "      <td>ФГБУК «Государственный театр наций»</td>\n",
       "      <td>Спектакль</td>\n",
       "    </tr>\n",
       "    <tr>\n",
       "      <th>1</th>\n",
       "      <td>2021-11-28 21:41:52</td>\n",
       "      <td>2021-11-28</td>\n",
       "      <td>Android, 10 (SDK 29)</td>\n",
       "      <td>ce730a5e7bb6372aad126e934320b75c</td>\n",
       "      <td>08014dcd786881f349938c9255e9df36</td>\n",
       "      <td>https://theatreofnations.ru/performances/shved...</td>\n",
       "      <td>717865</td>\n",
       "      <td>Спектакль «Шведская спичка»</td>\n",
       "      <td>7577</td>\n",
       "      <td>ФГБУК «Государственный театр наций»</td>\n",
       "      <td>Спектакль</td>\n",
       "    </tr>\n",
       "    <tr>\n",
       "      <th>2</th>\n",
       "      <td>2021-11-28 21:25:13</td>\n",
       "      <td>2021-11-28</td>\n",
       "      <td>iOS, iOS 15.0.2</td>\n",
       "      <td>a1f60fad21d72c6dcb5fd7fe84fb3ad7</td>\n",
       "      <td>b2560eaa8bc23dbba5f24aa5075b89ed</td>\n",
       "      <td>https://tickets.hermitagemuseum.org/event/7E06...</td>\n",
       "      <td>1309020</td>\n",
       "      <td>Экспозиции главного музейного комплекса Эрмитажа</td>\n",
       "      <td>2217</td>\n",
       "      <td>ФГБУК «Государственный Эрмитаж»</td>\n",
       "      <td>Экспозиции</td>\n",
       "    </tr>\n",
       "    <tr>\n",
       "      <th>3</th>\n",
       "      <td>2021-11-28 22:11:33</td>\n",
       "      <td>2021-11-28</td>\n",
       "      <td>Android, 12 (SDK 31)</td>\n",
       "      <td>a352caeadc9ab5e2dd4e8dfd9913e02e</td>\n",
       "      <td>fdfe16d86915392aeeca341505cce1c1</td>\n",
       "      <td>https://tickets.kreml.ru/ru/#id=1&amp;sid=763</td>\n",
       "      <td>1261967</td>\n",
       "      <td>Программа «Посещение архитектурного ансамбля С...</td>\n",
       "      <td>1848</td>\n",
       "      <td>Музеи Московского Кремля</td>\n",
       "      <td>Программа</td>\n",
       "    </tr>\n",
       "    <tr>\n",
       "      <th>4</th>\n",
       "      <td>2021-11-28 22:20:10</td>\n",
       "      <td>2021-11-28</td>\n",
       "      <td>Android, 12 (SDK 31)</td>\n",
       "      <td>a352caeadc9ab5e2dd4e8dfd9913e02e</td>\n",
       "      <td>fdfe16d86915392aeeca341505cce1c1</td>\n",
       "      <td>https://ramt.ru/plays/play-217/</td>\n",
       "      <td>1247322</td>\n",
       "      <td>Спектакль «Цветы для Элджернона»</td>\n",
       "      <td>4938</td>\n",
       "      <td>ФГБУК «Российский государственный академически...</td>\n",
       "      <td>Спектакль</td>\n",
       "    </tr>\n",
       "  </tbody>\n",
       "</table>\n",
       "</div>"
      ],
      "text/plain": [
       "           create_time create_date    user_phone_details  \\\n",
       "0  2021-11-28 21:32:53  2021-11-28  Android, 10 (SDK 29)   \n",
       "1  2021-11-28 21:41:52  2021-11-28  Android, 10 (SDK 29)   \n",
       "2  2021-11-28 21:25:13  2021-11-28       iOS, iOS 15.0.2   \n",
       "3  2021-11-28 22:11:33  2021-11-28  Android, 12 (SDK 31)   \n",
       "4  2021-11-28 22:20:10  2021-11-28  Android, 12 (SDK 31)   \n",
       "\n",
       "                 buyer_mobile_phone                           user_id  \\\n",
       "0  ce730a5e7bb6372aad126e934320b75c  08014dcd786881f349938c9255e9df36   \n",
       "1  ce730a5e7bb6372aad126e934320b75c  08014dcd786881f349938c9255e9df36   \n",
       "2  a1f60fad21d72c6dcb5fd7fe84fb3ad7  b2560eaa8bc23dbba5f24aa5075b89ed   \n",
       "3  a352caeadc9ab5e2dd4e8dfd9913e02e  fdfe16d86915392aeeca341505cce1c1   \n",
       "4  a352caeadc9ab5e2dd4e8dfd9913e02e  fdfe16d86915392aeeca341505cce1c1   \n",
       "\n",
       "                                                 url  session_id  \\\n",
       "0  https://theatreofnations.ru/performances/shved...      717865   \n",
       "1  https://theatreofnations.ru/performances/shved...      717865   \n",
       "2  https://tickets.hermitagemuseum.org/event/7E06...     1309020   \n",
       "3          https://tickets.kreml.ru/ru/#id=1&sid=763     1261967   \n",
       "4                    https://ramt.ru/plays/play-217/     1247322   \n",
       "\n",
       "                                        session_name  organization_id  \\\n",
       "0                        Спектакль «Шведская спичка»             7577   \n",
       "1                        Спектакль «Шведская спичка»             7577   \n",
       "2   Экспозиции главного музейного комплекса Эрмитажа             2217   \n",
       "3  Программа «Посещение архитектурного ансамбля С...             1848   \n",
       "4                   Спектакль «Цветы для Элджернона»             4938   \n",
       "\n",
       "                                   organization_name session_identity  \n",
       "0                ФГБУК «Государственный театр наций»        Спектакль  \n",
       "1                ФГБУК «Государственный театр наций»        Спектакль  \n",
       "2                    ФГБУК «Государственный Эрмитаж»       Экспозиции  \n",
       "3                           Музеи Московского Кремля        Программа  \n",
       "4  ФГБУК «Российский государственный академически...        Спектакль  "
      ]
     },
     "execution_count": 44,
     "metadata": {},
     "output_type": "execute_result"
    }
   ],
   "source": [
    "cliks_add.head()"
   ]
  },
  {
   "cell_type": "code",
   "execution_count": 45,
   "metadata": {},
   "outputs": [
    {
     "name": "stdout",
     "output_type": "stream",
     "text": [
      "<class 'pandas.core.frame.DataFrame'>\n",
      "Int64Index: 2547928 entries, 0 to 2547927\n",
      "Data columns (total 11 columns):\n",
      " #   Column              Dtype \n",
      "---  ------              ----- \n",
      " 0   create_time         object\n",
      " 1   create_date         object\n",
      " 2   user_phone_details  object\n",
      " 3   buyer_mobile_phone  object\n",
      " 4   user_id             object\n",
      " 5   url                 object\n",
      " 6   session_id          int64 \n",
      " 7   session_name        object\n",
      " 8   organization_id     int32 \n",
      " 9   organization_name   object\n",
      " 10  session_identity    object\n",
      "dtypes: int32(1), int64(1), object(9)\n",
      "memory usage: 223.6+ MB\n"
     ]
    }
   ],
   "source": [
    "cliks_add.info()"
   ]
  },
  {
   "cell_type": "code",
   "execution_count": 46,
   "metadata": {},
   "outputs": [],
   "source": [
    "organizations = organizations.rename(\n",
    "    columns= {'ID': 'organization_id','Категория': 'org_category', 'Код': 'org_region_number'}) "
   ]
  },
  {
   "cell_type": "code",
   "execution_count": 47,
   "metadata": {},
   "outputs": [],
   "source": [
    "cliks_add = pd.merge(cliks_add, organizations[['organization_id', 'org_region_number', 'org_category']],\n",
    "                     how = 'left', on = 'organization_id')"
   ]
  },
  {
   "cell_type": "code",
   "execution_count": 48,
   "metadata": {},
   "outputs": [
    {
     "name": "stdout",
     "output_type": "stream",
     "text": [
      "<class 'pandas.core.frame.DataFrame'>\n",
      "Int64Index: 2547928 entries, 0 to 2547927\n",
      "Data columns (total 13 columns):\n",
      " #   Column              Dtype  \n",
      "---  ------              -----  \n",
      " 0   create_time         object \n",
      " 1   create_date         object \n",
      " 2   user_phone_details  object \n",
      " 3   buyer_mobile_phone  object \n",
      " 4   user_id             object \n",
      " 5   url                 object \n",
      " 6   session_id          int64  \n",
      " 7   session_name        object \n",
      " 8   organization_id     int32  \n",
      " 9   organization_name   object \n",
      " 10  session_identity    object \n",
      " 11  org_region_number   float64\n",
      " 12  org_category        object \n",
      "dtypes: float64(1), int32(1), int64(1), object(10)\n",
      "memory usage: 262.4+ MB\n"
     ]
    }
   ],
   "source": [
    "cliks_add.info()"
   ]
  },
  {
   "cell_type": "code",
   "execution_count": 49,
   "metadata": {},
   "outputs": [],
   "source": [
    "cliks_add = cliks_add[cliks_add['org_category'].notna()]"
   ]
  },
  {
   "cell_type": "code",
   "execution_count": 50,
   "metadata": {},
   "outputs": [],
   "source": [
    "cliks_add['type'] = cliks_add[['org_category', 'session_identity']].apply(lambda x: '_'.join(x), axis = 1)"
   ]
  },
  {
   "cell_type": "code",
   "execution_count": 51,
   "metadata": {},
   "outputs": [
    {
     "data": {
      "text/plain": [
       "Театры_Спектакль                                1263774\n",
       "Музеи и галереи_Выставка                         156876\n",
       "Театры_Балет                                     144426\n",
       "Театры_Опера                                     126990\n",
       "Музеи и галереи_Экскурсия                         80083\n",
       "Театры_Концерт                                    63196\n",
       "Театры_Мюзикл                                     48324\n",
       "Концертные площадки_Концерт                       40955\n",
       "Музеи и галереи_Программа                         34801\n",
       "Музеи и галереи_Экспозиции                        32177\n",
       "Музеи и галереи_Мастер-класс                      25449\n",
       "Театры_Программа                                  22010\n",
       "Театры_Оперетта                                   21907\n",
       "Музеи и галереи_Экспозиция                        21286\n",
       "Музеи и галереи_Лекция                            19612\n",
       "Дворцы культуры и клубы_Концерт                   14698\n",
       "Театры_Музыкальная                                14053\n",
       "Музеи и галереи_Обзорная                          11758\n",
       "Дворцы культуры и клубы_Спектакль                 11556\n",
       "Музеи и галереи_Интерактивная                     10172\n",
       "Планетарий_Программа                               9969\n",
       "Музеи и галереи_Посещение                          9153\n",
       "Театры_Вечер                                       9049\n",
       "Театры_Творческая                                  8940\n",
       "Музеи и галереи_Постоянная                         7255\n",
       "Театры_Комедия                                     6965\n",
       "Театры_Моноспектакль                               6418\n",
       "Театры_Балет-феерия                                6007\n",
       "Музеи и галереи_Пешеходная                         5705\n",
       "Театры_Театрализованный                            5137\n",
       "Музеи и галереи_Концерт                            5130\n",
       "Дворцы культуры и клубы_Программа                  4944\n",
       "Музеи и галереи_Тематическая                       4698\n",
       "Концертные площадки_Спектакль                      4643\n",
       "Планетарий_Лекция                                  4510\n",
       "Музеи и галереи_Праздник                           4383\n",
       "Концертные и театральные агентства_Балет           4375\n",
       "Дворцы культуры и клубы_Мастер-класс               4367\n",
       "Музеи и галереи_Интерактивное                      4360\n",
       "Театры_Спектакль-концерт                           4299\n",
       "Музеи и галереи_Занятие                            4298\n",
       "Организатор конференций и выставок_Выставка        4276\n",
       "Оркестр_Концерт                                    4237\n",
       "Концертные и театральные агентства_Спектакль       4186\n",
       "Театры_«Внучка                                     4174\n",
       "Театры_Сказка                                      4035\n",
       "Музеи и галереи_Ночь                               3707\n",
       "Музеи и галереи_Квест                              3690\n",
       "Музеи и галереи_Встреча                            3569\n",
       "Музеи и галереи_Спектакль                          3531\n",
       "Культурное наследие_Экскурсия                      3378\n",
       "Музеи и галереи_Экскурсии                          3367\n",
       "Музеи и галереи_Мастер-классы                      3202\n",
       "Планетарий_Полнокупольная                          3035\n",
       "Музеи и галереи_Музейный                           3007\n",
       "Театры_Гала-концерт                                2998\n",
       "Театры_Лирическая                                  2980\n",
       "Театры_Балет-фантазия                              2979\n",
       "Театры_Музыкально                                  2979\n",
       "Театры_Детская                                     2979\n",
       "Name: type, dtype: int64"
      ]
     },
     "execution_count": 51,
     "metadata": {},
     "output_type": "execute_result"
    }
   ],
   "source": [
    "cliks_add['type'].value_counts().head(60)"
   ]
  },
  {
   "cell_type": "code",
   "execution_count": 52,
   "metadata": {},
   "outputs": [
    {
     "name": "stdout",
     "output_type": "stream",
     "text": [
      "<class 'pandas.core.frame.DataFrame'>\n",
      "Int64Index: 2547633 entries, 0 to 2547927\n",
      "Data columns (total 14 columns):\n",
      " #   Column              Dtype  \n",
      "---  ------              -----  \n",
      " 0   create_time         object \n",
      " 1   create_date         object \n",
      " 2   user_phone_details  object \n",
      " 3   buyer_mobile_phone  object \n",
      " 4   user_id             object \n",
      " 5   url                 object \n",
      " 6   session_id          int64  \n",
      " 7   session_name        object \n",
      " 8   organization_id     int32  \n",
      " 9   organization_name   object \n",
      " 10  session_identity    object \n",
      " 11  org_region_number   float64\n",
      " 12  org_category        object \n",
      " 13  type                object \n",
      "dtypes: float64(1), int32(1), int64(1), object(11)\n",
      "memory usage: 281.8+ MB\n"
     ]
    }
   ],
   "source": [
    "cliks_add.info()"
   ]
  },
  {
   "cell_type": "code",
   "execution_count": 53,
   "metadata": {},
   "outputs": [],
   "source": [
    "users = pd.read_csv(path + 'users_full.csv', sep=';')"
   ]
  },
  {
   "cell_type": "code",
   "execution_count": 54,
   "metadata": {},
   "outputs": [
    {
     "name": "stdout",
     "output_type": "stream",
     "text": [
      "<class 'pandas.core.frame.DataFrame'>\n",
      "RangeIndex: 1205191 entries, 0 to 1205190\n",
      "Data columns (total 13 columns):\n",
      " #   Column                 Non-Null Count    Dtype  \n",
      "---  ------                 --------------    -----  \n",
      " 0   account_create_date    1205191 non-null  object \n",
      " 1   user_id                1205191 non-null  object \n",
      " 2   user_birth             1205191 non-null  object \n",
      " 3   app_open_date          1205191 non-null  object \n",
      " 4   user_phone_details     1205191 non-null  object \n",
      " 5   buyer_mobile_phone     1205191 non-null  object \n",
      " 6   user_phone_details_id  1205191 non-null  object \n",
      " 7   type_phone             1205191 non-null  int64  \n",
      " 8   region                 765268 non-null   object \n",
      " 9   age                    1205191 non-null  int64  \n",
      " 10  user_region            765268 non-null   float64\n",
      " 11  diff                   1205191 non-null  object \n",
      " 12  in_count               1205191 non-null  int64  \n",
      "dtypes: float64(1), int64(3), object(9)\n",
      "memory usage: 119.5+ MB\n"
     ]
    }
   ],
   "source": [
    "users.info()"
   ]
  },
  {
   "cell_type": "code",
   "execution_count": 55,
   "metadata": {},
   "outputs": [],
   "source": [
    "cliks_add = pd.merge(cliks_add, users[['user_id', 'user_region']],\n",
    "                     how = 'left', on = 'user_id')"
   ]
  },
  {
   "cell_type": "code",
   "execution_count": 56,
   "metadata": {},
   "outputs": [
    {
     "name": "stdout",
     "output_type": "stream",
     "text": [
      "<class 'pandas.core.frame.DataFrame'>\n",
      "Int64Index: 2547633 entries, 0 to 2547632\n",
      "Data columns (total 15 columns):\n",
      " #   Column              Dtype  \n",
      "---  ------              -----  \n",
      " 0   create_time         object \n",
      " 1   create_date         object \n",
      " 2   user_phone_details  object \n",
      " 3   buyer_mobile_phone  object \n",
      " 4   user_id             object \n",
      " 5   url                 object \n",
      " 6   session_id          int64  \n",
      " 7   session_name        object \n",
      " 8   organization_id     int32  \n",
      " 9   organization_name   object \n",
      " 10  session_identity    object \n",
      " 11  org_region_number   float64\n",
      " 12  org_category        object \n",
      " 13  type                object \n",
      " 14  user_region         float64\n",
      "dtypes: float64(2), int32(1), int64(1), object(11)\n",
      "memory usage: 301.3+ MB\n"
     ]
    }
   ],
   "source": [
    "cliks_add.info()"
   ]
  },
  {
   "cell_type": "code",
   "execution_count": 57,
   "metadata": {},
   "outputs": [],
   "source": [
    "cliks_add = cliks_add[cliks_add['user_region'].notna()]"
   ]
  },
  {
   "cell_type": "code",
   "execution_count": 58,
   "metadata": {},
   "outputs": [
    {
     "name": "stdout",
     "output_type": "stream",
     "text": [
      "<class 'pandas.core.frame.DataFrame'>\n",
      "Int64Index: 1824497 entries, 0 to 2547632\n",
      "Data columns (total 15 columns):\n",
      " #   Column              Dtype  \n",
      "---  ------              -----  \n",
      " 0   create_time         object \n",
      " 1   create_date         object \n",
      " 2   user_phone_details  object \n",
      " 3   buyer_mobile_phone  object \n",
      " 4   user_id             object \n",
      " 5   url                 object \n",
      " 6   session_id          int64  \n",
      " 7   session_name        object \n",
      " 8   organization_id     int32  \n",
      " 9   organization_name   object \n",
      " 10  session_identity    object \n",
      " 11  org_region_number   float64\n",
      " 12  org_category        object \n",
      " 13  type                object \n",
      " 14  user_region         float64\n",
      "dtypes: float64(2), int32(1), int64(1), object(11)\n",
      "memory usage: 215.8+ MB\n"
     ]
    }
   ],
   "source": [
    "cliks_add.info()"
   ]
  },
  {
   "cell_type": "code",
   "execution_count": null,
   "metadata": {},
   "outputs": [],
   "source": [
    "#cliks_add.to_csv(path + 'cliks_add_3.csv', sep=';', index=False)"
   ]
  }
 ],
 "metadata": {
  "kernelspec": {
   "display_name": "Python 3",
   "language": "python",
   "name": "python3"
  },
  "language_info": {
   "codemirror_mode": {
    "name": "ipython",
    "version": 3
   },
   "file_extension": ".py",
   "mimetype": "text/x-python",
   "name": "python",
   "nbconvert_exporter": "python",
   "pygments_lexer": "ipython3",
   "version": "3.8.7"
  }
 },
 "nbformat": 4,
 "nbformat_minor": 4
}
