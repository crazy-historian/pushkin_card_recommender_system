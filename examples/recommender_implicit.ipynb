{
 "cells": [
  {
   "cell_type": "code",
   "execution_count": 1,
   "metadata": {
    "collapsed": true
   },
   "outputs": [],
   "source": [
    "import pandas as pd\n",
    "import preprocessing.data_management as dm"
   ]
  },
  {
   "cell_type": "markdown",
   "source": [
    "# Пример использования"
   ],
   "metadata": {
    "collapsed": false
   }
  },
  {
   "cell_type": "code",
   "execution_count": 2,
   "outputs": [
    {
     "data": {
      "text/plain": "                                user_id  event_id  \\\n0      0001ad0041738ac671fe52a5f887742e    919008   \n1      0001ad0041738ac671fe52a5f887742e   1249161   \n2      0001ad0041738ac671fe52a5f887742e   1271526   \n3      0001ad0041738ac671fe52a5f887742e   1362230   \n4      0001ad0041738ac671fe52a5f887742e   1420786   \n...                                 ...       ...   \n35552  ffe13ffdd93b045e3b06ee834c585d26   1300654   \n35553  ffe4a90226a335c9ed184bc19163490b   1240774   \n35554  ffe4a90226a335c9ed184bc19163490b   1300354   \n35555  ffe4a90226a335c9ed184bc19163490b   1300678   \n35556  fff57c97533412e45cad515b6a0cc0f4   1282657   \n\n                                              event_name  clicks_count  \\\n0      Экспозиция «Древнерусская иконопись XIII–XVI в...             1   \n1                   Экспозиция музея Владимира Высоцкого             1   \n2                       Экспозиции Мультимедиа Арт Музея             1   \n3                       Выставка «За все тебя благодарю»             1   \n4                         Вечер музыки П. И. Чайковского             1   \n...                                                  ...           ...   \n35552         Спектакль «Дневник Анны Франк. Белая роза»             1   \n35553                          Спектакль «Анна Каренина»             1   \n35554                          Спектакль «Люди как люди»             1   \n35555                         Спектакль «Мнимый больной»             1   \n35556                             Выставка ко Дню знаний             1   \n\n       user_num  \n0             0  \n1             0  \n2             0  \n3             0  \n4             0  \n...         ...  \n35552     13655  \n35553     13656  \n35554     13656  \n35555     13656  \n35556     13657  \n\n[35557 rows x 5 columns]",
      "text/html": "<div>\n<style scoped>\n    .dataframe tbody tr th:only-of-type {\n        vertical-align: middle;\n    }\n\n    .dataframe tbody tr th {\n        vertical-align: top;\n    }\n\n    .dataframe thead th {\n        text-align: right;\n    }\n</style>\n<table border=\"1\" class=\"dataframe\">\n  <thead>\n    <tr style=\"text-align: right;\">\n      <th></th>\n      <th>user_id</th>\n      <th>event_id</th>\n      <th>event_name</th>\n      <th>clicks_count</th>\n      <th>user_num</th>\n    </tr>\n  </thead>\n  <tbody>\n    <tr>\n      <th>0</th>\n      <td>0001ad0041738ac671fe52a5f887742e</td>\n      <td>919008</td>\n      <td>Экспозиция «Древнерусская иконопись XIII–XVI в...</td>\n      <td>1</td>\n      <td>0</td>\n    </tr>\n    <tr>\n      <th>1</th>\n      <td>0001ad0041738ac671fe52a5f887742e</td>\n      <td>1249161</td>\n      <td>Экспозиция музея Владимира Высоцкого</td>\n      <td>1</td>\n      <td>0</td>\n    </tr>\n    <tr>\n      <th>2</th>\n      <td>0001ad0041738ac671fe52a5f887742e</td>\n      <td>1271526</td>\n      <td>Экспозиции Мультимедиа Арт Музея</td>\n      <td>1</td>\n      <td>0</td>\n    </tr>\n    <tr>\n      <th>3</th>\n      <td>0001ad0041738ac671fe52a5f887742e</td>\n      <td>1362230</td>\n      <td>Выставка «За все тебя благодарю»</td>\n      <td>1</td>\n      <td>0</td>\n    </tr>\n    <tr>\n      <th>4</th>\n      <td>0001ad0041738ac671fe52a5f887742e</td>\n      <td>1420786</td>\n      <td>Вечер музыки П. И. Чайковского</td>\n      <td>1</td>\n      <td>0</td>\n    </tr>\n    <tr>\n      <th>...</th>\n      <td>...</td>\n      <td>...</td>\n      <td>...</td>\n      <td>...</td>\n      <td>...</td>\n    </tr>\n    <tr>\n      <th>35552</th>\n      <td>ffe13ffdd93b045e3b06ee834c585d26</td>\n      <td>1300654</td>\n      <td>Спектакль «Дневник Анны Франк. Белая роза»</td>\n      <td>1</td>\n      <td>13655</td>\n    </tr>\n    <tr>\n      <th>35553</th>\n      <td>ffe4a90226a335c9ed184bc19163490b</td>\n      <td>1240774</td>\n      <td>Спектакль «Анна Каренина»</td>\n      <td>1</td>\n      <td>13656</td>\n    </tr>\n    <tr>\n      <th>35554</th>\n      <td>ffe4a90226a335c9ed184bc19163490b</td>\n      <td>1300354</td>\n      <td>Спектакль «Люди как люди»</td>\n      <td>1</td>\n      <td>13656</td>\n    </tr>\n    <tr>\n      <th>35555</th>\n      <td>ffe4a90226a335c9ed184bc19163490b</td>\n      <td>1300678</td>\n      <td>Спектакль «Мнимый больной»</td>\n      <td>1</td>\n      <td>13656</td>\n    </tr>\n    <tr>\n      <th>35556</th>\n      <td>fff57c97533412e45cad515b6a0cc0f4</td>\n      <td>1282657</td>\n      <td>Выставка ко Дню знаний</td>\n      <td>1</td>\n      <td>13657</td>\n    </tr>\n  </tbody>\n</table>\n<p>35557 rows × 5 columns</p>\n</div>"
     },
     "execution_count": 2,
     "metadata": {},
     "output_type": "execute_result"
    }
   ],
   "source": [
    "user_event = pd.read_csv('moscow_event_test.csv')\n",
    "user_event.drop(columns='Unnamed: 0', inplace=True)\n",
    "user_event"
   ],
   "metadata": {
    "collapsed": false,
    "pycharm": {
     "name": "#%%\n"
    }
   }
  },
  {
   "cell_type": "code",
   "execution_count": 3,
   "outputs": [
    {
     "data": {
      "text/plain": "                                user_id  item_id  \\\n0      0001ad0041738ac671fe52a5f887742e   919008   \n1      0001ad0041738ac671fe52a5f887742e  1249161   \n2      0001ad0041738ac671fe52a5f887742e  1271526   \n3      0001ad0041738ac671fe52a5f887742e  1362230   \n4      0001ad0041738ac671fe52a5f887742e  1420786   \n...                                 ...      ...   \n35552  ffe13ffdd93b045e3b06ee834c585d26  1300654   \n35553  ffe4a90226a335c9ed184bc19163490b  1240774   \n35554  ffe4a90226a335c9ed184bc19163490b  1300354   \n35555  ffe4a90226a335c9ed184bc19163490b  1300678   \n35556  fff57c97533412e45cad515b6a0cc0f4  1282657   \n\n                                              event_name  rating  user_num  \\\n0      Экспозиция «Древнерусская иконопись XIII–XVI в...       1         0   \n1                   Экспозиция музея Владимира Высоцкого       1         0   \n2                       Экспозиции Мультимедиа Арт Музея       1         0   \n3                       Выставка «За все тебя благодарю»       1         0   \n4                         Вечер музыки П. И. Чайковского       1         0   \n...                                                  ...     ...       ...   \n35552         Спектакль «Дневник Анны Франк. Белая роза»       1     13655   \n35553                          Спектакль «Анна Каренина»       1     13656   \n35554                          Спектакль «Люди как люди»       1     13656   \n35555                         Спектакль «Мнимый больной»       1     13656   \n35556                             Выставка ко Дню знаний       1     13657   \n\n       item_num  \n0           337  \n1           592  \n2           882  \n3          1481  \n4          1654  \n...         ...  \n35552      1150  \n35553       513  \n35554      1145  \n35555      1151  \n35556      1024  \n\n[35557 rows x 6 columns]",
      "text/html": "<div>\n<style scoped>\n    .dataframe tbody tr th:only-of-type {\n        vertical-align: middle;\n    }\n\n    .dataframe tbody tr th {\n        vertical-align: top;\n    }\n\n    .dataframe thead th {\n        text-align: right;\n    }\n</style>\n<table border=\"1\" class=\"dataframe\">\n  <thead>\n    <tr style=\"text-align: right;\">\n      <th></th>\n      <th>user_id</th>\n      <th>item_id</th>\n      <th>event_name</th>\n      <th>rating</th>\n      <th>user_num</th>\n      <th>item_num</th>\n    </tr>\n  </thead>\n  <tbody>\n    <tr>\n      <th>0</th>\n      <td>0001ad0041738ac671fe52a5f887742e</td>\n      <td>919008</td>\n      <td>Экспозиция «Древнерусская иконопись XIII–XVI в...</td>\n      <td>1</td>\n      <td>0</td>\n      <td>337</td>\n    </tr>\n    <tr>\n      <th>1</th>\n      <td>0001ad0041738ac671fe52a5f887742e</td>\n      <td>1249161</td>\n      <td>Экспозиция музея Владимира Высоцкого</td>\n      <td>1</td>\n      <td>0</td>\n      <td>592</td>\n    </tr>\n    <tr>\n      <th>2</th>\n      <td>0001ad0041738ac671fe52a5f887742e</td>\n      <td>1271526</td>\n      <td>Экспозиции Мультимедиа Арт Музея</td>\n      <td>1</td>\n      <td>0</td>\n      <td>882</td>\n    </tr>\n    <tr>\n      <th>3</th>\n      <td>0001ad0041738ac671fe52a5f887742e</td>\n      <td>1362230</td>\n      <td>Выставка «За все тебя благодарю»</td>\n      <td>1</td>\n      <td>0</td>\n      <td>1481</td>\n    </tr>\n    <tr>\n      <th>4</th>\n      <td>0001ad0041738ac671fe52a5f887742e</td>\n      <td>1420786</td>\n      <td>Вечер музыки П. И. Чайковского</td>\n      <td>1</td>\n      <td>0</td>\n      <td>1654</td>\n    </tr>\n    <tr>\n      <th>...</th>\n      <td>...</td>\n      <td>...</td>\n      <td>...</td>\n      <td>...</td>\n      <td>...</td>\n      <td>...</td>\n    </tr>\n    <tr>\n      <th>35552</th>\n      <td>ffe13ffdd93b045e3b06ee834c585d26</td>\n      <td>1300654</td>\n      <td>Спектакль «Дневник Анны Франк. Белая роза»</td>\n      <td>1</td>\n      <td>13655</td>\n      <td>1150</td>\n    </tr>\n    <tr>\n      <th>35553</th>\n      <td>ffe4a90226a335c9ed184bc19163490b</td>\n      <td>1240774</td>\n      <td>Спектакль «Анна Каренина»</td>\n      <td>1</td>\n      <td>13656</td>\n      <td>513</td>\n    </tr>\n    <tr>\n      <th>35554</th>\n      <td>ffe4a90226a335c9ed184bc19163490b</td>\n      <td>1300354</td>\n      <td>Спектакль «Люди как люди»</td>\n      <td>1</td>\n      <td>13656</td>\n      <td>1145</td>\n    </tr>\n    <tr>\n      <th>35555</th>\n      <td>ffe4a90226a335c9ed184bc19163490b</td>\n      <td>1300678</td>\n      <td>Спектакль «Мнимый больной»</td>\n      <td>1</td>\n      <td>13656</td>\n      <td>1151</td>\n    </tr>\n    <tr>\n      <th>35556</th>\n      <td>fff57c97533412e45cad515b6a0cc0f4</td>\n      <td>1282657</td>\n      <td>Выставка ко Дню знаний</td>\n      <td>1</td>\n      <td>13657</td>\n      <td>1024</td>\n    </tr>\n  </tbody>\n</table>\n<p>35557 rows × 6 columns</p>\n</div>"
     },
     "execution_count": 3,
     "metadata": {},
     "output_type": "execute_result"
    }
   ],
   "source": [
    "user_event = dm.numerate_user_event_df(user_event)\n",
    "extra_event_ids = dm.get_extra_events_ids(user_event_df=user_event)\n",
    "user_event = user_event.rename(columns={\n",
    "    'event_id': 'item_id',\n",
    "    'event_num': 'item_num',\n",
    "    'clicks_count': 'rating'\n",
    "})\n",
    "user_event"
   ],
   "metadata": {
    "collapsed": false,
    "pycharm": {
     "name": "#%%\n"
    }
   }
  },
  {
   "cell_type": "code",
   "execution_count": 4,
   "outputs": [],
   "source": [
    "from recommenders.implicit_models import EventRecommender"
   ],
   "metadata": {
    "collapsed": false,
    "pycharm": {
     "name": "#%%\n"
    }
   }
  },
  {
   "cell_type": "code",
   "execution_count": 5,
   "outputs": [],
   "source": [
    "recommender = EventRecommender(user_item_df=user_event, extra_item_ids=extra_event_ids)"
   ],
   "metadata": {
    "collapsed": false,
    "pycharm": {
     "name": "#%%\n"
    }
   }
  },
  {
   "cell_type": "code",
   "execution_count": 6,
   "outputs": [
    {
     "data": {
      "text/plain": "  0%|          | 0/20 [00:00<?, ?it/s]",
      "application/vnd.jupyter.widget-view+json": {
       "version_major": 2,
       "version_minor": 0,
       "model_id": "274e9c252f8c4ff38e5baed0240ce3ac"
      }
     },
     "metadata": {},
     "output_type": "display_data"
    }
   ],
   "source": [
    "recommender.fit(model_name='als', factors=20, regularization=0.1, iterations=20)"
   ],
   "metadata": {
    "collapsed": false,
    "pycharm": {
     "name": "#%%\n"
    }
   }
  },
  {
   "cell_type": "code",
   "execution_count": 7,
   "outputs": [
    {
     "name": "stderr",
     "output_type": "stream",
     "text": [
      "100%|██████████| 13658/13658 [00:03<00:00, 4531.38it/s]\n"
     ]
    },
    {
     "data": {
      "text/plain": "                                 user_id  item_id    rating\n0       0001ad0041738ac671fe52a5f887742e  1245718  0.607489\n1       0001ad0041738ac671fe52a5f887742e  1420213  0.551407\n2       0001ad0041738ac671fe52a5f887742e  1336375  0.496153\n3       0001ad0041738ac671fe52a5f887742e  1284719  0.448322\n4       0001ad0041738ac671fe52a5f887742e   888843  0.443194\n...                                  ...      ...       ...\n136575  fff57c97533412e45cad515b6a0cc0f4  1364509  0.240362\n136576  fff57c97533412e45cad515b6a0cc0f4  1246053  0.235592\n136577  fff57c97533412e45cad515b6a0cc0f4  1314995  0.229209\n136578  fff57c97533412e45cad515b6a0cc0f4  1261967  0.210230\n136579  fff57c97533412e45cad515b6a0cc0f4  1249519  0.198777\n\n[136580 rows x 3 columns]",
      "text/html": "<div>\n<style scoped>\n    .dataframe tbody tr th:only-of-type {\n        vertical-align: middle;\n    }\n\n    .dataframe tbody tr th {\n        vertical-align: top;\n    }\n\n    .dataframe thead th {\n        text-align: right;\n    }\n</style>\n<table border=\"1\" class=\"dataframe\">\n  <thead>\n    <tr style=\"text-align: right;\">\n      <th></th>\n      <th>user_id</th>\n      <th>item_id</th>\n      <th>rating</th>\n    </tr>\n  </thead>\n  <tbody>\n    <tr>\n      <th>0</th>\n      <td>0001ad0041738ac671fe52a5f887742e</td>\n      <td>1245718</td>\n      <td>0.607489</td>\n    </tr>\n    <tr>\n      <th>1</th>\n      <td>0001ad0041738ac671fe52a5f887742e</td>\n      <td>1420213</td>\n      <td>0.551407</td>\n    </tr>\n    <tr>\n      <th>2</th>\n      <td>0001ad0041738ac671fe52a5f887742e</td>\n      <td>1336375</td>\n      <td>0.496153</td>\n    </tr>\n    <tr>\n      <th>3</th>\n      <td>0001ad0041738ac671fe52a5f887742e</td>\n      <td>1284719</td>\n      <td>0.448322</td>\n    </tr>\n    <tr>\n      <th>4</th>\n      <td>0001ad0041738ac671fe52a5f887742e</td>\n      <td>888843</td>\n      <td>0.443194</td>\n    </tr>\n    <tr>\n      <th>...</th>\n      <td>...</td>\n      <td>...</td>\n      <td>...</td>\n    </tr>\n    <tr>\n      <th>136575</th>\n      <td>fff57c97533412e45cad515b6a0cc0f4</td>\n      <td>1364509</td>\n      <td>0.240362</td>\n    </tr>\n    <tr>\n      <th>136576</th>\n      <td>fff57c97533412e45cad515b6a0cc0f4</td>\n      <td>1246053</td>\n      <td>0.235592</td>\n    </tr>\n    <tr>\n      <th>136577</th>\n      <td>fff57c97533412e45cad515b6a0cc0f4</td>\n      <td>1314995</td>\n      <td>0.229209</td>\n    </tr>\n    <tr>\n      <th>136578</th>\n      <td>fff57c97533412e45cad515b6a0cc0f4</td>\n      <td>1261967</td>\n      <td>0.210230</td>\n    </tr>\n    <tr>\n      <th>136579</th>\n      <td>fff57c97533412e45cad515b6a0cc0f4</td>\n      <td>1249519</td>\n      <td>0.198777</td>\n    </tr>\n  </tbody>\n</table>\n<p>136580 rows × 3 columns</p>\n</div>"
     },
     "execution_count": 7,
     "metadata": {},
     "output_type": "execute_result"
    }
   ],
   "source": [
    "rec_df = recommender.get_all_recommendation(as_pd_dataframe=True)\n",
    "rec_df"
   ],
   "metadata": {
    "collapsed": false,
    "pycharm": {
     "name": "#%%\n"
    }
   }
  },
  {
   "cell_type": "code",
   "execution_count": 8,
   "outputs": [
    {
     "data": {
      "text/plain": "[['0001ad0041738ac671fe52a5f887742e', 1245718, 0.60748893],\n ['0001ad0041738ac671fe52a5f887742e', 1420213, 0.5514066],\n ['0001ad0041738ac671fe52a5f887742e', 1336375, 0.49615306],\n ['0001ad0041738ac671fe52a5f887742e', 1284719, 0.44832218],\n ['0001ad0041738ac671fe52a5f887742e', 888843, 0.44319364],\n ['0001ad0041738ac671fe52a5f887742e', 1348381, 0.43749887],\n ['0001ad0041738ac671fe52a5f887742e', 1430294, 0.41231883],\n ['0001ad0041738ac671fe52a5f887742e', 1271602, 0.40517622],\n ['0001ad0041738ac671fe52a5f887742e', 1320284, 0.3844385],\n ['0001ad0041738ac671fe52a5f887742e', 1246053, 0.3762192]]"
     },
     "execution_count": 8,
     "metadata": {},
     "output_type": "execute_result"
    }
   ],
   "source": [
    "recommender.get_user_recommendation(user_id='0001ad0041738ac671fe52a5f887742e')"
   ],
   "metadata": {
    "collapsed": false,
    "pycharm": {
     "name": "#%%\n"
    }
   }
  },
  {
   "cell_type": "code",
   "execution_count": 9,
   "outputs": [],
   "source": [
    "recommender.to_csv('rec_test')"
   ],
   "metadata": {
    "collapsed": false,
    "pycharm": {
     "name": "#%%\n"
    }
   }
  },
  {
   "cell_type": "code",
   "execution_count": 10,
   "outputs": [
    {
     "name": "stderr",
     "output_type": "stream",
     "text": [
      "100%|██████████| 136580/136580 [00:00<00:00, 1345425.69it/s]\n"
     ]
    }
   ],
   "source": [
    "recommender.to_json('rec_test.json')"
   ],
   "metadata": {
    "collapsed": false,
    "pycharm": {
     "name": "#%%\n"
    }
   }
  },
  {
   "cell_type": "code",
   "execution_count": 11,
   "outputs": [
    {
     "data": {
      "text/plain": "{'1': {1321481: 0.59278786,\n  1220797: 0.58717114,\n  1430294: 0.56310654,\n  1420213: 0.507827,\n  1245718: 0.49826285,\n  1290542: 0.49143383,\n  1409860: 0.44971365,\n  1271602: 0.43810356,\n  1348381: 0.43750492,\n  1249864: 0.42139465}}"
     },
     "execution_count": 11,
     "metadata": {},
     "output_type": "execute_result"
    }
   ],
   "source": [
    "b = {}\n",
    "a = {1321481: 0.59278786, 1220797: 0.58717114, 1430294: 0.56310654, 1420213: 0.507827, 1245718: 0.49826285, 1290542: 0.49143383, 1409860: 0.44971365, 1271602: 0.43810356, 1348381: 0.43750492, 1249864: 0.42139465}\n",
    "b['1'] = a\n",
    "b"
   ],
   "metadata": {
    "collapsed": false,
    "pycharm": {
     "name": "#%%\n"
    }
   }
  }
 ],
 "metadata": {
  "kernelspec": {
   "display_name": "Python 3",
   "language": "python",
   "name": "python3"
  },
  "language_info": {
   "codemirror_mode": {
    "name": "ipython",
    "version": 2
   },
   "file_extension": ".py",
   "mimetype": "text/x-python",
   "name": "python",
   "nbconvert_exporter": "python",
   "pygments_lexer": "ipython2",
   "version": "2.7.6"
  }
 },
 "nbformat": 4,
 "nbformat_minor": 0
}