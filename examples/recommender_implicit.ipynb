{
 "cells": [
  {
   "cell_type": "code",
   "execution_count": 1,
   "metadata": {
    "collapsed": true
   },
   "outputs": [],
   "source": [
    "import pandas as pd\n",
    "import preprocessing.data_management as dm"
   ]
  },
  {
   "cell_type": "markdown",
   "source": [
    "# Пример использования"
   ],
   "metadata": {
    "collapsed": false
   }
  },
  {
   "cell_type": "code",
   "execution_count": 2,
   "outputs": [
    {
     "data": {
      "text/plain": "                                user_id  event_id  \\\n0      0001ad0041738ac671fe52a5f887742e    919008   \n1      0001ad0041738ac671fe52a5f887742e   1249161   \n2      0001ad0041738ac671fe52a5f887742e   1271526   \n3      0001ad0041738ac671fe52a5f887742e   1362230   \n4      0001ad0041738ac671fe52a5f887742e   1420786   \n...                                 ...       ...   \n35552  ffe13ffdd93b045e3b06ee834c585d26   1300654   \n35553  ffe4a90226a335c9ed184bc19163490b   1240774   \n35554  ffe4a90226a335c9ed184bc19163490b   1300354   \n35555  ffe4a90226a335c9ed184bc19163490b   1300678   \n35556  fff57c97533412e45cad515b6a0cc0f4   1282657   \n\n                                              event_name  clicks_count  \\\n0      Экспозиция «Древнерусская иконопись XIII–XVI в...             1   \n1                   Экспозиция музея Владимира Высоцкого             1   \n2                       Экспозиции Мультимедиа Арт Музея             1   \n3                       Выставка «За все тебя благодарю»             1   \n4                         Вечер музыки П. И. Чайковского             1   \n...                                                  ...           ...   \n35552         Спектакль «Дневник Анны Франк. Белая роза»             1   \n35553                          Спектакль «Анна Каренина»             1   \n35554                          Спектакль «Люди как люди»             1   \n35555                         Спектакль «Мнимый больной»             1   \n35556                             Выставка ко Дню знаний             1   \n\n       user_num  \n0             0  \n1             0  \n2             0  \n3             0  \n4             0  \n...         ...  \n35552     13655  \n35553     13656  \n35554     13656  \n35555     13656  \n35556     13657  \n\n[35557 rows x 5 columns]",
      "text/html": "<div>\n<style scoped>\n    .dataframe tbody tr th:only-of-type {\n        vertical-align: middle;\n    }\n\n    .dataframe tbody tr th {\n        vertical-align: top;\n    }\n\n    .dataframe thead th {\n        text-align: right;\n    }\n</style>\n<table border=\"1\" class=\"dataframe\">\n  <thead>\n    <tr style=\"text-align: right;\">\n      <th></th>\n      <th>user_id</th>\n      <th>event_id</th>\n      <th>event_name</th>\n      <th>clicks_count</th>\n      <th>user_num</th>\n    </tr>\n  </thead>\n  <tbody>\n    <tr>\n      <th>0</th>\n      <td>0001ad0041738ac671fe52a5f887742e</td>\n      <td>919008</td>\n      <td>Экспозиция «Древнерусская иконопись XIII–XVI в...</td>\n      <td>1</td>\n      <td>0</td>\n    </tr>\n    <tr>\n      <th>1</th>\n      <td>0001ad0041738ac671fe52a5f887742e</td>\n      <td>1249161</td>\n      <td>Экспозиция музея Владимира Высоцкого</td>\n      <td>1</td>\n      <td>0</td>\n    </tr>\n    <tr>\n      <th>2</th>\n      <td>0001ad0041738ac671fe52a5f887742e</td>\n      <td>1271526</td>\n      <td>Экспозиции Мультимедиа Арт Музея</td>\n      <td>1</td>\n      <td>0</td>\n    </tr>\n    <tr>\n      <th>3</th>\n      <td>0001ad0041738ac671fe52a5f887742e</td>\n      <td>1362230</td>\n      <td>Выставка «За все тебя благодарю»</td>\n      <td>1</td>\n      <td>0</td>\n    </tr>\n    <tr>\n      <th>4</th>\n      <td>0001ad0041738ac671fe52a5f887742e</td>\n      <td>1420786</td>\n      <td>Вечер музыки П. И. Чайковского</td>\n      <td>1</td>\n      <td>0</td>\n    </tr>\n    <tr>\n      <th>...</th>\n      <td>...</td>\n      <td>...</td>\n      <td>...</td>\n      <td>...</td>\n      <td>...</td>\n    </tr>\n    <tr>\n      <th>35552</th>\n      <td>ffe13ffdd93b045e3b06ee834c585d26</td>\n      <td>1300654</td>\n      <td>Спектакль «Дневник Анны Франк. Белая роза»</td>\n      <td>1</td>\n      <td>13655</td>\n    </tr>\n    <tr>\n      <th>35553</th>\n      <td>ffe4a90226a335c9ed184bc19163490b</td>\n      <td>1240774</td>\n      <td>Спектакль «Анна Каренина»</td>\n      <td>1</td>\n      <td>13656</td>\n    </tr>\n    <tr>\n      <th>35554</th>\n      <td>ffe4a90226a335c9ed184bc19163490b</td>\n      <td>1300354</td>\n      <td>Спектакль «Люди как люди»</td>\n      <td>1</td>\n      <td>13656</td>\n    </tr>\n    <tr>\n      <th>35555</th>\n      <td>ffe4a90226a335c9ed184bc19163490b</td>\n      <td>1300678</td>\n      <td>Спектакль «Мнимый больной»</td>\n      <td>1</td>\n      <td>13656</td>\n    </tr>\n    <tr>\n      <th>35556</th>\n      <td>fff57c97533412e45cad515b6a0cc0f4</td>\n      <td>1282657</td>\n      <td>Выставка ко Дню знаний</td>\n      <td>1</td>\n      <td>13657</td>\n    </tr>\n  </tbody>\n</table>\n<p>35557 rows × 5 columns</p>\n</div>"
     },
     "execution_count": 2,
     "metadata": {},
     "output_type": "execute_result"
    }
   ],
   "source": [
    "user_event = pd.read_csv('user_event_test.csv')\n",
    "user_event.drop(columns='Unnamed: 0', inplace=True)\n",
    "user_event"
   ],
   "metadata": {
    "collapsed": false,
    "pycharm": {
     "name": "#%%\n"
    }
   }
  },
  {
   "cell_type": "code",
   "execution_count": 6,
   "outputs": [],
   "source": [
    "extra_event_ids = dm.get_extra_events_ids(user_event_df=user_event)"
   ],
   "metadata": {
    "collapsed": false,
    "pycharm": {
     "name": "#%%\n"
    }
   }
  },
  {
   "cell_type": "code",
   "execution_count": 3,
   "outputs": [],
   "source": [
    "from recommenders.implicit_models import EventRecommender"
   ],
   "metadata": {
    "collapsed": false,
    "pycharm": {
     "name": "#%%\n"
    }
   }
  },
  {
   "cell_type": "code",
   "execution_count": 7,
   "outputs": [
    {
     "data": {
      "text/plain": "  0%|          | 0/20 [00:00<?, ?it/s]",
      "application/vnd.jupyter.widget-view+json": {
       "version_major": 2,
       "version_minor": 0,
       "model_id": "87d5c4801bf64c44b997a9a4511095d1"
      }
     },
     "metadata": {},
     "output_type": "display_data"
    }
   ],
   "source": [
    "recommender = EventRecommender(user_event, extra_event_ids=extra_event_ids, model_name='als')"
   ],
   "metadata": {
    "collapsed": false,
    "pycharm": {
     "name": "#%%\n"
    }
   }
  },
  {
   "cell_type": "code",
   "execution_count": 8,
   "outputs": [],
   "source": [
    "recommender.prepare_recommendations()"
   ],
   "metadata": {
    "collapsed": false,
    "pycharm": {
     "name": "#%%\n"
    }
   }
  },
  {
   "cell_type": "code",
   "execution_count": 10,
   "outputs": [
    {
     "data": {
      "text/plain": "                                 user_id  event_id     score\n0       0001ad0041738ac671fe52a5f887742e   1420213  0.866857\n1       0001ad0041738ac671fe52a5f887742e   1245718  0.657362\n2       0001ad0041738ac671fe52a5f887742e   1284719  0.524340\n3       0001ad0041738ac671fe52a5f887742e   1348381  0.450349\n4       0001ad0041738ac671fe52a5f887742e   1290542  0.435347\n...                                  ...       ...       ...\n136575  fff57c97533412e45cad515b6a0cc0f4   1290221  0.236988\n136576  fff57c97533412e45cad515b6a0cc0f4   1245718  0.216385\n136577  fff57c97533412e45cad515b6a0cc0f4   1321481  0.214274\n136578  fff57c97533412e45cad515b6a0cc0f4   1322800  0.203519\n136579  fff57c97533412e45cad515b6a0cc0f4   1271762  0.197863\n\n[136580 rows x 3 columns]",
      "text/html": "<div>\n<style scoped>\n    .dataframe tbody tr th:only-of-type {\n        vertical-align: middle;\n    }\n\n    .dataframe tbody tr th {\n        vertical-align: top;\n    }\n\n    .dataframe thead th {\n        text-align: right;\n    }\n</style>\n<table border=\"1\" class=\"dataframe\">\n  <thead>\n    <tr style=\"text-align: right;\">\n      <th></th>\n      <th>user_id</th>\n      <th>event_id</th>\n      <th>score</th>\n    </tr>\n  </thead>\n  <tbody>\n    <tr>\n      <th>0</th>\n      <td>0001ad0041738ac671fe52a5f887742e</td>\n      <td>1420213</td>\n      <td>0.866857</td>\n    </tr>\n    <tr>\n      <th>1</th>\n      <td>0001ad0041738ac671fe52a5f887742e</td>\n      <td>1245718</td>\n      <td>0.657362</td>\n    </tr>\n    <tr>\n      <th>2</th>\n      <td>0001ad0041738ac671fe52a5f887742e</td>\n      <td>1284719</td>\n      <td>0.524340</td>\n    </tr>\n    <tr>\n      <th>3</th>\n      <td>0001ad0041738ac671fe52a5f887742e</td>\n      <td>1348381</td>\n      <td>0.450349</td>\n    </tr>\n    <tr>\n      <th>4</th>\n      <td>0001ad0041738ac671fe52a5f887742e</td>\n      <td>1290542</td>\n      <td>0.435347</td>\n    </tr>\n    <tr>\n      <th>...</th>\n      <td>...</td>\n      <td>...</td>\n      <td>...</td>\n    </tr>\n    <tr>\n      <th>136575</th>\n      <td>fff57c97533412e45cad515b6a0cc0f4</td>\n      <td>1290221</td>\n      <td>0.236988</td>\n    </tr>\n    <tr>\n      <th>136576</th>\n      <td>fff57c97533412e45cad515b6a0cc0f4</td>\n      <td>1245718</td>\n      <td>0.216385</td>\n    </tr>\n    <tr>\n      <th>136577</th>\n      <td>fff57c97533412e45cad515b6a0cc0f4</td>\n      <td>1321481</td>\n      <td>0.214274</td>\n    </tr>\n    <tr>\n      <th>136578</th>\n      <td>fff57c97533412e45cad515b6a0cc0f4</td>\n      <td>1322800</td>\n      <td>0.203519</td>\n    </tr>\n    <tr>\n      <th>136579</th>\n      <td>fff57c97533412e45cad515b6a0cc0f4</td>\n      <td>1271762</td>\n      <td>0.197863</td>\n    </tr>\n  </tbody>\n</table>\n<p>136580 rows × 3 columns</p>\n</div>"
     },
     "execution_count": 10,
     "metadata": {},
     "output_type": "execute_result"
    }
   ],
   "source": [
    "rec_df = recommender.recommendations\n",
    "rec_df"
   ],
   "metadata": {
    "collapsed": false,
    "pycharm": {
     "name": "#%%\n"
    }
   }
  },
  {
   "cell_type": "code",
   "execution_count": 28,
   "outputs": [
    {
     "data": {
      "text/plain": "                            user_id  event_id     score\n0  0001ad0041738ac671fe52a5f887742e   1420213  0.866857\n1  0001ad0041738ac671fe52a5f887742e   1245718  0.657362\n2  0001ad0041738ac671fe52a5f887742e   1284719  0.524340\n3  0001ad0041738ac671fe52a5f887742e   1348381  0.450349\n4  0001ad0041738ac671fe52a5f887742e   1290542  0.435347\n5  0001ad0041738ac671fe52a5f887742e   1430294  0.434530\n6  0001ad0041738ac671fe52a5f887742e   1271602  0.403236\n7  0001ad0041738ac671fe52a5f887742e   1418197  0.402748\n8  0001ad0041738ac671fe52a5f887742e   1271175  0.391297\n9  0001ad0041738ac671fe52a5f887742e   1406032  0.368059",
      "text/html": "<div>\n<style scoped>\n    .dataframe tbody tr th:only-of-type {\n        vertical-align: middle;\n    }\n\n    .dataframe tbody tr th {\n        vertical-align: top;\n    }\n\n    .dataframe thead th {\n        text-align: right;\n    }\n</style>\n<table border=\"1\" class=\"dataframe\">\n  <thead>\n    <tr style=\"text-align: right;\">\n      <th></th>\n      <th>user_id</th>\n      <th>event_id</th>\n      <th>score</th>\n    </tr>\n  </thead>\n  <tbody>\n    <tr>\n      <th>0</th>\n      <td>0001ad0041738ac671fe52a5f887742e</td>\n      <td>1420213</td>\n      <td>0.866857</td>\n    </tr>\n    <tr>\n      <th>1</th>\n      <td>0001ad0041738ac671fe52a5f887742e</td>\n      <td>1245718</td>\n      <td>0.657362</td>\n    </tr>\n    <tr>\n      <th>2</th>\n      <td>0001ad0041738ac671fe52a5f887742e</td>\n      <td>1284719</td>\n      <td>0.524340</td>\n    </tr>\n    <tr>\n      <th>3</th>\n      <td>0001ad0041738ac671fe52a5f887742e</td>\n      <td>1348381</td>\n      <td>0.450349</td>\n    </tr>\n    <tr>\n      <th>4</th>\n      <td>0001ad0041738ac671fe52a5f887742e</td>\n      <td>1290542</td>\n      <td>0.435347</td>\n    </tr>\n    <tr>\n      <th>5</th>\n      <td>0001ad0041738ac671fe52a5f887742e</td>\n      <td>1430294</td>\n      <td>0.434530</td>\n    </tr>\n    <tr>\n      <th>6</th>\n      <td>0001ad0041738ac671fe52a5f887742e</td>\n      <td>1271602</td>\n      <td>0.403236</td>\n    </tr>\n    <tr>\n      <th>7</th>\n      <td>0001ad0041738ac671fe52a5f887742e</td>\n      <td>1418197</td>\n      <td>0.402748</td>\n    </tr>\n    <tr>\n      <th>8</th>\n      <td>0001ad0041738ac671fe52a5f887742e</td>\n      <td>1271175</td>\n      <td>0.391297</td>\n    </tr>\n    <tr>\n      <th>9</th>\n      <td>0001ad0041738ac671fe52a5f887742e</td>\n      <td>1406032</td>\n      <td>0.368059</td>\n    </tr>\n  </tbody>\n</table>\n</div>"
     },
     "execution_count": 28,
     "metadata": {},
     "output_type": "execute_result"
    }
   ],
   "source": [
    "recommender.get_user_recommendation(user_id='0001ad0041738ac671fe52a5f887742e')"
   ],
   "metadata": {
    "collapsed": false,
    "pycharm": {
     "name": "#%%\n"
    }
   }
  },
  {
   "cell_type": "code",
   "execution_count": 27,
   "outputs": [
    {
     "data": {
      "text/plain": "                                 user_id  event_id     score\n119731  e0a0ef3fc137e3e814c5fc38560d1bd4   1245107  1.415582\n29393   3661e3c9bb6e828533a4f8610d7b1428   1245107  1.188654\n25711   2f5eec37188ff8c88c6cb1b1ae2629ad   1245107  1.162149\n95630   b2c854ba835ab086fb1bd1bb5a269927   1245107  1.101963\n36673   44b2a0b983527cfec414b40788215ac9   1245107  1.087791\n97132   b5d93a671cf80932a81d7ddb45a415ad   1245107  1.052754\n74250   8a6f8b23d9c23ba995978003ed4f8620   1245107  1.040329\n36651   44aac8ef3830e51929cf97f9ad1fc8d7   1245107  0.992987\n104771  c362f449aba17a54c90040da02583f14   1245107  0.990551\n131790  f702ca26f40d593c4988b36856026872   1245107  0.960613",
      "text/html": "<div>\n<style scoped>\n    .dataframe tbody tr th:only-of-type {\n        vertical-align: middle;\n    }\n\n    .dataframe tbody tr th {\n        vertical-align: top;\n    }\n\n    .dataframe thead th {\n        text-align: right;\n    }\n</style>\n<table border=\"1\" class=\"dataframe\">\n  <thead>\n    <tr style=\"text-align: right;\">\n      <th></th>\n      <th>user_id</th>\n      <th>event_id</th>\n      <th>score</th>\n    </tr>\n  </thead>\n  <tbody>\n    <tr>\n      <th>119731</th>\n      <td>e0a0ef3fc137e3e814c5fc38560d1bd4</td>\n      <td>1245107</td>\n      <td>1.415582</td>\n    </tr>\n    <tr>\n      <th>29393</th>\n      <td>3661e3c9bb6e828533a4f8610d7b1428</td>\n      <td>1245107</td>\n      <td>1.188654</td>\n    </tr>\n    <tr>\n      <th>25711</th>\n      <td>2f5eec37188ff8c88c6cb1b1ae2629ad</td>\n      <td>1245107</td>\n      <td>1.162149</td>\n    </tr>\n    <tr>\n      <th>95630</th>\n      <td>b2c854ba835ab086fb1bd1bb5a269927</td>\n      <td>1245107</td>\n      <td>1.101963</td>\n    </tr>\n    <tr>\n      <th>36673</th>\n      <td>44b2a0b983527cfec414b40788215ac9</td>\n      <td>1245107</td>\n      <td>1.087791</td>\n    </tr>\n    <tr>\n      <th>97132</th>\n      <td>b5d93a671cf80932a81d7ddb45a415ad</td>\n      <td>1245107</td>\n      <td>1.052754</td>\n    </tr>\n    <tr>\n      <th>74250</th>\n      <td>8a6f8b23d9c23ba995978003ed4f8620</td>\n      <td>1245107</td>\n      <td>1.040329</td>\n    </tr>\n    <tr>\n      <th>36651</th>\n      <td>44aac8ef3830e51929cf97f9ad1fc8d7</td>\n      <td>1245107</td>\n      <td>0.992987</td>\n    </tr>\n    <tr>\n      <th>104771</th>\n      <td>c362f449aba17a54c90040da02583f14</td>\n      <td>1245107</td>\n      <td>0.990551</td>\n    </tr>\n    <tr>\n      <th>131790</th>\n      <td>f702ca26f40d593c4988b36856026872</td>\n      <td>1245107</td>\n      <td>0.960613</td>\n    </tr>\n  </tbody>\n</table>\n</div>"
     },
     "execution_count": 27,
     "metadata": {},
     "output_type": "execute_result"
    }
   ],
   "source": [
    "recommender.get_users_interested_in_event(event_id=1245107)"
   ],
   "metadata": {
    "collapsed": false,
    "pycharm": {
     "name": "#%%\n"
    }
   }
  },
  {
   "cell_type": "code",
   "execution_count": 9,
   "outputs": [
    {
     "data": {
      "text/plain": "True"
     },
     "execution_count": 9,
     "metadata": {},
     "output_type": "execute_result"
    }
   ],
   "source": [
    "recommender.save_as_csv('rec_test.csv')"
   ],
   "metadata": {
    "collapsed": false,
    "pycharm": {
     "name": "#%%\n"
    }
   }
  },
  {
   "cell_type": "code",
   "execution_count": null,
   "outputs": [],
   "source": [
    "recommender.save_as_json('rec_test.json')"
   ],
   "metadata": {
    "collapsed": false,
    "pycharm": {
     "name": "#%%\n"
    }
   }
  }
 ],
 "metadata": {
  "kernelspec": {
   "display_name": "Python 3",
   "language": "python",
   "name": "python3"
  },
  "language_info": {
   "codemirror_mode": {
    "name": "ipython",
    "version": 2
   },
   "file_extension": ".py",
   "mimetype": "text/x-python",
   "name": "python",
   "nbconvert_exporter": "python",
   "pygments_lexer": "ipython2",
   "version": "2.7.6"
  }
 },
 "nbformat": 4,
 "nbformat_minor": 0
}