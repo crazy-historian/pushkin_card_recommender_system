{
 "cells": [
  {
   "cell_type": "code",
   "execution_count": 13,
   "metadata": {
    "collapsed": true
   },
   "outputs": [],
   "source": [
    "import pandas as pd"
   ]
  },
  {
   "cell_type": "code",
   "execution_count": 35,
   "outputs": [
    {
     "data": {
      "text/plain": "                                user_id  event_id  \\\n0      0001ad0041738ac671fe52a5f887742e    919008   \n1      0001ad0041738ac671fe52a5f887742e   1249161   \n2      0001ad0041738ac671fe52a5f887742e   1271526   \n3      0001ad0041738ac671fe52a5f887742e   1362230   \n4      0001ad0041738ac671fe52a5f887742e   1420786   \n...                                 ...       ...   \n35552  ffe13ffdd93b045e3b06ee834c585d26   1300654   \n35553  ffe4a90226a335c9ed184bc19163490b   1240774   \n35554  ffe4a90226a335c9ed184bc19163490b   1300354   \n35555  ffe4a90226a335c9ed184bc19163490b   1300678   \n35556  fff57c97533412e45cad515b6a0cc0f4   1282657   \n\n                                              event_name  clicks_count  \\\n0      Экспозиция «Древнерусская иконопись XIII–XVI в...             1   \n1                   Экспозиция музея Владимира Высоцкого             1   \n2                       Экспозиции Мультимедиа Арт Музея             1   \n3                       Выставка «За все тебя благодарю»             1   \n4                         Вечер музыки П. И. Чайковского             1   \n...                                                  ...           ...   \n35552         Спектакль «Дневник Анны Франк. Белая роза»             1   \n35553                          Спектакль «Анна Каренина»             1   \n35554                          Спектакль «Люди как люди»             1   \n35555                         Спектакль «Мнимый больной»             1   \n35556                             Выставка ко Дню знаний             1   \n\n       user_num  \n0             0  \n1             0  \n2             0  \n3             0  \n4             0  \n...         ...  \n35552     13655  \n35553     13656  \n35554     13656  \n35555     13656  \n35556     13657  \n\n[35557 rows x 5 columns]",
      "text/html": "<div>\n<style scoped>\n    .dataframe tbody tr th:only-of-type {\n        vertical-align: middle;\n    }\n\n    .dataframe tbody tr th {\n        vertical-align: top;\n    }\n\n    .dataframe thead th {\n        text-align: right;\n    }\n</style>\n<table border=\"1\" class=\"dataframe\">\n  <thead>\n    <tr style=\"text-align: right;\">\n      <th></th>\n      <th>user_id</th>\n      <th>event_id</th>\n      <th>event_name</th>\n      <th>clicks_count</th>\n      <th>user_num</th>\n    </tr>\n  </thead>\n  <tbody>\n    <tr>\n      <th>0</th>\n      <td>0001ad0041738ac671fe52a5f887742e</td>\n      <td>919008</td>\n      <td>Экспозиция «Древнерусская иконопись XIII–XVI в...</td>\n      <td>1</td>\n      <td>0</td>\n    </tr>\n    <tr>\n      <th>1</th>\n      <td>0001ad0041738ac671fe52a5f887742e</td>\n      <td>1249161</td>\n      <td>Экспозиция музея Владимира Высоцкого</td>\n      <td>1</td>\n      <td>0</td>\n    </tr>\n    <tr>\n      <th>2</th>\n      <td>0001ad0041738ac671fe52a5f887742e</td>\n      <td>1271526</td>\n      <td>Экспозиции Мультимедиа Арт Музея</td>\n      <td>1</td>\n      <td>0</td>\n    </tr>\n    <tr>\n      <th>3</th>\n      <td>0001ad0041738ac671fe52a5f887742e</td>\n      <td>1362230</td>\n      <td>Выставка «За все тебя благодарю»</td>\n      <td>1</td>\n      <td>0</td>\n    </tr>\n    <tr>\n      <th>4</th>\n      <td>0001ad0041738ac671fe52a5f887742e</td>\n      <td>1420786</td>\n      <td>Вечер музыки П. И. Чайковского</td>\n      <td>1</td>\n      <td>0</td>\n    </tr>\n    <tr>\n      <th>...</th>\n      <td>...</td>\n      <td>...</td>\n      <td>...</td>\n      <td>...</td>\n      <td>...</td>\n    </tr>\n    <tr>\n      <th>35552</th>\n      <td>ffe13ffdd93b045e3b06ee834c585d26</td>\n      <td>1300654</td>\n      <td>Спектакль «Дневник Анны Франк. Белая роза»</td>\n      <td>1</td>\n      <td>13655</td>\n    </tr>\n    <tr>\n      <th>35553</th>\n      <td>ffe4a90226a335c9ed184bc19163490b</td>\n      <td>1240774</td>\n      <td>Спектакль «Анна Каренина»</td>\n      <td>1</td>\n      <td>13656</td>\n    </tr>\n    <tr>\n      <th>35554</th>\n      <td>ffe4a90226a335c9ed184bc19163490b</td>\n      <td>1300354</td>\n      <td>Спектакль «Люди как люди»</td>\n      <td>1</td>\n      <td>13656</td>\n    </tr>\n    <tr>\n      <th>35555</th>\n      <td>ffe4a90226a335c9ed184bc19163490b</td>\n      <td>1300678</td>\n      <td>Спектакль «Мнимый больной»</td>\n      <td>1</td>\n      <td>13656</td>\n    </tr>\n    <tr>\n      <th>35556</th>\n      <td>fff57c97533412e45cad515b6a0cc0f4</td>\n      <td>1282657</td>\n      <td>Выставка ко Дню знаний</td>\n      <td>1</td>\n      <td>13657</td>\n    </tr>\n  </tbody>\n</table>\n<p>35557 rows × 5 columns</p>\n</div>"
     },
     "execution_count": 35,
     "metadata": {},
     "output_type": "execute_result"
    }
   ],
   "source": [
    "user_event = pd.read_csv('user_event_test.csv')\n",
    "user_event.drop(columns='Unnamed: 0', inplace=True)\n",
    "user_event"
   ],
   "metadata": {
    "collapsed": false,
    "pycharm": {
     "name": "#%%\n"
    }
   }
  },
  {
   "cell_type": "markdown",
   "source": [
    "### Класс EventRecommender"
   ],
   "metadata": {
    "collapsed": false
   }
  },
  {
   "cell_type": "code",
   "execution_count": 15,
   "outputs": [],
   "source": [
    "from recommenders.implicit_models import EventRecommender"
   ],
   "metadata": {
    "collapsed": false,
    "pycharm": {
     "name": "#%%\n"
    }
   }
  },
  {
   "cell_type": "code",
   "execution_count": 37,
   "outputs": [
    {
     "data": {
      "text/plain": "  0%|          | 0/20 [00:00<?, ?it/s]",
      "application/vnd.jupyter.widget-view+json": {
       "version_major": 2,
       "version_minor": 0,
       "model_id": "9afd33c0162344f0bb23355831a5ecf6"
      }
     },
     "metadata": {},
     "output_type": "display_data"
    }
   ],
   "source": [
    "recommender = EventRecommender(user_event, 'als')"
   ],
   "metadata": {
    "collapsed": false,
    "pycharm": {
     "name": "#%%\n"
    }
   }
  },
  {
   "cell_type": "code",
   "execution_count": 38,
   "outputs": [],
   "source": [
    "recommender.prepare_recommendations()"
   ],
   "metadata": {
    "collapsed": false,
    "pycharm": {
     "name": "#%%\n"
    }
   }
  },
  {
   "cell_type": "code",
   "execution_count": 18,
   "outputs": [
    {
     "data": {
      "text/plain": "                                 user_id  event_id     score\n0       0001ad0041738ac671fe52a5f887742e   1420213  0.636356\n1       0001ad0041738ac671fe52a5f887742e   1290542  0.625585\n2       0001ad0041738ac671fe52a5f887742e   1245718  0.577708\n3       0001ad0041738ac671fe52a5f887742e   1430294  0.556609\n4       0001ad0041738ac671fe52a5f887742e   1365254  0.513466\n...                                  ...       ...       ...\n136575  fff57c97533412e45cad515b6a0cc0f4   1290542  0.234104\n136576  fff57c97533412e45cad515b6a0cc0f4   1290221  0.227814\n136577  fff57c97533412e45cad515b6a0cc0f4   1321481  0.222401\n136578  fff57c97533412e45cad515b6a0cc0f4   1261967  0.219053\n136579  fff57c97533412e45cad515b6a0cc0f4   1246053  0.208390\n\n[136580 rows x 3 columns]",
      "text/html": "<div>\n<style scoped>\n    .dataframe tbody tr th:only-of-type {\n        vertical-align: middle;\n    }\n\n    .dataframe tbody tr th {\n        vertical-align: top;\n    }\n\n    .dataframe thead th {\n        text-align: right;\n    }\n</style>\n<table border=\"1\" class=\"dataframe\">\n  <thead>\n    <tr style=\"text-align: right;\">\n      <th></th>\n      <th>user_id</th>\n      <th>event_id</th>\n      <th>score</th>\n    </tr>\n  </thead>\n  <tbody>\n    <tr>\n      <th>0</th>\n      <td>0001ad0041738ac671fe52a5f887742e</td>\n      <td>1420213</td>\n      <td>0.636356</td>\n    </tr>\n    <tr>\n      <th>1</th>\n      <td>0001ad0041738ac671fe52a5f887742e</td>\n      <td>1290542</td>\n      <td>0.625585</td>\n    </tr>\n    <tr>\n      <th>2</th>\n      <td>0001ad0041738ac671fe52a5f887742e</td>\n      <td>1245718</td>\n      <td>0.577708</td>\n    </tr>\n    <tr>\n      <th>3</th>\n      <td>0001ad0041738ac671fe52a5f887742e</td>\n      <td>1430294</td>\n      <td>0.556609</td>\n    </tr>\n    <tr>\n      <th>4</th>\n      <td>0001ad0041738ac671fe52a5f887742e</td>\n      <td>1365254</td>\n      <td>0.513466</td>\n    </tr>\n    <tr>\n      <th>...</th>\n      <td>...</td>\n      <td>...</td>\n      <td>...</td>\n    </tr>\n    <tr>\n      <th>136575</th>\n      <td>fff57c97533412e45cad515b6a0cc0f4</td>\n      <td>1290542</td>\n      <td>0.234104</td>\n    </tr>\n    <tr>\n      <th>136576</th>\n      <td>fff57c97533412e45cad515b6a0cc0f4</td>\n      <td>1290221</td>\n      <td>0.227814</td>\n    </tr>\n    <tr>\n      <th>136577</th>\n      <td>fff57c97533412e45cad515b6a0cc0f4</td>\n      <td>1321481</td>\n      <td>0.222401</td>\n    </tr>\n    <tr>\n      <th>136578</th>\n      <td>fff57c97533412e45cad515b6a0cc0f4</td>\n      <td>1261967</td>\n      <td>0.219053</td>\n    </tr>\n    <tr>\n      <th>136579</th>\n      <td>fff57c97533412e45cad515b6a0cc0f4</td>\n      <td>1246053</td>\n      <td>0.208390</td>\n    </tr>\n  </tbody>\n</table>\n<p>136580 rows × 3 columns</p>\n</div>"
     },
     "execution_count": 18,
     "metadata": {},
     "output_type": "execute_result"
    }
   ],
   "source": [
    "recommender.recommendations"
   ],
   "metadata": {
    "collapsed": false,
    "pycharm": {
     "name": "#%%\n"
    }
   }
  },
  {
   "cell_type": "code",
   "execution_count": 19,
   "outputs": [
    {
     "data": {
      "text/plain": "                              user_id  event_id     score\n200  0046252d156d6e6c3d658b812457d5b6   1318826  0.199339\n201  0046252d156d6e6c3d658b812457d5b6   1354417  0.159873\n202  0046252d156d6e6c3d658b812457d5b6   1245107  0.123463\n203  0046252d156d6e6c3d658b812457d5b6   1304566  0.119042\n204  0046252d156d6e6c3d658b812457d5b6   1334996  0.117579\n205  0046252d156d6e6c3d658b812457d5b6   1246053  0.112563\n206  0046252d156d6e6c3d658b812457d5b6   1324931  0.107744\n207  0046252d156d6e6c3d658b812457d5b6   1345754  0.106668\n208  0046252d156d6e6c3d658b812457d5b6    834078  0.106413\n209  0046252d156d6e6c3d658b812457d5b6    960187  0.106358",
      "text/html": "<div>\n<style scoped>\n    .dataframe tbody tr th:only-of-type {\n        vertical-align: middle;\n    }\n\n    .dataframe tbody tr th {\n        vertical-align: top;\n    }\n\n    .dataframe thead th {\n        text-align: right;\n    }\n</style>\n<table border=\"1\" class=\"dataframe\">\n  <thead>\n    <tr style=\"text-align: right;\">\n      <th></th>\n      <th>user_id</th>\n      <th>event_id</th>\n      <th>score</th>\n    </tr>\n  </thead>\n  <tbody>\n    <tr>\n      <th>200</th>\n      <td>0046252d156d6e6c3d658b812457d5b6</td>\n      <td>1318826</td>\n      <td>0.199339</td>\n    </tr>\n    <tr>\n      <th>201</th>\n      <td>0046252d156d6e6c3d658b812457d5b6</td>\n      <td>1354417</td>\n      <td>0.159873</td>\n    </tr>\n    <tr>\n      <th>202</th>\n      <td>0046252d156d6e6c3d658b812457d5b6</td>\n      <td>1245107</td>\n      <td>0.123463</td>\n    </tr>\n    <tr>\n      <th>203</th>\n      <td>0046252d156d6e6c3d658b812457d5b6</td>\n      <td>1304566</td>\n      <td>0.119042</td>\n    </tr>\n    <tr>\n      <th>204</th>\n      <td>0046252d156d6e6c3d658b812457d5b6</td>\n      <td>1334996</td>\n      <td>0.117579</td>\n    </tr>\n    <tr>\n      <th>205</th>\n      <td>0046252d156d6e6c3d658b812457d5b6</td>\n      <td>1246053</td>\n      <td>0.112563</td>\n    </tr>\n    <tr>\n      <th>206</th>\n      <td>0046252d156d6e6c3d658b812457d5b6</td>\n      <td>1324931</td>\n      <td>0.107744</td>\n    </tr>\n    <tr>\n      <th>207</th>\n      <td>0046252d156d6e6c3d658b812457d5b6</td>\n      <td>1345754</td>\n      <td>0.106668</td>\n    </tr>\n    <tr>\n      <th>208</th>\n      <td>0046252d156d6e6c3d658b812457d5b6</td>\n      <td>834078</td>\n      <td>0.106413</td>\n    </tr>\n    <tr>\n      <th>209</th>\n      <td>0046252d156d6e6c3d658b812457d5b6</td>\n      <td>960187</td>\n      <td>0.106358</td>\n    </tr>\n  </tbody>\n</table>\n</div>"
     },
     "execution_count": 19,
     "metadata": {},
     "output_type": "execute_result"
    }
   ],
   "source": [
    "recommender.get_user_recommendation(user_id='0046252d156d6e6c3d658b812457d5b6')"
   ],
   "metadata": {
    "collapsed": false,
    "pycharm": {
     "name": "#%%\n"
    }
   }
  },
  {
   "cell_type": "code",
   "execution_count": 23,
   "outputs": [
    {
     "data": {
      "text/plain": "                                user_id  event_id     score\n52811  6268bbdb7e7de3a3667f0bc8ebc18329   1245107  1.192243\n51982  611a501b9b0735491ac2fd7f62f6d0da   1245107  1.175488\n65760  7ab7177accc97625e1456c791c7ff7d0   1245107  1.069034\n4281   088902fa4a517a805dfc7c646dc81357   1245107  1.067472\n29393  3661e3c9bb6e828533a4f8610d7b1428   1245107  1.063608\n6471   0c37b46eccb5284aa2a791e1c419377a   1245107  1.036777\n95630  b2c854ba835ab086fb1bd1bb5a269927   1245107  1.036076\n83631  9bcfa9b47e4e3cfc6c199cc4353fac16   1245107  0.973371\n22120  28bde92edbadeda15b751814f2a46dce   1245107  0.964339\n97135  b5d93a671cf80932a81d7ddb45a415ad   1245107  0.957518",
      "text/html": "<div>\n<style scoped>\n    .dataframe tbody tr th:only-of-type {\n        vertical-align: middle;\n    }\n\n    .dataframe tbody tr th {\n        vertical-align: top;\n    }\n\n    .dataframe thead th {\n        text-align: right;\n    }\n</style>\n<table border=\"1\" class=\"dataframe\">\n  <thead>\n    <tr style=\"text-align: right;\">\n      <th></th>\n      <th>user_id</th>\n      <th>event_id</th>\n      <th>score</th>\n    </tr>\n  </thead>\n  <tbody>\n    <tr>\n      <th>52811</th>\n      <td>6268bbdb7e7de3a3667f0bc8ebc18329</td>\n      <td>1245107</td>\n      <td>1.192243</td>\n    </tr>\n    <tr>\n      <th>51982</th>\n      <td>611a501b9b0735491ac2fd7f62f6d0da</td>\n      <td>1245107</td>\n      <td>1.175488</td>\n    </tr>\n    <tr>\n      <th>65760</th>\n      <td>7ab7177accc97625e1456c791c7ff7d0</td>\n      <td>1245107</td>\n      <td>1.069034</td>\n    </tr>\n    <tr>\n      <th>4281</th>\n      <td>088902fa4a517a805dfc7c646dc81357</td>\n      <td>1245107</td>\n      <td>1.067472</td>\n    </tr>\n    <tr>\n      <th>29393</th>\n      <td>3661e3c9bb6e828533a4f8610d7b1428</td>\n      <td>1245107</td>\n      <td>1.063608</td>\n    </tr>\n    <tr>\n      <th>6471</th>\n      <td>0c37b46eccb5284aa2a791e1c419377a</td>\n      <td>1245107</td>\n      <td>1.036777</td>\n    </tr>\n    <tr>\n      <th>95630</th>\n      <td>b2c854ba835ab086fb1bd1bb5a269927</td>\n      <td>1245107</td>\n      <td>1.036076</td>\n    </tr>\n    <tr>\n      <th>83631</th>\n      <td>9bcfa9b47e4e3cfc6c199cc4353fac16</td>\n      <td>1245107</td>\n      <td>0.973371</td>\n    </tr>\n    <tr>\n      <th>22120</th>\n      <td>28bde92edbadeda15b751814f2a46dce</td>\n      <td>1245107</td>\n      <td>0.964339</td>\n    </tr>\n    <tr>\n      <th>97135</th>\n      <td>b5d93a671cf80932a81d7ddb45a415ad</td>\n      <td>1245107</td>\n      <td>0.957518</td>\n    </tr>\n  </tbody>\n</table>\n</div>"
     },
     "execution_count": 23,
     "metadata": {},
     "output_type": "execute_result"
    }
   ],
   "source": [
    "recommender.get_users_interested_in_event(1245107)"
   ],
   "metadata": {
    "collapsed": false,
    "pycharm": {
     "name": "#%%\n"
    }
   }
  },
  {
   "cell_type": "code",
   "execution_count": 21,
   "outputs": [
    {
     "data": {
      "text/plain": "True"
     },
     "execution_count": 21,
     "metadata": {},
     "output_type": "execute_result"
    }
   ],
   "source": [
    "recommender.save_as_csv('rec_test.csv')"
   ],
   "metadata": {
    "collapsed": false,
    "pycharm": {
     "name": "#%%\n"
    }
   }
  },
  {
   "cell_type": "code",
   "execution_count": 22,
   "outputs": [],
   "source": [
    "recommender.save_as_json('rec_test.json')\n"
   ],
   "metadata": {
    "collapsed": false,
    "pycharm": {
     "name": "#%%\n"
    }
   }
  }
 ],
 "metadata": {
  "kernelspec": {
   "display_name": "Python 3",
   "language": "python",
   "name": "python3"
  },
  "language_info": {
   "codemirror_mode": {
    "name": "ipython",
    "version": 2
   },
   "file_extension": ".py",
   "mimetype": "text/x-python",
   "name": "python",
   "nbconvert_exporter": "python",
   "pygments_lexer": "ipython2",
   "version": "2.7.6"
  }
 },
 "nbformat": 4,
 "nbformat_minor": 0
}