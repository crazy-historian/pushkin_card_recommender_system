{
 "cells": [
  {
   "cell_type": "code",
   "execution_count": 1,
   "metadata": {
    "collapsed": true
   },
   "outputs": [],
   "source": [
    "import pandas as pd"
   ]
  },
  {
   "cell_type": "code",
   "execution_count": 2,
   "outputs": [],
   "source": [
    "user_event = pd.read_csv('user_event_debug.csv')"
   ],
   "metadata": {
    "collapsed": false,
    "pycharm": {
     "name": "#%%\n"
    }
   }
  },
  {
   "cell_type": "markdown",
   "source": [
    "### Кkасс EventRecommender"
   ],
   "metadata": {
    "collapsed": false
   }
  },
  {
   "cell_type": "code",
   "execution_count": 3,
   "outputs": [],
   "source": [
    "from recommenders.implicit_models import EventRecommender"
   ],
   "metadata": {
    "collapsed": false,
    "pycharm": {
     "name": "#%%\n"
    }
   }
  },
  {
   "cell_type": "code",
   "execution_count": 4,
   "outputs": [
    {
     "name": "stdout",
     "output_type": "stream",
     "text": [
      "Index(['Unnamed: 0', 'user_id', 'event_id', 'event_name', 'clicks_count',\n",
      "       'user_num'],\n",
      "      dtype='object')\n"
     ]
    },
    {
     "data": {
      "text/plain": "  0%|          | 0/20 [00:00<?, ?it/s]",
      "application/vnd.jupyter.widget-view+json": {
       "version_major": 2,
       "version_minor": 0,
       "model_id": "aa12c0f5297c4ca6a9beacfca18489cc"
      }
     },
     "metadata": {},
     "output_type": "display_data"
    }
   ],
   "source": [
    "recommender = EventRecommender(user_event, 'als')"
   ],
   "metadata": {
    "collapsed": false,
    "pycharm": {
     "name": "#%%\n"
    }
   }
  },
  {
   "cell_type": "code",
   "execution_count": 5,
   "outputs": [],
   "source": [
    "recommender.prepare_recommendations()"
   ],
   "metadata": {
    "collapsed": false,
    "pycharm": {
     "name": "#%%\n"
    }
   }
  },
  {
   "cell_type": "code",
   "execution_count": 6,
   "outputs": [
    {
     "data": {
      "text/plain": "                                 user_id  event_id     score\n0       0001ad0041738ac671fe52a5f887742e      1650  0.494356\n1       0001ad0041738ac671fe52a5f887742e      1413  0.484677\n2       0001ad0041738ac671fe52a5f887742e       562  0.470576\n3       0001ad0041738ac671fe52a5f887742e      1415  0.434217\n4       0001ad0041738ac671fe52a5f887742e      1653  0.415884\n...                                  ...       ...       ...\n136575  fff57c97533412e45cad515b6a0cc0f4      1276  0.227426\n136576  fff57c97533412e45cad515b6a0cc0f4      1671  0.209103\n136577  fff57c97533412e45cad515b6a0cc0f4       546  0.194521\n136578  fff57c97533412e45cad515b6a0cc0f4       466  0.190554\n136579  fff57c97533412e45cad515b6a0cc0f4       606  0.186147\n\n[136580 rows x 3 columns]",
      "text/html": "<div>\n<style scoped>\n    .dataframe tbody tr th:only-of-type {\n        vertical-align: middle;\n    }\n\n    .dataframe tbody tr th {\n        vertical-align: top;\n    }\n\n    .dataframe thead th {\n        text-align: right;\n    }\n</style>\n<table border=\"1\" class=\"dataframe\">\n  <thead>\n    <tr style=\"text-align: right;\">\n      <th></th>\n      <th>user_id</th>\n      <th>event_id</th>\n      <th>score</th>\n    </tr>\n  </thead>\n  <tbody>\n    <tr>\n      <th>0</th>\n      <td>0001ad0041738ac671fe52a5f887742e</td>\n      <td>1650</td>\n      <td>0.494356</td>\n    </tr>\n    <tr>\n      <th>1</th>\n      <td>0001ad0041738ac671fe52a5f887742e</td>\n      <td>1413</td>\n      <td>0.484677</td>\n    </tr>\n    <tr>\n      <th>2</th>\n      <td>0001ad0041738ac671fe52a5f887742e</td>\n      <td>562</td>\n      <td>0.470576</td>\n    </tr>\n    <tr>\n      <th>3</th>\n      <td>0001ad0041738ac671fe52a5f887742e</td>\n      <td>1415</td>\n      <td>0.434217</td>\n    </tr>\n    <tr>\n      <th>4</th>\n      <td>0001ad0041738ac671fe52a5f887742e</td>\n      <td>1653</td>\n      <td>0.415884</td>\n    </tr>\n    <tr>\n      <th>...</th>\n      <td>...</td>\n      <td>...</td>\n      <td>...</td>\n    </tr>\n    <tr>\n      <th>136575</th>\n      <td>fff57c97533412e45cad515b6a0cc0f4</td>\n      <td>1276</td>\n      <td>0.227426</td>\n    </tr>\n    <tr>\n      <th>136576</th>\n      <td>fff57c97533412e45cad515b6a0cc0f4</td>\n      <td>1671</td>\n      <td>0.209103</td>\n    </tr>\n    <tr>\n      <th>136577</th>\n      <td>fff57c97533412e45cad515b6a0cc0f4</td>\n      <td>546</td>\n      <td>0.194521</td>\n    </tr>\n    <tr>\n      <th>136578</th>\n      <td>fff57c97533412e45cad515b6a0cc0f4</td>\n      <td>466</td>\n      <td>0.190554</td>\n    </tr>\n    <tr>\n      <th>136579</th>\n      <td>fff57c97533412e45cad515b6a0cc0f4</td>\n      <td>606</td>\n      <td>0.186147</td>\n    </tr>\n  </tbody>\n</table>\n<p>136580 rows × 3 columns</p>\n</div>"
     },
     "execution_count": 6,
     "metadata": {},
     "output_type": "execute_result"
    }
   ],
   "source": [
    "recommender.recommendations"
   ],
   "metadata": {
    "collapsed": false,
    "pycharm": {
     "name": "#%%\n"
    }
   }
  },
  {
   "cell_type": "code",
   "execution_count": 7,
   "outputs": [
    {
     "data": {
      "text/plain": "                              user_id  event_id     score\n200  0046252d156d6e6c3d658b812457d5b6      1388  0.143412\n201  0046252d156d6e6c3d658b812457d5b6       557  0.141264\n202  0046252d156d6e6c3d658b812457d5b6      1067  0.135853\n203  0046252d156d6e6c3d658b812457d5b6       362  0.127776\n204  0046252d156d6e6c3d658b812457d5b6      1182  0.123181\n205  0046252d156d6e6c3d658b812457d5b6       360  0.122271\n206  0046252d156d6e6c3d658b812457d5b6      1180  0.119179\n207  0046252d156d6e6c3d658b812457d5b6       384  0.117255\n208  0046252d156d6e6c3d658b812457d5b6       567  0.105087\n209  0046252d156d6e6c3d658b812457d5b6       194  0.101832",
      "text/html": "<div>\n<style scoped>\n    .dataframe tbody tr th:only-of-type {\n        vertical-align: middle;\n    }\n\n    .dataframe tbody tr th {\n        vertical-align: top;\n    }\n\n    .dataframe thead th {\n        text-align: right;\n    }\n</style>\n<table border=\"1\" class=\"dataframe\">\n  <thead>\n    <tr style=\"text-align: right;\">\n      <th></th>\n      <th>user_id</th>\n      <th>event_id</th>\n      <th>score</th>\n    </tr>\n  </thead>\n  <tbody>\n    <tr>\n      <th>200</th>\n      <td>0046252d156d6e6c3d658b812457d5b6</td>\n      <td>1388</td>\n      <td>0.143412</td>\n    </tr>\n    <tr>\n      <th>201</th>\n      <td>0046252d156d6e6c3d658b812457d5b6</td>\n      <td>557</td>\n      <td>0.141264</td>\n    </tr>\n    <tr>\n      <th>202</th>\n      <td>0046252d156d6e6c3d658b812457d5b6</td>\n      <td>1067</td>\n      <td>0.135853</td>\n    </tr>\n    <tr>\n      <th>203</th>\n      <td>0046252d156d6e6c3d658b812457d5b6</td>\n      <td>362</td>\n      <td>0.127776</td>\n    </tr>\n    <tr>\n      <th>204</th>\n      <td>0046252d156d6e6c3d658b812457d5b6</td>\n      <td>1182</td>\n      <td>0.123181</td>\n    </tr>\n    <tr>\n      <th>205</th>\n      <td>0046252d156d6e6c3d658b812457d5b6</td>\n      <td>360</td>\n      <td>0.122271</td>\n    </tr>\n    <tr>\n      <th>206</th>\n      <td>0046252d156d6e6c3d658b812457d5b6</td>\n      <td>1180</td>\n      <td>0.119179</td>\n    </tr>\n    <tr>\n      <th>207</th>\n      <td>0046252d156d6e6c3d658b812457d5b6</td>\n      <td>384</td>\n      <td>0.117255</td>\n    </tr>\n    <tr>\n      <th>208</th>\n      <td>0046252d156d6e6c3d658b812457d5b6</td>\n      <td>567</td>\n      <td>0.105087</td>\n    </tr>\n    <tr>\n      <th>209</th>\n      <td>0046252d156d6e6c3d658b812457d5b6</td>\n      <td>194</td>\n      <td>0.101832</td>\n    </tr>\n  </tbody>\n</table>\n</div>"
     },
     "execution_count": 7,
     "metadata": {},
     "output_type": "execute_result"
    }
   ],
   "source": [
    "recommender.get_user_recommendation(user_id='0046252d156d6e6c3d658b812457d5b6')"
   ],
   "metadata": {
    "collapsed": false,
    "pycharm": {
     "name": "#%%\n"
    }
   }
  },
  {
   "cell_type": "code",
   "execution_count": 8,
   "outputs": [
    {
     "data": {
      "text/plain": "                                 user_id  event_id     score\n82910   9aa5b6acee5da2472b07d6baf58796c9      1445  1.568378\n107022  c78d710a4851497754550e327dd4b0b8      1445  1.432698\n52550   61fc280256d6b1f2d32cef299cbdcd2f      1445  1.419817\n96610   b4d5b5c027eb7489f4cedbbbcc4c6501      1445  1.350675\n74251   8a6f8b23d9c23ba995978003ed4f8620      1445  1.312036\n83960   9c597427370a3100827f98138005b096      1445  1.276373\n133480  fa13dbc2d96318c98b101ac99707e2ac      1445  1.204409\n75110   8c40080607deb65dc33b217f8b1ad421      1445  1.189485\n119661  e08ad1ec2ddaf5c0e8ac66ac17ec238b      1445  1.182715\n135772  fe3e97bb0103e93183222ed0fb932166      1445  1.180977",
      "text/html": "<div>\n<style scoped>\n    .dataframe tbody tr th:only-of-type {\n        vertical-align: middle;\n    }\n\n    .dataframe tbody tr th {\n        vertical-align: top;\n    }\n\n    .dataframe thead th {\n        text-align: right;\n    }\n</style>\n<table border=\"1\" class=\"dataframe\">\n  <thead>\n    <tr style=\"text-align: right;\">\n      <th></th>\n      <th>user_id</th>\n      <th>event_id</th>\n      <th>score</th>\n    </tr>\n  </thead>\n  <tbody>\n    <tr>\n      <th>82910</th>\n      <td>9aa5b6acee5da2472b07d6baf58796c9</td>\n      <td>1445</td>\n      <td>1.568378</td>\n    </tr>\n    <tr>\n      <th>107022</th>\n      <td>c78d710a4851497754550e327dd4b0b8</td>\n      <td>1445</td>\n      <td>1.432698</td>\n    </tr>\n    <tr>\n      <th>52550</th>\n      <td>61fc280256d6b1f2d32cef299cbdcd2f</td>\n      <td>1445</td>\n      <td>1.419817</td>\n    </tr>\n    <tr>\n      <th>96610</th>\n      <td>b4d5b5c027eb7489f4cedbbbcc4c6501</td>\n      <td>1445</td>\n      <td>1.350675</td>\n    </tr>\n    <tr>\n      <th>74251</th>\n      <td>8a6f8b23d9c23ba995978003ed4f8620</td>\n      <td>1445</td>\n      <td>1.312036</td>\n    </tr>\n    <tr>\n      <th>83960</th>\n      <td>9c597427370a3100827f98138005b096</td>\n      <td>1445</td>\n      <td>1.276373</td>\n    </tr>\n    <tr>\n      <th>133480</th>\n      <td>fa13dbc2d96318c98b101ac99707e2ac</td>\n      <td>1445</td>\n      <td>1.204409</td>\n    </tr>\n    <tr>\n      <th>75110</th>\n      <td>8c40080607deb65dc33b217f8b1ad421</td>\n      <td>1445</td>\n      <td>1.189485</td>\n    </tr>\n    <tr>\n      <th>119661</th>\n      <td>e08ad1ec2ddaf5c0e8ac66ac17ec238b</td>\n      <td>1445</td>\n      <td>1.182715</td>\n    </tr>\n    <tr>\n      <th>135772</th>\n      <td>fe3e97bb0103e93183222ed0fb932166</td>\n      <td>1445</td>\n      <td>1.180977</td>\n    </tr>\n  </tbody>\n</table>\n</div>"
     },
     "execution_count": 8,
     "metadata": {},
     "output_type": "execute_result"
    }
   ],
   "source": [
    "recommender.get_users_interested_in_event(1445)"
   ],
   "metadata": {
    "collapsed": false,
    "pycharm": {
     "name": "#%%\n"
    }
   }
  },
  {
   "cell_type": "code",
   "execution_count": 9,
   "outputs": [],
   "source": [
    "recommender.save_as_csv('rec_test.csv')"
   ],
   "metadata": {
    "collapsed": false,
    "pycharm": {
     "name": "#%%\n"
    }
   }
  },
  {
   "cell_type": "code",
   "execution_count": 10,
   "outputs": [],
   "source": [
    "recommender.save_as_json('rec_test.json')\n"
   ],
   "metadata": {
    "collapsed": false,
    "pycharm": {
     "name": "#%%\n"
    }
   }
  }
 ],
 "metadata": {
  "kernelspec": {
   "display_name": "Python 3",
   "language": "python",
   "name": "python3"
  },
  "language_info": {
   "codemirror_mode": {
    "name": "ipython",
    "version": 2
   },
   "file_extension": ".py",
   "mimetype": "text/x-python",
   "name": "python",
   "nbconvert_exporter": "python",
   "pygments_lexer": "ipython2",
   "version": "2.7.6"
  }
 },
 "nbformat": 4,
 "nbformat_minor": 0
}