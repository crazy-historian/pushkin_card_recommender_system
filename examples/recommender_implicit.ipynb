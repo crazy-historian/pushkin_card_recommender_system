{
 "cells": [
  {
   "cell_type": "code",
   "execution_count": 1,
   "metadata": {
    "collapsed": true
   },
   "outputs": [],
   "source": [
    "import pandas as pd"
   ]
  },
  {
   "cell_type": "code",
   "execution_count": 2,
   "outputs": [
    {
     "data": {
      "text/plain": "                                user_id  event_id  \\\n0      0001ad0041738ac671fe52a5f887742e    919008   \n1      0001ad0041738ac671fe52a5f887742e   1249161   \n2      0001ad0041738ac671fe52a5f887742e   1271526   \n3      0001ad0041738ac671fe52a5f887742e   1362230   \n4      0001ad0041738ac671fe52a5f887742e   1420786   \n...                                 ...       ...   \n35552  ffe13ffdd93b045e3b06ee834c585d26   1300654   \n35553  ffe4a90226a335c9ed184bc19163490b   1240774   \n35554  ffe4a90226a335c9ed184bc19163490b   1300354   \n35555  ffe4a90226a335c9ed184bc19163490b   1300678   \n35556  fff57c97533412e45cad515b6a0cc0f4   1282657   \n\n                                              event_name  clicks_count  \\\n0      Экспозиция «Древнерусская иконопись XIII–XVI в...             1   \n1                   Экспозиция музея Владимира Высоцкого             1   \n2                       Экспозиции Мультимедиа Арт Музея             1   \n3                       Выставка «За все тебя благодарю»             1   \n4                         Вечер музыки П. И. Чайковского             1   \n...                                                  ...           ...   \n35552         Спектакль «Дневник Анны Франк. Белая роза»             1   \n35553                          Спектакль «Анна Каренина»             1   \n35554                          Спектакль «Люди как люди»             1   \n35555                         Спектакль «Мнимый больной»             1   \n35556                             Выставка ко Дню знаний             1   \n\n       user_num  \n0             0  \n1             0  \n2             0  \n3             0  \n4             0  \n...         ...  \n35552     13655  \n35553     13656  \n35554     13656  \n35555     13656  \n35556     13657  \n\n[35557 rows x 5 columns]",
      "text/html": "<div>\n<style scoped>\n    .dataframe tbody tr th:only-of-type {\n        vertical-align: middle;\n    }\n\n    .dataframe tbody tr th {\n        vertical-align: top;\n    }\n\n    .dataframe thead th {\n        text-align: right;\n    }\n</style>\n<table border=\"1\" class=\"dataframe\">\n  <thead>\n    <tr style=\"text-align: right;\">\n      <th></th>\n      <th>user_id</th>\n      <th>event_id</th>\n      <th>event_name</th>\n      <th>clicks_count</th>\n      <th>user_num</th>\n    </tr>\n  </thead>\n  <tbody>\n    <tr>\n      <th>0</th>\n      <td>0001ad0041738ac671fe52a5f887742e</td>\n      <td>919008</td>\n      <td>Экспозиция «Древнерусская иконопись XIII–XVI в...</td>\n      <td>1</td>\n      <td>0</td>\n    </tr>\n    <tr>\n      <th>1</th>\n      <td>0001ad0041738ac671fe52a5f887742e</td>\n      <td>1249161</td>\n      <td>Экспозиция музея Владимира Высоцкого</td>\n      <td>1</td>\n      <td>0</td>\n    </tr>\n    <tr>\n      <th>2</th>\n      <td>0001ad0041738ac671fe52a5f887742e</td>\n      <td>1271526</td>\n      <td>Экспозиции Мультимедиа Арт Музея</td>\n      <td>1</td>\n      <td>0</td>\n    </tr>\n    <tr>\n      <th>3</th>\n      <td>0001ad0041738ac671fe52a5f887742e</td>\n      <td>1362230</td>\n      <td>Выставка «За все тебя благодарю»</td>\n      <td>1</td>\n      <td>0</td>\n    </tr>\n    <tr>\n      <th>4</th>\n      <td>0001ad0041738ac671fe52a5f887742e</td>\n      <td>1420786</td>\n      <td>Вечер музыки П. И. Чайковского</td>\n      <td>1</td>\n      <td>0</td>\n    </tr>\n    <tr>\n      <th>...</th>\n      <td>...</td>\n      <td>...</td>\n      <td>...</td>\n      <td>...</td>\n      <td>...</td>\n    </tr>\n    <tr>\n      <th>35552</th>\n      <td>ffe13ffdd93b045e3b06ee834c585d26</td>\n      <td>1300654</td>\n      <td>Спектакль «Дневник Анны Франк. Белая роза»</td>\n      <td>1</td>\n      <td>13655</td>\n    </tr>\n    <tr>\n      <th>35553</th>\n      <td>ffe4a90226a335c9ed184bc19163490b</td>\n      <td>1240774</td>\n      <td>Спектакль «Анна Каренина»</td>\n      <td>1</td>\n      <td>13656</td>\n    </tr>\n    <tr>\n      <th>35554</th>\n      <td>ffe4a90226a335c9ed184bc19163490b</td>\n      <td>1300354</td>\n      <td>Спектакль «Люди как люди»</td>\n      <td>1</td>\n      <td>13656</td>\n    </tr>\n    <tr>\n      <th>35555</th>\n      <td>ffe4a90226a335c9ed184bc19163490b</td>\n      <td>1300678</td>\n      <td>Спектакль «Мнимый больной»</td>\n      <td>1</td>\n      <td>13656</td>\n    </tr>\n    <tr>\n      <th>35556</th>\n      <td>fff57c97533412e45cad515b6a0cc0f4</td>\n      <td>1282657</td>\n      <td>Выставка ко Дню знаний</td>\n      <td>1</td>\n      <td>13657</td>\n    </tr>\n  </tbody>\n</table>\n<p>35557 rows × 5 columns</p>\n</div>"
     },
     "execution_count": 2,
     "metadata": {},
     "output_type": "execute_result"
    }
   ],
   "source": [
    "user_event = pd.read_csv('user_event_test.csv')\n",
    "user_event.drop(columns='Unnamed: 0', inplace=True)\n",
    "user_event"
   ],
   "metadata": {
    "collapsed": false,
    "pycharm": {
     "name": "#%%\n"
    }
   }
  },
  {
   "cell_type": "markdown",
   "source": [
    "### Класс EventRecommender"
   ],
   "metadata": {
    "collapsed": false
   }
  },
  {
   "cell_type": "code",
   "execution_count": 3,
   "outputs": [],
   "source": [
    "from recommenders.implicit_models import EventRecommender"
   ],
   "metadata": {
    "collapsed": false,
    "pycharm": {
     "name": "#%%\n"
    }
   }
  },
  {
   "cell_type": "code",
   "execution_count": 4,
   "outputs": [
    {
     "data": {
      "text/plain": "  0%|          | 0/20 [00:00<?, ?it/s]",
      "application/vnd.jupyter.widget-view+json": {
       "version_major": 2,
       "version_minor": 0,
       "model_id": "0eb26baa321c4e53a9eb252ef97f49a3"
      }
     },
     "metadata": {},
     "output_type": "display_data"
    }
   ],
   "source": [
    "recommender = EventRecommender(user_event, 'als')"
   ],
   "metadata": {
    "collapsed": false,
    "pycharm": {
     "name": "#%%\n"
    }
   }
  },
  {
   "cell_type": "code",
   "execution_count": 5,
   "outputs": [],
   "source": [
    "recommender.prepare_recommendations()"
   ],
   "metadata": {
    "collapsed": false,
    "pycharm": {
     "name": "#%%\n"
    }
   }
  },
  {
   "cell_type": "code",
   "execution_count": 6,
   "outputs": [
    {
     "data": {
      "text/plain": "                                 user_id  event_id     score\n0       0001ad0041738ac671fe52a5f887742e   1420213  0.614521\n1       0001ad0041738ac671fe52a5f887742e   1245718  0.549547\n2       0001ad0041738ac671fe52a5f887742e   1348601  0.548650\n3       0001ad0041738ac671fe52a5f887742e   1430294  0.516306\n4       0001ad0041738ac671fe52a5f887742e   1220797  0.473651\n...                                  ...       ...       ...\n136575  fff57c97533412e45cad515b6a0cc0f4   1231702  0.216218\n136576  fff57c97533412e45cad515b6a0cc0f4   1157960  0.209897\n136577  fff57c97533412e45cad515b6a0cc0f4   1290221  0.202580\n136578  fff57c97533412e45cad515b6a0cc0f4   1271602  0.201488\n136579  fff57c97533412e45cad515b6a0cc0f4   1246053  0.193902\n\n[136580 rows x 3 columns]",
      "text/html": "<div>\n<style scoped>\n    .dataframe tbody tr th:only-of-type {\n        vertical-align: middle;\n    }\n\n    .dataframe tbody tr th {\n        vertical-align: top;\n    }\n\n    .dataframe thead th {\n        text-align: right;\n    }\n</style>\n<table border=\"1\" class=\"dataframe\">\n  <thead>\n    <tr style=\"text-align: right;\">\n      <th></th>\n      <th>user_id</th>\n      <th>event_id</th>\n      <th>score</th>\n    </tr>\n  </thead>\n  <tbody>\n    <tr>\n      <th>0</th>\n      <td>0001ad0041738ac671fe52a5f887742e</td>\n      <td>1420213</td>\n      <td>0.614521</td>\n    </tr>\n    <tr>\n      <th>1</th>\n      <td>0001ad0041738ac671fe52a5f887742e</td>\n      <td>1245718</td>\n      <td>0.549547</td>\n    </tr>\n    <tr>\n      <th>2</th>\n      <td>0001ad0041738ac671fe52a5f887742e</td>\n      <td>1348601</td>\n      <td>0.548650</td>\n    </tr>\n    <tr>\n      <th>3</th>\n      <td>0001ad0041738ac671fe52a5f887742e</td>\n      <td>1430294</td>\n      <td>0.516306</td>\n    </tr>\n    <tr>\n      <th>4</th>\n      <td>0001ad0041738ac671fe52a5f887742e</td>\n      <td>1220797</td>\n      <td>0.473651</td>\n    </tr>\n    <tr>\n      <th>...</th>\n      <td>...</td>\n      <td>...</td>\n      <td>...</td>\n    </tr>\n    <tr>\n      <th>136575</th>\n      <td>fff57c97533412e45cad515b6a0cc0f4</td>\n      <td>1231702</td>\n      <td>0.216218</td>\n    </tr>\n    <tr>\n      <th>136576</th>\n      <td>fff57c97533412e45cad515b6a0cc0f4</td>\n      <td>1157960</td>\n      <td>0.209897</td>\n    </tr>\n    <tr>\n      <th>136577</th>\n      <td>fff57c97533412e45cad515b6a0cc0f4</td>\n      <td>1290221</td>\n      <td>0.202580</td>\n    </tr>\n    <tr>\n      <th>136578</th>\n      <td>fff57c97533412e45cad515b6a0cc0f4</td>\n      <td>1271602</td>\n      <td>0.201488</td>\n    </tr>\n    <tr>\n      <th>136579</th>\n      <td>fff57c97533412e45cad515b6a0cc0f4</td>\n      <td>1246053</td>\n      <td>0.193902</td>\n    </tr>\n  </tbody>\n</table>\n<p>136580 rows × 3 columns</p>\n</div>"
     },
     "execution_count": 6,
     "metadata": {},
     "output_type": "execute_result"
    }
   ],
   "source": [
    "recommender.recommendations"
   ],
   "metadata": {
    "collapsed": false,
    "pycharm": {
     "name": "#%%\n"
    }
   }
  },
  {
   "cell_type": "code",
   "execution_count": 7,
   "outputs": [
    {
     "data": {
      "text/plain": "                              user_id  event_id     score\n200  0046252d156d6e6c3d658b812457d5b6   1354417  0.122972\n201  0046252d156d6e6c3d658b812457d5b6   1304566  0.113238\n202  0046252d156d6e6c3d658b812457d5b6   1254273  0.106338\n203  0046252d156d6e6c3d658b812457d5b6   1304549  0.105598\n204  0046252d156d6e6c3d658b812457d5b6    960187  0.105027\n205  0046252d156d6e6c3d658b812457d5b6   1413977  0.101381\n206  0046252d156d6e6c3d658b812457d5b6   1270040  0.101122\n207  0046252d156d6e6c3d658b812457d5b6   1068549  0.096146\n208  0046252d156d6e6c3d658b812457d5b6   1309808  0.088886\n209  0046252d156d6e6c3d658b812457d5b6   1304560  0.088591",
      "text/html": "<div>\n<style scoped>\n    .dataframe tbody tr th:only-of-type {\n        vertical-align: middle;\n    }\n\n    .dataframe tbody tr th {\n        vertical-align: top;\n    }\n\n    .dataframe thead th {\n        text-align: right;\n    }\n</style>\n<table border=\"1\" class=\"dataframe\">\n  <thead>\n    <tr style=\"text-align: right;\">\n      <th></th>\n      <th>user_id</th>\n      <th>event_id</th>\n      <th>score</th>\n    </tr>\n  </thead>\n  <tbody>\n    <tr>\n      <th>200</th>\n      <td>0046252d156d6e6c3d658b812457d5b6</td>\n      <td>1354417</td>\n      <td>0.122972</td>\n    </tr>\n    <tr>\n      <th>201</th>\n      <td>0046252d156d6e6c3d658b812457d5b6</td>\n      <td>1304566</td>\n      <td>0.113238</td>\n    </tr>\n    <tr>\n      <th>202</th>\n      <td>0046252d156d6e6c3d658b812457d5b6</td>\n      <td>1254273</td>\n      <td>0.106338</td>\n    </tr>\n    <tr>\n      <th>203</th>\n      <td>0046252d156d6e6c3d658b812457d5b6</td>\n      <td>1304549</td>\n      <td>0.105598</td>\n    </tr>\n    <tr>\n      <th>204</th>\n      <td>0046252d156d6e6c3d658b812457d5b6</td>\n      <td>960187</td>\n      <td>0.105027</td>\n    </tr>\n    <tr>\n      <th>205</th>\n      <td>0046252d156d6e6c3d658b812457d5b6</td>\n      <td>1413977</td>\n      <td>0.101381</td>\n    </tr>\n    <tr>\n      <th>206</th>\n      <td>0046252d156d6e6c3d658b812457d5b6</td>\n      <td>1270040</td>\n      <td>0.101122</td>\n    </tr>\n    <tr>\n      <th>207</th>\n      <td>0046252d156d6e6c3d658b812457d5b6</td>\n      <td>1068549</td>\n      <td>0.096146</td>\n    </tr>\n    <tr>\n      <th>208</th>\n      <td>0046252d156d6e6c3d658b812457d5b6</td>\n      <td>1309808</td>\n      <td>0.088886</td>\n    </tr>\n    <tr>\n      <th>209</th>\n      <td>0046252d156d6e6c3d658b812457d5b6</td>\n      <td>1304560</td>\n      <td>0.088591</td>\n    </tr>\n  </tbody>\n</table>\n</div>"
     },
     "execution_count": 7,
     "metadata": {},
     "output_type": "execute_result"
    }
   ],
   "source": [
    "recommender.get_user_recommendation(user_id='0046252d156d6e6c3d658b812457d5b6')"
   ],
   "metadata": {
    "collapsed": false,
    "pycharm": {
     "name": "#%%\n"
    }
   }
  },
  {
   "cell_type": "code",
   "execution_count": 8,
   "outputs": [
    {
     "data": {
      "text/plain": "                                 user_id  event_id     score\n69953   8247e1d9e7977ca2f6e2b1838aa77654   1245107  1.146182\n54960   661df4942e8d38842dbd406145cb6a10   1245107  1.127573\n95630   b2c854ba835ab086fb1bd1bb5a269927   1245107  1.068864\n47855   59d8dd14f107e5422792cb46eb283571   1245107  1.053078\n121312  e38dc7be9991c04e6feb79a6c0f01551   1245107  1.037833\n85680   9f826cad1b9fb35a772a2b5870cbd5ed   1245107  1.017488\n6473    0c37b46eccb5284aa2a791e1c419377a   1245107  0.997635\n110580  ced4209e0565f479571ec4a9bc364fbc   1245107  0.987867\n38632   4883bb8c797436bc8e77b2a829d8685a   1245107  0.969466\n70743   838e64a3efb40f2eaac432c9c300c106   1245107  0.952048",
      "text/html": "<div>\n<style scoped>\n    .dataframe tbody tr th:only-of-type {\n        vertical-align: middle;\n    }\n\n    .dataframe tbody tr th {\n        vertical-align: top;\n    }\n\n    .dataframe thead th {\n        text-align: right;\n    }\n</style>\n<table border=\"1\" class=\"dataframe\">\n  <thead>\n    <tr style=\"text-align: right;\">\n      <th></th>\n      <th>user_id</th>\n      <th>event_id</th>\n      <th>score</th>\n    </tr>\n  </thead>\n  <tbody>\n    <tr>\n      <th>69953</th>\n      <td>8247e1d9e7977ca2f6e2b1838aa77654</td>\n      <td>1245107</td>\n      <td>1.146182</td>\n    </tr>\n    <tr>\n      <th>54960</th>\n      <td>661df4942e8d38842dbd406145cb6a10</td>\n      <td>1245107</td>\n      <td>1.127573</td>\n    </tr>\n    <tr>\n      <th>95630</th>\n      <td>b2c854ba835ab086fb1bd1bb5a269927</td>\n      <td>1245107</td>\n      <td>1.068864</td>\n    </tr>\n    <tr>\n      <th>47855</th>\n      <td>59d8dd14f107e5422792cb46eb283571</td>\n      <td>1245107</td>\n      <td>1.053078</td>\n    </tr>\n    <tr>\n      <th>121312</th>\n      <td>e38dc7be9991c04e6feb79a6c0f01551</td>\n      <td>1245107</td>\n      <td>1.037833</td>\n    </tr>\n    <tr>\n      <th>85680</th>\n      <td>9f826cad1b9fb35a772a2b5870cbd5ed</td>\n      <td>1245107</td>\n      <td>1.017488</td>\n    </tr>\n    <tr>\n      <th>6473</th>\n      <td>0c37b46eccb5284aa2a791e1c419377a</td>\n      <td>1245107</td>\n      <td>0.997635</td>\n    </tr>\n    <tr>\n      <th>110580</th>\n      <td>ced4209e0565f479571ec4a9bc364fbc</td>\n      <td>1245107</td>\n      <td>0.987867</td>\n    </tr>\n    <tr>\n      <th>38632</th>\n      <td>4883bb8c797436bc8e77b2a829d8685a</td>\n      <td>1245107</td>\n      <td>0.969466</td>\n    </tr>\n    <tr>\n      <th>70743</th>\n      <td>838e64a3efb40f2eaac432c9c300c106</td>\n      <td>1245107</td>\n      <td>0.952048</td>\n    </tr>\n  </tbody>\n</table>\n</div>"
     },
     "execution_count": 8,
     "metadata": {},
     "output_type": "execute_result"
    }
   ],
   "source": [
    "recommender.get_users_interested_in_event(1245107)"
   ],
   "metadata": {
    "collapsed": false,
    "pycharm": {
     "name": "#%%\n"
    }
   }
  },
  {
   "cell_type": "code",
   "execution_count": 9,
   "outputs": [
    {
     "data": {
      "text/plain": "True"
     },
     "execution_count": 9,
     "metadata": {},
     "output_type": "execute_result"
    }
   ],
   "source": [
    "recommender.save_as_csv('rec_test.csv')"
   ],
   "metadata": {
    "collapsed": false,
    "pycharm": {
     "name": "#%%\n"
    }
   }
  },
  {
   "cell_type": "code",
   "execution_count": null,
   "outputs": [],
   "source": [
    "recommender.save_as_json('rec_test.json')\n"
   ],
   "metadata": {
    "collapsed": false,
    "pycharm": {
     "name": "#%%\n"
    }
   }
  }
 ],
 "metadata": {
  "kernelspec": {
   "display_name": "Python 3",
   "language": "python",
   "name": "python3"
  },
  "language_info": {
   "codemirror_mode": {
    "name": "ipython",
    "version": 2
   },
   "file_extension": ".py",
   "mimetype": "text/x-python",
   "name": "python",
   "nbconvert_exporter": "python",
   "pygments_lexer": "ipython2",
   "version": "2.7.6"
  }
 },
 "nbformat": 4,
 "nbformat_minor": 0
}