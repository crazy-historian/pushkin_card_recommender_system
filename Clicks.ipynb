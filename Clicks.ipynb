{
 "cells": [
  {
   "cell_type": "code",
   "execution_count": 226,
   "metadata": {},
   "outputs": [],
   "source": [
    "import pandas as pd\n",
    "import numpy as np\n",
    "import math\n",
    "import re"
   ]
  },
  {
   "cell_type": "code",
   "execution_count": 227,
   "metadata": {},
   "outputs": [],
   "source": [
    "path = 'C:/Users/Rusla/Documents/GitHub/Пушкинская карта - стажировка/Sample/'\n",
    "path2 = 'C:/Users/Rusla/Documents/GitHub/Пушкинская карта - стажировка/Sample/events/'"
   ]
  },
  {
   "cell_type": "code",
   "execution_count": 228,
   "metadata": {},
   "outputs": [
    {
     "name": "stderr",
     "output_type": "stream",
     "text": [
      "b'Skipping line 862995: expected 6 fields, saw 7\\nSkipping line 862997: expected 6 fields, saw 7\\n'\n",
      "b'Skipping line 2142333: expected 6 fields, saw 7\\nSkipping line 2142335: expected 6 fields, saw 7\\n'\n",
      "b'Skipping line 2844195: expected 6 fields, saw 7\\n'\n",
      "b'Skipping line 3074159: expected 6 fields, saw 7\\n'\n"
     ]
    }
   ],
   "source": [
    "click = pd.read_csv(path + 'click.csv', sep=';', error_bad_lines=False)"
   ]
  },
  {
   "cell_type": "code",
   "execution_count": 229,
   "metadata": {},
   "outputs": [],
   "source": [
    "events_pushka_accepted_30122021 = pd.read_csv(path2 + 'events_pushka_accepted_30122021.csv', sep = ',', error_bad_lines=False)"
   ]
  },
  {
   "cell_type": "code",
   "execution_count": 230,
   "metadata": {},
   "outputs": [
    {
     "data": {
      "text/html": [
       "<div>\n",
       "<style scoped>\n",
       "    .dataframe tbody tr th:only-of-type {\n",
       "        vertical-align: middle;\n",
       "    }\n",
       "\n",
       "    .dataframe tbody tr th {\n",
       "        vertical-align: top;\n",
       "    }\n",
       "\n",
       "    .dataframe thead th {\n",
       "        text-align: right;\n",
       "    }\n",
       "</style>\n",
       "<table border=\"1\" class=\"dataframe\">\n",
       "  <thead>\n",
       "    <tr style=\"text-align: right;\">\n",
       "      <th></th>\n",
       "      <th>create_time</th>\n",
       "      <th>create_date</th>\n",
       "      <th>user_phone_details</th>\n",
       "      <th>buyer_mobile_phone</th>\n",
       "      <th>user_id</th>\n",
       "      <th>url</th>\n",
       "    </tr>\n",
       "  </thead>\n",
       "  <tbody>\n",
       "    <tr>\n",
       "      <th>684197</th>\n",
       "      <td>2021-11-22 11:47:58</td>\n",
       "      <td>2021-11-22</td>\n",
       "      <td>iOS, iOS 14.7.1</td>\n",
       "      <td>436ff8660cab7561340fe895bd743335</td>\n",
       "      <td>b055aab403a830d883375cd22c2057bd</td>\n",
       "      <td>https://beneffis.ru/afisha/detail/shchelkunchic/</td>\n",
       "    </tr>\n",
       "    <tr>\n",
       "      <th>1596588</th>\n",
       "      <td>2021-11-20 01:03:18</td>\n",
       "      <td>2021-11-20</td>\n",
       "      <td>iOS, iOS 14.6</td>\n",
       "      <td>97be1051d453cc35850d5601a5952d8c</td>\n",
       "      <td>98285082b998722b776d4a99dc168392</td>\n",
       "      <td>https://mrteatr.ru/afisha/#afisha_next_1month</td>\n",
       "    </tr>\n",
       "    <tr>\n",
       "      <th>1563884</th>\n",
       "      <td>2021-11-18 12:29:18</td>\n",
       "      <td>2021-11-18</td>\n",
       "      <td>Android, 11 (SDK 30)</td>\n",
       "      <td>07ab3a3f2da54db2b3004e231fa5859e</td>\n",
       "      <td>adf6eec6f4d2d22a51be140f58c25d29</td>\n",
       "      <td>https://smr.kassir.ru/frame/event/901828?key=d...</td>\n",
       "    </tr>\n",
       "  </tbody>\n",
       "</table>\n",
       "</div>"
      ],
      "text/plain": [
       "                 create_time create_date    user_phone_details  \\\n",
       "684197   2021-11-22 11:47:58  2021-11-22       iOS, iOS 14.7.1   \n",
       "1596588  2021-11-20 01:03:18  2021-11-20         iOS, iOS 14.6   \n",
       "1563884  2021-11-18 12:29:18  2021-11-18  Android, 11 (SDK 30)   \n",
       "\n",
       "                       buyer_mobile_phone                           user_id  \\\n",
       "684197   436ff8660cab7561340fe895bd743335  b055aab403a830d883375cd22c2057bd   \n",
       "1596588  97be1051d453cc35850d5601a5952d8c  98285082b998722b776d4a99dc168392   \n",
       "1563884  07ab3a3f2da54db2b3004e231fa5859e  adf6eec6f4d2d22a51be140f58c25d29   \n",
       "\n",
       "                                                       url  \n",
       "684197    https://beneffis.ru/afisha/detail/shchelkunchic/  \n",
       "1596588      https://mrteatr.ru/afisha/#afisha_next_1month  \n",
       "1563884  https://smr.kassir.ru/frame/event/901828?key=d...  "
      ]
     },
     "execution_count": 230,
     "metadata": {},
     "output_type": "execute_result"
    }
   ],
   "source": [
    "click.sample(3)"
   ]
  },
  {
   "cell_type": "code",
   "execution_count": 231,
   "metadata": {
    "scrolled": true
   },
   "outputs": [
    {
     "data": {
      "text/html": [
       "<div>\n",
       "<style scoped>\n",
       "    .dataframe tbody tr th:only-of-type {\n",
       "        vertical-align: middle;\n",
       "    }\n",
       "\n",
       "    .dataframe tbody tr th {\n",
       "        vertical-align: top;\n",
       "    }\n",
       "\n",
       "    .dataframe thead th {\n",
       "        text-align: right;\n",
       "    }\n",
       "</style>\n",
       "<table border=\"1\" class=\"dataframe\">\n",
       "  <thead>\n",
       "    <tr style=\"text-align: right;\">\n",
       "      <th></th>\n",
       "      <th>entity._id</th>\n",
       "      <th>entity.name</th>\n",
       "      <th>entity.saleLink</th>\n",
       "      <th>entity.additionalSaleLinks.0</th>\n",
       "      <th>entity.organization._id</th>\n",
       "      <th>entity.organization.name</th>\n",
       "    </tr>\n",
       "  </thead>\n",
       "  <tbody>\n",
       "    <tr>\n",
       "      <th>726</th>\n",
       "      <td>52511</td>\n",
       "      <td>Спектакль «Дядюшкин сон»</td>\n",
       "      <td>https://lk.zakaz.cloud/b/5/567</td>\n",
       "      <td>https://lk.zakaz.cloud/b/5/593</td>\n",
       "      <td>5379.0</td>\n",
       "      <td>МБУК городского округа Самара «Театр драмы «Ка...</td>\n",
       "    </tr>\n",
       "    <tr>\n",
       "      <th>42182</th>\n",
       "      <td>1437024</td>\n",
       "      <td>Концерт «Очей Толи – 70»</td>\n",
       "      <td>https://spa.profticket.ru/customer/72/shows/14...</td>\n",
       "      <td>NaN</td>\n",
       "      <td>7153.0</td>\n",
       "      <td>АУК УР «Концертное объединение «Удмуртская гос...</td>\n",
       "    </tr>\n",
       "    <tr>\n",
       "      <th>18738</th>\n",
       "      <td>1270125</td>\n",
       "      <td>Спектакль «Отцы и сыновья»</td>\n",
       "      <td>https://www.mayakovsky.ru/performance/ottsy-i-...</td>\n",
       "      <td>NaN</td>\n",
       "      <td>7507.0</td>\n",
       "      <td>ГБУК Г. Москвы «Московский академический театр...</td>\n",
       "    </tr>\n",
       "  </tbody>\n",
       "</table>\n",
       "</div>"
      ],
      "text/plain": [
       "       entity._id                 entity.name  \\\n",
       "726         52511    Спектакль «Дядюшкин сон»   \n",
       "42182     1437024    Концерт «Очей Толи – 70»   \n",
       "18738     1270125  Спектакль «Отцы и сыновья»   \n",
       "\n",
       "                                         entity.saleLink  \\\n",
       "726                       https://lk.zakaz.cloud/b/5/567   \n",
       "42182  https://spa.profticket.ru/customer/72/shows/14...   \n",
       "18738  https://www.mayakovsky.ru/performance/ottsy-i-...   \n",
       "\n",
       "         entity.additionalSaleLinks.0  entity.organization._id  \\\n",
       "726    https://lk.zakaz.cloud/b/5/593                   5379.0   \n",
       "42182                             NaN                   7153.0   \n",
       "18738                             NaN                   7507.0   \n",
       "\n",
       "                                entity.organization.name  \n",
       "726    МБУК городского округа Самара «Театр драмы «Ка...  \n",
       "42182  АУК УР «Концертное объединение «Удмуртская гос...  \n",
       "18738  ГБУК Г. Москвы «Московский академический театр...  "
      ]
     },
     "execution_count": 231,
     "metadata": {},
     "output_type": "execute_result"
    }
   ],
   "source": [
    "events_pushka_accepted_30122021.sample(3)"
   ]
  },
  {
   "cell_type": "code",
   "execution_count": 232,
   "metadata": {
    "scrolled": true
   },
   "outputs": [
    {
     "name": "stdout",
     "output_type": "stream",
     "text": [
      "<class 'pandas.core.frame.DataFrame'>\n",
      "RangeIndex: 47856 entries, 0 to 47855\n",
      "Data columns (total 6 columns):\n",
      " #   Column                        Non-Null Count  Dtype  \n",
      "---  ------                        --------------  -----  \n",
      " 0   entity._id                    47856 non-null  int64  \n",
      " 1   entity.name                   47220 non-null  object \n",
      " 2   entity.saleLink               47218 non-null  object \n",
      " 3   entity.additionalSaleLinks.0  4636 non-null   object \n",
      " 4   entity.organization._id       47220 non-null  float64\n",
      " 5   entity.organization.name      47220 non-null  object \n",
      "dtypes: float64(1), int64(1), object(4)\n",
      "memory usage: 2.2+ MB\n"
     ]
    }
   ],
   "source": [
    "events_pushka_accepted_30122021.info()"
   ]
  },
  {
   "cell_type": "code",
   "execution_count": 233,
   "metadata": {},
   "outputs": [],
   "source": [
    "events_pushka_accepted_30122021 = events_pushka_accepted_30122021[events_pushka_accepted_30122021[\n",
    "    'entity.saleLink'].notna() == True]"
   ]
  },
  {
   "cell_type": "code",
   "execution_count": 234,
   "metadata": {},
   "outputs": [
    {
     "name": "stdout",
     "output_type": "stream",
     "text": [
      "<class 'pandas.core.frame.DataFrame'>\n",
      "Int64Index: 47218 entries, 0 to 47855\n",
      "Data columns (total 6 columns):\n",
      " #   Column                        Non-Null Count  Dtype  \n",
      "---  ------                        --------------  -----  \n",
      " 0   entity._id                    47218 non-null  int64  \n",
      " 1   entity.name                   47218 non-null  object \n",
      " 2   entity.saleLink               47218 non-null  object \n",
      " 3   entity.additionalSaleLinks.0  4636 non-null   object \n",
      " 4   entity.organization._id       47218 non-null  float64\n",
      " 5   entity.organization.name      47218 non-null  object \n",
      "dtypes: float64(1), int64(1), object(4)\n",
      "memory usage: 2.5+ MB\n"
     ]
    }
   ],
   "source": [
    "events_pushka_accepted_30122021.info()"
   ]
  },
  {
   "cell_type": "code",
   "execution_count": 235,
   "metadata": {
    "scrolled": true
   },
   "outputs": [],
   "source": [
    "events_pushka_accepted_30122021['session_identity'] = events_pushka_accepted_30122021['entity.name'\n",
    "                                                                                     ].apply(lambda x:\n",
    "                                                                                            x.split()[0].strip())"
   ]
  },
  {
   "cell_type": "code",
   "execution_count": 236,
   "metadata": {},
   "outputs": [
    {
     "name": "stdout",
     "output_type": "stream",
     "text": [
      "<class 'pandas.core.frame.DataFrame'>\n",
      "Int64Index: 47218 entries, 0 to 47855\n",
      "Data columns (total 7 columns):\n",
      " #   Column                        Non-Null Count  Dtype  \n",
      "---  ------                        --------------  -----  \n",
      " 0   entity._id                    47218 non-null  int64  \n",
      " 1   entity.name                   47218 non-null  object \n",
      " 2   entity.saleLink               47218 non-null  object \n",
      " 3   entity.additionalSaleLinks.0  4636 non-null   object \n",
      " 4   entity.organization._id       47218 non-null  float64\n",
      " 5   entity.organization.name      47218 non-null  object \n",
      " 6   session_identity              47218 non-null  object \n",
      "dtypes: float64(1), int64(1), object(5)\n",
      "memory usage: 2.9+ MB\n"
     ]
    }
   ],
   "source": [
    "events_pushka_accepted_30122021.info()"
   ]
  },
  {
   "cell_type": "code",
   "execution_count": 237,
   "metadata": {},
   "outputs": [
    {
     "data": {
      "text/html": [
       "<div>\n",
       "<style scoped>\n",
       "    .dataframe tbody tr th:only-of-type {\n",
       "        vertical-align: middle;\n",
       "    }\n",
       "\n",
       "    .dataframe tbody tr th {\n",
       "        vertical-align: top;\n",
       "    }\n",
       "\n",
       "    .dataframe thead th {\n",
       "        text-align: right;\n",
       "    }\n",
       "</style>\n",
       "<table border=\"1\" class=\"dataframe\">\n",
       "  <thead>\n",
       "    <tr style=\"text-align: right;\">\n",
       "      <th></th>\n",
       "      <th>entity._id</th>\n",
       "      <th>entity.name</th>\n",
       "      <th>entity.saleLink</th>\n",
       "      <th>entity.additionalSaleLinks.0</th>\n",
       "      <th>entity.organization._id</th>\n",
       "      <th>entity.organization.name</th>\n",
       "      <th>session_identity</th>\n",
       "    </tr>\n",
       "  </thead>\n",
       "  <tbody>\n",
       "    <tr>\n",
       "      <th>25166</th>\n",
       "      <td>1296291</td>\n",
       "      <td>Экскурсия «Ночь в музее»</td>\n",
       "      <td>http://tickets-pc.ugramuseum.ru/ru/tickets/#/e...</td>\n",
       "      <td>NaN</td>\n",
       "      <td>2380.0</td>\n",
       "      <td>БУ «Музей Природы и Человека»</td>\n",
       "      <td>Экскурсия</td>\n",
       "    </tr>\n",
       "    <tr>\n",
       "      <th>28431</th>\n",
       "      <td>1316243</td>\n",
       "      <td>Спектакль «Королева Гвендолин»</td>\n",
       "      <td>https://nsk.kassy.ru/events/detskie/2-33319/</td>\n",
       "      <td>NaN</td>\n",
       "      <td>8504.0</td>\n",
       "      <td>Новосибирский городской драматический театр по...</td>\n",
       "      <td>Спектакль</td>\n",
       "    </tr>\n",
       "    <tr>\n",
       "      <th>29794</th>\n",
       "      <td>1325278</td>\n",
       "      <td>Мастер-класс «Магия слайма»</td>\n",
       "      <td>https://www.mos.ru/afisha/event/145150257/</td>\n",
       "      <td>NaN</td>\n",
       "      <td>6863.0</td>\n",
       "      <td>ГБУК г. Москвы «Культурный центр «Яковлевское»</td>\n",
       "      <td>Мастер-класс</td>\n",
       "    </tr>\n",
       "  </tbody>\n",
       "</table>\n",
       "</div>"
      ],
      "text/plain": [
       "       entity._id                     entity.name  \\\n",
       "25166     1296291        Экскурсия «Ночь в музее»   \n",
       "28431     1316243  Спектакль «Королева Гвендолин»   \n",
       "29794     1325278     Мастер-класс «Магия слайма»   \n",
       "\n",
       "                                         entity.saleLink  \\\n",
       "25166  http://tickets-pc.ugramuseum.ru/ru/tickets/#/e...   \n",
       "28431       https://nsk.kassy.ru/events/detskie/2-33319/   \n",
       "29794         https://www.mos.ru/afisha/event/145150257/   \n",
       "\n",
       "      entity.additionalSaleLinks.0  entity.organization._id  \\\n",
       "25166                          NaN                   2380.0   \n",
       "28431                          NaN                   8504.0   \n",
       "29794                          NaN                   6863.0   \n",
       "\n",
       "                                entity.organization.name session_identity  \n",
       "25166                      БУ «Музей Природы и Человека»        Экскурсия  \n",
       "28431  Новосибирский городской драматический театр по...        Спектакль  \n",
       "29794     ГБУК г. Москвы «Культурный центр «Яковлевское»     Мастер-класс  "
      ]
     },
     "execution_count": 237,
     "metadata": {},
     "output_type": "execute_result"
    }
   ],
   "source": [
    "events_pushka_accepted_30122021.sample(3)"
   ]
  },
  {
   "cell_type": "code",
   "execution_count": 238,
   "metadata": {},
   "outputs": [
    {
     "data": {
      "text/plain": [
       "Молодежная         15\n",
       "Интерактивные      15\n",
       "Новогоднее         15\n",
       "Викторина          14\n",
       "Пешая              14\n",
       "                   ..\n",
       "XVII                1\n",
       "Юбилейное           1\n",
       "Арт-кафе            1\n",
       "Культурная          1\n",
       "Оперетта-мюзикл     1\n",
       "Name: session_identity, Length: 717, dtype: int64"
      ]
     },
     "execution_count": 238,
     "metadata": {},
     "output_type": "execute_result"
    }
   ],
   "source": [
    "events_pushka_accepted_30122021['session_identity'].value_counts()[100:]"
   ]
  },
  {
   "cell_type": "code",
   "execution_count": 239,
   "metadata": {},
   "outputs": [],
   "source": [
    "events_links = events_pushka_accepted_30122021['entity.saleLink'].unique()"
   ]
  },
  {
   "cell_type": "code",
   "execution_count": 240,
   "metadata": {},
   "outputs": [],
   "source": [
    "click_links = click['url'].unique()"
   ]
  },
  {
   "cell_type": "code",
   "execution_count": 241,
   "metadata": {},
   "outputs": [],
   "source": [
    "equal_links = []\n",
    "\n",
    "for i in click_links:\n",
    "    for j in events_links:\n",
    "        if i == j:\n",
    "            equal_links.append(i)"
   ]
  },
  {
   "cell_type": "code",
   "execution_count": 242,
   "metadata": {},
   "outputs": [
    {
     "data": {
      "text/plain": [
       "19572"
      ]
     },
     "execution_count": 242,
     "metadata": {},
     "output_type": "execute_result"
    }
   ],
   "source": [
    "len(equal_links)"
   ]
  },
  {
   "cell_type": "code",
   "execution_count": 243,
   "metadata": {},
   "outputs": [
    {
     "data": {
      "text/plain": [
       "19924"
      ]
     },
     "execution_count": 243,
     "metadata": {},
     "output_type": "execute_result"
    }
   ],
   "source": [
    "click['url'].nunique()"
   ]
  },
  {
   "cell_type": "code",
   "execution_count": 244,
   "metadata": {},
   "outputs": [],
   "source": [
    "events_pushka_accepted_30122021 = events_pushka_accepted_30122021.rename(columns= {'entity.saleLink': 'url',\n",
    "                                                                                  'entity._id': 'session_id',\n",
    "                                                                                  'entity.name': 'session_name',\n",
    "                                                                                  'entity.additionalSaleLinks.0': 'additional_url',\n",
    "                                                                                  'entity.organization._id': 'organization_id',\n",
    "                                                                                  'entity.organization.name': 'organization_name'}) "
   ]
  },
  {
   "cell_type": "code",
   "execution_count": 245,
   "metadata": {},
   "outputs": [],
   "source": [
    "events_pushka_accepted_30122021 = events_pushka_accepted_30122021.astype({\"organization_id\": \"object\",\n",
    "                                                                         'session_id': 'object'})"
   ]
  },
  {
   "cell_type": "code",
   "execution_count": 246,
   "metadata": {},
   "outputs": [],
   "source": [
    "cliks_add = pd.merge(click, events_pushka_accepted_30122021, how = 'left', on = 'url')"
   ]
  },
  {
   "cell_type": "code",
   "execution_count": 247,
   "metadata": {},
   "outputs": [
    {
     "name": "stdout",
     "output_type": "stream",
     "text": [
      "<class 'pandas.core.frame.DataFrame'>\n",
      "Int64Index: 5747390 entries, 0 to 5747389\n",
      "Data columns (total 12 columns):\n",
      " #   Column              Dtype \n",
      "---  ------              ----- \n",
      " 0   create_time         object\n",
      " 1   create_date         object\n",
      " 2   user_phone_details  object\n",
      " 3   buyer_mobile_phone  object\n",
      " 4   user_id             object\n",
      " 5   url                 object\n",
      " 6   session_id          object\n",
      " 7   session_name        object\n",
      " 8   additional_url      object\n",
      " 9   organization_id     object\n",
      " 10  organization_name   object\n",
      " 11  session_identity    object\n",
      "dtypes: object(12)\n",
      "memory usage: 570.0+ MB\n"
     ]
    }
   ],
   "source": [
    "cliks_add.info()"
   ]
  },
  {
   "cell_type": "code",
   "execution_count": 248,
   "metadata": {},
   "outputs": [],
   "source": [
    "#cliks_add.to_csv(path + 'cliks_add.csv', sep=';', index=False)"
   ]
  },
  {
   "cell_type": "code",
   "execution_count": 249,
   "metadata": {},
   "outputs": [],
   "source": [
    "organizations = pd.read_csv(path2 + 'organizations.csv', sep = ';', error_bad_lines=False)"
   ]
  },
  {
   "cell_type": "code",
   "execution_count": 250,
   "metadata": {},
   "outputs": [],
   "source": [
    "organizations = organizations[organizations['ИНН'].notna()]"
   ]
  },
  {
   "cell_type": "code",
   "execution_count": 251,
   "metadata": {},
   "outputs": [],
   "source": [
    "organizations['Org_region_number'] = organizations['ИНН'].apply(lambda x:\n",
    "                                                               int(str(x)[:2]) \n",
    "                                                                if len(str(x)) == 12\n",
    "                                                               else int(str(x)[:1]))"
   ]
  },
  {
   "cell_type": "code",
   "execution_count": 252,
   "metadata": {},
   "outputs": [
    {
     "name": "stdout",
     "output_type": "stream",
     "text": [
      "<class 'pandas.core.frame.DataFrame'>\n",
      "Int64Index: 3260 entries, 0 to 3269\n",
      "Data columns (total 6 columns):\n",
      " #   Column             Non-Null Count  Dtype  \n",
      "---  ------             --------------  -----  \n",
      " 0   ID                 3260 non-null   int64  \n",
      " 1   Учреждение         3260 non-null   object \n",
      " 2   Адрес              3260 non-null   object \n",
      " 3   ИНН                3260 non-null   float64\n",
      " 4   Категория          3222 non-null   object \n",
      " 5   Org_region_number  3260 non-null   int64  \n",
      "dtypes: float64(1), int64(2), object(3)\n",
      "memory usage: 178.3+ KB\n"
     ]
    }
   ],
   "source": [
    "organizations.info()"
   ]
  },
  {
   "cell_type": "code",
   "execution_count": 253,
   "metadata": {},
   "outputs": [],
   "source": [
    "organizations = organizations.rename(\n",
    "    columns= {'ID': 'organization_id','Категория': 'org_category'}) "
   ]
  },
  {
   "cell_type": "code",
   "execution_count": 254,
   "metadata": {},
   "outputs": [],
   "source": [
    "cliks_add = pd.merge(cliks_add, organizations[['organization_id', 'Org_region_number', 'org_category']],\n",
    "                     how = 'left', on = 'organization_id')"
   ]
  },
  {
   "cell_type": "code",
   "execution_count": 255,
   "metadata": {},
   "outputs": [
    {
     "name": "stdout",
     "output_type": "stream",
     "text": [
      "<class 'pandas.core.frame.DataFrame'>\n",
      "Int64Index: 5747390 entries, 0 to 5747389\n",
      "Data columns (total 14 columns):\n",
      " #   Column              Dtype  \n",
      "---  ------              -----  \n",
      " 0   create_time         object \n",
      " 1   create_date         object \n",
      " 2   user_phone_details  object \n",
      " 3   buyer_mobile_phone  object \n",
      " 4   user_id             object \n",
      " 5   url                 object \n",
      " 6   session_id          object \n",
      " 7   session_name        object \n",
      " 8   additional_url      object \n",
      " 9   organization_id     object \n",
      " 10  organization_name   object \n",
      " 11  session_identity    object \n",
      " 12  Org_region_number   float64\n",
      " 13  org_category        object \n",
      "dtypes: float64(1), object(13)\n",
      "memory usage: 657.7+ MB\n"
     ]
    }
   ],
   "source": [
    "cliks_add.info()"
   ]
  },
  {
   "cell_type": "code",
   "execution_count": 256,
   "metadata": {},
   "outputs": [
    {
     "data": {
      "text/html": [
       "<div>\n",
       "<style scoped>\n",
       "    .dataframe tbody tr th:only-of-type {\n",
       "        vertical-align: middle;\n",
       "    }\n",
       "\n",
       "    .dataframe tbody tr th {\n",
       "        vertical-align: top;\n",
       "    }\n",
       "\n",
       "    .dataframe thead th {\n",
       "        text-align: right;\n",
       "    }\n",
       "</style>\n",
       "<table border=\"1\" class=\"dataframe\">\n",
       "  <thead>\n",
       "    <tr style=\"text-align: right;\">\n",
       "      <th></th>\n",
       "      <th>create_time</th>\n",
       "      <th>create_date</th>\n",
       "      <th>user_phone_details</th>\n",
       "      <th>buyer_mobile_phone</th>\n",
       "      <th>user_id</th>\n",
       "      <th>url</th>\n",
       "      <th>session_id</th>\n",
       "      <th>session_name</th>\n",
       "      <th>additional_url</th>\n",
       "      <th>organization_id</th>\n",
       "      <th>organization_name</th>\n",
       "      <th>session_identity</th>\n",
       "      <th>Org_region_number</th>\n",
       "      <th>org_category</th>\n",
       "    </tr>\n",
       "  </thead>\n",
       "  <tbody>\n",
       "    <tr>\n",
       "      <th>2986966</th>\n",
       "      <td>2021-11-23 22:17:23</td>\n",
       "      <td>2021-11-23</td>\n",
       "      <td>iOS, iOS 15.1</td>\n",
       "      <td>7cdaabb276621f9322dcd755cd43766e</td>\n",
       "      <td>03c0d7106825765147249788ea4ca9a7</td>\n",
       "      <td>https://bdt.spb.ru/спектакли/крещенные-крестами/</td>\n",
       "      <td>1386582</td>\n",
       "      <td>Спектакль «Крещенные крестами»</td>\n",
       "      <td>NaN</td>\n",
       "      <td>4934</td>\n",
       "      <td>ФГБУК «Российский государственный академически...</td>\n",
       "      <td>Спектакль</td>\n",
       "      <td>78.0</td>\n",
       "      <td>Театры</td>\n",
       "    </tr>\n",
       "    <tr>\n",
       "      <th>4315887</th>\n",
       "      <td>2021-11-19 07:25:58</td>\n",
       "      <td>2021-11-19</td>\n",
       "      <td>iOS, iOS 14.8.1</td>\n",
       "      <td>fe6076a34023f57de0a95c3c8f7e2694</td>\n",
       "      <td>854e9dd8b89a93b3c393e3d94e6a7d9e</td>\n",
       "      <td>http://teatrunikitskihvorot.ru/tickets/</td>\n",
       "      <td>39934</td>\n",
       "      <td>Спектакль «Доктор Чехов»</td>\n",
       "      <td>NaN</td>\n",
       "      <td>6775</td>\n",
       "      <td>ГБУК г. Москвы «Московский театр «У Никитских ...</td>\n",
       "      <td>Спектакль</td>\n",
       "      <td>77.0</td>\n",
       "      <td>Театры</td>\n",
       "    </tr>\n",
       "    <tr>\n",
       "      <th>2056520</th>\n",
       "      <td>2021-11-12 11:10:18</td>\n",
       "      <td>2021-11-12</td>\n",
       "      <td>Android, 10 (SDK 29)</td>\n",
       "      <td>42da8920f458120504bf7fd4f4b0cdbb</td>\n",
       "      <td>217229b9ddd183e5ab8372c2714c0bdc</td>\n",
       "      <td>http://globus-nsk.ru/spektakli/mamochki/</td>\n",
       "      <td>1294624</td>\n",
       "      <td>Спектакль «Мамочки»</td>\n",
       "      <td>NaN</td>\n",
       "      <td>8507</td>\n",
       "      <td>ГАУК «Новосибирский академический молодежный т...</td>\n",
       "      <td>Спектакль</td>\n",
       "      <td>54.0</td>\n",
       "      <td>NaN</td>\n",
       "    </tr>\n",
       "  </tbody>\n",
       "</table>\n",
       "</div>"
      ],
      "text/plain": [
       "                 create_time create_date    user_phone_details  \\\n",
       "2986966  2021-11-23 22:17:23  2021-11-23         iOS, iOS 15.1   \n",
       "4315887  2021-11-19 07:25:58  2021-11-19       iOS, iOS 14.8.1   \n",
       "2056520  2021-11-12 11:10:18  2021-11-12  Android, 10 (SDK 29)   \n",
       "\n",
       "                       buyer_mobile_phone                           user_id  \\\n",
       "2986966  7cdaabb276621f9322dcd755cd43766e  03c0d7106825765147249788ea4ca9a7   \n",
       "4315887  fe6076a34023f57de0a95c3c8f7e2694  854e9dd8b89a93b3c393e3d94e6a7d9e   \n",
       "2056520  42da8920f458120504bf7fd4f4b0cdbb  217229b9ddd183e5ab8372c2714c0bdc   \n",
       "\n",
       "                                                      url session_id  \\\n",
       "2986966  https://bdt.spb.ru/спектакли/крещенные-крестами/    1386582   \n",
       "4315887           http://teatrunikitskihvorot.ru/tickets/      39934   \n",
       "2056520          http://globus-nsk.ru/spektakli/mamochki/    1294624   \n",
       "\n",
       "                           session_name additional_url organization_id  \\\n",
       "2986966  Спектакль «Крещенные крестами»            NaN            4934   \n",
       "4315887        Спектакль «Доктор Чехов»            NaN            6775   \n",
       "2056520             Спектакль «Мамочки»            NaN            8507   \n",
       "\n",
       "                                         organization_name session_identity  \\\n",
       "2986966  ФГБУК «Российский государственный академически...        Спектакль   \n",
       "4315887  ГБУК г. Москвы «Московский театр «У Никитских ...        Спектакль   \n",
       "2056520  ГАУК «Новосибирский академический молодежный т...        Спектакль   \n",
       "\n",
       "         Org_region_number org_category  \n",
       "2986966               78.0       Театры  \n",
       "4315887               77.0       Театры  \n",
       "2056520               54.0          NaN  "
      ]
     },
     "execution_count": 256,
     "metadata": {},
     "output_type": "execute_result"
    }
   ],
   "source": [
    "cliks_add.sample(3)"
   ]
  },
  {
   "cell_type": "code",
   "execution_count": 257,
   "metadata": {},
   "outputs": [],
   "source": [
    "#cliks_add.to_csv(path + 'cliks_add.csv', sep=';', index=False)"
   ]
  },
  {
   "cell_type": "code",
   "execution_count": 258,
   "metadata": {},
   "outputs": [],
   "source": [
    "users = pd.read_csv(path + 'users_full.csv', sep=';', error_bad_lines=False)"
   ]
  },
  {
   "cell_type": "code",
   "execution_count": 259,
   "metadata": {},
   "outputs": [
    {
     "name": "stdout",
     "output_type": "stream",
     "text": [
      "<class 'pandas.core.frame.DataFrame'>\n",
      "RangeIndex: 2879681 entries, 0 to 2879680\n",
      "Data columns (total 9 columns):\n",
      " #   Column              Dtype  \n",
      "---  ------              -----  \n",
      " 0   create_date         int64  \n",
      " 1   user_id             object \n",
      " 2   user_birth          object \n",
      " 3   create_date.1       object \n",
      " 4   user_phone_details  object \n",
      " 5   buyer_mobile_phone  object \n",
      " 6   region              object \n",
      " 7   age                 int64  \n",
      " 8   user_region         float64\n",
      "dtypes: float64(1), int64(2), object(6)\n",
      "memory usage: 197.7+ MB\n"
     ]
    }
   ],
   "source": [
    "users.info()"
   ]
  },
  {
   "cell_type": "code",
   "execution_count": 260,
   "metadata": {},
   "outputs": [],
   "source": [
    "cliks_add = pd.merge(cliks_add, users[['user_id', 'age', 'user_region']],\n",
    "                     how = 'left', on = 'user_id')"
   ]
  },
  {
   "cell_type": "code",
   "execution_count": 261,
   "metadata": {},
   "outputs": [
    {
     "name": "stdout",
     "output_type": "stream",
     "text": [
      "<class 'pandas.core.frame.DataFrame'>\n",
      "Int64Index: 5747390 entries, 0 to 5747389\n",
      "Data columns (total 16 columns):\n",
      " #   Column              Dtype  \n",
      "---  ------              -----  \n",
      " 0   create_time         object \n",
      " 1   create_date         object \n",
      " 2   user_phone_details  object \n",
      " 3   buyer_mobile_phone  object \n",
      " 4   user_id             object \n",
      " 5   url                 object \n",
      " 6   session_id          object \n",
      " 7   session_name        object \n",
      " 8   additional_url      object \n",
      " 9   organization_id     object \n",
      " 10  organization_name   object \n",
      " 11  session_identity    object \n",
      " 12  Org_region_number   float64\n",
      " 13  org_category        object \n",
      " 14  age                 float64\n",
      " 15  user_region         float64\n",
      "dtypes: float64(3), object(13)\n",
      "memory usage: 745.4+ MB\n"
     ]
    }
   ],
   "source": [
    "cliks_add.info()"
   ]
  },
  {
   "cell_type": "code",
   "execution_count": 262,
   "metadata": {},
   "outputs": [],
   "source": [
    "#cliks_add.to_csv(path + 'cliks_add.csv', sep=';', index=False)"
   ]
  },
  {
   "cell_type": "code",
   "execution_count": 263,
   "metadata": {
    "scrolled": false
   },
   "outputs": [
    {
     "data": {
      "text/html": [
       "<div>\n",
       "<style scoped>\n",
       "    .dataframe tbody tr th:only-of-type {\n",
       "        vertical-align: middle;\n",
       "    }\n",
       "\n",
       "    .dataframe tbody tr th {\n",
       "        vertical-align: top;\n",
       "    }\n",
       "\n",
       "    .dataframe thead th {\n",
       "        text-align: right;\n",
       "    }\n",
       "</style>\n",
       "<table border=\"1\" class=\"dataframe\">\n",
       "  <thead>\n",
       "    <tr style=\"text-align: right;\">\n",
       "      <th></th>\n",
       "      <th>create_time</th>\n",
       "      <th>create_date</th>\n",
       "      <th>user_phone_details</th>\n",
       "      <th>buyer_mobile_phone</th>\n",
       "      <th>user_id</th>\n",
       "      <th>url</th>\n",
       "      <th>session_id</th>\n",
       "      <th>session_name</th>\n",
       "      <th>additional_url</th>\n",
       "      <th>organization_id</th>\n",
       "      <th>organization_name</th>\n",
       "      <th>session_identity</th>\n",
       "      <th>Org_region_number</th>\n",
       "      <th>org_category</th>\n",
       "      <th>age</th>\n",
       "      <th>user_region</th>\n",
       "    </tr>\n",
       "  </thead>\n",
       "  <tbody>\n",
       "    <tr>\n",
       "      <th>3201182</th>\n",
       "      <td>2021-11-27 17:44:16</td>\n",
       "      <td>2021-11-27</td>\n",
       "      <td>iOS, iOS 15.0.2</td>\n",
       "      <td>0007766197a3930c830bab3cfdbd8874</td>\n",
       "      <td>82d698a966f971cc97d177c7bf8b78c9</td>\n",
       "      <td>http://teatr15.ru/repertoire/#event/991326</td>\n",
       "      <td>1387940</td>\n",
       "      <td>Спектакль «За двумя зайцами»</td>\n",
       "      <td>NaN</td>\n",
       "      <td>8678</td>\n",
       "      <td>ГБУК «Академический русский театр имени Е. Вах...</td>\n",
       "      <td>Спектакль</td>\n",
       "      <td>15.0</td>\n",
       "      <td>Театры</td>\n",
       "      <td>21.0</td>\n",
       "      <td>15.0</td>\n",
       "    </tr>\n",
       "    <tr>\n",
       "      <th>2169302</th>\n",
       "      <td>2021-11-17 19:05:37</td>\n",
       "      <td>2021-11-17</td>\n",
       "      <td>iOS, iOS 14.7.1</td>\n",
       "      <td>f85a232e7785af5ef9b8b3aaef9c8c08</td>\n",
       "      <td>f740f81bc46ec5493b383409a985192a</td>\n",
       "      <td>https://ticket.bolshoi.ru/login</td>\n",
       "      <td>1477662</td>\n",
       "      <td>Опера «История Кая и Герды»</td>\n",
       "      <td>NaN</td>\n",
       "      <td>5472</td>\n",
       "      <td>ФГБУК «Государственный академический Большой т...</td>\n",
       "      <td>Опера</td>\n",
       "      <td>77.0</td>\n",
       "      <td>Театры</td>\n",
       "      <td>20.0</td>\n",
       "      <td>NaN</td>\n",
       "    </tr>\n",
       "    <tr>\n",
       "      <th>1274571</th>\n",
       "      <td>2021-11-16 15:33:52</td>\n",
       "      <td>2021-11-16</td>\n",
       "      <td>iOS, iOS 14.8.1</td>\n",
       "      <td>99233f1e3ea5928b6664901abbabfc7c</td>\n",
       "      <td>960556f20fa1bf8de674f7beea0dd0e4</td>\n",
       "      <td>https://penza.kassy.ru/events/koncerty-i-shou/...</td>\n",
       "      <td>1367675</td>\n",
       "      <td>Шоу «Братья Сафроновы»</td>\n",
       "      <td>https://pnz.kassir.ru/koncert/bratya-safronovy...</td>\n",
       "      <td>5614</td>\n",
       "      <td>ГАУК ПО «Пензаконцерт»</td>\n",
       "      <td>Шоу</td>\n",
       "      <td>58.0</td>\n",
       "      <td>Концертные площадки</td>\n",
       "      <td>22.0</td>\n",
       "      <td>58.0</td>\n",
       "    </tr>\n",
       "  </tbody>\n",
       "</table>\n",
       "</div>"
      ],
      "text/plain": [
       "                 create_time create_date user_phone_details  \\\n",
       "3201182  2021-11-27 17:44:16  2021-11-27    iOS, iOS 15.0.2   \n",
       "2169302  2021-11-17 19:05:37  2021-11-17    iOS, iOS 14.7.1   \n",
       "1274571  2021-11-16 15:33:52  2021-11-16    iOS, iOS 14.8.1   \n",
       "\n",
       "                       buyer_mobile_phone                           user_id  \\\n",
       "3201182  0007766197a3930c830bab3cfdbd8874  82d698a966f971cc97d177c7bf8b78c9   \n",
       "2169302  f85a232e7785af5ef9b8b3aaef9c8c08  f740f81bc46ec5493b383409a985192a   \n",
       "1274571  99233f1e3ea5928b6664901abbabfc7c  960556f20fa1bf8de674f7beea0dd0e4   \n",
       "\n",
       "                                                       url session_id  \\\n",
       "3201182         http://teatr15.ru/repertoire/#event/991326    1387940   \n",
       "2169302                    https://ticket.bolshoi.ru/login    1477662   \n",
       "1274571  https://penza.kassy.ru/events/koncerty-i-shou/...    1367675   \n",
       "\n",
       "                         session_name  \\\n",
       "3201182  Спектакль «За двумя зайцами»   \n",
       "2169302   Опера «История Кая и Герды»   \n",
       "1274571        Шоу «Братья Сафроновы»   \n",
       "\n",
       "                                            additional_url organization_id  \\\n",
       "3201182                                                NaN            8678   \n",
       "2169302                                                NaN            5472   \n",
       "1274571  https://pnz.kassir.ru/koncert/bratya-safronovy...            5614   \n",
       "\n",
       "                                         organization_name session_identity  \\\n",
       "3201182  ГБУК «Академический русский театр имени Е. Вах...        Спектакль   \n",
       "2169302  ФГБУК «Государственный академический Большой т...            Опера   \n",
       "1274571                             ГАУК ПО «Пензаконцерт»              Шоу   \n",
       "\n",
       "         Org_region_number         org_category   age  user_region  \n",
       "3201182               15.0               Театры  21.0         15.0  \n",
       "2169302               77.0               Театры  20.0          NaN  \n",
       "1274571               58.0  Концертные площадки  22.0         58.0  "
      ]
     },
     "execution_count": 263,
     "metadata": {},
     "output_type": "execute_result"
    }
   ],
   "source": [
    "cliks_add.sample(3)"
   ]
  },
  {
   "cell_type": "code",
   "execution_count": 264,
   "metadata": {},
   "outputs": [
    {
     "data": {
      "text/html": [
       "<div>\n",
       "<style scoped>\n",
       "    .dataframe tbody tr th:only-of-type {\n",
       "        vertical-align: middle;\n",
       "    }\n",
       "\n",
       "    .dataframe tbody tr th {\n",
       "        vertical-align: top;\n",
       "    }\n",
       "\n",
       "    .dataframe thead th {\n",
       "        text-align: right;\n",
       "    }\n",
       "</style>\n",
       "<table border=\"1\" class=\"dataframe\">\n",
       "  <thead>\n",
       "    <tr style=\"text-align: right;\">\n",
       "      <th></th>\n",
       "      <th>create_time</th>\n",
       "      <th>create_date</th>\n",
       "      <th>user_phone_details</th>\n",
       "      <th>buyer_mobile_phone</th>\n",
       "      <th>user_id</th>\n",
       "      <th>url</th>\n",
       "      <th>session_id</th>\n",
       "      <th>session_name</th>\n",
       "      <th>additional_url</th>\n",
       "      <th>organization_id</th>\n",
       "      <th>organization_name</th>\n",
       "      <th>session_identity</th>\n",
       "      <th>Org_region_number</th>\n",
       "      <th>org_category</th>\n",
       "      <th>age</th>\n",
       "      <th>user_region</th>\n",
       "    </tr>\n",
       "  </thead>\n",
       "  <tbody>\n",
       "    <tr>\n",
       "      <th>0</th>\n",
       "      <td>create_time</td>\n",
       "      <td>create_date</td>\n",
       "      <td>user_phone_details</td>\n",
       "      <td>buyer_mobile_phone</td>\n",
       "      <td>user_id</td>\n",
       "      <td>url</td>\n",
       "      <td>NaN</td>\n",
       "      <td>NaN</td>\n",
       "      <td>NaN</td>\n",
       "      <td>NaN</td>\n",
       "      <td>NaN</td>\n",
       "      <td>NaN</td>\n",
       "      <td>NaN</td>\n",
       "      <td>NaN</td>\n",
       "      <td>NaN</td>\n",
       "      <td>NaN</td>\n",
       "    </tr>\n",
       "    <tr>\n",
       "      <th>1</th>\n",
       "      <td>2021-11-28 21:32:53</td>\n",
       "      <td>2021-11-28</td>\n",
       "      <td>Android, 10 (SDK 29)</td>\n",
       "      <td>ce730a5e7bb6372aad126e934320b75c</td>\n",
       "      <td>08014dcd786881f349938c9255e9df36</td>\n",
       "      <td>https://theatreofnations.ru/performances/shved...</td>\n",
       "      <td>717865</td>\n",
       "      <td>Спектакль «Шведская спичка»</td>\n",
       "      <td>NaN</td>\n",
       "      <td>7577</td>\n",
       "      <td>ФГБУК «Государственный театр наций»</td>\n",
       "      <td>Спектакль</td>\n",
       "      <td>77.0</td>\n",
       "      <td>Театры</td>\n",
       "      <td>21.0</td>\n",
       "      <td>21.0</td>\n",
       "    </tr>\n",
       "    <tr>\n",
       "      <th>2</th>\n",
       "      <td>2021-11-28 21:32:53</td>\n",
       "      <td>2021-11-28</td>\n",
       "      <td>Android, 10 (SDK 29)</td>\n",
       "      <td>ce730a5e7bb6372aad126e934320b75c</td>\n",
       "      <td>08014dcd786881f349938c9255e9df36</td>\n",
       "      <td>https://theatreofnations.ru/performances/shved...</td>\n",
       "      <td>717865</td>\n",
       "      <td>Спектакль «Шведская спичка»</td>\n",
       "      <td>NaN</td>\n",
       "      <td>7577</td>\n",
       "      <td>ФГБУК «Государственный театр наций»</td>\n",
       "      <td>Спектакль</td>\n",
       "      <td>77.0</td>\n",
       "      <td>Театры</td>\n",
       "      <td>21.0</td>\n",
       "      <td>21.0</td>\n",
       "    </tr>\n",
       "    <tr>\n",
       "      <th>3</th>\n",
       "      <td>2021-11-28 21:41:52</td>\n",
       "      <td>2021-11-28</td>\n",
       "      <td>Android, 10 (SDK 29)</td>\n",
       "      <td>ce730a5e7bb6372aad126e934320b75c</td>\n",
       "      <td>08014dcd786881f349938c9255e9df36</td>\n",
       "      <td>https://theatreofnations.ru/performances/shved...</td>\n",
       "      <td>717865</td>\n",
       "      <td>Спектакль «Шведская спичка»</td>\n",
       "      <td>NaN</td>\n",
       "      <td>7577</td>\n",
       "      <td>ФГБУК «Государственный театр наций»</td>\n",
       "      <td>Спектакль</td>\n",
       "      <td>77.0</td>\n",
       "      <td>Театры</td>\n",
       "      <td>21.0</td>\n",
       "      <td>21.0</td>\n",
       "    </tr>\n",
       "    <tr>\n",
       "      <th>4</th>\n",
       "      <td>2021-11-28 21:41:52</td>\n",
       "      <td>2021-11-28</td>\n",
       "      <td>Android, 10 (SDK 29)</td>\n",
       "      <td>ce730a5e7bb6372aad126e934320b75c</td>\n",
       "      <td>08014dcd786881f349938c9255e9df36</td>\n",
       "      <td>https://theatreofnations.ru/performances/shved...</td>\n",
       "      <td>717865</td>\n",
       "      <td>Спектакль «Шведская спичка»</td>\n",
       "      <td>NaN</td>\n",
       "      <td>7577</td>\n",
       "      <td>ФГБУК «Государственный театр наций»</td>\n",
       "      <td>Спектакль</td>\n",
       "      <td>77.0</td>\n",
       "      <td>Театры</td>\n",
       "      <td>21.0</td>\n",
       "      <td>21.0</td>\n",
       "    </tr>\n",
       "  </tbody>\n",
       "</table>\n",
       "</div>"
      ],
      "text/plain": [
       "           create_time  create_date    user_phone_details  \\\n",
       "0          create_time  create_date    user_phone_details   \n",
       "1  2021-11-28 21:32:53   2021-11-28  Android, 10 (SDK 29)   \n",
       "2  2021-11-28 21:32:53   2021-11-28  Android, 10 (SDK 29)   \n",
       "3  2021-11-28 21:41:52   2021-11-28  Android, 10 (SDK 29)   \n",
       "4  2021-11-28 21:41:52   2021-11-28  Android, 10 (SDK 29)   \n",
       "\n",
       "                 buyer_mobile_phone                           user_id  \\\n",
       "0                buyer_mobile_phone                           user_id   \n",
       "1  ce730a5e7bb6372aad126e934320b75c  08014dcd786881f349938c9255e9df36   \n",
       "2  ce730a5e7bb6372aad126e934320b75c  08014dcd786881f349938c9255e9df36   \n",
       "3  ce730a5e7bb6372aad126e934320b75c  08014dcd786881f349938c9255e9df36   \n",
       "4  ce730a5e7bb6372aad126e934320b75c  08014dcd786881f349938c9255e9df36   \n",
       "\n",
       "                                                 url session_id  \\\n",
       "0                                                url        NaN   \n",
       "1  https://theatreofnations.ru/performances/shved...     717865   \n",
       "2  https://theatreofnations.ru/performances/shved...     717865   \n",
       "3  https://theatreofnations.ru/performances/shved...     717865   \n",
       "4  https://theatreofnations.ru/performances/shved...     717865   \n",
       "\n",
       "                  session_name additional_url organization_id  \\\n",
       "0                          NaN            NaN             NaN   \n",
       "1  Спектакль «Шведская спичка»            NaN            7577   \n",
       "2  Спектакль «Шведская спичка»            NaN            7577   \n",
       "3  Спектакль «Шведская спичка»            NaN            7577   \n",
       "4  Спектакль «Шведская спичка»            NaN            7577   \n",
       "\n",
       "                     organization_name session_identity  Org_region_number  \\\n",
       "0                                  NaN              NaN                NaN   \n",
       "1  ФГБУК «Государственный театр наций»        Спектакль               77.0   \n",
       "2  ФГБУК «Государственный театр наций»        Спектакль               77.0   \n",
       "3  ФГБУК «Государственный театр наций»        Спектакль               77.0   \n",
       "4  ФГБУК «Государственный театр наций»        Спектакль               77.0   \n",
       "\n",
       "  org_category   age  user_region  \n",
       "0          NaN   NaN          NaN  \n",
       "1       Театры  21.0         21.0  \n",
       "2       Театры  21.0         21.0  \n",
       "3       Театры  21.0         21.0  \n",
       "4       Театры  21.0         21.0  "
      ]
     },
     "execution_count": 264,
     "metadata": {},
     "output_type": "execute_result"
    }
   ],
   "source": [
    "cliks_add.head()"
   ]
  },
  {
   "cell_type": "code",
   "execution_count": 265,
   "metadata": {},
   "outputs": [],
   "source": [
    "cliks_add.drop(['additional_url'],axis = 1, inplace = True)"
   ]
  },
  {
   "cell_type": "code",
   "execution_count": 266,
   "metadata": {},
   "outputs": [],
   "source": [
    "cliks_add['user_phone_details_id'] = cliks_add['user_phone_details'].apply(lambda x: \n",
    "                                                                          re.sub('(\\..*)', '', x.replace('iOS ', '')) \n",
    "                                                                           if 'iOS' in x \n",
    "                                                                           else re.sub('\\ \\(.*', '', x))"
   ]
  },
  {
   "cell_type": "code",
   "execution_count": 267,
   "metadata": {},
   "outputs": [],
   "source": [
    "cliks_add['user_phone_details_id'] = cliks_add['user_phone_details_id'].apply(lambda x: \n",
    "                                                                          re.sub('(\\..*)', '', x) \n",
    "                                                                           if 'Android' in x\n",
    "                                                                          else x)"
   ]
  },
  {
   "cell_type": "code",
   "execution_count": 268,
   "metadata": {},
   "outputs": [
    {
     "data": {
      "text/plain": [
       "Android, 10           1384596\n",
       "Android, 11           1366832\n",
       "iOS, 15               1094266\n",
       "iOS, 14                991125\n",
       "Android, 9             534692\n",
       "Android, 8             206593\n",
       "Android, 7              73011\n",
       "iOS, 13                 56178\n",
       "Android, 6              18385\n",
       "iOS, 12                 16641\n",
       "Android, 12              4828\n",
       "iOS, 11                   220\n",
       "Android, 5                 22\n",
       "user_phone_details          1\n",
       "Name: user_phone_details_id, dtype: int64"
      ]
     },
     "execution_count": 268,
     "metadata": {},
     "output_type": "execute_result"
    }
   ],
   "source": [
    "cliks_add['user_phone_details_id'].value_counts()"
   ]
  },
  {
   "cell_type": "code",
   "execution_count": 269,
   "metadata": {},
   "outputs": [],
   "source": [
    "cliks_add.drop(labels = [0],axis = 0, inplace = True)"
   ]
  },
  {
   "cell_type": "code",
   "execution_count": 270,
   "metadata": {},
   "outputs": [
    {
     "data": {
      "text/html": [
       "<div>\n",
       "<style scoped>\n",
       "    .dataframe tbody tr th:only-of-type {\n",
       "        vertical-align: middle;\n",
       "    }\n",
       "\n",
       "    .dataframe tbody tr th {\n",
       "        vertical-align: top;\n",
       "    }\n",
       "\n",
       "    .dataframe thead th {\n",
       "        text-align: right;\n",
       "    }\n",
       "</style>\n",
       "<table border=\"1\" class=\"dataframe\">\n",
       "  <thead>\n",
       "    <tr style=\"text-align: right;\">\n",
       "      <th></th>\n",
       "      <th>create_time</th>\n",
       "      <th>create_date</th>\n",
       "      <th>user_phone_details</th>\n",
       "      <th>buyer_mobile_phone</th>\n",
       "      <th>user_id</th>\n",
       "      <th>url</th>\n",
       "      <th>session_id</th>\n",
       "      <th>session_name</th>\n",
       "      <th>organization_id</th>\n",
       "      <th>organization_name</th>\n",
       "      <th>session_identity</th>\n",
       "      <th>Org_region_number</th>\n",
       "      <th>org_category</th>\n",
       "      <th>age</th>\n",
       "      <th>user_region</th>\n",
       "      <th>user_phone_details_id</th>\n",
       "    </tr>\n",
       "  </thead>\n",
       "  <tbody>\n",
       "    <tr>\n",
       "      <th>1</th>\n",
       "      <td>2021-11-28 21:32:53</td>\n",
       "      <td>2021-11-28</td>\n",
       "      <td>Android, 10 (SDK 29)</td>\n",
       "      <td>ce730a5e7bb6372aad126e934320b75c</td>\n",
       "      <td>08014dcd786881f349938c9255e9df36</td>\n",
       "      <td>https://theatreofnations.ru/performances/shved...</td>\n",
       "      <td>717865</td>\n",
       "      <td>Спектакль «Шведская спичка»</td>\n",
       "      <td>7577</td>\n",
       "      <td>ФГБУК «Государственный театр наций»</td>\n",
       "      <td>Спектакль</td>\n",
       "      <td>77.0</td>\n",
       "      <td>Театры</td>\n",
       "      <td>21.0</td>\n",
       "      <td>21.0</td>\n",
       "      <td>Android, 10</td>\n",
       "    </tr>\n",
       "    <tr>\n",
       "      <th>2</th>\n",
       "      <td>2021-11-28 21:32:53</td>\n",
       "      <td>2021-11-28</td>\n",
       "      <td>Android, 10 (SDK 29)</td>\n",
       "      <td>ce730a5e7bb6372aad126e934320b75c</td>\n",
       "      <td>08014dcd786881f349938c9255e9df36</td>\n",
       "      <td>https://theatreofnations.ru/performances/shved...</td>\n",
       "      <td>717865</td>\n",
       "      <td>Спектакль «Шведская спичка»</td>\n",
       "      <td>7577</td>\n",
       "      <td>ФГБУК «Государственный театр наций»</td>\n",
       "      <td>Спектакль</td>\n",
       "      <td>77.0</td>\n",
       "      <td>Театры</td>\n",
       "      <td>21.0</td>\n",
       "      <td>21.0</td>\n",
       "      <td>Android, 10</td>\n",
       "    </tr>\n",
       "    <tr>\n",
       "      <th>3</th>\n",
       "      <td>2021-11-28 21:41:52</td>\n",
       "      <td>2021-11-28</td>\n",
       "      <td>Android, 10 (SDK 29)</td>\n",
       "      <td>ce730a5e7bb6372aad126e934320b75c</td>\n",
       "      <td>08014dcd786881f349938c9255e9df36</td>\n",
       "      <td>https://theatreofnations.ru/performances/shved...</td>\n",
       "      <td>717865</td>\n",
       "      <td>Спектакль «Шведская спичка»</td>\n",
       "      <td>7577</td>\n",
       "      <td>ФГБУК «Государственный театр наций»</td>\n",
       "      <td>Спектакль</td>\n",
       "      <td>77.0</td>\n",
       "      <td>Театры</td>\n",
       "      <td>21.0</td>\n",
       "      <td>21.0</td>\n",
       "      <td>Android, 10</td>\n",
       "    </tr>\n",
       "    <tr>\n",
       "      <th>4</th>\n",
       "      <td>2021-11-28 21:41:52</td>\n",
       "      <td>2021-11-28</td>\n",
       "      <td>Android, 10 (SDK 29)</td>\n",
       "      <td>ce730a5e7bb6372aad126e934320b75c</td>\n",
       "      <td>08014dcd786881f349938c9255e9df36</td>\n",
       "      <td>https://theatreofnations.ru/performances/shved...</td>\n",
       "      <td>717865</td>\n",
       "      <td>Спектакль «Шведская спичка»</td>\n",
       "      <td>7577</td>\n",
       "      <td>ФГБУК «Государственный театр наций»</td>\n",
       "      <td>Спектакль</td>\n",
       "      <td>77.0</td>\n",
       "      <td>Театры</td>\n",
       "      <td>21.0</td>\n",
       "      <td>21.0</td>\n",
       "      <td>Android, 10</td>\n",
       "    </tr>\n",
       "    <tr>\n",
       "      <th>5</th>\n",
       "      <td>2021-11-28 21:25:13</td>\n",
       "      <td>2021-11-28</td>\n",
       "      <td>iOS, iOS 15.0.2</td>\n",
       "      <td>a1f60fad21d72c6dcb5fd7fe84fb3ad7</td>\n",
       "      <td>b2560eaa8bc23dbba5f24aa5075b89ed</td>\n",
       "      <td>https://tickets.hermitagemuseum.org/event/7E06...</td>\n",
       "      <td>1309020</td>\n",
       "      <td>Экспозиции главного музейного комплекса Эрмитажа</td>\n",
       "      <td>2217</td>\n",
       "      <td>ФГБУК «Государственный Эрмитаж»</td>\n",
       "      <td>Экспозиции</td>\n",
       "      <td>78.0</td>\n",
       "      <td>Музеи и галереи</td>\n",
       "      <td>22.0</td>\n",
       "      <td>77.0</td>\n",
       "      <td>iOS, 15</td>\n",
       "    </tr>\n",
       "  </tbody>\n",
       "</table>\n",
       "</div>"
      ],
      "text/plain": [
       "           create_time create_date    user_phone_details  \\\n",
       "1  2021-11-28 21:32:53  2021-11-28  Android, 10 (SDK 29)   \n",
       "2  2021-11-28 21:32:53  2021-11-28  Android, 10 (SDK 29)   \n",
       "3  2021-11-28 21:41:52  2021-11-28  Android, 10 (SDK 29)   \n",
       "4  2021-11-28 21:41:52  2021-11-28  Android, 10 (SDK 29)   \n",
       "5  2021-11-28 21:25:13  2021-11-28       iOS, iOS 15.0.2   \n",
       "\n",
       "                 buyer_mobile_phone                           user_id  \\\n",
       "1  ce730a5e7bb6372aad126e934320b75c  08014dcd786881f349938c9255e9df36   \n",
       "2  ce730a5e7bb6372aad126e934320b75c  08014dcd786881f349938c9255e9df36   \n",
       "3  ce730a5e7bb6372aad126e934320b75c  08014dcd786881f349938c9255e9df36   \n",
       "4  ce730a5e7bb6372aad126e934320b75c  08014dcd786881f349938c9255e9df36   \n",
       "5  a1f60fad21d72c6dcb5fd7fe84fb3ad7  b2560eaa8bc23dbba5f24aa5075b89ed   \n",
       "\n",
       "                                                 url session_id  \\\n",
       "1  https://theatreofnations.ru/performances/shved...     717865   \n",
       "2  https://theatreofnations.ru/performances/shved...     717865   \n",
       "3  https://theatreofnations.ru/performances/shved...     717865   \n",
       "4  https://theatreofnations.ru/performances/shved...     717865   \n",
       "5  https://tickets.hermitagemuseum.org/event/7E06...    1309020   \n",
       "\n",
       "                                       session_name organization_id  \\\n",
       "1                       Спектакль «Шведская спичка»            7577   \n",
       "2                       Спектакль «Шведская спичка»            7577   \n",
       "3                       Спектакль «Шведская спичка»            7577   \n",
       "4                       Спектакль «Шведская спичка»            7577   \n",
       "5  Экспозиции главного музейного комплекса Эрмитажа            2217   \n",
       "\n",
       "                     organization_name session_identity  Org_region_number  \\\n",
       "1  ФГБУК «Государственный театр наций»        Спектакль               77.0   \n",
       "2  ФГБУК «Государственный театр наций»        Спектакль               77.0   \n",
       "3  ФГБУК «Государственный театр наций»        Спектакль               77.0   \n",
       "4  ФГБУК «Государственный театр наций»        Спектакль               77.0   \n",
       "5      ФГБУК «Государственный Эрмитаж»       Экспозиции               78.0   \n",
       "\n",
       "      org_category   age  user_region user_phone_details_id  \n",
       "1           Театры  21.0         21.0           Android, 10  \n",
       "2           Театры  21.0         21.0           Android, 10  \n",
       "3           Театры  21.0         21.0           Android, 10  \n",
       "4           Театры  21.0         21.0           Android, 10  \n",
       "5  Музеи и галереи  22.0         77.0               iOS, 15  "
      ]
     },
     "execution_count": 270,
     "metadata": {},
     "output_type": "execute_result"
    }
   ],
   "source": [
    "cliks_add.head()"
   ]
  },
  {
   "cell_type": "code",
   "execution_count": 271,
   "metadata": {},
   "outputs": [
    {
     "data": {
      "text/plain": [
       "'110'"
      ]
     },
     "execution_count": 271,
     "metadata": {},
     "output_type": "execute_result"
    }
   ],
   "source": [
    "cliks_add['user_phone_details_id'].value_counts().index[0].replace('Android,', '1').split(\n",
    ")[0] + cliks_add['user_phone_details_id'].value_counts().index[0].split()[1]"
   ]
  },
  {
   "cell_type": "code",
   "execution_count": 272,
   "metadata": {},
   "outputs": [],
   "source": [
    "cliks_add['user_phone_details_id_2'] = cliks_add['user_phone_details_id'].apply(lambda x: \n",
    "                                                                          x.replace('iOS,', '2').split()[0]+x.split()[1]\n",
    "                                                                           if 'iOS' in x \n",
    "                                                                           else x.replace('Android,', '1').split()[0]+x.split()[1])"
   ]
  },
  {
   "cell_type": "code",
   "execution_count": 273,
   "metadata": {
    "scrolled": true
   },
   "outputs": [
    {
     "data": {
      "text/plain": [
       "110    1384596\n",
       "111    1366832\n",
       "215    1094266\n",
       "214     991125\n",
       "19      534692\n",
       "18      206593\n",
       "17       73011\n",
       "213      56178\n",
       "16       18385\n",
       "212      16641\n",
       "112       4828\n",
       "211        220\n",
       "15          22\n",
       "Name: user_phone_details_id_2, dtype: int64"
      ]
     },
     "execution_count": 273,
     "metadata": {},
     "output_type": "execute_result"
    }
   ],
   "source": [
    "cliks_add['user_phone_details_id_2'].value_counts()"
   ]
  },
  {
   "cell_type": "code",
   "execution_count": 274,
   "metadata": {},
   "outputs": [],
   "source": [
    "#cliks_add.to_csv(path + 'cliks_add.csv', sep=';', index=False)"
   ]
  },
  {
   "cell_type": "code",
   "execution_count": 275,
   "metadata": {},
   "outputs": [
    {
     "name": "stdout",
     "output_type": "stream",
     "text": [
      "<class 'pandas.core.frame.DataFrame'>\n",
      "Int64Index: 5747389 entries, 1 to 5747389\n",
      "Data columns (total 17 columns):\n",
      " #   Column                   Dtype  \n",
      "---  ------                   -----  \n",
      " 0   create_time              object \n",
      " 1   create_date              object \n",
      " 2   user_phone_details       object \n",
      " 3   buyer_mobile_phone       object \n",
      " 4   user_id                  object \n",
      " 5   url                      object \n",
      " 6   session_id               object \n",
      " 7   session_name             object \n",
      " 8   organization_id          object \n",
      " 9   organization_name        object \n",
      " 10  session_identity         object \n",
      " 11  Org_region_number        float64\n",
      " 12  org_category             object \n",
      " 13  age                      float64\n",
      " 14  user_region              float64\n",
      " 15  user_phone_details_id    object \n",
      " 16  user_phone_details_id_2  object \n",
      "dtypes: float64(3), object(14)\n",
      "memory usage: 789.3+ MB\n"
     ]
    }
   ],
   "source": [
    "cliks_add.info()"
   ]
  },
  {
   "cell_type": "code",
   "execution_count": 276,
   "metadata": {},
   "outputs": [
    {
     "data": {
      "text/html": [
       "<div>\n",
       "<style scoped>\n",
       "    .dataframe tbody tr th:only-of-type {\n",
       "        vertical-align: middle;\n",
       "    }\n",
       "\n",
       "    .dataframe tbody tr th {\n",
       "        vertical-align: top;\n",
       "    }\n",
       "\n",
       "    .dataframe thead th {\n",
       "        text-align: right;\n",
       "    }\n",
       "</style>\n",
       "<table border=\"1\" class=\"dataframe\">\n",
       "  <thead>\n",
       "    <tr style=\"text-align: right;\">\n",
       "      <th></th>\n",
       "      <th>create_time</th>\n",
       "      <th>create_date</th>\n",
       "      <th>user_phone_details</th>\n",
       "      <th>buyer_mobile_phone</th>\n",
       "      <th>user_id</th>\n",
       "      <th>url</th>\n",
       "      <th>session_id</th>\n",
       "      <th>session_name</th>\n",
       "      <th>organization_id</th>\n",
       "      <th>organization_name</th>\n",
       "      <th>session_identity</th>\n",
       "      <th>Org_region_number</th>\n",
       "      <th>org_category</th>\n",
       "      <th>age</th>\n",
       "      <th>user_region</th>\n",
       "      <th>user_phone_details_id</th>\n",
       "      <th>user_phone_details_id_2</th>\n",
       "    </tr>\n",
       "  </thead>\n",
       "  <tbody>\n",
       "    <tr>\n",
       "      <th>4947411</th>\n",
       "      <td>2021-11-10 09:40:40</td>\n",
       "      <td>2021-11-10</td>\n",
       "      <td>iOS, iOS 15.1</td>\n",
       "      <td>9d3a95baed36cd2dd5ab7a9593edc97d</td>\n",
       "      <td>3b005e750cf05548b134d9e02e935a55</td>\n",
       "      <td>https://2011.bolshoi.ru/timetable/</td>\n",
       "      <td>1354582</td>\n",
       "      <td>Опера «Саломея»</td>\n",
       "      <td>5472</td>\n",
       "      <td>ФГБУК «Государственный академический Большой т...</td>\n",
       "      <td>Опера</td>\n",
       "      <td>77.0</td>\n",
       "      <td>Театры</td>\n",
       "      <td>21.0</td>\n",
       "      <td>77.0</td>\n",
       "      <td>iOS, 15</td>\n",
       "      <td>215</td>\n",
       "    </tr>\n",
       "    <tr>\n",
       "      <th>5196851</th>\n",
       "      <td>2021-11-12 15:10:11</td>\n",
       "      <td>2021-11-12</td>\n",
       "      <td>iOS, iOS 15.0.2</td>\n",
       "      <td>2021e6e8bdb2b84ad3929221123088d3</td>\n",
       "      <td>bc0cb4d6e0f315d2bb67413efea2a32f</td>\n",
       "      <td>https://tickets.shm.ru/event/94BA8758A7C7C63BA...</td>\n",
       "      <td>1314995</td>\n",
       "      <td>Экспозиция Музея Отечественной войны 1812 года</td>\n",
       "      <td>2096</td>\n",
       "      <td>ФГБУК «Государственный исторический музей»</td>\n",
       "      <td>Экспозиция</td>\n",
       "      <td>77.0</td>\n",
       "      <td>Музеи и галереи</td>\n",
       "      <td>18.0</td>\n",
       "      <td>NaN</td>\n",
       "      <td>iOS, 15</td>\n",
       "      <td>215</td>\n",
       "    </tr>\n",
       "    <tr>\n",
       "      <th>395774</th>\n",
       "      <td>2021-11-20 21:33:26</td>\n",
       "      <td>2021-11-20</td>\n",
       "      <td>iOS, iOS 14.8</td>\n",
       "      <td>f85d89f96a0fac34a5a7d436e341266c</td>\n",
       "      <td>8b6a3078f3c7a18f11831b8d488904c6</td>\n",
       "      <td>http://teatrunikitskihvorot.ru/tickets/</td>\n",
       "      <td>1037113</td>\n",
       "      <td>Спектакль «Сон смешного человека»</td>\n",
       "      <td>6775</td>\n",
       "      <td>ГБУК г. Москвы «Московский театр «У Никитских ...</td>\n",
       "      <td>Спектакль</td>\n",
       "      <td>77.0</td>\n",
       "      <td>Театры</td>\n",
       "      <td>18.0</td>\n",
       "      <td>NaN</td>\n",
       "      <td>iOS, 14</td>\n",
       "      <td>214</td>\n",
       "    </tr>\n",
       "  </tbody>\n",
       "</table>\n",
       "</div>"
      ],
      "text/plain": [
       "                 create_time create_date user_phone_details  \\\n",
       "4947411  2021-11-10 09:40:40  2021-11-10      iOS, iOS 15.1   \n",
       "5196851  2021-11-12 15:10:11  2021-11-12    iOS, iOS 15.0.2   \n",
       "395774   2021-11-20 21:33:26  2021-11-20      iOS, iOS 14.8   \n",
       "\n",
       "                       buyer_mobile_phone                           user_id  \\\n",
       "4947411  9d3a95baed36cd2dd5ab7a9593edc97d  3b005e750cf05548b134d9e02e935a55   \n",
       "5196851  2021e6e8bdb2b84ad3929221123088d3  bc0cb4d6e0f315d2bb67413efea2a32f   \n",
       "395774   f85d89f96a0fac34a5a7d436e341266c  8b6a3078f3c7a18f11831b8d488904c6   \n",
       "\n",
       "                                                       url session_id  \\\n",
       "4947411                 https://2011.bolshoi.ru/timetable/    1354582   \n",
       "5196851  https://tickets.shm.ru/event/94BA8758A7C7C63BA...    1314995   \n",
       "395774             http://teatrunikitskihvorot.ru/tickets/    1037113   \n",
       "\n",
       "                                           session_name organization_id  \\\n",
       "4947411                                 Опера «Саломея»            5472   \n",
       "5196851  Экспозиция Музея Отечественной войны 1812 года            2096   \n",
       "395774                Спектакль «Сон смешного человека»            6775   \n",
       "\n",
       "                                         organization_name session_identity  \\\n",
       "4947411  ФГБУК «Государственный академический Большой т...            Опера   \n",
       "5196851         ФГБУК «Государственный исторический музей»       Экспозиция   \n",
       "395774   ГБУК г. Москвы «Московский театр «У Никитских ...        Спектакль   \n",
       "\n",
       "         Org_region_number     org_category   age  user_region  \\\n",
       "4947411               77.0           Театры  21.0         77.0   \n",
       "5196851               77.0  Музеи и галереи  18.0          NaN   \n",
       "395774                77.0           Театры  18.0          NaN   \n",
       "\n",
       "        user_phone_details_id user_phone_details_id_2  \n",
       "4947411               iOS, 15                     215  \n",
       "5196851               iOS, 15                     215  \n",
       "395774                iOS, 14                     214  "
      ]
     },
     "execution_count": 276,
     "metadata": {},
     "output_type": "execute_result"
    }
   ],
   "source": [
    "cliks_add.sample(3)"
   ]
  }
 ],
 "metadata": {
  "kernelspec": {
   "display_name": "Python 3",
   "language": "python",
   "name": "python3"
  },
  "language_info": {
   "codemirror_mode": {
    "name": "ipython",
    "version": 3
   },
   "file_extension": ".py",
   "mimetype": "text/x-python",
   "name": "python",
   "nbconvert_exporter": "python",
   "pygments_lexer": "ipython3",
   "version": "3.8.7"
  }
 },
 "nbformat": 4,
 "nbformat_minor": 5
}
