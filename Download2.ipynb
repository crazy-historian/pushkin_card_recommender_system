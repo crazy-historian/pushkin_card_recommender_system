{
 "cells": [
  {
   "cell_type": "code",
   "execution_count": 396,
   "id": "69c6caf5",
   "metadata": {},
   "outputs": [],
   "source": [
    "import pandas as pd\n",
    "import numpy as np\n",
    "import math"
   ]
  },
  {
   "cell_type": "code",
   "execution_count": 362,
   "id": "c002ca62",
   "metadata": {},
   "outputs": [],
   "source": [
    "path = 'C:/Users/Rusla/Documents/GitHub/Пушкинская карта - стажировка/Sample/'"
   ]
  },
  {
   "cell_type": "code",
   "execution_count": 363,
   "id": "0b95cfc3",
   "metadata": {},
   "outputs": [],
   "source": [
    "users = pd.read_csv(path + 'users_full.csv', sep=';', error_bad_lines=False)"
   ]
  },
  {
   "cell_type": "code",
   "execution_count": 364,
   "id": "00078877",
   "metadata": {},
   "outputs": [
    {
     "name": "stdout",
     "output_type": "stream",
     "text": [
      "<class 'pandas.core.frame.DataFrame'>\n",
      "RangeIndex: 2879681 entries, 0 to 2879680\n",
      "Data columns (total 9 columns):\n",
      " #   Column              Dtype  \n",
      "---  ------              -----  \n",
      " 0   create_date         int64  \n",
      " 1   user_id             object \n",
      " 2   user_birth          object \n",
      " 3   create_date.1       object \n",
      " 4   user_phone_details  object \n",
      " 5   buyer_mobile_phone  object \n",
      " 6   region              object \n",
      " 7   age                 int64  \n",
      " 8   user_region         float64\n",
      "dtypes: float64(1), int64(2), object(6)\n",
      "memory usage: 197.7+ MB\n"
     ]
    }
   ],
   "source": [
    "users.info()"
   ]
  },
  {
   "cell_type": "code",
   "execution_count": 365,
   "id": "fa267db4",
   "metadata": {
    "scrolled": true
   },
   "outputs": [
    {
     "data": {
      "text/html": [
       "<div>\n",
       "<style scoped>\n",
       "    .dataframe tbody tr th:only-of-type {\n",
       "        vertical-align: middle;\n",
       "    }\n",
       "\n",
       "    .dataframe tbody tr th {\n",
       "        vertical-align: top;\n",
       "    }\n",
       "\n",
       "    .dataframe thead th {\n",
       "        text-align: right;\n",
       "    }\n",
       "</style>\n",
       "<table border=\"1\" class=\"dataframe\">\n",
       "  <thead>\n",
       "    <tr style=\"text-align: right;\">\n",
       "      <th></th>\n",
       "      <th>create_date</th>\n",
       "      <th>user_id</th>\n",
       "      <th>user_birth</th>\n",
       "      <th>create_date.1</th>\n",
       "      <th>user_phone_details</th>\n",
       "      <th>buyer_mobile_phone</th>\n",
       "      <th>region</th>\n",
       "      <th>age</th>\n",
       "      <th>user_region</th>\n",
       "    </tr>\n",
       "  </thead>\n",
       "  <tbody>\n",
       "    <tr>\n",
       "      <th>663514</th>\n",
       "      <td>1630497588</td>\n",
       "      <td>44b2d1b19ad87b8794961e38354bc268</td>\n",
       "      <td>2003-01-03</td>\n",
       "      <td>2021-11-19</td>\n",
       "      <td>Android, 11 (SDK 30)</td>\n",
       "      <td>4e498131d58a719143de0f29d8707e59</td>\n",
       "      <td>Воронежская область</td>\n",
       "      <td>19</td>\n",
       "      <td>36.0</td>\n",
       "    </tr>\n",
       "    <tr>\n",
       "      <th>698877</th>\n",
       "      <td>1630736083</td>\n",
       "      <td>3522314cd84248694e99ae5864d6d84a</td>\n",
       "      <td>2005-08-15</td>\n",
       "      <td>NaN</td>\n",
       "      <td>NaN</td>\n",
       "      <td>NaN</td>\n",
       "      <td>Сахалинская область</td>\n",
       "      <td>16</td>\n",
       "      <td>65.0</td>\n",
       "    </tr>\n",
       "    <tr>\n",
       "      <th>294653</th>\n",
       "      <td>1630570172</td>\n",
       "      <td>b00190ef01d8644f9c7ec7f1334473e9</td>\n",
       "      <td>1999-11-30</td>\n",
       "      <td>NaN</td>\n",
       "      <td>NaN</td>\n",
       "      <td>NaN</td>\n",
       "      <td>Ставропольский край</td>\n",
       "      <td>22</td>\n",
       "      <td>26.0</td>\n",
       "    </tr>\n",
       "  </tbody>\n",
       "</table>\n",
       "</div>"
      ],
      "text/plain": [
       "        create_date                           user_id  user_birth  \\\n",
       "663514   1630497588  44b2d1b19ad87b8794961e38354bc268  2003-01-03   \n",
       "698877   1630736083  3522314cd84248694e99ae5864d6d84a  2005-08-15   \n",
       "294653   1630570172  b00190ef01d8644f9c7ec7f1334473e9  1999-11-30   \n",
       "\n",
       "       create_date.1    user_phone_details                buyer_mobile_phone  \\\n",
       "663514    2021-11-19  Android, 11 (SDK 30)  4e498131d58a719143de0f29d8707e59   \n",
       "698877           NaN                   NaN                               NaN   \n",
       "294653           NaN                   NaN                               NaN   \n",
       "\n",
       "                     region  age  user_region  \n",
       "663514  Воронежская область   19         36.0  \n",
       "698877  Сахалинская область   16         65.0  \n",
       "294653  Ставропольский край   22         26.0  "
      ]
     },
     "execution_count": 365,
     "metadata": {},
     "output_type": "execute_result"
    }
   ],
   "source": [
    "users.sample(3)"
   ]
  },
  {
   "cell_type": "code",
   "execution_count": 367,
   "id": "9f034006",
   "metadata": {},
   "outputs": [],
   "source": [
    "users = users.astype({\"age\": \"object\", \"user_region\": \"object\"})"
   ]
  },
  {
   "cell_type": "code",
   "execution_count": 368,
   "id": "1179d30c",
   "metadata": {},
   "outputs": [],
   "source": [
    "import json \n",
    "expl = [json.loads(line) for line in open(path + 'tickets2.json', 'r', encoding='utf-8', errors = 'ignore')]"
   ]
  },
  {
   "cell_type": "code",
   "execution_count": 369,
   "id": "4e298a5a",
   "metadata": {},
   "outputs": [],
   "source": [
    "tickets = pd.DataFrame(expl)"
   ]
  },
  {
   "cell_type": "code",
   "execution_count": 370,
   "id": "ec6db8fd",
   "metadata": {
    "scrolled": true
   },
   "outputs": [
    {
     "data": {
      "text/html": [
       "<div>\n",
       "<style scoped>\n",
       "    .dataframe tbody tr th:only-of-type {\n",
       "        vertical-align: middle;\n",
       "    }\n",
       "\n",
       "    .dataframe tbody tr th {\n",
       "        vertical-align: top;\n",
       "    }\n",
       "\n",
       "    .dataframe thead th {\n",
       "        text-align: right;\n",
       "    }\n",
       "</style>\n",
       "<table border=\"1\" class=\"dataframe\">\n",
       "  <thead>\n",
       "    <tr style=\"text-align: right;\">\n",
       "      <th></th>\n",
       "      <th>payment_date</th>\n",
       "      <th>comment</th>\n",
       "      <th>session_event_id</th>\n",
       "      <th>session_date</th>\n",
       "      <th>session_params</th>\n",
       "      <th>owner</th>\n",
       "      <th>refund_date</th>\n",
       "      <th>buyer_mobile_phone</th>\n",
       "      <th>refund_reason</th>\n",
       "      <th>payment_amount</th>\n",
       "      <th>visitor_first_name</th>\n",
       "      <th>refund_ticket_price</th>\n",
       "      <th>create_date</th>\n",
       "      <th>status</th>\n",
       "      <th>payment_ticket_price</th>\n",
       "      <th>session_organization_id</th>\n",
       "      <th>visit_date</th>\n",
       "    </tr>\n",
       "  </thead>\n",
       "  <tbody>\n",
       "    <tr>\n",
       "      <th>165611</th>\n",
       "      <td>1637419076</td>\n",
       "      <td></td>\n",
       "      <td>353729</td>\n",
       "      <td>1641484800</td>\n",
       "      <td>сектор:Партер,ряд:7,место:18</td>\n",
       "      <td>7720312951</td>\n",
       "      <td>NaN</td>\n",
       "      <td>6928fa50600e64a65409b07f496d17e6</td>\n",
       "      <td>None</td>\n",
       "      <td>300</td>\n",
       "      <td></td>\n",
       "      <td>None</td>\n",
       "      <td>1637419076754564997</td>\n",
       "      <td>active</td>\n",
       "      <td>300</td>\n",
       "      <td>10111</td>\n",
       "      <td>NaN</td>\n",
       "    </tr>\n",
       "    <tr>\n",
       "      <th>147469</th>\n",
       "      <td>1636179136</td>\n",
       "      <td></td>\n",
       "      <td>1326163</td>\n",
       "      <td>1636146000</td>\n",
       "      <td></td>\n",
       "      <td>7810099978</td>\n",
       "      <td>NaN</td>\n",
       "      <td>a7ee765d7c37fc253452c8b1857e827a</td>\n",
       "      <td>None</td>\n",
       "      <td>250</td>\n",
       "      <td></td>\n",
       "      <td>None</td>\n",
       "      <td>1636179160067590710</td>\n",
       "      <td>active</td>\n",
       "      <td>250</td>\n",
       "      <td>4481</td>\n",
       "      <td>NaN</td>\n",
       "    </tr>\n",
       "    <tr>\n",
       "      <th>539472</th>\n",
       "      <td>1637059861</td>\n",
       "      <td></td>\n",
       "      <td>1422988</td>\n",
       "      <td>1637145000</td>\n",
       "      <td>Основной зал, Партер, Ряд 4 Место 5</td>\n",
       "      <td>7453098727</td>\n",
       "      <td>NaN</td>\n",
       "      <td>48ae27e92b86dcb6e750986f6f142b0b</td>\n",
       "      <td>None</td>\n",
       "      <td>500.00</td>\n",
       "      <td>Д</td>\n",
       "      <td>None</td>\n",
       "      <td>1637059963164799881</td>\n",
       "      <td>active</td>\n",
       "      <td>500.00</td>\n",
       "      <td>9472</td>\n",
       "      <td>NaN</td>\n",
       "    </tr>\n",
       "  </tbody>\n",
       "</table>\n",
       "</div>"
      ],
      "text/plain": [
       "        payment_date comment session_event_id  session_date  \\\n",
       "165611    1637419076                   353729    1641484800   \n",
       "147469    1636179136                  1326163    1636146000   \n",
       "539472    1637059861                  1422988    1637145000   \n",
       "\n",
       "                             session_params       owner  refund_date  \\\n",
       "165611         сектор:Партер,ряд:7,место:18  7720312951          NaN   \n",
       "147469                                       7810099978          NaN   \n",
       "539472  Основной зал, Партер, Ряд 4 Место 5  7453098727          NaN   \n",
       "\n",
       "                      buyer_mobile_phone refund_reason payment_amount  \\\n",
       "165611  6928fa50600e64a65409b07f496d17e6          None            300   \n",
       "147469  a7ee765d7c37fc253452c8b1857e827a          None            250   \n",
       "539472  48ae27e92b86dcb6e750986f6f142b0b          None         500.00   \n",
       "\n",
       "       visitor_first_name refund_ticket_price          create_date  status  \\\n",
       "165611                                   None  1637419076754564997  active   \n",
       "147469                                   None  1636179160067590710  active   \n",
       "539472                  Д                None  1637059963164799881  active   \n",
       "\n",
       "       payment_ticket_price session_organization_id  visit_date  \n",
       "165611                  300                   10111         NaN  \n",
       "147469                  250                    4481         NaN  \n",
       "539472               500.00                    9472         NaN  "
      ]
     },
     "execution_count": 370,
     "metadata": {},
     "output_type": "execute_result"
    }
   ],
   "source": [
    "tickets.sample(3)"
   ]
  },
  {
   "cell_type": "code",
   "execution_count": 371,
   "id": "f21f7c77",
   "metadata": {},
   "outputs": [
    {
     "data": {
      "text/html": [
       "<div>\n",
       "<style scoped>\n",
       "    .dataframe tbody tr th:only-of-type {\n",
       "        vertical-align: middle;\n",
       "    }\n",
       "\n",
       "    .dataframe tbody tr th {\n",
       "        vertical-align: top;\n",
       "    }\n",
       "\n",
       "    .dataframe thead th {\n",
       "        text-align: right;\n",
       "    }\n",
       "</style>\n",
       "<table border=\"1\" class=\"dataframe\">\n",
       "  <thead>\n",
       "    <tr style=\"text-align: right;\">\n",
       "      <th></th>\n",
       "      <th>payment_date</th>\n",
       "      <th>comment</th>\n",
       "      <th>session_event_id</th>\n",
       "      <th>session_date</th>\n",
       "      <th>session_params</th>\n",
       "      <th>owner</th>\n",
       "      <th>refund_date</th>\n",
       "      <th>buyer_mobile_phone</th>\n",
       "      <th>refund_reason</th>\n",
       "      <th>payment_amount</th>\n",
       "      <th>visitor_first_name</th>\n",
       "      <th>refund_ticket_price</th>\n",
       "      <th>create_date</th>\n",
       "      <th>status</th>\n",
       "      <th>payment_ticket_price</th>\n",
       "      <th>session_organization_id</th>\n",
       "      <th>visit_date</th>\n",
       "    </tr>\n",
       "  </thead>\n",
       "  <tbody>\n",
       "  </tbody>\n",
       "</table>\n",
       "</div>"
      ],
      "text/plain": [
       "Empty DataFrame\n",
       "Columns: [payment_date, comment, session_event_id, session_date, session_params, owner, refund_date, buyer_mobile_phone, refund_reason, payment_amount, visitor_first_name, refund_ticket_price, create_date, status, payment_ticket_price, session_organization_id, visit_date]\n",
       "Index: []"
      ]
     },
     "execution_count": 371,
     "metadata": {},
     "output_type": "execute_result"
    }
   ],
   "source": [
    "tickets[tickets['buyer_mobile_phone'].isna()]"
   ]
  },
  {
   "cell_type": "code",
   "execution_count": 372,
   "id": "517793d9",
   "metadata": {},
   "outputs": [
    {
     "data": {
      "text/plain": [
       "11791"
      ]
     },
     "execution_count": 372,
     "metadata": {},
     "output_type": "execute_result"
    }
   ],
   "source": [
    "tickets.visitor_first_name.nunique() # можно было попробовать пол по именм, но имён у нас всего 11 тысяч из 1,2 млн."
   ]
  },
  {
   "cell_type": "markdown",
   "id": "bce44741",
   "metadata": {},
   "source": [
    "# Добавим данные пользователя в дата сет с купленными билетами"
   ]
  },
  {
   "cell_type": "code",
   "execution_count": 373,
   "id": "ada2c559",
   "metadata": {},
   "outputs": [],
   "source": [
    "tickets = pd.merge(tickets,users,on=['buyer_mobile_phone'], how='left')"
   ]
  },
  {
   "cell_type": "code",
   "execution_count": 374,
   "id": "f350c200",
   "metadata": {},
   "outputs": [
    {
     "name": "stdout",
     "output_type": "stream",
     "text": [
      "<class 'pandas.core.frame.DataFrame'>\n",
      "Int64Index: 854330 entries, 0 to 854329\n",
      "Data columns (total 25 columns):\n",
      " #   Column                   Non-Null Count   Dtype  \n",
      "---  ------                   --------------   -----  \n",
      " 0   payment_date             854330 non-null  int64  \n",
      " 1   comment                  854330 non-null  object \n",
      " 2   session_event_id         854330 non-null  object \n",
      " 3   session_date             854330 non-null  int64  \n",
      " 4   session_params           854330 non-null  object \n",
      " 5   owner                    854330 non-null  object \n",
      " 6   refund_date              25117 non-null   float64\n",
      " 7   buyer_mobile_phone       854330 non-null  object \n",
      " 8   refund_reason            25117 non-null   object \n",
      " 9   payment_amount           854330 non-null  object \n",
      " 10  visitor_first_name       854330 non-null  object \n",
      " 11  refund_ticket_price      24409 non-null   object \n",
      " 12  create_date_x            854330 non-null  int64  \n",
      " 13  status                   854330 non-null  object \n",
      " 14  payment_ticket_price     854330 non-null  object \n",
      " 15  session_organization_id  854330 non-null  object \n",
      " 16  visit_date               393850 non-null  float64\n",
      " 17  create_date_y            530576 non-null  float64\n",
      " 18  user_id                  530576 non-null  object \n",
      " 19  user_birth               530576 non-null  object \n",
      " 20  create_date.1            530576 non-null  object \n",
      " 21  user_phone_details       530576 non-null  object \n",
      " 22  region                   368752 non-null  object \n",
      " 23  age                      530576 non-null  object \n",
      " 24  user_region              368752 non-null  object \n",
      "dtypes: float64(3), int64(3), object(19)\n",
      "memory usage: 169.5+ MB\n"
     ]
    }
   ],
   "source": [
    "tickets.info()"
   ]
  },
  {
   "cell_type": "code",
   "execution_count": 375,
   "id": "45472662",
   "metadata": {},
   "outputs": [
    {
     "data": {
      "text/plain": [
       "f038031fea37f04156569ebd7425aae6    90\n",
       "519e60873d11e8ba3046500f5a63ac7c    80\n",
       "0bfec9a8f7c33e9f39fa117bb933a30a    63\n",
       "46ac8e084bdd549553f4aa48ff4e4873    39\n",
       "dc3b79fc403fa955d4f84ae82cc79da0    38\n",
       "                                    ..\n",
       "5d1f8a26f63ac03ff126cebc40d019e7     1\n",
       "153192910c2c3b36f9822f6b6949a9e1     1\n",
       "d42218be5e675ed197a355d5f80c8d4d     1\n",
       "1874773b1703c2712c17fd15a8ac8782     1\n",
       "abcdef8dddf01e4f8bc2176629587eba     1\n",
       "Name: user_id, Length: 329522, dtype: int64"
      ]
     },
     "execution_count": 375,
     "metadata": {},
     "output_type": "execute_result"
    }
   ],
   "source": [
    "tickets.user_id.value_counts() # посмотрим как много билетов покупают пользоватли"
   ]
  },
  {
   "cell_type": "code",
   "execution_count": 376,
   "id": "93fcbd1f",
   "metadata": {},
   "outputs": [
    {
     "data": {
      "text/plain": [
       "a29e09e61453dd4a978287f9786879b0    65242\n",
       "da36c3bbd797a083399f9c903af7c65f    15353\n",
       "6386e9f4ab47751b2f34642e5339b99a     1188\n",
       "07d06bdd37b69c024f86a5be566f91d4      557\n",
       "c38b59c8e58401db040b1f773fc59780      370\n",
       "                                    ...  \n",
       "d9d90976fbf64dc30a090e37465fa952        1\n",
       "debf774b7adfc46fdcc901549633192b        1\n",
       "1c437d4682efaabf77026b6822904df9        1\n",
       "4a1245fa9325f1bfa60d7ce28d742c29        1\n",
       "e15a9dee382ee64165a26350ac78d212        1\n",
       "Name: buyer_mobile_phone, Length: 478364, dtype: int64"
      ]
     },
     "execution_count": 376,
     "metadata": {},
     "output_type": "execute_result"
    }
   ],
   "source": [
    "tickets.buyer_mobile_phone.value_counts() # посмотрим как много билетов покупают пользоватли"
   ]
  },
  {
   "cell_type": "code",
   "execution_count": 398,
   "id": "b09cdf89",
   "metadata": {},
   "outputs": [
    {
     "data": {
      "text/plain": [
       "7707079537    557\n",
       "Name: owner, dtype: int64"
      ]
     },
     "execution_count": 398,
     "metadata": {},
     "output_type": "execute_result"
    }
   ],
   "source": [
    "tickets[tickets['buyer_mobile_phone'] == '07d06bdd37b69c024f86a5be566f91d4']['owner'].value_counts()"
   ]
  },
  {
   "cell_type": "code",
   "execution_count": 415,
   "id": "9c952b85",
   "metadata": {},
   "outputs": [
    {
     "data": {
      "text/html": [
       "<div>\n",
       "<style scoped>\n",
       "    .dataframe tbody tr th:only-of-type {\n",
       "        vertical-align: middle;\n",
       "    }\n",
       "\n",
       "    .dataframe tbody tr th {\n",
       "        vertical-align: top;\n",
       "    }\n",
       "\n",
       "    .dataframe thead th {\n",
       "        text-align: right;\n",
       "    }\n",
       "</style>\n",
       "<table border=\"1\" class=\"dataframe\">\n",
       "  <thead>\n",
       "    <tr style=\"text-align: right;\">\n",
       "      <th></th>\n",
       "      <th>payment_date</th>\n",
       "      <th>comment</th>\n",
       "      <th>session_event_id</th>\n",
       "      <th>session_date</th>\n",
       "      <th>session_params</th>\n",
       "      <th>owner</th>\n",
       "      <th>refund_date</th>\n",
       "      <th>buyer_mobile_phone</th>\n",
       "      <th>refund_reason</th>\n",
       "      <th>payment_amount</th>\n",
       "      <th>...</th>\n",
       "      <th>session_organization_id</th>\n",
       "      <th>visit_date</th>\n",
       "      <th>create_date_y</th>\n",
       "      <th>user_id</th>\n",
       "      <th>user_birth</th>\n",
       "      <th>create_date.1</th>\n",
       "      <th>user_phone_details</th>\n",
       "      <th>region</th>\n",
       "      <th>age</th>\n",
       "      <th>user_region</th>\n",
       "    </tr>\n",
       "  </thead>\n",
       "  <tbody>\n",
       "  </tbody>\n",
       "</table>\n",
       "<p>0 rows × 25 columns</p>\n",
       "</div>"
      ],
      "text/plain": [
       "Empty DataFrame\n",
       "Columns: [payment_date, comment, session_event_id, session_date, session_params, owner, refund_date, buyer_mobile_phone, refund_reason, payment_amount, visitor_first_name, refund_ticket_price, create_date_x, status, payment_ticket_price, session_organization_id, visit_date, create_date_y, user_id, user_birth, create_date.1, user_phone_details, region, age, user_region]\n",
       "Index: []\n",
       "\n",
       "[0 rows x 25 columns]"
      ]
     },
     "execution_count": 415,
     "metadata": {},
     "output_type": "execute_result"
    }
   ],
   "source": [
    "tickets[tickets['user_region'] == '2']"
   ]
  },
  {
   "cell_type": "code",
   "execution_count": 413,
   "id": "381f986d",
   "metadata": {},
   "outputs": [
    {
     "data": {
      "text/plain": [
       "256017927.0"
      ]
     },
     "execution_count": 413,
     "metadata": {},
     "output_type": "execute_result"
    }
   ],
   "source": [
    "organizations[organizations['Org_region_number'] == 2]['ИНН'].unique()[15]"
   ]
  },
  {
   "cell_type": "code",
   "execution_count": 242,
   "id": "fe28842d",
   "metadata": {},
   "outputs": [],
   "source": [
    "path2 = 'C:/Users/Rusla/Documents/GitHub/Пушкинская карта - стажировка/Sample/events/'"
   ]
  },
  {
   "cell_type": "code",
   "execution_count": 243,
   "id": "394bc7c7",
   "metadata": {},
   "outputs": [],
   "source": [
    "events = pd.read_csv(path2 + 'events.csv', sep = ';', error_bad_lines=False)"
   ]
  },
  {
   "cell_type": "code",
   "execution_count": 244,
   "id": "166722a6",
   "metadata": {},
   "outputs": [
    {
     "data": {
      "text/html": [
       "<div>\n",
       "<style scoped>\n",
       "    .dataframe tbody tr th:only-of-type {\n",
       "        vertical-align: middle;\n",
       "    }\n",
       "\n",
       "    .dataframe tbody tr th {\n",
       "        vertical-align: top;\n",
       "    }\n",
       "\n",
       "    .dataframe thead th {\n",
       "        text-align: right;\n",
       "    }\n",
       "</style>\n",
       "<table border=\"1\" class=\"dataframe\">\n",
       "  <thead>\n",
       "    <tr style=\"text-align: right;\">\n",
       "      <th></th>\n",
       "      <th>ID</th>\n",
       "      <th>Название события</th>\n",
       "      <th>Организатор мероприятия</th>\n",
       "      <th>Ссылка на покупку билета</th>\n",
       "      <th>Дополнительная ссылка на покупку билета</th>\n",
       "    </tr>\n",
       "  </thead>\n",
       "  <tbody>\n",
       "    <tr>\n",
       "      <th>9196</th>\n",
       "      <td>1257973</td>\n",
       "      <td>Спектакль «В сапоге у бабки играл фокстрот»</td>\n",
       "      <td>БУ «Государственный Национальный театр Республ...</td>\n",
       "      <td>https://petrozavodsk.kassy.ru/widget/30-1/even...</td>\n",
       "      <td>NaN</td>\n",
       "    </tr>\n",
       "    <tr>\n",
       "      <th>31926</th>\n",
       "      <td>1477355</td>\n",
       "      <td>Спектакль «Солнышко и снежные человечки»</td>\n",
       "      <td>ГБУК ВО «Воронежский государственный театр кук...</td>\n",
       "      <td>http://theatre.bezantrakta.ru/afisha/2021-12-1...</td>\n",
       "      <td>NaN</td>\n",
       "    </tr>\n",
       "    <tr>\n",
       "      <th>14634</th>\n",
       "      <td>1299999</td>\n",
       "      <td>Спектакль «Выигрыш»</td>\n",
       "      <td>МУК «Центр культуры и досуга «Мечта»</td>\n",
       "      <td>https://widget.afisha.yandex.ru/w/sessions/tic...</td>\n",
       "      <td>NaN</td>\n",
       "    </tr>\n",
       "  </tbody>\n",
       "</table>\n",
       "</div>"
      ],
      "text/plain": [
       "            ID                             Название события  \\\n",
       "9196   1257973  Спектакль «В сапоге у бабки играл фокстрот»   \n",
       "31926  1477355     Спектакль «Солнышко и снежные человечки»   \n",
       "14634  1299999                          Спектакль «Выигрыш»   \n",
       "\n",
       "                                 Организатор мероприятия  \\\n",
       "9196   БУ «Государственный Национальный театр Республ...   \n",
       "31926  ГБУК ВО «Воронежский государственный театр кук...   \n",
       "14634               МУК «Центр культуры и досуга «Мечта»   \n",
       "\n",
       "                                Ссылка на покупку билета  \\\n",
       "9196   https://petrozavodsk.kassy.ru/widget/30-1/even...   \n",
       "31926  http://theatre.bezantrakta.ru/afisha/2021-12-1...   \n",
       "14634  https://widget.afisha.yandex.ru/w/sessions/tic...   \n",
       "\n",
       "      Дополнительная ссылка на покупку билета  \n",
       "9196                                      NaN  \n",
       "31926                                     NaN  \n",
       "14634                                     NaN  "
      ]
     },
     "execution_count": 244,
     "metadata": {},
     "output_type": "execute_result"
    }
   ],
   "source": [
    "events.sample(3)"
   ]
  },
  {
   "cell_type": "code",
   "execution_count": 245,
   "id": "44dac1d3",
   "metadata": {},
   "outputs": [
    {
     "data": {
      "text/html": [
       "<div>\n",
       "<style scoped>\n",
       "    .dataframe tbody tr th:only-of-type {\n",
       "        vertical-align: middle;\n",
       "    }\n",
       "\n",
       "    .dataframe tbody tr th {\n",
       "        vertical-align: top;\n",
       "    }\n",
       "\n",
       "    .dataframe thead th {\n",
       "        text-align: right;\n",
       "    }\n",
       "</style>\n",
       "<table border=\"1\" class=\"dataframe\">\n",
       "  <thead>\n",
       "    <tr style=\"text-align: right;\">\n",
       "      <th></th>\n",
       "      <th>ID</th>\n",
       "      <th>Название события</th>\n",
       "      <th>Организатор мероприятия</th>\n",
       "      <th>Ссылка на покупку билета</th>\n",
       "      <th>Дополнительная ссылка на покупку билета</th>\n",
       "    </tr>\n",
       "  </thead>\n",
       "  <tbody>\n",
       "    <tr>\n",
       "      <th>13372</th>\n",
       "      <td>1289505</td>\n",
       "      <td>Экспозиции в Петропавловской крепости</td>\n",
       "      <td>Государственный музей истории Санкт-Петербурга</td>\n",
       "      <td>https://spbmuseum.tncloud.ru/event/8AA8E84D96E...</td>\n",
       "      <td>NaN</td>\n",
       "    </tr>\n",
       "  </tbody>\n",
       "</table>\n",
       "</div>"
      ],
      "text/plain": [
       "            ID                       Название события  \\\n",
       "13372  1289505  Экспозиции в Петропавловской крепости   \n",
       "\n",
       "                              Организатор мероприятия  \\\n",
       "13372  Государственный музей истории Санкт-Петербурга   \n",
       "\n",
       "                                Ссылка на покупку билета  \\\n",
       "13372  https://spbmuseum.tncloud.ru/event/8AA8E84D96E...   \n",
       "\n",
       "      Дополнительная ссылка на покупку билета  \n",
       "13372                                     NaN  "
      ]
     },
     "execution_count": 245,
     "metadata": {},
     "output_type": "execute_result"
    }
   ],
   "source": [
    "events[events['ID'] == 1289505]"
   ]
  },
  {
   "cell_type": "code",
   "execution_count": 246,
   "id": "50e22f1e",
   "metadata": {},
   "outputs": [
    {
     "name": "stdout",
     "output_type": "stream",
     "text": [
      "<class 'pandas.core.frame.DataFrame'>\n",
      "RangeIndex: 854291 entries, 0 to 854290\n",
      "Data columns (total 17 columns):\n",
      " #   Column                   Non-Null Count   Dtype  \n",
      "---  ------                   --------------   -----  \n",
      " 0   payment_date             854291 non-null  int64  \n",
      " 1   comment                  854291 non-null  object \n",
      " 2   session_event_id         854291 non-null  object \n",
      " 3   session_date             854291 non-null  int64  \n",
      " 4   session_params           854291 non-null  object \n",
      " 5   owner                    854291 non-null  object \n",
      " 6   refund_date              25115 non-null   float64\n",
      " 7   buyer_mobile_phone       854291 non-null  object \n",
      " 8   refund_reason            25115 non-null   object \n",
      " 9   payment_amount           854291 non-null  object \n",
      " 10  visitor_first_name       854291 non-null  object \n",
      " 11  refund_ticket_price      24407 non-null   object \n",
      " 12  create_date              854291 non-null  int64  \n",
      " 13  status                   854291 non-null  object \n",
      " 14  payment_ticket_price     854291 non-null  object \n",
      " 15  session_organization_id  854291 non-null  object \n",
      " 16  visit_date               393830 non-null  float64\n",
      "dtypes: float64(2), int64(3), object(12)\n",
      "memory usage: 110.8+ MB\n"
     ]
    }
   ],
   "source": [
    "tickets.info()"
   ]
  },
  {
   "cell_type": "code",
   "execution_count": 247,
   "id": "c30601fa",
   "metadata": {},
   "outputs": [],
   "source": [
    "events_pushka_accepted_30122021 = pd.read_csv(path2 + 'events_pushka_accepted_30122021.csv', sep = ','\n",
    "                                              , error_bad_lines=False)"
   ]
  },
  {
   "cell_type": "code",
   "execution_count": 248,
   "id": "84a7bc8c",
   "metadata": {},
   "outputs": [
    {
     "name": "stdout",
     "output_type": "stream",
     "text": [
      "<class 'pandas.core.frame.DataFrame'>\n",
      "RangeIndex: 47856 entries, 0 to 47855\n",
      "Data columns (total 6 columns):\n",
      " #   Column                        Non-Null Count  Dtype  \n",
      "---  ------                        --------------  -----  \n",
      " 0   entity._id                    47856 non-null  int64  \n",
      " 1   entity.name                   47220 non-null  object \n",
      " 2   entity.saleLink               47218 non-null  object \n",
      " 3   entity.additionalSaleLinks.0  4636 non-null   object \n",
      " 4   entity.organization._id       47220 non-null  float64\n",
      " 5   entity.organization.name      47220 non-null  object \n",
      "dtypes: float64(1), int64(1), object(4)\n",
      "memory usage: 2.2+ MB\n"
     ]
    }
   ],
   "source": [
    "events_pushka_accepted_30122021.info()"
   ]
  },
  {
   "cell_type": "code",
   "execution_count": 249,
   "id": "88927c78",
   "metadata": {
    "scrolled": true
   },
   "outputs": [
    {
     "name": "stdout",
     "output_type": "stream",
     "text": [
      "<class 'pandas.core.frame.DataFrame'>\n",
      "RangeIndex: 42154 entries, 0 to 42153\n",
      "Data columns (total 5 columns):\n",
      " #   Column                                   Non-Null Count  Dtype \n",
      "---  ------                                   --------------  ----- \n",
      " 0   ID                                       42154 non-null  int64 \n",
      " 1   Название события                         42154 non-null  object\n",
      " 2   Организатор мероприятия                  42154 non-null  object\n",
      " 3   Ссылка на покупку билета                 42151 non-null  object\n",
      " 4   Дополнительная ссылка на покупку билета  3817 non-null   object\n",
      "dtypes: int64(1), object(4)\n",
      "memory usage: 1.6+ MB\n"
     ]
    }
   ],
   "source": [
    "events.info()"
   ]
  },
  {
   "cell_type": "code",
   "execution_count": 250,
   "id": "f8e2eb4f",
   "metadata": {},
   "outputs": [],
   "source": [
    "events_2 = events_pushka_accepted_30122021.copy()"
   ]
  },
  {
   "cell_type": "code",
   "execution_count": 251,
   "id": "7b63ca0d",
   "metadata": {},
   "outputs": [],
   "source": [
    "events_2 = events_2.rename(\n",
    "    columns= {'entity._id': 'ID', 'entity.name': 'Название события', \n",
    "              'entity.saleLink': 'Ссылка на покупку билета', \n",
    "              'entity.additionalSaleLinks.0': 'Дополнительная ссылка на покупку билета',\n",
    "             'entity.organization.name': 'Организатор мероприятия'}) "
   ]
  },
  {
   "cell_type": "code",
   "execution_count": 252,
   "id": "527134aa",
   "metadata": {},
   "outputs": [
    {
     "name": "stdout",
     "output_type": "stream",
     "text": [
      "<class 'pandas.core.frame.DataFrame'>\n",
      "RangeIndex: 47856 entries, 0 to 47855\n",
      "Data columns (total 6 columns):\n",
      " #   Column                                   Non-Null Count  Dtype  \n",
      "---  ------                                   --------------  -----  \n",
      " 0   ID                                       47856 non-null  int64  \n",
      " 1   Название события                         47220 non-null  object \n",
      " 2   Ссылка на покупку билета                 47218 non-null  object \n",
      " 3   Дополнительная ссылка на покупку билета  4636 non-null   object \n",
      " 4   entity.organization._id                  47220 non-null  float64\n",
      " 5   Организатор мероприятия                  47220 non-null  object \n",
      "dtypes: float64(1), int64(1), object(4)\n",
      "memory usage: 2.2+ MB\n"
     ]
    }
   ],
   "source": [
    "events_2.info()"
   ]
  },
  {
   "cell_type": "code",
   "execution_count": 253,
   "id": "d5ef9fdc",
   "metadata": {},
   "outputs": [],
   "source": [
    "events_all = pd.concat([events, events_2])"
   ]
  },
  {
   "cell_type": "code",
   "execution_count": 254,
   "id": "57141568",
   "metadata": {
    "scrolled": true
   },
   "outputs": [
    {
     "name": "stdout",
     "output_type": "stream",
     "text": [
      "<class 'pandas.core.frame.DataFrame'>\n",
      "Int64Index: 90010 entries, 0 to 47855\n",
      "Data columns (total 6 columns):\n",
      " #   Column                                   Non-Null Count  Dtype  \n",
      "---  ------                                   --------------  -----  \n",
      " 0   ID                                       90010 non-null  int64  \n",
      " 1   Название события                         89374 non-null  object \n",
      " 2   Организатор мероприятия                  89374 non-null  object \n",
      " 3   Ссылка на покупку билета                 89369 non-null  object \n",
      " 4   Дополнительная ссылка на покупку билета  8453 non-null   object \n",
      " 5   entity.organization._id                  47220 non-null  float64\n",
      "dtypes: float64(1), int64(1), object(4)\n",
      "memory usage: 4.8+ MB\n"
     ]
    }
   ],
   "source": [
    "events_all.info()"
   ]
  },
  {
   "cell_type": "code",
   "execution_count": 255,
   "id": "8dea185b",
   "metadata": {
    "scrolled": true
   },
   "outputs": [
    {
     "data": {
      "text/plain": [
       "array(['Спектакль «Касатка»', 'Спектакль «Гамлет»',\n",
       "       'Спектакль «Горе от ума»', ..., 'Акция «День Викинга»',\n",
       "       'Спектакль «Отворяя сердце настежь»',\n",
       "       'Концерт в рамках фестиваля «Звезды НСО РБ»'], dtype=object)"
      ]
     },
     "execution_count": 255,
     "metadata": {},
     "output_type": "execute_result"
    }
   ],
   "source": [
    "events_all['Название события'].unique()"
   ]
  },
  {
   "cell_type": "code",
   "execution_count": 256,
   "id": "a72518c9",
   "metadata": {},
   "outputs": [
    {
     "data": {
      "text/html": [
       "<div>\n",
       "<style scoped>\n",
       "    .dataframe tbody tr th:only-of-type {\n",
       "        vertical-align: middle;\n",
       "    }\n",
       "\n",
       "    .dataframe tbody tr th {\n",
       "        vertical-align: top;\n",
       "    }\n",
       "\n",
       "    .dataframe thead th {\n",
       "        text-align: right;\n",
       "    }\n",
       "</style>\n",
       "<table border=\"1\" class=\"dataframe\">\n",
       "  <thead>\n",
       "    <tr style=\"text-align: right;\">\n",
       "      <th></th>\n",
       "      <th>ID</th>\n",
       "      <th>Название события</th>\n",
       "      <th>Организатор мероприятия</th>\n",
       "      <th>Ссылка на покупку билета</th>\n",
       "      <th>Дополнительная ссылка на покупку билета</th>\n",
       "      <th>entity.organization._id</th>\n",
       "    </tr>\n",
       "  </thead>\n",
       "  <tbody>\n",
       "    <tr>\n",
       "      <th>5746</th>\n",
       "      <td>1230279</td>\n",
       "      <td>Спектакль «Волшебник Изумрудного города»</td>\n",
       "      <td>ГБУКиИ «Национальный молодежный театр Республи...</td>\n",
       "      <td>https://teatrnmt.ru/afisha/</td>\n",
       "      <td>NaN</td>\n",
       "      <td>NaN</td>\n",
       "    </tr>\n",
       "  </tbody>\n",
       "</table>\n",
       "</div>"
      ],
      "text/plain": [
       "           ID                          Название события  \\\n",
       "5746  1230279  Спектакль «Волшебник Изумрудного города»   \n",
       "\n",
       "                                Организатор мероприятия  \\\n",
       "5746  ГБУКиИ «Национальный молодежный театр Республи...   \n",
       "\n",
       "         Ссылка на покупку билета Дополнительная ссылка на покупку билета  \\\n",
       "5746  https://teatrnmt.ru/afisha/                                     NaN   \n",
       "\n",
       "      entity.organization._id  \n",
       "5746                      NaN  "
      ]
     },
     "execution_count": 256,
     "metadata": {},
     "output_type": "execute_result"
    }
   ],
   "source": [
    "events_all.sample()"
   ]
  },
  {
   "cell_type": "code",
   "execution_count": 257,
   "id": "7b4ed084",
   "metadata": {},
   "outputs": [],
   "source": [
    "events_all = events_all[events_all['Название события'].notna()]"
   ]
  },
  {
   "cell_type": "code",
   "execution_count": 258,
   "id": "8674b7de",
   "metadata": {},
   "outputs": [],
   "source": [
    "#создаю столбуц \"Событие\" куда соберу названия событий, такие как Спектакль, Балет и т.п. из первых слов Названия события\n",
    "events_all['Событие'] = events_all['Название события'].apply(lambda x: x.split()[0].strip())"
   ]
  },
  {
   "cell_type": "code",
   "execution_count": 259,
   "id": "6e43bcf3",
   "metadata": {},
   "outputs": [
    {
     "data": {
      "text/html": [
       "<div>\n",
       "<style scoped>\n",
       "    .dataframe tbody tr th:only-of-type {\n",
       "        vertical-align: middle;\n",
       "    }\n",
       "\n",
       "    .dataframe tbody tr th {\n",
       "        vertical-align: top;\n",
       "    }\n",
       "\n",
       "    .dataframe thead th {\n",
       "        text-align: right;\n",
       "    }\n",
       "</style>\n",
       "<table border=\"1\" class=\"dataframe\">\n",
       "  <thead>\n",
       "    <tr style=\"text-align: right;\">\n",
       "      <th></th>\n",
       "      <th>ID</th>\n",
       "      <th>Название события</th>\n",
       "      <th>Организатор мероприятия</th>\n",
       "      <th>Ссылка на покупку билета</th>\n",
       "      <th>Дополнительная ссылка на покупку билета</th>\n",
       "      <th>entity.organization._id</th>\n",
       "      <th>Событие</th>\n",
       "    </tr>\n",
       "  </thead>\n",
       "  <tbody>\n",
       "    <tr>\n",
       "      <th>27889</th>\n",
       "      <td>1313124</td>\n",
       "      <td>Концерт «Plus Испания Ultra»</td>\n",
       "      <td>ГБУК «Государственная академическая капелла Са...</td>\n",
       "      <td>https://capella-spb.ru/ru/afisha/koncerty-sezo...</td>\n",
       "      <td>NaN</td>\n",
       "      <td>6419.0</td>\n",
       "      <td>Концерт</td>\n",
       "    </tr>\n",
       "    <tr>\n",
       "      <th>41592</th>\n",
       "      <td>1428995</td>\n",
       "      <td>Оперетта «Зимний вечер в Шамони»</td>\n",
       "      <td>ГБУК г. Москвы «Московский академический Музык...</td>\n",
       "      <td>https://stanmus.ru/shows/zimnij-vecher-v-shamo...</td>\n",
       "      <td>NaN</td>\n",
       "      <td>5312.0</td>\n",
       "      <td>Оперетта</td>\n",
       "    </tr>\n",
       "    <tr>\n",
       "      <th>25180</th>\n",
       "      <td>1296377</td>\n",
       "      <td>Концерт «Вечер русской вокальной музыки»</td>\n",
       "      <td>ГАУК МО «Государственный историко-литературный...</td>\n",
       "      <td>https://widget.telegreen.ru/tickets/2c7e07edaf...</td>\n",
       "      <td>NaN</td>\n",
       "      <td>782.0</td>\n",
       "      <td>Концерт</td>\n",
       "    </tr>\n",
       "  </tbody>\n",
       "</table>\n",
       "</div>"
      ],
      "text/plain": [
       "            ID                          Название события  \\\n",
       "27889  1313124              Концерт «Plus Испания Ultra»   \n",
       "41592  1428995          Оперетта «Зимний вечер в Шамони»   \n",
       "25180  1296377  Концерт «Вечер русской вокальной музыки»   \n",
       "\n",
       "                                 Организатор мероприятия  \\\n",
       "27889  ГБУК «Государственная академическая капелла Са...   \n",
       "41592  ГБУК г. Москвы «Московский академический Музык...   \n",
       "25180  ГАУК МО «Государственный историко-литературный...   \n",
       "\n",
       "                                Ссылка на покупку билета  \\\n",
       "27889  https://capella-spb.ru/ru/afisha/koncerty-sezo...   \n",
       "41592  https://stanmus.ru/shows/zimnij-vecher-v-shamo...   \n",
       "25180  https://widget.telegreen.ru/tickets/2c7e07edaf...   \n",
       "\n",
       "      Дополнительная ссылка на покупку билета  entity.organization._id  \\\n",
       "27889                                     NaN                   6419.0   \n",
       "41592                                     NaN                   5312.0   \n",
       "25180                                     NaN                    782.0   \n",
       "\n",
       "        Событие  \n",
       "27889   Концерт  \n",
       "41592  Оперетта  \n",
       "25180   Концерт  "
      ]
     },
     "execution_count": 259,
     "metadata": {},
     "output_type": "execute_result"
    }
   ],
   "source": [
    "events_all.sample(3)"
   ]
  },
  {
   "cell_type": "code",
   "execution_count": 260,
   "id": "7f78b358",
   "metadata": {},
   "outputs": [
    {
     "data": {
      "text/plain": [
       "array(['Спектакль', 'Балет', 'Опера', ..., 'Хлебзавод',\n",
       "       'Трамвайно-пешеходная', '«Афганистан'], dtype=object)"
      ]
     },
     "execution_count": 260,
     "metadata": {},
     "output_type": "execute_result"
    }
   ],
   "source": [
    "events_all['Событие'].unique() #есть странные названия, посмотрим повнимательнее что у нас получилось"
   ]
  },
  {
   "cell_type": "code",
   "execution_count": 261,
   "id": "57da3f2a",
   "metadata": {},
   "outputs": [
    {
     "data": {
      "text/plain": [
       "Спектакль                31808\n",
       "Концерт                  15796\n",
       "Выставка                  5569\n",
       "Экскурсия                 5057\n",
       "Мастер-класс              4239\n",
       "                         ...  \n",
       "«Солдатская                  1\n",
       "«Танцы,                      1\n",
       "Беломорско-Балтийский        1\n",
       "Северная                     1\n",
       "«ВАЛЬС-КОНЦЕРТ»              1\n",
       "Name: Событие, Length: 2095, dtype: int64"
      ]
     },
     "execution_count": 261,
     "metadata": {},
     "output_type": "execute_result"
    }
   ],
   "source": [
    "events_all['Событие'].value_counts()"
   ]
  },
  {
   "cell_type": "code",
   "execution_count": 262,
   "id": "986cc083",
   "metadata": {
    "scrolled": true
   },
   "outputs": [
    {
     "data": {
      "text/html": [
       "<div>\n",
       "<style scoped>\n",
       "    .dataframe tbody tr th:only-of-type {\n",
       "        vertical-align: middle;\n",
       "    }\n",
       "\n",
       "    .dataframe tbody tr th {\n",
       "        vertical-align: top;\n",
       "    }\n",
       "\n",
       "    .dataframe thead th {\n",
       "        text-align: right;\n",
       "    }\n",
       "</style>\n",
       "<table border=\"1\" class=\"dataframe\">\n",
       "  <thead>\n",
       "    <tr style=\"text-align: right;\">\n",
       "      <th></th>\n",
       "      <th>ID</th>\n",
       "      <th>Название события</th>\n",
       "      <th>Организатор мероприятия</th>\n",
       "      <th>Ссылка на покупку билета</th>\n",
       "      <th>Дополнительная ссылка на покупку билета</th>\n",
       "      <th>entity.organization._id</th>\n",
       "      <th>Событие</th>\n",
       "    </tr>\n",
       "  </thead>\n",
       "  <tbody>\n",
       "    <tr>\n",
       "      <th>24804</th>\n",
       "      <td>1400515</td>\n",
       "      <td>«ВАЛЬС-КОНЦЕРТ» в рамках Всероссийской акции «...</td>\n",
       "      <td>ГАУК АО «Астраханская государственная филармония»</td>\n",
       "      <td>https://astr.kassir.ru/teatr/astrahanskaya-fil...</td>\n",
       "      <td>NaN</td>\n",
       "      <td>NaN</td>\n",
       "      <td>«ВАЛЬС-КОНЦЕРТ»</td>\n",
       "    </tr>\n",
       "  </tbody>\n",
       "</table>\n",
       "</div>"
      ],
      "text/plain": [
       "            ID                                   Название события  \\\n",
       "24804  1400515  «ВАЛЬС-КОНЦЕРТ» в рамках Всероссийской акции «...   \n",
       "\n",
       "                                 Организатор мероприятия  \\\n",
       "24804  ГАУК АО «Астраханская государственная филармония»   \n",
       "\n",
       "                                Ссылка на покупку билета  \\\n",
       "24804  https://astr.kassir.ru/teatr/astrahanskaya-fil...   \n",
       "\n",
       "      Дополнительная ссылка на покупку билета  entity.organization._id  \\\n",
       "24804                                     NaN                      NaN   \n",
       "\n",
       "               Событие  \n",
       "24804  «ВАЛЬС-КОНЦЕРТ»  "
      ]
     },
     "execution_count": 262,
     "metadata": {},
     "output_type": "execute_result"
    }
   ],
   "source": [
    "events_all[events_all['Событие'] == '«ВАЛЬС-КОНЦЕРТ»']"
   ]
  },
  {
   "cell_type": "code",
   "execution_count": 263,
   "id": "1361ca0f",
   "metadata": {},
   "outputs": [
    {
     "data": {
      "text/plain": [
       "2095"
      ]
     },
     "execution_count": 263,
     "metadata": {},
     "output_type": "execute_result"
    }
   ],
   "source": [
    "events_all['Событие'].nunique()"
   ]
  },
  {
   "cell_type": "code",
   "execution_count": 264,
   "id": "da9f4d5e",
   "metadata": {},
   "outputs": [
    {
     "data": {
      "text/plain": [
       "79681"
      ]
     },
     "execution_count": 264,
     "metadata": {},
     "output_type": "execute_result"
    }
   ],
   "source": [
    "# Посмотрю по рпавилу Паретто первые 40 Событий\n",
    "events_all['Событие'].value_counts()[:40].sum()"
   ]
  },
  {
   "cell_type": "code",
   "execution_count": 265,
   "id": "e6613521",
   "metadata": {},
   "outputs": [
    {
     "data": {
      "text/plain": [
       "0.8915456396714928"
      ]
     },
     "execution_count": 265,
     "metadata": {},
     "output_type": "execute_result"
    }
   ],
   "source": [
    "79681/89374 #первые 40 Событий это 89% от всех событий, всё что не входит в этот список назову \"Другое\""
   ]
  },
  {
   "cell_type": "code",
   "execution_count": 266,
   "id": "f18db6f8",
   "metadata": {},
   "outputs": [],
   "source": [
    "drugoe = events_all['Событие'].value_counts()[40:].index"
   ]
  },
  {
   "cell_type": "code",
   "execution_count": 267,
   "id": "0e76a1ea",
   "metadata": {},
   "outputs": [
    {
     "data": {
      "text/plain": [
       "Index(['Постоянная', 'Новогодний', 'Открытие', 'Квиз', 'Интеллектуальная',\n",
       "       'Автобусная', 'Сказка', 'Литературно-музыкальная', 'Театрализованная',\n",
       "       'Квест-игра',\n",
       "       ...\n",
       "       'Вокально-хореографический', 'Литературно-краеведческое', 'Пигмалион',\n",
       "       '«Здравствуйте,', '«Синяя-синяя', '«Солдатская', '«Танцы,',\n",
       "       'Беломорско-Балтийский', 'Северная', '«ВАЛЬС-КОНЦЕРТ»'],\n",
       "      dtype='object', length=2055)"
      ]
     },
     "execution_count": 267,
     "metadata": {},
     "output_type": "execute_result"
    }
   ],
   "source": [
    "drugoe"
   ]
  },
  {
   "cell_type": "code",
   "execution_count": 268,
   "id": "93bf4de1",
   "metadata": {},
   "outputs": [],
   "source": [
    "events_all['Событие'] = events_all['Событие'].apply(lambda x: 'Другое' if x in drugoe else x)"
   ]
  },
  {
   "cell_type": "code",
   "execution_count": 269,
   "id": "4e0cd520",
   "metadata": {},
   "outputs": [
    {
     "data": {
      "text/plain": [
       "Спектакль         31808\n",
       "Концерт           15796\n",
       "Другое             9693\n",
       "Выставка           5569\n",
       "Экскурсия          5057\n",
       "Мастер-класс       4239\n",
       "Программа          3681\n",
       "Лекция             1212\n",
       "Балет              1182\n",
       "Экспозиция         1161\n",
       "Опера              1020\n",
       "Мюзикл              859\n",
       "Обзорная            641\n",
       "Экспозиции          608\n",
       "Встреча             555\n",
       "Квест               545\n",
       "Интерактивная       524\n",
       "Вечер               392\n",
       "Тематическая        352\n",
       "Оперетта            304\n",
       "Музейный            276\n",
       "Игра                251\n",
       "Музыкальная         247\n",
       "Пешеходная          229\n",
       "Музейное            228\n",
       "Гала-концерт        227\n",
       "Занятие             217\n",
       "Фестиваль           207\n",
       "Праздник            205\n",
       "Концертная          204\n",
       "Моноспектакль       204\n",
       "Урок                185\n",
       "Музыкальный         176\n",
       "Познавательная      175\n",
       "Интерактивное       171\n",
       "Полнокупольная      166\n",
       "Посещение           165\n",
       "Творческий          164\n",
       "Ночь                162\n",
       "Цикл                159\n",
       "Творческая          158\n",
       "Name: Событие, dtype: int64"
      ]
     },
     "execution_count": 269,
     "metadata": {},
     "output_type": "execute_result"
    }
   ],
   "source": [
    "events_all['Событие'].value_counts()\n",
    "#посмотрим что получилось\n",
    "#Есть похожие События, типа Экспозиция и Экспозиции, похоже по смыслу они входят в выставки, посмотрю внимательно"
   ]
  },
  {
   "cell_type": "code",
   "execution_count": 270,
   "id": "b3945d73",
   "metadata": {
    "scrolled": true
   },
   "outputs": [
    {
     "data": {
      "text/html": [
       "<div>\n",
       "<style scoped>\n",
       "    .dataframe tbody tr th:only-of-type {\n",
       "        vertical-align: middle;\n",
       "    }\n",
       "\n",
       "    .dataframe tbody tr th {\n",
       "        vertical-align: top;\n",
       "    }\n",
       "\n",
       "    .dataframe thead th {\n",
       "        text-align: right;\n",
       "    }\n",
       "</style>\n",
       "<table border=\"1\" class=\"dataframe\">\n",
       "  <thead>\n",
       "    <tr style=\"text-align: right;\">\n",
       "      <th></th>\n",
       "      <th>ID</th>\n",
       "      <th>Название события</th>\n",
       "      <th>Организатор мероприятия</th>\n",
       "      <th>Ссылка на покупку билета</th>\n",
       "      <th>Дополнительная ссылка на покупку билета</th>\n",
       "      <th>entity.organization._id</th>\n",
       "      <th>Событие</th>\n",
       "    </tr>\n",
       "  </thead>\n",
       "  <tbody>\n",
       "    <tr>\n",
       "      <th>148</th>\n",
       "      <td>13404</td>\n",
       "      <td>Экспозиция «Природа Удмуртии»</td>\n",
       "      <td>БУК УР «Национальный музей Удмуртской Республи...</td>\n",
       "      <td>https://vmuzey.com/event/ekspoziciya-priroda-u...</td>\n",
       "      <td>NaN</td>\n",
       "      <td>NaN</td>\n",
       "      <td>Экспозиция</td>\n",
       "    </tr>\n",
       "    <tr>\n",
       "      <th>1020</th>\n",
       "      <td>134885</td>\n",
       "      <td>Экспозиция Музея истории Томска</td>\n",
       "      <td>МАУ «Музей истории Томска»</td>\n",
       "      <td>https://vmuzey.com/event/osnovnaya-ekspoziciya...</td>\n",
       "      <td>NaN</td>\n",
       "      <td>NaN</td>\n",
       "      <td>Экспозиция</td>\n",
       "    </tr>\n",
       "    <tr>\n",
       "      <th>1431</th>\n",
       "      <td>238052</td>\n",
       "      <td>Экспозиция «Портрет семьи Сухановых»</td>\n",
       "      <td>ФГБУК «Музей истории Дальнего Востока имени В....</td>\n",
       "      <td>https://arseniev.tncloud.ru/event/F22EAD127AE3...</td>\n",
       "      <td>NaN</td>\n",
       "      <td>NaN</td>\n",
       "      <td>Экспозиция</td>\n",
       "    </tr>\n",
       "    <tr>\n",
       "      <th>1712</th>\n",
       "      <td>339112</td>\n",
       "      <td>Экспозиция «Модель Большого Кремлевского дворц...</td>\n",
       "      <td>ФГБУК «Государственный научно-исследовательски...</td>\n",
       "      <td>https://vmuzey.com/event/model-bolshogo-kremle...</td>\n",
       "      <td>NaN</td>\n",
       "      <td>NaN</td>\n",
       "      <td>Экспозиция</td>\n",
       "    </tr>\n",
       "    <tr>\n",
       "      <th>1740</th>\n",
       "      <td>344612</td>\n",
       "      <td>Экспозиция «Мемориальная квартира Анны Ахматовой»</td>\n",
       "      <td>СПб ГБУК «Государственный литературно-мемориал...</td>\n",
       "      <td>https://akhmatova.tncloud.ru/event/97FC3A23AE9...</td>\n",
       "      <td>NaN</td>\n",
       "      <td>NaN</td>\n",
       "      <td>Экспозиция</td>\n",
       "    </tr>\n",
       "    <tr>\n",
       "      <th>1758</th>\n",
       "      <td>348988</td>\n",
       "      <td>Экспозиция Мемориального дома-музея И. Левитана</td>\n",
       "      <td>ГБУИО «Плесский музей-заповедник»</td>\n",
       "      <td>https://ples-museum.tncloud.ru/event/D822DB018...</td>\n",
       "      <td>NaN</td>\n",
       "      <td>NaN</td>\n",
       "      <td>Экспозиция</td>\n",
       "    </tr>\n",
       "    <tr>\n",
       "      <th>1762</th>\n",
       "      <td>349182</td>\n",
       "      <td>Экспозиция Дома-музея Виктора Васнецова</td>\n",
       "      <td>ФГБУК «Всероссийское музейное объединение «Гос...</td>\n",
       "      <td>https://www.tretyakovgallery.ru/tickets#/buy/e...</td>\n",
       "      <td>NaN</td>\n",
       "      <td>NaN</td>\n",
       "      <td>Экспозиция</td>\n",
       "    </tr>\n",
       "    <tr>\n",
       "      <th>1777</th>\n",
       "      <td>352703</td>\n",
       "      <td>Экспозиция «Русское искусство XVI – начала XX ...</td>\n",
       "      <td>ГБУК КК «Краснодарский краевой художественный ...</td>\n",
       "      <td>http://kovalenkomuseum.ru/</td>\n",
       "      <td>NaN</td>\n",
       "      <td>NaN</td>\n",
       "      <td>Экспозиция</td>\n",
       "    </tr>\n",
       "    <tr>\n",
       "      <th>1874</th>\n",
       "      <td>382187</td>\n",
       "      <td>Экспозиция Музея бронетанковой техники</td>\n",
       "      <td>ФГБУК «Государственный военно-исторический муз...</td>\n",
       "      <td>https://vmuzey.com/event/ekspoziciya-muzeya-br...</td>\n",
       "      <td>NaN</td>\n",
       "      <td>NaN</td>\n",
       "      <td>Экспозиция</td>\n",
       "    </tr>\n",
       "    <tr>\n",
       "      <th>1979</th>\n",
       "      <td>427287</td>\n",
       "      <td>Экспозиция «Ивнянский край в потоке времени»</td>\n",
       "      <td>МКУК «Ивнянский историко-краеведческий музей»</td>\n",
       "      <td>https://bel.cultreg.ru/places/58/ivnyanskii-is...</td>\n",
       "      <td>NaN</td>\n",
       "      <td>NaN</td>\n",
       "      <td>Экспозиция</td>\n",
       "    </tr>\n",
       "    <tr>\n",
       "      <th>2045</th>\n",
       "      <td>465954</td>\n",
       "      <td>Экспозиция Музейного центра имени А. И. Солжен...</td>\n",
       "      <td>ФГБУК «Рязанский историко-архитектурный музей-...</td>\n",
       "      <td>https://api-museum.kassy.ru/38/services_ex2/</td>\n",
       "      <td>NaN</td>\n",
       "      <td>NaN</td>\n",
       "      <td>Экспозиция</td>\n",
       "    </tr>\n",
       "    <tr>\n",
       "      <th>2186</th>\n",
       "      <td>509828</td>\n",
       "      <td>Экспозиция Музея-квартиры Аполлинария Васнецова</td>\n",
       "      <td>ФГБУК «Всероссийское музейное объединение «Гос...</td>\n",
       "      <td>https://www.tretyakovgallery.ru/tickets#/buy/e...</td>\n",
       "      <td>NaN</td>\n",
       "      <td>NaN</td>\n",
       "      <td>Экспозиция</td>\n",
       "    </tr>\n",
       "    <tr>\n",
       "      <th>2199</th>\n",
       "      <td>516283</td>\n",
       "      <td>Экспозиция «История и культура края VIII тысяч...</td>\n",
       "      <td>БУК УР «Национальный музей Удмуртской Республи...</td>\n",
       "      <td>https://vmuzey.com/event/ekspoziciya-istoriya-...</td>\n",
       "      <td>NaN</td>\n",
       "      <td>NaN</td>\n",
       "      <td>Экспозиция</td>\n",
       "    </tr>\n",
       "    <tr>\n",
       "      <th>2332</th>\n",
       "      <td>564732</td>\n",
       "      <td>Экспозиция «Литературный кабинет Сергея Григор...</td>\n",
       "      <td>ГБУК РМЭ «Национальная библиотека имени С. Г. ...</td>\n",
       "      <td>https://widget.afisha.yandex.ru/w/events/24827...</td>\n",
       "      <td>NaN</td>\n",
       "      <td>NaN</td>\n",
       "      <td>Экспозиция</td>\n",
       "    </tr>\n",
       "    <tr>\n",
       "      <th>2431</th>\n",
       "      <td>605375</td>\n",
       "      <td>Экспозиция музея «Третье ратное поле России»</td>\n",
       "      <td>ФГБУК «Государственный военно-исторический муз...</td>\n",
       "      <td>https://vmuzey.com/event/ekspoziciya-muzeya-tr...</td>\n",
       "      <td>NaN</td>\n",
       "      <td>NaN</td>\n",
       "      <td>Экспозиция</td>\n",
       "    </tr>\n",
       "    <tr>\n",
       "      <th>2445</th>\n",
       "      <td>651047</td>\n",
       "      <td>Экспозиция «Троице-Сергиева Лавра: архитектурн...</td>\n",
       "      <td>Сергиево-Посадский государственный историко-ху...</td>\n",
       "      <td>https://sergiev-posad.tncloud.ru/#/event/6E27E...</td>\n",
       "      <td>NaN</td>\n",
       "      <td>NaN</td>\n",
       "      <td>Экспозиция</td>\n",
       "    </tr>\n",
       "    <tr>\n",
       "      <th>2446</th>\n",
       "      <td>651058</td>\n",
       "      <td>Экспозиция «Древнейшее прошлое Сергиево-Посадс...</td>\n",
       "      <td>Сергиево-Посадский государственный историко-ху...</td>\n",
       "      <td>https://sergiev-posad.tncloud.ru/#/event/6E27E...</td>\n",
       "      <td>NaN</td>\n",
       "      <td>NaN</td>\n",
       "      <td>Экспозиция</td>\n",
       "    </tr>\n",
       "    <tr>\n",
       "      <th>2456</th>\n",
       "      <td>684230</td>\n",
       "      <td>Экспозиция «История Ярославского края»</td>\n",
       "      <td>ГАУК ЯО «Ярославский государственный историко-...</td>\n",
       "      <td>https://yarkremlin.ru/museum/istoriya-yaroslav...</td>\n",
       "      <td>NaN</td>\n",
       "      <td>NaN</td>\n",
       "      <td>Экспозиция</td>\n",
       "    </tr>\n",
       "    <tr>\n",
       "      <th>2457</th>\n",
       "      <td>684825</td>\n",
       "      <td>Экспозиция «Битва за оружие Великой Победы»</td>\n",
       "      <td>ФГБУК «Государственный военно-исторический муз...</td>\n",
       "      <td>https://vmuzey.com/event/postoyannaya-ekspozic...</td>\n",
       "      <td>NaN</td>\n",
       "      <td>NaN</td>\n",
       "      <td>Экспозиция</td>\n",
       "    </tr>\n",
       "    <tr>\n",
       "      <th>2459</th>\n",
       "      <td>688035</td>\n",
       "      <td>Экспозиция «Слово о полку Игореве»</td>\n",
       "      <td>ГАУК ЯО «Ярославский государственный историко-...</td>\n",
       "      <td>https://yarkremlin.ru/museum/slovo-o-polku-igo...</td>\n",
       "      <td>NaN</td>\n",
       "      <td>NaN</td>\n",
       "      <td>Экспозиция</td>\n",
       "    </tr>\n",
       "  </tbody>\n",
       "</table>\n",
       "</div>"
      ],
      "text/plain": [
       "          ID                                   Название события  \\\n",
       "148    13404                      Экспозиция «Природа Удмуртии»   \n",
       "1020  134885                    Экспозиция Музея истории Томска   \n",
       "1431  238052               Экспозиция «Портрет семьи Сухановых»   \n",
       "1712  339112  Экспозиция «Модель Большого Кремлевского дворц...   \n",
       "1740  344612  Экспозиция «Мемориальная квартира Анны Ахматовой»   \n",
       "1758  348988    Экспозиция Мемориального дома-музея И. Левитана   \n",
       "1762  349182            Экспозиция Дома-музея Виктора Васнецова   \n",
       "1777  352703  Экспозиция «Русское искусство XVI – начала XX ...   \n",
       "1874  382187             Экспозиция Музея бронетанковой техники   \n",
       "1979  427287       Экспозиция «Ивнянский край в потоке времени»   \n",
       "2045  465954  Экспозиция Музейного центра имени А. И. Солжен...   \n",
       "2186  509828    Экспозиция Музея-квартиры Аполлинария Васнецова   \n",
       "2199  516283  Экспозиция «История и культура края VIII тысяч...   \n",
       "2332  564732  Экспозиция «Литературный кабинет Сергея Григор...   \n",
       "2431  605375       Экспозиция музея «Третье ратное поле России»   \n",
       "2445  651047  Экспозиция «Троице-Сергиева Лавра: архитектурн...   \n",
       "2446  651058  Экспозиция «Древнейшее прошлое Сергиево-Посадс...   \n",
       "2456  684230             Экспозиция «История Ярославского края»   \n",
       "2457  684825        Экспозиция «Битва за оружие Великой Победы»   \n",
       "2459  688035                 Экспозиция «Слово о полку Игореве»   \n",
       "\n",
       "                                Организатор мероприятия  \\\n",
       "148   БУК УР «Национальный музей Удмуртской Республи...   \n",
       "1020                         МАУ «Музей истории Томска»   \n",
       "1431  ФГБУК «Музей истории Дальнего Востока имени В....   \n",
       "1712  ФГБУК «Государственный научно-исследовательски...   \n",
       "1740  СПб ГБУК «Государственный литературно-мемориал...   \n",
       "1758                  ГБУИО «Плесский музей-заповедник»   \n",
       "1762  ФГБУК «Всероссийское музейное объединение «Гос...   \n",
       "1777  ГБУК КК «Краснодарский краевой художественный ...   \n",
       "1874  ФГБУК «Государственный военно-исторический муз...   \n",
       "1979      МКУК «Ивнянский историко-краеведческий музей»   \n",
       "2045  ФГБУК «Рязанский историко-архитектурный музей-...   \n",
       "2186  ФГБУК «Всероссийское музейное объединение «Гос...   \n",
       "2199  БУК УР «Национальный музей Удмуртской Республи...   \n",
       "2332  ГБУК РМЭ «Национальная библиотека имени С. Г. ...   \n",
       "2431  ФГБУК «Государственный военно-исторический муз...   \n",
       "2445  Сергиево-Посадский государственный историко-ху...   \n",
       "2446  Сергиево-Посадский государственный историко-ху...   \n",
       "2456  ГАУК ЯО «Ярославский государственный историко-...   \n",
       "2457  ФГБУК «Государственный военно-исторический муз...   \n",
       "2459  ГАУК ЯО «Ярославский государственный историко-...   \n",
       "\n",
       "                               Ссылка на покупку билета  \\\n",
       "148   https://vmuzey.com/event/ekspoziciya-priroda-u...   \n",
       "1020  https://vmuzey.com/event/osnovnaya-ekspoziciya...   \n",
       "1431  https://arseniev.tncloud.ru/event/F22EAD127AE3...   \n",
       "1712  https://vmuzey.com/event/model-bolshogo-kremle...   \n",
       "1740  https://akhmatova.tncloud.ru/event/97FC3A23AE9...   \n",
       "1758  https://ples-museum.tncloud.ru/event/D822DB018...   \n",
       "1762  https://www.tretyakovgallery.ru/tickets#/buy/e...   \n",
       "1777                         http://kovalenkomuseum.ru/   \n",
       "1874  https://vmuzey.com/event/ekspoziciya-muzeya-br...   \n",
       "1979  https://bel.cultreg.ru/places/58/ivnyanskii-is...   \n",
       "2045       https://api-museum.kassy.ru/38/services_ex2/   \n",
       "2186  https://www.tretyakovgallery.ru/tickets#/buy/e...   \n",
       "2199  https://vmuzey.com/event/ekspoziciya-istoriya-...   \n",
       "2332  https://widget.afisha.yandex.ru/w/events/24827...   \n",
       "2431  https://vmuzey.com/event/ekspoziciya-muzeya-tr...   \n",
       "2445  https://sergiev-posad.tncloud.ru/#/event/6E27E...   \n",
       "2446  https://sergiev-posad.tncloud.ru/#/event/6E27E...   \n",
       "2456  https://yarkremlin.ru/museum/istoriya-yaroslav...   \n",
       "2457  https://vmuzey.com/event/postoyannaya-ekspozic...   \n",
       "2459  https://yarkremlin.ru/museum/slovo-o-polku-igo...   \n",
       "\n",
       "     Дополнительная ссылка на покупку билета  entity.organization._id  \\\n",
       "148                                      NaN                      NaN   \n",
       "1020                                     NaN                      NaN   \n",
       "1431                                     NaN                      NaN   \n",
       "1712                                     NaN                      NaN   \n",
       "1740                                     NaN                      NaN   \n",
       "1758                                     NaN                      NaN   \n",
       "1762                                     NaN                      NaN   \n",
       "1777                                     NaN                      NaN   \n",
       "1874                                     NaN                      NaN   \n",
       "1979                                     NaN                      NaN   \n",
       "2045                                     NaN                      NaN   \n",
       "2186                                     NaN                      NaN   \n",
       "2199                                     NaN                      NaN   \n",
       "2332                                     NaN                      NaN   \n",
       "2431                                     NaN                      NaN   \n",
       "2445                                     NaN                      NaN   \n",
       "2446                                     NaN                      NaN   \n",
       "2456                                     NaN                      NaN   \n",
       "2457                                     NaN                      NaN   \n",
       "2459                                     NaN                      NaN   \n",
       "\n",
       "         Событие  \n",
       "148   Экспозиция  \n",
       "1020  Экспозиция  \n",
       "1431  Экспозиция  \n",
       "1712  Экспозиция  \n",
       "1740  Экспозиция  \n",
       "1758  Экспозиция  \n",
       "1762  Экспозиция  \n",
       "1777  Экспозиция  \n",
       "1874  Экспозиция  \n",
       "1979  Экспозиция  \n",
       "2045  Экспозиция  \n",
       "2186  Экспозиция  \n",
       "2199  Экспозиция  \n",
       "2332  Экспозиция  \n",
       "2431  Экспозиция  \n",
       "2445  Экспозиция  \n",
       "2446  Экспозиция  \n",
       "2456  Экспозиция  \n",
       "2457  Экспозиция  \n",
       "2459  Экспозиция  "
      ]
     },
     "execution_count": 270,
     "metadata": {},
     "output_type": "execute_result"
    }
   ],
   "source": [
    "events_all[events_all['Событие'] == 'Экспозиция'][:20]"
   ]
  },
  {
   "cell_type": "code",
   "execution_count": 271,
   "id": "cabe996e",
   "metadata": {
    "scrolled": true
   },
   "outputs": [
    {
     "data": {
      "text/html": [
       "<div>\n",
       "<style scoped>\n",
       "    .dataframe tbody tr th:only-of-type {\n",
       "        vertical-align: middle;\n",
       "    }\n",
       "\n",
       "    .dataframe tbody tr th {\n",
       "        vertical-align: top;\n",
       "    }\n",
       "\n",
       "    .dataframe thead th {\n",
       "        text-align: right;\n",
       "    }\n",
       "</style>\n",
       "<table border=\"1\" class=\"dataframe\">\n",
       "  <thead>\n",
       "    <tr style=\"text-align: right;\">\n",
       "      <th></th>\n",
       "      <th>ID</th>\n",
       "      <th>Название события</th>\n",
       "      <th>Организатор мероприятия</th>\n",
       "      <th>Ссылка на покупку билета</th>\n",
       "      <th>Дополнительная ссылка на покупку билета</th>\n",
       "      <th>entity.organization._id</th>\n",
       "      <th>Событие</th>\n",
       "    </tr>\n",
       "  </thead>\n",
       "  <tbody>\n",
       "    <tr>\n",
       "      <th>3705</th>\n",
       "      <td>904409</td>\n",
       "      <td>Экспозиции Музея стекла Алексея Зеля</td>\n",
       "      <td>ГБУК КО «Калужский музей изобразительных искус...</td>\n",
       "      <td>https://vmuzey.com/museum/muzey-stekla-aleksey...</td>\n",
       "      <td>NaN</td>\n",
       "      <td>NaN</td>\n",
       "      <td>Экспозиции</td>\n",
       "    </tr>\n",
       "    <tr>\n",
       "      <th>6023</th>\n",
       "      <td>1234843</td>\n",
       "      <td>Экспозиции Музея политической истории России</td>\n",
       "      <td>ФГБУК «Государственный музей политической исто...</td>\n",
       "      <td>https://polithistory.ru/visit_us/tickets/</td>\n",
       "      <td>NaN</td>\n",
       "      <td>NaN</td>\n",
       "      <td>Экспозиции</td>\n",
       "    </tr>\n",
       "    <tr>\n",
       "      <th>6514</th>\n",
       "      <td>1242499</td>\n",
       "      <td>Экспозиции Музея истории Екатеринбурга</td>\n",
       "      <td>МАУК «Музей истории Екатеринбурга»</td>\n",
       "      <td>https://m-i-e.ru/pushkinkarta</td>\n",
       "      <td>NaN</td>\n",
       "      <td>NaN</td>\n",
       "      <td>Экспозиции</td>\n",
       "    </tr>\n",
       "    <tr>\n",
       "      <th>7278</th>\n",
       "      <td>1245803</td>\n",
       "      <td>Экспозиции Российского этнографического музея</td>\n",
       "      <td>ФГБУК «Российский этнографический музей»</td>\n",
       "      <td>https://tickets.ethnomuseum.ru/event/BE56BD176...</td>\n",
       "      <td>NaN</td>\n",
       "      <td>NaN</td>\n",
       "      <td>Экспозиции</td>\n",
       "    </tr>\n",
       "    <tr>\n",
       "      <th>7306</th>\n",
       "      <td>1245900</td>\n",
       "      <td>Экспозиции комплекса ладожской крепости</td>\n",
       "      <td>ГБУК ЛО «Музей-заповедник «Старая Ладога»</td>\n",
       "      <td>https://ladogamuseum.tncloud.ru/event/AE8C9315...</td>\n",
       "      <td>NaN</td>\n",
       "      <td>NaN</td>\n",
       "      <td>Экспозиции</td>\n",
       "    </tr>\n",
       "    <tr>\n",
       "      <th>7637</th>\n",
       "      <td>1247209</td>\n",
       "      <td>Экспозиции Любытинского краеведческого музея</td>\n",
       "      <td>МБУК «Любытинский краеведческий музей»</td>\n",
       "      <td>https://vmuzey.com/museum/lyubytinskiy-kraeved...</td>\n",
       "      <td>NaN</td>\n",
       "      <td>NaN</td>\n",
       "      <td>Экспозиции</td>\n",
       "    </tr>\n",
       "    <tr>\n",
       "      <th>7650</th>\n",
       "      <td>1247258</td>\n",
       "      <td>Экспозиции Музея-заповедника М. Ю. Лермонтова</td>\n",
       "      <td>ГБУК СК «Государственный музей-заповедник М.Ю....</td>\n",
       "      <td>https://vmuzey.com/event/poseshchenie-ekspozic...</td>\n",
       "      <td>NaN</td>\n",
       "      <td>NaN</td>\n",
       "      <td>Экспозиции</td>\n",
       "    </tr>\n",
       "    <tr>\n",
       "      <th>7822</th>\n",
       "      <td>1248101</td>\n",
       "      <td>Экспозиции музейно-мемориального комплекса «По...</td>\n",
       "      <td>ГБУК СО «Музейно-мемориальный комплекс «Победа»</td>\n",
       "      <td>https://vmuzey.com/museum/muzeyno-memorialnyy-...</td>\n",
       "      <td>NaN</td>\n",
       "      <td>NaN</td>\n",
       "      <td>Экспозиции</td>\n",
       "    </tr>\n",
       "    <tr>\n",
       "      <th>8067</th>\n",
       "      <td>1249519</td>\n",
       "      <td>Экспозиции Музея археологии Москвы</td>\n",
       "      <td>ГБУК «Музейное объединение «Музей Москвы»</td>\n",
       "      <td>https://listim.com/iframe/257/api?gclid=427617...</td>\n",
       "      <td>https://www.mos.ru/afisha/event/146318257/</td>\n",
       "      <td>NaN</td>\n",
       "      <td>Экспозиции</td>\n",
       "    </tr>\n",
       "    <tr>\n",
       "      <th>8127</th>\n",
       "      <td>1249761</td>\n",
       "      <td>Экспозиции Оранжерейного комплекса</td>\n",
       "      <td>ГБУК г. Москвы «Государственный историко-архит...</td>\n",
       "      <td>https://www.mos.ru/afisha/event/101217257/</td>\n",
       "      <td>NaN</td>\n",
       "      <td>NaN</td>\n",
       "      <td>Экспозиции</td>\n",
       "    </tr>\n",
       "    <tr>\n",
       "      <th>8147</th>\n",
       "      <td>1249825</td>\n",
       "      <td>Экспозиции Большого дворца и Хлебного дома</td>\n",
       "      <td>ГБУК г. Москвы «Государственный историко-архит...</td>\n",
       "      <td>https://www.mos.ru/afisha/event/109083257/</td>\n",
       "      <td>NaN</td>\n",
       "      <td>NaN</td>\n",
       "      <td>Экспозиции</td>\n",
       "    </tr>\n",
       "    <tr>\n",
       "      <th>8155</th>\n",
       "      <td>1249864</td>\n",
       "      <td>Экспозиции Дворцово-выставочного комплекса и о...</td>\n",
       "      <td>ГБУК г. Москвы «Государственный историко-архит...</td>\n",
       "      <td>https://www.mos.ru/afisha/venues/24211/</td>\n",
       "      <td>https://www.mos.ru/afisha/event/167318257/, ht...</td>\n",
       "      <td>NaN</td>\n",
       "      <td>Экспозиции</td>\n",
       "    </tr>\n",
       "    <tr>\n",
       "      <th>8156</th>\n",
       "      <td>1249872</td>\n",
       "      <td>Экспозиции Оперного дома</td>\n",
       "      <td>ГБУК г. Москвы «Государственный историко-архит...</td>\n",
       "      <td>https://www.mos.ru/afisha/event/426257/</td>\n",
       "      <td>NaN</td>\n",
       "      <td>NaN</td>\n",
       "      <td>Экспозиции</td>\n",
       "    </tr>\n",
       "    <tr>\n",
       "      <th>8157</th>\n",
       "      <td>1249882</td>\n",
       "      <td>Экспозиции Третьего Кавалерского корпуса</td>\n",
       "      <td>ГБУК г. Москвы «Государственный историко-архит...</td>\n",
       "      <td>https://www.mos.ru/afisha/event/428257/</td>\n",
       "      <td>NaN</td>\n",
       "      <td>NaN</td>\n",
       "      <td>Экспозиции</td>\n",
       "    </tr>\n",
       "    <tr>\n",
       "      <th>8283</th>\n",
       "      <td>1250649</td>\n",
       "      <td>Экспозиции Картинной галереи г. Волжского</td>\n",
       "      <td>МУ «Волжский музейно-выставочный комплекс»</td>\n",
       "      <td>https://museum-vlz.ru/ekspoziczii/170-meropriy...</td>\n",
       "      <td>NaN</td>\n",
       "      <td>NaN</td>\n",
       "      <td>Экспозиции</td>\n",
       "    </tr>\n",
       "    <tr>\n",
       "      <th>8420</th>\n",
       "      <td>1252100</td>\n",
       "      <td>Экспозиции музея-заповедника П. И. Чайковского</td>\n",
       "      <td>ГАУК «Государственный мемориальный музыкальный...</td>\n",
       "      <td>https://tchaikovsky.house/?listim_open_widget=1</td>\n",
       "      <td>NaN</td>\n",
       "      <td>NaN</td>\n",
       "      <td>Экспозиции</td>\n",
       "    </tr>\n",
       "    <tr>\n",
       "      <th>8487</th>\n",
       "      <td>1252794</td>\n",
       "      <td>Экспозиции путевого дворца в деревне Коростынь</td>\n",
       "      <td>ГБУКИ «Государственный музей художественной ку...</td>\n",
       "      <td>https://vmuzey.com/event/poseshchenie-ekspozic...</td>\n",
       "      <td>https://vmuzey.com/museum/putevoy-dvorec-korostyn</td>\n",
       "      <td>NaN</td>\n",
       "      <td>Экспозиции</td>\n",
       "    </tr>\n",
       "    <tr>\n",
       "      <th>8585</th>\n",
       "      <td>1253575</td>\n",
       "      <td>Экспозиции Волжского историко-краеведческого м...</td>\n",
       "      <td>МУ «Волжский музейно-выставочный комплекс»</td>\n",
       "      <td>https://museum-vlz.ru/ekspoziczii/169-meropriy...</td>\n",
       "      <td>NaN</td>\n",
       "      <td>NaN</td>\n",
       "      <td>Экспозиции</td>\n",
       "    </tr>\n",
       "    <tr>\n",
       "      <th>8659</th>\n",
       "      <td>1254228</td>\n",
       "      <td>Экспозиции Азовского музея-заповедника</td>\n",
       "      <td>ГБУК РО «Азовский историко-археологический и п...</td>\n",
       "      <td>https://vmuzey.com/event/ekspozicii-azovskogo-...</td>\n",
       "      <td>NaN</td>\n",
       "      <td>NaN</td>\n",
       "      <td>Экспозиции</td>\n",
       "    </tr>\n",
       "    <tr>\n",
       "      <th>9128</th>\n",
       "      <td>1257540</td>\n",
       "      <td>Экспозиции музея «Тульские самовары»</td>\n",
       "      <td>ГУК ТО «Тульское музейное объединение»</td>\n",
       "      <td>https://vmuzey.com/event/vhod-v-muzey-tulskie-...</td>\n",
       "      <td>NaN</td>\n",
       "      <td>NaN</td>\n",
       "      <td>Экспозиции</td>\n",
       "    </tr>\n",
       "  </tbody>\n",
       "</table>\n",
       "</div>"
      ],
      "text/plain": [
       "           ID                                   Название события  \\\n",
       "3705   904409               Экспозиции Музея стекла Алексея Зеля   \n",
       "6023  1234843       Экспозиции Музея политической истории России   \n",
       "6514  1242499             Экспозиции Музея истории Екатеринбурга   \n",
       "7278  1245803      Экспозиции Российского этнографического музея   \n",
       "7306  1245900            Экспозиции комплекса ладожской крепости   \n",
       "7637  1247209       Экспозиции Любытинского краеведческого музея   \n",
       "7650  1247258      Экспозиции Музея-заповедника М. Ю. Лермонтова   \n",
       "7822  1248101  Экспозиции музейно-мемориального комплекса «По...   \n",
       "8067  1249519                 Экспозиции Музея археологии Москвы   \n",
       "8127  1249761                 Экспозиции Оранжерейного комплекса   \n",
       "8147  1249825         Экспозиции Большого дворца и Хлебного дома   \n",
       "8155  1249864  Экспозиции Дворцово-выставочного комплекса и о...   \n",
       "8156  1249872                           Экспозиции Оперного дома   \n",
       "8157  1249882           Экспозиции Третьего Кавалерского корпуса   \n",
       "8283  1250649          Экспозиции Картинной галереи г. Волжского   \n",
       "8420  1252100     Экспозиции музея-заповедника П. И. Чайковского   \n",
       "8487  1252794     Экспозиции путевого дворца в деревне Коростынь   \n",
       "8585  1253575  Экспозиции Волжского историко-краеведческого м...   \n",
       "8659  1254228             Экспозиции Азовского музея-заповедника   \n",
       "9128  1257540               Экспозиции музея «Тульские самовары»   \n",
       "\n",
       "                                Организатор мероприятия  \\\n",
       "3705  ГБУК КО «Калужский музей изобразительных искус...   \n",
       "6023  ФГБУК «Государственный музей политической исто...   \n",
       "6514                 МАУК «Музей истории Екатеринбурга»   \n",
       "7278           ФГБУК «Российский этнографический музей»   \n",
       "7306          ГБУК ЛО «Музей-заповедник «Старая Ладога»   \n",
       "7637             МБУК «Любытинский краеведческий музей»   \n",
       "7650  ГБУК СК «Государственный музей-заповедник М.Ю....   \n",
       "7822    ГБУК СО «Музейно-мемориальный комплекс «Победа»   \n",
       "8067          ГБУК «Музейное объединение «Музей Москвы»   \n",
       "8127  ГБУК г. Москвы «Государственный историко-архит...   \n",
       "8147  ГБУК г. Москвы «Государственный историко-архит...   \n",
       "8155  ГБУК г. Москвы «Государственный историко-архит...   \n",
       "8156  ГБУК г. Москвы «Государственный историко-архит...   \n",
       "8157  ГБУК г. Москвы «Государственный историко-архит...   \n",
       "8283         МУ «Волжский музейно-выставочный комплекс»   \n",
       "8420  ГАУК «Государственный мемориальный музыкальный...   \n",
       "8487  ГБУКИ «Государственный музей художественной ку...   \n",
       "8585         МУ «Волжский музейно-выставочный комплекс»   \n",
       "8659  ГБУК РО «Азовский историко-археологический и п...   \n",
       "9128             ГУК ТО «Тульское музейное объединение»   \n",
       "\n",
       "                               Ссылка на покупку билета  \\\n",
       "3705  https://vmuzey.com/museum/muzey-stekla-aleksey...   \n",
       "6023          https://polithistory.ru/visit_us/tickets/   \n",
       "6514                      https://m-i-e.ru/pushkinkarta   \n",
       "7278  https://tickets.ethnomuseum.ru/event/BE56BD176...   \n",
       "7306  https://ladogamuseum.tncloud.ru/event/AE8C9315...   \n",
       "7637  https://vmuzey.com/museum/lyubytinskiy-kraeved...   \n",
       "7650  https://vmuzey.com/event/poseshchenie-ekspozic...   \n",
       "7822  https://vmuzey.com/museum/muzeyno-memorialnyy-...   \n",
       "8067  https://listim.com/iframe/257/api?gclid=427617...   \n",
       "8127         https://www.mos.ru/afisha/event/101217257/   \n",
       "8147         https://www.mos.ru/afisha/event/109083257/   \n",
       "8155            https://www.mos.ru/afisha/venues/24211/   \n",
       "8156            https://www.mos.ru/afisha/event/426257/   \n",
       "8157            https://www.mos.ru/afisha/event/428257/   \n",
       "8283  https://museum-vlz.ru/ekspoziczii/170-meropriy...   \n",
       "8420    https://tchaikovsky.house/?listim_open_widget=1   \n",
       "8487  https://vmuzey.com/event/poseshchenie-ekspozic...   \n",
       "8585  https://museum-vlz.ru/ekspoziczii/169-meropriy...   \n",
       "8659  https://vmuzey.com/event/ekspozicii-azovskogo-...   \n",
       "9128  https://vmuzey.com/event/vhod-v-muzey-tulskie-...   \n",
       "\n",
       "                Дополнительная ссылка на покупку билета  \\\n",
       "3705                                                NaN   \n",
       "6023                                                NaN   \n",
       "6514                                                NaN   \n",
       "7278                                                NaN   \n",
       "7306                                                NaN   \n",
       "7637                                                NaN   \n",
       "7650                                                NaN   \n",
       "7822                                                NaN   \n",
       "8067         https://www.mos.ru/afisha/event/146318257/   \n",
       "8127                                                NaN   \n",
       "8147                                                NaN   \n",
       "8155  https://www.mos.ru/afisha/event/167318257/, ht...   \n",
       "8156                                                NaN   \n",
       "8157                                                NaN   \n",
       "8283                                                NaN   \n",
       "8420                                                NaN   \n",
       "8487  https://vmuzey.com/museum/putevoy-dvorec-korostyn   \n",
       "8585                                                NaN   \n",
       "8659                                                NaN   \n",
       "9128                                                NaN   \n",
       "\n",
       "      entity.organization._id     Событие  \n",
       "3705                      NaN  Экспозиции  \n",
       "6023                      NaN  Экспозиции  \n",
       "6514                      NaN  Экспозиции  \n",
       "7278                      NaN  Экспозиции  \n",
       "7306                      NaN  Экспозиции  \n",
       "7637                      NaN  Экспозиции  \n",
       "7650                      NaN  Экспозиции  \n",
       "7822                      NaN  Экспозиции  \n",
       "8067                      NaN  Экспозиции  \n",
       "8127                      NaN  Экспозиции  \n",
       "8147                      NaN  Экспозиции  \n",
       "8155                      NaN  Экспозиции  \n",
       "8156                      NaN  Экспозиции  \n",
       "8157                      NaN  Экспозиции  \n",
       "8283                      NaN  Экспозиции  \n",
       "8420                      NaN  Экспозиции  \n",
       "8487                      NaN  Экспозиции  \n",
       "8585                      NaN  Экспозиции  \n",
       "8659                      NaN  Экспозиции  \n",
       "9128                      NaN  Экспозиции  "
      ]
     },
     "execution_count": 271,
     "metadata": {},
     "output_type": "execute_result"
    }
   ],
   "source": [
    "events_all[events_all['Событие'] == 'Экспозиции'][:20]"
   ]
  },
  {
   "cell_type": "code",
   "execution_count": 272,
   "id": "599b2c08",
   "metadata": {},
   "outputs": [],
   "source": [
    "#объединим Экспозиции и Экспозиця в Выставку\n",
    "expo = ['Экспозиция', 'Экспозиции']\n",
    "events_all['Событие'] = events_all['Событие'].apply(lambda x: 'Выставка' if x in expo else x)"
   ]
  },
  {
   "cell_type": "code",
   "execution_count": 273,
   "id": "21d63b03",
   "metadata": {},
   "outputs": [
    {
     "data": {
      "text/plain": [
       "Спектакль         31808\n",
       "Концерт           15796\n",
       "Другое             9693\n",
       "Выставка           7338\n",
       "Экскурсия          5057\n",
       "Мастер-класс       4239\n",
       "Программа          3681\n",
       "Лекция             1212\n",
       "Балет              1182\n",
       "Опера              1020\n",
       "Мюзикл              859\n",
       "Обзорная            641\n",
       "Встреча             555\n",
       "Квест               545\n",
       "Интерактивная       524\n",
       "Вечер               392\n",
       "Тематическая        352\n",
       "Оперетта            304\n",
       "Музейный            276\n",
       "Игра                251\n",
       "Музыкальная         247\n",
       "Пешеходная          229\n",
       "Музейное            228\n",
       "Гала-концерт        227\n",
       "Занятие             217\n",
       "Фестиваль           207\n",
       "Праздник            205\n",
       "Концертная          204\n",
       "Моноспектакль       204\n",
       "Урок                185\n",
       "Музыкальный         176\n",
       "Познавательная      175\n",
       "Интерактивное       171\n",
       "Полнокупольная      166\n",
       "Посещение           165\n",
       "Творческий          164\n",
       "Ночь                162\n",
       "Цикл                159\n",
       "Творческая          158\n",
       "Name: Событие, dtype: int64"
      ]
     },
     "execution_count": 273,
     "metadata": {},
     "output_type": "execute_result"
    }
   ],
   "source": [
    "events_all['Событие'].value_counts()"
   ]
  },
  {
   "cell_type": "code",
   "execution_count": 274,
   "id": "a1aade7c",
   "metadata": {},
   "outputs": [
    {
     "data": {
      "text/plain": [
       "ГАУК ТО «Тюменское концертно-театральное объединение»                      779\n",
       "ОГБУК «Челябинская государственная филармония»                             649\n",
       "ГАУК НСО «Новосибирская филармония»                                        574\n",
       "ФГБУК «Государственный академический Мариинский театр»                     524\n",
       "ГАУК ТО «Тюменское музейно-просветительское объединение»                   522\n",
       "                                                                          ... \n",
       "ИП Оникиенко Е.Ю.                                                            1\n",
       "МАУК «Краснобаковский исторический музей»                                    1\n",
       "ГБУК г. Севастополя «Региональная информационно-библиотечная система»        1\n",
       "МКУК «Историко-краеведческий музей Светлоярского муниципального района»      1\n",
       "Зоологический музей Зоологического института РАН                             1\n",
       "Name: Организатор мероприятия, Length: 3031, dtype: int64"
      ]
     },
     "execution_count": 274,
     "metadata": {},
     "output_type": "execute_result"
    }
   ],
   "source": [
    "events_all['Организатор мероприятия'].value_counts()"
   ]
  },
  {
   "cell_type": "code",
   "execution_count": 275,
   "id": "83a57542",
   "metadata": {},
   "outputs": [],
   "source": [
    "organizations = pd.read_csv(path2 + 'organizations.csv', sep = ';', error_bad_lines=False)"
   ]
  },
  {
   "cell_type": "code",
   "execution_count": 276,
   "id": "cab6bbc4",
   "metadata": {
    "scrolled": true
   },
   "outputs": [
    {
     "data": {
      "text/html": [
       "<div>\n",
       "<style scoped>\n",
       "    .dataframe tbody tr th:only-of-type {\n",
       "        vertical-align: middle;\n",
       "    }\n",
       "\n",
       "    .dataframe tbody tr th {\n",
       "        vertical-align: top;\n",
       "    }\n",
       "\n",
       "    .dataframe thead th {\n",
       "        text-align: right;\n",
       "    }\n",
       "</style>\n",
       "<table border=\"1\" class=\"dataframe\">\n",
       "  <thead>\n",
       "    <tr style=\"text-align: right;\">\n",
       "      <th></th>\n",
       "      <th>ID</th>\n",
       "      <th>Учреждение</th>\n",
       "      <th>Адрес</th>\n",
       "      <th>ИНН</th>\n",
       "      <th>Категория</th>\n",
       "    </tr>\n",
       "  </thead>\n",
       "  <tbody>\n",
       "    <tr>\n",
       "      <th>2814</th>\n",
       "      <td>27213</td>\n",
       "      <td>МБУ «Барнаульский духовой оркестр»</td>\n",
       "      <td>Алтайский край, г Барнаул</td>\n",
       "      <td>2.224046e+09</td>\n",
       "      <td>Прочее</td>\n",
       "    </tr>\n",
       "    <tr>\n",
       "      <th>2695</th>\n",
       "      <td>24052</td>\n",
       "      <td>МКУК ЦКС</td>\n",
       "      <td>Челябинская обл, г Усть-Катав, ул Комсомольска...</td>\n",
       "      <td>7.401011e+09</td>\n",
       "      <td>Прочее</td>\n",
       "    </tr>\n",
       "    <tr>\n",
       "      <th>101</th>\n",
       "      <td>564</td>\n",
       "      <td>МБУК «Кимовский историко-краеведческий музей и...</td>\n",
       "      <td>Тульская обл, Кимовский р-н, г Кимовск, ул Тол...</td>\n",
       "      <td>7.115022e+09</td>\n",
       "      <td>Музеи и галереи</td>\n",
       "    </tr>\n",
       "  </tbody>\n",
       "</table>\n",
       "</div>"
      ],
      "text/plain": [
       "         ID                                         Учреждение  \\\n",
       "2814  27213                 МБУ «Барнаульский духовой оркестр»   \n",
       "2695  24052                                           МКУК ЦКС   \n",
       "101     564  МБУК «Кимовский историко-краеведческий музей и...   \n",
       "\n",
       "                                                  Адрес           ИНН  \\\n",
       "2814                          Алтайский край, г Барнаул  2.224046e+09   \n",
       "2695  Челябинская обл, г Усть-Катав, ул Комсомольска...  7.401011e+09   \n",
       "101   Тульская обл, Кимовский р-н, г Кимовск, ул Тол...  7.115022e+09   \n",
       "\n",
       "            Категория  \n",
       "2814           Прочее  \n",
       "2695           Прочее  \n",
       "101   Музеи и галереи  "
      ]
     },
     "execution_count": 276,
     "metadata": {},
     "output_type": "execute_result"
    }
   ],
   "source": [
    "organizations.sample(3)"
   ]
  },
  {
   "cell_type": "code",
   "execution_count": 277,
   "id": "bb6d612c",
   "metadata": {
    "scrolled": true
   },
   "outputs": [
    {
     "name": "stdout",
     "output_type": "stream",
     "text": [
      "<class 'pandas.core.frame.DataFrame'>\n",
      "RangeIndex: 3270 entries, 0 to 3269\n",
      "Data columns (total 5 columns):\n",
      " #   Column      Non-Null Count  Dtype  \n",
      "---  ------      --------------  -----  \n",
      " 0   ID          3270 non-null   int64  \n",
      " 1   Учреждение  3270 non-null   object \n",
      " 2   Адрес       3270 non-null   object \n",
      " 3   ИНН         3260 non-null   float64\n",
      " 4   Категория   3232 non-null   object \n",
      "dtypes: float64(1), int64(1), object(3)\n",
      "memory usage: 127.9+ KB\n"
     ]
    }
   ],
   "source": [
    "organizations.info()"
   ]
  },
  {
   "cell_type": "code",
   "execution_count": 278,
   "id": "89f245e0",
   "metadata": {},
   "outputs": [],
   "source": [
    "organizations = organizations[organizations['ИНН'].notna()]"
   ]
  },
  {
   "cell_type": "code",
   "execution_count": 279,
   "id": "916bad19",
   "metadata": {},
   "outputs": [
    {
     "data": {
      "text/plain": [
       "11"
      ]
     },
     "execution_count": 279,
     "metadata": {},
     "output_type": "execute_result"
    }
   ],
   "source": [
    "len(str(organizations[organizations['ID'] == 4576]['ИНН'].values[0]))"
   ]
  },
  {
   "cell_type": "code",
   "execution_count": 280,
   "id": "2f530fc7",
   "metadata": {},
   "outputs": [],
   "source": [
    "organizations['Org_region_number'] = organizations['ИНН'].apply(lambda x:\n",
    "                                                               int(str(x)[:2]) \n",
    "                                                                if len(str(x)) == 12\n",
    "                                                               else int(str(x)[:1]))"
   ]
  },
  {
   "cell_type": "code",
   "execution_count": 281,
   "id": "83b1ed4a",
   "metadata": {},
   "outputs": [
    {
     "name": "stdout",
     "output_type": "stream",
     "text": [
      "<class 'pandas.core.frame.DataFrame'>\n",
      "Int64Index: 3260 entries, 0 to 3269\n",
      "Data columns (total 6 columns):\n",
      " #   Column             Non-Null Count  Dtype  \n",
      "---  ------             --------------  -----  \n",
      " 0   ID                 3260 non-null   int64  \n",
      " 1   Учреждение         3260 non-null   object \n",
      " 2   Адрес              3260 non-null   object \n",
      " 3   ИНН                3260 non-null   float64\n",
      " 4   Категория          3222 non-null   object \n",
      " 5   Org_region_number  3260 non-null   int64  \n",
      "dtypes: float64(1), int64(2), object(3)\n",
      "memory usage: 178.3+ KB\n"
     ]
    }
   ],
   "source": [
    "organizations.info()"
   ]
  },
  {
   "cell_type": "code",
   "execution_count": 282,
   "id": "a2579461",
   "metadata": {
    "scrolled": true
   },
   "outputs": [
    {
     "data": {
      "text/html": [
       "<div>\n",
       "<style scoped>\n",
       "    .dataframe tbody tr th:only-of-type {\n",
       "        vertical-align: middle;\n",
       "    }\n",
       "\n",
       "    .dataframe tbody tr th {\n",
       "        vertical-align: top;\n",
       "    }\n",
       "\n",
       "    .dataframe thead th {\n",
       "        text-align: right;\n",
       "    }\n",
       "</style>\n",
       "<table border=\"1\" class=\"dataframe\">\n",
       "  <thead>\n",
       "    <tr style=\"text-align: right;\">\n",
       "      <th></th>\n",
       "      <th>ID</th>\n",
       "      <th>Учреждение</th>\n",
       "      <th>Адрес</th>\n",
       "      <th>ИНН</th>\n",
       "      <th>Категория</th>\n",
       "      <th>Org_region_number</th>\n",
       "    </tr>\n",
       "  </thead>\n",
       "  <tbody>\n",
       "    <tr>\n",
       "      <th>2748</th>\n",
       "      <td>25678</td>\n",
       "      <td>МАУК «Дворец культуры «Юбилейный»</td>\n",
       "      <td>Удмуртская Респ, г Воткинск, ул Мира, д 19</td>\n",
       "      <td>1.828013e+09</td>\n",
       "      <td>Дворцы культуры и клубы</td>\n",
       "      <td>18</td>\n",
       "    </tr>\n",
       "    <tr>\n",
       "      <th>543</th>\n",
       "      <td>3967</td>\n",
       "      <td>МБУ «Шимановский краеведческий музей»</td>\n",
       "      <td>Амурская обл, г Шимановск, ул Первомайская, д 10</td>\n",
       "      <td>2.809003e+09</td>\n",
       "      <td>Музеи и галереи</td>\n",
       "      <td>28</td>\n",
       "    </tr>\n",
       "    <tr>\n",
       "      <th>214</th>\n",
       "      <td>2094</td>\n",
       "      <td>ФГБУКИ «Военно-Медицинский музей»</td>\n",
       "      <td>г Санкт-Петербург, Лазаретный пер, д 2</td>\n",
       "      <td>7.838041e+09</td>\n",
       "      <td>Музеи и галереи</td>\n",
       "      <td>78</td>\n",
       "    </tr>\n",
       "  </tbody>\n",
       "</table>\n",
       "</div>"
      ],
      "text/plain": [
       "         ID                             Учреждение  \\\n",
       "2748  25678      МАУК «Дворец культуры «Юбилейный»   \n",
       "543    3967  МБУ «Шимановский краеведческий музей»   \n",
       "214    2094      ФГБУКИ «Военно-Медицинский музей»   \n",
       "\n",
       "                                                 Адрес           ИНН  \\\n",
       "2748        Удмуртская Респ, г Воткинск, ул Мира, д 19  1.828013e+09   \n",
       "543   Амурская обл, г Шимановск, ул Первомайская, д 10  2.809003e+09   \n",
       "214             г Санкт-Петербург, Лазаретный пер, д 2  7.838041e+09   \n",
       "\n",
       "                    Категория  Org_region_number  \n",
       "2748  Дворцы культуры и клубы                 18  \n",
       "543           Музеи и галереи                 28  \n",
       "214           Музеи и галереи                 78  "
      ]
     },
     "execution_count": 282,
     "metadata": {},
     "output_type": "execute_result"
    }
   ],
   "source": [
    "organizations.sample(3)"
   ]
  },
  {
   "cell_type": "code",
   "execution_count": 283,
   "id": "12a87675",
   "metadata": {},
   "outputs": [],
   "source": [
    "organizations = organizations.rename(\n",
    "    columns= {'Учреждение': 'Организатор мероприятия',}) "
   ]
  },
  {
   "cell_type": "code",
   "execution_count": 284,
   "id": "c0194466",
   "metadata": {},
   "outputs": [
    {
     "data": {
      "text/html": [
       "<div>\n",
       "<style scoped>\n",
       "    .dataframe tbody tr th:only-of-type {\n",
       "        vertical-align: middle;\n",
       "    }\n",
       "\n",
       "    .dataframe tbody tr th {\n",
       "        vertical-align: top;\n",
       "    }\n",
       "\n",
       "    .dataframe thead th {\n",
       "        text-align: right;\n",
       "    }\n",
       "</style>\n",
       "<table border=\"1\" class=\"dataframe\">\n",
       "  <thead>\n",
       "    <tr style=\"text-align: right;\">\n",
       "      <th></th>\n",
       "      <th>ID</th>\n",
       "      <th>Организатор мероприятия</th>\n",
       "      <th>Адрес</th>\n",
       "      <th>ИНН</th>\n",
       "      <th>Категория</th>\n",
       "      <th>Org_region_number</th>\n",
       "    </tr>\n",
       "  </thead>\n",
       "  <tbody>\n",
       "    <tr>\n",
       "      <th>1</th>\n",
       "      <td>6</td>\n",
       "      <td>ОГАУК «Драматический театр имени М. С. Щепкина»</td>\n",
       "      <td>Белгородская обл, г Белгород, Соборная пл, д 1</td>\n",
       "      <td>3.124011e+09</td>\n",
       "      <td>Театры</td>\n",
       "      <td>31</td>\n",
       "    </tr>\n",
       "  </tbody>\n",
       "</table>\n",
       "</div>"
      ],
      "text/plain": [
       "   ID                          Организатор мероприятия  \\\n",
       "1   6  ОГАУК «Драматический театр имени М. С. Щепкина»   \n",
       "\n",
       "                                            Адрес           ИНН Категория  \\\n",
       "1  Белгородская обл, г Белгород, Соборная пл, д 1  3.124011e+09    Театры   \n",
       "\n",
       "   Org_region_number  \n",
       "1                 31  "
      ]
     },
     "execution_count": 284,
     "metadata": {},
     "output_type": "execute_result"
    }
   ],
   "source": [
    "organizations[organizations['ID'] == 6]"
   ]
  },
  {
   "cell_type": "code",
   "execution_count": 285,
   "id": "5d7210b4",
   "metadata": {},
   "outputs": [],
   "source": [
    "#events_all = pd.concat([events_all, organizations['ID'], organizations['Org_region_number']],ignore_index = True, \n",
    "                       #axis = 1, keys = 'Организатор мероприятия')\n",
    "events_all = pd.merge(events_all,organizations,on=['Организатор мероприятия'], how='left')"
   ]
  },
  {
   "cell_type": "code",
   "execution_count": 286,
   "id": "8d6a2250",
   "metadata": {},
   "outputs": [
    {
     "data": {
      "text/html": [
       "<div>\n",
       "<style scoped>\n",
       "    .dataframe tbody tr th:only-of-type {\n",
       "        vertical-align: middle;\n",
       "    }\n",
       "\n",
       "    .dataframe tbody tr th {\n",
       "        vertical-align: top;\n",
       "    }\n",
       "\n",
       "    .dataframe thead th {\n",
       "        text-align: right;\n",
       "    }\n",
       "</style>\n",
       "<table border=\"1\" class=\"dataframe\">\n",
       "  <thead>\n",
       "    <tr style=\"text-align: right;\">\n",
       "      <th></th>\n",
       "      <th>ID_x</th>\n",
       "      <th>Название события</th>\n",
       "      <th>Организатор мероприятия</th>\n",
       "      <th>Ссылка на покупку билета</th>\n",
       "      <th>Дополнительная ссылка на покупку билета</th>\n",
       "      <th>entity.organization._id</th>\n",
       "      <th>Событие</th>\n",
       "      <th>ID_y</th>\n",
       "      <th>Адрес</th>\n",
       "      <th>ИНН</th>\n",
       "      <th>Категория</th>\n",
       "      <th>Org_region_number</th>\n",
       "    </tr>\n",
       "  </thead>\n",
       "  <tbody>\n",
       "    <tr>\n",
       "      <th>24621</th>\n",
       "      <td>1398579</td>\n",
       "      <td>«ВЕСЁЛЫЕ ОСЬМИНОЖКИ»</td>\n",
       "      <td>МБУК МТК и А «Буратино»</td>\n",
       "      <td>https://magn.kassy.ru/events/teatr/2-22886/sec...</td>\n",
       "      <td>NaN</td>\n",
       "      <td>NaN</td>\n",
       "      <td>Другое</td>\n",
       "      <td>7832.0</td>\n",
       "      <td>Челябинская обл, г Магнитогорск, ул Бориса Руч...</td>\n",
       "      <td>7.414002e+09</td>\n",
       "      <td>Театры</td>\n",
       "      <td>74.0</td>\n",
       "    </tr>\n",
       "    <tr>\n",
       "      <th>54879</th>\n",
       "      <td>1246864</td>\n",
       "      <td>Мюзикл «Золушка»</td>\n",
       "      <td>ГАУК г.Москвы «КЦ «Зеленоград»</td>\n",
       "      <td>https://dkzelenograd.ru/afisha/detyam/zolushka</td>\n",
       "      <td>NaN</td>\n",
       "      <td>6843.0</td>\n",
       "      <td>Мюзикл</td>\n",
       "      <td>6843.0</td>\n",
       "      <td>г Москва, г Зеленоград, Центральная пл, д 1</td>\n",
       "      <td>7.735071e+09</td>\n",
       "      <td>Дворцы культуры и клубы</td>\n",
       "      <td>77.0</td>\n",
       "    </tr>\n",
       "    <tr>\n",
       "      <th>1712</th>\n",
       "      <td>339112</td>\n",
       "      <td>Экспозиция «Модель Большого Кремлевского дворц...</td>\n",
       "      <td>ФГБУК «Государственный научно-исследовательски...</td>\n",
       "      <td>https://vmuzey.com/event/model-bolshogo-kremle...</td>\n",
       "      <td>NaN</td>\n",
       "      <td>NaN</td>\n",
       "      <td>Выставка</td>\n",
       "      <td>156.0</td>\n",
       "      <td>г Москва, ул Воздвиженка, д 5/25</td>\n",
       "      <td>7.704061e+09</td>\n",
       "      <td>Музеи и галереи</td>\n",
       "      <td>77.0</td>\n",
       "    </tr>\n",
       "  </tbody>\n",
       "</table>\n",
       "</div>"
      ],
      "text/plain": [
       "          ID_x                                   Название события  \\\n",
       "24621  1398579                               «ВЕСЁЛЫЕ ОСЬМИНОЖКИ»   \n",
       "54879  1246864                                   Мюзикл «Золушка»   \n",
       "1712    339112  Экспозиция «Модель Большого Кремлевского дворц...   \n",
       "\n",
       "                                 Организатор мероприятия  \\\n",
       "24621                            МБУК МТК и А «Буратино»   \n",
       "54879                     ГАУК г.Москвы «КЦ «Зеленоград»   \n",
       "1712   ФГБУК «Государственный научно-исследовательски...   \n",
       "\n",
       "                                Ссылка на покупку билета  \\\n",
       "24621  https://magn.kassy.ru/events/teatr/2-22886/sec...   \n",
       "54879     https://dkzelenograd.ru/afisha/detyam/zolushka   \n",
       "1712   https://vmuzey.com/event/model-bolshogo-kremle...   \n",
       "\n",
       "      Дополнительная ссылка на покупку билета  entity.organization._id  \\\n",
       "24621                                     NaN                      NaN   \n",
       "54879                                     NaN                   6843.0   \n",
       "1712                                      NaN                      NaN   \n",
       "\n",
       "        Событие    ID_y                                              Адрес  \\\n",
       "24621    Другое  7832.0  Челябинская обл, г Магнитогорск, ул Бориса Руч...   \n",
       "54879    Мюзикл  6843.0        г Москва, г Зеленоград, Центральная пл, д 1   \n",
       "1712   Выставка   156.0                   г Москва, ул Воздвиженка, д 5/25   \n",
       "\n",
       "                ИНН                Категория  Org_region_number  \n",
       "24621  7.414002e+09                   Театры               74.0  \n",
       "54879  7.735071e+09  Дворцы культуры и клубы               77.0  \n",
       "1712   7.704061e+09          Музеи и галереи               77.0  "
      ]
     },
     "execution_count": 286,
     "metadata": {},
     "output_type": "execute_result"
    }
   ],
   "source": [
    "events_all.sample(3)"
   ]
  },
  {
   "cell_type": "code",
   "execution_count": 287,
   "id": "17853949",
   "metadata": {},
   "outputs": [],
   "source": [
    "events_all = events_all.rename(\n",
    "    columns= {'ID_x': 'session_event_id', 'ID_y': 'session_organization_id'}) "
   ]
  },
  {
   "cell_type": "code",
   "execution_count": 288,
   "id": "6959db56",
   "metadata": {},
   "outputs": [
    {
     "name": "stdout",
     "output_type": "stream",
     "text": [
      "<class 'pandas.core.frame.DataFrame'>\n",
      "Int64Index: 89670 entries, 0 to 89669\n",
      "Data columns (total 12 columns):\n",
      " #   Column                                   Non-Null Count  Dtype  \n",
      "---  ------                                   --------------  -----  \n",
      " 0   session_event_id                         89670 non-null  int64  \n",
      " 1   Название события                         89670 non-null  object \n",
      " 2   Организатор мероприятия                  89670 non-null  object \n",
      " 3   Ссылка на покупку билета                 89665 non-null  object \n",
      " 4   Дополнительная ссылка на покупку билета  8456 non-null   object \n",
      " 5   entity.organization._id                  47334 non-null  float64\n",
      " 6   Событие                                  89670 non-null  object \n",
      " 7   session_organization_id                  88733 non-null  float64\n",
      " 8   Адрес                                    88733 non-null  object \n",
      " 9   ИНН                                      88733 non-null  float64\n",
      " 10  Категория                                86448 non-null  object \n",
      " 11  Org_region_number                        88733 non-null  float64\n",
      "dtypes: float64(4), int64(1), object(7)\n",
      "memory usage: 8.9+ MB\n"
     ]
    }
   ],
   "source": [
    "events_all.info()"
   ]
  },
  {
   "cell_type": "code",
   "execution_count": 289,
   "id": "c977d630",
   "metadata": {},
   "outputs": [],
   "source": [
    "events_all = events_all.astype({\"session_event_id\": \"object\", \"session_organization_id\": \"object\",\n",
    "                               \"Org_region_number\": \"object\"})"
   ]
  },
  {
   "cell_type": "code",
   "execution_count": 299,
   "id": "9c127df5",
   "metadata": {},
   "outputs": [
    {
     "data": {
      "text/html": [
       "<div>\n",
       "<style scoped>\n",
       "    .dataframe tbody tr th:only-of-type {\n",
       "        vertical-align: middle;\n",
       "    }\n",
       "\n",
       "    .dataframe tbody tr th {\n",
       "        vertical-align: top;\n",
       "    }\n",
       "\n",
       "    .dataframe thead th {\n",
       "        text-align: right;\n",
       "    }\n",
       "</style>\n",
       "<table border=\"1\" class=\"dataframe\">\n",
       "  <thead>\n",
       "    <tr style=\"text-align: right;\">\n",
       "      <th></th>\n",
       "      <th>session_event_id</th>\n",
       "      <th>Название события</th>\n",
       "      <th>Организатор мероприятия</th>\n",
       "      <th>Ссылка на покупку билета</th>\n",
       "      <th>Дополнительная ссылка на покупку билета</th>\n",
       "      <th>entity.organization._id</th>\n",
       "      <th>Событие</th>\n",
       "      <th>session_organization_id</th>\n",
       "      <th>Адрес</th>\n",
       "      <th>ИНН</th>\n",
       "      <th>Категория</th>\n",
       "      <th>Org_region_number</th>\n",
       "    </tr>\n",
       "  </thead>\n",
       "  <tbody>\n",
       "    <tr>\n",
       "      <th>79439</th>\n",
       "      <td>1383446</td>\n",
       "      <td>Концерт симфонической музыки</td>\n",
       "      <td>ГБУКиИ «Национальный симфонический оркестр Рес...</td>\n",
       "      <td>https://iframeab-pre2273.intickets.ru/seance/1...</td>\n",
       "      <td>NaN</td>\n",
       "      <td>7220.0</td>\n",
       "      <td>Концерт</td>\n",
       "      <td>7220</td>\n",
       "      <td>Респ Башкортостан, г Уфа, ул Ленина, д 50</td>\n",
       "      <td>2.740540e+08</td>\n",
       "      <td>Прочее</td>\n",
       "      <td>2</td>\n",
       "    </tr>\n",
       "    <tr>\n",
       "      <th>51309</th>\n",
       "      <td>1232958</td>\n",
       "      <td>Спектакль «Страшный суп»</td>\n",
       "      <td>ГАУК СО «Свердловский государственный академич...</td>\n",
       "      <td>https://uraldrama.ticketland.ru/buy-ticket/tea...</td>\n",
       "      <td>NaN</td>\n",
       "      <td>5645.0</td>\n",
       "      <td>Спектакль</td>\n",
       "      <td>5645</td>\n",
       "      <td>Свердловская обл, г Екатеринбург, Октябрьская ...</td>\n",
       "      <td>6.658013e+09</td>\n",
       "      <td>Театры</td>\n",
       "      <td>66</td>\n",
       "    </tr>\n",
       "    <tr>\n",
       "      <th>17223</th>\n",
       "      <td>1324423</td>\n",
       "      <td>Экспозиция «Этно. Образ. Миф. Знак»</td>\n",
       "      <td>МБУК «Усинский музейно-выставочный центр «Вортас»</td>\n",
       "      <td>https://vmuzey.com/event/vystavka-zhivopisi</td>\n",
       "      <td>NaN</td>\n",
       "      <td>NaN</td>\n",
       "      <td>Выставка</td>\n",
       "      <td>10543</td>\n",
       "      <td>Респ Коми, г Усинск, ул Парковая, д 4А</td>\n",
       "      <td>1.106024e+09</td>\n",
       "      <td>Музеи и галереи</td>\n",
       "      <td>11</td>\n",
       "    </tr>\n",
       "  </tbody>\n",
       "</table>\n",
       "</div>"
      ],
      "text/plain": [
       "      session_event_id                     Название события  \\\n",
       "79439          1383446         Концерт симфонической музыки   \n",
       "51309          1232958             Спектакль «Страшный суп»   \n",
       "17223          1324423  Экспозиция «Этно. Образ. Миф. Знак»   \n",
       "\n",
       "                                 Организатор мероприятия  \\\n",
       "79439  ГБУКиИ «Национальный симфонический оркестр Рес...   \n",
       "51309  ГАУК СО «Свердловский государственный академич...   \n",
       "17223  МБУК «Усинский музейно-выставочный центр «Вортас»   \n",
       "\n",
       "                                Ссылка на покупку билета  \\\n",
       "79439  https://iframeab-pre2273.intickets.ru/seance/1...   \n",
       "51309  https://uraldrama.ticketland.ru/buy-ticket/tea...   \n",
       "17223        https://vmuzey.com/event/vystavka-zhivopisi   \n",
       "\n",
       "      Дополнительная ссылка на покупку билета  entity.organization._id  \\\n",
       "79439                                     NaN                   7220.0   \n",
       "51309                                     NaN                   5645.0   \n",
       "17223                                     NaN                      NaN   \n",
       "\n",
       "         Событие session_organization_id  \\\n",
       "79439    Концерт                    7220   \n",
       "51309  Спектакль                    5645   \n",
       "17223   Выставка                   10543   \n",
       "\n",
       "                                                   Адрес           ИНН  \\\n",
       "79439          Респ Башкортостан, г Уфа, ул Ленина, д 50  2.740540e+08   \n",
       "51309  Свердловская обл, г Екатеринбург, Октябрьская ...  6.658013e+09   \n",
       "17223             Респ Коми, г Усинск, ул Парковая, д 4А  1.106024e+09   \n",
       "\n",
       "             Категория Org_region_number  \n",
       "79439           Прочее                 2  \n",
       "51309           Театры                66  \n",
       "17223  Музеи и галереи                11  "
      ]
     },
     "execution_count": 299,
     "metadata": {},
     "output_type": "execute_result"
    }
   ],
   "source": [
    "events_all.sample(3)"
   ]
  },
  {
   "cell_type": "code",
   "execution_count": 291,
   "id": "13a5cc1b",
   "metadata": {
    "scrolled": true
   },
   "outputs": [
    {
     "data": {
      "text/html": [
       "<div>\n",
       "<style scoped>\n",
       "    .dataframe tbody tr th:only-of-type {\n",
       "        vertical-align: middle;\n",
       "    }\n",
       "\n",
       "    .dataframe tbody tr th {\n",
       "        vertical-align: top;\n",
       "    }\n",
       "\n",
       "    .dataframe thead th {\n",
       "        text-align: right;\n",
       "    }\n",
       "</style>\n",
       "<table border=\"1\" class=\"dataframe\">\n",
       "  <thead>\n",
       "    <tr style=\"text-align: right;\">\n",
       "      <th></th>\n",
       "      <th>payment_date</th>\n",
       "      <th>comment</th>\n",
       "      <th>session_event_id</th>\n",
       "      <th>session_date</th>\n",
       "      <th>session_params</th>\n",
       "      <th>owner</th>\n",
       "      <th>refund_date</th>\n",
       "      <th>buyer_mobile_phone</th>\n",
       "      <th>refund_reason</th>\n",
       "      <th>payment_amount</th>\n",
       "      <th>visitor_first_name</th>\n",
       "      <th>refund_ticket_price</th>\n",
       "      <th>create_date</th>\n",
       "      <th>status</th>\n",
       "      <th>payment_ticket_price</th>\n",
       "      <th>session_organization_id</th>\n",
       "      <th>visit_date</th>\n",
       "    </tr>\n",
       "  </thead>\n",
       "  <tbody>\n",
       "    <tr>\n",
       "      <th>814546</th>\n",
       "      <td>1637301133</td>\n",
       "      <td></td>\n",
       "      <td>1344566</td>\n",
       "      <td>1639922400</td>\n",
       "      <td>Партер, ряд 7, место 14</td>\n",
       "      <td>7714836675</td>\n",
       "      <td>NaN</td>\n",
       "      <td>94f160bd478dffb9e92a7e8753a427ed</td>\n",
       "      <td>None</td>\n",
       "      <td>500</td>\n",
       "      <td></td>\n",
       "      <td>None</td>\n",
       "      <td>1637304304198542692</td>\n",
       "      <td>active</td>\n",
       "      <td>500</td>\n",
       "      <td>6407</td>\n",
       "      <td>NaN</td>\n",
       "    </tr>\n",
       "    <tr>\n",
       "      <th>187312</th>\n",
       "      <td>1636796207000</td>\n",
       "      <td></td>\n",
       "      <td>1316770</td>\n",
       "      <td>1638028800000</td>\n",
       "      <td>Площадка: РАМТ</td>\n",
       "      <td>9705121040</td>\n",
       "      <td>1.637244e+12</td>\n",
       "      <td>f662632c680b2729fac28f4d7e37674b</td>\n",
       "      <td>Меня не будет в городе</td>\n",
       "      <td>RUB 1500.00</td>\n",
       "      <td>Татьяна</td>\n",
       "      <td></td>\n",
       "      <td>1636796237141980443</td>\n",
       "      <td>refunded</td>\n",
       "      <td>RUB 1500.00</td>\n",
       "      <td></td>\n",
       "      <td>NaN</td>\n",
       "    </tr>\n",
       "    <tr>\n",
       "      <th>777190</th>\n",
       "      <td>1637940899</td>\n",
       "      <td></td>\n",
       "      <td>1470162</td>\n",
       "      <td>1638959400</td>\n",
       "      <td>Зал Музыкального училища , 9 ряд, 5 место</td>\n",
       "      <td>7107520929</td>\n",
       "      <td>NaN</td>\n",
       "      <td>143efc554ea1a37af509933b969eacc1</td>\n",
       "      <td>None</td>\n",
       "      <td>300.00</td>\n",
       "      <td></td>\n",
       "      <td>None</td>\n",
       "      <td>1637941224140234102</td>\n",
       "      <td>active</td>\n",
       "      <td>300.00</td>\n",
       "      <td>12684</td>\n",
       "      <td>NaN</td>\n",
       "    </tr>\n",
       "  </tbody>\n",
       "</table>\n",
       "</div>"
      ],
      "text/plain": [
       "         payment_date comment session_event_id   session_date  \\\n",
       "814546     1637301133                  1344566     1639922400   \n",
       "187312  1636796207000                  1316770  1638028800000   \n",
       "777190     1637940899                  1470162     1638959400   \n",
       "\n",
       "                                   session_params       owner   refund_date  \\\n",
       "814546                    Партер, ряд 7, место 14  7714836675           NaN   \n",
       "187312                             Площадка: РАМТ  9705121040  1.637244e+12   \n",
       "777190  Зал Музыкального училища , 9 ряд, 5 место  7107520929           NaN   \n",
       "\n",
       "                      buyer_mobile_phone           refund_reason  \\\n",
       "814546  94f160bd478dffb9e92a7e8753a427ed                    None   \n",
       "187312  f662632c680b2729fac28f4d7e37674b  Меня не будет в городе   \n",
       "777190  143efc554ea1a37af509933b969eacc1                    None   \n",
       "\n",
       "       payment_amount visitor_first_name refund_ticket_price  \\\n",
       "814546            500                                   None   \n",
       "187312    RUB 1500.00            Татьяна                       \n",
       "777190         300.00                                   None   \n",
       "\n",
       "                create_date    status payment_ticket_price  \\\n",
       "814546  1637304304198542692    active                  500   \n",
       "187312  1636796237141980443  refunded          RUB 1500.00   \n",
       "777190  1637941224140234102    active               300.00   \n",
       "\n",
       "       session_organization_id  visit_date  \n",
       "814546                    6407         NaN  \n",
       "187312                                 NaN  \n",
       "777190                   12684         NaN  "
      ]
     },
     "execution_count": 291,
     "metadata": {},
     "output_type": "execute_result"
    }
   ],
   "source": [
    "tickets.sample(3) #как видно из этой вырезки у части мероприятий нет id организотора, надo добавить"
   ]
  },
  {
   "cell_type": "code",
   "execution_count": 344,
   "id": "c5ae5d40",
   "metadata": {},
   "outputs": [
    {
     "data": {
      "text/plain": [
       "СПБ ГБУК «Санкт-Петербургский Государственный Музыкально-Драматический Театр «БУФФ»    113\n",
       "ГАУК «Курганское областное музейное объединение»                                        93\n",
       "КГАУК «Хабаровский краевой музыкальный театр»                                           69\n",
       "МБУК «Березниковский историко-художественный музей им. И. Ф. Коновалова»                57\n",
       "Кемеровский театр для детей и молодёжи                                                  51\n",
       "                                                                                      ... \n",
       "АУК УР «Государственный цирк Удмуртии»                                                   1\n",
       "МБУК «Дворец металлургов»                                                                1\n",
       "Тестовое учреждение (встреча)                                                            1\n",
       "БУ РА «Национальный музей им. А. В. Анохина»                                             1\n",
       "ГКУК «Ансамбль Терских Казаков»                                                          1\n",
       "Name: Организатор мероприятия, Length: 71, dtype: int64"
      ]
     },
     "execution_count": 344,
     "metadata": {},
     "output_type": "execute_result"
    }
   ],
   "source": [
    "events_all[events_all['session_organization_id'].isna()]['Организатор мероприятия'].value_counts()\n",
    "#как видим есть организаторы у которых нет id у части мероприятий - "
   ]
  },
  {
   "cell_type": "code",
   "execution_count": 315,
   "id": "e20df381",
   "metadata": {},
   "outputs": [],
   "source": [
    "id_null_org = events_all[events_all['session_organization_id'].isna()]['Организатор мероприятия'].value_counts().index"
   ]
  },
  {
   "cell_type": "code",
   "execution_count": 338,
   "id": "5e3311bf",
   "metadata": {},
   "outputs": [],
   "source": [
    "id_null_org_map = {}\n",
    "\n",
    "for i in id_null_org:\n",
    "    j = events_all[events_all['Организатор мероприятия'] == i]['entity.organization._id'].unique()\n",
    "    for x in j:\n",
    "        if math.isnan(x) != True:\n",
    "            id_null_org_map[i] = int(x)"
   ]
  },
  {
   "cell_type": "code",
   "execution_count": 342,
   "id": "8057c4d8",
   "metadata": {},
   "outputs": [
    {
     "data": {
      "text/plain": [
       "67"
      ]
     },
     "execution_count": 342,
     "metadata": {},
     "output_type": "execute_result"
    }
   ],
   "source": [
    "len(id_null_org_map)"
   ]
  },
  {
   "cell_type": "code",
   "execution_count": 345,
   "id": "271ecee0",
   "metadata": {},
   "outputs": [],
   "source": [
    "events_all_id_null = events_all[events_all['session_organization_id'].isna()]"
   ]
  },
  {
   "cell_type": "code",
   "execution_count": 346,
   "id": "b29d0069",
   "metadata": {},
   "outputs": [
    {
     "name": "stderr",
     "output_type": "stream",
     "text": [
      "C:\\Users\\Rusla\\AppData\\Local\\Temp/ipykernel_30932/942977657.py:1: SettingWithCopyWarning: \n",
      "A value is trying to be set on a copy of a slice from a DataFrame.\n",
      "Try using .loc[row_indexer,col_indexer] = value instead\n",
      "\n",
      "See the caveats in the documentation: https://pandas.pydata.org/pandas-docs/stable/user_guide/indexing.html#returning-a-view-versus-a-copy\n",
      "  events_all_id_null['session_organization_id'] = events_all_id_null['Организатор мероприятия'].map(id_null_org_map)\n"
     ]
    }
   ],
   "source": [
    "events_all_id_null['session_organization_id'] = events_all_id_null['Организатор мероприятия'].map(id_null_org_map)"
   ]
  },
  {
   "cell_type": "code",
   "execution_count": 347,
   "id": "859d14c1",
   "metadata": {},
   "outputs": [
    {
     "name": "stdout",
     "output_type": "stream",
     "text": [
      "<class 'pandas.core.frame.DataFrame'>\n",
      "Int64Index: 937 entries, 896 to 89348\n",
      "Data columns (total 12 columns):\n",
      " #   Column                                   Non-Null Count  Dtype  \n",
      "---  ------                                   --------------  -----  \n",
      " 0   session_event_id                         937 non-null    object \n",
      " 1   Название события                         937 non-null    object \n",
      " 2   Организатор мероприятия                  937 non-null    object \n",
      " 3   Ссылка на покупку билета                 936 non-null    object \n",
      " 4   Дополнительная ссылка на покупку билета  37 non-null     object \n",
      " 5   entity.organization._id                  732 non-null    float64\n",
      " 6   Событие                                  937 non-null    object \n",
      " 7   session_organization_id                  925 non-null    float64\n",
      " 8   Адрес                                    0 non-null      object \n",
      " 9   ИНН                                      0 non-null      float64\n",
      " 10  Категория                                0 non-null      object \n",
      " 11  Org_region_number                        0 non-null      object \n",
      "dtypes: float64(3), object(9)\n",
      "memory usage: 95.2+ KB\n"
     ]
    }
   ],
   "source": [
    "events_all_id_null.info()"
   ]
  },
  {
   "cell_type": "code",
   "execution_count": null,
   "id": "f9a6548f",
   "metadata": {},
   "outputs": [],
   "source": []
  }
 ],
 "metadata": {
  "kernelspec": {
   "display_name": "Python 3 (ipykernel)",
   "language": "python",
   "name": "python3"
  },
  "language_info": {
   "codemirror_mode": {
    "name": "ipython",
    "version": 3
   },
   "file_extension": ".py",
   "mimetype": "text/x-python",
   "name": "python",
   "nbconvert_exporter": "python",
   "pygments_lexer": "ipython3",
   "version": "3.8.11"
  }
 },
 "nbformat": 4,
 "nbformat_minor": 5
}
