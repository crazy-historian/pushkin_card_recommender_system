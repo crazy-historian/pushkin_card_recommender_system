{
 "cells": [
  {
   "cell_type": "markdown",
   "metadata": {
    "collapsed": true,
    "pycharm": {
     "name": "#%% md\n"
    }
   },
   "source": [
    "## Общая схема кросс валидации\n",
    "\n",
    "1. Из датафрейма берется та часть пользователей, которая кликала от 1 до 5 мероприятий. Они принадлежат 95 % всей выборки\n",
    "2. Из этой части случайным образом выбирается один пользователь с фиксированным числом кликнутых мероприятий от 3 до 5\n",
    "3. Получаем список кликнутых пользователем мероприятий\n",
    "4. Цикл по кликнутым мероприятиям:\n",
    "4.1 Из общей выборки исключается строка с записью о клике выбранного пользователя на мероприятие\n",
    "4.2 Обучение модели по данным с исключенным мероприятием\n",
    "4.3 Получение списка из N мероприятий для данного пользователя\n",
    "4.4 Проверяем, есть ли исключенное мероприятие в списке рекомендованных"
   ]
  },
  {
   "cell_type": "code",
   "execution_count": 4,
   "outputs": [
    {
     "name": "stdout",
     "output_type": "stream",
     "text": [
      "['/snap/pycharm-professional/271/plugins/python/helpers-pro/jupyter_debug', '/snap/pycharm-professional/271/plugins/python/helpers/pydev', '/media/maxim/5d25e004-74c4-4174-8cd3-d5dce3ff6981/maxim/python_projects/pushkin_card_recommender_system/evaluation', '/media/maxim/5d25e004-74c4-4174-8cd3-d5dce3ff6981/maxim/anaconda/envs/pushkin_card_recommender_system/lib/python38.zip', '/media/maxim/5d25e004-74c4-4174-8cd3-d5dce3ff6981/maxim/anaconda/envs/pushkin_card_recommender_system/lib/python3.8', '/media/maxim/5d25e004-74c4-4174-8cd3-d5dce3ff6981/maxim/anaconda/envs/pushkin_card_recommender_system/lib/python3.8/lib-dynload', '', '/home/maxim/.local/lib/python3.8/site-packages', '/media/maxim/5d25e004-74c4-4174-8cd3-d5dce3ff6981/maxim/anaconda/envs/pushkin_card_recommender_system/lib/python3.8/site-packages', '/media/maxim/5d25e004-74c4-4174-8cd3-d5dce3ff6981/maxim/python_projects/pushkin_card_recommender_system', '/media/maxim/5d25e004-74c4-4174-8cd3-d5dce3ff6981/maxim/python_projects/pushkin_card_recommender_system/pipeline']\n"
     ]
    }
   ],
   "source": [
    "import sys\n",
    "print(sys.path)\n",
    "sys.path.append('/media/maxim/5d25e004-74c4-4174-8cd3-d5dce3ff6981/maxim/python_projects/pushkin_card_recommender_system')\n",
    "sys.path.append('/media/maxim/5d25e004-74c4-4174-8cd3-d5dce3ff6981/maxim/python_projects/pushkin_card_recommender_system/pipeline')"
   ],
   "metadata": {
    "collapsed": false,
    "pycharm": {
     "name": "#%%\n"
    }
   }
  },
  {
   "cell_type": "code",
   "execution_count": 5,
   "outputs": [],
   "source": [
    "import pandas as pd\n",
    "import numpy as np\n",
    "from typing import Tuple\n",
    "from tqdm import tqdm_notebook\n",
    "from pipeline import data_management as dm\n",
    "from sklearn.model_selection import ParameterGrid\n",
    "from recommenders.implicit_models import UserItemRecommender, ALSRecommender, BPRRecommender"
   ],
   "metadata": {
    "collapsed": false,
    "pycharm": {
     "name": "#%%\n"
    }
   }
  },
  {
   "cell_type": "code",
   "execution_count": 6,
   "outputs": [],
   "source": [
    "def split_df_into_diapasons(df: pd.DataFrame) -> pd.DataFrame:\n",
    "    activity = df.groupby('user_id')['clicks_count'].count().sort_values(ascending=False).reset_index()\n",
    "    activity['diapason'] = pd.cut(activity['clicks_count'], bins=np.linspace(0, 70, 15),\n",
    "                                  labels=[f'({i}:{j}]' for i, j in zip(range(0, 70, 5), range(5, 75, 5))])\n",
    "    return activity"
   ],
   "metadata": {
    "collapsed": false,
    "pycharm": {
     "name": "#%%\n"
    }
   }
  },
  {
   "cell_type": "code",
   "execution_count": 7,
   "outputs": [],
   "source": [
    "def evaluate(\n",
    "        user_id: str,\n",
    "        user_event_df: pd.DataFrame,\n",
    "        recommender: UserItemRecommender,\n",
    "        number_of_recommended=10\n",
    ") -> float:\n",
    "    clicked_by_user = user_event_df.loc[user_event_df.user_id == user_id]\n",
    "\n",
    "    count = 0\n",
    "    for _, clicked_event in clicked_by_user.iterrows():\n",
    "        example = user_event_df[(user_event_df.user_id == clicked_event.user_id) &\n",
    "                                (user_event_df.item_id == clicked_event.item_id)]\n",
    "        us_ev = user_event_df.drop(example.index)\n",
    "        recommender.fit(user_item_df=us_ev, show_progress=False)\n",
    "        recommended_to_user = recommender.get_user_recommendation(user_id, number_of_recommended, as_pd_dataframe=True)\n",
    "        if example.iloc[0].item_id in list(recommended_to_user.item_id.values):\n",
    "            count += 1\n",
    "\n",
    "    return round(count / len(clicked_by_user), 2)"
   ],
   "metadata": {
    "collapsed": false,
    "pycharm": {
     "name": "#%%\n"
    }
   }
  },
  {
   "cell_type": "markdown",
   "source": [],
   "metadata": {
    "collapsed": false
   }
  },
  {
   "cell_type": "code",
   "execution_count": 8,
   "outputs": [],
   "source": [
    "def cross_validation(\n",
    "        user_activity_df: pd.DataFrame,\n",
    "        user_event_df: pd.DataFrame,\n",
    "        recommender: UserItemRecommender,\n",
    "        parameters: dict,\n",
    "        num_of_clicked: int = 5,\n",
    "        num_of_recommended: int = 10\n",
    ") -> Tuple[UserItemRecommender, dict]:\n",
    "    users_in_interval = user_activity_df.loc[\n",
    "        (user_activity_df.diapason == '(0:5]') &\n",
    "        (user_activity_df.clicks_count == num_of_clicked)\n",
    "        ]\n",
    "\n",
    "    user_from_interval = users_in_interval.sample().iloc[0]\n",
    "    best_params = dict()\n",
    "    best_recommender = None\n",
    "    max_probability = 0\n",
    "    for params in tqdm_notebook(ParameterGrid(parameters)):\n",
    "        rec = recommender(**params)\n",
    "        probability = evaluate(\n",
    "            user_id=user_from_interval.user_id,\n",
    "            user_event_df=user_event_df,\n",
    "            recommender=rec,\n",
    "            number_of_recommended=num_of_recommended\n",
    "        )\n",
    "        if probability > max_probability:\n",
    "            print(probability)\n",
    "            max_probability = probability\n",
    "            best_params = params\n",
    "            best_recommender = rec\n",
    "\n",
    "    print(max_probability, best_params)\n",
    "    return best_recommender, best_params\n"
   ],
   "metadata": {
    "collapsed": false,
    "pycharm": {
     "name": "#%%\n"
    }
   }
  },
  {
   "cell_type": "code",
   "execution_count": 9,
   "outputs": [
    {
     "data": {
      "text/plain": "                               user_id  clicks_count diapason\n0     e4f8e204a900fa2b4ad6f3fbb48b5585            36  (35:40]\n1     bdfae6b594bc1f28467b4f2db002746e            35  (30:35]\n2     df35377e953a13a7ad537ba04737b826            30  (25:30]\n3     4e3f977e66736abb763b3fcab57b122b            28  (25:30]\n4     2b0c5f923468dc1b1d199ea46f503022            28  (25:30]\n...                                ...           ...      ...\n5870  33ca62f0ef71ecf58e3ae098c2957388             1    (0:5]\n5871  33bf851266570c7d0572d531da46bae9             1    (0:5]\n5872  8c90eb1e907a4799995f8cd255e2d488             1    (0:5]\n5873  8cb19200880fb3ab173feb9df18b4c5e             1    (0:5]\n5874  000b1ca3e2eefa7c8b24ed417548b301             1    (0:5]\n\n[5875 rows x 3 columns]",
      "text/html": "<div>\n<style scoped>\n    .dataframe tbody tr th:only-of-type {\n        vertical-align: middle;\n    }\n\n    .dataframe tbody tr th {\n        vertical-align: top;\n    }\n\n    .dataframe thead th {\n        text-align: right;\n    }\n</style>\n<table border=\"1\" class=\"dataframe\">\n  <thead>\n    <tr style=\"text-align: right;\">\n      <th></th>\n      <th>user_id</th>\n      <th>clicks_count</th>\n      <th>diapason</th>\n    </tr>\n  </thead>\n  <tbody>\n    <tr>\n      <th>0</th>\n      <td>e4f8e204a900fa2b4ad6f3fbb48b5585</td>\n      <td>36</td>\n      <td>(35:40]</td>\n    </tr>\n    <tr>\n      <th>1</th>\n      <td>bdfae6b594bc1f28467b4f2db002746e</td>\n      <td>35</td>\n      <td>(30:35]</td>\n    </tr>\n    <tr>\n      <th>2</th>\n      <td>df35377e953a13a7ad537ba04737b826</td>\n      <td>30</td>\n      <td>(25:30]</td>\n    </tr>\n    <tr>\n      <th>3</th>\n      <td>4e3f977e66736abb763b3fcab57b122b</td>\n      <td>28</td>\n      <td>(25:30]</td>\n    </tr>\n    <tr>\n      <th>4</th>\n      <td>2b0c5f923468dc1b1d199ea46f503022</td>\n      <td>28</td>\n      <td>(25:30]</td>\n    </tr>\n    <tr>\n      <th>...</th>\n      <td>...</td>\n      <td>...</td>\n      <td>...</td>\n    </tr>\n    <tr>\n      <th>5870</th>\n      <td>33ca62f0ef71ecf58e3ae098c2957388</td>\n      <td>1</td>\n      <td>(0:5]</td>\n    </tr>\n    <tr>\n      <th>5871</th>\n      <td>33bf851266570c7d0572d531da46bae9</td>\n      <td>1</td>\n      <td>(0:5]</td>\n    </tr>\n    <tr>\n      <th>5872</th>\n      <td>8c90eb1e907a4799995f8cd255e2d488</td>\n      <td>1</td>\n      <td>(0:5]</td>\n    </tr>\n    <tr>\n      <th>5873</th>\n      <td>8cb19200880fb3ab173feb9df18b4c5e</td>\n      <td>1</td>\n      <td>(0:5]</td>\n    </tr>\n    <tr>\n      <th>5874</th>\n      <td>000b1ca3e2eefa7c8b24ed417548b301</td>\n      <td>1</td>\n      <td>(0:5]</td>\n    </tr>\n  </tbody>\n</table>\n<p>5875 rows × 3 columns</p>\n</div>"
     },
     "execution_count": 9,
     "metadata": {},
     "output_type": "execute_result"
    }
   ],
   "source": [
    "bashkortostan_user_event = pd.read_csv('../data/user_event_dfs/bashkortostan_user_event_df.csv')\n",
    "bashkortostan_user_event.drop(columns='Unnamed: 0', inplace=True)\n",
    "bashkortostan_activity = split_df_into_diapasons(df=bashkortostan_user_event)\n",
    "bashkortostan_activity"
   ],
   "metadata": {
    "collapsed": false,
    "pycharm": {
     "name": "#%%\n"
    }
   }
  },
  {
   "cell_type": "code",
   "execution_count": 10,
   "outputs": [],
   "source": [
    "bashkortostan_user_event = dm.numerate_user_event_df(bashkortostan_user_event)\n",
    "bashkortostan_user_event = bashkortostan_user_event.rename(columns={\n",
    "    'event_id': 'item_id',\n",
    "    'event_num': 'item_num',\n",
    "    'clicks_count': 'rating'\n",
    "})"
   ],
   "metadata": {
    "collapsed": false,
    "pycharm": {
     "name": "#%%\n"
    }
   }
  },
  {
   "cell_type": "code",
   "execution_count": 11,
   "outputs": [
    {
     "data": {
      "text/plain": "                                user_id  item_id  \\\n0      000b1ca3e2eefa7c8b24ed417548b301   855200   \n1      000d99f08793606692008c9d805bd357  1439439   \n2      00127dd4421eddeb5f206ae28f3b540c  1245777   \n3      002445526f1c2e1f660cad308434c9e6  1260968   \n4      002493182f55b3337eda7e5186aba306  1294104   \n...                                 ...      ...   \n11955  ffef12590dcade483c5843400ffbfdf1  1266191   \n11956  fff5187ee2cc6677d5a559f6951eb5b6  1450579   \n11957  fff5a247a711d1589fa1c3282d2689a9  1359097   \n11958  fffb3cc939336c91c2989420836ae3d7  1255556   \n11959  fffb3cc939336c91c2989420836ae3d7  1353228   \n\n                                              event_name  rating  user_num  \\\n0                                  Спектакль «Щелкунчик»       2         0   \n1       Выставка «От камня до искусственного интеллекта»       1         1   \n2                                          Балет «Анюта»       2         2   \n3      Экскурсия «Башкортостан в годы Великой Отечест...       3         3   \n4                            Спектакль «Луна и листопад»       1         4   \n...                                                  ...     ...       ...   \n11955  Выставки проекта «Современное изобразительное ...       1      5871   \n11956                   Спектакль «Снежная корискуолева»       1      5872   \n11957                      Мастер-класс «Северные амуры»       8      5873   \n11958                   Спектакль «Палата бизнес-класса»       1      5874   \n11959                            Спектакль «Старший сын»       1      5874   \n\n       item_num  \n0            47  \n1           467  \n2           101  \n3           132  \n4           187  \n...         ...  \n11955       136  \n11956       500  \n11957       316  \n11958       119  \n11959       305  \n\n[11960 rows x 6 columns]",
      "text/html": "<div>\n<style scoped>\n    .dataframe tbody tr th:only-of-type {\n        vertical-align: middle;\n    }\n\n    .dataframe tbody tr th {\n        vertical-align: top;\n    }\n\n    .dataframe thead th {\n        text-align: right;\n    }\n</style>\n<table border=\"1\" class=\"dataframe\">\n  <thead>\n    <tr style=\"text-align: right;\">\n      <th></th>\n      <th>user_id</th>\n      <th>item_id</th>\n      <th>event_name</th>\n      <th>rating</th>\n      <th>user_num</th>\n      <th>item_num</th>\n    </tr>\n  </thead>\n  <tbody>\n    <tr>\n      <th>0</th>\n      <td>000b1ca3e2eefa7c8b24ed417548b301</td>\n      <td>855200</td>\n      <td>Спектакль «Щелкунчик»</td>\n      <td>2</td>\n      <td>0</td>\n      <td>47</td>\n    </tr>\n    <tr>\n      <th>1</th>\n      <td>000d99f08793606692008c9d805bd357</td>\n      <td>1439439</td>\n      <td>Выставка «От камня до искусственного интеллекта»</td>\n      <td>1</td>\n      <td>1</td>\n      <td>467</td>\n    </tr>\n    <tr>\n      <th>2</th>\n      <td>00127dd4421eddeb5f206ae28f3b540c</td>\n      <td>1245777</td>\n      <td>Балет «Анюта»</td>\n      <td>2</td>\n      <td>2</td>\n      <td>101</td>\n    </tr>\n    <tr>\n      <th>3</th>\n      <td>002445526f1c2e1f660cad308434c9e6</td>\n      <td>1260968</td>\n      <td>Экскурсия «Башкортостан в годы Великой Отечест...</td>\n      <td>3</td>\n      <td>3</td>\n      <td>132</td>\n    </tr>\n    <tr>\n      <th>4</th>\n      <td>002493182f55b3337eda7e5186aba306</td>\n      <td>1294104</td>\n      <td>Спектакль «Луна и листопад»</td>\n      <td>1</td>\n      <td>4</td>\n      <td>187</td>\n    </tr>\n    <tr>\n      <th>...</th>\n      <td>...</td>\n      <td>...</td>\n      <td>...</td>\n      <td>...</td>\n      <td>...</td>\n      <td>...</td>\n    </tr>\n    <tr>\n      <th>11955</th>\n      <td>ffef12590dcade483c5843400ffbfdf1</td>\n      <td>1266191</td>\n      <td>Выставки проекта «Современное изобразительное ...</td>\n      <td>1</td>\n      <td>5871</td>\n      <td>136</td>\n    </tr>\n    <tr>\n      <th>11956</th>\n      <td>fff5187ee2cc6677d5a559f6951eb5b6</td>\n      <td>1450579</td>\n      <td>Спектакль «Снежная корискуолева»</td>\n      <td>1</td>\n      <td>5872</td>\n      <td>500</td>\n    </tr>\n    <tr>\n      <th>11957</th>\n      <td>fff5a247a711d1589fa1c3282d2689a9</td>\n      <td>1359097</td>\n      <td>Мастер-класс «Северные амуры»</td>\n      <td>8</td>\n      <td>5873</td>\n      <td>316</td>\n    </tr>\n    <tr>\n      <th>11958</th>\n      <td>fffb3cc939336c91c2989420836ae3d7</td>\n      <td>1255556</td>\n      <td>Спектакль «Палата бизнес-класса»</td>\n      <td>1</td>\n      <td>5874</td>\n      <td>119</td>\n    </tr>\n    <tr>\n      <th>11959</th>\n      <td>fffb3cc939336c91c2989420836ae3d7</td>\n      <td>1353228</td>\n      <td>Спектакль «Старший сын»</td>\n      <td>1</td>\n      <td>5874</td>\n      <td>305</td>\n    </tr>\n  </tbody>\n</table>\n<p>11960 rows × 6 columns</p>\n</div>"
     },
     "execution_count": 11,
     "metadata": {},
     "output_type": "execute_result"
    }
   ],
   "source": [
    "bashkortostan_user_event"
   ],
   "metadata": {
    "collapsed": false,
    "pycharm": {
     "name": "#%%\n"
    }
   }
  },
  {
   "cell_type": "code",
   "execution_count": 12,
   "outputs": [
    {
     "name": "stdout",
     "output_type": "stream",
     "text": [
      "<class 'pandas.core.frame.DataFrame'>\n",
      "RangeIndex: 11960 entries, 0 to 11959\n",
      "Data columns (total 6 columns):\n",
      " #   Column      Non-Null Count  Dtype   \n",
      "---  ------      --------------  -----   \n",
      " 0   user_id     11960 non-null  category\n",
      " 1   item_id     11960 non-null  category\n",
      " 2   event_name  11960 non-null  object  \n",
      " 3   rating      11960 non-null  int64   \n",
      " 4   user_num    11960 non-null  int16   \n",
      " 5   item_num    11960 non-null  int16   \n",
      "dtypes: category(2), int16(2), int64(1), object(1)\n",
      "memory usage: 476.1+ KB\n"
     ]
    }
   ],
   "source": [
    "bashkortostan_user_event.info()"
   ],
   "metadata": {
    "collapsed": false,
    "pycharm": {
     "name": "#%%\n"
    }
   }
  },
  {
   "cell_type": "markdown",
   "source": [],
   "metadata": {
    "collapsed": false,
    "pycharm": {
     "name": "#%% md\n"
    }
   }
  },
  {
   "cell_type": "code",
   "execution_count": 13,
   "outputs": [
    {
     "name": "stderr",
     "output_type": "stream",
     "text": [
      "/tmp/ipykernel_23965/632291489.py:18: TqdmDeprecationWarning: This function will be removed in tqdm==5.0.0\n",
      "Please use `tqdm.notebook.tqdm` instead of `tqdm.tqdm_notebook`\n",
      "  for params in tqdm_notebook(ParameterGrid(parameters)):\n"
     ]
    },
    {
     "data": {
      "text/plain": "  0%|          | 0/4455 [00:00<?, ?it/s]",
      "application/vnd.jupyter.widget-view+json": {
       "version_major": 2,
       "version_minor": 0,
       "model_id": "a376744a59e540dc9afa4be793ec2f16"
      }
     },
     "metadata": {},
     "output_type": "display_data"
    },
    {
     "name": "stdout",
     "output_type": "stream",
     "text": [
      "0.8\n"
     ]
    },
    {
     "ename": "KeyboardInterrupt",
     "evalue": "",
     "output_type": "error",
     "traceback": [
      "\u001B[0;31m---------------------------------------------------------------------------\u001B[0m",
      "\u001B[0;31mKeyboardInterrupt\u001B[0m                         Traceback (most recent call last)",
      "Input \u001B[0;32mIn [13]\u001B[0m, in \u001B[0;36m<module>\u001B[0;34m\u001B[0m\n\u001B[0;32m----> 1\u001B[0m best_model, params \u001B[38;5;241m=\u001B[39m \u001B[43mcross_validation\u001B[49m\u001B[43m(\u001B[49m\n\u001B[1;32m      2\u001B[0m \u001B[43m    \u001B[49m\u001B[43muser_event_df\u001B[49m\u001B[38;5;241;43m=\u001B[39;49m\u001B[43mbashkortostan_user_event\u001B[49m\u001B[43m,\u001B[49m\n\u001B[1;32m      3\u001B[0m \u001B[43m    \u001B[49m\u001B[43muser_activity_df\u001B[49m\u001B[38;5;241;43m=\u001B[39;49m\u001B[43mbashkortostan_activity\u001B[49m\u001B[43m,\u001B[49m\n\u001B[1;32m      4\u001B[0m \u001B[43m    \u001B[49m\u001B[43mnum_of_clicked\u001B[49m\u001B[38;5;241;43m=\u001B[39;49m\u001B[38;5;241;43m5\u001B[39;49m\u001B[43m,\u001B[49m\n\u001B[1;32m      5\u001B[0m \u001B[43m    \u001B[49m\u001B[43mrecommender\u001B[49m\u001B[38;5;241;43m=\u001B[39;49m\u001B[43mALSRecommender\u001B[49m\u001B[43m,\u001B[49m\n\u001B[1;32m      6\u001B[0m \u001B[43m    \u001B[49m\u001B[43mparameters\u001B[49m\u001B[38;5;241;43m=\u001B[39;49m\u001B[43m{\u001B[49m\n\u001B[1;32m      7\u001B[0m \u001B[43m        \u001B[49m\u001B[38;5;124;43m'\u001B[39;49m\u001B[38;5;124;43mfactors\u001B[39;49m\u001B[38;5;124;43m'\u001B[39;49m\u001B[43m:\u001B[49m\u001B[43m \u001B[49m\u001B[38;5;28;43mrange\u001B[39;49m\u001B[43m(\u001B[49m\u001B[38;5;241;43m20\u001B[39;49m\u001B[43m,\u001B[49m\u001B[43m \u001B[49m\u001B[38;5;241;43m101\u001B[39;49m\u001B[43m)\u001B[49m\u001B[43m,\u001B[49m\n\u001B[1;32m      8\u001B[0m \u001B[43m        \u001B[49m\u001B[38;5;124;43m'\u001B[39;49m\u001B[38;5;124;43mregularization\u001B[39;49m\u001B[38;5;124;43m'\u001B[39;49m\u001B[43m:\u001B[49m\u001B[43m \u001B[49m\u001B[43m[\u001B[49m\u001B[43mj\u001B[49m\u001B[43m \u001B[49m\u001B[38;5;28;43;01mfor\u001B[39;49;00m\u001B[43m \u001B[49m\u001B[43mj\u001B[49m\u001B[43m \u001B[49m\u001B[38;5;129;43;01min\u001B[39;49;00m\u001B[43m \u001B[49m\u001B[43mnp\u001B[49m\u001B[38;5;241;43m.\u001B[39;49m\u001B[43mlinspace\u001B[49m\u001B[43m(\u001B[49m\u001B[38;5;241;43m0\u001B[39;49m\u001B[43m,\u001B[49m\u001B[43m \u001B[49m\u001B[38;5;241;43m1\u001B[39;49m\u001B[43m,\u001B[49m\u001B[43m \u001B[49m\u001B[38;5;241;43m11\u001B[39;49m\u001B[43m,\u001B[49m\u001B[43m \u001B[49m\u001B[43mendpoint\u001B[49m\u001B[38;5;241;43m=\u001B[39;49m\u001B[38;5;28;43;01mFalse\u001B[39;49;00m\u001B[43m)\u001B[49m\u001B[43m]\u001B[49m\u001B[43m,\u001B[49m\n\u001B[1;32m      9\u001B[0m \u001B[43m        \u001B[49m\u001B[38;5;124;43m'\u001B[39;49m\u001B[38;5;124;43miterations\u001B[39;49m\u001B[38;5;124;43m'\u001B[39;49m\u001B[43m:\u001B[49m\u001B[43m \u001B[49m\u001B[43m[\u001B[49m\u001B[38;5;241;43m100\u001B[39;49m\u001B[43m]\u001B[49m\u001B[43m,\u001B[49m\n\u001B[1;32m     10\u001B[0m \u001B[43m        \u001B[49m\u001B[38;5;124;43m'\u001B[39;49m\u001B[38;5;124;43mconfidence\u001B[39;49m\u001B[38;5;124;43m'\u001B[39;49m\u001B[43m:\u001B[49m\u001B[43m \u001B[49m\u001B[43m[\u001B[49m\u001B[38;5;124;43m'\u001B[39;49m\u001B[38;5;124;43malpha\u001B[39;49m\u001B[38;5;124;43m'\u001B[39;49m\u001B[43m]\u001B[49m\u001B[43m,\u001B[49m\n\u001B[1;32m     11\u001B[0m \u001B[43m        \u001B[49m\u001B[38;5;124;43m'\u001B[39;49m\u001B[38;5;124;43malpha_value\u001B[39;49m\u001B[38;5;124;43m'\u001B[39;49m\u001B[43m:\u001B[49m\u001B[43m \u001B[49m\u001B[38;5;28;43mrange\u001B[39;49m\u001B[43m(\u001B[49m\u001B[38;5;241;43m10\u001B[39;49m\u001B[43m,\u001B[49m\u001B[43m \u001B[49m\u001B[38;5;241;43m15\u001B[39;49m\u001B[43m)\u001B[49m\n\u001B[1;32m     12\u001B[0m \u001B[43m    \u001B[49m\u001B[43m}\u001B[49m\u001B[43m,\u001B[49m\n\u001B[1;32m     13\u001B[0m \u001B[43m    \u001B[49m\u001B[43mnum_of_recommended\u001B[49m\u001B[38;5;241;43m=\u001B[39;49m\u001B[38;5;241;43m10\u001B[39;49m\n\u001B[1;32m     14\u001B[0m \u001B[43m)\u001B[49m\n",
      "Input \u001B[0;32mIn [8]\u001B[0m, in \u001B[0;36mcross_validation\u001B[0;34m(user_activity_df, user_event_df, recommender, parameters, num_of_clicked, num_of_recommended)\u001B[0m\n\u001B[1;32m     18\u001B[0m \u001B[38;5;28;01mfor\u001B[39;00m params \u001B[38;5;129;01min\u001B[39;00m tqdm_notebook(ParameterGrid(parameters)):\n\u001B[1;32m     19\u001B[0m     rec \u001B[38;5;241m=\u001B[39m recommender(\u001B[38;5;241m*\u001B[39m\u001B[38;5;241m*\u001B[39mparams)\n\u001B[0;32m---> 20\u001B[0m     probability \u001B[38;5;241m=\u001B[39m \u001B[43mevaluate\u001B[49m\u001B[43m(\u001B[49m\n\u001B[1;32m     21\u001B[0m \u001B[43m        \u001B[49m\u001B[43muser_id\u001B[49m\u001B[38;5;241;43m=\u001B[39;49m\u001B[43muser_from_interval\u001B[49m\u001B[38;5;241;43m.\u001B[39;49m\u001B[43muser_id\u001B[49m\u001B[43m,\u001B[49m\n\u001B[1;32m     22\u001B[0m \u001B[43m        \u001B[49m\u001B[43muser_event_df\u001B[49m\u001B[38;5;241;43m=\u001B[39;49m\u001B[43muser_event_df\u001B[49m\u001B[43m,\u001B[49m\n\u001B[1;32m     23\u001B[0m \u001B[43m        \u001B[49m\u001B[43mrecommender\u001B[49m\u001B[38;5;241;43m=\u001B[39;49m\u001B[43mrec\u001B[49m\u001B[43m,\u001B[49m\n\u001B[1;32m     24\u001B[0m \u001B[43m        \u001B[49m\u001B[43mnumber_of_recommended\u001B[49m\u001B[38;5;241;43m=\u001B[39;49m\u001B[43mnum_of_recommended\u001B[49m\n\u001B[1;32m     25\u001B[0m \u001B[43m    \u001B[49m\u001B[43m)\u001B[49m\n\u001B[1;32m     26\u001B[0m     \u001B[38;5;28;01mif\u001B[39;00m probability \u001B[38;5;241m>\u001B[39m max_probability:\n\u001B[1;32m     27\u001B[0m         \u001B[38;5;28mprint\u001B[39m(probability)\n",
      "Input \u001B[0;32mIn [7]\u001B[0m, in \u001B[0;36mevaluate\u001B[0;34m(user_id, user_event_df, recommender, number_of_recommended)\u001B[0m\n\u001B[1;32m     11\u001B[0m example \u001B[38;5;241m=\u001B[39m user_event_df[(user_event_df\u001B[38;5;241m.\u001B[39muser_id \u001B[38;5;241m==\u001B[39m clicked_event\u001B[38;5;241m.\u001B[39muser_id) \u001B[38;5;241m&\u001B[39m\n\u001B[1;32m     12\u001B[0m                         (user_event_df\u001B[38;5;241m.\u001B[39mitem_id \u001B[38;5;241m==\u001B[39m clicked_event\u001B[38;5;241m.\u001B[39mitem_id)]\n\u001B[1;32m     13\u001B[0m us_ev \u001B[38;5;241m=\u001B[39m user_event_df\u001B[38;5;241m.\u001B[39mdrop(example\u001B[38;5;241m.\u001B[39mindex)\n\u001B[0;32m---> 14\u001B[0m \u001B[43mrecommender\u001B[49m\u001B[38;5;241;43m.\u001B[39;49m\u001B[43mfit\u001B[49m\u001B[43m(\u001B[49m\u001B[43muser_item_df\u001B[49m\u001B[38;5;241;43m=\u001B[39;49m\u001B[43mus_ev\u001B[49m\u001B[43m,\u001B[49m\u001B[43m \u001B[49m\u001B[43mshow_progress\u001B[49m\u001B[38;5;241;43m=\u001B[39;49m\u001B[38;5;28;43;01mFalse\u001B[39;49;00m\u001B[43m)\u001B[49m\n\u001B[1;32m     15\u001B[0m recommended_to_user \u001B[38;5;241m=\u001B[39m recommender\u001B[38;5;241m.\u001B[39mget_user_recommendation(user_id, number_of_recommended, as_pd_dataframe\u001B[38;5;241m=\u001B[39m\u001B[38;5;28;01mTrue\u001B[39;00m)\n\u001B[1;32m     16\u001B[0m \u001B[38;5;28;01mif\u001B[39;00m example\u001B[38;5;241m.\u001B[39miloc[\u001B[38;5;241m0\u001B[39m]\u001B[38;5;241m.\u001B[39mitem_id \u001B[38;5;129;01min\u001B[39;00m \u001B[38;5;28mlist\u001B[39m(recommended_to_user\u001B[38;5;241m.\u001B[39mitem_id\u001B[38;5;241m.\u001B[39mvalues):\n",
      "File \u001B[0;32m/media/maxim/5d25e004-74c4-4174-8cd3-d5dce3ff6981/maxim/python_projects/pushkin_card_recommender_system/recommenders/implicit_models.py:188\u001B[0m, in \u001B[0;36mALSRecommender.fit\u001B[0;34m(self, user_item_df, extra_item_ids, show_progress, *args, **kwargs)\u001B[0m\n\u001B[1;32m    182\u001B[0m \u001B[38;5;28mself\u001B[39m\u001B[38;5;241m.\u001B[39mmodel \u001B[38;5;241m=\u001B[39m AlternatingLeastSquares(\n\u001B[1;32m    183\u001B[0m     factors\u001B[38;5;241m=\u001B[39m\u001B[38;5;28mself\u001B[39m\u001B[38;5;241m.\u001B[39mfactors,\n\u001B[1;32m    184\u001B[0m     regularization\u001B[38;5;241m=\u001B[39m\u001B[38;5;28mself\u001B[39m\u001B[38;5;241m.\u001B[39mregularization,\n\u001B[1;32m    185\u001B[0m     iterations\u001B[38;5;241m=\u001B[39m\u001B[38;5;28mself\u001B[39m\u001B[38;5;241m.\u001B[39miterations,\n\u001B[1;32m    186\u001B[0m     num_threads\u001B[38;5;241m=\u001B[39m\u001B[38;5;28mself\u001B[39m\u001B[38;5;241m.\u001B[39mnum_of_threads)\n\u001B[1;32m    187\u001B[0m \u001B[38;5;28;01mif\u001B[39;00m \u001B[38;5;28mself\u001B[39m\u001B[38;5;241m.\u001B[39mconfidence \u001B[38;5;241m==\u001B[39m \u001B[38;5;124m'\u001B[39m\u001B[38;5;124malpha\u001B[39m\u001B[38;5;124m'\u001B[39m \u001B[38;5;129;01mor\u001B[39;00m \u001B[38;5;28mself\u001B[39m\u001B[38;5;241m.\u001B[39mconfidence \u001B[38;5;129;01mis\u001B[39;00m \u001B[38;5;28;01mNone\u001B[39;00m:\n\u001B[0;32m--> 188\u001B[0m     \u001B[38;5;28;43mself\u001B[39;49m\u001B[38;5;241;43m.\u001B[39;49m\u001B[43mmodel\u001B[49m\u001B[38;5;241;43m.\u001B[39;49m\u001B[43mfit\u001B[49m\u001B[43m(\u001B[49m\u001B[43m(\u001B[49m\u001B[38;5;28;43mself\u001B[39;49m\u001B[38;5;241;43m.\u001B[39;49m\u001B[43msparse_item_user\u001B[49m\u001B[43m \u001B[49m\u001B[38;5;241;43m*\u001B[39;49m\u001B[43m \u001B[49m\u001B[38;5;28;43mself\u001B[39;49m\u001B[38;5;241;43m.\u001B[39;49m\u001B[43malpha_value\u001B[49m\u001B[43m)\u001B[49m\u001B[38;5;241;43m.\u001B[39;49m\u001B[43mastype\u001B[49m\u001B[43m(\u001B[49m\u001B[38;5;124;43m'\u001B[39;49m\u001B[38;5;124;43mdouble\u001B[39;49m\u001B[38;5;124;43m'\u001B[39;49m\u001B[43m)\u001B[49m\u001B[43m,\u001B[49m\u001B[43m \u001B[49m\u001B[43mshow_progress\u001B[49m\u001B[38;5;241;43m=\u001B[39;49m\u001B[43mshow_progress\u001B[49m\u001B[43m)\u001B[49m\n\u001B[1;32m    189\u001B[0m \u001B[38;5;28;01melif\u001B[39;00m \u001B[38;5;28mself\u001B[39m\u001B[38;5;241m.\u001B[39mconfidence \u001B[38;5;241m==\u001B[39m \u001B[38;5;124m'\u001B[39m\u001B[38;5;124mbm25\u001B[39m\u001B[38;5;124m'\u001B[39m:\n\u001B[1;32m    190\u001B[0m     \u001B[38;5;28mself\u001B[39m\u001B[38;5;241m.\u001B[39mmodel\u001B[38;5;241m.\u001B[39mfit(bm25_weight(\u001B[38;5;28mself\u001B[39m\u001B[38;5;241m.\u001B[39msparse_item_user, K1\u001B[38;5;241m=\u001B[39m\u001B[38;5;28mself\u001B[39m\u001B[38;5;241m.\u001B[39mK1, B\u001B[38;5;241m=\u001B[39m\u001B[38;5;28mself\u001B[39m\u001B[38;5;241m.\u001B[39mB), show_progress\u001B[38;5;241m=\u001B[39mshow_progress)\n",
      "File \u001B[0;32m/media/maxim/5d25e004-74c4-4174-8cd3-d5dce3ff6981/maxim/anaconda/envs/pushkin_card_recommender_system/lib/python3.8/site-packages/implicit/gpu/als.py:143\u001B[0m, in \u001B[0;36mAlternatingLeastSquares.fit\u001B[0;34m(self, item_users, show_progress)\u001B[0m\n\u001B[1;32m    141\u001B[0m s \u001B[38;5;241m=\u001B[39m time\u001B[38;5;241m.\u001B[39mtime()\n\u001B[1;32m    142\u001B[0m solver\u001B[38;5;241m.\u001B[39mleast_squares(Cui, X, Y, \u001B[38;5;28mself\u001B[39m\u001B[38;5;241m.\u001B[39mregularization, \u001B[38;5;28mself\u001B[39m\u001B[38;5;241m.\u001B[39mcg_steps)\n\u001B[0;32m--> 143\u001B[0m \u001B[43msolver\u001B[49m\u001B[38;5;241;43m.\u001B[39;49m\u001B[43mleast_squares\u001B[49m\u001B[43m(\u001B[49m\u001B[43mCiu\u001B[49m\u001B[43m,\u001B[49m\u001B[43m \u001B[49m\u001B[43mY\u001B[49m\u001B[43m,\u001B[49m\u001B[43m \u001B[49m\u001B[43mX\u001B[49m\u001B[43m,\u001B[49m\u001B[43m \u001B[49m\u001B[38;5;28;43mself\u001B[39;49m\u001B[38;5;241;43m.\u001B[39;49m\u001B[43mregularization\u001B[49m\u001B[43m,\u001B[49m\u001B[43m \u001B[49m\u001B[38;5;28;43mself\u001B[39;49m\u001B[38;5;241;43m.\u001B[39;49m\u001B[43mcg_steps\u001B[49m\u001B[43m)\u001B[49m\n\u001B[1;32m    144\u001B[0m progress\u001B[38;5;241m.\u001B[39mupdate(\u001B[38;5;241m1\u001B[39m)\n\u001B[1;32m    146\u001B[0m \u001B[38;5;28;01mif\u001B[39;00m \u001B[38;5;28mself\u001B[39m\u001B[38;5;241m.\u001B[39mfit_callback:\n",
      "\u001B[0;31mKeyboardInterrupt\u001B[0m: "
     ]
    }
   ],
   "source": [
    "best_model, params = cross_validation(\n",
    "    user_event_df=bashkortostan_user_event,\n",
    "    user_activity_df=bashkortostan_activity,\n",
    "    num_of_clicked=5,\n",
    "    recommender=ALSRecommender,\n",
    "    parameters={\n",
    "        'factors': range(20, 101),\n",
    "        'regularization': [j for j in np.linspace(0, 1, 11, endpoint=False)],\n",
    "        'iterations': [100],\n",
    "        'confidence': ['alpha'],\n",
    "        'alpha_value': range(10, 15)\n",
    "    },\n",
    "    num_of_recommended=10\n",
    ")"
   ],
   "metadata": {
    "collapsed": false,
    "pycharm": {
     "name": "#%%\n"
    }
   }
  },
  {
   "cell_type": "code",
   "execution_count": 13,
   "outputs": [
    {
     "name": "stderr",
     "output_type": "stream",
     "text": [
      "/tmp/ipykernel_9625/3540569839.py:18: TqdmDeprecationWarning: This function will be removed in tqdm==5.0.0\n",
      "Please use `tqdm.notebook.tqdm` instead of `tqdm.tqdm_notebook`\n",
      "  for params in tqdm_notebook(ParameterGrid(parameters)):\n"
     ]
    },
    {
     "data": {
      "text/plain": "  0%|          | 0/2673 [00:00<?, ?it/s]",
      "application/vnd.jupyter.widget-view+json": {
       "version_major": 2,
       "version_minor": 0,
       "model_id": "f3df82d45e1d4ae4975da9af046d9c65"
      }
     },
     "metadata": {},
     "output_type": "display_data"
    },
    {
     "name": "stdout",
     "output_type": "stream",
     "text": [
      "0.4\n",
      "0.6\n",
      "0.8\n",
      "0.8 {'factors': 26, 'learning_rate': 0.03, 'regularization': 0.0}\n"
     ]
    },
    {
     "data": {
      "text/plain": "(<recommenders.implicit_models.BPRRecommender at 0x7f5b563f4970>,\n {'factors': 26, 'learning_rate': 0.03, 'regularization': 0.0})"
     },
     "execution_count": 13,
     "metadata": {},
     "output_type": "execute_result"
    }
   ],
   "source": [
    "cross_validation(\n",
    "    user_event_df=bashkortostan_user_event,\n",
    "    user_activity_df=bashkortostan_activity,\n",
    "    num_of_clicked=5,\n",
    "    recommender=BPRRecommender,\n",
    "    parameters={\n",
    "        'factors': range(20, 101),\n",
    "        'learning_rate': [0.01, 0.02, 0.03],\n",
    "        'regularization': [j for j in np.linspace(0, 1, 11, endpoint=False)],\n",
    "    },\n",
    "    num_of_recommended=10\n",
    ")"
   ],
   "metadata": {
    "collapsed": false,
    "pycharm": {
     "name": "#%%\n"
    }
   }
  },
  {
   "cell_type": "code",
   "execution_count": 20,
   "outputs": [],
   "source": [
    "def test_best_model(\n",
    "        best_model: UserItemRecommender,\n",
    "        user_item_df: pd.DataFrame,\n",
    "        user_activity_df: pd.DataFrame,\n",
    "        num_of_clicked: int = 5,\n",
    "        num_of_recommended: int = 10\n",
    ") -> float:\n",
    "    users_in_interval = user_activity_df.loc[\n",
    "        (user_activity_df.diapason == '(0:5]') &\n",
    "        (user_activity_df.clicks_count == num_of_clicked)\n",
    "        ].sample(frac=0.25)\n",
    "\n",
    "    median_probability = 0.0\n",
    "    counter = 0\n",
    "    for _, user in users_in_interval.iterrows():\n",
    "        median_probability += evaluate(\n",
    "            user_id=user.user_id,\n",
    "            user_event_df=user_item_df,\n",
    "            recommender=best_model,\n",
    "            number_of_recommended=num_of_recommended\n",
    "        )\n",
    "        counter += 1\n",
    "    else:\n",
    "        median_probability = median_probability / counter\n",
    "\n",
    "    return  median_probability"
   ],
   "metadata": {
    "collapsed": false,
    "pycharm": {
     "name": "#%%\n"
    }
   }
  },
  {
   "cell_type": "code",
   "execution_count": 21,
   "outputs": [
    {
     "data": {
      "text/plain": "0.4882352941176471"
     },
     "execution_count": 21,
     "metadata": {},
     "output_type": "execute_result"
    }
   ],
   "source": [
    "test_best_model(\n",
    "    best_model=BPRRecommender(factors=26, learning_rate=0.03, regularization=0.0),\n",
    "    user_item_df=bashkortostan_user_event,\n",
    "    user_activity_df=bashkortostan_activity\n",
    ")"
   ],
   "metadata": {
    "collapsed": false,
    "pycharm": {
     "name": "#%%\n"
    }
   }
  },
  {
   "cell_type": "code",
   "execution_count": 23,
   "outputs": [
    {
     "data": {
      "text/plain": "0.5176470588235295"
     },
     "execution_count": 23,
     "metadata": {},
     "output_type": "execute_result"
    }
   ],
   "source": [
    "test_best_model(\n",
    "    best_model=best_model,\n",
    "    user_item_df=bashkortostan_user_event,\n",
    "    user_activity_df=bashkortostan_activity\n",
    ")"
   ],
   "metadata": {
    "collapsed": false,
    "pycharm": {
     "name": "#%%\n"
    }
   }
  }
 ],
 "metadata": {
  "kernelspec": {
   "display_name": "Python 3",
   "language": "python",
   "name": "python3"
  },
  "language_info": {
   "codemirror_mode": {
    "name": "ipython",
    "version": 2
   },
   "file_extension": ".py",
   "mimetype": "text/x-python",
   "name": "python",
   "nbconvert_exporter": "python",
   "pygments_lexer": "ipython2",
   "version": "2.7.6"
  }
 },
 "nbformat": 4,
 "nbformat_minor": 0
}