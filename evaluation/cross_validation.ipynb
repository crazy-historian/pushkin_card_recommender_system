{
 "cells": [
  {
   "cell_type": "markdown",
   "metadata": {
    "collapsed": true,
    "pycharm": {
     "name": "#%% md\n"
    }
   },
   "source": [
    "## Общая схема кросс валидации\n",
    "\n",
    "1. Из датафрейма берется та часть пользователей, которая кликала от 1 до 5 мероприятий. Они принадлежат 95 % всей выборки\n",
    "2. Из этой части случайным образом выбирается один пользователь с фиксированным числом кликнутых мероприятий от 3 до 5\n",
    "3. Получаем список кликнутых пользователем мероприятий\n",
    "4. Цикл по кликнутым мероприятиям:\n",
    "4.1 Из общей выборки исключается строка с записью о клике выбранного пользователя на мероприятие\n",
    "4.2 Обучение модели по данным с исключенным мероприятием\n",
    "4.3 Получение списка из N мероприятий для данного пользователя\n",
    "4.4 Проверяем, есть ли исключенное мероприятие в списке рекомендованных"
   ]
  },
  {
   "cell_type": "code",
   "execution_count": 1,
   "outputs": [],
   "source": [
    "import pandas as pd\n",
    "import numpy as np\n",
    "from preprocessing import data_management as dm\n",
    "from sklearn.model_selection import ParameterGrid\n",
    "from recommenders.implicit_models import UserItemRecommender, ALSRecommender"
   ],
   "metadata": {
    "collapsed": false,
    "pycharm": {
     "name": "#%%\n"
    }
   }
  },
  {
   "cell_type": "code",
   "execution_count": 2,
   "outputs": [],
   "source": [
    "def split_df_into_diapasons(df: pd.DataFrame) -> pd.DataFrame:\n",
    "    activity = df.groupby('user_id')['clicks_count'].count().sort_values(ascending=False).reset_index()\n",
    "    activity['diapason'] = pd.cut(activity['clicks_count'], bins=np.linspace(0, 70, 15),\n",
    "                                  labels=[f'({i}:{j}]' for i, j in zip(range(0, 70, 5), range(5, 75, 5))])\n",
    "    return activity"
   ],
   "metadata": {
    "collapsed": false,
    "pycharm": {
     "name": "#%%\n"
    }
   }
  },
  {
   "cell_type": "code",
   "execution_count": 8,
   "outputs": [],
   "source": [
    "def evaluate(\n",
    "        user_id: str,\n",
    "        user_event_df: pd.DataFrame,\n",
    "        recommender: UserItemRecommender,\n",
    "        number_of_recommended=10\n",
    ") -> float:\n",
    "    clicked_by_user = user_event_df.loc[user_event_df.user_id == user_id]\n",
    "\n",
    "    count = 0\n",
    "    for _, clicked_event in clicked_by_user.iterrows():\n",
    "        example = user_event_df[(user_event_df.user_id == clicked_event.user_id) &\n",
    "                                (user_event_df.item_id == clicked_event.item_id)]\n",
    "        us_ev = user_event_df.drop(example.index)\n",
    "        recommender.fit(user_item_df=us_ev)\n",
    "        recommended_to_user = recommender.get_user_recommendation(user_id, number_of_recommended, as_pd_dataframe=True)\n",
    "\n",
    "        if example.iloc[0].item_id in list(recommended_to_user.item_id.values):\n",
    "            count += 1\n",
    "\n",
    "    return round(count / len(clicked_by_user), 2)"
   ],
   "metadata": {
    "collapsed": false,
    "pycharm": {
     "name": "#%%\n"
    }
   }
  },
  {
   "cell_type": "markdown",
   "source": [],
   "metadata": {
    "collapsed": false
   }
  },
  {
   "cell_type": "code",
   "execution_count": 10,
   "outputs": [],
   "source": [
    "def cross_validation(\n",
    "        user_activity_df: pd.DataFrame,\n",
    "        user_event_df: pd.DataFrame,\n",
    "        num_of_clicked: int = 5,\n",
    "        num_of_recommended: int = 10\n",
    "):\n",
    "    users_in_interval = user_activity_df.loc[\n",
    "        (user_activity_df.diapason == '(0:5]') &\n",
    "        (user_activity_df.clicks_count == num_of_clicked)\n",
    "        ]\n",
    "\n",
    "    als_parameters = {\n",
    "        'factors': [i for i in range(20, 101)],\n",
    "        'regularization': [j for j in np.linspace(0, 1, 11, endpoint=False)],\n",
    "        'iterations': [k for k in range(100, 200, 20)],\n",
    "        'confidence': ['alpha'],\n",
    "        'alpha_value': [g for g in range(5, 21)]\n",
    "    }\n",
    "    user_from_interval = users_in_interval.sample().iloc[0]\n",
    "    best_params = dict()\n",
    "    max_probability = 0\n",
    "    for params in ParameterGrid(als_parameters):\n",
    "        recommender = ALSRecommender(**params)\n",
    "        probability = evaluate(\n",
    "            user_id=user_from_interval.user_id,\n",
    "            user_event_df=user_event_df,\n",
    "            recommender=recommender,\n",
    "            number_of_recommended=num_of_recommended\n",
    "        )\n",
    "        if probability > max_probability:\n",
    "            max_probability = probability\n",
    "            best_params = params\n",
    "        break\n",
    "\n",
    "    print(max_probability, best_params)\n"
   ],
   "metadata": {
    "collapsed": false,
    "pycharm": {
     "name": "#%%\n"
    }
   }
  },
  {
   "cell_type": "code",
   "execution_count": 5,
   "outputs": [
    {
     "data": {
      "text/plain": "                               user_id  clicks_count diapason\n0     e4f8e204a900fa2b4ad6f3fbb48b5585            36  (35:40]\n1     bdfae6b594bc1f28467b4f2db002746e            35  (30:35]\n2     df35377e953a13a7ad537ba04737b826            30  (25:30]\n3     4e3f977e66736abb763b3fcab57b122b            28  (25:30]\n4     2b0c5f923468dc1b1d199ea46f503022            28  (25:30]\n...                                ...           ...      ...\n5870  33ca62f0ef71ecf58e3ae098c2957388             1    (0:5]\n5871  33bf851266570c7d0572d531da46bae9             1    (0:5]\n5872  8c90eb1e907a4799995f8cd255e2d488             1    (0:5]\n5873  8cb19200880fb3ab173feb9df18b4c5e             1    (0:5]\n5874  000b1ca3e2eefa7c8b24ed417548b301             1    (0:5]\n\n[5875 rows x 3 columns]",
      "text/html": "<div>\n<style scoped>\n    .dataframe tbody tr th:only-of-type {\n        vertical-align: middle;\n    }\n\n    .dataframe tbody tr th {\n        vertical-align: top;\n    }\n\n    .dataframe thead th {\n        text-align: right;\n    }\n</style>\n<table border=\"1\" class=\"dataframe\">\n  <thead>\n    <tr style=\"text-align: right;\">\n      <th></th>\n      <th>user_id</th>\n      <th>clicks_count</th>\n      <th>diapason</th>\n    </tr>\n  </thead>\n  <tbody>\n    <tr>\n      <th>0</th>\n      <td>e4f8e204a900fa2b4ad6f3fbb48b5585</td>\n      <td>36</td>\n      <td>(35:40]</td>\n    </tr>\n    <tr>\n      <th>1</th>\n      <td>bdfae6b594bc1f28467b4f2db002746e</td>\n      <td>35</td>\n      <td>(30:35]</td>\n    </tr>\n    <tr>\n      <th>2</th>\n      <td>df35377e953a13a7ad537ba04737b826</td>\n      <td>30</td>\n      <td>(25:30]</td>\n    </tr>\n    <tr>\n      <th>3</th>\n      <td>4e3f977e66736abb763b3fcab57b122b</td>\n      <td>28</td>\n      <td>(25:30]</td>\n    </tr>\n    <tr>\n      <th>4</th>\n      <td>2b0c5f923468dc1b1d199ea46f503022</td>\n      <td>28</td>\n      <td>(25:30]</td>\n    </tr>\n    <tr>\n      <th>...</th>\n      <td>...</td>\n      <td>...</td>\n      <td>...</td>\n    </tr>\n    <tr>\n      <th>5870</th>\n      <td>33ca62f0ef71ecf58e3ae098c2957388</td>\n      <td>1</td>\n      <td>(0:5]</td>\n    </tr>\n    <tr>\n      <th>5871</th>\n      <td>33bf851266570c7d0572d531da46bae9</td>\n      <td>1</td>\n      <td>(0:5]</td>\n    </tr>\n    <tr>\n      <th>5872</th>\n      <td>8c90eb1e907a4799995f8cd255e2d488</td>\n      <td>1</td>\n      <td>(0:5]</td>\n    </tr>\n    <tr>\n      <th>5873</th>\n      <td>8cb19200880fb3ab173feb9df18b4c5e</td>\n      <td>1</td>\n      <td>(0:5]</td>\n    </tr>\n    <tr>\n      <th>5874</th>\n      <td>000b1ca3e2eefa7c8b24ed417548b301</td>\n      <td>1</td>\n      <td>(0:5]</td>\n    </tr>\n  </tbody>\n</table>\n<p>5875 rows × 3 columns</p>\n</div>"
     },
     "execution_count": 5,
     "metadata": {},
     "output_type": "execute_result"
    }
   ],
   "source": [
    "bashkortostan_user_event = pd.read_csv('../dataset/user_event_dfs/bashkortostan_user_event_df.csv')\n",
    "bashkortostan_user_event.drop(columns='Unnamed: 0', inplace=True)\n",
    "bashkortostan_activity = split_df_into_diapasons(df=bashkortostan_user_event)\n",
    "bashkortostan_activity"
   ],
   "metadata": {
    "collapsed": false,
    "pycharm": {
     "name": "#%%\n"
    }
   }
  },
  {
   "cell_type": "code",
   "execution_count": 6,
   "outputs": [],
   "source": [
    "bashkortostan_user_event = dm.numerate_user_event_df(bashkortostan_user_event)\n",
    "bashkortostan_user_event = bashkortostan_user_event.rename(columns={\n",
    "    'event_id': 'item_id',\n",
    "    'event_num': 'item_num',\n",
    "    'clicks_count': 'rating'\n",
    "})"
   ],
   "metadata": {
    "collapsed": false,
    "pycharm": {
     "name": "#%%\n"
    }
   }
  },
  {
   "cell_type": "markdown",
   "source": [],
   "metadata": {
    "collapsed": false,
    "pycharm": {
     "name": "#%% md\n"
    }
   }
  },
  {
   "cell_type": "code",
   "execution_count": 11,
   "outputs": [
    {
     "data": {
      "text/plain": "  0%|          | 0/100 [00:00<?, ?it/s]",
      "application/vnd.jupyter.widget-view+json": {
       "version_major": 2,
       "version_minor": 0,
       "model_id": "fc7537c0261744bb93380a39a14a47cc"
      }
     },
     "metadata": {},
     "output_type": "display_data"
    },
    {
     "data": {
      "text/plain": "  0%|          | 0/100 [00:00<?, ?it/s]",
      "application/vnd.jupyter.widget-view+json": {
       "version_major": 2,
       "version_minor": 0,
       "model_id": "bee5bf652b04428f97749a850af3273e"
      }
     },
     "metadata": {},
     "output_type": "display_data"
    },
    {
     "data": {
      "text/plain": "  0%|          | 0/100 [00:00<?, ?it/s]",
      "application/vnd.jupyter.widget-view+json": {
       "version_major": 2,
       "version_minor": 0,
       "model_id": "51be8ebbef8d432d93cc8ee80566e9a3"
      }
     },
     "metadata": {},
     "output_type": "display_data"
    },
    {
     "data": {
      "text/plain": "  0%|          | 0/100 [00:00<?, ?it/s]",
      "application/vnd.jupyter.widget-view+json": {
       "version_major": 2,
       "version_minor": 0,
       "model_id": "d5eacf8794b24aa5a8b3f22babd92818"
      }
     },
     "metadata": {},
     "output_type": "display_data"
    },
    {
     "data": {
      "text/plain": "  0%|          | 0/100 [00:00<?, ?it/s]",
      "application/vnd.jupyter.widget-view+json": {
       "version_major": 2,
       "version_minor": 0,
       "model_id": "78793fb839354f3a983a9884fa4f39ea"
      }
     },
     "metadata": {},
     "output_type": "display_data"
    },
    {
     "name": "stdout",
     "output_type": "stream",
     "text": [
      "0 {}\n"
     ]
    }
   ],
   "source": [
    "cross_validation(\n",
    "    user_event_df=bashkortostan_user_event,\n",
    "    user_activity_df=bashkortostan_activity,\n",
    "    num_of_clicked=5,\n",
    "    num_of_recommended=10\n",
    ")"
   ],
   "metadata": {
    "collapsed": false,
    "pycharm": {
     "name": "#%%\n"
    }
   }
  }
 ],
 "metadata": {
  "kernelspec": {
   "display_name": "Python 3",
   "language": "python",
   "name": "python3"
  },
  "language_info": {
   "codemirror_mode": {
    "name": "ipython",
    "version": 2
   },
   "file_extension": ".py",
   "mimetype": "text/x-python",
   "name": "python",
   "nbconvert_exporter": "python",
   "pygments_lexer": "ipython2",
   "version": "2.7.6"
  }
 },
 "nbformat": 4,
 "nbformat_minor": 0
}