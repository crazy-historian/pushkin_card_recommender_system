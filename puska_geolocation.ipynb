{
 "cells": [
  {
   "cell_type": "code",
   "execution_count": 2,
   "metadata": {},
   "outputs": [],
   "source": [
    "import pandas as pd\n",
    "import numpy as np\n",
    "import math\n",
    "import json"
   ]
  },
  {
   "cell_type": "code",
   "execution_count": 3,
   "metadata": {},
   "outputs": [],
   "source": [
    "path = 'C:/Users/Rusla/Documents/GitHub/pushka_intern' #/Sample/input"
   ]
  },
  {
   "cell_type": "code",
   "execution_count": 4,
   "metadata": {},
   "outputs": [],
   "source": [
    "organizations = pd.read_csv(path + '/Sample/input/organizations.csv', sep = ';')"
   ]
  },
  {
   "cell_type": "code",
   "execution_count": 5,
   "metadata": {},
   "outputs": [
    {
     "name": "stdout",
     "output_type": "stream",
     "text": [
      "<class 'pandas.core.frame.DataFrame'>\n",
      "RangeIndex: 3270 entries, 0 to 3269\n",
      "Data columns (total 5 columns):\n",
      " #   Column      Non-Null Count  Dtype  \n",
      "---  ------      --------------  -----  \n",
      " 0   ID          3270 non-null   int64  \n",
      " 1   Учреждение  3270 non-null   object \n",
      " 2   Адрес       3270 non-null   object \n",
      " 3   ИНН         3260 non-null   float64\n",
      " 4   Категория   3232 non-null   object \n",
      "dtypes: float64(1), int64(1), object(3)\n",
      "memory usage: 127.9+ KB\n"
     ]
    }
   ],
   "source": [
    "organizations.info()"
   ]
  },
  {
   "cell_type": "code",
   "execution_count": 6,
   "metadata": {},
   "outputs": [],
   "source": [
    "organizations['ИНН'] = organizations['ИНН'].apply(lambda x: int(x) if math.isnan(float(x)) == False else 1)"
   ]
  },
  {
   "cell_type": "code",
   "execution_count": 7,
   "metadata": {},
   "outputs": [],
   "source": [
    "organizations_2 = pd.read_excel(path + '/Sample/Организации.xlsx', engine='openpyxl')"
   ]
  },
  {
   "cell_type": "code",
   "execution_count": 8,
   "metadata": {},
   "outputs": [
    {
     "name": "stdout",
     "output_type": "stream",
     "text": [
      "<class 'pandas.core.frame.DataFrame'>\n",
      "RangeIndex: 98021 entries, 0 to 98020\n",
      "Data columns (total 10 columns):\n",
      " #   Column               Non-Null Count  Dtype  \n",
      "---  ------               --------------  -----  \n",
      " 0   ИД                   98021 non-null  int64  \n",
      " 1   Полное наименование  95667 non-null  object \n",
      " 2   ИНН                  47728 non-null  object \n",
      " 3   Федеральный округ    98021 non-null  object \n",
      " 4   Субъект РФ           98021 non-null  object \n",
      " 5   Район/округ          94870 non-null  object \n",
      " 6   Вид организации      98021 non-null  object \n",
      " 7   Тип организации      94542 non-null  object \n",
      " 8   Широта               96196 non-null  float64\n",
      " 9   Долгота              96156 non-null  float64\n",
      "dtypes: float64(2), int64(1), object(7)\n",
      "memory usage: 7.5+ MB\n"
     ]
    }
   ],
   "source": [
    "organizations_2.info()"
   ]
  },
  {
   "cell_type": "code",
   "execution_count": 9,
   "metadata": {},
   "outputs": [],
   "source": [
    "organizations_2['ИНН'] = organizations_2['ИНН'].str.replace(' ', '')"
   ]
  },
  {
   "cell_type": "code",
   "execution_count": 10,
   "metadata": {},
   "outputs": [],
   "source": [
    "organizations_2['ИНН'] = organizations_2['ИНН'].apply(lambda x: int(x) if math.isnan(float(x)) == False else 0)"
   ]
  },
  {
   "cell_type": "markdown",
   "metadata": {},
   "source": [
    "organizations = pd.merge(organizations, organizations_2[['ИНН', 'Широта', 'Долгота']],\n",
    "                     how = 'left', on = 'ИНН')"
   ]
  },
  {
   "cell_type": "code",
   "execution_count": 11,
   "metadata": {},
   "outputs": [],
   "source": [
    "organizations = organizations.merge(\n",
    "    organizations_2.drop_duplicates(subset=['ИНН']), left_on='ИНН', right_on=['ИНН'], how='left')"
   ]
  },
  {
   "cell_type": "code",
   "execution_count": 12,
   "metadata": {},
   "outputs": [
    {
     "name": "stdout",
     "output_type": "stream",
     "text": [
      "<class 'pandas.core.frame.DataFrame'>\n",
      "Int64Index: 3270 entries, 0 to 3269\n",
      "Data columns (total 14 columns):\n",
      " #   Column               Non-Null Count  Dtype  \n",
      "---  ------               --------------  -----  \n",
      " 0   ID                   3270 non-null   int64  \n",
      " 1   Учреждение           3270 non-null   object \n",
      " 2   Адрес                3270 non-null   object \n",
      " 3   ИНН                  3270 non-null   int64  \n",
      " 4   Категория            3232 non-null   object \n",
      " 5   ИД                   2609 non-null   float64\n",
      " 6   Полное наименование  2606 non-null   object \n",
      " 7   Федеральный округ    2609 non-null   object \n",
      " 8   Субъект РФ           2609 non-null   object \n",
      " 9   Район/округ          2274 non-null   object \n",
      " 10  Вид организации      2609 non-null   object \n",
      " 11  Тип организации      2479 non-null   object \n",
      " 12  Широта               2606 non-null   float64\n",
      " 13  Долгота              2606 non-null   float64\n",
      "dtypes: float64(3), int64(2), object(9)\n",
      "memory usage: 383.2+ KB\n"
     ]
    }
   ],
   "source": [
    "organizations.info()"
   ]
  },
  {
   "cell_type": "code",
   "execution_count": 13,
   "metadata": {},
   "outputs": [
    {
     "data": {
      "text/html": [
       "<div>\n",
       "<style scoped>\n",
       "    .dataframe tbody tr th:only-of-type {\n",
       "        vertical-align: middle;\n",
       "    }\n",
       "\n",
       "    .dataframe tbody tr th {\n",
       "        vertical-align: top;\n",
       "    }\n",
       "\n",
       "    .dataframe thead th {\n",
       "        text-align: right;\n",
       "    }\n",
       "</style>\n",
       "<table border=\"1\" class=\"dataframe\">\n",
       "  <thead>\n",
       "    <tr style=\"text-align: right;\">\n",
       "      <th></th>\n",
       "      <th>ID</th>\n",
       "      <th>Учреждение</th>\n",
       "      <th>Адрес</th>\n",
       "      <th>ИНН</th>\n",
       "      <th>Категория</th>\n",
       "      <th>ИД</th>\n",
       "      <th>Полное наименование</th>\n",
       "      <th>Федеральный округ</th>\n",
       "      <th>Субъект РФ</th>\n",
       "      <th>Район/округ</th>\n",
       "      <th>Вид организации</th>\n",
       "      <th>Тип организации</th>\n",
       "      <th>Широта</th>\n",
       "      <th>Долгота</th>\n",
       "    </tr>\n",
       "  </thead>\n",
       "  <tbody>\n",
       "    <tr>\n",
       "      <th>6</th>\n",
       "      <td>13</td>\n",
       "      <td>ГБУК «Белгородский государственный историко-ху...</td>\n",
       "      <td>Белгородская обл, г Белгород, ул Попова, д 2</td>\n",
       "      <td>3123044638</td>\n",
       "      <td>Музеи и галереи</td>\n",
       "      <td>NaN</td>\n",
       "      <td>NaN</td>\n",
       "      <td>NaN</td>\n",
       "      <td>NaN</td>\n",
       "      <td>NaN</td>\n",
       "      <td>NaN</td>\n",
       "      <td>NaN</td>\n",
       "      <td>NaN</td>\n",
       "      <td>NaN</td>\n",
       "    </tr>\n",
       "    <tr>\n",
       "      <th>17</th>\n",
       "      <td>33</td>\n",
       "      <td>Дом офицеров</td>\n",
       "      <td>Белгородская обл, г Белгород, ул Куйбышева, д 33А</td>\n",
       "      <td>3123173048</td>\n",
       "      <td>Дворцы культуры и клубы</td>\n",
       "      <td>NaN</td>\n",
       "      <td>NaN</td>\n",
       "      <td>NaN</td>\n",
       "      <td>NaN</td>\n",
       "      <td>NaN</td>\n",
       "      <td>NaN</td>\n",
       "      <td>NaN</td>\n",
       "      <td>NaN</td>\n",
       "      <td>NaN</td>\n",
       "    </tr>\n",
       "    <tr>\n",
       "      <th>21</th>\n",
       "      <td>62</td>\n",
       "      <td>МКУК «Центр народного творчества Ивнянского ра...</td>\n",
       "      <td>Белгородская обл, Ивнянский р-н, рп Ивня, ул З...</td>\n",
       "      <td>3109003911</td>\n",
       "      <td>Дворцы культуры и клубы</td>\n",
       "      <td>NaN</td>\n",
       "      <td>NaN</td>\n",
       "      <td>NaN</td>\n",
       "      <td>NaN</td>\n",
       "      <td>NaN</td>\n",
       "      <td>NaN</td>\n",
       "      <td>NaN</td>\n",
       "      <td>NaN</td>\n",
       "      <td>NaN</td>\n",
       "    </tr>\n",
       "    <tr>\n",
       "      <th>37</th>\n",
       "      <td>125</td>\n",
       "      <td>МБУК «Городской центр народного творчества «Со...</td>\n",
       "      <td>Белгородская обл, г Белгород, пр-кт Б.Хмельниц...</td>\n",
       "      <td>3123037380</td>\n",
       "      <td>Дворцы культуры и клубы</td>\n",
       "      <td>NaN</td>\n",
       "      <td>NaN</td>\n",
       "      <td>NaN</td>\n",
       "      <td>NaN</td>\n",
       "      <td>NaN</td>\n",
       "      <td>NaN</td>\n",
       "      <td>NaN</td>\n",
       "      <td>NaN</td>\n",
       "      <td>NaN</td>\n",
       "    </tr>\n",
       "    <tr>\n",
       "      <th>44</th>\n",
       "      <td>164</td>\n",
       "      <td>МБУК «Красногвардейский краеведческий музей»</td>\n",
       "      <td>Белгородская обл, Красногвардейский р-н, г Бир...</td>\n",
       "      <td>3111005200</td>\n",
       "      <td>Музеи и галереи</td>\n",
       "      <td>NaN</td>\n",
       "      <td>NaN</td>\n",
       "      <td>NaN</td>\n",
       "      <td>NaN</td>\n",
       "      <td>NaN</td>\n",
       "      <td>NaN</td>\n",
       "      <td>NaN</td>\n",
       "      <td>NaN</td>\n",
       "      <td>NaN</td>\n",
       "    </tr>\n",
       "    <tr>\n",
       "      <th>...</th>\n",
       "      <td>...</td>\n",
       "      <td>...</td>\n",
       "      <td>...</td>\n",
       "      <td>...</td>\n",
       "      <td>...</td>\n",
       "      <td>...</td>\n",
       "      <td>...</td>\n",
       "      <td>...</td>\n",
       "      <td>...</td>\n",
       "      <td>...</td>\n",
       "      <td>...</td>\n",
       "      <td>...</td>\n",
       "      <td>...</td>\n",
       "      <td>...</td>\n",
       "    </tr>\n",
       "    <tr>\n",
       "      <th>3265</th>\n",
       "      <td>30027</td>\n",
       "      <td>ООО «Туристическая фирма Ильиной»</td>\n",
       "      <td>Белгородская обл, г Белгород, ул Попова, д 58</td>\n",
       "      <td>3123073646</td>\n",
       "      <td>Прочее</td>\n",
       "      <td>NaN</td>\n",
       "      <td>NaN</td>\n",
       "      <td>NaN</td>\n",
       "      <td>NaN</td>\n",
       "      <td>NaN</td>\n",
       "      <td>NaN</td>\n",
       "      <td>NaN</td>\n",
       "      <td>NaN</td>\n",
       "      <td>NaN</td>\n",
       "    </tr>\n",
       "    <tr>\n",
       "      <th>3266</th>\n",
       "      <td>30029</td>\n",
       "      <td>ИП Степин Сергей Владимирович</td>\n",
       "      <td>Московская обл, г Серпухов, ул 1-я Новоселок</td>\n",
       "      <td>504308485493</td>\n",
       "      <td>Театры</td>\n",
       "      <td>NaN</td>\n",
       "      <td>NaN</td>\n",
       "      <td>NaN</td>\n",
       "      <td>NaN</td>\n",
       "      <td>NaN</td>\n",
       "      <td>NaN</td>\n",
       "      <td>NaN</td>\n",
       "      <td>NaN</td>\n",
       "      <td>NaN</td>\n",
       "    </tr>\n",
       "    <tr>\n",
       "      <th>3267</th>\n",
       "      <td>30033</td>\n",
       "      <td>ИП Орлов Максим Сергеевич</td>\n",
       "      <td>Кировская обл, г Киров, ул Мопра, 99</td>\n",
       "      <td>434584267934</td>\n",
       "      <td>Концертные площадки</td>\n",
       "      <td>NaN</td>\n",
       "      <td>NaN</td>\n",
       "      <td>NaN</td>\n",
       "      <td>NaN</td>\n",
       "      <td>NaN</td>\n",
       "      <td>NaN</td>\n",
       "      <td>NaN</td>\n",
       "      <td>NaN</td>\n",
       "      <td>NaN</td>\n",
       "    </tr>\n",
       "    <tr>\n",
       "      <th>3268</th>\n",
       "      <td>30041</td>\n",
       "      <td>ИП Абсаламов Динислам Бексолтанович</td>\n",
       "      <td>Ленинградская обл, Тосненский р-н, гп Красный ...</td>\n",
       "      <td>471607066031</td>\n",
       "      <td>Прочее</td>\n",
       "      <td>NaN</td>\n",
       "      <td>NaN</td>\n",
       "      <td>NaN</td>\n",
       "      <td>NaN</td>\n",
       "      <td>NaN</td>\n",
       "      <td>NaN</td>\n",
       "      <td>NaN</td>\n",
       "      <td>NaN</td>\n",
       "      <td>NaN</td>\n",
       "    </tr>\n",
       "    <tr>\n",
       "      <th>3269</th>\n",
       "      <td>30046</td>\n",
       "      <td>ИП Супрунов Владимир Иванович</td>\n",
       "      <td>Воронежская обл, Россошанский р-н, г Россошь, ...</td>\n",
       "      <td>362700953954</td>\n",
       "      <td>Прочее</td>\n",
       "      <td>NaN</td>\n",
       "      <td>NaN</td>\n",
       "      <td>NaN</td>\n",
       "      <td>NaN</td>\n",
       "      <td>NaN</td>\n",
       "      <td>NaN</td>\n",
       "      <td>NaN</td>\n",
       "      <td>NaN</td>\n",
       "      <td>NaN</td>\n",
       "    </tr>\n",
       "  </tbody>\n",
       "</table>\n",
       "<p>664 rows × 14 columns</p>\n",
       "</div>"
      ],
      "text/plain": [
       "         ID                                         Учреждение  \\\n",
       "6        13  ГБУК «Белгородский государственный историко-ху...   \n",
       "17       33                                       Дом офицеров   \n",
       "21       62  МКУК «Центр народного творчества Ивнянского ра...   \n",
       "37      125  МБУК «Городской центр народного творчества «Со...   \n",
       "44      164       МБУК «Красногвардейский краеведческий музей»   \n",
       "...     ...                                                ...   \n",
       "3265  30027                  ООО «Туристическая фирма Ильиной»   \n",
       "3266  30029                      ИП Степин Сергей Владимирович   \n",
       "3267  30033                          ИП Орлов Максим Сергеевич   \n",
       "3268  30041                ИП Абсаламов Динислам Бексолтанович   \n",
       "3269  30046                      ИП Супрунов Владимир Иванович   \n",
       "\n",
       "                                                  Адрес           ИНН  \\\n",
       "6          Белгородская обл, г Белгород, ул Попова, д 2    3123044638   \n",
       "17    Белгородская обл, г Белгород, ул Куйбышева, д 33А    3123173048   \n",
       "21    Белгородская обл, Ивнянский р-н, рп Ивня, ул З...    3109003911   \n",
       "37    Белгородская обл, г Белгород, пр-кт Б.Хмельниц...    3123037380   \n",
       "44    Белгородская обл, Красногвардейский р-н, г Бир...    3111005200   \n",
       "...                                                 ...           ...   \n",
       "3265      Белгородская обл, г Белгород, ул Попова, д 58    3123073646   \n",
       "3266       Московская обл, г Серпухов, ул 1-я Новоселок  504308485493   \n",
       "3267               Кировская обл, г Киров, ул Мопра, 99  434584267934   \n",
       "3268  Ленинградская обл, Тосненский р-н, гп Красный ...  471607066031   \n",
       "3269  Воронежская обл, Россошанский р-н, г Россошь, ...  362700953954   \n",
       "\n",
       "                    Категория  ИД Полное наименование Федеральный округ  \\\n",
       "6             Музеи и галереи NaN                 NaN               NaN   \n",
       "17    Дворцы культуры и клубы NaN                 NaN               NaN   \n",
       "21    Дворцы культуры и клубы NaN                 NaN               NaN   \n",
       "37    Дворцы культуры и клубы NaN                 NaN               NaN   \n",
       "44            Музеи и галереи NaN                 NaN               NaN   \n",
       "...                       ...  ..                 ...               ...   \n",
       "3265                   Прочее NaN                 NaN               NaN   \n",
       "3266                   Театры NaN                 NaN               NaN   \n",
       "3267      Концертные площадки NaN                 NaN               NaN   \n",
       "3268                   Прочее NaN                 NaN               NaN   \n",
       "3269                   Прочее NaN                 NaN               NaN   \n",
       "\n",
       "     Субъект РФ Район/округ Вид организации Тип организации  Широта  Долгота  \n",
       "6           NaN         NaN             NaN             NaN     NaN      NaN  \n",
       "17          NaN         NaN             NaN             NaN     NaN      NaN  \n",
       "21          NaN         NaN             NaN             NaN     NaN      NaN  \n",
       "37          NaN         NaN             NaN             NaN     NaN      NaN  \n",
       "44          NaN         NaN             NaN             NaN     NaN      NaN  \n",
       "...         ...         ...             ...             ...     ...      ...  \n",
       "3265        NaN         NaN             NaN             NaN     NaN      NaN  \n",
       "3266        NaN         NaN             NaN             NaN     NaN      NaN  \n",
       "3267        NaN         NaN             NaN             NaN     NaN      NaN  \n",
       "3268        NaN         NaN             NaN             NaN     NaN      NaN  \n",
       "3269        NaN         NaN             NaN             NaN     NaN      NaN  \n",
       "\n",
       "[664 rows x 14 columns]"
      ]
     },
     "execution_count": 13,
     "metadata": {},
     "output_type": "execute_result"
    }
   ],
   "source": [
    "organizations[organizations['Широта'].notna() == False]"
   ]
  },
  {
   "cell_type": "code",
   "execution_count": 14,
   "metadata": {},
   "outputs": [],
   "source": [
    "organizations.dropna(subset=['Широта'], inplace = True)"
   ]
  },
  {
   "cell_type": "code",
   "execution_count": 15,
   "metadata": {},
   "outputs": [
    {
     "name": "stdout",
     "output_type": "stream",
     "text": [
      "<class 'pandas.core.frame.DataFrame'>\n",
      "Int64Index: 2606 entries, 0 to 3188\n",
      "Data columns (total 14 columns):\n",
      " #   Column               Non-Null Count  Dtype  \n",
      "---  ------               --------------  -----  \n",
      " 0   ID                   2606 non-null   int64  \n",
      " 1   Учреждение           2606 non-null   object \n",
      " 2   Адрес                2606 non-null   object \n",
      " 3   ИНН                  2606 non-null   int64  \n",
      " 4   Категория            2568 non-null   object \n",
      " 5   ИД                   2606 non-null   float64\n",
      " 6   Полное наименование  2606 non-null   object \n",
      " 7   Федеральный округ    2606 non-null   object \n",
      " 8   Субъект РФ           2606 non-null   object \n",
      " 9   Район/округ          2272 non-null   object \n",
      " 10  Вид организации      2606 non-null   object \n",
      " 11  Тип организации      2479 non-null   object \n",
      " 12  Широта               2606 non-null   float64\n",
      " 13  Долгота              2606 non-null   float64\n",
      "dtypes: float64(3), int64(2), object(9)\n",
      "memory usage: 305.4+ KB\n"
     ]
    }
   ],
   "source": [
    "organizations.info()"
   ]
  },
  {
   "cell_type": "code",
   "execution_count": 16,
   "metadata": {},
   "outputs": [],
   "source": [
    "organizations.drop(['ИД', 'Полное наименование', 'Федеральный округ', 'Субъект РФ', 'Район/округ',\n",
    "                    'Вид организации', 'Тип организации', 'Адрес', 'ИНН', 'Категория'], \n",
    "                    axis = 1, inplace = True)"
   ]
  },
  {
   "cell_type": "code",
   "execution_count": 17,
   "metadata": {},
   "outputs": [
    {
     "name": "stdout",
     "output_type": "stream",
     "text": [
      "<class 'pandas.core.frame.DataFrame'>\n",
      "Int64Index: 2606 entries, 0 to 3188\n",
      "Data columns (total 4 columns):\n",
      " #   Column      Non-Null Count  Dtype  \n",
      "---  ------      --------------  -----  \n",
      " 0   ID          2606 non-null   int64  \n",
      " 1   Учреждение  2606 non-null   object \n",
      " 2   Широта      2606 non-null   float64\n",
      " 3   Долгота     2606 non-null   float64\n",
      "dtypes: float64(2), int64(1), object(1)\n",
      "memory usage: 101.8+ KB\n"
     ]
    }
   ],
   "source": [
    "organizations.info()"
   ]
  },
  {
   "cell_type": "code",
   "execution_count": 18,
   "metadata": {},
   "outputs": [],
   "source": [
    "organizations.to_csv(path + '\\Sample\\org_with_geo.csv', sep = ';', index = False)"
   ]
  },
  {
   "cell_type": "code",
   "execution_count": 19,
   "metadata": {},
   "outputs": [],
   "source": [
    "org_with_geo = pd.read_csv(path + '\\Sample\\org_with_geo.csv', sep = ';')"
   ]
  },
  {
   "cell_type": "code",
   "execution_count": 20,
   "metadata": {},
   "outputs": [
    {
     "name": "stdout",
     "output_type": "stream",
     "text": [
      "<class 'pandas.core.frame.DataFrame'>\n",
      "RangeIndex: 2606 entries, 0 to 2605\n",
      "Data columns (total 4 columns):\n",
      " #   Column      Non-Null Count  Dtype  \n",
      "---  ------      --------------  -----  \n",
      " 0   ID          2606 non-null   int64  \n",
      " 1   Учреждение  2606 non-null   object \n",
      " 2   Широта      2606 non-null   float64\n",
      " 3   Долгота     2606 non-null   float64\n",
      "dtypes: float64(2), int64(1), object(1)\n",
      "memory usage: 81.6+ KB\n"
     ]
    }
   ],
   "source": [
    "org_with_geo.info()"
   ]
  },
  {
   "cell_type": "code",
   "execution_count": 21,
   "metadata": {},
   "outputs": [
    {
     "data": {
      "text/html": [
       "<div>\n",
       "<style scoped>\n",
       "    .dataframe tbody tr th:only-of-type {\n",
       "        vertical-align: middle;\n",
       "    }\n",
       "\n",
       "    .dataframe tbody tr th {\n",
       "        vertical-align: top;\n",
       "    }\n",
       "\n",
       "    .dataframe thead th {\n",
       "        text-align: right;\n",
       "    }\n",
       "</style>\n",
       "<table border=\"1\" class=\"dataframe\">\n",
       "  <thead>\n",
       "    <tr style=\"text-align: right;\">\n",
       "      <th></th>\n",
       "      <th>ID</th>\n",
       "      <th>Учреждение</th>\n",
       "      <th>Широта</th>\n",
       "      <th>Долгота</th>\n",
       "    </tr>\n",
       "  </thead>\n",
       "  <tbody>\n",
       "    <tr>\n",
       "      <th>1504</th>\n",
       "      <td>8614</td>\n",
       "      <td>ГБУ РД «Лакский государственный музыкально-дра...</td>\n",
       "      <td>42.977697</td>\n",
       "      <td>47.512665</td>\n",
       "    </tr>\n",
       "    <tr>\n",
       "      <th>633</th>\n",
       "      <td>4518</td>\n",
       "      <td>ГБУК «Тверская областная картинная галерея»</td>\n",
       "      <td>56.862274</td>\n",
       "      <td>35.899951</td>\n",
       "    </tr>\n",
       "    <tr>\n",
       "      <th>1765</th>\n",
       "      <td>10885</td>\n",
       "      <td>ГБУ «Государственный лезгинский музыкально-дра...</td>\n",
       "      <td>42.054065</td>\n",
       "      <td>48.294592</td>\n",
       "    </tr>\n",
       "  </tbody>\n",
       "</table>\n",
       "</div>"
      ],
      "text/plain": [
       "         ID                                         Учреждение     Широта  \\\n",
       "1504   8614  ГБУ РД «Лакский государственный музыкально-дра...  42.977697   \n",
       "633    4518        ГБУК «Тверская областная картинная галерея»  56.862274   \n",
       "1765  10885  ГБУ «Государственный лезгинский музыкально-дра...  42.054065   \n",
       "\n",
       "        Долгота  \n",
       "1504  47.512665  \n",
       "633   35.899951  \n",
       "1765  48.294592  "
      ]
     },
     "execution_count": 21,
     "metadata": {},
     "output_type": "execute_result"
    }
   ],
   "source": [
    "org_with_geo.sample(3)"
   ]
  },
  {
   "cell_type": "code",
   "execution_count": 22,
   "metadata": {},
   "outputs": [],
   "source": [
    "events = pd.read_csv(path + '/Sample/input/events.csv', sep = ';')"
   ]
  },
  {
   "cell_type": "code",
   "execution_count": 23,
   "metadata": {},
   "outputs": [
    {
     "name": "stdout",
     "output_type": "stream",
     "text": [
      "<class 'pandas.core.frame.DataFrame'>\n",
      "RangeIndex: 42154 entries, 0 to 42153\n",
      "Data columns (total 5 columns):\n",
      " #   Column                                   Non-Null Count  Dtype \n",
      "---  ------                                   --------------  ----- \n",
      " 0   ID                                       42154 non-null  int64 \n",
      " 1   Название события                         42154 non-null  object\n",
      " 2   Организатор мероприятия                  42154 non-null  object\n",
      " 3   Ссылка на покупку билета                 42151 non-null  object\n",
      " 4   Дополнительная ссылка на покупку билета  3817 non-null   object\n",
      "dtypes: int64(1), object(4)\n",
      "memory usage: 1.6+ MB\n"
     ]
    }
   ],
   "source": [
    "events.info()"
   ]
  },
  {
   "cell_type": "code",
   "execution_count": 24,
   "metadata": {},
   "outputs": [
    {
     "data": {
      "text/html": [
       "<div>\n",
       "<style scoped>\n",
       "    .dataframe tbody tr th:only-of-type {\n",
       "        vertical-align: middle;\n",
       "    }\n",
       "\n",
       "    .dataframe tbody tr th {\n",
       "        vertical-align: top;\n",
       "    }\n",
       "\n",
       "    .dataframe thead th {\n",
       "        text-align: right;\n",
       "    }\n",
       "</style>\n",
       "<table border=\"1\" class=\"dataframe\">\n",
       "  <thead>\n",
       "    <tr style=\"text-align: right;\">\n",
       "      <th></th>\n",
       "      <th>ID</th>\n",
       "      <th>Название события</th>\n",
       "      <th>Организатор мероприятия</th>\n",
       "      <th>Ссылка на покупку билета</th>\n",
       "      <th>Дополнительная ссылка на покупку билета</th>\n",
       "    </tr>\n",
       "  </thead>\n",
       "  <tbody>\n",
       "    <tr>\n",
       "      <th>29606</th>\n",
       "      <td>1458676</td>\n",
       "      <td>Выставка «112-я кавалерийская...»</td>\n",
       "      <td>ГБУКИ РБ «Национальный музей Республики Башкор...</td>\n",
       "      <td>https://vmuzey.com/event/vystavka-112-aya-kava...</td>\n",
       "      <td>NaN</td>\n",
       "    </tr>\n",
       "    <tr>\n",
       "      <th>42014</th>\n",
       "      <td>1565410</td>\n",
       "      <td>Выставка посвященная празднованию Дня гражданс...</td>\n",
       "      <td>МАУ «Центр культуры и современного искусства и...</td>\n",
       "      <td>https://afisha.yandex.ru/yakutsk/art/my-krylia...</td>\n",
       "      <td>NaN</td>\n",
       "    </tr>\n",
       "    <tr>\n",
       "      <th>19946</th>\n",
       "      <td>1348633</td>\n",
       "      <td>Программа «Балеты «Шотландская симфония», «Апо...</td>\n",
       "      <td>ФГБУК «Государственный академический Мариински...</td>\n",
       "      <td>https://tickets.mariinsky.ru/prim/ru/performan...</td>\n",
       "      <td>NaN</td>\n",
       "    </tr>\n",
       "  </tbody>\n",
       "</table>\n",
       "</div>"
      ],
      "text/plain": [
       "            ID                                   Название события  \\\n",
       "29606  1458676                  Выставка «112-я кавалерийская...»   \n",
       "42014  1565410  Выставка посвященная празднованию Дня гражданс...   \n",
       "19946  1348633  Программа «Балеты «Шотландская симфония», «Апо...   \n",
       "\n",
       "                                 Организатор мероприятия  \\\n",
       "29606  ГБУКИ РБ «Национальный музей Республики Башкор...   \n",
       "42014  МАУ «Центр культуры и современного искусства и...   \n",
       "19946  ФГБУК «Государственный академический Мариински...   \n",
       "\n",
       "                                Ссылка на покупку билета  \\\n",
       "29606  https://vmuzey.com/event/vystavka-112-aya-kava...   \n",
       "42014  https://afisha.yandex.ru/yakutsk/art/my-krylia...   \n",
       "19946  https://tickets.mariinsky.ru/prim/ru/performan...   \n",
       "\n",
       "      Дополнительная ссылка на покупку билета  \n",
       "29606                                     NaN  \n",
       "42014                                     NaN  \n",
       "19946                                     NaN  "
      ]
     },
     "execution_count": 24,
     "metadata": {},
     "output_type": "execute_result"
    }
   ],
   "source": [
    "events.sample(3)"
   ]
  },
  {
   "cell_type": "code",
   "execution_count": 25,
   "metadata": {},
   "outputs": [],
   "source": [
    "org_with_geo.rename(columns={'Учреждение': 'Организатор мероприятия'}, inplace=True)"
   ]
  },
  {
   "cell_type": "code",
   "execution_count": 26,
   "metadata": {},
   "outputs": [],
   "source": [
    "events = events.merge(\n",
    "    org_with_geo.drop_duplicates(subset=['Организатор мероприятия']), left_on='Организатор мероприятия'\n",
    "    , right_on=['Организатор мероприятия'], how='left')"
   ]
  },
  {
   "cell_type": "code",
   "execution_count": 27,
   "metadata": {},
   "outputs": [
    {
     "name": "stdout",
     "output_type": "stream",
     "text": [
      "<class 'pandas.core.frame.DataFrame'>\n",
      "Int64Index: 42154 entries, 0 to 42153\n",
      "Data columns (total 8 columns):\n",
      " #   Column                                   Non-Null Count  Dtype  \n",
      "---  ------                                   --------------  -----  \n",
      " 0   ID_x                                     42154 non-null  int64  \n",
      " 1   Название события                         42154 non-null  object \n",
      " 2   Организатор мероприятия                  42154 non-null  object \n",
      " 3   Ссылка на покупку билета                 42151 non-null  object \n",
      " 4   Дополнительная ссылка на покупку билета  3817 non-null   object \n",
      " 5   ID_y                                     37923 non-null  float64\n",
      " 6   Широта                                   37923 non-null  float64\n",
      " 7   Долгота                                  37923 non-null  float64\n",
      "dtypes: float64(3), int64(1), object(4)\n",
      "memory usage: 2.9+ MB\n"
     ]
    }
   ],
   "source": [
    "events.info()"
   ]
  },
  {
   "cell_type": "code",
   "execution_count": 28,
   "metadata": {},
   "outputs": [],
   "source": [
    "events.rename(columns={'ID_x': 'event_id', 'Название события': 'event_name',\n",
    "                'Организатор мероприятия': 'org_name', 'ID_y': 'org_id'}, inplace = True)"
   ]
  },
  {
   "cell_type": "code",
   "execution_count": 29,
   "metadata": {},
   "outputs": [],
   "source": [
    "events.drop(['Ссылка на покупку билета', 'Дополнительная ссылка на покупку билета'],\n",
    "            axis = 1, inplace =True)"
   ]
  },
  {
   "cell_type": "code",
   "execution_count": 30,
   "metadata": {},
   "outputs": [
    {
     "name": "stdout",
     "output_type": "stream",
     "text": [
      "<class 'pandas.core.frame.DataFrame'>\n",
      "Int64Index: 42154 entries, 0 to 42153\n",
      "Data columns (total 6 columns):\n",
      " #   Column      Non-Null Count  Dtype  \n",
      "---  ------      --------------  -----  \n",
      " 0   event_id    42154 non-null  int64  \n",
      " 1   event_name  42154 non-null  object \n",
      " 2   org_name    42154 non-null  object \n",
      " 3   org_id      37923 non-null  float64\n",
      " 4   Широта      37923 non-null  float64\n",
      " 5   Долгота     37923 non-null  float64\n",
      "dtypes: float64(3), int64(1), object(2)\n",
      "memory usage: 2.3+ MB\n"
     ]
    }
   ],
   "source": [
    "events.info()"
   ]
  },
  {
   "cell_type": "code",
   "execution_count": 31,
   "metadata": {},
   "outputs": [],
   "source": [
    "events.to_csv(path + '\\Sample\\input\\events_with_geo.csv', sep = ';', index = False)"
   ]
  },
  {
   "cell_type": "code",
   "execution_count": 82,
   "metadata": {},
   "outputs": [],
   "source": [
    "def near_events(longitude, latitude, distance):\n",
    "    near_events = dict() #создаю словарь, что бы добавить мероприятия\n",
    "    \n",
    "    path_input = 'C:/Users/Rusla/Documents/GitHub/pushka_intern/Sample/input'\n",
    "    with open(path_input + '/rec_test.json') as f:\n",
    "        recomindations = json.load(f)\n",
    "\n",
    "    events_set = set()\n",
    "    for i in recomindations.values():\n",
    "        z = list(i.keys())\n",
    "        for y in z:\n",
    "            events_set.add(y)\n",
    "        \n",
    "\n",
    "    events = pd.read_csv(path_input + '/events_with_geo.csv', sep = ';', error_bad_lines=False)\n",
    "    events['event_id'] = events['event_id'].apply(lambda x: str(x))\n",
    "    \n",
    "\n",
    "    events = events.loc[events.event_id.isin(events_set)] \n",
    "\n",
    "    start_filter = list(events['event_id'].unique())\n",
    "    #for i in events['event_id']:\n",
    "   \n",
    "        # Отсекаем города по Долготе\n",
    "    longitude_min = longitude - distance/111.111\n",
    "    longitude_max = longitude + distance/111.111\n",
    "    print(longitude_min)\n",
    "    events = events[events['Долгота'].between(longitude_min, longitude_max, inclusive='both')]\n",
    "    \n",
    "    latitude_2 = 40000/360 * math.cos(float(latitude)*0.017)\n",
    "   \n",
    "    latitude_min = latitude - distance/latitude_2 #round(distance/(latitude_2/60)/60, 6)\n",
    "    latitude_max = latitude + distance/latitude_2 #round(distance/(latitude_2/60)/60, 6)\n",
    "    print(latitude_min)\n",
    "        # Отсекаем города по Широте\n",
    "    events = events[events['Широта'].between(latitude_min, latitude_max,inclusive='both')]\n",
    "\n",
    "    print(events.shape)\n",
    "    result = list()\n",
    "    for i in start_filter:\n",
    "        if i not in list(events['event_id'].unique()):\n",
    "                result.append(i)\n",
    "\n",
    "    #result = start_filter - list(events['event_id'].unique())\n",
    "\n",
    "    for i in recomindations.keys():\n",
    "        for j in result:\n",
    "            try:\n",
    "                del recomindations[i][j]\n",
    "            except KeyError:\n",
    "                continue\n",
    "\n",
    "    with open(path_input + '/rec_test_geo.json', 'w') as outfile:\n",
    "        json.dump(recomindations, outfile)\n",
    "\n",
    "    return #recomindations"
   ]
  },
  {
   "cell_type": "code",
   "execution_count": 91,
   "metadata": {},
   "outputs": [
    {
     "name": "stderr",
     "output_type": "stream",
     "text": [
      "C:\\Users\\Rusla\\AppData\\Local\\Temp\\ipykernel_25812\\3694019836.py:1: FutureWarning: The error_bad_lines argument has been deprecated and will be removed in a future version.\n",
      "\n",
      "\n",
      "  near_events(37.596982, 55.769078, 5)\n"
     ]
    },
    {
     "name": "stdout",
     "output_type": "stream",
     "text": [
      "37.55198195499995\n",
      "55.69192390698334\n",
      "(281, 6)\n"
     ]
    }
   ],
   "source": [
    "near_events(37.596982, 55.769078, 5)"
   ]
  },
  {
   "cell_type": "code",
   "execution_count": null,
   "metadata": {},
   "outputs": [],
   "source": []
  }
 ],
 "metadata": {
  "interpreter": {
   "hash": "62c41bd9a3a85b857c914e294bc4c8898721f46cf968950b61b98d74d852cc1f"
  },
  "kernelspec": {
   "display_name": "Python 3.10.0 64-bit",
   "language": "python",
   "name": "python3"
  },
  "language_info": {
   "codemirror_mode": {
    "name": "ipython",
    "version": 3
   },
   "file_extension": ".py",
   "mimetype": "text/x-python",
   "name": "python",
   "nbconvert_exporter": "python",
   "pygments_lexer": "ipython3",
   "version": "3.10.0"
  },
  "orig_nbformat": 4
 },
 "nbformat": 4,
 "nbformat_minor": 2
}
