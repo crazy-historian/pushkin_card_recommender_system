{
 "cells": [
  {
   "cell_type": "code",
   "execution_count": 58,
   "id": "69c6caf5",
   "metadata": {},
   "outputs": [],
   "source": [
    "import pandas as pd\n",
    "import numpy as np\n",
    "import math\n",
    "\n",
    "from tqdm.notebook import tqdm\n",
    "import time"
   ]
  },
  {
   "cell_type": "code",
   "execution_count": 2,
   "id": "c002ca62",
   "metadata": {},
   "outputs": [],
   "source": [
    "path = 'C:/Users/Rusla/Documents/GitHub/Пушкинская карта - стажировка/Sample/'"
   ]
  },
  {
   "cell_type": "code",
   "execution_count": 3,
   "id": "0b95cfc3",
   "metadata": {},
   "outputs": [],
   "source": [
    "users = pd.read_csv(path + 'users_full.csv', sep=';', error_bad_lines=False)"
   ]
  },
  {
   "cell_type": "code",
   "execution_count": 4,
   "id": "00078877",
   "metadata": {},
   "outputs": [
    {
     "name": "stdout",
     "output_type": "stream",
     "text": [
      "<class 'pandas.core.frame.DataFrame'>\n",
      "RangeIndex: 2879681 entries, 0 to 2879680\n",
      "Data columns (total 9 columns):\n",
      " #   Column              Dtype  \n",
      "---  ------              -----  \n",
      " 0   create_date         int64  \n",
      " 1   user_id             object \n",
      " 2   user_birth          object \n",
      " 3   create_date.1       object \n",
      " 4   user_phone_details  object \n",
      " 5   buyer_mobile_phone  object \n",
      " 6   region              object \n",
      " 7   age                 int64  \n",
      " 8   user_region         float64\n",
      "dtypes: float64(1), int64(2), object(6)\n",
      "memory usage: 197.7+ MB\n"
     ]
    }
   ],
   "source": [
    "users.info()"
   ]
  },
  {
   "cell_type": "code",
   "execution_count": 5,
   "id": "fa267db4",
   "metadata": {
    "scrolled": true
   },
   "outputs": [
    {
     "data": {
      "text/html": [
       "<div>\n",
       "<style scoped>\n",
       "    .dataframe tbody tr th:only-of-type {\n",
       "        vertical-align: middle;\n",
       "    }\n",
       "\n",
       "    .dataframe tbody tr th {\n",
       "        vertical-align: top;\n",
       "    }\n",
       "\n",
       "    .dataframe thead th {\n",
       "        text-align: right;\n",
       "    }\n",
       "</style>\n",
       "<table border=\"1\" class=\"dataframe\">\n",
       "  <thead>\n",
       "    <tr style=\"text-align: right;\">\n",
       "      <th></th>\n",
       "      <th>create_date</th>\n",
       "      <th>user_id</th>\n",
       "      <th>user_birth</th>\n",
       "      <th>create_date.1</th>\n",
       "      <th>user_phone_details</th>\n",
       "      <th>buyer_mobile_phone</th>\n",
       "      <th>region</th>\n",
       "      <th>age</th>\n",
       "      <th>user_region</th>\n",
       "    </tr>\n",
       "  </thead>\n",
       "  <tbody>\n",
       "    <tr>\n",
       "      <th>1462406</th>\n",
       "      <td>1630588173</td>\n",
       "      <td>7e017fb6353666fa996a1c7704ebf0a2</td>\n",
       "      <td>2007-03-01</td>\n",
       "      <td>NaN</td>\n",
       "      <td>NaN</td>\n",
       "      <td>NaN</td>\n",
       "      <td>Курганская область</td>\n",
       "      <td>15</td>\n",
       "      <td>45.0</td>\n",
       "    </tr>\n",
       "    <tr>\n",
       "      <th>1040210</th>\n",
       "      <td>1630748255</td>\n",
       "      <td>5580b1fc82caff6e6eed2ef2ab3abb4e</td>\n",
       "      <td>2002-05-24</td>\n",
       "      <td>2021-11-30</td>\n",
       "      <td>iOS, iOS 14.8.1</td>\n",
       "      <td>91730796578b6970a3fca467d9a6edfe</td>\n",
       "      <td>Москва</td>\n",
       "      <td>20</td>\n",
       "      <td>77.0</td>\n",
       "    </tr>\n",
       "    <tr>\n",
       "      <th>2334751</th>\n",
       "      <td>1637566017</td>\n",
       "      <td>a0805d5493e26ff143d878d3bb6d37cf</td>\n",
       "      <td>2007-08-31</td>\n",
       "      <td>2021-11-20</td>\n",
       "      <td>iOS, iOS 15.0.1</td>\n",
       "      <td>50dbd8e8475188e04466a2ad0ece9798</td>\n",
       "      <td>NaN</td>\n",
       "      <td>14</td>\n",
       "      <td>NaN</td>\n",
       "    </tr>\n",
       "  </tbody>\n",
       "</table>\n",
       "</div>"
      ],
      "text/plain": [
       "         create_date                           user_id  user_birth  \\\n",
       "1462406   1630588173  7e017fb6353666fa996a1c7704ebf0a2  2007-03-01   \n",
       "1040210   1630748255  5580b1fc82caff6e6eed2ef2ab3abb4e  2002-05-24   \n",
       "2334751   1637566017  a0805d5493e26ff143d878d3bb6d37cf  2007-08-31   \n",
       "\n",
       "        create_date.1 user_phone_details                buyer_mobile_phone  \\\n",
       "1462406           NaN                NaN                               NaN   \n",
       "1040210    2021-11-30    iOS, iOS 14.8.1  91730796578b6970a3fca467d9a6edfe   \n",
       "2334751    2021-11-20    iOS, iOS 15.0.1  50dbd8e8475188e04466a2ad0ece9798   \n",
       "\n",
       "                     region  age  user_region  \n",
       "1462406  Курганская область   15         45.0  \n",
       "1040210              Москва   20         77.0  \n",
       "2334751                 NaN   14          NaN  "
      ]
     },
     "execution_count": 5,
     "metadata": {},
     "output_type": "execute_result"
    }
   ],
   "source": [
    "users.sample(3)"
   ]
  },
  {
   "cell_type": "code",
   "execution_count": 6,
   "id": "9f034006",
   "metadata": {},
   "outputs": [],
   "source": [
    "users = users.astype({\"age\": \"object\", \"user_region\": \"object\"})"
   ]
  },
  {
   "cell_type": "code",
   "execution_count": 7,
   "id": "1179d30c",
   "metadata": {},
   "outputs": [],
   "source": [
    "import json \n",
    "expl = [json.loads(line) for line in open(path + 'tickets2.json', 'r', encoding='utf-8', errors = 'ignore')]"
   ]
  },
  {
   "cell_type": "code",
   "execution_count": 8,
   "id": "4e298a5a",
   "metadata": {},
   "outputs": [],
   "source": [
    "tickets = pd.DataFrame(expl)"
   ]
  },
  {
   "cell_type": "code",
   "execution_count": 9,
   "id": "ec6db8fd",
   "metadata": {
    "scrolled": true
   },
   "outputs": [
    {
     "data": {
      "text/html": [
       "<div>\n",
       "<style scoped>\n",
       "    .dataframe tbody tr th:only-of-type {\n",
       "        vertical-align: middle;\n",
       "    }\n",
       "\n",
       "    .dataframe tbody tr th {\n",
       "        vertical-align: top;\n",
       "    }\n",
       "\n",
       "    .dataframe thead th {\n",
       "        text-align: right;\n",
       "    }\n",
       "</style>\n",
       "<table border=\"1\" class=\"dataframe\">\n",
       "  <thead>\n",
       "    <tr style=\"text-align: right;\">\n",
       "      <th></th>\n",
       "      <th>payment_date</th>\n",
       "      <th>comment</th>\n",
       "      <th>session_event_id</th>\n",
       "      <th>session_date</th>\n",
       "      <th>session_params</th>\n",
       "      <th>owner</th>\n",
       "      <th>refund_date</th>\n",
       "      <th>buyer_mobile_phone</th>\n",
       "      <th>refund_reason</th>\n",
       "      <th>payment_amount</th>\n",
       "      <th>visitor_first_name</th>\n",
       "      <th>refund_ticket_price</th>\n",
       "      <th>create_date</th>\n",
       "      <th>status</th>\n",
       "      <th>payment_ticket_price</th>\n",
       "      <th>session_organization_id</th>\n",
       "      <th>visit_date</th>\n",
       "    </tr>\n",
       "  </thead>\n",
       "  <tbody>\n",
       "    <tr>\n",
       "      <th>578780</th>\n",
       "      <td>1636484376</td>\n",
       "      <td></td>\n",
       "      <td>1315538</td>\n",
       "      <td>1637758800</td>\n",
       "      <td>Основной зал , Партер, 11 ряд, 22 место</td>\n",
       "      <td>7107520929</td>\n",
       "      <td>NaN</td>\n",
       "      <td>a12827c3a30c2a8cf4ebbdae5f238d3f</td>\n",
       "      <td>None</td>\n",
       "      <td>230.00</td>\n",
       "      <td></td>\n",
       "      <td>None</td>\n",
       "      <td>1636484432114957838</td>\n",
       "      <td>visited</td>\n",
       "      <td>230.00</td>\n",
       "      <td>7765</td>\n",
       "      <td>1.637758e+09</td>\n",
       "    </tr>\n",
       "    <tr>\n",
       "      <th>393045</th>\n",
       "      <td>1638011101</td>\n",
       "      <td></td>\n",
       "      <td>190992</td>\n",
       "      <td>1640779200</td>\n",
       "      <td></td>\n",
       "      <td>5406014684</td>\n",
       "      <td>NaN</td>\n",
       "      <td>cabd06a7afd6a18c5c87bc7e2fa182be</td>\n",
       "      <td>None</td>\n",
       "      <td>3000</td>\n",
       "      <td></td>\n",
       "      <td>None</td>\n",
       "      <td>1638011582478902809</td>\n",
       "      <td>visited</td>\n",
       "      <td>3000</td>\n",
       "      <td>5295</td>\n",
       "      <td>1.640776e+09</td>\n",
       "    </tr>\n",
       "    <tr>\n",
       "      <th>330198</th>\n",
       "      <td>1636998346</td>\n",
       "      <td></td>\n",
       "      <td>1430860</td>\n",
       "      <td>1640102400</td>\n",
       "      <td>сектор:Партер,ряд:6,место:21</td>\n",
       "      <td>7720312951</td>\n",
       "      <td>NaN</td>\n",
       "      <td>1c235f981c54ad1f8a5c6d448fb68a5c</td>\n",
       "      <td>None</td>\n",
       "      <td>1600</td>\n",
       "      <td></td>\n",
       "      <td>None</td>\n",
       "      <td>1636998348515185707</td>\n",
       "      <td>visited</td>\n",
       "      <td>1600</td>\n",
       "      <td>28619</td>\n",
       "      <td>1.640102e+09</td>\n",
       "    </tr>\n",
       "  </tbody>\n",
       "</table>\n",
       "</div>"
      ],
      "text/plain": [
       "        payment_date comment session_event_id  session_date  \\\n",
       "578780    1636484376                  1315538    1637758800   \n",
       "393045    1638011101                   190992    1640779200   \n",
       "330198    1636998346                  1430860    1640102400   \n",
       "\n",
       "                                 session_params       owner  refund_date  \\\n",
       "578780  Основной зал , Партер, 11 ряд, 22 место  7107520929          NaN   \n",
       "393045                                           5406014684          NaN   \n",
       "330198             сектор:Партер,ряд:6,место:21  7720312951          NaN   \n",
       "\n",
       "                      buyer_mobile_phone refund_reason payment_amount  \\\n",
       "578780  a12827c3a30c2a8cf4ebbdae5f238d3f          None         230.00   \n",
       "393045  cabd06a7afd6a18c5c87bc7e2fa182be          None           3000   \n",
       "330198  1c235f981c54ad1f8a5c6d448fb68a5c          None           1600   \n",
       "\n",
       "       visitor_first_name refund_ticket_price          create_date   status  \\\n",
       "578780                                   None  1636484432114957838  visited   \n",
       "393045                                   None  1638011582478902809  visited   \n",
       "330198                                   None  1636998348515185707  visited   \n",
       "\n",
       "       payment_ticket_price session_organization_id    visit_date  \n",
       "578780               230.00                    7765  1.637758e+09  \n",
       "393045                 3000                    5295  1.640776e+09  \n",
       "330198                 1600                   28619  1.640102e+09  "
      ]
     },
     "execution_count": 9,
     "metadata": {},
     "output_type": "execute_result"
    }
   ],
   "source": [
    "tickets.sample(3)"
   ]
  },
  {
   "cell_type": "code",
   "execution_count": 10,
   "id": "f21f7c77",
   "metadata": {},
   "outputs": [
    {
     "data": {
      "text/html": [
       "<div>\n",
       "<style scoped>\n",
       "    .dataframe tbody tr th:only-of-type {\n",
       "        vertical-align: middle;\n",
       "    }\n",
       "\n",
       "    .dataframe tbody tr th {\n",
       "        vertical-align: top;\n",
       "    }\n",
       "\n",
       "    .dataframe thead th {\n",
       "        text-align: right;\n",
       "    }\n",
       "</style>\n",
       "<table border=\"1\" class=\"dataframe\">\n",
       "  <thead>\n",
       "    <tr style=\"text-align: right;\">\n",
       "      <th></th>\n",
       "      <th>payment_date</th>\n",
       "      <th>comment</th>\n",
       "      <th>session_event_id</th>\n",
       "      <th>session_date</th>\n",
       "      <th>session_params</th>\n",
       "      <th>owner</th>\n",
       "      <th>refund_date</th>\n",
       "      <th>buyer_mobile_phone</th>\n",
       "      <th>refund_reason</th>\n",
       "      <th>payment_amount</th>\n",
       "      <th>visitor_first_name</th>\n",
       "      <th>refund_ticket_price</th>\n",
       "      <th>create_date</th>\n",
       "      <th>status</th>\n",
       "      <th>payment_ticket_price</th>\n",
       "      <th>session_organization_id</th>\n",
       "      <th>visit_date</th>\n",
       "    </tr>\n",
       "  </thead>\n",
       "  <tbody>\n",
       "  </tbody>\n",
       "</table>\n",
       "</div>"
      ],
      "text/plain": [
       "Empty DataFrame\n",
       "Columns: [payment_date, comment, session_event_id, session_date, session_params, owner, refund_date, buyer_mobile_phone, refund_reason, payment_amount, visitor_first_name, refund_ticket_price, create_date, status, payment_ticket_price, session_organization_id, visit_date]\n",
       "Index: []"
      ]
     },
     "execution_count": 10,
     "metadata": {},
     "output_type": "execute_result"
    }
   ],
   "source": [
    "tickets[tickets['buyer_mobile_phone'].isna()]"
   ]
  },
  {
   "cell_type": "code",
   "execution_count": 11,
   "id": "517793d9",
   "metadata": {},
   "outputs": [
    {
     "data": {
      "text/plain": [
       "11791"
      ]
     },
     "execution_count": 11,
     "metadata": {},
     "output_type": "execute_result"
    }
   ],
   "source": [
    "tickets.visitor_first_name.nunique() # можно было попробовать пол по именм, но имён у нас всего 11 тысяч из 1,2 млн."
   ]
  },
  {
   "cell_type": "markdown",
   "id": "bce44741",
   "metadata": {},
   "source": [
    "# Добавим данные пользователя в дата сет с купленными билетами"
   ]
  },
  {
   "cell_type": "code",
   "execution_count": 12,
   "id": "ada2c559",
   "metadata": {},
   "outputs": [],
   "source": [
    "tickets = pd.merge(tickets,users,on=['buyer_mobile_phone'], how='left')"
   ]
  },
  {
   "cell_type": "code",
   "execution_count": 13,
   "id": "f350c200",
   "metadata": {},
   "outputs": [
    {
     "name": "stdout",
     "output_type": "stream",
     "text": [
      "<class 'pandas.core.frame.DataFrame'>\n",
      "Int64Index: 854330 entries, 0 to 854329\n",
      "Data columns (total 25 columns):\n",
      " #   Column                   Non-Null Count   Dtype  \n",
      "---  ------                   --------------   -----  \n",
      " 0   payment_date             854330 non-null  int64  \n",
      " 1   comment                  854330 non-null  object \n",
      " 2   session_event_id         854330 non-null  object \n",
      " 3   session_date             854330 non-null  int64  \n",
      " 4   session_params           854330 non-null  object \n",
      " 5   owner                    854330 non-null  object \n",
      " 6   refund_date              25117 non-null   float64\n",
      " 7   buyer_mobile_phone       854330 non-null  object \n",
      " 8   refund_reason            25117 non-null   object \n",
      " 9   payment_amount           854330 non-null  object \n",
      " 10  visitor_first_name       854330 non-null  object \n",
      " 11  refund_ticket_price      24409 non-null   object \n",
      " 12  create_date_x            854330 non-null  int64  \n",
      " 13  status                   854330 non-null  object \n",
      " 14  payment_ticket_price     854330 non-null  object \n",
      " 15  session_organization_id  854330 non-null  object \n",
      " 16  visit_date               393850 non-null  float64\n",
      " 17  create_date_y            530576 non-null  float64\n",
      " 18  user_id                  530576 non-null  object \n",
      " 19  user_birth               530576 non-null  object \n",
      " 20  create_date.1            530576 non-null  object \n",
      " 21  user_phone_details       530576 non-null  object \n",
      " 22  region                   368752 non-null  object \n",
      " 23  age                      530576 non-null  object \n",
      " 24  user_region              368752 non-null  object \n",
      "dtypes: float64(3), int64(3), object(19)\n",
      "memory usage: 169.5+ MB\n"
     ]
    }
   ],
   "source": [
    "tickets.info()"
   ]
  },
  {
   "cell_type": "code",
   "execution_count": 14,
   "id": "bc8ac620",
   "metadata": {},
   "outputs": [],
   "source": [
    "tickets_2 = tickets[tickets['user_id'].notna() == True]"
   ]
  },
  {
   "cell_type": "code",
   "execution_count": 15,
   "id": "3c68576a",
   "metadata": {},
   "outputs": [
    {
     "name": "stdout",
     "output_type": "stream",
     "text": [
      "<class 'pandas.core.frame.DataFrame'>\n",
      "Int64Index: 530576 entries, 1 to 854329\n",
      "Data columns (total 25 columns):\n",
      " #   Column                   Non-Null Count   Dtype  \n",
      "---  ------                   --------------   -----  \n",
      " 0   payment_date             530576 non-null  int64  \n",
      " 1   comment                  530576 non-null  object \n",
      " 2   session_event_id         530576 non-null  object \n",
      " 3   session_date             530576 non-null  int64  \n",
      " 4   session_params           530576 non-null  object \n",
      " 5   owner                    530576 non-null  object \n",
      " 6   refund_date              16455 non-null   float64\n",
      " 7   buyer_mobile_phone       530576 non-null  object \n",
      " 8   refund_reason            16455 non-null   object \n",
      " 9   payment_amount           530576 non-null  object \n",
      " 10  visitor_first_name       530576 non-null  object \n",
      " 11  refund_ticket_price      16025 non-null   object \n",
      " 12  create_date_x            530576 non-null  int64  \n",
      " 13  status                   530576 non-null  object \n",
      " 14  payment_ticket_price     530576 non-null  object \n",
      " 15  session_organization_id  530576 non-null  object \n",
      " 16  visit_date               253888 non-null  float64\n",
      " 17  create_date_y            530576 non-null  float64\n",
      " 18  user_id                  530576 non-null  object \n",
      " 19  user_birth               530576 non-null  object \n",
      " 20  create_date.1            530576 non-null  object \n",
      " 21  user_phone_details       530576 non-null  object \n",
      " 22  region                   368752 non-null  object \n",
      " 23  age                      530576 non-null  object \n",
      " 24  user_region              368752 non-null  object \n",
      "dtypes: float64(3), int64(3), object(19)\n",
      "memory usage: 105.2+ MB\n"
     ]
    }
   ],
   "source": [
    "tickets_2.info()"
   ]
  },
  {
   "cell_type": "code",
   "execution_count": 16,
   "id": "097f7e82",
   "metadata": {},
   "outputs": [],
   "source": [
    "cliks_add = pd.read_csv(path + 'cliks_add.csv', sep=';', error_bad_lines=False)"
   ]
  },
  {
   "cell_type": "code",
   "execution_count": 17,
   "id": "0edc4e41",
   "metadata": {
    "scrolled": false
   },
   "outputs": [
    {
     "name": "stdout",
     "output_type": "stream",
     "text": [
      "<class 'pandas.core.frame.DataFrame'>\n",
      "RangeIndex: 5747389 entries, 0 to 5747388\n",
      "Data columns (total 17 columns):\n",
      " #   Column                   Dtype  \n",
      "---  ------                   -----  \n",
      " 0   create_time              object \n",
      " 1   create_date              object \n",
      " 2   user_phone_details       object \n",
      " 3   buyer_mobile_phone       object \n",
      " 4   user_id                  object \n",
      " 5   url                      object \n",
      " 6   session_id               float64\n",
      " 7   session_name             object \n",
      " 8   organization_id          float64\n",
      " 9   organization_name        object \n",
      " 10  session_identity         object \n",
      " 11  Org_region_number        float64\n",
      " 12  org_category             object \n",
      " 13  age                      float64\n",
      " 14  user_region              float64\n",
      " 15  user_phone_details_id    object \n",
      " 16  user_phone_details_id_2  int64  \n",
      "dtypes: float64(5), int64(1), object(11)\n",
      "memory usage: 745.4+ MB\n"
     ]
    }
   ],
   "source": [
    "cliks_add.info()"
   ]
  },
  {
   "cell_type": "code",
   "execution_count": 18,
   "id": "1cd1645b",
   "metadata": {},
   "outputs": [
    {
     "data": {
      "text/plain": [
       "(5747389, 17)"
      ]
     },
     "execution_count": 18,
     "metadata": {},
     "output_type": "execute_result"
    }
   ],
   "source": [
    "cliks_add.shape"
   ]
  },
  {
   "cell_type": "code",
   "execution_count": 19,
   "id": "82df191c",
   "metadata": {},
   "outputs": [],
   "source": [
    "ticket_users = tickets_2['user_id'].unique()"
   ]
  },
  {
   "cell_type": "code",
   "execution_count": 20,
   "id": "0e38a06b",
   "metadata": {},
   "outputs": [
    {
     "data": {
      "text/plain": [
       "329522"
      ]
     },
     "execution_count": 20,
     "metadata": {},
     "output_type": "execute_result"
    }
   ],
   "source": [
    "tickets_2['user_id'].nunique()"
   ]
  },
  {
   "cell_type": "code",
   "execution_count": 21,
   "id": "d58bd669",
   "metadata": {},
   "outputs": [
    {
     "data": {
      "text/plain": [
       "329522"
      ]
     },
     "execution_count": 21,
     "metadata": {},
     "output_type": "execute_result"
    }
   ],
   "source": [
    "len(ticket_users)"
   ]
  },
  {
   "cell_type": "code",
   "execution_count": 22,
   "id": "5121ac3f",
   "metadata": {},
   "outputs": [],
   "source": [
    "cliks_add_users = cliks_add['user_id'].unique()"
   ]
  },
  {
   "cell_type": "code",
   "execution_count": 23,
   "id": "bc0de93d",
   "metadata": {},
   "outputs": [
    {
     "data": {
      "text/plain": [
       "272442"
      ]
     },
     "execution_count": 23,
     "metadata": {},
     "output_type": "execute_result"
    }
   ],
   "source": [
    "len(cliks_add_users)"
   ]
  },
  {
   "cell_type": "code",
   "execution_count": 24,
   "id": "d724a4ae",
   "metadata": {},
   "outputs": [
    {
     "data": {
      "text/plain": [
       "272442"
      ]
     },
     "execution_count": 24,
     "metadata": {},
     "output_type": "execute_result"
    }
   ],
   "source": [
    "cliks_add['user_id'].nunique()"
   ]
  },
  {
   "cell_type": "code",
   "execution_count": 25,
   "id": "5df25cc7",
   "metadata": {
    "scrolled": true
   },
   "outputs": [
    {
     "data": {
      "text/plain": [
       "array(['08014dcd786881f349938c9255e9df36',\n",
       "       'b2560eaa8bc23dbba5f24aa5075b89ed',\n",
       "       'fdfe16d86915392aeeca341505cce1c1',\n",
       "       'cf3f95a25510513018a33990a30f5acb',\n",
       "       'e2f896fb069e555a5faaf71a3d2b8dec'], dtype=object)"
      ]
     },
     "execution_count": 25,
     "metadata": {},
     "output_type": "execute_result"
    }
   ],
   "source": [
    "cliks_add_users[:5]"
   ]
  },
  {
   "cell_type": "code",
   "execution_count": 26,
   "id": "620711b5",
   "metadata": {
    "scrolled": true
   },
   "outputs": [
    {
     "data": {
      "text/plain": [
       "array(['ef54479d868c93e5b6a6e425fc780954',\n",
       "       '68f0a5ca2209fedf6d574d74940e55a5',\n",
       "       '89bc110254468dbf23f51f84385418a0',\n",
       "       '38d83e61be8f2afd0d335686d685dc56',\n",
       "       '65835d1c0954fe08db3ffa4e1a5fb75f'], dtype=object)"
      ]
     },
     "execution_count": 26,
     "metadata": {},
     "output_type": "execute_result"
    }
   ],
   "source": [
    "ticket_users[:5]"
   ]
  },
  {
   "cell_type": "code",
   "execution_count": 44,
   "id": "4d582e8d",
   "metadata": {},
   "outputs": [],
   "source": [
    "cliks_and_tickets = cliks_add.copy()"
   ]
  },
  {
   "cell_type": "code",
   "execution_count": 37,
   "id": "84c8baa1",
   "metadata": {
    "scrolled": true
   },
   "outputs": [
    {
     "data": {
      "text/plain": [
       "(5747389, 17)"
      ]
     },
     "execution_count": 37,
     "metadata": {},
     "output_type": "execute_result"
    }
   ],
   "source": [
    "cliks_and_tickets.shape"
   ]
  },
  {
   "cell_type": "code",
   "execution_count": 48,
   "id": "ec129f9b",
   "metadata": {},
   "outputs": [
    {
     "ename": "IndexError",
     "evalue": "tuple index out of range",
     "output_type": "error",
     "traceback": [
      "\u001b[1;31m---------------------------------------------------------------------------\u001b[0m",
      "\u001b[1;31mIndexError\u001b[0m                                Traceback (most recent call last)",
      "\u001b[1;32m~\\AppData\\Local\\Temp/ipykernel_10144/863266532.py\u001b[0m in \u001b[0;36m<module>\u001b[1;34m\u001b[0m\n\u001b[1;32m----> 1\u001b[1;33m cliks_and_tickets = cliks_and_tickets.drop(np.where(cliks_and_tickets['user_id']\n\u001b[0m\u001b[0;32m      2\u001b[0m                                                     == 'b2560eaa8bc23dbba5f24aa5075b89ed')[1])\n",
      "\u001b[1;31mIndexError\u001b[0m: tuple index out of range"
     ]
    }
   ],
   "source": [
    "cliks_and_tickets = cliks_and_tickets.drop(np.where(cliks_and_tickets['user_id']\n",
    "                                                    == 'b2560eaa8bc23dbba5f24aa5075b89ed')[1])"
   ]
  },
  {
   "cell_type": "code",
   "execution_count": 46,
   "id": "05b45630",
   "metadata": {},
   "outputs": [
    {
     "data": {
      "text/plain": [
       "(5747369, 17)"
      ]
     },
     "execution_count": 46,
     "metadata": {},
     "output_type": "execute_result"
    }
   ],
   "source": [
    "cliks_and_tickets.shape"
   ]
  },
  {
   "cell_type": "code",
   "execution_count": 50,
   "id": "9fd99b94",
   "metadata": {},
   "outputs": [],
   "source": [
    "cliks_and_tickets = pd.DataFrame()"
   ]
  },
  {
   "cell_type": "markdown",
   "id": "0e6c245b",
   "metadata": {},
   "source": [
    "%%time\n",
    "users_t_and_c = []\n",
    "for i in tqdm(cliks_add_users):\n",
    "    if i in ticket_users:\n",
    "        users_t_and_c.append(i)"
   ]
  },
  {
   "cell_type": "code",
   "execution_count": 62,
   "id": "aeb1df18",
   "metadata": {
    "scrolled": true
   },
   "outputs": [
    {
     "data": {
      "application/vnd.jupyter.widget-view+json": {
       "model_id": "2ce58fa88df14b1d88e585db5bd32ea8",
       "version_major": 2,
       "version_minor": 0
      },
      "text/plain": [
       "  0%|          | 0/272442 [00:00<?, ?it/s]"
      ]
     },
     "metadata": {},
     "output_type": "display_data"
    },
    {
     "ename": "KeyboardInterrupt",
     "evalue": "",
     "output_type": "error",
     "traceback": [
      "\u001b[1;31m---------------------------------------------------------------------------\u001b[0m",
      "\u001b[1;31mKeyboardInterrupt\u001b[0m                         Traceback (most recent call last)",
      "\u001b[1;32m<timed exec>\u001b[0m in \u001b[0;36m<module>\u001b[1;34m\u001b[0m\n",
      "\u001b[1;32m~\\AppData\\Roaming\\Python\\Python38\\site-packages\\pandas\\core\\frame.py\u001b[0m in \u001b[0;36mappend\u001b[1;34m(self, other, ignore_index, verify_integrity, sort)\u001b[0m\n\u001b[0;32m   7079\u001b[0m         \u001b[1;32melse\u001b[0m\u001b[1;33m:\u001b[0m\u001b[1;33m\u001b[0m\u001b[1;33m\u001b[0m\u001b[0m\n\u001b[0;32m   7080\u001b[0m             \u001b[0mto_concat\u001b[0m \u001b[1;33m=\u001b[0m \u001b[1;33m[\u001b[0m\u001b[0mself\u001b[0m\u001b[1;33m,\u001b[0m \u001b[0mother\u001b[0m\u001b[1;33m]\u001b[0m\u001b[1;33m\u001b[0m\u001b[1;33m\u001b[0m\u001b[0m\n\u001b[1;32m-> 7081\u001b[1;33m         return concat(\n\u001b[0m\u001b[0;32m   7082\u001b[0m             \u001b[0mto_concat\u001b[0m\u001b[1;33m,\u001b[0m\u001b[1;33m\u001b[0m\u001b[1;33m\u001b[0m\u001b[0m\n\u001b[0;32m   7083\u001b[0m             \u001b[0mignore_index\u001b[0m\u001b[1;33m=\u001b[0m\u001b[0mignore_index\u001b[0m\u001b[1;33m,\u001b[0m\u001b[1;33m\u001b[0m\u001b[1;33m\u001b[0m\u001b[0m\n",
      "\u001b[1;32m~\\AppData\\Roaming\\Python\\Python38\\site-packages\\pandas\\core\\reshape\\concat.py\u001b[0m in \u001b[0;36mconcat\u001b[1;34m(objs, axis, join, ignore_index, keys, levels, names, verify_integrity, sort, copy)\u001b[0m\n\u001b[0;32m    282\u001b[0m     )\n\u001b[0;32m    283\u001b[0m \u001b[1;33m\u001b[0m\u001b[0m\n\u001b[1;32m--> 284\u001b[1;33m     \u001b[1;32mreturn\u001b[0m \u001b[0mop\u001b[0m\u001b[1;33m.\u001b[0m\u001b[0mget_result\u001b[0m\u001b[1;33m(\u001b[0m\u001b[1;33m)\u001b[0m\u001b[1;33m\u001b[0m\u001b[1;33m\u001b[0m\u001b[0m\n\u001b[0m\u001b[0;32m    285\u001b[0m \u001b[1;33m\u001b[0m\u001b[0m\n\u001b[0;32m    286\u001b[0m \u001b[1;33m\u001b[0m\u001b[0m\n",
      "\u001b[1;32m~\\AppData\\Roaming\\Python\\Python38\\site-packages\\pandas\\core\\reshape\\concat.py\u001b[0m in \u001b[0;36mget_result\u001b[1;34m(self)\u001b[0m\n\u001b[0;32m    494\u001b[0m                 \u001b[0mmgrs_indexers\u001b[0m\u001b[1;33m.\u001b[0m\u001b[0mappend\u001b[0m\u001b[1;33m(\u001b[0m\u001b[1;33m(\u001b[0m\u001b[0mobj\u001b[0m\u001b[1;33m.\u001b[0m\u001b[0m_data\u001b[0m\u001b[1;33m,\u001b[0m \u001b[0mindexers\u001b[0m\u001b[1;33m)\u001b[0m\u001b[1;33m)\u001b[0m\u001b[1;33m\u001b[0m\u001b[1;33m\u001b[0m\u001b[0m\n\u001b[0;32m    495\u001b[0m \u001b[1;33m\u001b[0m\u001b[0m\n\u001b[1;32m--> 496\u001b[1;33m             new_data = concatenate_block_managers(\n\u001b[0m\u001b[0;32m    497\u001b[0m                 \u001b[0mmgrs_indexers\u001b[0m\u001b[1;33m,\u001b[0m \u001b[0mself\u001b[0m\u001b[1;33m.\u001b[0m\u001b[0mnew_axes\u001b[0m\u001b[1;33m,\u001b[0m \u001b[0mconcat_axis\u001b[0m\u001b[1;33m=\u001b[0m\u001b[0mself\u001b[0m\u001b[1;33m.\u001b[0m\u001b[0maxis\u001b[0m\u001b[1;33m,\u001b[0m \u001b[0mcopy\u001b[0m\u001b[1;33m=\u001b[0m\u001b[0mself\u001b[0m\u001b[1;33m.\u001b[0m\u001b[0mcopy\u001b[0m\u001b[1;33m\u001b[0m\u001b[1;33m\u001b[0m\u001b[0m\n\u001b[0;32m    498\u001b[0m             )\n",
      "\u001b[1;32m~\\AppData\\Roaming\\Python\\Python38\\site-packages\\pandas\\core\\internals\\managers.py\u001b[0m in \u001b[0;36mconcatenate_block_managers\u001b[1;34m(mgrs_indexers, axes, concat_axis, copy)\u001b[0m\n\u001b[0;32m   2014\u001b[0m                 \u001b[0mvalues\u001b[0m \u001b[1;33m=\u001b[0m \u001b[0mvalues\u001b[0m\u001b[1;33m.\u001b[0m\u001b[0mview\u001b[0m\u001b[1;33m(\u001b[0m\u001b[1;33m)\u001b[0m\u001b[1;33m\u001b[0m\u001b[1;33m\u001b[0m\u001b[0m\n\u001b[0;32m   2015\u001b[0m             \u001b[0mb\u001b[0m \u001b[1;33m=\u001b[0m \u001b[0mb\u001b[0m\u001b[1;33m.\u001b[0m\u001b[0mmake_block_same_class\u001b[0m\u001b[1;33m(\u001b[0m\u001b[0mvalues\u001b[0m\u001b[1;33m,\u001b[0m \u001b[0mplacement\u001b[0m\u001b[1;33m=\u001b[0m\u001b[0mplacement\u001b[0m\u001b[1;33m)\u001b[0m\u001b[1;33m\u001b[0m\u001b[1;33m\u001b[0m\u001b[0m\n\u001b[1;32m-> 2016\u001b[1;33m         \u001b[1;32melif\u001b[0m \u001b[0mis_uniform_join_units\u001b[0m\u001b[1;33m(\u001b[0m\u001b[0mjoin_units\u001b[0m\u001b[1;33m)\u001b[0m\u001b[1;33m:\u001b[0m\u001b[1;33m\u001b[0m\u001b[1;33m\u001b[0m\u001b[0m\n\u001b[0m\u001b[0;32m   2017\u001b[0m             b = join_units[0].block.concat_same_type(\n\u001b[0;32m   2018\u001b[0m                 \u001b[1;33m[\u001b[0m\u001b[0mju\u001b[0m\u001b[1;33m.\u001b[0m\u001b[0mblock\u001b[0m \u001b[1;32mfor\u001b[0m \u001b[0mju\u001b[0m \u001b[1;32min\u001b[0m \u001b[0mjoin_units\u001b[0m\u001b[1;33m]\u001b[0m\u001b[1;33m,\u001b[0m \u001b[0mplacement\u001b[0m\u001b[1;33m=\u001b[0m\u001b[0mplacement\u001b[0m\u001b[1;33m\u001b[0m\u001b[1;33m\u001b[0m\u001b[0m\n",
      "\u001b[1;32m~\\AppData\\Roaming\\Python\\Python38\\site-packages\\pandas\\core\\internals\\concat.py\u001b[0m in \u001b[0;36mis_uniform_join_units\u001b[1;34m(join_units)\u001b[0m\n\u001b[0;32m    386\u001b[0m         \u001b[1;31m# no blocks that would get missing values (can lead to type upcasts)\u001b[0m\u001b[1;33m\u001b[0m\u001b[1;33m\u001b[0m\u001b[1;33m\u001b[0m\u001b[0m\n\u001b[0;32m    387\u001b[0m         \u001b[1;31m# unless we're an extension dtype.\u001b[0m\u001b[1;33m\u001b[0m\u001b[1;33m\u001b[0m\u001b[1;33m\u001b[0m\u001b[0m\n\u001b[1;32m--> 388\u001b[1;33m         \u001b[0mall\u001b[0m\u001b[1;33m(\u001b[0m\u001b[1;32mnot\u001b[0m \u001b[0mju\u001b[0m\u001b[1;33m.\u001b[0m\u001b[0mis_na\u001b[0m \u001b[1;32mor\u001b[0m \u001b[0mju\u001b[0m\u001b[1;33m.\u001b[0m\u001b[0mblock\u001b[0m\u001b[1;33m.\u001b[0m\u001b[0mis_extension\u001b[0m \u001b[1;32mfor\u001b[0m \u001b[0mju\u001b[0m \u001b[1;32min\u001b[0m \u001b[0mjoin_units\u001b[0m\u001b[1;33m)\u001b[0m\u001b[1;33m\u001b[0m\u001b[1;33m\u001b[0m\u001b[0m\n\u001b[0m\u001b[0;32m    389\u001b[0m         \u001b[1;32mand\u001b[0m\u001b[1;33m\u001b[0m\u001b[1;33m\u001b[0m\u001b[0m\n\u001b[0;32m    390\u001b[0m         \u001b[1;31m# no blocks with indexers (as then the dimensions do not fit)\u001b[0m\u001b[1;33m\u001b[0m\u001b[1;33m\u001b[0m\u001b[1;33m\u001b[0m\u001b[0m\n",
      "\u001b[1;32m~\\AppData\\Roaming\\Python\\Python38\\site-packages\\pandas\\core\\internals\\concat.py\u001b[0m in \u001b[0;36m<genexpr>\u001b[1;34m(.0)\u001b[0m\n\u001b[0;32m    386\u001b[0m         \u001b[1;31m# no blocks that would get missing values (can lead to type upcasts)\u001b[0m\u001b[1;33m\u001b[0m\u001b[1;33m\u001b[0m\u001b[1;33m\u001b[0m\u001b[0m\n\u001b[0;32m    387\u001b[0m         \u001b[1;31m# unless we're an extension dtype.\u001b[0m\u001b[1;33m\u001b[0m\u001b[1;33m\u001b[0m\u001b[1;33m\u001b[0m\u001b[0m\n\u001b[1;32m--> 388\u001b[1;33m         \u001b[0mall\u001b[0m\u001b[1;33m(\u001b[0m\u001b[1;32mnot\u001b[0m \u001b[0mju\u001b[0m\u001b[1;33m.\u001b[0m\u001b[0mis_na\u001b[0m \u001b[1;32mor\u001b[0m \u001b[0mju\u001b[0m\u001b[1;33m.\u001b[0m\u001b[0mblock\u001b[0m\u001b[1;33m.\u001b[0m\u001b[0mis_extension\u001b[0m \u001b[1;32mfor\u001b[0m \u001b[0mju\u001b[0m \u001b[1;32min\u001b[0m \u001b[0mjoin_units\u001b[0m\u001b[1;33m)\u001b[0m\u001b[1;33m\u001b[0m\u001b[1;33m\u001b[0m\u001b[0m\n\u001b[0m\u001b[0;32m    389\u001b[0m         \u001b[1;32mand\u001b[0m\u001b[1;33m\u001b[0m\u001b[1;33m\u001b[0m\u001b[0m\n\u001b[0;32m    390\u001b[0m         \u001b[1;31m# no blocks with indexers (as then the dimensions do not fit)\u001b[0m\u001b[1;33m\u001b[0m\u001b[1;33m\u001b[0m\u001b[1;33m\u001b[0m\u001b[0m\n",
      "\u001b[1;32m~\\anaconda3\\lib\\site-packages\\pandas\\_libs\\properties.pyx\u001b[0m in \u001b[0;36mpandas._libs.properties.CachedProperty.__get__\u001b[1;34m()\u001b[0m\n",
      "\u001b[1;32m~\\AppData\\Roaming\\Python\\Python38\\site-packages\\pandas\\core\\internals\\concat.py\u001b[0m in \u001b[0;36mis_na\u001b[1;34m(self)\u001b[0m\n\u001b[0;32m    166\u001b[0m         \u001b[0mchunk_len\u001b[0m \u001b[1;33m=\u001b[0m \u001b[0mmax\u001b[0m\u001b[1;33m(\u001b[0m\u001b[0mtotal_len\u001b[0m \u001b[1;33m//\u001b[0m \u001b[1;36m40\u001b[0m\u001b[1;33m,\u001b[0m \u001b[1;36m1000\u001b[0m\u001b[1;33m)\u001b[0m\u001b[1;33m\u001b[0m\u001b[1;33m\u001b[0m\u001b[0m\n\u001b[0;32m    167\u001b[0m         \u001b[1;32mfor\u001b[0m \u001b[0mi\u001b[0m \u001b[1;32min\u001b[0m \u001b[0mrange\u001b[0m\u001b[1;33m(\u001b[0m\u001b[1;36m0\u001b[0m\u001b[1;33m,\u001b[0m \u001b[0mtotal_len\u001b[0m\u001b[1;33m,\u001b[0m \u001b[0mchunk_len\u001b[0m\u001b[1;33m)\u001b[0m\u001b[1;33m:\u001b[0m\u001b[1;33m\u001b[0m\u001b[1;33m\u001b[0m\u001b[0m\n\u001b[1;32m--> 168\u001b[1;33m             \u001b[1;32mif\u001b[0m \u001b[1;32mnot\u001b[0m \u001b[0misna\u001b[0m\u001b[1;33m(\u001b[0m\u001b[0mvalues_flat\u001b[0m\u001b[1;33m[\u001b[0m\u001b[0mi\u001b[0m \u001b[1;33m:\u001b[0m \u001b[0mi\u001b[0m \u001b[1;33m+\u001b[0m \u001b[0mchunk_len\u001b[0m\u001b[1;33m]\u001b[0m\u001b[1;33m)\u001b[0m\u001b[1;33m.\u001b[0m\u001b[0mall\u001b[0m\u001b[1;33m(\u001b[0m\u001b[1;33m)\u001b[0m\u001b[1;33m:\u001b[0m\u001b[1;33m\u001b[0m\u001b[1;33m\u001b[0m\u001b[0m\n\u001b[0m\u001b[0;32m    169\u001b[0m                 \u001b[1;32mreturn\u001b[0m \u001b[1;32mFalse\u001b[0m\u001b[1;33m\u001b[0m\u001b[1;33m\u001b[0m\u001b[0m\n\u001b[0;32m    170\u001b[0m \u001b[1;33m\u001b[0m\u001b[0m\n",
      "\u001b[1;32m~\\AppData\\Roaming\\Python\\Python38\\site-packages\\pandas\\core\\dtypes\\missing.py\u001b[0m in \u001b[0;36misna\u001b[1;34m(obj)\u001b[0m\n\u001b[0;32m    124\u001b[0m     \u001b[0mName\u001b[0m\u001b[1;33m:\u001b[0m \u001b[1;36m1\u001b[0m\u001b[1;33m,\u001b[0m \u001b[0mdtype\u001b[0m\u001b[1;33m:\u001b[0m \u001b[0mbool\u001b[0m\u001b[1;33m\u001b[0m\u001b[1;33m\u001b[0m\u001b[0m\n\u001b[0;32m    125\u001b[0m     \"\"\"\n\u001b[1;32m--> 126\u001b[1;33m     \u001b[1;32mreturn\u001b[0m \u001b[0m_isna\u001b[0m\u001b[1;33m(\u001b[0m\u001b[0mobj\u001b[0m\u001b[1;33m)\u001b[0m\u001b[1;33m\u001b[0m\u001b[1;33m\u001b[0m\u001b[0m\n\u001b[0m\u001b[0;32m    127\u001b[0m \u001b[1;33m\u001b[0m\u001b[0m\n\u001b[0;32m    128\u001b[0m \u001b[1;33m\u001b[0m\u001b[0m\n",
      "\u001b[1;32m~\\AppData\\Roaming\\Python\\Python38\\site-packages\\pandas\\core\\dtypes\\missing.py\u001b[0m in \u001b[0;36m_isna_new\u001b[1;34m(obj)\u001b[0m\n\u001b[0;32m    150\u001b[0m         ),\n\u001b[0;32m    151\u001b[0m     ):\n\u001b[1;32m--> 152\u001b[1;33m         \u001b[1;32mreturn\u001b[0m \u001b[0m_isna_ndarraylike\u001b[0m\u001b[1;33m(\u001b[0m\u001b[0mobj\u001b[0m\u001b[1;33m)\u001b[0m\u001b[1;33m\u001b[0m\u001b[1;33m\u001b[0m\u001b[0m\n\u001b[0m\u001b[0;32m    153\u001b[0m     \u001b[1;32melif\u001b[0m \u001b[0misinstance\u001b[0m\u001b[1;33m(\u001b[0m\u001b[0mobj\u001b[0m\u001b[1;33m,\u001b[0m \u001b[0mABCGeneric\u001b[0m\u001b[1;33m)\u001b[0m\u001b[1;33m:\u001b[0m\u001b[1;33m\u001b[0m\u001b[1;33m\u001b[0m\u001b[0m\n\u001b[0;32m    154\u001b[0m         \u001b[1;32mreturn\u001b[0m \u001b[0mobj\u001b[0m\u001b[1;33m.\u001b[0m\u001b[0m_constructor\u001b[0m\u001b[1;33m(\u001b[0m\u001b[0mobj\u001b[0m\u001b[1;33m.\u001b[0m\u001b[0m_data\u001b[0m\u001b[1;33m.\u001b[0m\u001b[0misna\u001b[0m\u001b[1;33m(\u001b[0m\u001b[0mfunc\u001b[0m\u001b[1;33m=\u001b[0m\u001b[0misna\u001b[0m\u001b[1;33m)\u001b[0m\u001b[1;33m)\u001b[0m\u001b[1;33m\u001b[0m\u001b[1;33m\u001b[0m\u001b[0m\n",
      "\u001b[1;32m~\\AppData\\Roaming\\Python\\Python38\\site-packages\\pandas\\core\\dtypes\\missing.py\u001b[0m in \u001b[0;36m_isna_ndarraylike\u001b[1;34m(obj)\u001b[0m\n\u001b[0;32m    260\u001b[0m         \u001b[0mresult\u001b[0m \u001b[1;33m=\u001b[0m \u001b[0mvalues\u001b[0m\u001b[1;33m.\u001b[0m\u001b[0mview\u001b[0m\u001b[1;33m(\u001b[0m\u001b[1;34m\"i8\"\u001b[0m\u001b[1;33m)\u001b[0m \u001b[1;33m==\u001b[0m \u001b[0miNaT\u001b[0m\u001b[1;33m\u001b[0m\u001b[1;33m\u001b[0m\u001b[0m\n\u001b[0;32m    261\u001b[0m     \u001b[1;32melse\u001b[0m\u001b[1;33m:\u001b[0m\u001b[1;33m\u001b[0m\u001b[1;33m\u001b[0m\u001b[0m\n\u001b[1;32m--> 262\u001b[1;33m         \u001b[0mresult\u001b[0m \u001b[1;33m=\u001b[0m \u001b[0mnp\u001b[0m\u001b[1;33m.\u001b[0m\u001b[0misnan\u001b[0m\u001b[1;33m(\u001b[0m\u001b[0mvalues\u001b[0m\u001b[1;33m)\u001b[0m\u001b[1;33m\u001b[0m\u001b[1;33m\u001b[0m\u001b[0m\n\u001b[0m\u001b[0;32m    263\u001b[0m \u001b[1;33m\u001b[0m\u001b[0m\n\u001b[0;32m    264\u001b[0m     \u001b[1;31m# box\u001b[0m\u001b[1;33m\u001b[0m\u001b[1;33m\u001b[0m\u001b[1;33m\u001b[0m\u001b[0m\n",
      "\u001b[1;31mKeyboardInterrupt\u001b[0m: "
     ]
    }
   ],
   "source": [
    "%%time\n",
    "for i in tqdm(cliks_add_users):\n",
    "    if i in ticket_users:\n",
    "        cliks_and_tickets = cliks_and_tickets.append([cliks_and_tickets, cliks_add[cliks_add['user_id'] == i]],\n",
    "                                                    ignore_index = True, sort = False)"
   ]
  },
  {
   "cell_type": "code",
   "execution_count": 65,
   "id": "d55cee80",
   "metadata": {},
   "outputs": [
    {
     "name": "stdout",
     "output_type": "stream",
     "text": [
      "--- 15.785868644714355 seconds ---\n"
     ]
    }
   ],
   "source": [
    "import time\n",
    "start_time = time.time()\n",
    "\n",
    "cliks_and_tickets = cliks_add.merge(\n",
    "    tickets_2.drop_duplicates(subset=['user_id']), left_on='user_id', right_on=['user_id'], how='inner')\n",
    "\n",
    "print(\"--- %s seconds ---\" % (time.time() - start_time))"
   ]
  },
  {
   "cell_type": "code",
   "execution_count": 66,
   "id": "4579226a",
   "metadata": {},
   "outputs": [
    {
     "data": {
      "text/plain": [
       "(3538545, 41)"
      ]
     },
     "execution_count": 66,
     "metadata": {},
     "output_type": "execute_result"
    }
   ],
   "source": [
    "cliks_and_tickets.shape"
   ]
  },
  {
   "cell_type": "code",
   "execution_count": 68,
   "id": "330ba700",
   "metadata": {},
   "outputs": [
    {
     "name": "stdout",
     "output_type": "stream",
     "text": [
      "--- 1.6841983795166016 seconds ---\n"
     ]
    }
   ],
   "source": [
    "import time\n",
    "start_time = time.time()\n",
    "\n",
    "cliks_and_tickets_2 = cliks_add.loc[cliks_add.user_id.isin(tickets_2.user_id.unique())] \n",
    "\n",
    "print(\"--- %s seconds ---\" % (time.time() - start_time))"
   ]
  },
  {
   "cell_type": "code",
   "execution_count": 69,
   "id": "bd262067",
   "metadata": {},
   "outputs": [
    {
     "data": {
      "text/plain": [
       "(3538545, 17)"
      ]
     },
     "execution_count": 69,
     "metadata": {},
     "output_type": "execute_result"
    }
   ],
   "source": [
    "cliks_and_tickets_2.shape"
   ]
  },
  {
   "cell_type": "code",
   "execution_count": 70,
   "id": "65b49c96",
   "metadata": {},
   "outputs": [
    {
     "data": {
      "text/plain": [
       "137156"
      ]
     },
     "execution_count": 70,
     "metadata": {},
     "output_type": "execute_result"
    }
   ],
   "source": [
    "cliks_and_tickets_2.user_id.nunique()"
   ]
  },
  {
   "cell_type": "code",
   "execution_count": null,
   "id": "64878ac5",
   "metadata": {},
   "outputs": [],
   "source": [
    "cliks_and_tickets.to_csv(path + 'cliks_and_tickets.csv', sep = ';', )"
   ]
  }
 ],
 "metadata": {
  "kernelspec": {
   "display_name": "Python 3 (ipykernel)",
   "language": "python",
   "name": "python3"
  },
  "language_info": {
   "codemirror_mode": {
    "name": "ipython",
    "version": 3
   },
   "file_extension": ".py",
   "mimetype": "text/x-python",
   "name": "python",
   "nbconvert_exporter": "python",
   "pygments_lexer": "ipython3",
   "version": "3.8.11"
  }
 },
 "nbformat": 4,
 "nbformat_minor": 5
}
