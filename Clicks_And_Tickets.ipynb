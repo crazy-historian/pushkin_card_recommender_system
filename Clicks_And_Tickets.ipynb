{
 "cells": [
  {
   "cell_type": "code",
   "execution_count": 1,
   "id": "69c6caf5",
   "metadata": {},
   "outputs": [],
   "source": [
    "import pandas as pd\n",
    "import numpy as np\n",
    "import math\n",
    "\n",
    "from tqdm.notebook import tqdm\n",
    "import time"
   ]
  },
  {
   "cell_type": "code",
   "execution_count": 2,
   "id": "c002ca62",
   "metadata": {},
   "outputs": [],
   "source": [
    "path = 'C:/Users/Rusla/Documents/GitHub/Пушкинская карта - стажировка/Sample/'"
   ]
  },
  {
   "cell_type": "code",
   "execution_count": 3,
   "id": "0b95cfc3",
   "metadata": {},
   "outputs": [],
   "source": [
    "users = pd.read_csv(path + 'users_full.csv', sep=';', error_bad_lines=False)"
   ]
  },
  {
   "cell_type": "code",
   "execution_count": 4,
   "id": "00078877",
   "metadata": {},
   "outputs": [
    {
     "name": "stdout",
     "output_type": "stream",
     "text": [
      "<class 'pandas.core.frame.DataFrame'>\n",
      "RangeIndex: 2879681 entries, 0 to 2879680\n",
      "Data columns (total 9 columns):\n",
      " #   Column              Dtype  \n",
      "---  ------              -----  \n",
      " 0   create_date         int64  \n",
      " 1   user_id             object \n",
      " 2   user_birth          object \n",
      " 3   create_date.1       object \n",
      " 4   user_phone_details  object \n",
      " 5   buyer_mobile_phone  object \n",
      " 6   region              object \n",
      " 7   age                 int64  \n",
      " 8   user_region         float64\n",
      "dtypes: float64(1), int64(2), object(6)\n",
      "memory usage: 197.7+ MB\n"
     ]
    }
   ],
   "source": [
    "users.info()"
   ]
  },
  {
   "cell_type": "code",
   "execution_count": 5,
   "id": "fa267db4",
   "metadata": {
    "scrolled": true
   },
   "outputs": [
    {
     "data": {
      "text/html": [
       "<div>\n",
       "<style scoped>\n",
       "    .dataframe tbody tr th:only-of-type {\n",
       "        vertical-align: middle;\n",
       "    }\n",
       "\n",
       "    .dataframe tbody tr th {\n",
       "        vertical-align: top;\n",
       "    }\n",
       "\n",
       "    .dataframe thead th {\n",
       "        text-align: right;\n",
       "    }\n",
       "</style>\n",
       "<table border=\"1\" class=\"dataframe\">\n",
       "  <thead>\n",
       "    <tr style=\"text-align: right;\">\n",
       "      <th></th>\n",
       "      <th>create_date</th>\n",
       "      <th>user_id</th>\n",
       "      <th>user_birth</th>\n",
       "      <th>create_date.1</th>\n",
       "      <th>user_phone_details</th>\n",
       "      <th>buyer_mobile_phone</th>\n",
       "      <th>region</th>\n",
       "      <th>age</th>\n",
       "      <th>user_region</th>\n",
       "    </tr>\n",
       "  </thead>\n",
       "  <tbody>\n",
       "    <tr>\n",
       "      <th>12473</th>\n",
       "      <td>1634196824</td>\n",
       "      <td>1092d43e4dfa8ae6ffc8007b3d15d3b1</td>\n",
       "      <td>2001-12-26</td>\n",
       "      <td>NaN</td>\n",
       "      <td>NaN</td>\n",
       "      <td>NaN</td>\n",
       "      <td>Краснодарский край</td>\n",
       "      <td>20</td>\n",
       "      <td>23.0</td>\n",
       "    </tr>\n",
       "    <tr>\n",
       "      <th>2336985</th>\n",
       "      <td>1637248985</td>\n",
       "      <td>001ea5116e9eea93a4629b76cf1e12d3</td>\n",
       "      <td>2004-11-26</td>\n",
       "      <td>2021-11-18</td>\n",
       "      <td>iOS, iOS 15.0</td>\n",
       "      <td>82f50274b6402dc885e5b4d69fe6ad8a</td>\n",
       "      <td>NaN</td>\n",
       "      <td>17</td>\n",
       "      <td>NaN</td>\n",
       "    </tr>\n",
       "    <tr>\n",
       "      <th>748869</th>\n",
       "      <td>1630522151</td>\n",
       "      <td>0acaf1f0f5fa0969abbc30898863c25d</td>\n",
       "      <td>2000-08-11</td>\n",
       "      <td>2021-11-02</td>\n",
       "      <td>Android, 11 (SDK 30)</td>\n",
       "      <td>de5ba6173e10b87528b5e046a17f2dd5</td>\n",
       "      <td>Московская область</td>\n",
       "      <td>21</td>\n",
       "      <td>50.0</td>\n",
       "    </tr>\n",
       "  </tbody>\n",
       "</table>\n",
       "</div>"
      ],
      "text/plain": [
       "         create_date                           user_id  user_birth  \\\n",
       "12473     1634196824  1092d43e4dfa8ae6ffc8007b3d15d3b1  2001-12-26   \n",
       "2336985   1637248985  001ea5116e9eea93a4629b76cf1e12d3  2004-11-26   \n",
       "748869    1630522151  0acaf1f0f5fa0969abbc30898863c25d  2000-08-11   \n",
       "\n",
       "        create_date.1    user_phone_details                buyer_mobile_phone  \\\n",
       "12473             NaN                   NaN                               NaN   \n",
       "2336985    2021-11-18         iOS, iOS 15.0  82f50274b6402dc885e5b4d69fe6ad8a   \n",
       "748869     2021-11-02  Android, 11 (SDK 30)  de5ba6173e10b87528b5e046a17f2dd5   \n",
       "\n",
       "                     region  age  user_region  \n",
       "12473    Краснодарский край   20         23.0  \n",
       "2336985                 NaN   17          NaN  \n",
       "748869   Московская область   21         50.0  "
      ]
     },
     "execution_count": 5,
     "metadata": {},
     "output_type": "execute_result"
    }
   ],
   "source": [
    "users.sample(3)"
   ]
  },
  {
   "cell_type": "code",
   "execution_count": 6,
   "id": "9f034006",
   "metadata": {},
   "outputs": [],
   "source": [
    "users = users.astype({\"age\": \"object\", \"user_region\": \"object\"})"
   ]
  },
  {
   "cell_type": "code",
   "execution_count": 7,
   "id": "1179d30c",
   "metadata": {},
   "outputs": [],
   "source": [
    "import json \n",
    "expl = [json.loads(line) for line in open(path + 'tickets2.json', 'r', encoding='utf-8', errors = 'ignore')]"
   ]
  },
  {
   "cell_type": "code",
   "execution_count": 8,
   "id": "4e298a5a",
   "metadata": {},
   "outputs": [],
   "source": [
    "tickets = pd.DataFrame(expl)"
   ]
  },
  {
   "cell_type": "code",
   "execution_count": 9,
   "id": "ec6db8fd",
   "metadata": {
    "scrolled": true
   },
   "outputs": [
    {
     "data": {
      "text/html": [
       "<div>\n",
       "<style scoped>\n",
       "    .dataframe tbody tr th:only-of-type {\n",
       "        vertical-align: middle;\n",
       "    }\n",
       "\n",
       "    .dataframe tbody tr th {\n",
       "        vertical-align: top;\n",
       "    }\n",
       "\n",
       "    .dataframe thead th {\n",
       "        text-align: right;\n",
       "    }\n",
       "</style>\n",
       "<table border=\"1\" class=\"dataframe\">\n",
       "  <thead>\n",
       "    <tr style=\"text-align: right;\">\n",
       "      <th></th>\n",
       "      <th>payment_date</th>\n",
       "      <th>comment</th>\n",
       "      <th>session_event_id</th>\n",
       "      <th>session_date</th>\n",
       "      <th>session_params</th>\n",
       "      <th>owner</th>\n",
       "      <th>refund_date</th>\n",
       "      <th>buyer_mobile_phone</th>\n",
       "      <th>refund_reason</th>\n",
       "      <th>payment_amount</th>\n",
       "      <th>visitor_first_name</th>\n",
       "      <th>refund_ticket_price</th>\n",
       "      <th>create_date</th>\n",
       "      <th>status</th>\n",
       "      <th>payment_ticket_price</th>\n",
       "      <th>session_organization_id</th>\n",
       "      <th>visit_date</th>\n",
       "    </tr>\n",
       "  </thead>\n",
       "  <tbody>\n",
       "    <tr>\n",
       "      <th>98595</th>\n",
       "      <td>1637733132000</td>\n",
       "      <td></td>\n",
       "      <td>1448469</td>\n",
       "      <td>1637755200000</td>\n",
       "      <td>Районный дом культуры (Николо-Березовка)</td>\n",
       "      <td>9705121040</td>\n",
       "      <td>NaN</td>\n",
       "      <td>fe55306f672397be84f9a3b87e200ed4</td>\n",
       "      <td>None</td>\n",
       "      <td>RUB 500.00</td>\n",
       "      <td>1</td>\n",
       "      <td>None</td>\n",
       "      <td>1637733159574825638</td>\n",
       "      <td>active</td>\n",
       "      <td>RUB 500.00</td>\n",
       "      <td></td>\n",
       "      <td>NaN</td>\n",
       "    </tr>\n",
       "    <tr>\n",
       "      <th>305164</th>\n",
       "      <td>1636359893</td>\n",
       "      <td></td>\n",
       "      <td>507743</td>\n",
       "      <td>1637163000</td>\n",
       "      <td>Основной зал (обновленный), 2-ой ярус, 1 ряд, ...</td>\n",
       "      <td>7107520929</td>\n",
       "      <td>NaN</td>\n",
       "      <td>ca42c380ecba0321d84007cd5483b228</td>\n",
       "      <td>None</td>\n",
       "      <td>400.00</td>\n",
       "      <td></td>\n",
       "      <td>None</td>\n",
       "      <td>1636360206076665821</td>\n",
       "      <td>active</td>\n",
       "      <td>400.00</td>\n",
       "      <td>214</td>\n",
       "      <td>NaN</td>\n",
       "    </tr>\n",
       "    <tr>\n",
       "      <th>535087</th>\n",
       "      <td>1637057464</td>\n",
       "      <td></td>\n",
       "      <td>1370499</td>\n",
       "      <td>1633986000</td>\n",
       "      <td></td>\n",
       "      <td>7814779935</td>\n",
       "      <td>NaN</td>\n",
       "      <td>0a138a74ef65a36320c69b87333219ed</td>\n",
       "      <td>None</td>\n",
       "      <td>400.00</td>\n",
       "      <td>Лилия</td>\n",
       "      <td>None</td>\n",
       "      <td>1637057466206030290</td>\n",
       "      <td>visited</td>\n",
       "      <td></td>\n",
       "      <td>26710</td>\n",
       "      <td>1.637057e+09</td>\n",
       "    </tr>\n",
       "  </tbody>\n",
       "</table>\n",
       "</div>"
      ],
      "text/plain": [
       "         payment_date comment session_event_id   session_date  \\\n",
       "98595   1637733132000                  1448469  1637755200000   \n",
       "305164     1636359893                   507743     1637163000   \n",
       "535087     1637057464                  1370499     1633986000   \n",
       "\n",
       "                                           session_params       owner  \\\n",
       "98595            Районный дом культуры (Николо-Березовка)  9705121040   \n",
       "305164  Основной зал (обновленный), 2-ой ярус, 1 ряд, ...  7107520929   \n",
       "535087                                                     7814779935   \n",
       "\n",
       "        refund_date                buyer_mobile_phone refund_reason  \\\n",
       "98595           NaN  fe55306f672397be84f9a3b87e200ed4          None   \n",
       "305164          NaN  ca42c380ecba0321d84007cd5483b228          None   \n",
       "535087          NaN  0a138a74ef65a36320c69b87333219ed          None   \n",
       "\n",
       "       payment_amount visitor_first_name refund_ticket_price  \\\n",
       "98595      RUB 500.00                  1                None   \n",
       "305164         400.00                                   None   \n",
       "535087         400.00              Лилия                None   \n",
       "\n",
       "                create_date   status payment_ticket_price  \\\n",
       "98595   1637733159574825638   active           RUB 500.00   \n",
       "305164  1636360206076665821   active               400.00   \n",
       "535087  1637057466206030290  visited                        \n",
       "\n",
       "       session_organization_id    visit_date  \n",
       "98595                                    NaN  \n",
       "305164                     214           NaN  \n",
       "535087                   26710  1.637057e+09  "
      ]
     },
     "execution_count": 9,
     "metadata": {},
     "output_type": "execute_result"
    }
   ],
   "source": [
    "tickets.sample(3)"
   ]
  },
  {
   "cell_type": "code",
   "execution_count": 10,
   "id": "f21f7c77",
   "metadata": {},
   "outputs": [
    {
     "data": {
      "text/html": [
       "<div>\n",
       "<style scoped>\n",
       "    .dataframe tbody tr th:only-of-type {\n",
       "        vertical-align: middle;\n",
       "    }\n",
       "\n",
       "    .dataframe tbody tr th {\n",
       "        vertical-align: top;\n",
       "    }\n",
       "\n",
       "    .dataframe thead th {\n",
       "        text-align: right;\n",
       "    }\n",
       "</style>\n",
       "<table border=\"1\" class=\"dataframe\">\n",
       "  <thead>\n",
       "    <tr style=\"text-align: right;\">\n",
       "      <th></th>\n",
       "      <th>payment_date</th>\n",
       "      <th>comment</th>\n",
       "      <th>session_event_id</th>\n",
       "      <th>session_date</th>\n",
       "      <th>session_params</th>\n",
       "      <th>owner</th>\n",
       "      <th>refund_date</th>\n",
       "      <th>buyer_mobile_phone</th>\n",
       "      <th>refund_reason</th>\n",
       "      <th>payment_amount</th>\n",
       "      <th>visitor_first_name</th>\n",
       "      <th>refund_ticket_price</th>\n",
       "      <th>create_date</th>\n",
       "      <th>status</th>\n",
       "      <th>payment_ticket_price</th>\n",
       "      <th>session_organization_id</th>\n",
       "      <th>visit_date</th>\n",
       "    </tr>\n",
       "  </thead>\n",
       "  <tbody>\n",
       "  </tbody>\n",
       "</table>\n",
       "</div>"
      ],
      "text/plain": [
       "Empty DataFrame\n",
       "Columns: [payment_date, comment, session_event_id, session_date, session_params, owner, refund_date, buyer_mobile_phone, refund_reason, payment_amount, visitor_first_name, refund_ticket_price, create_date, status, payment_ticket_price, session_organization_id, visit_date]\n",
       "Index: []"
      ]
     },
     "execution_count": 10,
     "metadata": {},
     "output_type": "execute_result"
    }
   ],
   "source": [
    "tickets[tickets['buyer_mobile_phone'].isna()]"
   ]
  },
  {
   "cell_type": "code",
   "execution_count": 11,
   "id": "517793d9",
   "metadata": {},
   "outputs": [
    {
     "data": {
      "text/plain": [
       "11791"
      ]
     },
     "execution_count": 11,
     "metadata": {},
     "output_type": "execute_result"
    }
   ],
   "source": [
    "tickets.visitor_first_name.nunique() # можно было попробовать пол по именм, но имён у нас всего 11 тысяч из 1,2 млн."
   ]
  },
  {
   "cell_type": "markdown",
   "id": "bce44741",
   "metadata": {},
   "source": [
    "# Добавим данные пользователя в дата сет с купленными билетами"
   ]
  },
  {
   "cell_type": "code",
   "execution_count": 12,
   "id": "ada2c559",
   "metadata": {},
   "outputs": [],
   "source": [
    "tickets = pd.merge(tickets,users,on=['buyer_mobile_phone'], how='left')"
   ]
  },
  {
   "cell_type": "code",
   "execution_count": 13,
   "id": "f350c200",
   "metadata": {},
   "outputs": [
    {
     "name": "stdout",
     "output_type": "stream",
     "text": [
      "<class 'pandas.core.frame.DataFrame'>\n",
      "Int64Index: 854330 entries, 0 to 854329\n",
      "Data columns (total 25 columns):\n",
      " #   Column                   Non-Null Count   Dtype  \n",
      "---  ------                   --------------   -----  \n",
      " 0   payment_date             854330 non-null  int64  \n",
      " 1   comment                  854330 non-null  object \n",
      " 2   session_event_id         854330 non-null  object \n",
      " 3   session_date             854330 non-null  int64  \n",
      " 4   session_params           854330 non-null  object \n",
      " 5   owner                    854330 non-null  object \n",
      " 6   refund_date              25117 non-null   float64\n",
      " 7   buyer_mobile_phone       854330 non-null  object \n",
      " 8   refund_reason            25117 non-null   object \n",
      " 9   payment_amount           854330 non-null  object \n",
      " 10  visitor_first_name       854330 non-null  object \n",
      " 11  refund_ticket_price      24409 non-null   object \n",
      " 12  create_date_x            854330 non-null  int64  \n",
      " 13  status                   854330 non-null  object \n",
      " 14  payment_ticket_price     854330 non-null  object \n",
      " 15  session_organization_id  854330 non-null  object \n",
      " 16  visit_date               393850 non-null  float64\n",
      " 17  create_date_y            530576 non-null  float64\n",
      " 18  user_id                  530576 non-null  object \n",
      " 19  user_birth               530576 non-null  object \n",
      " 20  create_date.1            530576 non-null  object \n",
      " 21  user_phone_details       530576 non-null  object \n",
      " 22  region                   368752 non-null  object \n",
      " 23  age                      530576 non-null  object \n",
      " 24  user_region              368752 non-null  object \n",
      "dtypes: float64(3), int64(3), object(19)\n",
      "memory usage: 169.5+ MB\n"
     ]
    }
   ],
   "source": [
    "tickets.info()"
   ]
  },
  {
   "cell_type": "code",
   "execution_count": 14,
   "id": "bc8ac620",
   "metadata": {},
   "outputs": [],
   "source": [
    "tickets_2 = tickets[tickets['user_id'].notna() == True]"
   ]
  },
  {
   "cell_type": "code",
   "execution_count": 15,
   "id": "3c68576a",
   "metadata": {},
   "outputs": [
    {
     "name": "stdout",
     "output_type": "stream",
     "text": [
      "<class 'pandas.core.frame.DataFrame'>\n",
      "Int64Index: 530576 entries, 1 to 854329\n",
      "Data columns (total 25 columns):\n",
      " #   Column                   Non-Null Count   Dtype  \n",
      "---  ------                   --------------   -----  \n",
      " 0   payment_date             530576 non-null  int64  \n",
      " 1   comment                  530576 non-null  object \n",
      " 2   session_event_id         530576 non-null  object \n",
      " 3   session_date             530576 non-null  int64  \n",
      " 4   session_params           530576 non-null  object \n",
      " 5   owner                    530576 non-null  object \n",
      " 6   refund_date              16455 non-null   float64\n",
      " 7   buyer_mobile_phone       530576 non-null  object \n",
      " 8   refund_reason            16455 non-null   object \n",
      " 9   payment_amount           530576 non-null  object \n",
      " 10  visitor_first_name       530576 non-null  object \n",
      " 11  refund_ticket_price      16025 non-null   object \n",
      " 12  create_date_x            530576 non-null  int64  \n",
      " 13  status                   530576 non-null  object \n",
      " 14  payment_ticket_price     530576 non-null  object \n",
      " 15  session_organization_id  530576 non-null  object \n",
      " 16  visit_date               253888 non-null  float64\n",
      " 17  create_date_y            530576 non-null  float64\n",
      " 18  user_id                  530576 non-null  object \n",
      " 19  user_birth               530576 non-null  object \n",
      " 20  create_date.1            530576 non-null  object \n",
      " 21  user_phone_details       530576 non-null  object \n",
      " 22  region                   368752 non-null  object \n",
      " 23  age                      530576 non-null  object \n",
      " 24  user_region              368752 non-null  object \n",
      "dtypes: float64(3), int64(3), object(19)\n",
      "memory usage: 105.2+ MB\n"
     ]
    }
   ],
   "source": [
    "tickets_2.info()"
   ]
  },
  {
   "cell_type": "code",
   "execution_count": 16,
   "id": "097f7e82",
   "metadata": {},
   "outputs": [],
   "source": [
    "cliks_add = pd.read_csv(path + 'cliks_add.csv', sep=';', error_bad_lines=False)"
   ]
  },
  {
   "cell_type": "code",
   "execution_count": 17,
   "id": "0edc4e41",
   "metadata": {
    "scrolled": false
   },
   "outputs": [
    {
     "name": "stdout",
     "output_type": "stream",
     "text": [
      "<class 'pandas.core.frame.DataFrame'>\n",
      "RangeIndex: 5747389 entries, 0 to 5747388\n",
      "Data columns (total 17 columns):\n",
      " #   Column                   Dtype  \n",
      "---  ------                   -----  \n",
      " 0   create_time              object \n",
      " 1   create_date              object \n",
      " 2   user_phone_details       object \n",
      " 3   buyer_mobile_phone       object \n",
      " 4   user_id                  object \n",
      " 5   url                      object \n",
      " 6   session_id               float64\n",
      " 7   session_name             object \n",
      " 8   organization_id          float64\n",
      " 9   organization_name        object \n",
      " 10  session_identity         object \n",
      " 11  Org_region_number        float64\n",
      " 12  org_category             object \n",
      " 13  age                      float64\n",
      " 14  user_region              float64\n",
      " 15  user_phone_details_id    object \n",
      " 16  user_phone_details_id_2  int64  \n",
      "dtypes: float64(5), int64(1), object(11)\n",
      "memory usage: 745.4+ MB\n"
     ]
    }
   ],
   "source": [
    "cliks_add.info()"
   ]
  },
  {
   "cell_type": "code",
   "execution_count": 18,
   "id": "1cd1645b",
   "metadata": {},
   "outputs": [
    {
     "data": {
      "text/plain": [
       "(5747389, 17)"
      ]
     },
     "execution_count": 18,
     "metadata": {},
     "output_type": "execute_result"
    }
   ],
   "source": [
    "cliks_add.shape"
   ]
  },
  {
   "cell_type": "code",
   "execution_count": 19,
   "id": "82df191c",
   "metadata": {},
   "outputs": [],
   "source": [
    "ticket_users = tickets_2['user_id'].unique()"
   ]
  },
  {
   "cell_type": "code",
   "execution_count": 20,
   "id": "0e38a06b",
   "metadata": {},
   "outputs": [
    {
     "data": {
      "text/plain": [
       "329522"
      ]
     },
     "execution_count": 20,
     "metadata": {},
     "output_type": "execute_result"
    }
   ],
   "source": [
    "tickets_2['user_id'].nunique()"
   ]
  },
  {
   "cell_type": "code",
   "execution_count": 21,
   "id": "d58bd669",
   "metadata": {},
   "outputs": [
    {
     "data": {
      "text/plain": [
       "329522"
      ]
     },
     "execution_count": 21,
     "metadata": {},
     "output_type": "execute_result"
    }
   ],
   "source": [
    "len(ticket_users)"
   ]
  },
  {
   "cell_type": "code",
   "execution_count": 22,
   "id": "5121ac3f",
   "metadata": {},
   "outputs": [],
   "source": [
    "cliks_add_users = cliks_add['user_id'].unique()"
   ]
  },
  {
   "cell_type": "code",
   "execution_count": 23,
   "id": "bc0de93d",
   "metadata": {},
   "outputs": [
    {
     "data": {
      "text/plain": [
       "272442"
      ]
     },
     "execution_count": 23,
     "metadata": {},
     "output_type": "execute_result"
    }
   ],
   "source": [
    "len(cliks_add_users)"
   ]
  },
  {
   "cell_type": "code",
   "execution_count": 24,
   "id": "d724a4ae",
   "metadata": {},
   "outputs": [
    {
     "data": {
      "text/plain": [
       "272442"
      ]
     },
     "execution_count": 24,
     "metadata": {},
     "output_type": "execute_result"
    }
   ],
   "source": [
    "cliks_add['user_id'].nunique()"
   ]
  },
  {
   "cell_type": "code",
   "execution_count": 25,
   "id": "5df25cc7",
   "metadata": {
    "scrolled": true
   },
   "outputs": [
    {
     "data": {
      "text/plain": [
       "array(['08014dcd786881f349938c9255e9df36',\n",
       "       'b2560eaa8bc23dbba5f24aa5075b89ed',\n",
       "       'fdfe16d86915392aeeca341505cce1c1',\n",
       "       'cf3f95a25510513018a33990a30f5acb',\n",
       "       'e2f896fb069e555a5faaf71a3d2b8dec'], dtype=object)"
      ]
     },
     "execution_count": 25,
     "metadata": {},
     "output_type": "execute_result"
    }
   ],
   "source": [
    "cliks_add_users[:5]"
   ]
  },
  {
   "cell_type": "code",
   "execution_count": 26,
   "id": "620711b5",
   "metadata": {
    "scrolled": true
   },
   "outputs": [
    {
     "data": {
      "text/plain": [
       "array(['ef54479d868c93e5b6a6e425fc780954',\n",
       "       '68f0a5ca2209fedf6d574d74940e55a5',\n",
       "       '89bc110254468dbf23f51f84385418a0',\n",
       "       '38d83e61be8f2afd0d335686d685dc56',\n",
       "       '65835d1c0954fe08db3ffa4e1a5fb75f'], dtype=object)"
      ]
     },
     "execution_count": 26,
     "metadata": {},
     "output_type": "execute_result"
    }
   ],
   "source": [
    "ticket_users[:5]"
   ]
  },
  {
   "cell_type": "markdown",
   "id": "b3751973",
   "metadata": {},
   "source": [
    "cliks_and_tickets = cliks_add.copy()"
   ]
  },
  {
   "cell_type": "markdown",
   "id": "7590ffea",
   "metadata": {
    "scrolled": true
   },
   "source": [
    "cliks_and_tickets.shape"
   ]
  },
  {
   "cell_type": "markdown",
   "id": "ff639987",
   "metadata": {},
   "source": [
    "cliks_and_tickets = pd.DataFrame()"
   ]
  },
  {
   "cell_type": "markdown",
   "id": "3ecdeb6a",
   "metadata": {},
   "source": [
    "import time\n",
    "start_time = time.time()\n",
    "\n",
    "cliks_and_tickets = cliks_add.merge(\n",
    "    tickets_2.drop_duplicates(subset=['user_id']), left_on='user_id', right_on=['user_id'], how='inner')\n",
    "\n",
    "print(\"--- %s seconds ---\" % (time.time() - start_time))"
   ]
  },
  {
   "cell_type": "markdown",
   "id": "cc63e6f6",
   "metadata": {},
   "source": [
    "cliks_and_tickets.shape"
   ]
  },
  {
   "cell_type": "code",
   "execution_count": 27,
   "id": "b3302d12",
   "metadata": {},
   "outputs": [
    {
     "name": "stdout",
     "output_type": "stream",
     "text": [
      "--- 1.501798391342163 seconds ---\n"
     ]
    }
   ],
   "source": [
    "import time\n",
    "start_time = time.time()\n",
    "\n",
    "cliks_and_tickets_2 = cliks_add.loc[cliks_add.user_id.isin(tickets_2.user_id.unique())] \n",
    "\n",
    "print(\"--- %s seconds ---\" % (time.time() - start_time))"
   ]
  },
  {
   "cell_type": "code",
   "execution_count": 28,
   "id": "afd9f1f8",
   "metadata": {},
   "outputs": [
    {
     "data": {
      "text/plain": [
       "(3538545, 17)"
      ]
     },
     "execution_count": 28,
     "metadata": {},
     "output_type": "execute_result"
    }
   ],
   "source": [
    "cliks_and_tickets_2.shape"
   ]
  },
  {
   "cell_type": "code",
   "execution_count": 29,
   "id": "5170f0be",
   "metadata": {},
   "outputs": [
    {
     "data": {
      "text/plain": [
       "137156"
      ]
     },
     "execution_count": 29,
     "metadata": {},
     "output_type": "execute_result"
    }
   ],
   "source": [
    "cliks_and_tickets_2.user_id.nunique()"
   ]
  },
  {
   "cell_type": "code",
   "execution_count": 30,
   "id": "d28f467a",
   "metadata": {},
   "outputs": [],
   "source": [
    "#cliks_and_tickets_2.to_csv(path + 'cliks_and_tickets.csv', sep = ';', index = False)"
   ]
  },
  {
   "cell_type": "code",
   "execution_count": 31,
   "id": "2b15efb0",
   "metadata": {},
   "outputs": [
    {
     "name": "stdout",
     "output_type": "stream",
     "text": [
      "<class 'pandas.core.frame.DataFrame'>\n",
      "Int64Index: 3538545 entries, 0 to 5747388\n",
      "Data columns (total 17 columns):\n",
      " #   Column                   Dtype  \n",
      "---  ------                   -----  \n",
      " 0   create_time              object \n",
      " 1   create_date              object \n",
      " 2   user_phone_details       object \n",
      " 3   buyer_mobile_phone       object \n",
      " 4   user_id                  object \n",
      " 5   url                      object \n",
      " 6   session_id               float64\n",
      " 7   session_name             object \n",
      " 8   organization_id          float64\n",
      " 9   organization_name        object \n",
      " 10  session_identity         object \n",
      " 11  Org_region_number        float64\n",
      " 12  org_category             object \n",
      " 13  age                      float64\n",
      " 14  user_region              float64\n",
      " 15  user_phone_details_id    object \n",
      " 16  user_phone_details_id_2  int64  \n",
      "dtypes: float64(5), int64(1), object(11)\n",
      "memory usage: 485.9+ MB\n"
     ]
    }
   ],
   "source": [
    "cliks_and_tickets_2.info()"
   ]
  },
  {
   "cell_type": "code",
   "execution_count": 32,
   "id": "80422762",
   "metadata": {},
   "outputs": [],
   "source": [
    "cliks_and_tickets_2 = cliks_and_tickets_2.astype({'session_id': 'object', 'organization_id': 'object', \n",
    "                            'Org_region_number': 'object', 'user_region': 'object'}, copy=False)"
   ]
  },
  {
   "cell_type": "code",
   "execution_count": 33,
   "id": "92472d3d",
   "metadata": {
    "scrolled": true
   },
   "outputs": [
    {
     "name": "stdout",
     "output_type": "stream",
     "text": [
      "<class 'pandas.core.frame.DataFrame'>\n",
      "Int64Index: 3538545 entries, 0 to 5747388\n",
      "Data columns (total 17 columns):\n",
      " #   Column                   Dtype  \n",
      "---  ------                   -----  \n",
      " 0   create_time              object \n",
      " 1   create_date              object \n",
      " 2   user_phone_details       object \n",
      " 3   buyer_mobile_phone       object \n",
      " 4   user_id                  object \n",
      " 5   url                      object \n",
      " 6   session_id               object \n",
      " 7   session_name             object \n",
      " 8   organization_id          object \n",
      " 9   organization_name        object \n",
      " 10  session_identity         object \n",
      " 11  Org_region_number        object \n",
      " 12  org_category             object \n",
      " 13  age                      float64\n",
      " 14  user_region              object \n",
      " 15  user_phone_details_id    object \n",
      " 16  user_phone_details_id_2  int64  \n",
      "dtypes: float64(1), int64(1), object(15)\n",
      "memory usage: 485.9+ MB\n"
     ]
    }
   ],
   "source": [
    "cliks_and_tickets_2.info()"
   ]
  },
  {
   "cell_type": "code",
   "execution_count": 34,
   "id": "2817f208",
   "metadata": {},
   "outputs": [],
   "source": [
    "cliks_and_tickets_2.dropna(subset = ['session_id'], inplace = True)"
   ]
  },
  {
   "cell_type": "code",
   "execution_count": 51,
   "id": "3b666a17",
   "metadata": {},
   "outputs": [
    {
     "data": {
      "text/plain": [
       "array(['717865', '1309020', '1261967', '1247322', '80126'], dtype=object)"
      ]
     },
     "execution_count": 51,
     "metadata": {},
     "output_type": "execute_result"
    }
   ],
   "source": [
    "cliks_and_tickets_2['session_id'].unique()[:5]"
   ]
  },
  {
   "cell_type": "code",
   "execution_count": 52,
   "id": "bd5b6234",
   "metadata": {},
   "outputs": [],
   "source": [
    "cliks_and_tickets_2['user_id'] = cliks_and_tickets_2['user_id'].apply(lambda x: str(x))"
   ]
  },
  {
   "cell_type": "code",
   "execution_count": 53,
   "id": "bf96b744",
   "metadata": {},
   "outputs": [],
   "source": [
    "cliks_and_tickets_2['session_id'] = cliks_and_tickets_2['session_id'].apply(lambda x: str(x))\n",
    "cliks_and_tickets_2['session_id'] = cliks_and_tickets_2['session_id'].apply(lambda x: x.replace('.0', ''))"
   ]
  },
  {
   "cell_type": "code",
   "execution_count": 54,
   "id": "7f525f67",
   "metadata": {},
   "outputs": [
    {
     "name": "stderr",
     "output_type": "stream",
     "text": [
      "C:\\Users\\Rusla\\AppData\\Local\\Temp/ipykernel_16620/2292651450.py:1: SettingWithCopyWarning: \n",
      "A value is trying to be set on a copy of a slice from a DataFrame.\n",
      "Try using .loc[row_indexer,col_indexer] = value instead\n",
      "\n",
      "See the caveats in the documentation: https://pandas.pydata.org/pandas-docs/stable/user_guide/indexing.html#returning-a-view-versus-a-copy\n",
      "  tickets_2['session_event_id'] = tickets_2['session_event_id'].apply(lambda x: str(x))\n"
     ]
    }
   ],
   "source": [
    "tickets_2['session_event_id'] = tickets_2['session_event_id'].apply(lambda x: str(x))"
   ]
  },
  {
   "cell_type": "code",
   "execution_count": 55,
   "id": "5e9d470f",
   "metadata": {},
   "outputs": [],
   "source": [
    "cliks_and_tickets_2['user_session'] = cliks_and_tickets_2['user_id'] + cliks_and_tickets_2['session_id']"
   ]
  },
  {
   "cell_type": "code",
   "execution_count": 56,
   "id": "0235e228",
   "metadata": {},
   "outputs": [
    {
     "name": "stderr",
     "output_type": "stream",
     "text": [
      "C:\\Users\\Rusla\\AppData\\Local\\Temp/ipykernel_16620/3420038588.py:1: SettingWithCopyWarning: \n",
      "A value is trying to be set on a copy of a slice from a DataFrame.\n",
      "Try using .loc[row_indexer,col_indexer] = value instead\n",
      "\n",
      "See the caveats in the documentation: https://pandas.pydata.org/pandas-docs/stable/user_guide/indexing.html#returning-a-view-versus-a-copy\n",
      "  tickets_2['user_session'] = tickets_2['user_id'] + tickets_2['session_event_id']\n"
     ]
    }
   ],
   "source": [
    "tickets_2['user_session'] = tickets_2['user_id'] + tickets_2['session_event_id']"
   ]
  },
  {
   "cell_type": "code",
   "execution_count": 57,
   "id": "0ac0d6f8",
   "metadata": {},
   "outputs": [
    {
     "name": "stdout",
     "output_type": "stream",
     "text": [
      "<class 'pandas.core.frame.DataFrame'>\n",
      "Int64Index: 3526081 entries, 0 to 5747388\n",
      "Data columns (total 18 columns):\n",
      " #   Column                   Dtype  \n",
      "---  ------                   -----  \n",
      " 0   create_time              object \n",
      " 1   create_date              object \n",
      " 2   user_phone_details       object \n",
      " 3   buyer_mobile_phone       object \n",
      " 4   user_id                  object \n",
      " 5   url                      object \n",
      " 6   session_id               object \n",
      " 7   session_name             object \n",
      " 8   organization_id          object \n",
      " 9   organization_name        object \n",
      " 10  session_identity         object \n",
      " 11  Org_region_number        object \n",
      " 12  org_category             object \n",
      " 13  age                      float64\n",
      " 14  user_region              object \n",
      " 15  user_phone_details_id    object \n",
      " 16  user_phone_details_id_2  int64  \n",
      " 17  user_session             object \n",
      "dtypes: float64(1), int64(1), object(16)\n",
      "memory usage: 511.1+ MB\n"
     ]
    }
   ],
   "source": [
    "cliks_and_tickets_2.info()"
   ]
  },
  {
   "cell_type": "code",
   "execution_count": 58,
   "id": "8752ddc3",
   "metadata": {},
   "outputs": [
    {
     "name": "stdout",
     "output_type": "stream",
     "text": [
      "<class 'pandas.core.frame.DataFrame'>\n",
      "Int64Index: 530576 entries, 1 to 854329\n",
      "Data columns (total 26 columns):\n",
      " #   Column                   Non-Null Count   Dtype  \n",
      "---  ------                   --------------   -----  \n",
      " 0   payment_date             530576 non-null  int64  \n",
      " 1   comment                  530576 non-null  object \n",
      " 2   session_event_id         530576 non-null  object \n",
      " 3   session_date             530576 non-null  int64  \n",
      " 4   session_params           530576 non-null  object \n",
      " 5   owner                    530576 non-null  object \n",
      " 6   refund_date              16455 non-null   float64\n",
      " 7   buyer_mobile_phone       530576 non-null  object \n",
      " 8   refund_reason            16455 non-null   object \n",
      " 9   payment_amount           530576 non-null  object \n",
      " 10  visitor_first_name       530576 non-null  object \n",
      " 11  refund_ticket_price      16025 non-null   object \n",
      " 12  create_date_x            530576 non-null  int64  \n",
      " 13  status                   530576 non-null  object \n",
      " 14  payment_ticket_price     530576 non-null  object \n",
      " 15  session_organization_id  530576 non-null  object \n",
      " 16  visit_date               253888 non-null  float64\n",
      " 17  create_date_y            530576 non-null  float64\n",
      " 18  user_id                  530576 non-null  object \n",
      " 19  user_birth               530576 non-null  object \n",
      " 20  create_date.1            530576 non-null  object \n",
      " 21  user_phone_details       530576 non-null  object \n",
      " 22  region                   368752 non-null  object \n",
      " 23  age                      530576 non-null  object \n",
      " 24  user_region              368752 non-null  object \n",
      " 25  user_session             530576 non-null  object \n",
      "dtypes: float64(3), int64(3), object(20)\n",
      "memory usage: 109.3+ MB\n"
     ]
    }
   ],
   "source": [
    "tickets_2.info()"
   ]
  },
  {
   "cell_type": "code",
   "execution_count": 59,
   "id": "ad66592b",
   "metadata": {},
   "outputs": [
    {
     "data": {
      "text/plain": [
       "array(['ef54479d868c93e5b6a6e425fc7809541327993',\n",
       "       '68f0a5ca2209fedf6d574d74940e55a51315681',\n",
       "       '89bc110254468dbf23f51f84385418a01255316',\n",
       "       '38d83e61be8f2afd0d335686d685dc561426221',\n",
       "       'ef54479d868c93e5b6a6e425fc7809541318121'], dtype=object)"
      ]
     },
     "execution_count": 59,
     "metadata": {},
     "output_type": "execute_result"
    }
   ],
   "source": [
    "tickets_2['user_session'].unique()[:5]"
   ]
  },
  {
   "cell_type": "code",
   "execution_count": 60,
   "id": "80a4aef1",
   "metadata": {},
   "outputs": [
    {
     "data": {
      "text/plain": [
       "array(['08014dcd786881f349938c9255e9df36717865',\n",
       "       'b2560eaa8bc23dbba5f24aa5075b89ed1309020',\n",
       "       'fdfe16d86915392aeeca341505cce1c11261967',\n",
       "       'fdfe16d86915392aeeca341505cce1c11247322',\n",
       "       'fdfe16d86915392aeeca341505cce1c180126'], dtype=object)"
      ]
     },
     "execution_count": 60,
     "metadata": {},
     "output_type": "execute_result"
    }
   ],
   "source": [
    "cliks_and_tickets_2['user_session'].unique()[:5]"
   ]
  },
  {
   "cell_type": "code",
   "execution_count": 99,
   "id": "c1f6089a",
   "metadata": {},
   "outputs": [],
   "source": [
    "cliks_and_tickets_2.drop_duplicates(subset = 'user_session', inplace = True)"
   ]
  },
  {
   "cell_type": "code",
   "execution_count": 100,
   "id": "65ae1dde",
   "metadata": {},
   "outputs": [],
   "source": [
    "cliks_and_tickets_3 = cliks_and_tickets_2.merge(tickets_2[['user_session', 'payment_date', \n",
    "                                                           'session_date', 'payment_amount',\n",
    "                                                          'status', 'payment_ticket_price']], \n",
    "                                                on='user_session', how='left')"
   ]
  },
  {
   "cell_type": "code",
   "execution_count": 101,
   "id": "87377fef",
   "metadata": {},
   "outputs": [
    {
     "data": {
      "text/html": [
       "<div>\n",
       "<style scoped>\n",
       "    .dataframe tbody tr th:only-of-type {\n",
       "        vertical-align: middle;\n",
       "    }\n",
       "\n",
       "    .dataframe tbody tr th {\n",
       "        vertical-align: top;\n",
       "    }\n",
       "\n",
       "    .dataframe thead th {\n",
       "        text-align: right;\n",
       "    }\n",
       "</style>\n",
       "<table border=\"1\" class=\"dataframe\">\n",
       "  <thead>\n",
       "    <tr style=\"text-align: right;\">\n",
       "      <th></th>\n",
       "      <th>age</th>\n",
       "      <th>user_phone_details_id_2</th>\n",
       "      <th>payment_date</th>\n",
       "      <th>session_date</th>\n",
       "    </tr>\n",
       "  </thead>\n",
       "  <tbody>\n",
       "    <tr>\n",
       "      <th>count</th>\n",
       "      <td>719528.000000</td>\n",
       "      <td>719528.000000</td>\n",
       "      <td>1.486410e+05</td>\n",
       "      <td>1.486410e+05</td>\n",
       "    </tr>\n",
       "    <tr>\n",
       "      <th>mean</th>\n",
       "      <td>18.633472</td>\n",
       "      <td>135.289228</td>\n",
       "      <td>1.354053e+11</td>\n",
       "      <td>1.331675e+11</td>\n",
       "    </tr>\n",
       "    <tr>\n",
       "      <th>std</th>\n",
       "      <td>2.493590</td>\n",
       "      <td>67.692961</td>\n",
       "      <td>4.482101e+11</td>\n",
       "      <td>4.451008e+11</td>\n",
       "    </tr>\n",
       "    <tr>\n",
       "      <th>min</th>\n",
       "      <td>14.000000</td>\n",
       "      <td>15.000000</td>\n",
       "      <td>1.630653e+09</td>\n",
       "      <td>-1.080000e+04</td>\n",
       "    </tr>\n",
       "    <tr>\n",
       "      <th>25%</th>\n",
       "      <td>17.000000</td>\n",
       "      <td>110.000000</td>\n",
       "      <td>1.636794e+09</td>\n",
       "      <td>1.636900e+09</td>\n",
       "    </tr>\n",
       "    <tr>\n",
       "      <th>50%</th>\n",
       "      <td>19.000000</td>\n",
       "      <td>111.000000</td>\n",
       "      <td>1.637401e+09</td>\n",
       "      <td>1.637950e+09</td>\n",
       "    </tr>\n",
       "    <tr>\n",
       "      <th>75%</th>\n",
       "      <td>21.000000</td>\n",
       "      <td>214.000000</td>\n",
       "      <td>1.637927e+09</td>\n",
       "      <td>1.639057e+09</td>\n",
       "    </tr>\n",
       "    <tr>\n",
       "      <th>max</th>\n",
       "      <td>23.000000</td>\n",
       "      <td>215.000000</td>\n",
       "      <td>1.638306e+12</td>\n",
       "      <td>1.767092e+12</td>\n",
       "    </tr>\n",
       "  </tbody>\n",
       "</table>\n",
       "</div>"
      ],
      "text/plain": [
       "                 age  user_phone_details_id_2  payment_date  session_date\n",
       "count  719528.000000            719528.000000  1.486410e+05  1.486410e+05\n",
       "mean       18.633472               135.289228  1.354053e+11  1.331675e+11\n",
       "std         2.493590                67.692961  4.482101e+11  4.451008e+11\n",
       "min        14.000000                15.000000  1.630653e+09 -1.080000e+04\n",
       "25%        17.000000               110.000000  1.636794e+09  1.636900e+09\n",
       "50%        19.000000               111.000000  1.637401e+09  1.637950e+09\n",
       "75%        21.000000               214.000000  1.637927e+09  1.639057e+09\n",
       "max        23.000000               215.000000  1.638306e+12  1.767092e+12"
      ]
     },
     "execution_count": 101,
     "metadata": {},
     "output_type": "execute_result"
    }
   ],
   "source": [
    "cliks_and_tickets_3.describe()"
   ]
  },
  {
   "cell_type": "code",
   "execution_count": 110,
   "id": "8c53ddd7",
   "metadata": {},
   "outputs": [
    {
     "name": "stdout",
     "output_type": "stream",
     "text": [
      "<class 'pandas.core.frame.DataFrame'>\n",
      "Int64Index: 719528 entries, 0 to 719527\n",
      "Data columns (total 19 columns):\n",
      " #   Column                   Non-Null Count   Dtype  \n",
      "---  ------                   --------------   -----  \n",
      " 0   create_time              719528 non-null  object \n",
      " 1   create_date              719528 non-null  object \n",
      " 2   user_id                  719528 non-null  object \n",
      " 3   session_id               719528 non-null  object \n",
      " 4   session_name             719528 non-null  object \n",
      " 5   organization_id          719528 non-null  object \n",
      " 6   organization_name        719528 non-null  object \n",
      " 7   session_identity         719528 non-null  object \n",
      " 8   Org_region_number        717177 non-null  object \n",
      " 9   org_category             681177 non-null  object \n",
      " 10  age                      719528 non-null  float64\n",
      " 11  user_region              521446 non-null  object \n",
      " 12  user_phone_details_id    719528 non-null  object \n",
      " 13  user_phone_details_id_2  719528 non-null  int64  \n",
      " 14  payment_date             719528 non-null  float64\n",
      " 15  session_date             148641 non-null  float64\n",
      " 16  payment_amount           148641 non-null  object \n",
      " 17  status                   148641 non-null  object \n",
      " 18  payment_ticket_price     148641 non-null  object \n",
      "dtypes: float64(3), int64(1), object(15)\n",
      "memory usage: 109.8+ MB\n"
     ]
    }
   ],
   "source": [
    "cliks_and_tickets_3.info()"
   ]
  },
  {
   "cell_type": "code",
   "execution_count": 102,
   "id": "29ff066a",
   "metadata": {},
   "outputs": [
    {
     "data": {
      "text/plain": [
       "1.637229e+09    15\n",
       "1.637317e+09    11\n",
       "1.637321e+09    10\n",
       "1.637929e+09    10\n",
       "1.637928e+09     8\n",
       "                ..\n",
       "1.635873e+09     1\n",
       "1.637774e+09     1\n",
       "1.636830e+09     1\n",
       "1.636442e+12     1\n",
       "1.637158e+12     1\n",
       "Name: payment_date, Length: 141791, dtype: int64"
      ]
     },
     "execution_count": 102,
     "metadata": {},
     "output_type": "execute_result"
    }
   ],
   "source": [
    "cliks_and_tickets_3['payment_date'].value_counts()"
   ]
  },
  {
   "cell_type": "code",
   "execution_count": 103,
   "id": "42fc6dd0",
   "metadata": {},
   "outputs": [
    {
     "data": {
      "text/plain": [
       "719528"
      ]
     },
     "execution_count": 103,
     "metadata": {},
     "output_type": "execute_result"
    }
   ],
   "source": [
    "cliks_and_tickets_3['payment_date'].isna().count()"
   ]
  },
  {
   "cell_type": "code",
   "execution_count": 104,
   "id": "9f23c299",
   "metadata": {},
   "outputs": [],
   "source": [
    "cliks_and_tickets_3.to_csv(path + 'cliks_and_tickets.csv', sep = ';', index = False)"
   ]
  },
  {
   "cell_type": "code",
   "execution_count": 105,
   "id": "4da5c23c",
   "metadata": {},
   "outputs": [
    {
     "data": {
      "text/html": [
       "<div>\n",
       "<style scoped>\n",
       "    .dataframe tbody tr th:only-of-type {\n",
       "        vertical-align: middle;\n",
       "    }\n",
       "\n",
       "    .dataframe tbody tr th {\n",
       "        vertical-align: top;\n",
       "    }\n",
       "\n",
       "    .dataframe thead th {\n",
       "        text-align: right;\n",
       "    }\n",
       "</style>\n",
       "<table border=\"1\" class=\"dataframe\">\n",
       "  <thead>\n",
       "    <tr style=\"text-align: right;\">\n",
       "      <th></th>\n",
       "      <th>create_time</th>\n",
       "      <th>create_date</th>\n",
       "      <th>user_phone_details</th>\n",
       "      <th>buyer_mobile_phone</th>\n",
       "      <th>user_id</th>\n",
       "      <th>url</th>\n",
       "      <th>session_id</th>\n",
       "      <th>session_name</th>\n",
       "      <th>organization_id</th>\n",
       "      <th>organization_name</th>\n",
       "      <th>...</th>\n",
       "      <th>age</th>\n",
       "      <th>user_region</th>\n",
       "      <th>user_phone_details_id</th>\n",
       "      <th>user_phone_details_id_2</th>\n",
       "      <th>user_session</th>\n",
       "      <th>payment_date</th>\n",
       "      <th>session_date</th>\n",
       "      <th>payment_amount</th>\n",
       "      <th>status</th>\n",
       "      <th>payment_ticket_price</th>\n",
       "    </tr>\n",
       "  </thead>\n",
       "  <tbody>\n",
       "    <tr>\n",
       "      <th>487731</th>\n",
       "      <td>2021-11-05 13:33:47</td>\n",
       "      <td>2021-11-05</td>\n",
       "      <td>Android, 10 (SDK 29)</td>\n",
       "      <td>0e80d03f6785929d9bdb85e10a942250</td>\n",
       "      <td>5b67b8c839454cda9d192ef66cad07ba</td>\n",
       "      <td>https://teatrnabulake.ru/afisha</td>\n",
       "      <td>1256583</td>\n",
       "      <td>Спектакль «Удивительный случай»</td>\n",
       "      <td>12537</td>\n",
       "      <td>ООО «Молодежный театр на Булаке»</td>\n",
       "      <td>...</td>\n",
       "      <td>21.0</td>\n",
       "      <td>NaN</td>\n",
       "      <td>Android, 10</td>\n",
       "      <td>110</td>\n",
       "      <td>5b67b8c839454cda9d192ef66cad07ba1256583</td>\n",
       "      <td>NaN</td>\n",
       "      <td>NaN</td>\n",
       "      <td>NaN</td>\n",
       "      <td>NaN</td>\n",
       "      <td>NaN</td>\n",
       "    </tr>\n",
       "    <tr>\n",
       "      <th>430603</th>\n",
       "      <td>2021-11-15 16:36:29</td>\n",
       "      <td>2021-11-15</td>\n",
       "      <td>Android, 11 (SDK 30)</td>\n",
       "      <td>7e0fc74f7781060e0be4bbc50c280b38</td>\n",
       "      <td>d41f2ccf544d736ed4752c9780c9ae35</td>\n",
       "      <td>https://tchcenter.ru/afisha-sobytij/#performan...</td>\n",
       "      <td>1042056</td>\n",
       "      <td>Концерт «Музыка Бродвея и Голливуда»</td>\n",
       "      <td>6499</td>\n",
       "      <td>Санкт-Петербургское государственное бюджетное ...</td>\n",
       "      <td>...</td>\n",
       "      <td>18.0</td>\n",
       "      <td>78</td>\n",
       "      <td>Android, 11</td>\n",
       "      <td>111</td>\n",
       "      <td>d41f2ccf544d736ed4752c9780c9ae351042056</td>\n",
       "      <td>NaN</td>\n",
       "      <td>NaN</td>\n",
       "      <td>NaN</td>\n",
       "      <td>NaN</td>\n",
       "      <td>NaN</td>\n",
       "    </tr>\n",
       "    <tr>\n",
       "      <th>399314</th>\n",
       "      <td>2021-11-23 14:34:25</td>\n",
       "      <td>2021-11-23</td>\n",
       "      <td>iOS, iOS 13.1</td>\n",
       "      <td>5d8823a06a3b378a1b2fae1817cf9e2c</td>\n",
       "      <td>23106b2f805e6fb068c78965d75327e2</td>\n",
       "      <td>https://teatrnur.ru/%D0%B0%D1%84%D0%B8%D1%88%D...</td>\n",
       "      <td>1231187</td>\n",
       "      <td>Спектакль «Шесть невест и один мужчина»</td>\n",
       "      <td>7839</td>\n",
       "      <td>ГБУКИ «Уфимский государственный татарский теат...</td>\n",
       "      <td>...</td>\n",
       "      <td>22.0</td>\n",
       "      <td>2</td>\n",
       "      <td>iOS, 13</td>\n",
       "      <td>213</td>\n",
       "      <td>23106b2f805e6fb068c78965d75327e21231187</td>\n",
       "      <td>1.637679e+09</td>\n",
       "      <td>1.637762e+09</td>\n",
       "      <td>500.00</td>\n",
       "      <td>active</td>\n",
       "      <td>500.00</td>\n",
       "    </tr>\n",
       "  </tbody>\n",
       "</table>\n",
       "<p>3 rows × 23 columns</p>\n",
       "</div>"
      ],
      "text/plain": [
       "                create_time create_date    user_phone_details  \\\n",
       "487731  2021-11-05 13:33:47  2021-11-05  Android, 10 (SDK 29)   \n",
       "430603  2021-11-15 16:36:29  2021-11-15  Android, 11 (SDK 30)   \n",
       "399314  2021-11-23 14:34:25  2021-11-23         iOS, iOS 13.1   \n",
       "\n",
       "                      buyer_mobile_phone                           user_id  \\\n",
       "487731  0e80d03f6785929d9bdb85e10a942250  5b67b8c839454cda9d192ef66cad07ba   \n",
       "430603  7e0fc74f7781060e0be4bbc50c280b38  d41f2ccf544d736ed4752c9780c9ae35   \n",
       "399314  5d8823a06a3b378a1b2fae1817cf9e2c  23106b2f805e6fb068c78965d75327e2   \n",
       "\n",
       "                                                      url session_id  \\\n",
       "487731                    https://teatrnabulake.ru/afisha    1256583   \n",
       "430603  https://tchcenter.ru/afisha-sobytij/#performan...    1042056   \n",
       "399314  https://teatrnur.ru/%D0%B0%D1%84%D0%B8%D1%88%D...    1231187   \n",
       "\n",
       "                                   session_name organization_id  \\\n",
       "487731          Спектакль «Удивительный случай»           12537   \n",
       "430603     Концерт «Музыка Бродвея и Голливуда»            6499   \n",
       "399314  Спектакль «Шесть невест и один мужчина»            7839   \n",
       "\n",
       "                                        organization_name  ...   age  \\\n",
       "487731                   ООО «Молодежный театр на Булаке»  ...  21.0   \n",
       "430603  Санкт-Петербургское государственное бюджетное ...  ...  18.0   \n",
       "399314  ГБУКИ «Уфимский государственный татарский теат...  ...  22.0   \n",
       "\n",
       "       user_region user_phone_details_id  user_phone_details_id_2  \\\n",
       "487731         NaN           Android, 10                      110   \n",
       "430603          78           Android, 11                      111   \n",
       "399314           2               iOS, 13                      213   \n",
       "\n",
       "                                   user_session  payment_date  session_date  \\\n",
       "487731  5b67b8c839454cda9d192ef66cad07ba1256583           NaN           NaN   \n",
       "430603  d41f2ccf544d736ed4752c9780c9ae351042056           NaN           NaN   \n",
       "399314  23106b2f805e6fb068c78965d75327e21231187  1.637679e+09  1.637762e+09   \n",
       "\n",
       "       payment_amount  status  payment_ticket_price  \n",
       "487731            NaN     NaN                   NaN  \n",
       "430603            NaN     NaN                   NaN  \n",
       "399314         500.00  active                500.00  \n",
       "\n",
       "[3 rows x 23 columns]"
      ]
     },
     "execution_count": 105,
     "metadata": {},
     "output_type": "execute_result"
    }
   ],
   "source": [
    "cliks_and_tickets_3.sample(3)"
   ]
  },
  {
   "cell_type": "code",
   "execution_count": 106,
   "id": "5526dd6a",
   "metadata": {},
   "outputs": [],
   "source": [
    "cliks_and_tickets_3.drop(['user_phone_details', 'buyer_mobile_phone', 'url', 'user_session'], axis = 1,\n",
    "                        inplace = True)"
   ]
  },
  {
   "cell_type": "code",
   "execution_count": 111,
   "id": "784a36d7",
   "metadata": {},
   "outputs": [
    {
     "data": {
      "text/html": [
       "<div>\n",
       "<style scoped>\n",
       "    .dataframe tbody tr th:only-of-type {\n",
       "        vertical-align: middle;\n",
       "    }\n",
       "\n",
       "    .dataframe tbody tr th {\n",
       "        vertical-align: top;\n",
       "    }\n",
       "\n",
       "    .dataframe thead th {\n",
       "        text-align: right;\n",
       "    }\n",
       "</style>\n",
       "<table border=\"1\" class=\"dataframe\">\n",
       "  <thead>\n",
       "    <tr style=\"text-align: right;\">\n",
       "      <th></th>\n",
       "      <th>create_time</th>\n",
       "      <th>create_date</th>\n",
       "      <th>user_id</th>\n",
       "      <th>session_id</th>\n",
       "      <th>session_name</th>\n",
       "      <th>organization_id</th>\n",
       "      <th>organization_name</th>\n",
       "      <th>session_identity</th>\n",
       "      <th>Org_region_number</th>\n",
       "      <th>org_category</th>\n",
       "      <th>age</th>\n",
       "      <th>user_region</th>\n",
       "      <th>user_phone_details_id</th>\n",
       "      <th>user_phone_details_id_2</th>\n",
       "      <th>payment_date</th>\n",
       "      <th>session_date</th>\n",
       "      <th>payment_amount</th>\n",
       "      <th>status</th>\n",
       "      <th>payment_ticket_price</th>\n",
       "    </tr>\n",
       "  </thead>\n",
       "  <tbody>\n",
       "    <tr>\n",
       "      <th>27471</th>\n",
       "      <td>2021-11-20 12:09:41</td>\n",
       "      <td>2021-11-20</td>\n",
       "      <td>33a275fb4f4a8a3381507261c0bec0d0</td>\n",
       "      <td>423136</td>\n",
       "      <td>Спектакль «Много шума из ничего»</td>\n",
       "      <td>5973</td>\n",
       "      <td>ОГАУК «Ульяновский драматический театр имени И...</td>\n",
       "      <td>Спектакль</td>\n",
       "      <td>73</td>\n",
       "      <td>NaN</td>\n",
       "      <td>21.0</td>\n",
       "      <td>NaN</td>\n",
       "      <td>iOS, 15</td>\n",
       "      <td>215</td>\n",
       "      <td>0.000000e+00</td>\n",
       "      <td>NaN</td>\n",
       "      <td>NaN</td>\n",
       "      <td>NaN</td>\n",
       "      <td>NaN</td>\n",
       "    </tr>\n",
       "    <tr>\n",
       "      <th>633050</th>\n",
       "      <td>2021-11-13 08:53:06</td>\n",
       "      <td>2021-11-13</td>\n",
       "      <td>892fe2a093f07c756e0fc4fdb3dc2e5c</td>\n",
       "      <td>1247865</td>\n",
       "      <td>Спектакль «Не жена, а дьявол»</td>\n",
       "      <td>7839</td>\n",
       "      <td>ГБУКИ «Уфимский государственный татарский теат...</td>\n",
       "      <td>Спектакль</td>\n",
       "      <td>2</td>\n",
       "      <td>Театры</td>\n",
       "      <td>20.0</td>\n",
       "      <td>16</td>\n",
       "      <td>Android, 11</td>\n",
       "      <td>111</td>\n",
       "      <td>0.000000e+00</td>\n",
       "      <td>NaN</td>\n",
       "      <td>NaN</td>\n",
       "      <td>NaN</td>\n",
       "      <td>NaN</td>\n",
       "    </tr>\n",
       "    <tr>\n",
       "      <th>187662</th>\n",
       "      <td>2021-11-22 18:20:18</td>\n",
       "      <td>2021-11-22</td>\n",
       "      <td>668e8b5b7e1ca53f74365ff5bb52d4b7</td>\n",
       "      <td>1245359</td>\n",
       "      <td>Спектакль «Мастер и Маргарита»</td>\n",
       "      <td>9958</td>\n",
       "      <td>ФГБУК «Московский Художественный академический...</td>\n",
       "      <td>Спектакль</td>\n",
       "      <td>77</td>\n",
       "      <td>Театры</td>\n",
       "      <td>20.0</td>\n",
       "      <td>26</td>\n",
       "      <td>iOS, 15</td>\n",
       "      <td>215</td>\n",
       "      <td>1.637606e+09</td>\n",
       "      <td>1.640534e+09</td>\n",
       "      <td>3000</td>\n",
       "      <td>visited</td>\n",
       "      <td>3000</td>\n",
       "    </tr>\n",
       "  </tbody>\n",
       "</table>\n",
       "</div>"
      ],
      "text/plain": [
       "                create_time create_date                           user_id  \\\n",
       "27471   2021-11-20 12:09:41  2021-11-20  33a275fb4f4a8a3381507261c0bec0d0   \n",
       "633050  2021-11-13 08:53:06  2021-11-13  892fe2a093f07c756e0fc4fdb3dc2e5c   \n",
       "187662  2021-11-22 18:20:18  2021-11-22  668e8b5b7e1ca53f74365ff5bb52d4b7   \n",
       "\n",
       "       session_id                      session_name organization_id  \\\n",
       "27471      423136  Спектакль «Много шума из ничего»            5973   \n",
       "633050    1247865     Спектакль «Не жена, а дьявол»            7839   \n",
       "187662    1245359    Спектакль «Мастер и Маргарита»            9958   \n",
       "\n",
       "                                        organization_name session_identity  \\\n",
       "27471   ОГАУК «Ульяновский драматический театр имени И...        Спектакль   \n",
       "633050  ГБУКИ «Уфимский государственный татарский теат...        Спектакль   \n",
       "187662  ФГБУК «Московский Художественный академический...        Спектакль   \n",
       "\n",
       "       Org_region_number org_category   age user_region user_phone_details_id  \\\n",
       "27471                 73          NaN  21.0         NaN               iOS, 15   \n",
       "633050                 2       Театры  20.0          16           Android, 11   \n",
       "187662                77       Театры  20.0          26               iOS, 15   \n",
       "\n",
       "        user_phone_details_id_2  payment_date  session_date payment_amount  \\\n",
       "27471                       215  0.000000e+00           NaN            NaN   \n",
       "633050                      111  0.000000e+00           NaN            NaN   \n",
       "187662                      215  1.637606e+09  1.640534e+09           3000   \n",
       "\n",
       "         status payment_ticket_price  \n",
       "27471       NaN                  NaN  \n",
       "633050      NaN                  NaN  \n",
       "187662  visited                 3000  "
      ]
     },
     "execution_count": 111,
     "metadata": {},
     "output_type": "execute_result"
    }
   ],
   "source": [
    "cliks_and_tickets_3.sample(3)"
   ]
  }
 ],
 "metadata": {
  "kernelspec": {
   "display_name": "Python 3 (ipykernel)",
   "language": "python",
   "name": "python3"
  },
  "language_info": {
   "codemirror_mode": {
    "name": "ipython",
    "version": 3
   },
   "file_extension": ".py",
   "mimetype": "text/x-python",
   "name": "python",
   "nbconvert_exporter": "python",
   "pygments_lexer": "ipython3",
   "version": "3.8.11"
  }
 },
 "nbformat": 4,
 "nbformat_minor": 5
}
