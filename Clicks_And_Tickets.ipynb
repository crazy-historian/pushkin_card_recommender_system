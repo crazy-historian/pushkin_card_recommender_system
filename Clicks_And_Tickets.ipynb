{
 "cells": [
  {
   "cell_type": "code",
   "execution_count": 56,
   "id": "69c6caf5",
   "metadata": {},
   "outputs": [],
   "source": [
    "import pandas as pd\n",
    "import numpy as np\n",
    "import math\n",
    "\n",
    "from tqdm.notebook import tqdm"
   ]
  },
  {
   "cell_type": "code",
   "execution_count": 2,
   "id": "c002ca62",
   "metadata": {},
   "outputs": [],
   "source": [
    "path = 'C:/Users/Rusla/Documents/GitHub/Пушкинская карта - стажировка/Sample/'"
   ]
  },
  {
   "cell_type": "code",
   "execution_count": 3,
   "id": "0b95cfc3",
   "metadata": {},
   "outputs": [],
   "source": [
    "users = pd.read_csv(path + 'users_full.csv', sep=';', error_bad_lines=False)"
   ]
  },
  {
   "cell_type": "code",
   "execution_count": 4,
   "id": "00078877",
   "metadata": {},
   "outputs": [
    {
     "name": "stdout",
     "output_type": "stream",
     "text": [
      "<class 'pandas.core.frame.DataFrame'>\n",
      "RangeIndex: 2879681 entries, 0 to 2879680\n",
      "Data columns (total 9 columns):\n",
      " #   Column              Dtype  \n",
      "---  ------              -----  \n",
      " 0   create_date         int64  \n",
      " 1   user_id             object \n",
      " 2   user_birth          object \n",
      " 3   create_date.1       object \n",
      " 4   user_phone_details  object \n",
      " 5   buyer_mobile_phone  object \n",
      " 6   region              object \n",
      " 7   age                 int64  \n",
      " 8   user_region         float64\n",
      "dtypes: float64(1), int64(2), object(6)\n",
      "memory usage: 197.7+ MB\n"
     ]
    }
   ],
   "source": [
    "users.info()"
   ]
  },
  {
   "cell_type": "code",
   "execution_count": 5,
   "id": "fa267db4",
   "metadata": {
    "scrolled": true
   },
   "outputs": [
    {
     "data": {
      "text/html": [
       "<div>\n",
       "<style scoped>\n",
       "    .dataframe tbody tr th:only-of-type {\n",
       "        vertical-align: middle;\n",
       "    }\n",
       "\n",
       "    .dataframe tbody tr th {\n",
       "        vertical-align: top;\n",
       "    }\n",
       "\n",
       "    .dataframe thead th {\n",
       "        text-align: right;\n",
       "    }\n",
       "</style>\n",
       "<table border=\"1\" class=\"dataframe\">\n",
       "  <thead>\n",
       "    <tr style=\"text-align: right;\">\n",
       "      <th></th>\n",
       "      <th>create_date</th>\n",
       "      <th>user_id</th>\n",
       "      <th>user_birth</th>\n",
       "      <th>create_date.1</th>\n",
       "      <th>user_phone_details</th>\n",
       "      <th>buyer_mobile_phone</th>\n",
       "      <th>region</th>\n",
       "      <th>age</th>\n",
       "      <th>user_region</th>\n",
       "    </tr>\n",
       "  </thead>\n",
       "  <tbody>\n",
       "    <tr>\n",
       "      <th>2287623</th>\n",
       "      <td>1630635009</td>\n",
       "      <td>3f25e617bfd6118a62d99345b9f3ab1a</td>\n",
       "      <td>2004-11-20</td>\n",
       "      <td>2021-11-07</td>\n",
       "      <td>Android, 11 (SDK 30)</td>\n",
       "      <td>5a5ddfd5ac45252c6009ebc05279c847</td>\n",
       "      <td>Иркутская область</td>\n",
       "      <td>17</td>\n",
       "      <td>38.0</td>\n",
       "    </tr>\n",
       "    <tr>\n",
       "      <th>1127258</th>\n",
       "      <td>1636471269</td>\n",
       "      <td>72c276ee54016b7e8477b4189520671e</td>\n",
       "      <td>2004-09-18</td>\n",
       "      <td>2021-11-09</td>\n",
       "      <td>Android, 11 (SDK 30)</td>\n",
       "      <td>34dfb494581bc85d6fedfcff6dcefcc9</td>\n",
       "      <td>NaN</td>\n",
       "      <td>17</td>\n",
       "      <td>NaN</td>\n",
       "    </tr>\n",
       "    <tr>\n",
       "      <th>2254336</th>\n",
       "      <td>1636897445</td>\n",
       "      <td>29952dec11c5e5a4ec3224ccefbecc7d</td>\n",
       "      <td>2004-11-20</td>\n",
       "      <td>2021-11-03</td>\n",
       "      <td>Android, 9 (SDK 28)</td>\n",
       "      <td>efe21e841cb463b182e4698abbbf0cb0</td>\n",
       "      <td>Кемеровская область – Кузбасс</td>\n",
       "      <td>17</td>\n",
       "      <td>42.0</td>\n",
       "    </tr>\n",
       "  </tbody>\n",
       "</table>\n",
       "</div>"
      ],
      "text/plain": [
       "         create_date                           user_id  user_birth  \\\n",
       "2287623   1630635009  3f25e617bfd6118a62d99345b9f3ab1a  2004-11-20   \n",
       "1127258   1636471269  72c276ee54016b7e8477b4189520671e  2004-09-18   \n",
       "2254336   1636897445  29952dec11c5e5a4ec3224ccefbecc7d  2004-11-20   \n",
       "\n",
       "        create_date.1    user_phone_details                buyer_mobile_phone  \\\n",
       "2287623    2021-11-07  Android, 11 (SDK 30)  5a5ddfd5ac45252c6009ebc05279c847   \n",
       "1127258    2021-11-09  Android, 11 (SDK 30)  34dfb494581bc85d6fedfcff6dcefcc9   \n",
       "2254336    2021-11-03   Android, 9 (SDK 28)  efe21e841cb463b182e4698abbbf0cb0   \n",
       "\n",
       "                                region  age  user_region  \n",
       "2287623              Иркутская область   17         38.0  \n",
       "1127258                            NaN   17          NaN  \n",
       "2254336  Кемеровская область – Кузбасс   17         42.0  "
      ]
     },
     "execution_count": 5,
     "metadata": {},
     "output_type": "execute_result"
    }
   ],
   "source": [
    "users.sample(3)"
   ]
  },
  {
   "cell_type": "code",
   "execution_count": 6,
   "id": "9f034006",
   "metadata": {},
   "outputs": [],
   "source": [
    "users = users.astype({\"age\": \"object\", \"user_region\": \"object\"})"
   ]
  },
  {
   "cell_type": "code",
   "execution_count": 7,
   "id": "1179d30c",
   "metadata": {},
   "outputs": [],
   "source": [
    "import json \n",
    "expl = [json.loads(line) for line in open(path + 'tickets2.json', 'r', encoding='utf-8', errors = 'ignore')]"
   ]
  },
  {
   "cell_type": "code",
   "execution_count": 8,
   "id": "4e298a5a",
   "metadata": {},
   "outputs": [],
   "source": [
    "tickets = pd.DataFrame(expl)"
   ]
  },
  {
   "cell_type": "code",
   "execution_count": 9,
   "id": "ec6db8fd",
   "metadata": {
    "scrolled": true
   },
   "outputs": [
    {
     "data": {
      "text/html": [
       "<div>\n",
       "<style scoped>\n",
       "    .dataframe tbody tr th:only-of-type {\n",
       "        vertical-align: middle;\n",
       "    }\n",
       "\n",
       "    .dataframe tbody tr th {\n",
       "        vertical-align: top;\n",
       "    }\n",
       "\n",
       "    .dataframe thead th {\n",
       "        text-align: right;\n",
       "    }\n",
       "</style>\n",
       "<table border=\"1\" class=\"dataframe\">\n",
       "  <thead>\n",
       "    <tr style=\"text-align: right;\">\n",
       "      <th></th>\n",
       "      <th>payment_date</th>\n",
       "      <th>comment</th>\n",
       "      <th>session_event_id</th>\n",
       "      <th>session_date</th>\n",
       "      <th>session_params</th>\n",
       "      <th>owner</th>\n",
       "      <th>refund_date</th>\n",
       "      <th>buyer_mobile_phone</th>\n",
       "      <th>refund_reason</th>\n",
       "      <th>payment_amount</th>\n",
       "      <th>visitor_first_name</th>\n",
       "      <th>refund_ticket_price</th>\n",
       "      <th>create_date</th>\n",
       "      <th>status</th>\n",
       "      <th>payment_ticket_price</th>\n",
       "      <th>session_organization_id</th>\n",
       "      <th>visit_date</th>\n",
       "    </tr>\n",
       "  </thead>\n",
       "  <tbody>\n",
       "    <tr>\n",
       "      <th>229107</th>\n",
       "      <td>1636478522</td>\n",
       "      <td>Погашение билета ООО ДТЗК bileter.ru</td>\n",
       "      <td>1319545</td>\n",
       "      <td>1637942400</td>\n",
       "      <td>Партер р.11 м.46</td>\n",
       "      <td>7840404467</td>\n",
       "      <td>NaN</td>\n",
       "      <td>b6afe4eddee70c8b617968532c7a1bc4</td>\n",
       "      <td>None</td>\n",
       "      <td>2100</td>\n",
       "      <td></td>\n",
       "      <td>None</td>\n",
       "      <td>1636478762107468634</td>\n",
       "      <td>visited</td>\n",
       "      <td>2100</td>\n",
       "      <td>21922</td>\n",
       "      <td>1.638172e+09</td>\n",
       "    </tr>\n",
       "    <tr>\n",
       "      <th>122661</th>\n",
       "      <td>1636635762</td>\n",
       "      <td></td>\n",
       "      <td>1243074</td>\n",
       "      <td>1638108000</td>\n",
       "      <td>«Большая сцена», Партер, 6 ряд, 9 место</td>\n",
       "      <td>7703747085</td>\n",
       "      <td>NaN</td>\n",
       "      <td>053ced106f641c95bd2f4e3ccfb35921</td>\n",
       "      <td>None</td>\n",
       "      <td>900.0</td>\n",
       "      <td></td>\n",
       "      <td>None</td>\n",
       "      <td>1636635762139527514</td>\n",
       "      <td>active</td>\n",
       "      <td>900.0</td>\n",
       "      <td>7366</td>\n",
       "      <td>NaN</td>\n",
       "    </tr>\n",
       "    <tr>\n",
       "      <th>631342</th>\n",
       "      <td>1637093836</td>\n",
       "      <td></td>\n",
       "      <td>345853</td>\n",
       "      <td>1641744000</td>\n",
       "      <td>Партер, Ряд: 6, Место: 194</td>\n",
       "      <td>7802816445</td>\n",
       "      <td>NaN</td>\n",
       "      <td>301dcec2628e2dcb3288b3f8c92a9b9e</td>\n",
       "      <td>None</td>\n",
       "      <td>2200.00</td>\n",
       "      <td></td>\n",
       "      <td>None</td>\n",
       "      <td>1637093836808034187</td>\n",
       "      <td>active</td>\n",
       "      <td>2200.00</td>\n",
       "      <td>7603</td>\n",
       "      <td>NaN</td>\n",
       "    </tr>\n",
       "  </tbody>\n",
       "</table>\n",
       "</div>"
      ],
      "text/plain": [
       "        payment_date                               comment session_event_id  \\\n",
       "229107    1636478522  Погашение билета ООО ДТЗК bileter.ru          1319545   \n",
       "122661    1636635762                                                1243074   \n",
       "631342    1637093836                                                 345853   \n",
       "\n",
       "        session_date                           session_params       owner  \\\n",
       "229107    1637942400                         Партер р.11 м.46  7840404467   \n",
       "122661    1638108000  «Большая сцена», Партер, 6 ряд, 9 место  7703747085   \n",
       "631342    1641744000               Партер, Ряд: 6, Место: 194  7802816445   \n",
       "\n",
       "        refund_date                buyer_mobile_phone refund_reason  \\\n",
       "229107          NaN  b6afe4eddee70c8b617968532c7a1bc4          None   \n",
       "122661          NaN  053ced106f641c95bd2f4e3ccfb35921          None   \n",
       "631342          NaN  301dcec2628e2dcb3288b3f8c92a9b9e          None   \n",
       "\n",
       "       payment_amount visitor_first_name refund_ticket_price  \\\n",
       "229107           2100                                   None   \n",
       "122661          900.0                                   None   \n",
       "631342        2200.00                                   None   \n",
       "\n",
       "                create_date   status payment_ticket_price  \\\n",
       "229107  1636478762107468634  visited                 2100   \n",
       "122661  1636635762139527514   active                900.0   \n",
       "631342  1637093836808034187   active              2200.00   \n",
       "\n",
       "       session_organization_id    visit_date  \n",
       "229107                   21922  1.638172e+09  \n",
       "122661                    7366           NaN  \n",
       "631342                    7603           NaN  "
      ]
     },
     "execution_count": 9,
     "metadata": {},
     "output_type": "execute_result"
    }
   ],
   "source": [
    "tickets.sample(3)"
   ]
  },
  {
   "cell_type": "code",
   "execution_count": 10,
   "id": "f21f7c77",
   "metadata": {},
   "outputs": [
    {
     "data": {
      "text/html": [
       "<div>\n",
       "<style scoped>\n",
       "    .dataframe tbody tr th:only-of-type {\n",
       "        vertical-align: middle;\n",
       "    }\n",
       "\n",
       "    .dataframe tbody tr th {\n",
       "        vertical-align: top;\n",
       "    }\n",
       "\n",
       "    .dataframe thead th {\n",
       "        text-align: right;\n",
       "    }\n",
       "</style>\n",
       "<table border=\"1\" class=\"dataframe\">\n",
       "  <thead>\n",
       "    <tr style=\"text-align: right;\">\n",
       "      <th></th>\n",
       "      <th>payment_date</th>\n",
       "      <th>comment</th>\n",
       "      <th>session_event_id</th>\n",
       "      <th>session_date</th>\n",
       "      <th>session_params</th>\n",
       "      <th>owner</th>\n",
       "      <th>refund_date</th>\n",
       "      <th>buyer_mobile_phone</th>\n",
       "      <th>refund_reason</th>\n",
       "      <th>payment_amount</th>\n",
       "      <th>visitor_first_name</th>\n",
       "      <th>refund_ticket_price</th>\n",
       "      <th>create_date</th>\n",
       "      <th>status</th>\n",
       "      <th>payment_ticket_price</th>\n",
       "      <th>session_organization_id</th>\n",
       "      <th>visit_date</th>\n",
       "    </tr>\n",
       "  </thead>\n",
       "  <tbody>\n",
       "  </tbody>\n",
       "</table>\n",
       "</div>"
      ],
      "text/plain": [
       "Empty DataFrame\n",
       "Columns: [payment_date, comment, session_event_id, session_date, session_params, owner, refund_date, buyer_mobile_phone, refund_reason, payment_amount, visitor_first_name, refund_ticket_price, create_date, status, payment_ticket_price, session_organization_id, visit_date]\n",
       "Index: []"
      ]
     },
     "execution_count": 10,
     "metadata": {},
     "output_type": "execute_result"
    }
   ],
   "source": [
    "tickets[tickets['buyer_mobile_phone'].isna()]"
   ]
  },
  {
   "cell_type": "code",
   "execution_count": 11,
   "id": "517793d9",
   "metadata": {},
   "outputs": [
    {
     "data": {
      "text/plain": [
       "11791"
      ]
     },
     "execution_count": 11,
     "metadata": {},
     "output_type": "execute_result"
    }
   ],
   "source": [
    "tickets.visitor_first_name.nunique() # можно было попробовать пол по именм, но имён у нас всего 11 тысяч из 1,2 млн."
   ]
  },
  {
   "cell_type": "markdown",
   "id": "bce44741",
   "metadata": {},
   "source": [
    "# Добавим данные пользователя в дата сет с купленными билетами"
   ]
  },
  {
   "cell_type": "code",
   "execution_count": 12,
   "id": "ada2c559",
   "metadata": {},
   "outputs": [],
   "source": [
    "tickets = pd.merge(tickets,users,on=['buyer_mobile_phone'], how='left')"
   ]
  },
  {
   "cell_type": "code",
   "execution_count": 13,
   "id": "f350c200",
   "metadata": {},
   "outputs": [
    {
     "name": "stdout",
     "output_type": "stream",
     "text": [
      "<class 'pandas.core.frame.DataFrame'>\n",
      "Int64Index: 854330 entries, 0 to 854329\n",
      "Data columns (total 25 columns):\n",
      " #   Column                   Non-Null Count   Dtype  \n",
      "---  ------                   --------------   -----  \n",
      " 0   payment_date             854330 non-null  int64  \n",
      " 1   comment                  854330 non-null  object \n",
      " 2   session_event_id         854330 non-null  object \n",
      " 3   session_date             854330 non-null  int64  \n",
      " 4   session_params           854330 non-null  object \n",
      " 5   owner                    854330 non-null  object \n",
      " 6   refund_date              25117 non-null   float64\n",
      " 7   buyer_mobile_phone       854330 non-null  object \n",
      " 8   refund_reason            25117 non-null   object \n",
      " 9   payment_amount           854330 non-null  object \n",
      " 10  visitor_first_name       854330 non-null  object \n",
      " 11  refund_ticket_price      24409 non-null   object \n",
      " 12  create_date_x            854330 non-null  int64  \n",
      " 13  status                   854330 non-null  object \n",
      " 14  payment_ticket_price     854330 non-null  object \n",
      " 15  session_organization_id  854330 non-null  object \n",
      " 16  visit_date               393850 non-null  float64\n",
      " 17  create_date_y            530576 non-null  float64\n",
      " 18  user_id                  530576 non-null  object \n",
      " 19  user_birth               530576 non-null  object \n",
      " 20  create_date.1            530576 non-null  object \n",
      " 21  user_phone_details       530576 non-null  object \n",
      " 22  region                   368752 non-null  object \n",
      " 23  age                      530576 non-null  object \n",
      " 24  user_region              368752 non-null  object \n",
      "dtypes: float64(3), int64(3), object(19)\n",
      "memory usage: 169.5+ MB\n"
     ]
    }
   ],
   "source": [
    "tickets.info()"
   ]
  },
  {
   "cell_type": "code",
   "execution_count": 18,
   "id": "4bf5e61c",
   "metadata": {},
   "outputs": [],
   "source": [
    "tickets_2 = tickets[tickets['user_id'].notna() == True]"
   ]
  },
  {
   "cell_type": "code",
   "execution_count": 19,
   "id": "7a652146",
   "metadata": {},
   "outputs": [
    {
     "name": "stdout",
     "output_type": "stream",
     "text": [
      "<class 'pandas.core.frame.DataFrame'>\n",
      "Int64Index: 530576 entries, 1 to 854329\n",
      "Data columns (total 25 columns):\n",
      " #   Column                   Non-Null Count   Dtype  \n",
      "---  ------                   --------------   -----  \n",
      " 0   payment_date             530576 non-null  int64  \n",
      " 1   comment                  530576 non-null  object \n",
      " 2   session_event_id         530576 non-null  object \n",
      " 3   session_date             530576 non-null  int64  \n",
      " 4   session_params           530576 non-null  object \n",
      " 5   owner                    530576 non-null  object \n",
      " 6   refund_date              16455 non-null   float64\n",
      " 7   buyer_mobile_phone       530576 non-null  object \n",
      " 8   refund_reason            16455 non-null   object \n",
      " 9   payment_amount           530576 non-null  object \n",
      " 10  visitor_first_name       530576 non-null  object \n",
      " 11  refund_ticket_price      16025 non-null   object \n",
      " 12  create_date_x            530576 non-null  int64  \n",
      " 13  status                   530576 non-null  object \n",
      " 14  payment_ticket_price     530576 non-null  object \n",
      " 15  session_organization_id  530576 non-null  object \n",
      " 16  visit_date               253888 non-null  float64\n",
      " 17  create_date_y            530576 non-null  float64\n",
      " 18  user_id                  530576 non-null  object \n",
      " 19  user_birth               530576 non-null  object \n",
      " 20  create_date.1            530576 non-null  object \n",
      " 21  user_phone_details       530576 non-null  object \n",
      " 22  region                   368752 non-null  object \n",
      " 23  age                      530576 non-null  object \n",
      " 24  user_region              368752 non-null  object \n",
      "dtypes: float64(3), int64(3), object(19)\n",
      "memory usage: 105.2+ MB\n"
     ]
    }
   ],
   "source": [
    "tickets_2.info()"
   ]
  },
  {
   "cell_type": "code",
   "execution_count": 36,
   "id": "45472662",
   "metadata": {},
   "outputs": [],
   "source": [
    "ticket_users = tickets_2.user_id.unique()"
   ]
  },
  {
   "cell_type": "code",
   "execution_count": 38,
   "id": "64cfa840",
   "metadata": {},
   "outputs": [
    {
     "data": {
      "text/plain": [
       "'68f0a5ca2209fedf6d574d74940e55a5'"
      ]
     },
     "execution_count": 38,
     "metadata": {},
     "output_type": "execute_result"
    }
   ],
   "source": [
    "ticket_users[1]"
   ]
  },
  {
   "cell_type": "code",
   "execution_count": 22,
   "id": "3849e833",
   "metadata": {},
   "outputs": [],
   "source": [
    "cliks_add = pd.read_csv(path + 'cliks_add.csv', sep=';', error_bad_lines=False)"
   ]
  },
  {
   "cell_type": "code",
   "execution_count": 23,
   "id": "43b62790",
   "metadata": {
    "scrolled": true
   },
   "outputs": [
    {
     "name": "stdout",
     "output_type": "stream",
     "text": [
      "<class 'pandas.core.frame.DataFrame'>\n",
      "RangeIndex: 5747389 entries, 0 to 5747388\n",
      "Data columns (total 17 columns):\n",
      " #   Column                   Dtype  \n",
      "---  ------                   -----  \n",
      " 0   create_time              object \n",
      " 1   create_date              object \n",
      " 2   user_phone_details       object \n",
      " 3   buyer_mobile_phone       object \n",
      " 4   user_id                  object \n",
      " 5   url                      object \n",
      " 6   session_id               float64\n",
      " 7   session_name             object \n",
      " 8   organization_id          float64\n",
      " 9   organization_name        object \n",
      " 10  session_identity         object \n",
      " 11  Org_region_number        float64\n",
      " 12  org_category             object \n",
      " 13  age                      float64\n",
      " 14  user_region              float64\n",
      " 15  user_phone_details_id    object \n",
      " 16  user_phone_details_id_2  int64  \n",
      "dtypes: float64(5), int64(1), object(11)\n",
      "memory usage: 745.4+ MB\n"
     ]
    }
   ],
   "source": [
    "cliks_add.info()"
   ]
  },
  {
   "cell_type": "code",
   "execution_count": 42,
   "id": "51a9bc5e",
   "metadata": {},
   "outputs": [],
   "source": [
    "cliks_and_tickets = cliks_add.copy()"
   ]
  },
  {
   "cell_type": "code",
   "execution_count": 43,
   "id": "5cf44879",
   "metadata": {
    "scrolled": true
   },
   "outputs": [
    {
     "name": "stdout",
     "output_type": "stream",
     "text": [
      "<class 'pandas.core.frame.DataFrame'>\n",
      "RangeIndex: 5747389 entries, 0 to 5747388\n",
      "Data columns (total 17 columns):\n",
      " #   Column                   Dtype  \n",
      "---  ------                   -----  \n",
      " 0   create_time              object \n",
      " 1   create_date              object \n",
      " 2   user_phone_details       object \n",
      " 3   buyer_mobile_phone       object \n",
      " 4   user_id                  object \n",
      " 5   url                      object \n",
      " 6   session_id               float64\n",
      " 7   session_name             object \n",
      " 8   organization_id          float64\n",
      " 9   organization_name        object \n",
      " 10  session_identity         object \n",
      " 11  Org_region_number        float64\n",
      " 12  org_category             object \n",
      " 13  age                      float64\n",
      " 14  user_region              float64\n",
      " 15  user_phone_details_id    object \n",
      " 16  user_phone_details_id_2  int64  \n",
      "dtypes: float64(5), int64(1), object(11)\n",
      "memory usage: 745.4+ MB\n"
     ]
    }
   ],
   "source": [
    "cliks_and_tickets.info()"
   ]
  },
  {
   "cell_type": "code",
   "execution_count": 53,
   "id": "d0c9e764",
   "metadata": {},
   "outputs": [],
   "source": [
    "cliks_and_tickets = pd.DataFrame()"
   ]
  },
  {
   "cell_type": "code",
   "execution_count": 48,
   "id": "76b97d29",
   "metadata": {},
   "outputs": [],
   "source": [
    "cliks_add_users = cliks_add.user_id.unique()"
   ]
  },
  {
   "cell_type": "code",
   "execution_count": 50,
   "id": "e993020a",
   "metadata": {},
   "outputs": [
    {
     "data": {
      "text/plain": [
       "'b2560eaa8bc23dbba5f24aa5075b89ed'"
      ]
     },
     "execution_count": 50,
     "metadata": {},
     "output_type": "execute_result"
    }
   ],
   "source": [
    "cliks_add_users[1]"
   ]
  },
  {
   "cell_type": "code",
   "execution_count": null,
   "id": "b3eeccdd",
   "metadata": {},
   "outputs": [
    {
     "data": {
      "application/vnd.jupyter.widget-view+json": {
       "model_id": "ce255e9a6c254ba5872736f8d887778a",
       "version_major": 2,
       "version_minor": 0
      },
      "text/plain": [
       "  0%|          | 0/272442 [00:00<?, ?it/s]"
      ]
     },
     "metadata": {},
     "output_type": "display_data"
    }
   ],
   "source": [
    "%%time\n",
    "for i in tqdm(cliks_add_users):\n",
    "    if i in ticket_users:\n",
    "        pd.concat([cliks_and_tickets, cliks_add[cliks_add['user_id'] == i]])"
   ]
  },
  {
   "cell_type": "code",
   "execution_count": 55,
   "id": "8bf9be2e",
   "metadata": {},
   "outputs": [
    {
     "name": "stdout",
     "output_type": "stream",
     "text": [
      "<class 'pandas.core.frame.DataFrame'>\n",
      "Index: 0 entries\n",
      "Empty DataFrame"
     ]
    }
   ],
   "source": [
    "cliks_and_tickets.info()"
   ]
  },
  {
   "cell_type": "code",
   "execution_count": null,
   "id": "87eeedfe",
   "metadata": {},
   "outputs": [],
   "source": []
  }
 ],
 "metadata": {
  "kernelspec": {
   "display_name": "Python 3 (ipykernel)",
   "language": "python",
   "name": "python3"
  },
  "language_info": {
   "codemirror_mode": {
    "name": "ipython",
    "version": 3
   },
   "file_extension": ".py",
   "mimetype": "text/x-python",
   "name": "python",
   "nbconvert_exporter": "python",
   "pygments_lexer": "ipython3",
   "version": "3.8.11"
  }
 },
 "nbformat": 4,
 "nbformat_minor": 5
}
