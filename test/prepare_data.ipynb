{
 "cells": [
  {
   "cell_type": "code",
   "execution_count": 1,
   "metadata": {
    "collapsed": true
   },
   "outputs": [],
   "source": [
    "import pandas as pd\n",
    "import preprocessing.data_management as dm"
   ]
  },
  {
   "cell_type": "code",
   "execution_count": 2,
   "outputs": [
    {
     "data": {
      "text/plain": "                                 user_id  event_id  \\\n0       00001deaca68c3e7a9943ad6d29d1a95   1205186   \n1       00001deaca68c3e7a9943ad6d29d1a95   1237397   \n2       00001deaca68c3e7a9943ad6d29d1a95   1264968   \n3       00002fa07c02629bf0dc022a6c0283d1    476106   \n4       000061466abdfa67ca963ae752fa937d    185644   \n...                                  ...       ...   \n630584  ffff5daad033e2b9b57593627d9b1a9b   1189248   \n630585  ffff5daad033e2b9b57593627d9b1a9b   1390909   \n630586  ffff5daad033e2b9b57593627d9b1a9b   1423074   \n630587  ffff63c5a29c432e2ca2fb4aa968d7ba   1292376   \n630588  ffffd698c2166fcf938a69c74cab84ed     13441   \n\n                                               event_name  clicks_count  \n0                               Концерт оркестра UralBand             2  \n1       Выставка «Антика. Западноевропейское искусство...             1  \n2       Выставка «От романтизма к импрессионизму. Фран...             1  \n3                            Выставка «Искусство ХХ века»             1  \n4                               Мюзикл «Снежная королева»             1  \n...                                                   ...           ...  \n630584                         Выставка «91 день счастья»             2  \n630585                  Музыкальная программа The Beatles             2  \n630586  Ночь искусств в Волгоградском музее изобразите...             1  \n630587                        Посещение Павловского парка             1  \n630588                           Спектакль «Дядюшкин сон»             1  \n\n[630589 rows x 4 columns]",
      "text/html": "<div>\n<style scoped>\n    .dataframe tbody tr th:only-of-type {\n        vertical-align: middle;\n    }\n\n    .dataframe tbody tr th {\n        vertical-align: top;\n    }\n\n    .dataframe thead th {\n        text-align: right;\n    }\n</style>\n<table border=\"1\" class=\"dataframe\">\n  <thead>\n    <tr style=\"text-align: right;\">\n      <th></th>\n      <th>user_id</th>\n      <th>event_id</th>\n      <th>event_name</th>\n      <th>clicks_count</th>\n    </tr>\n  </thead>\n  <tbody>\n    <tr>\n      <th>0</th>\n      <td>00001deaca68c3e7a9943ad6d29d1a95</td>\n      <td>1205186</td>\n      <td>Концерт оркестра UralBand</td>\n      <td>2</td>\n    </tr>\n    <tr>\n      <th>1</th>\n      <td>00001deaca68c3e7a9943ad6d29d1a95</td>\n      <td>1237397</td>\n      <td>Выставка «Антика. Западноевропейское искусство...</td>\n      <td>1</td>\n    </tr>\n    <tr>\n      <th>2</th>\n      <td>00001deaca68c3e7a9943ad6d29d1a95</td>\n      <td>1264968</td>\n      <td>Выставка «От романтизма к импрессионизму. Фран...</td>\n      <td>1</td>\n    </tr>\n    <tr>\n      <th>3</th>\n      <td>00002fa07c02629bf0dc022a6c0283d1</td>\n      <td>476106</td>\n      <td>Выставка «Искусство ХХ века»</td>\n      <td>1</td>\n    </tr>\n    <tr>\n      <th>4</th>\n      <td>000061466abdfa67ca963ae752fa937d</td>\n      <td>185644</td>\n      <td>Мюзикл «Снежная королева»</td>\n      <td>1</td>\n    </tr>\n    <tr>\n      <th>...</th>\n      <td>...</td>\n      <td>...</td>\n      <td>...</td>\n      <td>...</td>\n    </tr>\n    <tr>\n      <th>630584</th>\n      <td>ffff5daad033e2b9b57593627d9b1a9b</td>\n      <td>1189248</td>\n      <td>Выставка «91 день счастья»</td>\n      <td>2</td>\n    </tr>\n    <tr>\n      <th>630585</th>\n      <td>ffff5daad033e2b9b57593627d9b1a9b</td>\n      <td>1390909</td>\n      <td>Музыкальная программа The Beatles</td>\n      <td>2</td>\n    </tr>\n    <tr>\n      <th>630586</th>\n      <td>ffff5daad033e2b9b57593627d9b1a9b</td>\n      <td>1423074</td>\n      <td>Ночь искусств в Волгоградском музее изобразите...</td>\n      <td>1</td>\n    </tr>\n    <tr>\n      <th>630587</th>\n      <td>ffff63c5a29c432e2ca2fb4aa968d7ba</td>\n      <td>1292376</td>\n      <td>Посещение Павловского парка</td>\n      <td>1</td>\n    </tr>\n    <tr>\n      <th>630588</th>\n      <td>ffffd698c2166fcf938a69c74cab84ed</td>\n      <td>13441</td>\n      <td>Спектакль «Дядюшкин сон»</td>\n      <td>1</td>\n    </tr>\n  </tbody>\n</table>\n<p>630589 rows × 4 columns</p>\n</div>"
     },
     "execution_count": 2,
     "metadata": {},
     "output_type": "execute_result"
    }
   ],
   "source": [
    "user_event_df = dm.get_user_event_dataframe(\n",
    "    user_event_file_path='../dataset/cliks_add.csv'\n",
    ")\n",
    "user_event_df"
   ],
   "metadata": {
    "collapsed": false,
    "pycharm": {
     "name": "#%%\n"
    }
   }
  },
  {
   "cell_type": "code",
   "execution_count": 3,
   "outputs": [
    {
     "data": {
      "text/plain": "                                  user_id  \\\n0        9af020ef757c476c64fbdf0b71781dfe   \n1        06d589eba089ca6bcb984d32c5399cc5   \n2        2816bd3aabf33fbc25c82678571b0e81   \n3        f6fcc2dadfeb783308bd102ddcbc1412   \n4        e0b3e50d8d9f467470a8aa2b42899841   \n...                                   ...   \n2231047  6e8f4dc75245926306665942fd1173b2   \n2231048  c925794714279efbdbe2e5cba0de7b28   \n2231049  18cf6bb59c25e9c6493f89780348b622   \n2231050  ec8d3c862c1383c63f8adbca559bf86c   \n2231051  313b97882f8a38e1554543773dc92e16   \n\n                                           region  region_code   age  \n0                                 Республика Коми           11  22.0  \n1                                   Пермский край           59  22.0  \n2                              Краснодарский край           23  23.0  \n3                             Саратовская область           64  17.0  \n4                                          Москва           77  21.0  \n...                                           ...          ...   ...  \n2231047  Ханты-Мансийский автономный округ – Югра           86  14.0  \n2231048                                    Москва           77  19.0  \n2231049  Ханты-Мансийский автономный округ – Югра           86  18.0  \n2231050                        Ростовская область           61  20.0  \n2231051                      Свердловская область           66  18.0  \n\n[2184602 rows x 4 columns]",
      "text/html": "<div>\n<style scoped>\n    .dataframe tbody tr th:only-of-type {\n        vertical-align: middle;\n    }\n\n    .dataframe tbody tr th {\n        vertical-align: top;\n    }\n\n    .dataframe thead th {\n        text-align: right;\n    }\n</style>\n<table border=\"1\" class=\"dataframe\">\n  <thead>\n    <tr style=\"text-align: right;\">\n      <th></th>\n      <th>user_id</th>\n      <th>region</th>\n      <th>region_code</th>\n      <th>age</th>\n    </tr>\n  </thead>\n  <tbody>\n    <tr>\n      <th>0</th>\n      <td>9af020ef757c476c64fbdf0b71781dfe</td>\n      <td>Республика Коми</td>\n      <td>11</td>\n      <td>22.0</td>\n    </tr>\n    <tr>\n      <th>1</th>\n      <td>06d589eba089ca6bcb984d32c5399cc5</td>\n      <td>Пермский край</td>\n      <td>59</td>\n      <td>22.0</td>\n    </tr>\n    <tr>\n      <th>2</th>\n      <td>2816bd3aabf33fbc25c82678571b0e81</td>\n      <td>Краснодарский край</td>\n      <td>23</td>\n      <td>23.0</td>\n    </tr>\n    <tr>\n      <th>3</th>\n      <td>f6fcc2dadfeb783308bd102ddcbc1412</td>\n      <td>Саратовская область</td>\n      <td>64</td>\n      <td>17.0</td>\n    </tr>\n    <tr>\n      <th>4</th>\n      <td>e0b3e50d8d9f467470a8aa2b42899841</td>\n      <td>Москва</td>\n      <td>77</td>\n      <td>21.0</td>\n    </tr>\n    <tr>\n      <th>...</th>\n      <td>...</td>\n      <td>...</td>\n      <td>...</td>\n      <td>...</td>\n    </tr>\n    <tr>\n      <th>2231047</th>\n      <td>6e8f4dc75245926306665942fd1173b2</td>\n      <td>Ханты-Мансийский автономный округ – Югра</td>\n      <td>86</td>\n      <td>14.0</td>\n    </tr>\n    <tr>\n      <th>2231048</th>\n      <td>c925794714279efbdbe2e5cba0de7b28</td>\n      <td>Москва</td>\n      <td>77</td>\n      <td>19.0</td>\n    </tr>\n    <tr>\n      <th>2231049</th>\n      <td>18cf6bb59c25e9c6493f89780348b622</td>\n      <td>Ханты-Мансийский автономный округ – Югра</td>\n      <td>86</td>\n      <td>18.0</td>\n    </tr>\n    <tr>\n      <th>2231050</th>\n      <td>ec8d3c862c1383c63f8adbca559bf86c</td>\n      <td>Ростовская область</td>\n      <td>61</td>\n      <td>20.0</td>\n    </tr>\n    <tr>\n      <th>2231051</th>\n      <td>313b97882f8a38e1554543773dc92e16</td>\n      <td>Свердловская область</td>\n      <td>66</td>\n      <td>18.0</td>\n    </tr>\n  </tbody>\n</table>\n<p>2184602 rows × 4 columns</p>\n</div>"
     },
     "execution_count": 3,
     "metadata": {},
     "output_type": "execute_result"
    }
   ],
   "source": [
    "users_df = dm.get_user_dataframe(\n",
    "    users_file_path='../dataset/users_and_purchases/users.txt',\n",
    "    regions_file_path='../dataset/users_and_purchases/region.txt',\n",
    "    regions_nums_file_path='../dataset/RegionRussia.csv'\n",
    ")\n",
    "users_df"
   ],
   "metadata": {
    "collapsed": false,
    "pycharm": {
     "name": "#%%\n"
    }
   }
  },
  {
   "cell_type": "code",
   "execution_count": 4,
   "outputs": [
    {
     "data": {
      "text/plain": "       event_id                      event_name  \\\n0            36             Спектакль «Касатка»   \n1            86         Спектакль «Горе от ума»   \n2            86         Спектакль «Горе от ума»   \n3           139               Спектакль «Куклы»   \n4           150  Спектакль «Филумена Мартурано»   \n...         ...                             ...   \n47851   1518521                   Опера «Садко»   \n47852   1518585                   Опера «Фауст»   \n47853   1518645                Опера «Трубадур»   \n47854   1519214     Спектакль «Царевна-лягушка»   \n47855   1521196         Новогодний гала-концерт   \n\n                                                    link add_link  org_id  \\\n0      https://quicktickets.ru/belgorodskiy-dramatich...      NaN       6   \n1      https://quicktickets.ru/belgorodskiy-dramatich...      NaN       6   \n2      https://quicktickets.ru/belgorodskiy-dramatich...      NaN       6   \n3      https://quicktickets.ru/belgorodskiy-dramatich...      NaN       6   \n4      https://quicktickets.ru/belgorodskiy-dramatich...      NaN       6   \n...                                                  ...      ...     ...   \n47851  https://tickets.mariinsky.ru/ru/performance/VG...      NaN    5268   \n47852  https://tickets.mariinsky.ru/ru/performance/Nk...      NaN    5268   \n47853  https://tickets.mariinsky.ru/ru/performance/OW...      NaN    5268   \n47854    https://ulan-ude.kassy.ru/events/range-2021-12/      NaN   12276   \n47855  https://tickets.mariinsky.ru/prim/ru/performan...      NaN    5268   \n\n                                                org_name        region_name  \\\n0        ОГАУК «Драматический театр имени М. С. Щепкина»   Белгородская обл   \n1        ОГАУК «Драматический театр имени М. С. Щепкина»   Белгородская обл   \n2        ОГАУК «Драматический театр имени М. С. Щепкина»   Белгородская обл   \n3        ОГАУК «Драматический театр имени М. С. Щепкина»   Белгородская обл   \n4        ОГАУК «Драматический театр имени М. С. Щепкина»   Белгородская обл   \n...                                                  ...                ...   \n47851  ФГБУК «Государственный академический Мариински...  г Санкт-Петербург   \n47852  ФГБУК «Государственный академический Мариински...  г Санкт-Петербург   \n47853  ФГБУК «Государственный академический Мариински...  г Санкт-Петербург   \n47854  АУК РБ Бурятский республиканский театр кукол «...       Респ Бурятия   \n47855  ФГБУК «Государственный академический Мариински...  г Санкт-Петербург   \n\n      category  \n0       Театры  \n1       Театры  \n2       Театры  \n3       Театры  \n4       Театры  \n...        ...  \n47851   Театры  \n47852   Театры  \n47853   Театры  \n47854   Театры  \n47855   Театры  \n\n[47220 rows x 8 columns]",
      "text/html": "<div>\n<style scoped>\n    .dataframe tbody tr th:only-of-type {\n        vertical-align: middle;\n    }\n\n    .dataframe tbody tr th {\n        vertical-align: top;\n    }\n\n    .dataframe thead th {\n        text-align: right;\n    }\n</style>\n<table border=\"1\" class=\"dataframe\">\n  <thead>\n    <tr style=\"text-align: right;\">\n      <th></th>\n      <th>event_id</th>\n      <th>event_name</th>\n      <th>link</th>\n      <th>add_link</th>\n      <th>org_id</th>\n      <th>org_name</th>\n      <th>region_name</th>\n      <th>category</th>\n    </tr>\n  </thead>\n  <tbody>\n    <tr>\n      <th>0</th>\n      <td>36</td>\n      <td>Спектакль «Касатка»</td>\n      <td>https://quicktickets.ru/belgorodskiy-dramatich...</td>\n      <td>NaN</td>\n      <td>6</td>\n      <td>ОГАУК «Драматический театр имени М. С. Щепкина»</td>\n      <td>Белгородская обл</td>\n      <td>Театры</td>\n    </tr>\n    <tr>\n      <th>1</th>\n      <td>86</td>\n      <td>Спектакль «Горе от ума»</td>\n      <td>https://quicktickets.ru/belgorodskiy-dramatich...</td>\n      <td>NaN</td>\n      <td>6</td>\n      <td>ОГАУК «Драматический театр имени М. С. Щепкина»</td>\n      <td>Белгородская обл</td>\n      <td>Театры</td>\n    </tr>\n    <tr>\n      <th>2</th>\n      <td>86</td>\n      <td>Спектакль «Горе от ума»</td>\n      <td>https://quicktickets.ru/belgorodskiy-dramatich...</td>\n      <td>NaN</td>\n      <td>6</td>\n      <td>ОГАУК «Драматический театр имени М. С. Щепкина»</td>\n      <td>Белгородская обл</td>\n      <td>Театры</td>\n    </tr>\n    <tr>\n      <th>3</th>\n      <td>139</td>\n      <td>Спектакль «Куклы»</td>\n      <td>https://quicktickets.ru/belgorodskiy-dramatich...</td>\n      <td>NaN</td>\n      <td>6</td>\n      <td>ОГАУК «Драматический театр имени М. С. Щепкина»</td>\n      <td>Белгородская обл</td>\n      <td>Театры</td>\n    </tr>\n    <tr>\n      <th>4</th>\n      <td>150</td>\n      <td>Спектакль «Филумена Мартурано»</td>\n      <td>https://quicktickets.ru/belgorodskiy-dramatich...</td>\n      <td>NaN</td>\n      <td>6</td>\n      <td>ОГАУК «Драматический театр имени М. С. Щепкина»</td>\n      <td>Белгородская обл</td>\n      <td>Театры</td>\n    </tr>\n    <tr>\n      <th>...</th>\n      <td>...</td>\n      <td>...</td>\n      <td>...</td>\n      <td>...</td>\n      <td>...</td>\n      <td>...</td>\n      <td>...</td>\n      <td>...</td>\n    </tr>\n    <tr>\n      <th>47851</th>\n      <td>1518521</td>\n      <td>Опера «Садко»</td>\n      <td>https://tickets.mariinsky.ru/ru/performance/VG...</td>\n      <td>NaN</td>\n      <td>5268</td>\n      <td>ФГБУК «Государственный академический Мариински...</td>\n      <td>г Санкт-Петербург</td>\n      <td>Театры</td>\n    </tr>\n    <tr>\n      <th>47852</th>\n      <td>1518585</td>\n      <td>Опера «Фауст»</td>\n      <td>https://tickets.mariinsky.ru/ru/performance/Nk...</td>\n      <td>NaN</td>\n      <td>5268</td>\n      <td>ФГБУК «Государственный академический Мариински...</td>\n      <td>г Санкт-Петербург</td>\n      <td>Театры</td>\n    </tr>\n    <tr>\n      <th>47853</th>\n      <td>1518645</td>\n      <td>Опера «Трубадур»</td>\n      <td>https://tickets.mariinsky.ru/ru/performance/OW...</td>\n      <td>NaN</td>\n      <td>5268</td>\n      <td>ФГБУК «Государственный академический Мариински...</td>\n      <td>г Санкт-Петербург</td>\n      <td>Театры</td>\n    </tr>\n    <tr>\n      <th>47854</th>\n      <td>1519214</td>\n      <td>Спектакль «Царевна-лягушка»</td>\n      <td>https://ulan-ude.kassy.ru/events/range-2021-12/</td>\n      <td>NaN</td>\n      <td>12276</td>\n      <td>АУК РБ Бурятский республиканский театр кукол «...</td>\n      <td>Респ Бурятия</td>\n      <td>Театры</td>\n    </tr>\n    <tr>\n      <th>47855</th>\n      <td>1521196</td>\n      <td>Новогодний гала-концерт</td>\n      <td>https://tickets.mariinsky.ru/prim/ru/performan...</td>\n      <td>NaN</td>\n      <td>5268</td>\n      <td>ФГБУК «Государственный академический Мариински...</td>\n      <td>г Санкт-Петербург</td>\n      <td>Театры</td>\n    </tr>\n  </tbody>\n</table>\n<p>47220 rows × 8 columns</p>\n</div>"
     },
     "execution_count": 4,
     "metadata": {},
     "output_type": "execute_result"
    }
   ],
   "source": [
    "events_df = dm.get_events_dataframe(\n",
    "    events_file_path='../dataset/users_and_purchases/events/events_pushka_accepted_30122021.csv',\n",
    "    organizations_file_path='../dataset/users_and_purchases/events/organizations.csv'\n",
    ")\n",
    "events_df"
   ],
   "metadata": {
    "collapsed": false,
    "pycharm": {
     "name": "#%%\n"
    }
   }
  },
  {
   "cell_type": "code",
   "execution_count": 5,
   "outputs": [
    {
     "data": {
      "text/plain": "                                 user_id  event_id  \\\n37      000529544ed81eeda0a6ff16d3337ee6   1266389   \n218     0012ee8c68d1eb943df5eecc5b807ec5   1354898   \n362     0022f92c6f6bc2c15417dc0f95dbe0af   1428708   \n449     002d5d0e6e642e5896153573f83bb675   1046271   \n450     002d5d0e6e642e5896153573f83bb675   1243797   \n...                                  ...       ...   \n630561  fffe316f6d4eb737e42b9829b3b896ed   1431277   \n630562  fffe316f6d4eb737e42b9829b3b896ed   1456280   \n630563  fffe316f6d4eb737e42b9829b3b896ed   1463922   \n630565  fffe6e0a70d3361055f799ba3457e911   1243745   \n630566  fffe6e0a70d3361055f799ba3457e911   1275371   \n\n                                               event_name  clicks_count  \n37                                  Спектакль «Вызывали?»             1  \n218              Мастер-класс по коллективной каллиграфии             1  \n362                              Спектакль «Незабываемое»             1  \n449                               Балет «Лебединое озеро»             1  \n450                   Спектакль-променад «Ночной трамвай»             1  \n...                                                   ...           ...  \n630561                 Мастер-класс «Татарская тюбетейка»             1  \n630562  Экскурсия по Свияжску с посещением Музея Гражд...             1  \n630563                   Мастер-класс «Ключница из джута»             1  \n630565                            Спектакль «Мэхэббэт ФМ»             2  \n630566                            Спектакль «Мэхэббэт FM»             1  \n\n[29446 rows x 4 columns]",
      "text/html": "<div>\n<style scoped>\n    .dataframe tbody tr th:only-of-type {\n        vertical-align: middle;\n    }\n\n    .dataframe tbody tr th {\n        vertical-align: top;\n    }\n\n    .dataframe thead th {\n        text-align: right;\n    }\n</style>\n<table border=\"1\" class=\"dataframe\">\n  <thead>\n    <tr style=\"text-align: right;\">\n      <th></th>\n      <th>user_id</th>\n      <th>event_id</th>\n      <th>event_name</th>\n      <th>clicks_count</th>\n    </tr>\n  </thead>\n  <tbody>\n    <tr>\n      <th>37</th>\n      <td>000529544ed81eeda0a6ff16d3337ee6</td>\n      <td>1266389</td>\n      <td>Спектакль «Вызывали?»</td>\n      <td>1</td>\n    </tr>\n    <tr>\n      <th>218</th>\n      <td>0012ee8c68d1eb943df5eecc5b807ec5</td>\n      <td>1354898</td>\n      <td>Мастер-класс по коллективной каллиграфии</td>\n      <td>1</td>\n    </tr>\n    <tr>\n      <th>362</th>\n      <td>0022f92c6f6bc2c15417dc0f95dbe0af</td>\n      <td>1428708</td>\n      <td>Спектакль «Незабываемое»</td>\n      <td>1</td>\n    </tr>\n    <tr>\n      <th>449</th>\n      <td>002d5d0e6e642e5896153573f83bb675</td>\n      <td>1046271</td>\n      <td>Балет «Лебединое озеро»</td>\n      <td>1</td>\n    </tr>\n    <tr>\n      <th>450</th>\n      <td>002d5d0e6e642e5896153573f83bb675</td>\n      <td>1243797</td>\n      <td>Спектакль-променад «Ночной трамвай»</td>\n      <td>1</td>\n    </tr>\n    <tr>\n      <th>...</th>\n      <td>...</td>\n      <td>...</td>\n      <td>...</td>\n      <td>...</td>\n    </tr>\n    <tr>\n      <th>630561</th>\n      <td>fffe316f6d4eb737e42b9829b3b896ed</td>\n      <td>1431277</td>\n      <td>Мастер-класс «Татарская тюбетейка»</td>\n      <td>1</td>\n    </tr>\n    <tr>\n      <th>630562</th>\n      <td>fffe316f6d4eb737e42b9829b3b896ed</td>\n      <td>1456280</td>\n      <td>Экскурсия по Свияжску с посещением Музея Гражд...</td>\n      <td>1</td>\n    </tr>\n    <tr>\n      <th>630563</th>\n      <td>fffe316f6d4eb737e42b9829b3b896ed</td>\n      <td>1463922</td>\n      <td>Мастер-класс «Ключница из джута»</td>\n      <td>1</td>\n    </tr>\n    <tr>\n      <th>630565</th>\n      <td>fffe6e0a70d3361055f799ba3457e911</td>\n      <td>1243745</td>\n      <td>Спектакль «Мэхэббэт ФМ»</td>\n      <td>2</td>\n    </tr>\n    <tr>\n      <th>630566</th>\n      <td>fffe6e0a70d3361055f799ba3457e911</td>\n      <td>1275371</td>\n      <td>Спектакль «Мэхэббэт FM»</td>\n      <td>1</td>\n    </tr>\n  </tbody>\n</table>\n<p>29446 rows × 4 columns</p>\n</div>"
     },
     "execution_count": 5,
     "metadata": {},
     "output_type": "execute_result"
    }
   ],
   "source": [
    "tatarstan_df = (\n",
    "    user_event_df.\n",
    "    pipe(dm.filter_user_event_by_user_region, users_df, 16).\n",
    "    pipe(dm.filter_user_event_by_event_region, events_df, 'Респ Татарстан')\n",
    ")\n",
    "tatarstan_df.to_csv('tatarstan_user_event_df.csv')\n",
    "tatarstan_df"
   ],
   "metadata": {
    "collapsed": false,
    "pycharm": {
     "name": "#%%\n"
    }
   }
  },
  {
   "cell_type": "code",
   "execution_count": 6,
   "outputs": [
    {
     "data": {
      "text/plain": "                                 user_id  event_id  \\\n94      000b1ca3e2eefa7c8b24ed417548b301    855200   \n161     000d99f08793606692008c9d805bd357   1439439   \n203     00127dd4421eddeb5f206ae28f3b540c   1245777   \n372     002445526f1c2e1f660cad308434c9e6   1260968   \n382     002493182f55b3337eda7e5186aba306   1294104   \n...                                  ...       ...   \n630408  ffef12590dcade483c5843400ffbfdf1   1266191   \n630478  fff5187ee2cc6677d5a559f6951eb5b6   1450579   \n630484  fff5a247a711d1589fa1c3282d2689a9   1359097   \n630538  fffb3cc939336c91c2989420836ae3d7   1255556   \n630539  fffb3cc939336c91c2989420836ae3d7   1353228   \n\n                                               event_name  clicks_count  \n94                                  Спектакль «Щелкунчик»             2  \n161      Выставка «От камня до искусственного интеллекта»             1  \n203                                         Балет «Анюта»             2  \n372     Экскурсия «Башкортостан в годы Великой Отечест...             3  \n382                           Спектакль «Луна и листопад»             1  \n...                                                   ...           ...  \n630408  Выставки проекта «Современное изобразительное ...             1  \n630478                   Спектакль «Снежная корискуолева»             1  \n630484                      Мастер-класс «Северные амуры»             8  \n630538                   Спектакль «Палата бизнес-класса»             1  \n630539                            Спектакль «Старший сын»             1  \n\n[11960 rows x 4 columns]",
      "text/html": "<div>\n<style scoped>\n    .dataframe tbody tr th:only-of-type {\n        vertical-align: middle;\n    }\n\n    .dataframe tbody tr th {\n        vertical-align: top;\n    }\n\n    .dataframe thead th {\n        text-align: right;\n    }\n</style>\n<table border=\"1\" class=\"dataframe\">\n  <thead>\n    <tr style=\"text-align: right;\">\n      <th></th>\n      <th>user_id</th>\n      <th>event_id</th>\n      <th>event_name</th>\n      <th>clicks_count</th>\n    </tr>\n  </thead>\n  <tbody>\n    <tr>\n      <th>94</th>\n      <td>000b1ca3e2eefa7c8b24ed417548b301</td>\n      <td>855200</td>\n      <td>Спектакль «Щелкунчик»</td>\n      <td>2</td>\n    </tr>\n    <tr>\n      <th>161</th>\n      <td>000d99f08793606692008c9d805bd357</td>\n      <td>1439439</td>\n      <td>Выставка «От камня до искусственного интеллекта»</td>\n      <td>1</td>\n    </tr>\n    <tr>\n      <th>203</th>\n      <td>00127dd4421eddeb5f206ae28f3b540c</td>\n      <td>1245777</td>\n      <td>Балет «Анюта»</td>\n      <td>2</td>\n    </tr>\n    <tr>\n      <th>372</th>\n      <td>002445526f1c2e1f660cad308434c9e6</td>\n      <td>1260968</td>\n      <td>Экскурсия «Башкортостан в годы Великой Отечест...</td>\n      <td>3</td>\n    </tr>\n    <tr>\n      <th>382</th>\n      <td>002493182f55b3337eda7e5186aba306</td>\n      <td>1294104</td>\n      <td>Спектакль «Луна и листопад»</td>\n      <td>1</td>\n    </tr>\n    <tr>\n      <th>...</th>\n      <td>...</td>\n      <td>...</td>\n      <td>...</td>\n      <td>...</td>\n    </tr>\n    <tr>\n      <th>630408</th>\n      <td>ffef12590dcade483c5843400ffbfdf1</td>\n      <td>1266191</td>\n      <td>Выставки проекта «Современное изобразительное ...</td>\n      <td>1</td>\n    </tr>\n    <tr>\n      <th>630478</th>\n      <td>fff5187ee2cc6677d5a559f6951eb5b6</td>\n      <td>1450579</td>\n      <td>Спектакль «Снежная корискуолева»</td>\n      <td>1</td>\n    </tr>\n    <tr>\n      <th>630484</th>\n      <td>fff5a247a711d1589fa1c3282d2689a9</td>\n      <td>1359097</td>\n      <td>Мастер-класс «Северные амуры»</td>\n      <td>8</td>\n    </tr>\n    <tr>\n      <th>630538</th>\n      <td>fffb3cc939336c91c2989420836ae3d7</td>\n      <td>1255556</td>\n      <td>Спектакль «Палата бизнес-класса»</td>\n      <td>1</td>\n    </tr>\n    <tr>\n      <th>630539</th>\n      <td>fffb3cc939336c91c2989420836ae3d7</td>\n      <td>1353228</td>\n      <td>Спектакль «Старший сын»</td>\n      <td>1</td>\n    </tr>\n  </tbody>\n</table>\n<p>11960 rows × 4 columns</p>\n</div>"
     },
     "execution_count": 6,
     "metadata": {},
     "output_type": "execute_result"
    }
   ],
   "source": [
    "bashkortostan_df = (\n",
    "    user_event_df.\n",
    "    pipe(dm.filter_user_event_by_user_region, users_df, 2).\n",
    "    pipe(dm.filter_user_event_by_event_region, events_df, 'Респ Башкортостан')\n",
    ")\n",
    "bashkortostan_df.to_csv('bashkortostan_user_event_df.csv')\n",
    "bashkortostan_df"
   ],
   "metadata": {
    "collapsed": false,
    "pycharm": {
     "name": "#%%\n"
    }
   }
  },
  {
   "cell_type": "code",
   "execution_count": 7,
   "outputs": [
    {
     "data": {
      "text/plain": "                                 user_id  event_id  \\\n80      0009acaba2a155b50db6fb9a84730d55   1166761   \n175     000f227572f08762262ef5e8ea853150   1349144   \n200     001273ee6fb0b3c0ced5b49b6f395d4c   1354824   \n201     001273ee6fb0b3c0ced5b49b6f395d4c   1421259   \n202     001273ee6fb0b3c0ced5b49b6f395d4c   1448546   \n...                                  ...       ...   \n630492  fff61d8efe3d3e4239f9cfe1ce84f7a5     10758   \n630493  fff61d8efe3d3e4239f9cfe1ce84f7a5    372659   \n630494  fff61d8efe3d3e4239f9cfe1ce84f7a5   1248281   \n630495  fff61d8efe3d3e4239f9cfe1ce84f7a5   1354824   \n630496  fff61d8efe3d3e4239f9cfe1ce84f7a5   1413221   \n\n                                     event_name  clicks_count  \n80                     Спектакль «Дачный роман»             1  \n175               Спектакль «Граф Монте-Кристо»             1  \n200                     Балет «Лебединое озеро»             1  \n201                   Спектакль «Анна Каренина»             1  \n202                  Спектакль «Конек-горбунок»             1  \n...                                         ...           ...  \n630492   Спектакль «Что случилось с крокодилом»             1  \n630493         Спектакль «Портрет Дориана Грея»             1  \n630494                   Спектакль «Белые ночи»             1  \n630495                  Балет «Лебединое озеро»             1  \n630496  Спектакль «С любимыми не расставайтесь»             1  \n\n[11314 rows x 4 columns]",
      "text/html": "<div>\n<style scoped>\n    .dataframe tbody tr th:only-of-type {\n        vertical-align: middle;\n    }\n\n    .dataframe tbody tr th {\n        vertical-align: top;\n    }\n\n    .dataframe thead th {\n        text-align: right;\n    }\n</style>\n<table border=\"1\" class=\"dataframe\">\n  <thead>\n    <tr style=\"text-align: right;\">\n      <th></th>\n      <th>user_id</th>\n      <th>event_id</th>\n      <th>event_name</th>\n      <th>clicks_count</th>\n    </tr>\n  </thead>\n  <tbody>\n    <tr>\n      <th>80</th>\n      <td>0009acaba2a155b50db6fb9a84730d55</td>\n      <td>1166761</td>\n      <td>Спектакль «Дачный роман»</td>\n      <td>1</td>\n    </tr>\n    <tr>\n      <th>175</th>\n      <td>000f227572f08762262ef5e8ea853150</td>\n      <td>1349144</td>\n      <td>Спектакль «Граф Монте-Кристо»</td>\n      <td>1</td>\n    </tr>\n    <tr>\n      <th>200</th>\n      <td>001273ee6fb0b3c0ced5b49b6f395d4c</td>\n      <td>1354824</td>\n      <td>Балет «Лебединое озеро»</td>\n      <td>1</td>\n    </tr>\n    <tr>\n      <th>201</th>\n      <td>001273ee6fb0b3c0ced5b49b6f395d4c</td>\n      <td>1421259</td>\n      <td>Спектакль «Анна Каренина»</td>\n      <td>1</td>\n    </tr>\n    <tr>\n      <th>202</th>\n      <td>001273ee6fb0b3c0ced5b49b6f395d4c</td>\n      <td>1448546</td>\n      <td>Спектакль «Конек-горбунок»</td>\n      <td>1</td>\n    </tr>\n    <tr>\n      <th>...</th>\n      <td>...</td>\n      <td>...</td>\n      <td>...</td>\n      <td>...</td>\n    </tr>\n    <tr>\n      <th>630492</th>\n      <td>fff61d8efe3d3e4239f9cfe1ce84f7a5</td>\n      <td>10758</td>\n      <td>Спектакль «Что случилось с крокодилом»</td>\n      <td>1</td>\n    </tr>\n    <tr>\n      <th>630493</th>\n      <td>fff61d8efe3d3e4239f9cfe1ce84f7a5</td>\n      <td>372659</td>\n      <td>Спектакль «Портрет Дориана Грея»</td>\n      <td>1</td>\n    </tr>\n    <tr>\n      <th>630494</th>\n      <td>fff61d8efe3d3e4239f9cfe1ce84f7a5</td>\n      <td>1248281</td>\n      <td>Спектакль «Белые ночи»</td>\n      <td>1</td>\n    </tr>\n    <tr>\n      <th>630495</th>\n      <td>fff61d8efe3d3e4239f9cfe1ce84f7a5</td>\n      <td>1354824</td>\n      <td>Балет «Лебединое озеро»</td>\n      <td>1</td>\n    </tr>\n    <tr>\n      <th>630496</th>\n      <td>fff61d8efe3d3e4239f9cfe1ce84f7a5</td>\n      <td>1413221</td>\n      <td>Спектакль «С любимыми не расставайтесь»</td>\n      <td>1</td>\n    </tr>\n  </tbody>\n</table>\n<p>11314 rows × 4 columns</p>\n</div>"
     },
     "execution_count": 7,
     "metadata": {},
     "output_type": "execute_result"
    }
   ],
   "source": [
    "kemerov_df = (\n",
    "    user_event_df.\n",
    "    pipe(dm.filter_user_event_by_user_region, users_df, 42).\n",
    "    pipe(dm.filter_user_event_by_event_region, events_df, 'Кемеровская обл')\n",
    ")\n",
    "kemerov_df.to_csv('kemerov_user_event_df.csv')\n",
    "kemerov_df\n"
   ],
   "metadata": {
    "collapsed": false,
    "pycharm": {
     "name": "#%%\n"
    }
   }
  },
  {
   "cell_type": "code",
   "execution_count": 10,
   "outputs": [
    {
     "data": {
      "text/plain": "                                 user_id  event_id  \\\n8       00016cc5bb8787d7bfc0b91352510e9a   1382754   \n171     000f12677bec59409b882081cc320321   1055948   \n206     0012e8e20185286b022daedc45551a8e     62204   \n207     0012e8e20185286b022daedc45551a8e    918447   \n208     0012e8e20185286b022daedc45551a8e    918467   \n...                                  ...       ...   \n630208  ffdd4cc929a622e9cb37f7323a201e87   1241918   \n630417  fff040bf4d165f21533453267a13ff9d   1377437   \n630418  fff040bf4d165f21533453267a13ff9d   1400615   \n630509  fff8c7b30db0cf2c5bc2f54623f796ae   1295584   \n630534  fffae3821ab9cbb0c43c990a7b7c0b47   1248070   \n\n                                             event_name  clicks_count  \n8                            Опера «Пиковая дама. Игра»             1  \n171                        Спектакль «Sociopath/Гамлет»             1  \n206                             Спектакль «Чудные люди»             4  \n207                             Спектакль «Дети солнца»             2  \n208                                    Спектакль «Дело»             1  \n...                                                 ...           ...  \n630208                                  Балет «Золушка»             2  \n630417               Концерт «Петербург Андрея Петрова»             1  \n630418                      Концерт Александра Малинина             2  \n630509        Выставка «Русское искусство XVI–XX веков»             1  \n630534  III Международная триеннале современной графики             1  \n\n[14380 rows x 4 columns]",
      "text/html": "<div>\n<style scoped>\n    .dataframe tbody tr th:only-of-type {\n        vertical-align: middle;\n    }\n\n    .dataframe tbody tr th {\n        vertical-align: top;\n    }\n\n    .dataframe thead th {\n        text-align: right;\n    }\n</style>\n<table border=\"1\" class=\"dataframe\">\n  <thead>\n    <tr style=\"text-align: right;\">\n      <th></th>\n      <th>user_id</th>\n      <th>event_id</th>\n      <th>event_name</th>\n      <th>clicks_count</th>\n    </tr>\n  </thead>\n  <tbody>\n    <tr>\n      <th>8</th>\n      <td>00016cc5bb8787d7bfc0b91352510e9a</td>\n      <td>1382754</td>\n      <td>Опера «Пиковая дама. Игра»</td>\n      <td>1</td>\n    </tr>\n    <tr>\n      <th>171</th>\n      <td>000f12677bec59409b882081cc320321</td>\n      <td>1055948</td>\n      <td>Спектакль «Sociopath/Гамлет»</td>\n      <td>1</td>\n    </tr>\n    <tr>\n      <th>206</th>\n      <td>0012e8e20185286b022daedc45551a8e</td>\n      <td>62204</td>\n      <td>Спектакль «Чудные люди»</td>\n      <td>4</td>\n    </tr>\n    <tr>\n      <th>207</th>\n      <td>0012e8e20185286b022daedc45551a8e</td>\n      <td>918447</td>\n      <td>Спектакль «Дети солнца»</td>\n      <td>2</td>\n    </tr>\n    <tr>\n      <th>208</th>\n      <td>0012e8e20185286b022daedc45551a8e</td>\n      <td>918467</td>\n      <td>Спектакль «Дело»</td>\n      <td>1</td>\n    </tr>\n    <tr>\n      <th>...</th>\n      <td>...</td>\n      <td>...</td>\n      <td>...</td>\n      <td>...</td>\n    </tr>\n    <tr>\n      <th>630208</th>\n      <td>ffdd4cc929a622e9cb37f7323a201e87</td>\n      <td>1241918</td>\n      <td>Балет «Золушка»</td>\n      <td>2</td>\n    </tr>\n    <tr>\n      <th>630417</th>\n      <td>fff040bf4d165f21533453267a13ff9d</td>\n      <td>1377437</td>\n      <td>Концерт «Петербург Андрея Петрова»</td>\n      <td>1</td>\n    </tr>\n    <tr>\n      <th>630418</th>\n      <td>fff040bf4d165f21533453267a13ff9d</td>\n      <td>1400615</td>\n      <td>Концерт Александра Малинина</td>\n      <td>2</td>\n    </tr>\n    <tr>\n      <th>630509</th>\n      <td>fff8c7b30db0cf2c5bc2f54623f796ae</td>\n      <td>1295584</td>\n      <td>Выставка «Русское искусство XVI–XX веков»</td>\n      <td>1</td>\n    </tr>\n    <tr>\n      <th>630534</th>\n      <td>fffae3821ab9cbb0c43c990a7b7c0b47</td>\n      <td>1248070</td>\n      <td>III Международная триеннале современной графики</td>\n      <td>1</td>\n    </tr>\n  </tbody>\n</table>\n<p>14380 rows × 4 columns</p>\n</div>"
     },
     "execution_count": 10,
     "metadata": {},
     "output_type": "execute_result"
    }
   ],
   "source": [
    "novosib_df = (\n",
    "    user_event_df.\n",
    "    pipe(dm.filter_user_event_by_user_region, users_df, 54).\n",
    "    pipe(dm.filter_user_event_by_event_region, events_df, 'Новосибирская обл')\n",
    ")\n",
    "novosib_df.to_csv('novosib_user_event_df.csv')\n",
    "novosib_df"
   ],
   "metadata": {
    "collapsed": false,
    "pycharm": {
     "name": "#%%\n"
    }
   }
  },
  {
   "cell_type": "code",
   "execution_count": 11,
   "outputs": [
    {
     "data": {
      "text/plain": "                                 user_id  event_id  \\\n64      0008dfce207211fb6d2b354ef80d618b   1364219   \n112     000cc2c48495797cec5a813d605c41a9   1245922   \n164     000e3a01cc889ec557b8bb841248fb31   1361240   \n265     001705b6bb5fb89bb0b280a424e504b3   1364219   \n295     001aba65ff14c40ee48588b85e215735   1321173   \n...                                  ...       ...   \n630452  fff32340c2c0b65535047ecdcaedc4c1   1391163   \n630453  fff32340c2c0b65535047ecdcaedc4c1   1403008   \n630584  ffff5daad033e2b9b57593627d9b1a9b   1189248   \n630585  ffff5daad033e2b9b57593627d9b1a9b   1390909   \n630586  ffff5daad033e2b9b57593627d9b1a9b   1423074   \n\n                                               event_name  clicks_count  \n64                           Экскурсия по Музею Эйнштейна             1  \n112     Экскурсия по панораме «Разгром немецко-фашистс...             4  \n164                            Спектакль «Евгений Онегин»             1  \n265                          Экскурсия по Музею Эйнштейна             1  \n295                            Спектакль «Комедия ошибок»             2  \n...                                                   ...           ...  \n630452                                 Спектакль «Мамуля»             1  \n630453        Драматический стендап «Мода на искренность»             4  \n630584                         Выставка «91 день счастья»             2  \n630585                  Музыкальная программа The Beatles             2  \n630586  Ночь искусств в Волгоградском музее изобразите...             1  \n\n[14416 rows x 4 columns]",
      "text/html": "<div>\n<style scoped>\n    .dataframe tbody tr th:only-of-type {\n        vertical-align: middle;\n    }\n\n    .dataframe tbody tr th {\n        vertical-align: top;\n    }\n\n    .dataframe thead th {\n        text-align: right;\n    }\n</style>\n<table border=\"1\" class=\"dataframe\">\n  <thead>\n    <tr style=\"text-align: right;\">\n      <th></th>\n      <th>user_id</th>\n      <th>event_id</th>\n      <th>event_name</th>\n      <th>clicks_count</th>\n    </tr>\n  </thead>\n  <tbody>\n    <tr>\n      <th>64</th>\n      <td>0008dfce207211fb6d2b354ef80d618b</td>\n      <td>1364219</td>\n      <td>Экскурсия по Музею Эйнштейна</td>\n      <td>1</td>\n    </tr>\n    <tr>\n      <th>112</th>\n      <td>000cc2c48495797cec5a813d605c41a9</td>\n      <td>1245922</td>\n      <td>Экскурсия по панораме «Разгром немецко-фашистс...</td>\n      <td>4</td>\n    </tr>\n    <tr>\n      <th>164</th>\n      <td>000e3a01cc889ec557b8bb841248fb31</td>\n      <td>1361240</td>\n      <td>Спектакль «Евгений Онегин»</td>\n      <td>1</td>\n    </tr>\n    <tr>\n      <th>265</th>\n      <td>001705b6bb5fb89bb0b280a424e504b3</td>\n      <td>1364219</td>\n      <td>Экскурсия по Музею Эйнштейна</td>\n      <td>1</td>\n    </tr>\n    <tr>\n      <th>295</th>\n      <td>001aba65ff14c40ee48588b85e215735</td>\n      <td>1321173</td>\n      <td>Спектакль «Комедия ошибок»</td>\n      <td>2</td>\n    </tr>\n    <tr>\n      <th>...</th>\n      <td>...</td>\n      <td>...</td>\n      <td>...</td>\n      <td>...</td>\n    </tr>\n    <tr>\n      <th>630452</th>\n      <td>fff32340c2c0b65535047ecdcaedc4c1</td>\n      <td>1391163</td>\n      <td>Спектакль «Мамуля»</td>\n      <td>1</td>\n    </tr>\n    <tr>\n      <th>630453</th>\n      <td>fff32340c2c0b65535047ecdcaedc4c1</td>\n      <td>1403008</td>\n      <td>Драматический стендап «Мода на искренность»</td>\n      <td>4</td>\n    </tr>\n    <tr>\n      <th>630584</th>\n      <td>ffff5daad033e2b9b57593627d9b1a9b</td>\n      <td>1189248</td>\n      <td>Выставка «91 день счастья»</td>\n      <td>2</td>\n    </tr>\n    <tr>\n      <th>630585</th>\n      <td>ffff5daad033e2b9b57593627d9b1a9b</td>\n      <td>1390909</td>\n      <td>Музыкальная программа The Beatles</td>\n      <td>2</td>\n    </tr>\n    <tr>\n      <th>630586</th>\n      <td>ffff5daad033e2b9b57593627d9b1a9b</td>\n      <td>1423074</td>\n      <td>Ночь искусств в Волгоградском музее изобразите...</td>\n      <td>1</td>\n    </tr>\n  </tbody>\n</table>\n<p>14416 rows × 4 columns</p>\n</div>"
     },
     "execution_count": 11,
     "metadata": {},
     "output_type": "execute_result"
    }
   ],
   "source": [
    "volgograd_df =  (\n",
    "    user_event_df.\n",
    "    pipe(dm.filter_user_event_by_user_region, users_df, 34).\n",
    "    pipe(dm.filter_user_event_by_event_region, events_df, 'Волгоградская обл')\n",
    ")\n",
    "volgograd_df.to_csv('volgograd_user_event_df.csv')\n",
    "volgograd_df"
   ],
   "metadata": {
    "collapsed": false,
    "pycharm": {
     "name": "#%%\n"
    }
   }
  }
 ],
 "metadata": {
  "kernelspec": {
   "display_name": "Python 3",
   "language": "python",
   "name": "python3"
  },
  "language_info": {
   "codemirror_mode": {
    "name": "ipython",
    "version": 2
   },
   "file_extension": ".py",
   "mimetype": "text/x-python",
   "name": "python",
   "nbconvert_exporter": "python",
   "pygments_lexer": "ipython2",
   "version": "2.7.6"
  }
 },
 "nbformat": 4,
 "nbformat_minor": 0
}