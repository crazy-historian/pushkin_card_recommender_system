{
 "cells": [
  {
   "cell_type": "code",
   "execution_count": 1,
   "metadata": {
    "collapsed": true
   },
   "outputs": [],
   "source": [
    "import pandas as pd\n",
    "import preprocessing.data_management as dm"
   ]
  },
  {
   "cell_type": "markdown",
   "source": [
    "# Пример использования"
   ],
   "metadata": {
    "collapsed": false
   }
  },
  {
   "cell_type": "code",
   "execution_count": 2,
   "outputs": [
    {
     "data": {
      "text/plain": "                                user_id  event_id  \\\n0      0001ad0041738ac671fe52a5f887742e    919008   \n1      0001ad0041738ac671fe52a5f887742e   1249161   \n2      0001ad0041738ac671fe52a5f887742e   1271526   \n3      0001ad0041738ac671fe52a5f887742e   1362230   \n4      0001ad0041738ac671fe52a5f887742e   1420786   \n...                                 ...       ...   \n35552  ffe13ffdd93b045e3b06ee834c585d26   1300654   \n35553  ffe4a90226a335c9ed184bc19163490b   1240774   \n35554  ffe4a90226a335c9ed184bc19163490b   1300354   \n35555  ffe4a90226a335c9ed184bc19163490b   1300678   \n35556  fff57c97533412e45cad515b6a0cc0f4   1282657   \n\n                                              event_name  clicks_count  \\\n0      Экспозиция «Древнерусская иконопись XIII–XVI в...             1   \n1                   Экспозиция музея Владимира Высоцкого             1   \n2                       Экспозиции Мультимедиа Арт Музея             1   \n3                       Выставка «За все тебя благодарю»             1   \n4                         Вечер музыки П. И. Чайковского             1   \n...                                                  ...           ...   \n35552         Спектакль «Дневник Анны Франк. Белая роза»             1   \n35553                          Спектакль «Анна Каренина»             1   \n35554                          Спектакль «Люди как люди»             1   \n35555                         Спектакль «Мнимый больной»             1   \n35556                             Выставка ко Дню знаний             1   \n\n       user_num  \n0             0  \n1             0  \n2             0  \n3             0  \n4             0  \n...         ...  \n35552     13655  \n35553     13656  \n35554     13656  \n35555     13656  \n35556     13657  \n\n[35557 rows x 5 columns]",
      "text/html": "<div>\n<style scoped>\n    .dataframe tbody tr th:only-of-type {\n        vertical-align: middle;\n    }\n\n    .dataframe tbody tr th {\n        vertical-align: top;\n    }\n\n    .dataframe thead th {\n        text-align: right;\n    }\n</style>\n<table border=\"1\" class=\"dataframe\">\n  <thead>\n    <tr style=\"text-align: right;\">\n      <th></th>\n      <th>user_id</th>\n      <th>event_id</th>\n      <th>event_name</th>\n      <th>clicks_count</th>\n      <th>user_num</th>\n    </tr>\n  </thead>\n  <tbody>\n    <tr>\n      <th>0</th>\n      <td>0001ad0041738ac671fe52a5f887742e</td>\n      <td>919008</td>\n      <td>Экспозиция «Древнерусская иконопись XIII–XVI в...</td>\n      <td>1</td>\n      <td>0</td>\n    </tr>\n    <tr>\n      <th>1</th>\n      <td>0001ad0041738ac671fe52a5f887742e</td>\n      <td>1249161</td>\n      <td>Экспозиция музея Владимира Высоцкого</td>\n      <td>1</td>\n      <td>0</td>\n    </tr>\n    <tr>\n      <th>2</th>\n      <td>0001ad0041738ac671fe52a5f887742e</td>\n      <td>1271526</td>\n      <td>Экспозиции Мультимедиа Арт Музея</td>\n      <td>1</td>\n      <td>0</td>\n    </tr>\n    <tr>\n      <th>3</th>\n      <td>0001ad0041738ac671fe52a5f887742e</td>\n      <td>1362230</td>\n      <td>Выставка «За все тебя благодарю»</td>\n      <td>1</td>\n      <td>0</td>\n    </tr>\n    <tr>\n      <th>4</th>\n      <td>0001ad0041738ac671fe52a5f887742e</td>\n      <td>1420786</td>\n      <td>Вечер музыки П. И. Чайковского</td>\n      <td>1</td>\n      <td>0</td>\n    </tr>\n    <tr>\n      <th>...</th>\n      <td>...</td>\n      <td>...</td>\n      <td>...</td>\n      <td>...</td>\n      <td>...</td>\n    </tr>\n    <tr>\n      <th>35552</th>\n      <td>ffe13ffdd93b045e3b06ee834c585d26</td>\n      <td>1300654</td>\n      <td>Спектакль «Дневник Анны Франк. Белая роза»</td>\n      <td>1</td>\n      <td>13655</td>\n    </tr>\n    <tr>\n      <th>35553</th>\n      <td>ffe4a90226a335c9ed184bc19163490b</td>\n      <td>1240774</td>\n      <td>Спектакль «Анна Каренина»</td>\n      <td>1</td>\n      <td>13656</td>\n    </tr>\n    <tr>\n      <th>35554</th>\n      <td>ffe4a90226a335c9ed184bc19163490b</td>\n      <td>1300354</td>\n      <td>Спектакль «Люди как люди»</td>\n      <td>1</td>\n      <td>13656</td>\n    </tr>\n    <tr>\n      <th>35555</th>\n      <td>ffe4a90226a335c9ed184bc19163490b</td>\n      <td>1300678</td>\n      <td>Спектакль «Мнимый больной»</td>\n      <td>1</td>\n      <td>13656</td>\n    </tr>\n    <tr>\n      <th>35556</th>\n      <td>fff57c97533412e45cad515b6a0cc0f4</td>\n      <td>1282657</td>\n      <td>Выставка ко Дню знаний</td>\n      <td>1</td>\n      <td>13657</td>\n    </tr>\n  </tbody>\n</table>\n<p>35557 rows × 5 columns</p>\n</div>"
     },
     "execution_count": 2,
     "metadata": {},
     "output_type": "execute_result"
    }
   ],
   "source": [
    "user_event = pd.read_csv('moscow_event_test.csv')\n",
    "user_event.drop(columns='Unnamed: 0', inplace=True)\n",
    "user_event"
   ],
   "metadata": {
    "collapsed": false,
    "pycharm": {
     "name": "#%%\n"
    }
   }
  },
  {
   "cell_type": "code",
   "execution_count": 4,
   "outputs": [
    {
     "ename": "KeyError",
     "evalue": "'event_id'",
     "output_type": "error",
     "traceback": [
      "\u001B[1;31m---------------------------------------------------------------------------\u001B[0m",
      "\u001B[1;31mKeyError\u001B[0m                                  Traceback (most recent call last)",
      "File \u001B[1;32me:\\pushkin_card_recommender_system\\venv\\lib\\site-packages\\pandas\\core\\indexes\\base.py:3361\u001B[0m, in \u001B[0;36mIndex.get_loc\u001B[1;34m(self, key, method, tolerance)\u001B[0m\n\u001B[0;32m   3360\u001B[0m \u001B[38;5;28;01mtry\u001B[39;00m:\n\u001B[1;32m-> 3361\u001B[0m     \u001B[38;5;28;01mreturn\u001B[39;00m \u001B[38;5;28;43mself\u001B[39;49m\u001B[38;5;241;43m.\u001B[39;49m\u001B[43m_engine\u001B[49m\u001B[38;5;241;43m.\u001B[39;49m\u001B[43mget_loc\u001B[49m\u001B[43m(\u001B[49m\u001B[43mcasted_key\u001B[49m\u001B[43m)\u001B[49m\n\u001B[0;32m   3362\u001B[0m \u001B[38;5;28;01mexcept\u001B[39;00m \u001B[38;5;167;01mKeyError\u001B[39;00m \u001B[38;5;28;01mas\u001B[39;00m err:\n",
      "File \u001B[1;32me:\\pushkin_card_recommender_system\\venv\\lib\\site-packages\\pandas\\_libs\\index.pyx:76\u001B[0m, in \u001B[0;36mpandas._libs.index.IndexEngine.get_loc\u001B[1;34m()\u001B[0m\n",
      "File \u001B[1;32me:\\pushkin_card_recommender_system\\venv\\lib\\site-packages\\pandas\\_libs\\index.pyx:108\u001B[0m, in \u001B[0;36mpandas._libs.index.IndexEngine.get_loc\u001B[1;34m()\u001B[0m\n",
      "File \u001B[1;32mpandas\\_libs\\hashtable_class_helper.pxi:5198\u001B[0m, in \u001B[0;36mpandas._libs.hashtable.PyObjectHashTable.get_item\u001B[1;34m()\u001B[0m\n",
      "File \u001B[1;32mpandas\\_libs\\hashtable_class_helper.pxi:5206\u001B[0m, in \u001B[0;36mpandas._libs.hashtable.PyObjectHashTable.get_item\u001B[1;34m()\u001B[0m\n",
      "\u001B[1;31mKeyError\u001B[0m: 'event_id'",
      "\nThe above exception was the direct cause of the following exception:\n",
      "\u001B[1;31mKeyError\u001B[0m                                  Traceback (most recent call last)",
      "Input \u001B[1;32mIn [4]\u001B[0m, in \u001B[0;36m<module>\u001B[1;34m\u001B[0m\n\u001B[1;32m----> 1\u001B[0m user_event \u001B[38;5;241m=\u001B[39m \u001B[43mdm\u001B[49m\u001B[38;5;241;43m.\u001B[39;49m\u001B[43mnumerate_user_event_df\u001B[49m\u001B[43m(\u001B[49m\u001B[43muser_event\u001B[49m\u001B[43m)\u001B[49m\n\u001B[0;32m      2\u001B[0m extra_event_ids \u001B[38;5;241m=\u001B[39m dm\u001B[38;5;241m.\u001B[39mget_extra_events_ids(user_event_df\u001B[38;5;241m=\u001B[39muser_event)\n\u001B[0;32m      3\u001B[0m user_event \u001B[38;5;241m=\u001B[39m user_event\u001B[38;5;241m.\u001B[39mrename(columns\u001B[38;5;241m=\u001B[39m{\n\u001B[0;32m      4\u001B[0m     \u001B[38;5;124m'\u001B[39m\u001B[38;5;124mevent_id\u001B[39m\u001B[38;5;124m'\u001B[39m: \u001B[38;5;124m'\u001B[39m\u001B[38;5;124mitem_id\u001B[39m\u001B[38;5;124m'\u001B[39m,\n\u001B[0;32m      5\u001B[0m     \u001B[38;5;124m'\u001B[39m\u001B[38;5;124mevent_num\u001B[39m\u001B[38;5;124m'\u001B[39m: \u001B[38;5;124m'\u001B[39m\u001B[38;5;124mitem_num\u001B[39m\u001B[38;5;124m'\u001B[39m,\n\u001B[0;32m      6\u001B[0m     \u001B[38;5;124m'\u001B[39m\u001B[38;5;124mclicks_count\u001B[39m\u001B[38;5;124m'\u001B[39m: \u001B[38;5;124m'\u001B[39m\u001B[38;5;124mrating\u001B[39m\u001B[38;5;124m'\u001B[39m\n\u001B[0;32m      7\u001B[0m })\n",
      "File \u001B[1;32mE:\\pushkin_card_recommender_system\\preprocessing\\data_management.py:218\u001B[0m, in \u001B[0;36mnumerate_user_event_df\u001B[1;34m(user_event_df)\u001B[0m\n\u001B[0;32m    217\u001B[0m \u001B[38;5;28;01mdef\u001B[39;00m \u001B[38;5;21mnumerate_user_event_df\u001B[39m(user_event_df: pd\u001B[38;5;241m.\u001B[39mDataFrame) \u001B[38;5;241m-\u001B[39m\u001B[38;5;241m>\u001B[39m pd\u001B[38;5;241m.\u001B[39mDataFrame:\n\u001B[1;32m--> 218\u001B[0m     user_event_df[\u001B[38;5;124m'\u001B[39m\u001B[38;5;124mevent_id\u001B[39m\u001B[38;5;124m'\u001B[39m] \u001B[38;5;241m=\u001B[39m \u001B[43muser_event_df\u001B[49m\u001B[43m[\u001B[49m\u001B[38;5;124;43m'\u001B[39;49m\u001B[38;5;124;43mevent_id\u001B[39;49m\u001B[38;5;124;43m'\u001B[39;49m\u001B[43m]\u001B[49m\u001B[38;5;241m.\u001B[39mastype(\u001B[38;5;124m'\u001B[39m\u001B[38;5;124mcategory\u001B[39m\u001B[38;5;124m'\u001B[39m)\n\u001B[0;32m    219\u001B[0m     user_event_df[\u001B[38;5;124m'\u001B[39m\u001B[38;5;124muser_id\u001B[39m\u001B[38;5;124m'\u001B[39m] \u001B[38;5;241m=\u001B[39m user_event_df[\u001B[38;5;124m'\u001B[39m\u001B[38;5;124muser_id\u001B[39m\u001B[38;5;124m'\u001B[39m]\u001B[38;5;241m.\u001B[39mastype(\u001B[38;5;124m'\u001B[39m\u001B[38;5;124mcategory\u001B[39m\u001B[38;5;124m'\u001B[39m)\n\u001B[0;32m    220\u001B[0m     user_event_df[\u001B[38;5;124m'\u001B[39m\u001B[38;5;124muser_num\u001B[39m\u001B[38;5;124m'\u001B[39m] \u001B[38;5;241m=\u001B[39m user_event_df[\u001B[38;5;124m'\u001B[39m\u001B[38;5;124muser_id\u001B[39m\u001B[38;5;124m'\u001B[39m]\u001B[38;5;241m.\u001B[39mcat\u001B[38;5;241m.\u001B[39mcodes\n",
      "File \u001B[1;32me:\\pushkin_card_recommender_system\\venv\\lib\\site-packages\\pandas\\core\\frame.py:3458\u001B[0m, in \u001B[0;36mDataFrame.__getitem__\u001B[1;34m(self, key)\u001B[0m\n\u001B[0;32m   3456\u001B[0m \u001B[38;5;28;01mif\u001B[39;00m \u001B[38;5;28mself\u001B[39m\u001B[38;5;241m.\u001B[39mcolumns\u001B[38;5;241m.\u001B[39mnlevels \u001B[38;5;241m>\u001B[39m \u001B[38;5;241m1\u001B[39m:\n\u001B[0;32m   3457\u001B[0m     \u001B[38;5;28;01mreturn\u001B[39;00m \u001B[38;5;28mself\u001B[39m\u001B[38;5;241m.\u001B[39m_getitem_multilevel(key)\n\u001B[1;32m-> 3458\u001B[0m indexer \u001B[38;5;241m=\u001B[39m \u001B[38;5;28;43mself\u001B[39;49m\u001B[38;5;241;43m.\u001B[39;49m\u001B[43mcolumns\u001B[49m\u001B[38;5;241;43m.\u001B[39;49m\u001B[43mget_loc\u001B[49m\u001B[43m(\u001B[49m\u001B[43mkey\u001B[49m\u001B[43m)\u001B[49m\n\u001B[0;32m   3459\u001B[0m \u001B[38;5;28;01mif\u001B[39;00m is_integer(indexer):\n\u001B[0;32m   3460\u001B[0m     indexer \u001B[38;5;241m=\u001B[39m [indexer]\n",
      "File \u001B[1;32me:\\pushkin_card_recommender_system\\venv\\lib\\site-packages\\pandas\\core\\indexes\\base.py:3363\u001B[0m, in \u001B[0;36mIndex.get_loc\u001B[1;34m(self, key, method, tolerance)\u001B[0m\n\u001B[0;32m   3361\u001B[0m         \u001B[38;5;28;01mreturn\u001B[39;00m \u001B[38;5;28mself\u001B[39m\u001B[38;5;241m.\u001B[39m_engine\u001B[38;5;241m.\u001B[39mget_loc(casted_key)\n\u001B[0;32m   3362\u001B[0m     \u001B[38;5;28;01mexcept\u001B[39;00m \u001B[38;5;167;01mKeyError\u001B[39;00m \u001B[38;5;28;01mas\u001B[39;00m err:\n\u001B[1;32m-> 3363\u001B[0m         \u001B[38;5;28;01mraise\u001B[39;00m \u001B[38;5;167;01mKeyError\u001B[39;00m(key) \u001B[38;5;28;01mfrom\u001B[39;00m \u001B[38;5;21;01merr\u001B[39;00m\n\u001B[0;32m   3365\u001B[0m \u001B[38;5;28;01mif\u001B[39;00m is_scalar(key) \u001B[38;5;129;01mand\u001B[39;00m isna(key) \u001B[38;5;129;01mand\u001B[39;00m \u001B[38;5;129;01mnot\u001B[39;00m \u001B[38;5;28mself\u001B[39m\u001B[38;5;241m.\u001B[39mhasnans:\n\u001B[0;32m   3366\u001B[0m     \u001B[38;5;28;01mraise\u001B[39;00m \u001B[38;5;167;01mKeyError\u001B[39;00m(key)\n",
      "\u001B[1;31mKeyError\u001B[0m: 'event_id'"
     ]
    }
   ],
   "source": [
    "user_event = dm.numerate_user_event_df(user_event)\n",
    "extra_event_ids = dm.get_extra_events_ids(user_event_df=user_event)\n",
    "user_event = user_event.rename(columns={\n",
    "    'event_id': 'item_id',\n",
    "    'event_num': 'item_num',\n",
    "    'clicks_count': 'rating'\n",
    "})\n",
    "user_event"
   ],
   "metadata": {
    "collapsed": false,
    "pycharm": {
     "name": "#%%\n"
    }
   }
  },
  {
   "cell_type": "code",
   "execution_count": 5,
   "outputs": [],
   "source": [
    "from recommenders.implicit_models import UserItemRecommender"
   ],
   "metadata": {
    "collapsed": false,
    "pycharm": {
     "name": "#%%\n"
    }
   }
  },
  {
   "cell_type": "code",
   "execution_count": 6,
   "outputs": [],
   "source": [
    "recommender = UserItemRecommender(user_item_df=user_event, extra_item_ids=extra_event_ids)"
   ],
   "metadata": {
    "collapsed": false,
    "pycharm": {
     "name": "#%%\n"
    }
   }
  },
  {
   "cell_type": "code",
   "execution_count": 7,
   "outputs": [
    {
     "data": {
      "text/plain": "  0%|          | 0/20 [00:00<?, ?it/s]",
      "application/vnd.jupyter.widget-view+json": {
       "version_major": 2,
       "version_minor": 0,
       "model_id": "e1a3d58798954ff6acfe9275e1acc56b"
      }
     },
     "metadata": {},
     "output_type": "display_data"
    }
   ],
   "source": [
    "recommender.fit(model_name='als', factors=20, regularization=0.1, iterations=20)"
   ],
   "metadata": {
    "collapsed": false,
    "pycharm": {
     "name": "#%%\n"
    }
   }
  },
  {
   "cell_type": "code",
   "execution_count": 8,
   "outputs": [
    {
     "name": "stderr",
     "output_type": "stream",
     "text": [
      "100%|██████████| 13658/13658 [00:03<00:00, 4140.04it/s]\n"
     ]
    },
    {
     "data": {
      "text/plain": "                                 user_id  item_id    rating\n0       0001ad0041738ac671fe52a5f887742e  1348596  0.188837\n1       0001ad0041738ac671fe52a5f887742e   339112  0.186494\n2       0001ad0041738ac671fe52a5f887742e  1269982  0.179315\n3       0001ad0041738ac671fe52a5f887742e  1089617  0.179294\n4       0001ad0041738ac671fe52a5f887742e  1328535  0.177023\n...                                  ...      ...       ...\n136575  fff57c97533412e45cad515b6a0cc0f4  1300095  0.035788\n136576  fff57c97533412e45cad515b6a0cc0f4  1280378  0.035714\n136577  fff57c97533412e45cad515b6a0cc0f4   181975  0.035296\n136578  fff57c97533412e45cad515b6a0cc0f4  1390486  0.033932\n136579  fff57c97533412e45cad515b6a0cc0f4  1140173  0.033862\n\n[136580 rows x 3 columns]",
      "text/html": "<div>\n<style scoped>\n    .dataframe tbody tr th:only-of-type {\n        vertical-align: middle;\n    }\n\n    .dataframe tbody tr th {\n        vertical-align: top;\n    }\n\n    .dataframe thead th {\n        text-align: right;\n    }\n</style>\n<table border=\"1\" class=\"dataframe\">\n  <thead>\n    <tr style=\"text-align: right;\">\n      <th></th>\n      <th>user_id</th>\n      <th>item_id</th>\n      <th>rating</th>\n    </tr>\n  </thead>\n  <tbody>\n    <tr>\n      <th>0</th>\n      <td>0001ad0041738ac671fe52a5f887742e</td>\n      <td>1348596</td>\n      <td>0.188837</td>\n    </tr>\n    <tr>\n      <th>1</th>\n      <td>0001ad0041738ac671fe52a5f887742e</td>\n      <td>339112</td>\n      <td>0.186494</td>\n    </tr>\n    <tr>\n      <th>2</th>\n      <td>0001ad0041738ac671fe52a5f887742e</td>\n      <td>1269982</td>\n      <td>0.179315</td>\n    </tr>\n    <tr>\n      <th>3</th>\n      <td>0001ad0041738ac671fe52a5f887742e</td>\n      <td>1089617</td>\n      <td>0.179294</td>\n    </tr>\n    <tr>\n      <th>4</th>\n      <td>0001ad0041738ac671fe52a5f887742e</td>\n      <td>1328535</td>\n      <td>0.177023</td>\n    </tr>\n    <tr>\n      <th>...</th>\n      <td>...</td>\n      <td>...</td>\n      <td>...</td>\n    </tr>\n    <tr>\n      <th>136575</th>\n      <td>fff57c97533412e45cad515b6a0cc0f4</td>\n      <td>1300095</td>\n      <td>0.035788</td>\n    </tr>\n    <tr>\n      <th>136576</th>\n      <td>fff57c97533412e45cad515b6a0cc0f4</td>\n      <td>1280378</td>\n      <td>0.035714</td>\n    </tr>\n    <tr>\n      <th>136577</th>\n      <td>fff57c97533412e45cad515b6a0cc0f4</td>\n      <td>181975</td>\n      <td>0.035296</td>\n    </tr>\n    <tr>\n      <th>136578</th>\n      <td>fff57c97533412e45cad515b6a0cc0f4</td>\n      <td>1390486</td>\n      <td>0.033932</td>\n    </tr>\n    <tr>\n      <th>136579</th>\n      <td>fff57c97533412e45cad515b6a0cc0f4</td>\n      <td>1140173</td>\n      <td>0.033862</td>\n    </tr>\n  </tbody>\n</table>\n<p>136580 rows × 3 columns</p>\n</div>"
     },
     "execution_count": 8,
     "metadata": {},
     "output_type": "execute_result"
    }
   ],
   "source": [
    "rec_df = recommender.get_all_recommendation(as_pd_dataframe=True)\n",
    "rec_df"
   ],
   "metadata": {
    "collapsed": false,
    "pycharm": {
     "name": "#%%\n"
    }
   }
  },
  {
   "cell_type": "code",
   "execution_count": 8,
   "outputs": [
    {
     "data": {
      "text/plain": "[['0001ad0041738ac671fe52a5f887742e', 1245718, 0.60748893],\n ['0001ad0041738ac671fe52a5f887742e', 1420213, 0.5514066],\n ['0001ad0041738ac671fe52a5f887742e', 1336375, 0.49615306],\n ['0001ad0041738ac671fe52a5f887742e', 1284719, 0.44832218],\n ['0001ad0041738ac671fe52a5f887742e', 888843, 0.44319364],\n ['0001ad0041738ac671fe52a5f887742e', 1348381, 0.43749887],\n ['0001ad0041738ac671fe52a5f887742e', 1430294, 0.41231883],\n ['0001ad0041738ac671fe52a5f887742e', 1271602, 0.40517622],\n ['0001ad0041738ac671fe52a5f887742e', 1320284, 0.3844385],\n ['0001ad0041738ac671fe52a5f887742e', 1246053, 0.3762192]]"
     },
     "execution_count": 8,
     "metadata": {},
     "output_type": "execute_result"
    }
   ],
   "source": [
    "recommender.get_user_recommendation(user_id='0001ad0041738ac671fe52a5f887742e')"
   ],
   "metadata": {
    "collapsed": false,
    "pycharm": {
     "name": "#%%\n"
    }
   }
  },
  {
   "cell_type": "code",
   "execution_count": 9,
   "outputs": [],
   "source": [
    "recommender.to_csv('rec_test')"
   ],
   "metadata": {
    "collapsed": false,
    "pycharm": {
     "name": "#%%\n"
    }
   }
  },
  {
   "cell_type": "code",
   "execution_count": 10,
   "outputs": [
    {
     "name": "stderr",
     "output_type": "stream",
     "text": [
      "100%|██████████| 136580/136580 [00:00<00:00, 1345425.69it/s]\n"
     ]
    }
   ],
   "source": [
    "recommender.to_json('rec_test.json')"
   ],
   "metadata": {
    "collapsed": false,
    "pycharm": {
     "name": "#%%\n"
    }
   }
  },
  {
   "cell_type": "code",
   "execution_count": 11,
   "outputs": [
    {
     "data": {
      "text/plain": "{'1': {1321481: 0.59278786,\n  1220797: 0.58717114,\n  1430294: 0.56310654,\n  1420213: 0.507827,\n  1245718: 0.49826285,\n  1290542: 0.49143383,\n  1409860: 0.44971365,\n  1271602: 0.43810356,\n  1348381: 0.43750492,\n  1249864: 0.42139465}}"
     },
     "execution_count": 11,
     "metadata": {},
     "output_type": "execute_result"
    }
   ],
   "source": [
    "b = {}\n",
    "a = {1321481: 0.59278786, 1220797: 0.58717114, 1430294: 0.56310654, 1420213: 0.507827, 1245718: 0.49826285, 1290542: 0.49143383, 1409860: 0.44971365, 1271602: 0.43810356, 1348381: 0.43750492, 1249864: 0.42139465}\n",
    "b['1'] = a\n",
    "b"
   ],
   "metadata": {
    "collapsed": false,
    "pycharm": {
     "name": "#%%\n"
    }
   }
  }
 ],
 "metadata": {
  "kernelspec": {
   "display_name": "Python 3",
   "language": "python",
   "name": "python3"
  },
  "language_info": {
   "codemirror_mode": {
    "name": "ipython",
    "version": 2
   },
   "file_extension": ".py",
   "mimetype": "text/x-python",
   "name": "python",
   "nbconvert_exporter": "python",
   "pygments_lexer": "ipython2",
   "version": "2.7.6"
  }
 },
 "nbformat": 4,
 "nbformat_minor": 0
}