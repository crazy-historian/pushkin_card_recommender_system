{
  "nbformat": 4,
  "nbformat_minor": 0,
  "metadata": {
    "colab": {
      "name": "Tegs_for_pushka.ipynb",
      "provenance": [],
      "collapsed_sections": []
    },
    "kernelspec": {
      "name": "python3",
      "display_name": "Python 3"
    },
    "language_info": {
      "name": "python"
    }
  },
  "cells": [
    {
      "cell_type": "code",
      "execution_count": 1,
      "metadata": {
        "id": "qcLiGEpsbipD"
      },
      "outputs": [],
      "source": [
        "import pandas as pd\n",
        "import numpy as np"
      ]
    },
    {
      "cell_type": "code",
      "source": [
        "df = pd.read_csv('/content/drive/MyDrive/Пушкинская карта/cliks_add_request.csv', sep = ';', error_bad_lines=False)"
      ],
      "metadata": {
        "colab": {
          "base_uri": "https://localhost:8080/"
        },
        "id": "E5vhIdVJbxcJ",
        "outputId": "b554513e-9ba9-46c8-8149-d97609f54c66"
      },
      "execution_count": 2,
      "outputs": [
        {
          "output_type": "stream",
          "name": "stderr",
          "text": [
            "/usr/local/lib/python3.7/dist-packages/IPython/core/interactiveshell.py:2882: FutureWarning: The error_bad_lines argument has been deprecated and will be removed in a future version.\n",
            "\n",
            "\n",
            "  exec(code_obj, self.user_global_ns, self.user_ns)\n"
          ]
        }
      ]
    },
    {
      "cell_type": "code",
      "source": [
        "df.info()"
      ],
      "metadata": {
        "colab": {
          "base_uri": "https://localhost:8080/"
        },
        "id": "IE_ExWIQdnYH",
        "outputId": "b9d6e16a-9784-4c97-e4ef-c94a3f090fc9"
      },
      "execution_count": 3,
      "outputs": [
        {
          "output_type": "stream",
          "name": "stdout",
          "text": [
            "<class 'pandas.core.frame.DataFrame'>\n",
            "RangeIndex: 1824497 entries, 0 to 1824496\n",
            "Data columns (total 20 columns):\n",
            " #   Column              Dtype  \n",
            "---  ------              -----  \n",
            " 0   create_time         object \n",
            " 1   create_date         object \n",
            " 2   user_phone_details  object \n",
            " 3   buyer_mobile_phone  object \n",
            " 4   user_id             object \n",
            " 5   url                 object \n",
            " 6   session_id          int64  \n",
            " 7   session_name        object \n",
            " 8   organization_id     int64  \n",
            " 9   organization_name   object \n",
            " 10  session_identity    object \n",
            " 11  org_region_number   float64\n",
            " 12  org_category        object \n",
            " 13  type                object \n",
            " 14  age                 float64\n",
            " 15  user_region         float64\n",
            " 16  category            object \n",
            " 17  end                 int64  \n",
            " 18  tags                object \n",
            " 19  genre               object \n",
            "dtypes: float64(3), int64(3), object(14)\n",
            "memory usage: 278.4+ MB\n"
          ]
        }
      ]
    },
    {
      "cell_type": "code",
      "source": [
        "df.head(3)"
      ],
      "metadata": {
        "colab": {
          "base_uri": "https://localhost:8080/",
          "height": 381
        },
        "id": "qgW1PfMKeShe",
        "outputId": "b98305e3-6cda-4e8c-bf1d-a6bb81cfed83"
      },
      "execution_count": 4,
      "outputs": [
        {
          "output_type": "execute_result",
          "data": {
            "text/html": [
              "\n",
              "  <div id=\"df-59f5363f-248d-4015-9934-9a7071a95540\">\n",
              "    <div class=\"colab-df-container\">\n",
              "      <div>\n",
              "<style scoped>\n",
              "    .dataframe tbody tr th:only-of-type {\n",
              "        vertical-align: middle;\n",
              "    }\n",
              "\n",
              "    .dataframe tbody tr th {\n",
              "        vertical-align: top;\n",
              "    }\n",
              "\n",
              "    .dataframe thead th {\n",
              "        text-align: right;\n",
              "    }\n",
              "</style>\n",
              "<table border=\"1\" class=\"dataframe\">\n",
              "  <thead>\n",
              "    <tr style=\"text-align: right;\">\n",
              "      <th></th>\n",
              "      <th>create_time</th>\n",
              "      <th>create_date</th>\n",
              "      <th>user_phone_details</th>\n",
              "      <th>buyer_mobile_phone</th>\n",
              "      <th>user_id</th>\n",
              "      <th>url</th>\n",
              "      <th>session_id</th>\n",
              "      <th>session_name</th>\n",
              "      <th>organization_id</th>\n",
              "      <th>organization_name</th>\n",
              "      <th>session_identity</th>\n",
              "      <th>org_region_number</th>\n",
              "      <th>org_category</th>\n",
              "      <th>type</th>\n",
              "      <th>age</th>\n",
              "      <th>user_region</th>\n",
              "      <th>category</th>\n",
              "      <th>end</th>\n",
              "      <th>tags</th>\n",
              "      <th>genre</th>\n",
              "    </tr>\n",
              "  </thead>\n",
              "  <tbody>\n",
              "    <tr>\n",
              "      <th>0</th>\n",
              "      <td>2021-11-28 21:32:53</td>\n",
              "      <td>2021-11-28</td>\n",
              "      <td>Android, 10 (SDK 29)</td>\n",
              "      <td>ce730a5e7bb6372aad126e934320b75c</td>\n",
              "      <td>08014dcd786881f349938c9255e9df36</td>\n",
              "      <td>https://theatreofnations.ru/performances/shved...</td>\n",
              "      <td>717865</td>\n",
              "      <td>Спектакль «Шведская спичка»</td>\n",
              "      <td>7577</td>\n",
              "      <td>ФГБУК «Государственный театр наций»</td>\n",
              "      <td>Спектакль</td>\n",
              "      <td>77.0</td>\n",
              "      <td>Театры</td>\n",
              "      <td>Театры_Спектакль_Комедия</td>\n",
              "      <td>21.0</td>\n",
              "      <td>21.0</td>\n",
              "      <td>Спектакли</td>\n",
              "      <td>1640709600000</td>\n",
              "      <td>[{'_id': 28, 'name': 'Литература', 'sysName': ...</td>\n",
              "      <td>Комедия</td>\n",
              "    </tr>\n",
              "    <tr>\n",
              "      <th>1</th>\n",
              "      <td>2021-11-28 21:41:52</td>\n",
              "      <td>2021-11-28</td>\n",
              "      <td>Android, 10 (SDK 29)</td>\n",
              "      <td>ce730a5e7bb6372aad126e934320b75c</td>\n",
              "      <td>08014dcd786881f349938c9255e9df36</td>\n",
              "      <td>https://theatreofnations.ru/performances/shved...</td>\n",
              "      <td>717865</td>\n",
              "      <td>Спектакль «Шведская спичка»</td>\n",
              "      <td>7577</td>\n",
              "      <td>ФГБУК «Государственный театр наций»</td>\n",
              "      <td>Спектакль</td>\n",
              "      <td>77.0</td>\n",
              "      <td>Театры</td>\n",
              "      <td>Театры_Спектакль_Комедия</td>\n",
              "      <td>21.0</td>\n",
              "      <td>21.0</td>\n",
              "      <td>Спектакли</td>\n",
              "      <td>1640709600000</td>\n",
              "      <td>[{'_id': 28, 'name': 'Литература', 'sysName': ...</td>\n",
              "      <td>Комедия</td>\n",
              "    </tr>\n",
              "    <tr>\n",
              "      <th>2</th>\n",
              "      <td>2021-11-28 21:25:13</td>\n",
              "      <td>2021-11-28</td>\n",
              "      <td>iOS, iOS 15.0.2</td>\n",
              "      <td>a1f60fad21d72c6dcb5fd7fe84fb3ad7</td>\n",
              "      <td>b2560eaa8bc23dbba5f24aa5075b89ed</td>\n",
              "      <td>https://tickets.hermitagemuseum.org/event/7E06...</td>\n",
              "      <td>1309020</td>\n",
              "      <td>Экспозиции главного музейного комплекса Эрмитажа</td>\n",
              "      <td>2217</td>\n",
              "      <td>ФГБУК «Государственный Эрмитаж»</td>\n",
              "      <td>Экспозиции</td>\n",
              "      <td>78.0</td>\n",
              "      <td>Музеи и галереи</td>\n",
              "      <td>Музеи и галереи_Экспозиции_</td>\n",
              "      <td>22.0</td>\n",
              "      <td>77.0</td>\n",
              "      <td>Выставки</td>\n",
              "      <td>1662476400000</td>\n",
              "      <td>[{'_id': 24, 'name': 'История', 'sysName': 'is...</td>\n",
              "      <td>NaN</td>\n",
              "    </tr>\n",
              "  </tbody>\n",
              "</table>\n",
              "</div>\n",
              "      <button class=\"colab-df-convert\" onclick=\"convertToInteractive('df-59f5363f-248d-4015-9934-9a7071a95540')\"\n",
              "              title=\"Convert this dataframe to an interactive table.\"\n",
              "              style=\"display:none;\">\n",
              "        \n",
              "  <svg xmlns=\"http://www.w3.org/2000/svg\" height=\"24px\"viewBox=\"0 0 24 24\"\n",
              "       width=\"24px\">\n",
              "    <path d=\"M0 0h24v24H0V0z\" fill=\"none\"/>\n",
              "    <path d=\"M18.56 5.44l.94 2.06.94-2.06 2.06-.94-2.06-.94-.94-2.06-.94 2.06-2.06.94zm-11 1L8.5 8.5l.94-2.06 2.06-.94-2.06-.94L8.5 2.5l-.94 2.06-2.06.94zm10 10l.94 2.06.94-2.06 2.06-.94-2.06-.94-.94-2.06-.94 2.06-2.06.94z\"/><path d=\"M17.41 7.96l-1.37-1.37c-.4-.4-.92-.59-1.43-.59-.52 0-1.04.2-1.43.59L10.3 9.45l-7.72 7.72c-.78.78-.78 2.05 0 2.83L4 21.41c.39.39.9.59 1.41.59.51 0 1.02-.2 1.41-.59l7.78-7.78 2.81-2.81c.8-.78.8-2.07 0-2.86zM5.41 20L4 18.59l7.72-7.72 1.47 1.35L5.41 20z\"/>\n",
              "  </svg>\n",
              "      </button>\n",
              "      \n",
              "  <style>\n",
              "    .colab-df-container {\n",
              "      display:flex;\n",
              "      flex-wrap:wrap;\n",
              "      gap: 12px;\n",
              "    }\n",
              "\n",
              "    .colab-df-convert {\n",
              "      background-color: #E8F0FE;\n",
              "      border: none;\n",
              "      border-radius: 50%;\n",
              "      cursor: pointer;\n",
              "      display: none;\n",
              "      fill: #1967D2;\n",
              "      height: 32px;\n",
              "      padding: 0 0 0 0;\n",
              "      width: 32px;\n",
              "    }\n",
              "\n",
              "    .colab-df-convert:hover {\n",
              "      background-color: #E2EBFA;\n",
              "      box-shadow: 0px 1px 2px rgba(60, 64, 67, 0.3), 0px 1px 3px 1px rgba(60, 64, 67, 0.15);\n",
              "      fill: #174EA6;\n",
              "    }\n",
              "\n",
              "    [theme=dark] .colab-df-convert {\n",
              "      background-color: #3B4455;\n",
              "      fill: #D2E3FC;\n",
              "    }\n",
              "\n",
              "    [theme=dark] .colab-df-convert:hover {\n",
              "      background-color: #434B5C;\n",
              "      box-shadow: 0px 1px 3px 1px rgba(0, 0, 0, 0.15);\n",
              "      filter: drop-shadow(0px 1px 2px rgba(0, 0, 0, 0.3));\n",
              "      fill: #FFFFFF;\n",
              "    }\n",
              "  </style>\n",
              "\n",
              "      <script>\n",
              "        const buttonEl =\n",
              "          document.querySelector('#df-59f5363f-248d-4015-9934-9a7071a95540 button.colab-df-convert');\n",
              "        buttonEl.style.display =\n",
              "          google.colab.kernel.accessAllowed ? 'block' : 'none';\n",
              "\n",
              "        async function convertToInteractive(key) {\n",
              "          const element = document.querySelector('#df-59f5363f-248d-4015-9934-9a7071a95540');\n",
              "          const dataTable =\n",
              "            await google.colab.kernel.invokeFunction('convertToInteractive',\n",
              "                                                     [key], {});\n",
              "          if (!dataTable) return;\n",
              "\n",
              "          const docLinkHtml = 'Like what you see? Visit the ' +\n",
              "            '<a target=\"_blank\" href=https://colab.research.google.com/notebooks/data_table.ipynb>data table notebook</a>'\n",
              "            + ' to learn more about interactive tables.';\n",
              "          element.innerHTML = '';\n",
              "          dataTable['output_type'] = 'display_data';\n",
              "          await google.colab.output.renderOutput(dataTable, element);\n",
              "          const docLink = document.createElement('div');\n",
              "          docLink.innerHTML = docLinkHtml;\n",
              "          element.appendChild(docLink);\n",
              "        }\n",
              "      </script>\n",
              "    </div>\n",
              "  </div>\n",
              "  "
            ],
            "text/plain": [
              "           create_time  ...    genre\n",
              "0  2021-11-28 21:32:53  ...  Комедия\n",
              "1  2021-11-28 21:41:52  ...  Комедия\n",
              "2  2021-11-28 21:25:13  ...      NaN\n",
              "\n",
              "[3 rows x 20 columns]"
            ]
          },
          "metadata": {},
          "execution_count": 4
        }
      ]
    },
    {
      "cell_type": "code",
      "source": [
        "tag_list = df.tags.unique()"
      ],
      "metadata": {
        "id": "5O8pg_nuempi"
      },
      "execution_count": 5,
      "outputs": []
    },
    {
      "cell_type": "code",
      "source": [
        "tag_list[0]"
      ],
      "metadata": {
        "colab": {
          "base_uri": "https://localhost:8080/",
          "height": 53
        },
        "id": "fzeH70BliqV1",
        "outputId": "33aa52e9-1251-4949-8ab3-035e01514183"
      },
      "execution_count": 6,
      "outputs": [
        {
          "output_type": "execute_result",
          "data": {
            "application/vnd.google.colaboratory.intrinsic+json": {
              "type": "string"
            },
            "text/plain": [
              "\"[{'_id': 28, 'name': 'Литература', 'sysName': 'literatura'}, {'_id': 323, 'name': 'Исполнительское искусство', 'sysName': 'ispolnitelskoe-iskusstvo'}]\""
            ]
          },
          "metadata": {},
          "execution_count": 6
        }
      ]
    },
    {
      "cell_type": "code",
      "source": [
        "del_list = ('[', ']', '{', '}', \"'\", '\"')"
      ],
      "metadata": {
        "id": "sulljShDe1xG"
      },
      "execution_count": 7,
      "outputs": []
    },
    {
      "cell_type": "code",
      "source": [
        "for j in range(len(tag_list)):\n",
        "  for i in del_list:\n",
        "    tag_list[j] = tag_list[j].replace(i, '')\n",
        "    tag_list[j] = tag_list[j].replace(':', ',')\n",
        "  tag_list[j] = tag_list[j].split(', ')"
      ],
      "metadata": {
        "id": "3CR9Z5t0gd54"
      },
      "execution_count": 8,
      "outputs": []
    },
    {
      "cell_type": "code",
      "source": [
        "for i in tag_list[1][3::6]:\n",
        "  print(i)"
      ],
      "metadata": {
        "colab": {
          "base_uri": "https://localhost:8080/"
        },
        "id": "kBqcG-Ywk-co",
        "outputId": "a01bb2be-0d7a-4ae8-b491-86937e0c0199"
      },
      "execution_count": 9,
      "outputs": [
        {
          "output_type": "stream",
          "name": "stdout",
          "text": [
            "История\n",
            "Классическое искусство\n",
            "Декоративно-прикладное искусство\n",
            "Архитектура\n",
            "Изобразительное искусство\n"
          ]
        }
      ]
    },
    {
      "cell_type": "code",
      "source": [
        "from collections import Counter\n",
        "\n",
        "tag_list_unique = Counter()\n",
        "for j in range(len(tag_list)):\n",
        "  for i in tag_list[j][3::6]:\n",
        "   tag_list_unique[i] += 1"
      ],
      "metadata": {
        "id": "dbNgRSzbkl9n"
      },
      "execution_count": 10,
      "outputs": []
    },
    {
      "cell_type": "code",
      "source": [
        "tag_list_unique.keys()"
      ],
      "metadata": {
        "colab": {
          "base_uri": "https://localhost:8080/"
        },
        "id": "qMamhFM1kCeM",
        "outputId": "ff3c0ab8-11b7-4cfe-9cd6-a8ea732744ac"
      },
      "execution_count": 11,
      "outputs": [
        {
          "output_type": "execute_result",
          "data": {
            "text/plain": [
              "dict_keys(['Литература', 'Исполнительское искусство', 'История', 'Классическое искусство', 'Декоративно-прикладное искусство', 'Архитектура', 'Изобразительное искусство', 'Александр Грибоедов', 'Балет', 'Доступная среда', 'Биография', 'Премьера', 'Драма', 'Поэзия', 'Сергей Есенин', 'Театрализованное представление', 'Опера', 'Оперетта', 'Петр Чайковский', 'Мюзикл', 'Искусство', 'Для молодежи', 'Современное искусство', 'Танцы', 'Молодые люди', 'Дизайн', 'Фотография', 'Страны', 'name', 'Лекции', 'Михаил Булгаков', 'Русское искусство', 'Для детей', 'Экскурсии', 'Книги', 'Любительские театры', 'Театральный марафон', 'Виртуальный концертный зал', 'Мода', 'Комедия', 'Животные', 'Федор Достоевский', 'Детектив', 'Музыка', 'Классическая музыка', 'Мастер-классы', 'Кукольный спектакль', 'Сказка', 'Антон Чехов', 'Иван Бунин', 'Трагикомедия', 'Наука', 'Музыкальная комедия', 'Николай Гоголь', 'Вокальное искусство', 'Юмор', 'Хоровое пение', 'Александр Пушкин', 'Ночь искусств', 'Графика', 'Живопись', 'Коллекции', 'Иван Шишкин', 'Творчество', 'Новый год', 'Рождество', 'Сергей Прокофьев', 'Экспериментальный театр', 'Наука и техника', 'Новые технологии', 'Илья Репин', 'Дмитрий Шостакович', 'Николай Римский-Корсаков', 'Астрономия', 'Скульптура', 'Традиции', 'Музей для всех 2020', 'Игры', 'Квест', 'Пластический спектакль', 'Трагедия', 'Естественные науки', 'Памятные места', 'Джаз', 'Гастроли', 'Мариус Петипа', 'Игорь Стравинский', 'Александр Бородин', 'Моноспектакль', 'Пародия', 'Культура онлайн', 'Александр Островский', 'Хореография', 'Тренинг', 'Органная музыка', 'Вечер', 'Творческий вечер', 'Инсталляция', 'Поп-музыка', 'Фестиваль', 'Год театра', 'День Победы', 'Михаил Лермонтов', 'Приключения', 'Валентин Распутин', 'На воздухе', 'Здоровье', 'Медицина', 'Камерный концерт', 'Фарс', 'Блокада Ленинграда', 'Ёлки', 'Просвещение', 'День памяти и скорби', 'Отдых и развлечения', 'Услуги', 'Палеонтология', 'Фантастика', 'Марина Цветаева', 'Лев Толстой', 'Романсы', 'Передвижная выставка', 'Народная культура', 'Геология', 'День матери', 'Рок', 'Иван Тургенев', 'Народное творчество', 'День молодежи', 'Максим Горький', 'Василий Шукшин', 'Реконструкция', 'Этнография', 'Экология', 'Космонавтика', 'Биология', 'Конкурс', 'Эстрада', 'Викторина', 'Ночь в театре', 'День балета', 'Театр кукол', 'Краеведение', 'Семейное чтение', 'Шоу', 'Фольклор', 'Иван Айвазовский', 'Туризм', 'Перформанс', 'Анна Ахматова', 'Самуил Маршак', 'Представление', 'Традиционное искусство', 'Общество', 'Библиотечное дело', 'Блюз', 'Год культурного наследия народов России', 'День Героев Отечества', 'Реставрация', 'Хор', 'Оркестр', 'Андрей Вознесенский', 'Artefact', 'День знаний', 'Кинопоказ', 'Игрушки', 'Александр Невский', 'Уроки', 'Кинематограф', 'Духовная музыка', 'Гастрономия', 'Мультипликация', 'День народного единства', 'Андрей Платонов', 'Творческий коллектив', 'Солженицын А. И.', 'Беседа', 'Литературный вечер', 'Благотворительность', 'Дискуссия', 'Круглый стол', 'Творческая лаборатория', 'Археология', 'Природа', 'Проект', 'Гуманитарные науки', 'Клуб по интересам', 'Выставочные залы', 'Корней Чуковский', 'Иван Крылов', 'День театра', 'Николай Некрасов', 'Сергей Рахманинов', 'Модест Мусоргский', 'Александр Скрябин', 'Михаил Глинка', 'День космонавтики', 'Исаак Левитан', 'Борис Кустодиев', 'Василий Суриков', 'Алексей Толстой', '500-летие Тульского кремля', 'Фэнтези', 'Александр Куприн', 'Дополнительное образование', 'Поэтическая композиция', 'День Неизвестного Солдата', 'Виктор Васнецов', 'Точные науки', 'Владимир Маяковский', 'Ярмарка', 'Медиа', 'Акция', 'Курс', 'Вечеринка', 'Фолк', 'День города', 'День всех влюбленных', 'Мстислав Ростропович', 'Диалог', '75 лет Победы', 'Модельная библиотека', 'Культура для школьников', 'День родного языка', 'День защиты детей', 'День памяти', 'День защитника Отечества', 'Владимир Высоцкий', 'Иван Гончаров', 'Анимация', 'Николай Рерих', 'Михаил Зощенко', 'Исаак Дунаевский', 'День воинской славы', 'Валентин Катаев', 'Сталинградская битва', 'Модельные библиотеки', 'Юрий Гагарин', 'Музеи Ямала', 'День Конституции РФ', 'Цирковое представление', 'Культурное наследие', 'Сергей Довлатов', 'Бесплатно', 'Даниил Гранин', 'Инновации', 'Уличные спектакли', 'Рок-н-ролл', 'День России', 'День музыки', 'Безопасный интернет', 'Авторская песня', 'Шансон', 'Александр Блок', 'Евгений Евтушенко', 'Чтения', 'Бардовская песня', 'Федор Ушаков', 'Планетарий', 'Встречи с писателями', 'Презентация', '8 Марта', 'Керамика', 'Федор Тютчев', 'Слепые', 'Слабовидящие', 'Масленица', 'Семинар', 'День студента', 'Федор Шаляпин', 'Николай Рубцов', 'Безопасность', 'Константин Станиславский', 'Языковой клуб', 'Вахта памяти', 'Культурный форум', 'Санкт-Петербургский международный культурный форум', 'День работника культуры', 'Форум', 'Театральная олимпиада', 'Георгий Жуков', 'Флешмоб', 'Кинофонд', 'Гостиная', 'Золотая осень', 'День семьи', 'Соревнования', 'Авиация', 'Александр Радищев', 'Дом-музей', 'Год экологии', 'Видеолекторий', 'Константин Паустовский', 'День открытых дверей', 'Константин Бальмонт', 'Святитель Иннокентий', 'День пожилого человека', 'Казимир Малевич', 'День учителя', 'Фанк', 'Труд', 'День российского кино', 'День памяти воинов-интернационалистов', 'Туристический инфоцентр', 'День толерантности', 'Культурный стриминг'])"
            ]
          },
          "metadata": {},
          "execution_count": 11
        }
      ]
    },
    {
      "cell_type": "code",
      "source": [
        "dict1 = {1: 1, 2: 9, 3: 4}\n",
        "sorted_values = sorted(tag_list_unique.values(), reverse=True) # Sort the values\n",
        "tag_list_unique_sorted = {}\n",
        "\n",
        "for i in sorted_values:\n",
        "    for k in tag_list_unique.keys():\n",
        "        if tag_list_unique[k] == i:\n",
        "            tag_list_unique_sorted[k] = tag_list_unique[k]\n",
        "            break\n",
        "\n",
        "print(tag_list_unique_sorted)"
      ],
      "metadata": {
        "colab": {
          "base_uri": "https://localhost:8080/"
        },
        "id": "effKKRn2lrgR",
        "outputId": "4bc4218a-9ed7-4854-af5d-2382503d5c0a"
      },
      "execution_count": 12,
      "outputs": [
        {
          "output_type": "stream",
          "name": "stdout",
          "text": [
            "{'Для молодежи': 4569, 'Для детей': 2564, 'Молодые люди': 2419, 'Музыка': 1941, 'История': 1879, 'Классическое искусство': 1748, 'Доступная среда': 1446, 'Театрализованное представление': 1270, 'Литература': 1240, 'Искусство': 1191, 'Современное искусство': 1113, 'Исполнительское искусство': 924, 'Экскурсии': 895, 'Классическая музыка': 888, 'Комедия': 713, 'Премьера': 606, 'Драма': 554, 'Мастер-классы': 487, 'Живопись': 443, 'Декоративно-прикладное искусство': 439, 'Сказка': 403, 'Мюзикл': 343, 'Балет': 342, 'Кукольный спектакль': 320, 'Новый год': 319, 'Опера': 316, 'Коллекции': 305, 'Лекции': 296, 'Изобразительное искусство': 288, 'Книги': 284, 'Народная культура': 256, 'На воздухе': 245, 'Фестиваль': 230, 'Танцы': 228, 'Вокальное искусство': 219, 'Фотография': 216, 'Архитектура': 212, 'Графика': 205, 'Трагикомедия': 198, 'Хореография': 196, 'Русское искусство': 188, 'Музыкальная комедия': 186, 'Краеведение': 184, 'Виртуальный концертный зал': 181, 'Творчество': 177, 'Экспериментальный театр': 174, 'Николай Гоголь': 169, 'Археология': 167, 'Джаз': 163, 'Петр Чайковский': 155, 'Антон Чехов': 153, 'Поэзия': 147, 'Федор Достоевский': 145, 'Скульптура': 135, 'Гастроли': 134, 'Александр Островский': 123, 'Оперетта': 122, 'Игры': 120, 'Наука и техника': 117, 'Эстрада': 116, 'Хоровое пение': 108, 'Животные': 104, 'Моноспектакль': 103, 'name': 102, 'Органная музыка': 99, 'Квест': 95, 'Ночь искусств': 93, 'Наука': 92, 'Фольклор': 89, 'Астрономия': 87, 'Творческий вечер': 86, 'Традиции': 79, 'Поп-музыка': 77, 'Фарс': 75, 'Пластический спектакль': 74, 'Реконструкция': 73, 'Юмор': 68, 'Романсы': 66, 'День матери': 63, 'Биография': 62, 'Михаил Булгаков': 58, 'Рождество': 57, 'Вечер': 56, 'Дизайн': 54, 'Игрушки': 53, 'Лев Толстой': 52, 'Космонавтика': 48, 'Перформанс': 47, 'Детектив': 46, 'Год театра': 45, 'Любительские театры': 44, 'Сергей Рахманинов': 43, 'Мода': 40, 'Кинематограф': 39, 'Конкурс': 38, 'Викторина': 37, 'Страны': 36, 'Марина Цветаева': 35, 'Максим Горький': 33, 'Сергей Есенин': 31, 'Василий Шукшин': 30, 'Иван Бунин': 29, 'Дмитрий Шостакович': 28, 'Александр Невский': 27, 'День Победы': 26, 'Михаил Лермонтов': 25, 'Александр Грибоедов': 24, 'Палеонтология': 23, 'Корней Чуковский': 22, 'Новые технологии': 21, 'Беседа': 20, 'Общество': 19, 'День памяти': 18, 'Анна Ахматова': 17, 'Игорь Стравинский': 15, 'Пародия': 13, 'Геология': 12, 'Инсталляция': 11, 'Клуб по интересам': 10, 'Иван Шишкин': 9, 'Мультипликация': 8, 'Мариус Петипа': 7, 'Театральный марафон': 6, 'Ёлки': 5, 'Александр Бородин': 4, 'Музей для всех 2020': 3, 'Ночь в театре': 2, 'Илья Репин': 1}\n"
          ]
        }
      ]
    },
    {
      "cell_type": "code",
      "source": [
        "df.sample(3)"
      ],
      "metadata": {
        "id": "T_NBRzArkP-9",
        "colab": {
          "base_uri": "https://localhost:8080/",
          "height": 346
        },
        "outputId": "0cb88806-8cb0-4606-a5e5-3457d6d4010c"
      },
      "execution_count": 14,
      "outputs": [
        {
          "output_type": "execute_result",
          "data": {
            "text/html": [
              "\n",
              "  <div id=\"df-2115db04-7e4c-4521-8665-d76e7a41f89e\">\n",
              "    <div class=\"colab-df-container\">\n",
              "      <div>\n",
              "<style scoped>\n",
              "    .dataframe tbody tr th:only-of-type {\n",
              "        vertical-align: middle;\n",
              "    }\n",
              "\n",
              "    .dataframe tbody tr th {\n",
              "        vertical-align: top;\n",
              "    }\n",
              "\n",
              "    .dataframe thead th {\n",
              "        text-align: right;\n",
              "    }\n",
              "</style>\n",
              "<table border=\"1\" class=\"dataframe\">\n",
              "  <thead>\n",
              "    <tr style=\"text-align: right;\">\n",
              "      <th></th>\n",
              "      <th>create_time</th>\n",
              "      <th>create_date</th>\n",
              "      <th>user_phone_details</th>\n",
              "      <th>buyer_mobile_phone</th>\n",
              "      <th>user_id</th>\n",
              "      <th>url</th>\n",
              "      <th>session_id</th>\n",
              "      <th>session_name</th>\n",
              "      <th>organization_id</th>\n",
              "      <th>organization_name</th>\n",
              "      <th>session_identity</th>\n",
              "      <th>org_region_number</th>\n",
              "      <th>org_category</th>\n",
              "      <th>type</th>\n",
              "      <th>age</th>\n",
              "      <th>user_region</th>\n",
              "      <th>category</th>\n",
              "      <th>end</th>\n",
              "      <th>tags</th>\n",
              "      <th>genre</th>\n",
              "    </tr>\n",
              "  </thead>\n",
              "  <tbody>\n",
              "    <tr>\n",
              "      <th>1005329</th>\n",
              "      <td>2021-11-26 13:40:44</td>\n",
              "      <td>2021-11-26</td>\n",
              "      <td>Android, 11 (SDK 30)</td>\n",
              "      <td>a25965acca6d6f9c2667cd44b7bde859</td>\n",
              "      <td>5d540fa2f16b2500dc15931be67d8744</td>\n",
              "      <td>http://www.maly.ru/checkout/select-date?perfor...</td>\n",
              "      <td>16883</td>\n",
              "      <td>Спектакль «Пиковая дама»</td>\n",
              "      <td>4941</td>\n",
              "      <td>ФГБУК «Государственный академический Малый теа...</td>\n",
              "      <td>Спектакль</td>\n",
              "      <td>77.0</td>\n",
              "      <td>Театры</td>\n",
              "      <td>Театры_Спектакль_Драма</td>\n",
              "      <td>17.0</td>\n",
              "      <td>77.0</td>\n",
              "      <td>Спектакли</td>\n",
              "      <td>1647198000000</td>\n",
              "      <td>[{'_id': 25, 'name': 'Классическое искусство',...</td>\n",
              "      <td>Драма</td>\n",
              "    </tr>\n",
              "    <tr>\n",
              "      <th>294946</th>\n",
              "      <td>2021-11-30 06:15:20</td>\n",
              "      <td>2021-11-30</td>\n",
              "      <td>Android, 8.0.0 (SDK 26)</td>\n",
              "      <td>daff2a6de49d1a9ba322ec8e1ef77069</td>\n",
              "      <td>f52b044fd1bea178cc4704098cbc1b3e</td>\n",
              "      <td>http://kurskdrama.ru/repertuar-teatra.html</td>\n",
              "      <td>1013320</td>\n",
              "      <td>Спектакль «Похищение Джонни»</td>\n",
              "      <td>10229</td>\n",
              "      <td>ОБУК «Курский государственный драматический те...</td>\n",
              "      <td>Спектакль</td>\n",
              "      <td>46.0</td>\n",
              "      <td>Театры</td>\n",
              "      <td>Театры_Спектакль_Комедия</td>\n",
              "      <td>22.0</td>\n",
              "      <td>46.0</td>\n",
              "      <td>Спектакли</td>\n",
              "      <td>1650105000000</td>\n",
              "      <td>[]</td>\n",
              "      <td>Комедия</td>\n",
              "    </tr>\n",
              "    <tr>\n",
              "      <th>426558</th>\n",
              "      <td>2021-11-25 04:25:39</td>\n",
              "      <td>2021-11-25</td>\n",
              "      <td>Android, 10 (SDK 29)</td>\n",
              "      <td>08ca093fd746e76cbf88764fcc82b87f</td>\n",
              "      <td>57418ed1b1a93717855b21f5c98d8b41</td>\n",
              "      <td>https://kirov.kassy.ru/events/detskie/2-11639/</td>\n",
              "      <td>1378300</td>\n",
              "      <td>Спектакль «Мой дедушка»</td>\n",
              "      <td>7244</td>\n",
              "      <td>КОГАУК «Кировский театр кукол им. А. Н. Афанас...</td>\n",
              "      <td>Спектакль</td>\n",
              "      <td>43.0</td>\n",
              "      <td>Театры</td>\n",
              "      <td>Театры_Спектакль_</td>\n",
              "      <td>16.0</td>\n",
              "      <td>43.0</td>\n",
              "      <td>Спектакли</td>\n",
              "      <td>1638010800000</td>\n",
              "      <td>[{'_id': 39, 'name': 'Для детей', 'sysName': '...</td>\n",
              "      <td>NaN</td>\n",
              "    </tr>\n",
              "  </tbody>\n",
              "</table>\n",
              "</div>\n",
              "      <button class=\"colab-df-convert\" onclick=\"convertToInteractive('df-2115db04-7e4c-4521-8665-d76e7a41f89e')\"\n",
              "              title=\"Convert this dataframe to an interactive table.\"\n",
              "              style=\"display:none;\">\n",
              "        \n",
              "  <svg xmlns=\"http://www.w3.org/2000/svg\" height=\"24px\"viewBox=\"0 0 24 24\"\n",
              "       width=\"24px\">\n",
              "    <path d=\"M0 0h24v24H0V0z\" fill=\"none\"/>\n",
              "    <path d=\"M18.56 5.44l.94 2.06.94-2.06 2.06-.94-2.06-.94-.94-2.06-.94 2.06-2.06.94zm-11 1L8.5 8.5l.94-2.06 2.06-.94-2.06-.94L8.5 2.5l-.94 2.06-2.06.94zm10 10l.94 2.06.94-2.06 2.06-.94-2.06-.94-.94-2.06-.94 2.06-2.06.94z\"/><path d=\"M17.41 7.96l-1.37-1.37c-.4-.4-.92-.59-1.43-.59-.52 0-1.04.2-1.43.59L10.3 9.45l-7.72 7.72c-.78.78-.78 2.05 0 2.83L4 21.41c.39.39.9.59 1.41.59.51 0 1.02-.2 1.41-.59l7.78-7.78 2.81-2.81c.8-.78.8-2.07 0-2.86zM5.41 20L4 18.59l7.72-7.72 1.47 1.35L5.41 20z\"/>\n",
              "  </svg>\n",
              "      </button>\n",
              "      \n",
              "  <style>\n",
              "    .colab-df-container {\n",
              "      display:flex;\n",
              "      flex-wrap:wrap;\n",
              "      gap: 12px;\n",
              "    }\n",
              "\n",
              "    .colab-df-convert {\n",
              "      background-color: #E8F0FE;\n",
              "      border: none;\n",
              "      border-radius: 50%;\n",
              "      cursor: pointer;\n",
              "      display: none;\n",
              "      fill: #1967D2;\n",
              "      height: 32px;\n",
              "      padding: 0 0 0 0;\n",
              "      width: 32px;\n",
              "    }\n",
              "\n",
              "    .colab-df-convert:hover {\n",
              "      background-color: #E2EBFA;\n",
              "      box-shadow: 0px 1px 2px rgba(60, 64, 67, 0.3), 0px 1px 3px 1px rgba(60, 64, 67, 0.15);\n",
              "      fill: #174EA6;\n",
              "    }\n",
              "\n",
              "    [theme=dark] .colab-df-convert {\n",
              "      background-color: #3B4455;\n",
              "      fill: #D2E3FC;\n",
              "    }\n",
              "\n",
              "    [theme=dark] .colab-df-convert:hover {\n",
              "      background-color: #434B5C;\n",
              "      box-shadow: 0px 1px 3px 1px rgba(0, 0, 0, 0.15);\n",
              "      filter: drop-shadow(0px 1px 2px rgba(0, 0, 0, 0.3));\n",
              "      fill: #FFFFFF;\n",
              "    }\n",
              "  </style>\n",
              "\n",
              "      <script>\n",
              "        const buttonEl =\n",
              "          document.querySelector('#df-2115db04-7e4c-4521-8665-d76e7a41f89e button.colab-df-convert');\n",
              "        buttonEl.style.display =\n",
              "          google.colab.kernel.accessAllowed ? 'block' : 'none';\n",
              "\n",
              "        async function convertToInteractive(key) {\n",
              "          const element = document.querySelector('#df-2115db04-7e4c-4521-8665-d76e7a41f89e');\n",
              "          const dataTable =\n",
              "            await google.colab.kernel.invokeFunction('convertToInteractive',\n",
              "                                                     [key], {});\n",
              "          if (!dataTable) return;\n",
              "\n",
              "          const docLinkHtml = 'Like what you see? Visit the ' +\n",
              "            '<a target=\"_blank\" href=https://colab.research.google.com/notebooks/data_table.ipynb>data table notebook</a>'\n",
              "            + ' to learn more about interactive tables.';\n",
              "          element.innerHTML = '';\n",
              "          dataTable['output_type'] = 'display_data';\n",
              "          await google.colab.output.renderOutput(dataTable, element);\n",
              "          const docLink = document.createElement('div');\n",
              "          docLink.innerHTML = docLinkHtml;\n",
              "          element.appendChild(docLink);\n",
              "        }\n",
              "      </script>\n",
              "    </div>\n",
              "  </div>\n",
              "  "
            ],
            "text/plain": [
              "                 create_time  ...    genre\n",
              "1005329  2021-11-26 13:40:44  ...    Драма\n",
              "294946   2021-11-30 06:15:20  ...  Комедия\n",
              "426558   2021-11-25 04:25:39  ...      NaN\n",
              "\n",
              "[3 rows x 20 columns]"
            ]
          },
          "metadata": {},
          "execution_count": 14
        }
      ]
    },
    {
      "cell_type": "code",
      "source": [
        "df['tag_name'] = df['tags']"
      ],
      "metadata": {
        "id": "z0aOw5i3QiN7"
      },
      "execution_count": 70,
      "outputs": []
    },
    {
      "cell_type": "code",
      "source": [
        "for i in del_list:\n",
        "  df['tag_name'] = df['tag_name'].apply(lambda x: x.replace(i, ''))"
      ],
      "metadata": {
        "id": "ZDCQZ_F6ffw6"
      },
      "execution_count": 71,
      "outputs": []
    },
    {
      "cell_type": "code",
      "source": [
        "df['tag_name'] = df['tag_name'].apply(lambda x: x.replace(':', ','))"
      ],
      "metadata": {
        "id": "LTIaqnjDqftF"
      },
      "execution_count": 72,
      "outputs": []
    },
    {
      "cell_type": "code",
      "source": [
        "df['tag_name'] = df['tag_name'].apply(lambda x: x.split(','))"
      ],
      "metadata": {
        "id": "bsNLHRT-xj6w"
      },
      "execution_count": 74,
      "outputs": []
    },
    {
      "cell_type": "code",
      "source": [
        "df['tag_name'] = df['tag_name'].apply(lambda x: x[3::6])"
      ],
      "metadata": {
        "id": "CBMgvHpaxv0K"
      },
      "execution_count": 76,
      "outputs": []
    },
    {
      "cell_type": "code",
      "source": [
        "df[df['tag_count'] == 1]['tag_name'].value_counts()"
      ],
      "metadata": {
        "colab": {
          "base_uri": "https://localhost:8080/",
          "height": 426
        },
        "id": "CUqS8eofxal1",
        "outputId": "83ada8af-8811-4758-ccae-870f7998722a"
      },
      "execution_count": 79,
      "outputs": [
        {
          "output_type": "error",
          "ename": "TypeError",
          "evalue": "ignored",
          "traceback": [
            "\u001b[0;31m---------------------------------------------------------------------------\u001b[0m",
            "\u001b[0;31mTypeError\u001b[0m                                 Traceback (most recent call last)",
            "\u001b[0;32mpandas/_libs/hashtable_class_helper.pxi\u001b[0m in \u001b[0;36mpandas._libs.hashtable.PyObjectHashTable.map_locations\u001b[0;34m()\u001b[0m\n",
            "\u001b[0;31mTypeError\u001b[0m: unhashable type: 'list'"
          ]
        },
        {
          "output_type": "stream",
          "name": "stderr",
          "text": [
            "Exception ignored in: 'pandas._libs.index.IndexEngine._call_map_locations'\n",
            "Traceback (most recent call last):\n",
            "  File \"pandas/_libs/hashtable_class_helper.pxi\", line 5231, in pandas._libs.hashtable.PyObjectHashTable.map_locations\n",
            "TypeError: unhashable type: 'list'\n"
          ]
        },
        {
          "output_type": "execute_result",
          "data": {
            "text/plain": [
              "[ Комедия]                           55096\n",
              "[ Опера]                             29517\n",
              "[ Для молодежи]                      22528\n",
              "[ Драма]                             19981\n",
              "[ Театрализованное представление]    17695\n",
              "                                     ...  \n",
              "[ Авторская песня]                       1\n",
              "[ Александр Блок]                        1\n",
              "[ Любительские театры]                   1\n",
              "[ Хоровое пение]                         1\n",
              "[ Творчество]                            1\n",
              "Name: tag_name, Length: 118, dtype: int64"
            ]
          },
          "metadata": {},
          "execution_count": 79
        }
      ]
    },
    {
      "cell_type": "code",
      "source": [
        "df['tag_count'].unique"
      ],
      "metadata": {
        "colab": {
          "base_uri": "https://localhost:8080/"
        },
        "id": "MyvRTSOfrV-P",
        "outputId": "fc6ba983-0529-406f-cd27-5bbda2cbae9b"
      },
      "execution_count": 46,
      "outputs": [
        {
          "output_type": "execute_result",
          "data": {
            "text/plain": [
              "<bound method Series.unique of 0          _id, 28, name, Литература, sysName, literatura...\n",
              "1          _id, 28, name, Литература, sysName, literatura...\n",
              "2          _id, 24, name, История, sysName, istoriya, _id...\n",
              "3          _id, 508, name, Александр Грибоедов, sysName, ...\n",
              "4          _id, 31, name, Балет, sysName, balet, _id, 323...\n",
              "                                 ...                        \n",
              "1824492    _id, 2, name, На воздухе, sysName, na-vozduhe,...\n",
              "1824493    _id, 29, name, Музыка, sysName, muzyka, _id, 1...\n",
              "1824494    _id, 29, name, Музыка, sysName, muzyka, _id, 3...\n",
              "1824495    _id, 427, name, Музыкальная комедия, sysName, ...\n",
              "1824496    _id, 26, name, Современное искусство, sysName,...\n",
              "Name: tag_count, Length: 1824497, dtype: object>"
            ]
          },
          "metadata": {},
          "execution_count": 46
        }
      ]
    },
    {
      "cell_type": "code",
      "source": [
        "df['tag_count'] = df['tag_count'].apply(lambda x: x.split(','))"
      ],
      "metadata": {
        "id": "21Yb2ozbrNhO"
      },
      "execution_count": 47,
      "outputs": []
    },
    {
      "cell_type": "code",
      "source": [
        "df['tag_count'] = df['tag_count'].apply(lambda x: round(len(x)/6, 0))"
      ],
      "metadata": {
        "id": "FjEn8Hutrhpk"
      },
      "execution_count": 48,
      "outputs": []
    },
    {
      "cell_type": "code",
      "source": [
        "df['tag_count'].value_counts()"
      ],
      "metadata": {
        "colab": {
          "base_uri": "https://localhost:8080/"
        },
        "id": "-iYx4kdusgWS",
        "outputId": "fdcee7f3-811f-4e4c-b150-6ce212b12de2"
      },
      "execution_count": 66,
      "outputs": [
        {
          "output_type": "execute_result",
          "data": {
            "text/plain": [
              "3.0     458138\n",
              "2.0     339681\n",
              "4.0     295553\n",
              "1.0     276589\n",
              "5.0     165455\n",
              "0.0     145494\n",
              "6.0      75312\n",
              "7.0      31074\n",
              "8.0      19327\n",
              "9.0      10993\n",
              "10.0      6881\n",
              "Name: tag_count, dtype: int64"
            ]
          },
          "metadata": {},
          "execution_count": 66
        }
      ]
    },
    {
      "cell_type": "code",
      "source": [
        "df.shape"
      ],
      "metadata": {
        "colab": {
          "base_uri": "https://localhost:8080/"
        },
        "id": "klPSZwh7wvoj",
        "outputId": "8d9a4cdd-b706-4413-88c0-119ee334386e"
      },
      "execution_count": 69,
      "outputs": [
        {
          "output_type": "execute_result",
          "data": {
            "text/plain": [
              "(1824497, 21)"
            ]
          },
          "metadata": {},
          "execution_count": 69
        }
      ]
    },
    {
      "cell_type": "code",
      "source": [
        "import matplotlib.pyplot as plt\n",
        "%matplotlib inline"
      ],
      "metadata": {
        "id": "y6FLjALNtKst"
      },
      "execution_count": 62,
      "outputs": []
    },
    {
      "cell_type": "code",
      "source": [
        "fig = plt.figure()\n",
        "axes = fig.add_axes([0, 0, 1, 1])\n",
        "axes.hist(df['tag_count'], color = 'Pink')\n",
        "axes.set_title('Количество тегов на мероприятие')\n",
        "axes.set_ylabel('Количество мероприятий')\n",
        "axes.set_xlabel('Количество тегов')"
      ],
      "metadata": {
        "colab": {
          "base_uri": "https://localhost:8080/",
          "height": 383
        },
        "id": "dQhai8eTt-Co",
        "outputId": "078e9b9e-d991-4e9a-f93b-df8bc038235b"
      },
      "execution_count": 65,
      "outputs": [
        {
          "output_type": "execute_result",
          "data": {
            "text/plain": [
              "Text(0.5, 0, 'Количество тегов')"
            ]
          },
          "metadata": {},
          "execution_count": 65
        },
        {
          "output_type": "display_data",
          "data": {
            "image/png": "[encoded data removed]",
            "text/plain": [
              "<Figure size 432x288 with 1 Axes>"
            ]
          },
          "metadata": {
            "needs_background": "light"
          }
        }
      ]
    },
    {
      "cell_type": "code",
      "source": [
        ""
      ],
      "metadata": {
        "id": "B8ib_x-JuDyd"
      },
      "execution_count": null,
      "outputs": []
    }
  ]
}