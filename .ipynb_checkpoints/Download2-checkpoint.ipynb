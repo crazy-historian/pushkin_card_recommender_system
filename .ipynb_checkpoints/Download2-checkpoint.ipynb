{
 "cells": [
  {
   "cell_type": "code",
   "execution_count": 2,
   "id": "8a656ffd",
   "metadata": {},
   "outputs": [],
   "source": [
    "import pandas as pd\n",
    "import numpy as np"
   ]
  },
  {
   "cell_type": "code",
   "execution_count": 3,
   "id": "a1f1f437",
   "metadata": {},
   "outputs": [],
   "source": [
    "path = 'C:/Users/Rusla/Documents/GitHub/Пушкинская карта - стажировка/Sample/'"
   ]
  },
  {
   "cell_type": "code",
   "execution_count": 7,
   "id": "e1a991a1",
   "metadata": {},
   "outputs": [],
   "source": [
    "users = pd.read_csv(path + 'users_full.csv', sep=';', error_bad_lines=False)"
   ]
  },
  {
   "cell_type": "code",
   "execution_count": 9,
   "id": "23df5929",
   "metadata": {},
   "outputs": [
    {
     "data": {
      "text/html": [
       "<div>\n",
       "<style scoped>\n",
       "    .dataframe tbody tr th:only-of-type {\n",
       "        vertical-align: middle;\n",
       "    }\n",
       "\n",
       "    .dataframe tbody tr th {\n",
       "        vertical-align: top;\n",
       "    }\n",
       "\n",
       "    .dataframe thead th {\n",
       "        text-align: right;\n",
       "    }\n",
       "</style>\n",
       "<table border=\"1\" class=\"dataframe\">\n",
       "  <thead>\n",
       "    <tr style=\"text-align: right;\">\n",
       "      <th></th>\n",
       "      <th>create_date</th>\n",
       "      <th>user_phone_details</th>\n",
       "      <th>buyer_mobile_phone</th>\n",
       "      <th>user_id</th>\n",
       "      <th>user_birth</th>\n",
       "      <th>region</th>\n",
       "      <th>age</th>\n",
       "      <th>Region_number</th>\n",
       "    </tr>\n",
       "  </thead>\n",
       "  <tbody>\n",
       "    <tr>\n",
       "      <th>233232</th>\n",
       "      <td>2021-11-05</td>\n",
       "      <td>Android, 8.0.0 (SDK 26)</td>\n",
       "      <td>1ddcbff1470d633637b0627183226ce4</td>\n",
       "      <td>b5b632ae63fe1bc47ac6741bfaf2e06e</td>\n",
       "      <td>2002-09-23</td>\n",
       "      <td>Краснодарский край</td>\n",
       "      <td>19</td>\n",
       "      <td>23</td>\n",
       "    </tr>\n",
       "    <tr>\n",
       "      <th>192017</th>\n",
       "      <td>2021-11-04</td>\n",
       "      <td>Android, 8.1.0 (SDK 27)</td>\n",
       "      <td>1967e814a5d6e85d06606b3cad5c6169</td>\n",
       "      <td>15380714e3f92d4a66b5ccf48c2b0d79</td>\n",
       "      <td>2001-02-10</td>\n",
       "      <td>Республика Башкортостан</td>\n",
       "      <td>21</td>\n",
       "      <td>2</td>\n",
       "    </tr>\n",
       "    <tr>\n",
       "      <th>18452</th>\n",
       "      <td>2021-11-01</td>\n",
       "      <td>Android, 11 (SDK 30)</td>\n",
       "      <td>8f01e469018fe51eb31b0a2def2a2ab1</td>\n",
       "      <td>6c5706610ab2736f4edbc5dc219312d4</td>\n",
       "      <td>2007-06-12</td>\n",
       "      <td>Курская область</td>\n",
       "      <td>15</td>\n",
       "      <td>46</td>\n",
       "    </tr>\n",
       "  </tbody>\n",
       "</table>\n",
       "</div>"
      ],
      "text/plain": [
       "       create_date       user_phone_details                buyer_mobile_phone  \\\n",
       "233232  2021-11-05  Android, 8.0.0 (SDK 26)  1ddcbff1470d633637b0627183226ce4   \n",
       "192017  2021-11-04  Android, 8.1.0 (SDK 27)  1967e814a5d6e85d06606b3cad5c6169   \n",
       "18452   2021-11-01     Android, 11 (SDK 30)  8f01e469018fe51eb31b0a2def2a2ab1   \n",
       "\n",
       "                                 user_id  user_birth                   region  \\\n",
       "233232  b5b632ae63fe1bc47ac6741bfaf2e06e  2002-09-23       Краснодарский край   \n",
       "192017  15380714e3f92d4a66b5ccf48c2b0d79  2001-02-10  Республика Башкортостан   \n",
       "18452   6c5706610ab2736f4edbc5dc219312d4  2007-06-12          Курская область   \n",
       "\n",
       "        age  Region_number  \n",
       "233232   19             23  \n",
       "192017   21              2  \n",
       "18452    15             46  "
      ]
     },
     "execution_count": 9,
     "metadata": {},
     "output_type": "execute_result"
    }
   ],
   "source": [
    "users.sample(3)"
   ]
  },
  {
   "cell_type": "code",
   "execution_count": 11,
   "id": "c97854d4",
   "metadata": {},
   "outputs": [],
   "source": [
    "import json \n",
    "expl = [json.loads(line) for line in open(path + 'tickets2.json', 'r', encoding='utf-8', errors = 'ignore')]"
   ]
  },
  {
   "cell_type": "code",
   "execution_count": 12,
   "id": "f6249132",
   "metadata": {},
   "outputs": [],
   "source": [
    "tickets = pd.DataFrame(expl)"
   ]
  },
  {
   "cell_type": "code",
   "execution_count": 13,
   "id": "df98e55f",
   "metadata": {},
   "outputs": [
    {
     "data": {
      "text/html": [
       "<div>\n",
       "<style scoped>\n",
       "    .dataframe tbody tr th:only-of-type {\n",
       "        vertical-align: middle;\n",
       "    }\n",
       "\n",
       "    .dataframe tbody tr th {\n",
       "        vertical-align: top;\n",
       "    }\n",
       "\n",
       "    .dataframe thead th {\n",
       "        text-align: right;\n",
       "    }\n",
       "</style>\n",
       "<table border=\"1\" class=\"dataframe\">\n",
       "  <thead>\n",
       "    <tr style=\"text-align: right;\">\n",
       "      <th></th>\n",
       "      <th>payment_date</th>\n",
       "      <th>comment</th>\n",
       "      <th>session_event_id</th>\n",
       "      <th>session_date</th>\n",
       "      <th>session_params</th>\n",
       "      <th>owner</th>\n",
       "      <th>refund_date</th>\n",
       "      <th>buyer_mobile_phone</th>\n",
       "      <th>refund_reason</th>\n",
       "      <th>payment_amount</th>\n",
       "      <th>visitor_first_name</th>\n",
       "      <th>refund_ticket_price</th>\n",
       "      <th>create_date</th>\n",
       "      <th>status</th>\n",
       "      <th>payment_ticket_price</th>\n",
       "      <th>session_organization_id</th>\n",
       "      <th>visit_date</th>\n",
       "    </tr>\n",
       "  </thead>\n",
       "  <tbody>\n",
       "    <tr>\n",
       "      <th>43940</th>\n",
       "      <td>1637770505</td>\n",
       "      <td></td>\n",
       "      <td>1427184</td>\n",
       "      <td>1637771505</td>\n",
       "      <td></td>\n",
       "      <td>7814779935</td>\n",
       "      <td>NaN</td>\n",
       "      <td>dae4190eba265e5489faca889db0724a</td>\n",
       "      <td>None</td>\n",
       "      <td>500.00</td>\n",
       "      <td>Катарина</td>\n",
       "      <td>None</td>\n",
       "      <td>1637770506494749443</td>\n",
       "      <td>visited</td>\n",
       "      <td>500.00</td>\n",
       "      <td>28552</td>\n",
       "      <td>1.640689e+09</td>\n",
       "    </tr>\n",
       "    <tr>\n",
       "      <th>453002</th>\n",
       "      <td>1634418000000</td>\n",
       "      <td>refund</td>\n",
       "      <td>752238</td>\n",
       "      <td>1635454800000</td>\n",
       "      <td></td>\n",
       "      <td>7710944197</td>\n",
       "      <td>1.637273e+09</td>\n",
       "      <td>a29e09e61453dd4a978287f9786879b0</td>\n",
       "      <td>refund</td>\n",
       "      <td>350.0000</td>\n",
       "      <td>---</td>\n",
       "      <td></td>\n",
       "      <td>1634476280950410111</td>\n",
       "      <td>refunded</td>\n",
       "      <td>350.0000</td>\n",
       "      <td>---</td>\n",
       "      <td>NaN</td>\n",
       "    </tr>\n",
       "    <tr>\n",
       "      <th>120982</th>\n",
       "      <td>1637436355</td>\n",
       "      <td></td>\n",
       "      <td>1289505</td>\n",
       "      <td>1637442000</td>\n",
       "      <td></td>\n",
       "      <td>7810099978</td>\n",
       "      <td>NaN</td>\n",
       "      <td>cbadc8369598f26dce22e0943117744e</td>\n",
       "      <td>None</td>\n",
       "      <td>400</td>\n",
       "      <td></td>\n",
       "      <td>None</td>\n",
       "      <td>1637436379374655359</td>\n",
       "      <td>visited</td>\n",
       "      <td>400</td>\n",
       "      <td>3228</td>\n",
       "      <td>1.637502e+09</td>\n",
       "    </tr>\n",
       "  </tbody>\n",
       "</table>\n",
       "</div>"
      ],
      "text/plain": [
       "         payment_date comment session_event_id   session_date session_params  \\\n",
       "43940      1637770505                  1427184     1637771505                  \n",
       "453002  1634418000000  refund           752238  1635454800000                  \n",
       "120982     1637436355                  1289505     1637442000                  \n",
       "\n",
       "             owner   refund_date                buyer_mobile_phone  \\\n",
       "43940   7814779935           NaN  dae4190eba265e5489faca889db0724a   \n",
       "453002  7710944197  1.637273e+09  a29e09e61453dd4a978287f9786879b0   \n",
       "120982  7810099978           NaN  cbadc8369598f26dce22e0943117744e   \n",
       "\n",
       "       refund_reason payment_amount visitor_first_name refund_ticket_price  \\\n",
       "43940           None         500.00           Катарина                None   \n",
       "453002        refund       350.0000                ---                       \n",
       "120982          None            400                                   None   \n",
       "\n",
       "                create_date    status payment_ticket_price  \\\n",
       "43940   1637770506494749443   visited               500.00   \n",
       "453002  1634476280950410111  refunded             350.0000   \n",
       "120982  1637436379374655359   visited                  400   \n",
       "\n",
       "       session_organization_id    visit_date  \n",
       "43940                    28552  1.640689e+09  \n",
       "453002                     ---           NaN  \n",
       "120982                    3228  1.637502e+09  "
      ]
     },
     "execution_count": 13,
     "metadata": {},
     "output_type": "execute_result"
    }
   ],
   "source": [
    "tickets.sample(3)"
   ]
  },
  {
   "cell_type": "code",
   "execution_count": 15,
   "id": "03b6b693",
   "metadata": {},
   "outputs": [
    {
     "data": {
      "text/plain": [
       "11791"
      ]
     },
     "execution_count": 15,
     "metadata": {},
     "output_type": "execute_result"
    }
   ],
   "source": [
    "tickets.visitor_first_name.nunique()"
   ]
  },
  {
   "cell_type": "code",
   "execution_count": 16,
   "id": "6e1463e2",
   "metadata": {},
   "outputs": [],
   "source": [
    "path2 = 'C:/Users/Rusla/Documents/GitHub/Пушкинская карта - стажировка/Sample/events/'"
   ]
  },
  {
   "cell_type": "code",
   "execution_count": 18,
   "id": "f4f2b802",
   "metadata": {},
   "outputs": [],
   "source": [
    "events = pd.read_csv(path2 + 'events.csv', sep = ';', error_bad_lines=False)"
   ]
  },
  {
   "cell_type": "code",
   "execution_count": 19,
   "id": "3b64701a",
   "metadata": {},
   "outputs": [
    {
     "data": {
      "text/html": [
       "<div>\n",
       "<style scoped>\n",
       "    .dataframe tbody tr th:only-of-type {\n",
       "        vertical-align: middle;\n",
       "    }\n",
       "\n",
       "    .dataframe tbody tr th {\n",
       "        vertical-align: top;\n",
       "    }\n",
       "\n",
       "    .dataframe thead th {\n",
       "        text-align: right;\n",
       "    }\n",
       "</style>\n",
       "<table border=\"1\" class=\"dataframe\">\n",
       "  <thead>\n",
       "    <tr style=\"text-align: right;\">\n",
       "      <th></th>\n",
       "      <th>ID</th>\n",
       "      <th>Название события</th>\n",
       "      <th>Организатор мероприятия</th>\n",
       "      <th>Ссылка на покупку билета</th>\n",
       "      <th>Дополнительная ссылка на покупку билета</th>\n",
       "    </tr>\n",
       "  </thead>\n",
       "  <tbody>\n",
       "    <tr>\n",
       "      <th>13526</th>\n",
       "      <td>1290552</td>\n",
       "      <td>Концерт O sole mio</td>\n",
       "      <td>ГБУК г. Москвы «ДК «Дружба»</td>\n",
       "      <td>https://iframeab-pre2620.intickets.ru/seance/1...</td>\n",
       "      <td>NaN</td>\n",
       "    </tr>\n",
       "    <tr>\n",
       "      <th>25409</th>\n",
       "      <td>1407159</td>\n",
       "      <td>Спектакль «Кто будет считать звезды...»</td>\n",
       "      <td>ГБУК «Самарский театр юного зрителя «СамАрт»</td>\n",
       "      <td>https://lk.zakaz.cloud/b/2/79</td>\n",
       "      <td>https://lk.zakaz.cloud/b/2/80, https://lk.zaka...</td>\n",
       "    </tr>\n",
       "    <tr>\n",
       "      <th>10041</th>\n",
       "      <td>1264927</td>\n",
       "      <td>Концерт «Как песня родилась»</td>\n",
       "      <td>ОБУК «Курская областная государственная филарм...</td>\n",
       "      <td>https://kursk.kassy.ru/events/koncerty-i-shou/...</td>\n",
       "      <td>NaN</td>\n",
       "    </tr>\n",
       "  </tbody>\n",
       "</table>\n",
       "</div>"
      ],
      "text/plain": [
       "            ID                         Название события  \\\n",
       "13526  1290552                       Концерт O sole mio   \n",
       "25409  1407159  Спектакль «Кто будет считать звезды...»   \n",
       "10041  1264927             Концерт «Как песня родилась»   \n",
       "\n",
       "                                 Организатор мероприятия  \\\n",
       "13526                        ГБУК г. Москвы «ДК «Дружба»   \n",
       "25409       ГБУК «Самарский театр юного зрителя «СамАрт»   \n",
       "10041  ОБУК «Курская областная государственная филарм...   \n",
       "\n",
       "                                Ссылка на покупку билета  \\\n",
       "13526  https://iframeab-pre2620.intickets.ru/seance/1...   \n",
       "25409                      https://lk.zakaz.cloud/b/2/79   \n",
       "10041  https://kursk.kassy.ru/events/koncerty-i-shou/...   \n",
       "\n",
       "                 Дополнительная ссылка на покупку билета  \n",
       "13526                                                NaN  \n",
       "25409  https://lk.zakaz.cloud/b/2/80, https://lk.zaka...  \n",
       "10041                                                NaN  "
      ]
     },
     "execution_count": 19,
     "metadata": {},
     "output_type": "execute_result"
    }
   ],
   "source": [
    "events.sample(3)"
   ]
  },
  {
   "cell_type": "code",
   "execution_count": 22,
   "id": "9860cd32",
   "metadata": {},
   "outputs": [
    {
     "data": {
      "text/html": [
       "<div>\n",
       "<style scoped>\n",
       "    .dataframe tbody tr th:only-of-type {\n",
       "        vertical-align: middle;\n",
       "    }\n",
       "\n",
       "    .dataframe tbody tr th {\n",
       "        vertical-align: top;\n",
       "    }\n",
       "\n",
       "    .dataframe thead th {\n",
       "        text-align: right;\n",
       "    }\n",
       "</style>\n",
       "<table border=\"1\" class=\"dataframe\">\n",
       "  <thead>\n",
       "    <tr style=\"text-align: right;\">\n",
       "      <th></th>\n",
       "      <th>ID</th>\n",
       "      <th>Название события</th>\n",
       "      <th>Организатор мероприятия</th>\n",
       "      <th>Ссылка на покупку билета</th>\n",
       "      <th>Дополнительная ссылка на покупку билета</th>\n",
       "    </tr>\n",
       "  </thead>\n",
       "  <tbody>\n",
       "    <tr>\n",
       "      <th>13372</th>\n",
       "      <td>1289505</td>\n",
       "      <td>Экспозиции в Петропавловской крепости</td>\n",
       "      <td>Государственный музей истории Санкт-Петербурга</td>\n",
       "      <td>https://spbmuseum.tncloud.ru/event/8AA8E84D96E...</td>\n",
       "      <td>NaN</td>\n",
       "    </tr>\n",
       "  </tbody>\n",
       "</table>\n",
       "</div>"
      ],
      "text/plain": [
       "            ID                       Название события  \\\n",
       "13372  1289505  Экспозиции в Петропавловской крепости   \n",
       "\n",
       "                              Организатор мероприятия  \\\n",
       "13372  Государственный музей истории Санкт-Петербурга   \n",
       "\n",
       "                                Ссылка на покупку билета  \\\n",
       "13372  https://spbmuseum.tncloud.ru/event/8AA8E84D96E...   \n",
       "\n",
       "      Дополнительная ссылка на покупку билета  \n",
       "13372                                     NaN  "
      ]
     },
     "execution_count": 22,
     "metadata": {},
     "output_type": "execute_result"
    }
   ],
   "source": [
    "events[events['ID'] == 1289505]"
   ]
  },
  {
   "cell_type": "code",
   "execution_count": 28,
   "id": "ceeccb4e",
   "metadata": {},
   "outputs": [
    {
     "name": "stdout",
     "output_type": "stream",
     "text": [
      "<class 'pandas.core.frame.DataFrame'>\n",
      "RangeIndex: 854291 entries, 0 to 854290\n",
      "Data columns (total 17 columns):\n",
      " #   Column                   Non-Null Count   Dtype  \n",
      "---  ------                   --------------   -----  \n",
      " 0   payment_date             854291 non-null  int64  \n",
      " 1   comment                  854291 non-null  object \n",
      " 2   session_event_id         854291 non-null  object \n",
      " 3   session_date             854291 non-null  int64  \n",
      " 4   session_params           854291 non-null  object \n",
      " 5   owner                    854291 non-null  object \n",
      " 6   refund_date              25115 non-null   float64\n",
      " 7   buyer_mobile_phone       854291 non-null  object \n",
      " 8   refund_reason            25115 non-null   object \n",
      " 9   payment_amount           854291 non-null  object \n",
      " 10  visitor_first_name       854291 non-null  object \n",
      " 11  refund_ticket_price      24407 non-null   object \n",
      " 12  create_date              854291 non-null  int64  \n",
      " 13  status                   854291 non-null  object \n",
      " 14  payment_ticket_price     854291 non-null  object \n",
      " 15  session_organization_id  854291 non-null  object \n",
      " 16  visit_date               393830 non-null  float64\n",
      "dtypes: float64(2), int64(3), object(12)\n",
      "memory usage: 110.8+ MB\n"
     ]
    }
   ],
   "source": [
    "tickets.info()"
   ]
  },
  {
   "cell_type": "code",
   "execution_count": 30,
   "id": "cbcaadc8",
   "metadata": {},
   "outputs": [],
   "source": [
    "events_pushka_accepted_30122021 = pd.read_csv(path2 + 'events_pushka_accepted_30122021.csv', sep = ','\n",
    "                                              , error_bad_lines=False)"
   ]
  },
  {
   "cell_type": "code",
   "execution_count": 31,
   "id": "cc05da79",
   "metadata": {},
   "outputs": [
    {
     "name": "stdout",
     "output_type": "stream",
     "text": [
      "<class 'pandas.core.frame.DataFrame'>\n",
      "RangeIndex: 47856 entries, 0 to 47855\n",
      "Data columns (total 6 columns):\n",
      " #   Column                        Non-Null Count  Dtype  \n",
      "---  ------                        --------------  -----  \n",
      " 0   entity._id                    47856 non-null  int64  \n",
      " 1   entity.name                   47220 non-null  object \n",
      " 2   entity.saleLink               47218 non-null  object \n",
      " 3   entity.additionalSaleLinks.0  4636 non-null   object \n",
      " 4   entity.organization._id       47220 non-null  float64\n",
      " 5   entity.organization.name      47220 non-null  object \n",
      "dtypes: float64(1), int64(1), object(4)\n",
      "memory usage: 2.2+ MB\n"
     ]
    }
   ],
   "source": [
    "events_pushka_accepted_30122021.info()"
   ]
  },
  {
   "cell_type": "code",
   "execution_count": 32,
   "id": "b7563d38",
   "metadata": {
    "scrolled": true
   },
   "outputs": [
    {
     "name": "stdout",
     "output_type": "stream",
     "text": [
      "<class 'pandas.core.frame.DataFrame'>\n",
      "RangeIndex: 42154 entries, 0 to 42153\n",
      "Data columns (total 5 columns):\n",
      " #   Column                                   Non-Null Count  Dtype \n",
      "---  ------                                   --------------  ----- \n",
      " 0   ID                                       42154 non-null  int64 \n",
      " 1   Название события                         42154 non-null  object\n",
      " 2   Организатор мероприятия                  42154 non-null  object\n",
      " 3   Ссылка на покупку билета                 42151 non-null  object\n",
      " 4   Дополнительная ссылка на покупку билета  3817 non-null   object\n",
      "dtypes: int64(1), object(4)\n",
      "memory usage: 1.6+ MB\n"
     ]
    }
   ],
   "source": [
    "events.info()"
   ]
  },
  {
   "cell_type": "code",
   "execution_count": 37,
   "id": "e0479d57",
   "metadata": {},
   "outputs": [],
   "source": [
    "events_2 = events_pushka_accepted_30122021.copy()"
   ]
  },
  {
   "cell_type": "code",
   "execution_count": 38,
   "id": "b616c7fd",
   "metadata": {},
   "outputs": [],
   "source": [
    "events_2.drop(['entity.organization._id'], axis = 1, inplace = True)"
   ]
  },
  {
   "cell_type": "code",
   "execution_count": 39,
   "id": "c0e00d08",
   "metadata": {},
   "outputs": [],
   "source": [
    "events_2 = events_2.rename(\n",
    "    columns= {'entity._id': 'ID', 'entity.name': 'Название события', \n",
    "              'entity.saleLink': 'Ссылка на покупку билета', \n",
    "              'entity.additionalSaleLinks.0': 'Дополнительная ссылка на покупку билета',\n",
    "             'entity.organization.name': 'Организатор мероприятия'}) "
   ]
  },
  {
   "cell_type": "code",
   "execution_count": 40,
   "id": "1e4112ee",
   "metadata": {},
   "outputs": [
    {
     "name": "stdout",
     "output_type": "stream",
     "text": [
      "<class 'pandas.core.frame.DataFrame'>\n",
      "RangeIndex: 47856 entries, 0 to 47855\n",
      "Data columns (total 5 columns):\n",
      " #   Column                                   Non-Null Count  Dtype \n",
      "---  ------                                   --------------  ----- \n",
      " 0   ID                                       47856 non-null  int64 \n",
      " 1   Название события                         47220 non-null  object\n",
      " 2   Ссылка на покупку билета                 47218 non-null  object\n",
      " 3   Дополнительная ссылка на покупку билета  4636 non-null   object\n",
      " 4   Организатор мероприятия                  47220 non-null  object\n",
      "dtypes: int64(1), object(4)\n",
      "memory usage: 1.8+ MB\n"
     ]
    }
   ],
   "source": [
    "events_2.info()"
   ]
  },
  {
   "cell_type": "code",
   "execution_count": 41,
   "id": "24935408",
   "metadata": {},
   "outputs": [],
   "source": [
    "events_all = pd.concat([events, events_2])"
   ]
  },
  {
   "cell_type": "code",
   "execution_count": 42,
   "id": "03294a9e",
   "metadata": {},
   "outputs": [
    {
     "name": "stdout",
     "output_type": "stream",
     "text": [
      "<class 'pandas.core.frame.DataFrame'>\n",
      "Int64Index: 90010 entries, 0 to 47855\n",
      "Data columns (total 5 columns):\n",
      " #   Column                                   Non-Null Count  Dtype \n",
      "---  ------                                   --------------  ----- \n",
      " 0   ID                                       90010 non-null  int64 \n",
      " 1   Название события                         89374 non-null  object\n",
      " 2   Организатор мероприятия                  89374 non-null  object\n",
      " 3   Ссылка на покупку билета                 89369 non-null  object\n",
      " 4   Дополнительная ссылка на покупку билета  8453 non-null   object\n",
      "dtypes: int64(1), object(4)\n",
      "memory usage: 4.1+ MB\n"
     ]
    }
   ],
   "source": [
    "events_all.info()"
   ]
  },
  {
   "cell_type": "code",
   "execution_count": 43,
   "id": "c2ccb8df",
   "metadata": {
    "scrolled": true
   },
   "outputs": [
    {
     "data": {
      "text/plain": [
       "array(['Спектакль «Касатка»', 'Спектакль «Гамлет»',\n",
       "       'Спектакль «Горе от ума»', ..., 'Акция «День Викинга»',\n",
       "       'Спектакль «Отворяя сердце настежь»',\n",
       "       'Концерт в рамках фестиваля «Звезды НСО РБ»'], dtype=object)"
      ]
     },
     "execution_count": 43,
     "metadata": {},
     "output_type": "execute_result"
    }
   ],
   "source": [
    "events_all['Название события'].unique()"
   ]
  },
  {
   "cell_type": "code",
   "execution_count": 44,
   "id": "f32a7936",
   "metadata": {},
   "outputs": [
    {
     "data": {
      "text/html": [
       "<div>\n",
       "<style scoped>\n",
       "    .dataframe tbody tr th:only-of-type {\n",
       "        vertical-align: middle;\n",
       "    }\n",
       "\n",
       "    .dataframe tbody tr th {\n",
       "        vertical-align: top;\n",
       "    }\n",
       "\n",
       "    .dataframe thead th {\n",
       "        text-align: right;\n",
       "    }\n",
       "</style>\n",
       "<table border=\"1\" class=\"dataframe\">\n",
       "  <thead>\n",
       "    <tr style=\"text-align: right;\">\n",
       "      <th></th>\n",
       "      <th>ID</th>\n",
       "      <th>Название события</th>\n",
       "      <th>Организатор мероприятия</th>\n",
       "      <th>Ссылка на покупку билета</th>\n",
       "      <th>Дополнительная ссылка на покупку билета</th>\n",
       "    </tr>\n",
       "  </thead>\n",
       "  <tbody>\n",
       "    <tr>\n",
       "      <th>18629</th>\n",
       "      <td>1269895</td>\n",
       "      <td>Концерт «Все оттенки русской песни»</td>\n",
       "      <td>Московский Фольклорный Культурный Центр под ру...</td>\n",
       "      <td>https://iframeab-pre0380.intickets.ru/seance/1...</td>\n",
       "      <td>NaN</td>\n",
       "    </tr>\n",
       "  </tbody>\n",
       "</table>\n",
       "</div>"
      ],
      "text/plain": [
       "            ID                     Название события  \\\n",
       "18629  1269895  Концерт «Все оттенки русской песни»   \n",
       "\n",
       "                                 Организатор мероприятия  \\\n",
       "18629  Московский Фольклорный Культурный Центр под ру...   \n",
       "\n",
       "                                Ссылка на покупку билета  \\\n",
       "18629  https://iframeab-pre0380.intickets.ru/seance/1...   \n",
       "\n",
       "      Дополнительная ссылка на покупку билета  \n",
       "18629                                     NaN  "
      ]
     },
     "execution_count": 44,
     "metadata": {},
     "output_type": "execute_result"
    }
   ],
   "source": [
    "events_all.sample()"
   ]
  },
  {
   "cell_type": "code",
   "execution_count": 55,
   "id": "79bf186d",
   "metadata": {},
   "outputs": [],
   "source": [
    "events_all = events_all[events_all['Название события'].notna()]"
   ]
  },
  {
   "cell_type": "code",
   "execution_count": 56,
   "id": "825b6b06",
   "metadata": {},
   "outputs": [],
   "source": [
    "#создаю столбуц \"Событие\" куда соберу названия событий, такие как Спектакль, Балет и т.п. из первых слов Названия события\n",
    "events_all['Событие'] = events_all['Название события'].apply(lambda x: x.split()[0].strip())"
   ]
  },
  {
   "cell_type": "code",
   "execution_count": 57,
   "id": "c5c59784",
   "metadata": {},
   "outputs": [
    {
     "data": {
      "text/html": [
       "<div>\n",
       "<style scoped>\n",
       "    .dataframe tbody tr th:only-of-type {\n",
       "        vertical-align: middle;\n",
       "    }\n",
       "\n",
       "    .dataframe tbody tr th {\n",
       "        vertical-align: top;\n",
       "    }\n",
       "\n",
       "    .dataframe thead th {\n",
       "        text-align: right;\n",
       "    }\n",
       "</style>\n",
       "<table border=\"1\" class=\"dataframe\">\n",
       "  <thead>\n",
       "    <tr style=\"text-align: right;\">\n",
       "      <th></th>\n",
       "      <th>ID</th>\n",
       "      <th>Название события</th>\n",
       "      <th>Организатор мероприятия</th>\n",
       "      <th>Ссылка на покупку билета</th>\n",
       "      <th>Дополнительная ссылка на покупку билета</th>\n",
       "      <th>Событие</th>\n",
       "    </tr>\n",
       "  </thead>\n",
       "  <tbody>\n",
       "    <tr>\n",
       "      <th>23284</th>\n",
       "      <td>1287079</td>\n",
       "      <td>Спектакль «Это я тебе ухо откусила»</td>\n",
       "      <td>КОГАУК «Театр на Спасской»</td>\n",
       "      <td>https://ekvus-kirov.ru/afisha/show/224</td>\n",
       "      <td>NaN</td>\n",
       "      <td>Спектакль</td>\n",
       "    </tr>\n",
       "    <tr>\n",
       "      <th>17729</th>\n",
       "      <td>1329590</td>\n",
       "      <td>Оперный гала-концерт</td>\n",
       "      <td>Общество с ограниченной ответственностью «Рекс...</td>\n",
       "      <td>https://xn--80ajkahlddfeberepc7c0b4lh.xn--p1ai...</td>\n",
       "      <td>NaN</td>\n",
       "      <td>Оперный</td>\n",
       "    </tr>\n",
       "    <tr>\n",
       "      <th>5972</th>\n",
       "      <td>940056</td>\n",
       "      <td>Интерактивный театр «Мы играем и поем»</td>\n",
       "      <td>Северский музыкальный театр</td>\n",
       "      <td>https://smteatr.ru/kupit-bilet.html#/buy/311</td>\n",
       "      <td>NaN</td>\n",
       "      <td>Интерактивный</td>\n",
       "    </tr>\n",
       "  </tbody>\n",
       "</table>\n",
       "</div>"
      ],
      "text/plain": [
       "            ID                        Название события  \\\n",
       "23284  1287079     Спектакль «Это я тебе ухо откусила»   \n",
       "17729  1329590                    Оперный гала-концерт   \n",
       "5972    940056  Интерактивный театр «Мы играем и поем»   \n",
       "\n",
       "                                 Организатор мероприятия  \\\n",
       "23284                         КОГАУК «Театр на Спасской»   \n",
       "17729  Общество с ограниченной ответственностью «Рекс...   \n",
       "5972                         Северский музыкальный театр   \n",
       "\n",
       "                                Ссылка на покупку билета  \\\n",
       "23284             https://ekvus-kirov.ru/afisha/show/224   \n",
       "17729  https://xn--80ajkahlddfeberepc7c0b4lh.xn--p1ai...   \n",
       "5972        https://smteatr.ru/kupit-bilet.html#/buy/311   \n",
       "\n",
       "      Дополнительная ссылка на покупку билета        Событие  \n",
       "23284                                     NaN      Спектакль  \n",
       "17729                                     NaN        Оперный  \n",
       "5972                                      NaN  Интерактивный  "
      ]
     },
     "execution_count": 57,
     "metadata": {},
     "output_type": "execute_result"
    }
   ],
   "source": [
    "events_all.sample(3)"
   ]
  },
  {
   "cell_type": "code",
   "execution_count": 58,
   "id": "32348591",
   "metadata": {},
   "outputs": [
    {
     "data": {
      "text/plain": [
       "array(['Спектакль', 'Балет', 'Опера', ..., 'Хлебзавод',\n",
       "       'Трамвайно-пешеходная', '«Афганистан'], dtype=object)"
      ]
     },
     "execution_count": 58,
     "metadata": {},
     "output_type": "execute_result"
    }
   ],
   "source": [
    "events_all['Событие'].unique() #есть странные названия, посмотрим повнимательнее что у нас получилось"
   ]
  },
  {
   "cell_type": "code",
   "execution_count": 73,
   "id": "3c83275b",
   "metadata": {},
   "outputs": [
    {
     "data": {
      "text/plain": [
       "Спектакль                31808\n",
       "Концерт                  15796\n",
       "Выставка                  5569\n",
       "Экскурсия                 5057\n",
       "Мастер-класс              4239\n",
       "                         ...  \n",
       "«Солдатская                  1\n",
       "«Танцы,                      1\n",
       "Беломорско-Балтийский        1\n",
       "Северная                     1\n",
       "«ВАЛЬС-КОНЦЕРТ»              1\n",
       "Name: Событие, Length: 2095, dtype: int64"
      ]
     },
     "execution_count": 73,
     "metadata": {},
     "output_type": "execute_result"
    }
   ],
   "source": [
    "events_all['Событие'].value_counts()"
   ]
  },
  {
   "cell_type": "code",
   "execution_count": 74,
   "id": "a4e3f3fb",
   "metadata": {},
   "outputs": [
    {
     "data": {
      "text/html": [
       "<div>\n",
       "<style scoped>\n",
       "    .dataframe tbody tr th:only-of-type {\n",
       "        vertical-align: middle;\n",
       "    }\n",
       "\n",
       "    .dataframe tbody tr th {\n",
       "        vertical-align: top;\n",
       "    }\n",
       "\n",
       "    .dataframe thead th {\n",
       "        text-align: right;\n",
       "    }\n",
       "</style>\n",
       "<table border=\"1\" class=\"dataframe\">\n",
       "  <thead>\n",
       "    <tr style=\"text-align: right;\">\n",
       "      <th></th>\n",
       "      <th>ID</th>\n",
       "      <th>Название события</th>\n",
       "      <th>Организатор мероприятия</th>\n",
       "      <th>Ссылка на покупку билета</th>\n",
       "      <th>Дополнительная ссылка на покупку билета</th>\n",
       "      <th>Событие</th>\n",
       "    </tr>\n",
       "  </thead>\n",
       "  <tbody>\n",
       "    <tr>\n",
       "      <th>24804</th>\n",
       "      <td>1400515</td>\n",
       "      <td>«ВАЛЬС-КОНЦЕРТ» в рамках Всероссийской акции «...</td>\n",
       "      <td>ГАУК АО «Астраханская государственная филармония»</td>\n",
       "      <td>https://astr.kassir.ru/teatr/astrahanskaya-fil...</td>\n",
       "      <td>NaN</td>\n",
       "      <td>«ВАЛЬС-КОНЦЕРТ»</td>\n",
       "    </tr>\n",
       "  </tbody>\n",
       "</table>\n",
       "</div>"
      ],
      "text/plain": [
       "            ID                                   Название события  \\\n",
       "24804  1400515  «ВАЛЬС-КОНЦЕРТ» в рамках Всероссийской акции «...   \n",
       "\n",
       "                                 Организатор мероприятия  \\\n",
       "24804  ГАУК АО «Астраханская государственная филармония»   \n",
       "\n",
       "                                Ссылка на покупку билета  \\\n",
       "24804  https://astr.kassir.ru/teatr/astrahanskaya-fil...   \n",
       "\n",
       "      Дополнительная ссылка на покупку билета          Событие  \n",
       "24804                                     NaN  «ВАЛЬС-КОНЦЕРТ»  "
      ]
     },
     "execution_count": 74,
     "metadata": {},
     "output_type": "execute_result"
    }
   ],
   "source": [
    "events_all[events_all['Событие'] == '«ВАЛЬС-КОНЦЕРТ»']"
   ]
  },
  {
   "cell_type": "code",
   "execution_count": null,
   "id": "a2bd08bf",
   "metadata": {},
   "outputs": [],
   "source": []
  }
 ],
 "metadata": {
  "kernelspec": {
   "display_name": "Python 3 (ipykernel)",
   "language": "python",
   "name": "python3"
  },
  "language_info": {
   "codemirror_mode": {
    "name": "ipython",
    "version": 3
   },
   "file_extension": ".py",
   "mimetype": "text/x-python",
   "name": "python",
   "nbconvert_exporter": "python",
   "pygments_lexer": "ipython3",
   "version": "3.8.11"
  }
 },
 "nbformat": 4,
 "nbformat_minor": 5
}
