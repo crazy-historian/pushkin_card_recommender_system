{
 "cells": [
  {
   "cell_type": "code",
   "execution_count": 1,
   "id": "69c6caf5",
   "metadata": {},
   "outputs": [],
   "source": [
    "import pandas as pd\n",
    "import numpy as np\n",
    "import math\n",
    "\n",
    "from tqdm.notebook import tqdm\n",
    "import time"
   ]
  },
  {
   "cell_type": "code",
   "execution_count": 2,
   "id": "c002ca62",
   "metadata": {},
   "outputs": [],
   "source": [
    "path = 'C:/Users/Rusla/Documents/GitHub/Пушкинская карта - стажировка/Sample/'"
   ]
  },
  {
   "cell_type": "code",
   "execution_count": 3,
   "id": "0b95cfc3",
   "metadata": {},
   "outputs": [],
   "source": [
    "users = pd.read_csv(path + 'users_full.csv', sep=';', error_bad_lines=False)"
   ]
  },
  {
   "cell_type": "code",
   "execution_count": 4,
   "id": "00078877",
   "metadata": {},
   "outputs": [
    {
     "name": "stdout",
     "output_type": "stream",
     "text": [
      "<class 'pandas.core.frame.DataFrame'>\n",
      "RangeIndex: 2879681 entries, 0 to 2879680\n",
      "Data columns (total 9 columns):\n",
      " #   Column              Dtype  \n",
      "---  ------              -----  \n",
      " 0   create_date         int64  \n",
      " 1   user_id             object \n",
      " 2   user_birth          object \n",
      " 3   create_date.1       object \n",
      " 4   user_phone_details  object \n",
      " 5   buyer_mobile_phone  object \n",
      " 6   region              object \n",
      " 7   age                 int64  \n",
      " 8   user_region         float64\n",
      "dtypes: float64(1), int64(2), object(6)\n",
      "memory usage: 197.7+ MB\n"
     ]
    }
   ],
   "source": [
    "users.info()"
   ]
  },
  {
   "cell_type": "code",
   "execution_count": 5,
   "id": "fa267db4",
   "metadata": {
    "scrolled": true
   },
   "outputs": [
    {
     "data": {
      "text/html": [
       "<div>\n",
       "<style scoped>\n",
       "    .dataframe tbody tr th:only-of-type {\n",
       "        vertical-align: middle;\n",
       "    }\n",
       "\n",
       "    .dataframe tbody tr th {\n",
       "        vertical-align: top;\n",
       "    }\n",
       "\n",
       "    .dataframe thead th {\n",
       "        text-align: right;\n",
       "    }\n",
       "</style>\n",
       "<table border=\"1\" class=\"dataframe\">\n",
       "  <thead>\n",
       "    <tr style=\"text-align: right;\">\n",
       "      <th></th>\n",
       "      <th>create_date</th>\n",
       "      <th>user_id</th>\n",
       "      <th>user_birth</th>\n",
       "      <th>create_date.1</th>\n",
       "      <th>user_phone_details</th>\n",
       "      <th>buyer_mobile_phone</th>\n",
       "      <th>region</th>\n",
       "      <th>age</th>\n",
       "      <th>user_region</th>\n",
       "    </tr>\n",
       "  </thead>\n",
       "  <tbody>\n",
       "    <tr>\n",
       "      <th>54576</th>\n",
       "      <td>1635352133</td>\n",
       "      <td>488ed8e6e6e56d4455123f462d2e779a</td>\n",
       "      <td>2005-01-30</td>\n",
       "      <td>2021-11-15</td>\n",
       "      <td>Android, 11 (SDK 30)</td>\n",
       "      <td>9ff9fb9984193ec9712d146c7e2a9535</td>\n",
       "      <td>NaN</td>\n",
       "      <td>17</td>\n",
       "      <td>NaN</td>\n",
       "    </tr>\n",
       "    <tr>\n",
       "      <th>16918</th>\n",
       "      <td>1635667940</td>\n",
       "      <td>3bed1820cb675773722626dbf57e076d</td>\n",
       "      <td>2002-10-12</td>\n",
       "      <td>2021-11-20</td>\n",
       "      <td>Android, 11 (SDK 30)</td>\n",
       "      <td>046123c30e48f41aac2ba168a985e39b</td>\n",
       "      <td>NaN</td>\n",
       "      <td>19</td>\n",
       "      <td>NaN</td>\n",
       "    </tr>\n",
       "    <tr>\n",
       "      <th>1419752</th>\n",
       "      <td>1630751350</td>\n",
       "      <td>6b380e057bab546e0d416a629413f7b6</td>\n",
       "      <td>2003-11-15</td>\n",
       "      <td>2021-11-19</td>\n",
       "      <td>Android, 8.0.0 (SDK 26)</td>\n",
       "      <td>d69f94b72d72c18ebcf30852d6f14211</td>\n",
       "      <td>Пермский край</td>\n",
       "      <td>18</td>\n",
       "      <td>59.0</td>\n",
       "    </tr>\n",
       "  </tbody>\n",
       "</table>\n",
       "</div>"
      ],
      "text/plain": [
       "         create_date                           user_id  user_birth  \\\n",
       "54576     1635352133  488ed8e6e6e56d4455123f462d2e779a  2005-01-30   \n",
       "16918     1635667940  3bed1820cb675773722626dbf57e076d  2002-10-12   \n",
       "1419752   1630751350  6b380e057bab546e0d416a629413f7b6  2003-11-15   \n",
       "\n",
       "        create_date.1       user_phone_details  \\\n",
       "54576      2021-11-15     Android, 11 (SDK 30)   \n",
       "16918      2021-11-20     Android, 11 (SDK 30)   \n",
       "1419752    2021-11-19  Android, 8.0.0 (SDK 26)   \n",
       "\n",
       "                       buyer_mobile_phone         region  age  user_region  \n",
       "54576    9ff9fb9984193ec9712d146c7e2a9535            NaN   17          NaN  \n",
       "16918    046123c30e48f41aac2ba168a985e39b            NaN   19          NaN  \n",
       "1419752  d69f94b72d72c18ebcf30852d6f14211  Пермский край   18         59.0  "
      ]
     },
     "execution_count": 5,
     "metadata": {},
     "output_type": "execute_result"
    }
   ],
   "source": [
    "users.sample(3)"
   ]
  },
  {
   "cell_type": "code",
   "execution_count": 6,
   "id": "9f034006",
   "metadata": {},
   "outputs": [],
   "source": [
    "users = users.astype({\"age\": \"object\", \"user_region\": \"object\"})"
   ]
  },
  {
   "cell_type": "code",
   "execution_count": 7,
   "id": "1179d30c",
   "metadata": {},
   "outputs": [],
   "source": [
    "import json \n",
    "expl = [json.loads(line) for line in open(path + 'tickets2.json', 'r', encoding='utf-8', errors = 'ignore')]"
   ]
  },
  {
   "cell_type": "code",
   "execution_count": 8,
   "id": "4e298a5a",
   "metadata": {},
   "outputs": [],
   "source": [
    "tickets = pd.DataFrame(expl)"
   ]
  },
  {
   "cell_type": "code",
   "execution_count": 9,
   "id": "ec6db8fd",
   "metadata": {
    "scrolled": true
   },
   "outputs": [
    {
     "data": {
      "text/html": [
       "<div>\n",
       "<style scoped>\n",
       "    .dataframe tbody tr th:only-of-type {\n",
       "        vertical-align: middle;\n",
       "    }\n",
       "\n",
       "    .dataframe tbody tr th {\n",
       "        vertical-align: top;\n",
       "    }\n",
       "\n",
       "    .dataframe thead th {\n",
       "        text-align: right;\n",
       "    }\n",
       "</style>\n",
       "<table border=\"1\" class=\"dataframe\">\n",
       "  <thead>\n",
       "    <tr style=\"text-align: right;\">\n",
       "      <th></th>\n",
       "      <th>payment_date</th>\n",
       "      <th>comment</th>\n",
       "      <th>session_event_id</th>\n",
       "      <th>session_date</th>\n",
       "      <th>session_params</th>\n",
       "      <th>owner</th>\n",
       "      <th>refund_date</th>\n",
       "      <th>buyer_mobile_phone</th>\n",
       "      <th>refund_reason</th>\n",
       "      <th>payment_amount</th>\n",
       "      <th>visitor_first_name</th>\n",
       "      <th>refund_ticket_price</th>\n",
       "      <th>create_date</th>\n",
       "      <th>status</th>\n",
       "      <th>payment_ticket_price</th>\n",
       "      <th>session_organization_id</th>\n",
       "      <th>visit_date</th>\n",
       "    </tr>\n",
       "  </thead>\n",
       "  <tbody>\n",
       "    <tr>\n",
       "      <th>185109</th>\n",
       "      <td>1636874403000</td>\n",
       "      <td></td>\n",
       "      <td>1265080</td>\n",
       "      <td>1638108000000</td>\n",
       "      <td>Центр Эрмитаж-Урал</td>\n",
       "      <td>9705121040</td>\n",
       "      <td>NaN</td>\n",
       "      <td>8be0e9312fcae3d5225b5c9f5b171483</td>\n",
       "      <td>None</td>\n",
       "      <td>RUB 300.00</td>\n",
       "      <td>Полина</td>\n",
       "      <td>None</td>\n",
       "      <td>1636874427598975974</td>\n",
       "      <td>visited</td>\n",
       "      <td>RUB 300.00</td>\n",
       "      <td></td>\n",
       "      <td>1.636875e+12</td>\n",
       "    </tr>\n",
       "    <tr>\n",
       "      <th>750542</th>\n",
       "      <td>1637502327000</td>\n",
       "      <td></td>\n",
       "      <td>1299075</td>\n",
       "      <td>1639144800000</td>\n",
       "      <td>Театр-Театр. Большая сцена</td>\n",
       "      <td>9705121040</td>\n",
       "      <td>NaN</td>\n",
       "      <td>8f43dc324139c64e5d07b245e6841733</td>\n",
       "      <td>None</td>\n",
       "      <td>RUB 896.00</td>\n",
       "      <td>Мария</td>\n",
       "      <td>None</td>\n",
       "      <td>1637502349273464413</td>\n",
       "      <td>visited</td>\n",
       "      <td>RUB 896.00</td>\n",
       "      <td></td>\n",
       "      <td>1.639143e+12</td>\n",
       "    </tr>\n",
       "    <tr>\n",
       "      <th>823245</th>\n",
       "      <td>1636826897</td>\n",
       "      <td></td>\n",
       "      <td>1284691</td>\n",
       "      <td>1637335800</td>\n",
       "      <td>Партер, ряд 9, место 8</td>\n",
       "      <td>7714836675</td>\n",
       "      <td>NaN</td>\n",
       "      <td>ebd1099e45c6fc2907ad486f97d16eeb</td>\n",
       "      <td>None</td>\n",
       "      <td>550</td>\n",
       "      <td></td>\n",
       "      <td>None</td>\n",
       "      <td>1636827789155117750</td>\n",
       "      <td>visited</td>\n",
       "      <td>550</td>\n",
       "      <td>6410</td>\n",
       "      <td>1.637334e+09</td>\n",
       "    </tr>\n",
       "  </tbody>\n",
       "</table>\n",
       "</div>"
      ],
      "text/plain": [
       "         payment_date comment session_event_id   session_date  \\\n",
       "185109  1636874403000                  1265080  1638108000000   \n",
       "750542  1637502327000                  1299075  1639144800000   \n",
       "823245     1636826897                  1284691     1637335800   \n",
       "\n",
       "                    session_params       owner  refund_date  \\\n",
       "185109          Центр Эрмитаж-Урал  9705121040          NaN   \n",
       "750542  Театр-Театр. Большая сцена  9705121040          NaN   \n",
       "823245      Партер, ряд 9, место 8  7714836675          NaN   \n",
       "\n",
       "                      buyer_mobile_phone refund_reason payment_amount  \\\n",
       "185109  8be0e9312fcae3d5225b5c9f5b171483          None     RUB 300.00   \n",
       "750542  8f43dc324139c64e5d07b245e6841733          None     RUB 896.00   \n",
       "823245  ebd1099e45c6fc2907ad486f97d16eeb          None            550   \n",
       "\n",
       "       visitor_first_name refund_ticket_price          create_date   status  \\\n",
       "185109             Полина                None  1636874427598975974  visited   \n",
       "750542              Мария                None  1637502349273464413  visited   \n",
       "823245                                   None  1636827789155117750  visited   \n",
       "\n",
       "       payment_ticket_price session_organization_id    visit_date  \n",
       "185109           RUB 300.00                          1.636875e+12  \n",
       "750542           RUB 896.00                          1.639143e+12  \n",
       "823245                  550                    6410  1.637334e+09  "
      ]
     },
     "execution_count": 9,
     "metadata": {},
     "output_type": "execute_result"
    }
   ],
   "source": [
    "tickets.sample(3)"
   ]
  },
  {
   "cell_type": "code",
   "execution_count": 10,
   "id": "f21f7c77",
   "metadata": {},
   "outputs": [
    {
     "data": {
      "text/html": [
       "<div>\n",
       "<style scoped>\n",
       "    .dataframe tbody tr th:only-of-type {\n",
       "        vertical-align: middle;\n",
       "    }\n",
       "\n",
       "    .dataframe tbody tr th {\n",
       "        vertical-align: top;\n",
       "    }\n",
       "\n",
       "    .dataframe thead th {\n",
       "        text-align: right;\n",
       "    }\n",
       "</style>\n",
       "<table border=\"1\" class=\"dataframe\">\n",
       "  <thead>\n",
       "    <tr style=\"text-align: right;\">\n",
       "      <th></th>\n",
       "      <th>payment_date</th>\n",
       "      <th>comment</th>\n",
       "      <th>session_event_id</th>\n",
       "      <th>session_date</th>\n",
       "      <th>session_params</th>\n",
       "      <th>owner</th>\n",
       "      <th>refund_date</th>\n",
       "      <th>buyer_mobile_phone</th>\n",
       "      <th>refund_reason</th>\n",
       "      <th>payment_amount</th>\n",
       "      <th>visitor_first_name</th>\n",
       "      <th>refund_ticket_price</th>\n",
       "      <th>create_date</th>\n",
       "      <th>status</th>\n",
       "      <th>payment_ticket_price</th>\n",
       "      <th>session_organization_id</th>\n",
       "      <th>visit_date</th>\n",
       "    </tr>\n",
       "  </thead>\n",
       "  <tbody>\n",
       "  </tbody>\n",
       "</table>\n",
       "</div>"
      ],
      "text/plain": [
       "Empty DataFrame\n",
       "Columns: [payment_date, comment, session_event_id, session_date, session_params, owner, refund_date, buyer_mobile_phone, refund_reason, payment_amount, visitor_first_name, refund_ticket_price, create_date, status, payment_ticket_price, session_organization_id, visit_date]\n",
       "Index: []"
      ]
     },
     "execution_count": 10,
     "metadata": {},
     "output_type": "execute_result"
    }
   ],
   "source": [
    "tickets[tickets['buyer_mobile_phone'].isna()]"
   ]
  },
  {
   "cell_type": "code",
   "execution_count": 11,
   "id": "517793d9",
   "metadata": {},
   "outputs": [
    {
     "data": {
      "text/plain": [
       "11791"
      ]
     },
     "execution_count": 11,
     "metadata": {},
     "output_type": "execute_result"
    }
   ],
   "source": [
    "tickets.visitor_first_name.nunique() # можно было попробовать пол по именм, но имён у нас всего 11 тысяч из 1,2 млн."
   ]
  },
  {
   "cell_type": "markdown",
   "id": "bce44741",
   "metadata": {},
   "source": [
    "# Добавим данные пользователя в дата сет с купленными билетами"
   ]
  },
  {
   "cell_type": "code",
   "execution_count": 12,
   "id": "ada2c559",
   "metadata": {},
   "outputs": [],
   "source": [
    "tickets = pd.merge(tickets,users,on=['buyer_mobile_phone'], how='left')"
   ]
  },
  {
   "cell_type": "code",
   "execution_count": 13,
   "id": "f350c200",
   "metadata": {},
   "outputs": [
    {
     "name": "stdout",
     "output_type": "stream",
     "text": [
      "<class 'pandas.core.frame.DataFrame'>\n",
      "Int64Index: 854330 entries, 0 to 854329\n",
      "Data columns (total 25 columns):\n",
      " #   Column                   Non-Null Count   Dtype  \n",
      "---  ------                   --------------   -----  \n",
      " 0   payment_date             854330 non-null  int64  \n",
      " 1   comment                  854330 non-null  object \n",
      " 2   session_event_id         854330 non-null  object \n",
      " 3   session_date             854330 non-null  int64  \n",
      " 4   session_params           854330 non-null  object \n",
      " 5   owner                    854330 non-null  object \n",
      " 6   refund_date              25117 non-null   float64\n",
      " 7   buyer_mobile_phone       854330 non-null  object \n",
      " 8   refund_reason            25117 non-null   object \n",
      " 9   payment_amount           854330 non-null  object \n",
      " 10  visitor_first_name       854330 non-null  object \n",
      " 11  refund_ticket_price      24409 non-null   object \n",
      " 12  create_date_x            854330 non-null  int64  \n",
      " 13  status                   854330 non-null  object \n",
      " 14  payment_ticket_price     854330 non-null  object \n",
      " 15  session_organization_id  854330 non-null  object \n",
      " 16  visit_date               393850 non-null  float64\n",
      " 17  create_date_y            530576 non-null  float64\n",
      " 18  user_id                  530576 non-null  object \n",
      " 19  user_birth               530576 non-null  object \n",
      " 20  create_date.1            530576 non-null  object \n",
      " 21  user_phone_details       530576 non-null  object \n",
      " 22  region                   368752 non-null  object \n",
      " 23  age                      530576 non-null  object \n",
      " 24  user_region              368752 non-null  object \n",
      "dtypes: float64(3), int64(3), object(19)\n",
      "memory usage: 169.5+ MB\n"
     ]
    }
   ],
   "source": [
    "tickets.info()"
   ]
  },
  {
   "cell_type": "code",
   "execution_count": 14,
   "id": "bc8ac620",
   "metadata": {},
   "outputs": [],
   "source": [
    "tickets_2 = tickets[tickets['user_id'].notna() == True]"
   ]
  },
  {
   "cell_type": "code",
   "execution_count": 15,
   "id": "3c68576a",
   "metadata": {},
   "outputs": [
    {
     "name": "stdout",
     "output_type": "stream",
     "text": [
      "<class 'pandas.core.frame.DataFrame'>\n",
      "Int64Index: 530576 entries, 1 to 854329\n",
      "Data columns (total 25 columns):\n",
      " #   Column                   Non-Null Count   Dtype  \n",
      "---  ------                   --------------   -----  \n",
      " 0   payment_date             530576 non-null  int64  \n",
      " 1   comment                  530576 non-null  object \n",
      " 2   session_event_id         530576 non-null  object \n",
      " 3   session_date             530576 non-null  int64  \n",
      " 4   session_params           530576 non-null  object \n",
      " 5   owner                    530576 non-null  object \n",
      " 6   refund_date              16455 non-null   float64\n",
      " 7   buyer_mobile_phone       530576 non-null  object \n",
      " 8   refund_reason            16455 non-null   object \n",
      " 9   payment_amount           530576 non-null  object \n",
      " 10  visitor_first_name       530576 non-null  object \n",
      " 11  refund_ticket_price      16025 non-null   object \n",
      " 12  create_date_x            530576 non-null  int64  \n",
      " 13  status                   530576 non-null  object \n",
      " 14  payment_ticket_price     530576 non-null  object \n",
      " 15  session_organization_id  530576 non-null  object \n",
      " 16  visit_date               253888 non-null  float64\n",
      " 17  create_date_y            530576 non-null  float64\n",
      " 18  user_id                  530576 non-null  object \n",
      " 19  user_birth               530576 non-null  object \n",
      " 20  create_date.1            530576 non-null  object \n",
      " 21  user_phone_details       530576 non-null  object \n",
      " 22  region                   368752 non-null  object \n",
      " 23  age                      530576 non-null  object \n",
      " 24  user_region              368752 non-null  object \n",
      "dtypes: float64(3), int64(3), object(19)\n",
      "memory usage: 105.2+ MB\n"
     ]
    }
   ],
   "source": [
    "tickets_2.info()"
   ]
  },
  {
   "cell_type": "code",
   "execution_count": 16,
   "id": "097f7e82",
   "metadata": {},
   "outputs": [],
   "source": [
    "cliks_add = pd.read_csv(path + 'cliks_add.csv', sep=';', error_bad_lines=False)"
   ]
  },
  {
   "cell_type": "code",
   "execution_count": 17,
   "id": "0edc4e41",
   "metadata": {
    "scrolled": false
   },
   "outputs": [
    {
     "name": "stdout",
     "output_type": "stream",
     "text": [
      "<class 'pandas.core.frame.DataFrame'>\n",
      "RangeIndex: 5747389 entries, 0 to 5747388\n",
      "Data columns (total 17 columns):\n",
      " #   Column                   Dtype  \n",
      "---  ------                   -----  \n",
      " 0   create_time              object \n",
      " 1   create_date              object \n",
      " 2   user_phone_details       object \n",
      " 3   buyer_mobile_phone       object \n",
      " 4   user_id                  object \n",
      " 5   url                      object \n",
      " 6   session_id               float64\n",
      " 7   session_name             object \n",
      " 8   organization_id          float64\n",
      " 9   organization_name        object \n",
      " 10  session_identity         object \n",
      " 11  Org_region_number        float64\n",
      " 12  org_category             object \n",
      " 13  age                      float64\n",
      " 14  user_region              float64\n",
      " 15  user_phone_details_id    object \n",
      " 16  user_phone_details_id_2  int64  \n",
      "dtypes: float64(5), int64(1), object(11)\n",
      "memory usage: 745.4+ MB\n"
     ]
    }
   ],
   "source": [
    "cliks_add.info()"
   ]
  },
  {
   "cell_type": "code",
   "execution_count": 18,
   "id": "1cd1645b",
   "metadata": {},
   "outputs": [
    {
     "data": {
      "text/plain": [
       "(5747389, 17)"
      ]
     },
     "execution_count": 18,
     "metadata": {},
     "output_type": "execute_result"
    }
   ],
   "source": [
    "cliks_add.shape"
   ]
  },
  {
   "cell_type": "code",
   "execution_count": 19,
   "id": "82df191c",
   "metadata": {},
   "outputs": [],
   "source": [
    "ticket_users = tickets_2['user_id'].unique()"
   ]
  },
  {
   "cell_type": "code",
   "execution_count": 20,
   "id": "0e38a06b",
   "metadata": {},
   "outputs": [
    {
     "data": {
      "text/plain": [
       "329522"
      ]
     },
     "execution_count": 20,
     "metadata": {},
     "output_type": "execute_result"
    }
   ],
   "source": [
    "tickets_2['user_id'].nunique()"
   ]
  },
  {
   "cell_type": "code",
   "execution_count": 21,
   "id": "d58bd669",
   "metadata": {},
   "outputs": [
    {
     "data": {
      "text/plain": [
       "329522"
      ]
     },
     "execution_count": 21,
     "metadata": {},
     "output_type": "execute_result"
    }
   ],
   "source": [
    "len(ticket_users)"
   ]
  },
  {
   "cell_type": "code",
   "execution_count": 22,
   "id": "5121ac3f",
   "metadata": {},
   "outputs": [],
   "source": [
    "cliks_add_users = cliks_add['user_id'].unique()"
   ]
  },
  {
   "cell_type": "code",
   "execution_count": 23,
   "id": "bc0de93d",
   "metadata": {},
   "outputs": [
    {
     "data": {
      "text/plain": [
       "272442"
      ]
     },
     "execution_count": 23,
     "metadata": {},
     "output_type": "execute_result"
    }
   ],
   "source": [
    "len(cliks_add_users)"
   ]
  },
  {
   "cell_type": "code",
   "execution_count": 24,
   "id": "d724a4ae",
   "metadata": {},
   "outputs": [
    {
     "data": {
      "text/plain": [
       "272442"
      ]
     },
     "execution_count": 24,
     "metadata": {},
     "output_type": "execute_result"
    }
   ],
   "source": [
    "cliks_add['user_id'].nunique()"
   ]
  },
  {
   "cell_type": "code",
   "execution_count": 25,
   "id": "5df25cc7",
   "metadata": {
    "scrolled": true
   },
   "outputs": [
    {
     "data": {
      "text/plain": [
       "array(['08014dcd786881f349938c9255e9df36',\n",
       "       'b2560eaa8bc23dbba5f24aa5075b89ed',\n",
       "       'fdfe16d86915392aeeca341505cce1c1',\n",
       "       'cf3f95a25510513018a33990a30f5acb',\n",
       "       'e2f896fb069e555a5faaf71a3d2b8dec'], dtype=object)"
      ]
     },
     "execution_count": 25,
     "metadata": {},
     "output_type": "execute_result"
    }
   ],
   "source": [
    "cliks_add_users[:5]"
   ]
  },
  {
   "cell_type": "code",
   "execution_count": 26,
   "id": "620711b5",
   "metadata": {
    "scrolled": true
   },
   "outputs": [
    {
     "data": {
      "text/plain": [
       "array(['ef54479d868c93e5b6a6e425fc780954',\n",
       "       '68f0a5ca2209fedf6d574d74940e55a5',\n",
       "       '89bc110254468dbf23f51f84385418a0',\n",
       "       '38d83e61be8f2afd0d335686d685dc56',\n",
       "       '65835d1c0954fe08db3ffa4e1a5fb75f'], dtype=object)"
      ]
     },
     "execution_count": 26,
     "metadata": {},
     "output_type": "execute_result"
    }
   ],
   "source": [
    "ticket_users[:5]"
   ]
  },
  {
   "cell_type": "markdown",
   "id": "b3751973",
   "metadata": {},
   "source": [
    "cliks_and_tickets = cliks_add.copy()"
   ]
  },
  {
   "cell_type": "markdown",
   "id": "7590ffea",
   "metadata": {
    "scrolled": true
   },
   "source": [
    "cliks_and_tickets.shape"
   ]
  },
  {
   "cell_type": "markdown",
   "id": "ff639987",
   "metadata": {},
   "source": [
    "cliks_and_tickets = pd.DataFrame()"
   ]
  },
  {
   "cell_type": "markdown",
   "id": "3ecdeb6a",
   "metadata": {},
   "source": [
    "import time\n",
    "start_time = time.time()\n",
    "\n",
    "cliks_and_tickets = cliks_add.merge(\n",
    "    tickets_2.drop_duplicates(subset=['user_id']), left_on='user_id', right_on=['user_id'], how='inner')\n",
    "\n",
    "print(\"--- %s seconds ---\" % (time.time() - start_time))"
   ]
  },
  {
   "cell_type": "markdown",
   "id": "cc63e6f6",
   "metadata": {},
   "source": [
    "cliks_and_tickets.shape"
   ]
  },
  {
   "cell_type": "code",
   "execution_count": 27,
   "id": "b3302d12",
   "metadata": {},
   "outputs": [
    {
     "name": "stdout",
     "output_type": "stream",
     "text": [
      "--- 1.485492467880249 seconds ---\n"
     ]
    }
   ],
   "source": [
    "import time\n",
    "start_time = time.time()\n",
    "\n",
    "cliks_and_tickets_2 = cliks_add.loc[cliks_add.user_id.isin(tickets_2.user_id.unique())] \n",
    "\n",
    "print(\"--- %s seconds ---\" % (time.time() - start_time))"
   ]
  },
  {
   "cell_type": "code",
   "execution_count": 28,
   "id": "afd9f1f8",
   "metadata": {},
   "outputs": [
    {
     "data": {
      "text/plain": [
       "(3538545, 17)"
      ]
     },
     "execution_count": 28,
     "metadata": {},
     "output_type": "execute_result"
    }
   ],
   "source": [
    "cliks_and_tickets_2.shape"
   ]
  },
  {
   "cell_type": "code",
   "execution_count": 29,
   "id": "5170f0be",
   "metadata": {},
   "outputs": [
    {
     "data": {
      "text/plain": [
       "137156"
      ]
     },
     "execution_count": 29,
     "metadata": {},
     "output_type": "execute_result"
    }
   ],
   "source": [
    "cliks_and_tickets_2.user_id.nunique()"
   ]
  },
  {
   "cell_type": "code",
   "execution_count": 30,
   "id": "d28f467a",
   "metadata": {},
   "outputs": [],
   "source": [
    "#cliks_and_tickets_2.to_csv(path + 'cliks_and_tickets.csv', sep = ';', index = False)"
   ]
  },
  {
   "cell_type": "code",
   "execution_count": 31,
   "id": "2b15efb0",
   "metadata": {},
   "outputs": [
    {
     "name": "stdout",
     "output_type": "stream",
     "text": [
      "<class 'pandas.core.frame.DataFrame'>\n",
      "Int64Index: 3538545 entries, 0 to 5747388\n",
      "Data columns (total 17 columns):\n",
      " #   Column                   Dtype  \n",
      "---  ------                   -----  \n",
      " 0   create_time              object \n",
      " 1   create_date              object \n",
      " 2   user_phone_details       object \n",
      " 3   buyer_mobile_phone       object \n",
      " 4   user_id                  object \n",
      " 5   url                      object \n",
      " 6   session_id               float64\n",
      " 7   session_name             object \n",
      " 8   organization_id          float64\n",
      " 9   organization_name        object \n",
      " 10  session_identity         object \n",
      " 11  Org_region_number        float64\n",
      " 12  org_category             object \n",
      " 13  age                      float64\n",
      " 14  user_region              float64\n",
      " 15  user_phone_details_id    object \n",
      " 16  user_phone_details_id_2  int64  \n",
      "dtypes: float64(5), int64(1), object(11)\n",
      "memory usage: 485.9+ MB\n"
     ]
    }
   ],
   "source": [
    "cliks_and_tickets_2.info()"
   ]
  },
  {
   "cell_type": "code",
   "execution_count": 32,
   "id": "80422762",
   "metadata": {},
   "outputs": [],
   "source": [
    "cliks_and_tickets_2 = cliks_and_tickets_2.astype({'session_id': 'object', 'organization_id': 'object', \n",
    "                            'Org_region_number': 'object', 'user_region': 'object'}, copy=False)"
   ]
  },
  {
   "cell_type": "code",
   "execution_count": 33,
   "id": "92472d3d",
   "metadata": {
    "scrolled": true
   },
   "outputs": [
    {
     "name": "stdout",
     "output_type": "stream",
     "text": [
      "<class 'pandas.core.frame.DataFrame'>\n",
      "Int64Index: 3538545 entries, 0 to 5747388\n",
      "Data columns (total 17 columns):\n",
      " #   Column                   Dtype  \n",
      "---  ------                   -----  \n",
      " 0   create_time              object \n",
      " 1   create_date              object \n",
      " 2   user_phone_details       object \n",
      " 3   buyer_mobile_phone       object \n",
      " 4   user_id                  object \n",
      " 5   url                      object \n",
      " 6   session_id               object \n",
      " 7   session_name             object \n",
      " 8   organization_id          object \n",
      " 9   organization_name        object \n",
      " 10  session_identity         object \n",
      " 11  Org_region_number        object \n",
      " 12  org_category             object \n",
      " 13  age                      float64\n",
      " 14  user_region              object \n",
      " 15  user_phone_details_id    object \n",
      " 16  user_phone_details_id_2  int64  \n",
      "dtypes: float64(1), int64(1), object(15)\n",
      "memory usage: 485.9+ MB\n"
     ]
    }
   ],
   "source": [
    "cliks_and_tickets_2.info()"
   ]
  },
  {
   "cell_type": "code",
   "execution_count": 34,
   "id": "2817f208",
   "metadata": {},
   "outputs": [],
   "source": [
    "cliks_and_tickets_2.dropna(subset = ['session_id'], inplace = True)"
   ]
  },
  {
   "cell_type": "code",
   "execution_count": 35,
   "id": "bd5b6234",
   "metadata": {},
   "outputs": [],
   "source": [
    "cliks_and_tickets_2['user_id'] = cliks_and_tickets_2['user_id'].apply(lambda x: str(x))"
   ]
  },
  {
   "cell_type": "code",
   "execution_count": 36,
   "id": "bf96b744",
   "metadata": {},
   "outputs": [],
   "source": [
    "cliks_and_tickets_2['session_id'] = cliks_and_tickets_2['session_id'].apply(lambda x: str(x))"
   ]
  },
  {
   "cell_type": "code",
   "execution_count": 37,
   "id": "5e9d470f",
   "metadata": {},
   "outputs": [],
   "source": [
    "cliks_and_tickets_2['user_session'] = cliks_and_tickets_2['user_id'] + cliks_and_tickets_2['session_id']"
   ]
  },
  {
   "cell_type": "code",
   "execution_count": 38,
   "id": "0235e228",
   "metadata": {},
   "outputs": [
    {
     "name": "stderr",
     "output_type": "stream",
     "text": [
      "C:\\Users\\Rusla\\AppData\\Local\\Temp/ipykernel_16800/3420038588.py:1: SettingWithCopyWarning: \n",
      "A value is trying to be set on a copy of a slice from a DataFrame.\n",
      "Try using .loc[row_indexer,col_indexer] = value instead\n",
      "\n",
      "See the caveats in the documentation: https://pandas.pydata.org/pandas-docs/stable/user_guide/indexing.html#returning-a-view-versus-a-copy\n",
      "  tickets_2['user_session'] = tickets_2['user_id'] + tickets_2['session_event_id']\n"
     ]
    }
   ],
   "source": [
    "tickets_2['user_session'] = tickets_2['user_id'] + tickets_2['session_event_id']"
   ]
  },
  {
   "cell_type": "code",
   "execution_count": 39,
   "id": "0ac0d6f8",
   "metadata": {},
   "outputs": [
    {
     "name": "stdout",
     "output_type": "stream",
     "text": [
      "<class 'pandas.core.frame.DataFrame'>\n",
      "Int64Index: 3526081 entries, 0 to 5747388\n",
      "Data columns (total 18 columns):\n",
      " #   Column                   Dtype  \n",
      "---  ------                   -----  \n",
      " 0   create_time              object \n",
      " 1   create_date              object \n",
      " 2   user_phone_details       object \n",
      " 3   buyer_mobile_phone       object \n",
      " 4   user_id                  object \n",
      " 5   url                      object \n",
      " 6   session_id               object \n",
      " 7   session_name             object \n",
      " 8   organization_id          object \n",
      " 9   organization_name        object \n",
      " 10  session_identity         object \n",
      " 11  Org_region_number        object \n",
      " 12  org_category             object \n",
      " 13  age                      float64\n",
      " 14  user_region              object \n",
      " 15  user_phone_details_id    object \n",
      " 16  user_phone_details_id_2  int64  \n",
      " 17  user_session             object \n",
      "dtypes: float64(1), int64(1), object(16)\n",
      "memory usage: 511.1+ MB\n"
     ]
    }
   ],
   "source": [
    "cliks_and_tickets_2.info()"
   ]
  },
  {
   "cell_type": "code",
   "execution_count": 40,
   "id": "8752ddc3",
   "metadata": {},
   "outputs": [
    {
     "name": "stdout",
     "output_type": "stream",
     "text": [
      "<class 'pandas.core.frame.DataFrame'>\n",
      "Int64Index: 530576 entries, 1 to 854329\n",
      "Data columns (total 26 columns):\n",
      " #   Column                   Non-Null Count   Dtype  \n",
      "---  ------                   --------------   -----  \n",
      " 0   payment_date             530576 non-null  int64  \n",
      " 1   comment                  530576 non-null  object \n",
      " 2   session_event_id         530576 non-null  object \n",
      " 3   session_date             530576 non-null  int64  \n",
      " 4   session_params           530576 non-null  object \n",
      " 5   owner                    530576 non-null  object \n",
      " 6   refund_date              16455 non-null   float64\n",
      " 7   buyer_mobile_phone       530576 non-null  object \n",
      " 8   refund_reason            16455 non-null   object \n",
      " 9   payment_amount           530576 non-null  object \n",
      " 10  visitor_first_name       530576 non-null  object \n",
      " 11  refund_ticket_price      16025 non-null   object \n",
      " 12  create_date_x            530576 non-null  int64  \n",
      " 13  status                   530576 non-null  object \n",
      " 14  payment_ticket_price     530576 non-null  object \n",
      " 15  session_organization_id  530576 non-null  object \n",
      " 16  visit_date               253888 non-null  float64\n",
      " 17  create_date_y            530576 non-null  float64\n",
      " 18  user_id                  530576 non-null  object \n",
      " 19  user_birth               530576 non-null  object \n",
      " 20  create_date.1            530576 non-null  object \n",
      " 21  user_phone_details       530576 non-null  object \n",
      " 22  region                   368752 non-null  object \n",
      " 23  age                      530576 non-null  object \n",
      " 24  user_region              368752 non-null  object \n",
      " 25  user_session             530576 non-null  object \n",
      "dtypes: float64(3), int64(3), object(20)\n",
      "memory usage: 109.3+ MB\n"
     ]
    }
   ],
   "source": [
    "tickets_2.info()"
   ]
  },
  {
   "cell_type": "code",
   "execution_count": 41,
   "id": "65ae1dde",
   "metadata": {},
   "outputs": [],
   "source": [
    "cliks_and_tickets_3 = cliks_and_tickets_2.merge(tickets_2[['user_session', 'payment_date', 'session_date', 'payment_amount',\n",
    "                                                          'status', 'payment_ticket_price']], \n",
    "                                                on='user_session', how='left')"
   ]
  },
  {
   "cell_type": "code",
   "execution_count": 42,
   "id": "87377fef",
   "metadata": {},
   "outputs": [
    {
     "data": {
      "text/html": [
       "<div>\n",
       "<style scoped>\n",
       "    .dataframe tbody tr th:only-of-type {\n",
       "        vertical-align: middle;\n",
       "    }\n",
       "\n",
       "    .dataframe tbody tr th {\n",
       "        vertical-align: top;\n",
       "    }\n",
       "\n",
       "    .dataframe thead th {\n",
       "        text-align: right;\n",
       "    }\n",
       "</style>\n",
       "<table border=\"1\" class=\"dataframe\">\n",
       "  <thead>\n",
       "    <tr style=\"text-align: right;\">\n",
       "      <th></th>\n",
       "      <th>age</th>\n",
       "      <th>user_phone_details_id_2</th>\n",
       "      <th>payment_date</th>\n",
       "      <th>session_date</th>\n",
       "    </tr>\n",
       "  </thead>\n",
       "  <tbody>\n",
       "    <tr>\n",
       "      <th>count</th>\n",
       "      <td>3.526081e+06</td>\n",
       "      <td>3.526081e+06</td>\n",
       "      <td>0.0</td>\n",
       "      <td>0.0</td>\n",
       "    </tr>\n",
       "    <tr>\n",
       "      <th>mean</th>\n",
       "      <td>1.838982e+01</td>\n",
       "      <td>1.327668e+02</td>\n",
       "      <td>NaN</td>\n",
       "      <td>NaN</td>\n",
       "    </tr>\n",
       "    <tr>\n",
       "      <th>std</th>\n",
       "      <td>2.535062e+00</td>\n",
       "      <td>6.778106e+01</td>\n",
       "      <td>NaN</td>\n",
       "      <td>NaN</td>\n",
       "    </tr>\n",
       "    <tr>\n",
       "      <th>min</th>\n",
       "      <td>1.400000e+01</td>\n",
       "      <td>1.500000e+01</td>\n",
       "      <td>NaN</td>\n",
       "      <td>NaN</td>\n",
       "    </tr>\n",
       "    <tr>\n",
       "      <th>25%</th>\n",
       "      <td>1.600000e+01</td>\n",
       "      <td>1.100000e+02</td>\n",
       "      <td>NaN</td>\n",
       "      <td>NaN</td>\n",
       "    </tr>\n",
       "    <tr>\n",
       "      <th>50%</th>\n",
       "      <td>1.800000e+01</td>\n",
       "      <td>1.110000e+02</td>\n",
       "      <td>NaN</td>\n",
       "      <td>NaN</td>\n",
       "    </tr>\n",
       "    <tr>\n",
       "      <th>75%</th>\n",
       "      <td>2.100000e+01</td>\n",
       "      <td>2.140000e+02</td>\n",
       "      <td>NaN</td>\n",
       "      <td>NaN</td>\n",
       "    </tr>\n",
       "    <tr>\n",
       "      <th>max</th>\n",
       "      <td>2.300000e+01</td>\n",
       "      <td>2.150000e+02</td>\n",
       "      <td>NaN</td>\n",
       "      <td>NaN</td>\n",
       "    </tr>\n",
       "  </tbody>\n",
       "</table>\n",
       "</div>"
      ],
      "text/plain": [
       "                age  user_phone_details_id_2  payment_date  session_date\n",
       "count  3.526081e+06             3.526081e+06           0.0           0.0\n",
       "mean   1.838982e+01             1.327668e+02           NaN           NaN\n",
       "std    2.535062e+00             6.778106e+01           NaN           NaN\n",
       "min    1.400000e+01             1.500000e+01           NaN           NaN\n",
       "25%    1.600000e+01             1.100000e+02           NaN           NaN\n",
       "50%    1.800000e+01             1.110000e+02           NaN           NaN\n",
       "75%    2.100000e+01             2.140000e+02           NaN           NaN\n",
       "max    2.300000e+01             2.150000e+02           NaN           NaN"
      ]
     },
     "execution_count": 42,
     "metadata": {},
     "output_type": "execute_result"
    }
   ],
   "source": [
    "cliks_and_tickets_3.describe()"
   ]
  },
  {
   "cell_type": "code",
   "execution_count": 43,
   "id": "29ff066a",
   "metadata": {},
   "outputs": [
    {
     "data": {
      "text/plain": [
       "Series([], Name: payment_date, dtype: int64)"
      ]
     },
     "execution_count": 43,
     "metadata": {},
     "output_type": "execute_result"
    }
   ],
   "source": [
    "cliks_and_tickets_3['payment_date'].value_counts()"
   ]
  },
  {
   "cell_type": "code",
   "execution_count": null,
   "id": "42fc6dd0",
   "metadata": {},
   "outputs": [],
   "source": []
  }
 ],
 "metadata": {
  "kernelspec": {
   "display_name": "Python 3 (ipykernel)",
   "language": "python",
   "name": "python3"
  },
  "language_info": {
   "codemirror_mode": {
    "name": "ipython",
    "version": 3
   },
   "file_extension": ".py",
   "mimetype": "text/x-python",
   "name": "python",
   "nbconvert_exporter": "python",
   "pygments_lexer": "ipython3",
   "version": "3.8.11"
  }
 },
 "nbformat": 4,
 "nbformat_minor": 5
}
