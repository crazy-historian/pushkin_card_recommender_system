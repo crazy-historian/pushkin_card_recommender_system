{
 "cells": [
  {
   "cell_type": "code",
   "execution_count": 126,
   "id": "d0dbbf48",
   "metadata": {},
   "outputs": [],
   "source": [
    "import pandas as pd\n",
    "import numpy as np\n",
    "import math\n",
    "import re"
   ]
  },
  {
   "cell_type": "code",
   "execution_count": 85,
   "id": "e6a4963e",
   "metadata": {},
   "outputs": [],
   "source": [
    "path = 'C:/Users/Rusla/Documents/GitHub/Пушкинская карта - стажировка/Sample/'\n",
    "path2 = 'C:/Users/Rusla/Documents/GitHub/Пушкинская карта - стажировка/Sample/events/'"
   ]
  },
  {
   "cell_type": "code",
   "execution_count": 86,
   "id": "4e7503dc",
   "metadata": {},
   "outputs": [
    {
     "name": "stderr",
     "output_type": "stream",
     "text": [
      "b'Skipping line 862995: expected 6 fields, saw 7\\nSkipping line 862997: expected 6 fields, saw 7\\n'\n",
      "b'Skipping line 2142333: expected 6 fields, saw 7\\nSkipping line 2142335: expected 6 fields, saw 7\\n'\n",
      "b'Skipping line 2844195: expected 6 fields, saw 7\\n'\n",
      "b'Skipping line 3074159: expected 6 fields, saw 7\\n'\n"
     ]
    }
   ],
   "source": [
    "click = pd.read_csv(path + 'click.csv', sep=';', error_bad_lines=False)"
   ]
  },
  {
   "cell_type": "code",
   "execution_count": 87,
   "id": "53d83c5b",
   "metadata": {},
   "outputs": [],
   "source": [
    "path2 = 'C:/Users/Rusla/Documents/GitHub/Пушкинская карта - стажировка/Sample/events/'"
   ]
  },
  {
   "cell_type": "code",
   "execution_count": 88,
   "id": "d1920fcd",
   "metadata": {},
   "outputs": [],
   "source": [
    "events_pushka_accepted_30122021 = pd.read_csv(path2 + 'events_pushka_accepted_30122021.csv', sep = ',', error_bad_lines=False)"
   ]
  },
  {
   "cell_type": "code",
   "execution_count": 89,
   "id": "5c2aafba",
   "metadata": {},
   "outputs": [
    {
     "data": {
      "text/html": [
       "<div>\n",
       "<style scoped>\n",
       "    .dataframe tbody tr th:only-of-type {\n",
       "        vertical-align: middle;\n",
       "    }\n",
       "\n",
       "    .dataframe tbody tr th {\n",
       "        vertical-align: top;\n",
       "    }\n",
       "\n",
       "    .dataframe thead th {\n",
       "        text-align: right;\n",
       "    }\n",
       "</style>\n",
       "<table border=\"1\" class=\"dataframe\">\n",
       "  <thead>\n",
       "    <tr style=\"text-align: right;\">\n",
       "      <th></th>\n",
       "      <th>create_time</th>\n",
       "      <th>create_date</th>\n",
       "      <th>user_phone_details</th>\n",
       "      <th>buyer_mobile_phone</th>\n",
       "      <th>user_id</th>\n",
       "      <th>url</th>\n",
       "    </tr>\n",
       "  </thead>\n",
       "  <tbody>\n",
       "    <tr>\n",
       "      <th>1000178</th>\n",
       "      <td>2021-11-18 10:10:45</td>\n",
       "      <td>2021-11-18</td>\n",
       "      <td>Android, 10 (SDK 29)</td>\n",
       "      <td>c7b01cd62be02c4e41f9cf2740b3e736</td>\n",
       "      <td>683587336c7bb69f2402a98953326b5b</td>\n",
       "      <td>https://vmuzey.com/event/ekspoziciya-russkoe-i...</td>\n",
       "    </tr>\n",
       "    <tr>\n",
       "      <th>853736</th>\n",
       "      <td>2021-11-18 05:22:31</td>\n",
       "      <td>2021-11-18</td>\n",
       "      <td>iOS, iOS 14.6</td>\n",
       "      <td>4fe0cfd4d92e1d13e4bd9304f9882ad2</td>\n",
       "      <td>2400db12769965c091d20b5047230fdd</td>\n",
       "      <td>https://krasnodar.ticketland.ru/teatry/krasnod...</td>\n",
       "    </tr>\n",
       "    <tr>\n",
       "      <th>1075805</th>\n",
       "      <td>2021-11-23 18:29:51</td>\n",
       "      <td>2021-11-23</td>\n",
       "      <td>Android, 11 (SDK 30)</td>\n",
       "      <td>94b42ced07e8863ca97438b59d360427</td>\n",
       "      <td>5b546ff41d7a739fb7abb14fe33744b5</td>\n",
       "      <td>https://satire.ru/dorogi-kotorie-nas-vibirayut</td>\n",
       "    </tr>\n",
       "  </tbody>\n",
       "</table>\n",
       "</div>"
      ],
      "text/plain": [
       "                 create_time create_date    user_phone_details  \\\n",
       "1000178  2021-11-18 10:10:45  2021-11-18  Android, 10 (SDK 29)   \n",
       "853736   2021-11-18 05:22:31  2021-11-18         iOS, iOS 14.6   \n",
       "1075805  2021-11-23 18:29:51  2021-11-23  Android, 11 (SDK 30)   \n",
       "\n",
       "                       buyer_mobile_phone                           user_id  \\\n",
       "1000178  c7b01cd62be02c4e41f9cf2740b3e736  683587336c7bb69f2402a98953326b5b   \n",
       "853736   4fe0cfd4d92e1d13e4bd9304f9882ad2  2400db12769965c091d20b5047230fdd   \n",
       "1075805  94b42ced07e8863ca97438b59d360427  5b546ff41d7a739fb7abb14fe33744b5   \n",
       "\n",
       "                                                       url  \n",
       "1000178  https://vmuzey.com/event/ekspoziciya-russkoe-i...  \n",
       "853736   https://krasnodar.ticketland.ru/teatry/krasnod...  \n",
       "1075805     https://satire.ru/dorogi-kotorie-nas-vibirayut  "
      ]
     },
     "execution_count": 89,
     "metadata": {},
     "output_type": "execute_result"
    }
   ],
   "source": [
    "click.sample(3)"
   ]
  },
  {
   "cell_type": "code",
   "execution_count": 90,
   "id": "e3baf59f",
   "metadata": {
    "scrolled": true
   },
   "outputs": [
    {
     "data": {
      "text/html": [
       "<div>\n",
       "<style scoped>\n",
       "    .dataframe tbody tr th:only-of-type {\n",
       "        vertical-align: middle;\n",
       "    }\n",
       "\n",
       "    .dataframe tbody tr th {\n",
       "        vertical-align: top;\n",
       "    }\n",
       "\n",
       "    .dataframe thead th {\n",
       "        text-align: right;\n",
       "    }\n",
       "</style>\n",
       "<table border=\"1\" class=\"dataframe\">\n",
       "  <thead>\n",
       "    <tr style=\"text-align: right;\">\n",
       "      <th></th>\n",
       "      <th>entity._id</th>\n",
       "      <th>entity.name</th>\n",
       "      <th>entity.saleLink</th>\n",
       "      <th>entity.additionalSaleLinks.0</th>\n",
       "      <th>entity.organization._id</th>\n",
       "      <th>entity.organization.name</th>\n",
       "    </tr>\n",
       "  </thead>\n",
       "  <tbody>\n",
       "    <tr>\n",
       "      <th>39127</th>\n",
       "      <td>1398285</td>\n",
       "      <td>Экскурсия «Русское искусство в УОХМ»</td>\n",
       "      <td>https://vmuzey.com/event/ekskursiya-russkoe-is...</td>\n",
       "      <td>NaN</td>\n",
       "      <td>2983.0</td>\n",
       "      <td>ОГБУК «Ульяновский областной художественный му...</td>\n",
       "    </tr>\n",
       "    <tr>\n",
       "      <th>2815</th>\n",
       "      <td>409803</td>\n",
       "      <td>Спектакль «Весёлые гномы и Бука»</td>\n",
       "      <td>https://sevtyuz.ru/playbill/plays/show/buka-i-...</td>\n",
       "      <td>NaN</td>\n",
       "      <td>9605.0</td>\n",
       "      <td>ГБУК г. Севастополя «Севастопольский театр юно...</td>\n",
       "    </tr>\n",
       "    <tr>\n",
       "      <th>854</th>\n",
       "      <td>69234</td>\n",
       "      <td>Спектакль «Сирано»</td>\n",
       "      <td>https://iframeab-pre3899.intickets.ru/event/11...</td>\n",
       "      <td>https://www.teatrmost.ru/performances/sirano/</td>\n",
       "      <td>5475.0</td>\n",
       "      <td>Театр «МОСТ»</td>\n",
       "    </tr>\n",
       "  </tbody>\n",
       "</table>\n",
       "</div>"
      ],
      "text/plain": [
       "       entity._id                           entity.name  \\\n",
       "39127     1398285  Экскурсия «Русское искусство в УОХМ»   \n",
       "2815       409803      Спектакль «Весёлые гномы и Бука»   \n",
       "854         69234                    Спектакль «Сирано»   \n",
       "\n",
       "                                         entity.saleLink  \\\n",
       "39127  https://vmuzey.com/event/ekskursiya-russkoe-is...   \n",
       "2815   https://sevtyuz.ru/playbill/plays/show/buka-i-...   \n",
       "854    https://iframeab-pre3899.intickets.ru/event/11...   \n",
       "\n",
       "                        entity.additionalSaleLinks.0  entity.organization._id  \\\n",
       "39127                                            NaN                   2983.0   \n",
       "2815                                             NaN                   9605.0   \n",
       "854    https://www.teatrmost.ru/performances/sirano/                   5475.0   \n",
       "\n",
       "                                entity.organization.name  \n",
       "39127  ОГБУК «Ульяновский областной художественный му...  \n",
       "2815   ГБУК г. Севастополя «Севастопольский театр юно...  \n",
       "854                                         Театр «МОСТ»  "
      ]
     },
     "execution_count": 90,
     "metadata": {},
     "output_type": "execute_result"
    }
   ],
   "source": [
    "events_pushka_accepted_30122021.sample(3)"
   ]
  },
  {
   "cell_type": "code",
   "execution_count": 91,
   "id": "a46fbfd7",
   "metadata": {
    "scrolled": true
   },
   "outputs": [
    {
     "name": "stdout",
     "output_type": "stream",
     "text": [
      "<class 'pandas.core.frame.DataFrame'>\n",
      "RangeIndex: 47856 entries, 0 to 47855\n",
      "Data columns (total 6 columns):\n",
      " #   Column                        Non-Null Count  Dtype  \n",
      "---  ------                        --------------  -----  \n",
      " 0   entity._id                    47856 non-null  int64  \n",
      " 1   entity.name                   47220 non-null  object \n",
      " 2   entity.saleLink               47218 non-null  object \n",
      " 3   entity.additionalSaleLinks.0  4636 non-null   object \n",
      " 4   entity.organization._id       47220 non-null  float64\n",
      " 5   entity.organization.name      47220 non-null  object \n",
      "dtypes: float64(1), int64(1), object(4)\n",
      "memory usage: 2.2+ MB\n"
     ]
    }
   ],
   "source": [
    "events_pushka_accepted_30122021.info()"
   ]
  },
  {
   "cell_type": "code",
   "execution_count": 92,
   "id": "fb4a5c2a",
   "metadata": {},
   "outputs": [],
   "source": [
    "events_pushka_accepted_30122021 = events_pushka_accepted_30122021[events_pushka_accepted_30122021[\n",
    "    'entity.saleLink'].notna() == True]"
   ]
  },
  {
   "cell_type": "code",
   "execution_count": 93,
   "id": "ec01cf30",
   "metadata": {},
   "outputs": [
    {
     "name": "stdout",
     "output_type": "stream",
     "text": [
      "<class 'pandas.core.frame.DataFrame'>\n",
      "Int64Index: 47218 entries, 0 to 47855\n",
      "Data columns (total 6 columns):\n",
      " #   Column                        Non-Null Count  Dtype  \n",
      "---  ------                        --------------  -----  \n",
      " 0   entity._id                    47218 non-null  int64  \n",
      " 1   entity.name                   47218 non-null  object \n",
      " 2   entity.saleLink               47218 non-null  object \n",
      " 3   entity.additionalSaleLinks.0  4636 non-null   object \n",
      " 4   entity.organization._id       47218 non-null  float64\n",
      " 5   entity.organization.name      47218 non-null  object \n",
      "dtypes: float64(1), int64(1), object(4)\n",
      "memory usage: 2.5+ MB\n"
     ]
    }
   ],
   "source": [
    "events_pushka_accepted_30122021.info()"
   ]
  },
  {
   "cell_type": "code",
   "execution_count": 94,
   "id": "6ebbabf3",
   "metadata": {
    "scrolled": true
   },
   "outputs": [],
   "source": [
    "events_pushka_accepted_30122021['session_identity'] = events_pushka_accepted_30122021['entity.name'\n",
    "                                                                                     ].apply(lambda x:\n",
    "                                                                                            x.split()[0].strip())"
   ]
  },
  {
   "cell_type": "code",
   "execution_count": 95,
   "id": "7c779262",
   "metadata": {},
   "outputs": [
    {
     "name": "stdout",
     "output_type": "stream",
     "text": [
      "<class 'pandas.core.frame.DataFrame'>\n",
      "Int64Index: 47218 entries, 0 to 47855\n",
      "Data columns (total 7 columns):\n",
      " #   Column                        Non-Null Count  Dtype  \n",
      "---  ------                        --------------  -----  \n",
      " 0   entity._id                    47218 non-null  int64  \n",
      " 1   entity.name                   47218 non-null  object \n",
      " 2   entity.saleLink               47218 non-null  object \n",
      " 3   entity.additionalSaleLinks.0  4636 non-null   object \n",
      " 4   entity.organization._id       47218 non-null  float64\n",
      " 5   entity.organization.name      47218 non-null  object \n",
      " 6   session_identity              47218 non-null  object \n",
      "dtypes: float64(1), int64(1), object(5)\n",
      "memory usage: 2.9+ MB\n"
     ]
    }
   ],
   "source": [
    "events_pushka_accepted_30122021.info()"
   ]
  },
  {
   "cell_type": "code",
   "execution_count": 96,
   "id": "8b9f0d57",
   "metadata": {},
   "outputs": [
    {
     "data": {
      "text/html": [
       "<div>\n",
       "<style scoped>\n",
       "    .dataframe tbody tr th:only-of-type {\n",
       "        vertical-align: middle;\n",
       "    }\n",
       "\n",
       "    .dataframe tbody tr th {\n",
       "        vertical-align: top;\n",
       "    }\n",
       "\n",
       "    .dataframe thead th {\n",
       "        text-align: right;\n",
       "    }\n",
       "</style>\n",
       "<table border=\"1\" class=\"dataframe\">\n",
       "  <thead>\n",
       "    <tr style=\"text-align: right;\">\n",
       "      <th></th>\n",
       "      <th>entity._id</th>\n",
       "      <th>entity.name</th>\n",
       "      <th>entity.saleLink</th>\n",
       "      <th>entity.additionalSaleLinks.0</th>\n",
       "      <th>entity.organization._id</th>\n",
       "      <th>entity.organization.name</th>\n",
       "      <th>session_identity</th>\n",
       "    </tr>\n",
       "  </thead>\n",
       "  <tbody>\n",
       "    <tr>\n",
       "      <th>15026</th>\n",
       "      <td>1254632</td>\n",
       "      <td>Спектакль «Тихий Дон»</td>\n",
       "      <td>https://kazachiy-theatre.ru/timetable/#/buy/3815</td>\n",
       "      <td>NaN</td>\n",
       "      <td>6408.0</td>\n",
       "      <td>ГБУК «Волгоградский музыкально-драматический к...</td>\n",
       "      <td>Спектакль</td>\n",
       "    </tr>\n",
       "    <tr>\n",
       "      <th>10471</th>\n",
       "      <td>1242533</td>\n",
       "      <td>Спектакль «Один день Ивана Денисовича»</td>\n",
       "      <td>https://quicktickets.ru/novokuznetsk-dramteatr...</td>\n",
       "      <td>NaN</td>\n",
       "      <td>8636.0</td>\n",
       "      <td>ГАУК «Новокузнецкий драматический театр»</td>\n",
       "      <td>Спектакль</td>\n",
       "    </tr>\n",
       "    <tr>\n",
       "      <th>46572</th>\n",
       "      <td>1484271</td>\n",
       "      <td>Интерактивная экскурсия «Хлебное ухо»</td>\n",
       "      <td>https://vmuzey.com/event/hlebnoe-uho</td>\n",
       "      <td>NaN</td>\n",
       "      <td>3544.0</td>\n",
       "      <td>Историко-этнографический музей-заповедник «Шуш...</td>\n",
       "      <td>Интерактивная</td>\n",
       "    </tr>\n",
       "  </tbody>\n",
       "</table>\n",
       "</div>"
      ],
      "text/plain": [
       "       entity._id                             entity.name  \\\n",
       "15026     1254632                   Спектакль «Тихий Дон»   \n",
       "10471     1242533  Спектакль «Один день Ивана Денисовича»   \n",
       "46572     1484271   Интерактивная экскурсия «Хлебное ухо»   \n",
       "\n",
       "                                         entity.saleLink  \\\n",
       "15026   https://kazachiy-theatre.ru/timetable/#/buy/3815   \n",
       "10471  https://quicktickets.ru/novokuznetsk-dramteatr...   \n",
       "46572               https://vmuzey.com/event/hlebnoe-uho   \n",
       "\n",
       "      entity.additionalSaleLinks.0  entity.organization._id  \\\n",
       "15026                          NaN                   6408.0   \n",
       "10471                          NaN                   8636.0   \n",
       "46572                          NaN                   3544.0   \n",
       "\n",
       "                                entity.organization.name session_identity  \n",
       "15026  ГБУК «Волгоградский музыкально-драматический к...        Спектакль  \n",
       "10471           ГАУК «Новокузнецкий драматический театр»        Спектакль  \n",
       "46572  Историко-этнографический музей-заповедник «Шуш...    Интерактивная  "
      ]
     },
     "execution_count": 96,
     "metadata": {},
     "output_type": "execute_result"
    }
   ],
   "source": [
    "events_pushka_accepted_30122021.sample(3)"
   ]
  },
  {
   "cell_type": "code",
   "execution_count": 97,
   "id": "af799954",
   "metadata": {},
   "outputs": [
    {
     "data": {
      "text/plain": [
       "Молодежная         15\n",
       "Интерактивные      15\n",
       "Новогоднее         15\n",
       "Викторина          14\n",
       "Пешая              14\n",
       "                   ..\n",
       "XVII                1\n",
       "Юбилейное           1\n",
       "Арт-кафе            1\n",
       "Культурная          1\n",
       "Оперетта-мюзикл     1\n",
       "Name: session_identity, Length: 717, dtype: int64"
      ]
     },
     "execution_count": 97,
     "metadata": {},
     "output_type": "execute_result"
    }
   ],
   "source": [
    "events_pushka_accepted_30122021['session_identity'].value_counts()[100:]"
   ]
  },
  {
   "cell_type": "code",
   "execution_count": 98,
   "id": "4e922b5b",
   "metadata": {},
   "outputs": [],
   "source": [
    "events_links = events_pushka_accepted_30122021['entity.saleLink'].unique()"
   ]
  },
  {
   "cell_type": "code",
   "execution_count": 99,
   "id": "b501915d",
   "metadata": {},
   "outputs": [],
   "source": [
    "click_links = click['url'].unique()"
   ]
  },
  {
   "cell_type": "code",
   "execution_count": 100,
   "id": "39fc3180",
   "metadata": {},
   "outputs": [],
   "source": [
    "equal_links = []\n",
    "\n",
    "for i in click_links:\n",
    "    for j in events_links:\n",
    "        if i == j:\n",
    "            equal_links.append(i)"
   ]
  },
  {
   "cell_type": "code",
   "execution_count": 101,
   "id": "d10086ab",
   "metadata": {},
   "outputs": [
    {
     "data": {
      "text/plain": [
       "19572"
      ]
     },
     "execution_count": 101,
     "metadata": {},
     "output_type": "execute_result"
    }
   ],
   "source": [
    "len(equal_links)"
   ]
  },
  {
   "cell_type": "code",
   "execution_count": 102,
   "id": "cc12d8fa",
   "metadata": {},
   "outputs": [
    {
     "data": {
      "text/plain": [
       "19924"
      ]
     },
     "execution_count": 102,
     "metadata": {},
     "output_type": "execute_result"
    }
   ],
   "source": [
    "click['url'].nunique()"
   ]
  },
  {
   "cell_type": "code",
   "execution_count": 103,
   "id": "78e79821",
   "metadata": {},
   "outputs": [],
   "source": [
    "events_pushka_accepted_30122021 = events_pushka_accepted_30122021.rename(columns= {'entity.saleLink': 'url',\n",
    "                                                                                  'entity._id': 'session_id',\n",
    "                                                                                  'entity.name': 'session_name',\n",
    "                                                                                  'entity.additionalSaleLinks.0': 'additional_url',\n",
    "                                                                                  'entity.organization._id': 'organization_id',\n",
    "                                                                                  'entity.organization.name': 'organization_name'}) "
   ]
  },
  {
   "cell_type": "code",
   "execution_count": 104,
   "id": "43e6fd75",
   "metadata": {},
   "outputs": [],
   "source": [
    "events_pushka_accepted_30122021 = events_pushka_accepted_30122021.astype({\"organization_id\": \"object\",\n",
    "                                                                         'session_id': 'object'})"
   ]
  },
  {
   "cell_type": "code",
   "execution_count": 105,
   "id": "3d42c30d",
   "metadata": {},
   "outputs": [],
   "source": [
    "cliks_add = pd.merge(click, events_pushka_accepted_30122021, how = 'left', on = 'url')"
   ]
  },
  {
   "cell_type": "code",
   "execution_count": 106,
   "id": "ee077479",
   "metadata": {},
   "outputs": [
    {
     "name": "stdout",
     "output_type": "stream",
     "text": [
      "<class 'pandas.core.frame.DataFrame'>\n",
      "Int64Index: 5747390 entries, 0 to 5747389\n",
      "Data columns (total 12 columns):\n",
      " #   Column              Dtype \n",
      "---  ------              ----- \n",
      " 0   create_time         object\n",
      " 1   create_date         object\n",
      " 2   user_phone_details  object\n",
      " 3   buyer_mobile_phone  object\n",
      " 4   user_id             object\n",
      " 5   url                 object\n",
      " 6   session_id          object\n",
      " 7   session_name        object\n",
      " 8   additional_url      object\n",
      " 9   organization_id     object\n",
      " 10  organization_name   object\n",
      " 11  session_identity    object\n",
      "dtypes: object(12)\n",
      "memory usage: 570.0+ MB\n"
     ]
    }
   ],
   "source": [
    "cliks_add.info()"
   ]
  },
  {
   "cell_type": "code",
   "execution_count": 107,
   "id": "e421e382",
   "metadata": {},
   "outputs": [],
   "source": [
    "cliks_add.to_csv(path + 'cliks_add.csv', sep=';', index=False)"
   ]
  },
  {
   "cell_type": "code",
   "execution_count": 108,
   "id": "76a049fc",
   "metadata": {},
   "outputs": [],
   "source": [
    "organizations = pd.read_csv(path2 + 'organizations.csv', sep = ';', error_bad_lines=False)"
   ]
  },
  {
   "cell_type": "code",
   "execution_count": 109,
   "id": "01c22d18",
   "metadata": {},
   "outputs": [],
   "source": [
    "organizations = organizations[organizations['ИНН'].notna()]"
   ]
  },
  {
   "cell_type": "code",
   "execution_count": 110,
   "id": "eb287b40",
   "metadata": {},
   "outputs": [],
   "source": [
    "organizations['Org_region_number'] = organizations['ИНН'].apply(lambda x:\n",
    "                                                               int(str(x)[:2]) \n",
    "                                                                if len(str(x)) == 12\n",
    "                                                               else int(str(x)[:1]))"
   ]
  },
  {
   "cell_type": "code",
   "execution_count": 111,
   "id": "e3af672a",
   "metadata": {},
   "outputs": [
    {
     "name": "stdout",
     "output_type": "stream",
     "text": [
      "<class 'pandas.core.frame.DataFrame'>\n",
      "Int64Index: 3260 entries, 0 to 3269\n",
      "Data columns (total 6 columns):\n",
      " #   Column             Non-Null Count  Dtype  \n",
      "---  ------             --------------  -----  \n",
      " 0   ID                 3260 non-null   int64  \n",
      " 1   Учреждение         3260 non-null   object \n",
      " 2   Адрес              3260 non-null   object \n",
      " 3   ИНН                3260 non-null   float64\n",
      " 4   Категория          3222 non-null   object \n",
      " 5   Org_region_number  3260 non-null   int64  \n",
      "dtypes: float64(1), int64(2), object(3)\n",
      "memory usage: 178.3+ KB\n"
     ]
    }
   ],
   "source": [
    "organizations.info()"
   ]
  },
  {
   "cell_type": "code",
   "execution_count": 112,
   "id": "addf71e0",
   "metadata": {},
   "outputs": [],
   "source": [
    "organizations = organizations.rename(\n",
    "    columns= {'ID': 'organization_id','Категория': 'org_category'}) "
   ]
  },
  {
   "cell_type": "code",
   "execution_count": 113,
   "id": "67e08ad8",
   "metadata": {},
   "outputs": [],
   "source": [
    "cliks_add = pd.merge(cliks_add, organizations[['organization_id', 'Org_region_number', 'org_category']],\n",
    "                     how = 'left', on = 'organization_id')"
   ]
  },
  {
   "cell_type": "code",
   "execution_count": 114,
   "id": "4bd0c6c0",
   "metadata": {},
   "outputs": [
    {
     "name": "stdout",
     "output_type": "stream",
     "text": [
      "<class 'pandas.core.frame.DataFrame'>\n",
      "Int64Index: 5747390 entries, 0 to 5747389\n",
      "Data columns (total 14 columns):\n",
      " #   Column              Dtype  \n",
      "---  ------              -----  \n",
      " 0   create_time         object \n",
      " 1   create_date         object \n",
      " 2   user_phone_details  object \n",
      " 3   buyer_mobile_phone  object \n",
      " 4   user_id             object \n",
      " 5   url                 object \n",
      " 6   session_id          object \n",
      " 7   session_name        object \n",
      " 8   additional_url      object \n",
      " 9   organization_id     object \n",
      " 10  organization_name   object \n",
      " 11  session_identity    object \n",
      " 12  Org_region_number   float64\n",
      " 13  org_category        object \n",
      "dtypes: float64(1), object(13)\n",
      "memory usage: 657.7+ MB\n"
     ]
    }
   ],
   "source": [
    "cliks_add.info()"
   ]
  },
  {
   "cell_type": "code",
   "execution_count": 115,
   "id": "c57c63cb",
   "metadata": {},
   "outputs": [
    {
     "data": {
      "text/html": [
       "<div>\n",
       "<style scoped>\n",
       "    .dataframe tbody tr th:only-of-type {\n",
       "        vertical-align: middle;\n",
       "    }\n",
       "\n",
       "    .dataframe tbody tr th {\n",
       "        vertical-align: top;\n",
       "    }\n",
       "\n",
       "    .dataframe thead th {\n",
       "        text-align: right;\n",
       "    }\n",
       "</style>\n",
       "<table border=\"1\" class=\"dataframe\">\n",
       "  <thead>\n",
       "    <tr style=\"text-align: right;\">\n",
       "      <th></th>\n",
       "      <th>create_time</th>\n",
       "      <th>create_date</th>\n",
       "      <th>user_phone_details</th>\n",
       "      <th>buyer_mobile_phone</th>\n",
       "      <th>user_id</th>\n",
       "      <th>url</th>\n",
       "      <th>session_id</th>\n",
       "      <th>session_name</th>\n",
       "      <th>additional_url</th>\n",
       "      <th>organization_id</th>\n",
       "      <th>organization_name</th>\n",
       "      <th>session_identity</th>\n",
       "      <th>Org_region_number</th>\n",
       "      <th>org_category</th>\n",
       "    </tr>\n",
       "  </thead>\n",
       "  <tbody>\n",
       "    <tr>\n",
       "      <th>3604328</th>\n",
       "      <td>2021-11-07 17:00:14</td>\n",
       "      <td>2021-11-07</td>\n",
       "      <td>Android, 11 (SDK 30)</td>\n",
       "      <td>0131522905d8e8a56ca70b281ddc935b</td>\n",
       "      <td>a6547333a5f7beffebd972778f2a130c</td>\n",
       "      <td>https://chel.kassy.ru/events/teatr/2-21296/hall/</td>\n",
       "      <td>125608</td>\n",
       "      <td>Опера «Жизнь за царя»</td>\n",
       "      <td>NaN</td>\n",
       "      <td>7779</td>\n",
       "      <td>ОГБУК «Челябинский государственный академическ...</td>\n",
       "      <td>Опера</td>\n",
       "      <td>74.0</td>\n",
       "      <td>Театры</td>\n",
       "    </tr>\n",
       "    <tr>\n",
       "      <th>5518410</th>\n",
       "      <td>2021-11-17 16:00:25</td>\n",
       "      <td>2021-11-17</td>\n",
       "      <td>iOS, iOS 14.7.1</td>\n",
       "      <td>ae8407a4b1623de6ccf9954ee7151ec7</td>\n",
       "      <td>119b8c84fbcfe8b663148bbe93c3a80b</td>\n",
       "      <td>https://ticket.bolshoi.ru/login</td>\n",
       "      <td>1385041</td>\n",
       "      <td>Балет «Драгоценности»</td>\n",
       "      <td>NaN</td>\n",
       "      <td>5472</td>\n",
       "      <td>ФГБУК «Государственный академический Большой т...</td>\n",
       "      <td>Балет</td>\n",
       "      <td>77.0</td>\n",
       "      <td>Театры</td>\n",
       "    </tr>\n",
       "    <tr>\n",
       "      <th>698854</th>\n",
       "      <td>2021-11-15 06:07:30</td>\n",
       "      <td>2021-11-15</td>\n",
       "      <td>Android, 9 (SDK 28)</td>\n",
       "      <td>6e438b90b0b3212e60207e58513fce30</td>\n",
       "      <td>ff290d2ef76c8fe02f837ab3811b36ed</td>\n",
       "      <td>https://teatrnabulake.ru/afisha</td>\n",
       "      <td>1249921</td>\n",
       "      <td>Спектакль «Зима»</td>\n",
       "      <td>NaN</td>\n",
       "      <td>12537</td>\n",
       "      <td>ООО «Молодежный театр на Булаке»</td>\n",
       "      <td>Спектакль</td>\n",
       "      <td>16.0</td>\n",
       "      <td>Театры</td>\n",
       "    </tr>\n",
       "  </tbody>\n",
       "</table>\n",
       "</div>"
      ],
      "text/plain": [
       "                 create_time create_date    user_phone_details  \\\n",
       "3604328  2021-11-07 17:00:14  2021-11-07  Android, 11 (SDK 30)   \n",
       "5518410  2021-11-17 16:00:25  2021-11-17       iOS, iOS 14.7.1   \n",
       "698854   2021-11-15 06:07:30  2021-11-15   Android, 9 (SDK 28)   \n",
       "\n",
       "                       buyer_mobile_phone                           user_id  \\\n",
       "3604328  0131522905d8e8a56ca70b281ddc935b  a6547333a5f7beffebd972778f2a130c   \n",
       "5518410  ae8407a4b1623de6ccf9954ee7151ec7  119b8c84fbcfe8b663148bbe93c3a80b   \n",
       "698854   6e438b90b0b3212e60207e58513fce30  ff290d2ef76c8fe02f837ab3811b36ed   \n",
       "\n",
       "                                                      url session_id  \\\n",
       "3604328  https://chel.kassy.ru/events/teatr/2-21296/hall/     125608   \n",
       "5518410                   https://ticket.bolshoi.ru/login    1385041   \n",
       "698854                    https://teatrnabulake.ru/afisha    1249921   \n",
       "\n",
       "                  session_name additional_url organization_id  \\\n",
       "3604328  Опера «Жизнь за царя»            NaN            7779   \n",
       "5518410  Балет «Драгоценности»            NaN            5472   \n",
       "698854        Спектакль «Зима»            NaN           12537   \n",
       "\n",
       "                                         organization_name session_identity  \\\n",
       "3604328  ОГБУК «Челябинский государственный академическ...            Опера   \n",
       "5518410  ФГБУК «Государственный академический Большой т...            Балет   \n",
       "698854                    ООО «Молодежный театр на Булаке»        Спектакль   \n",
       "\n",
       "         Org_region_number org_category  \n",
       "3604328               74.0       Театры  \n",
       "5518410               77.0       Театры  \n",
       "698854                16.0       Театры  "
      ]
     },
     "execution_count": 115,
     "metadata": {},
     "output_type": "execute_result"
    }
   ],
   "source": [
    "cliks_add.sample(3)"
   ]
  },
  {
   "cell_type": "code",
   "execution_count": 116,
   "id": "201c603f",
   "metadata": {},
   "outputs": [],
   "source": [
    "cliks_add.to_csv(path + 'cliks_add.csv', sep=';', index=False)"
   ]
  },
  {
   "cell_type": "code",
   "execution_count": 117,
   "id": "dd2e2d9f",
   "metadata": {},
   "outputs": [],
   "source": [
    "users = pd.read_csv(path + 'users_full.csv', sep=';', error_bad_lines=False)"
   ]
  },
  {
   "cell_type": "code",
   "execution_count": 118,
   "id": "fa752c34",
   "metadata": {},
   "outputs": [
    {
     "name": "stdout",
     "output_type": "stream",
     "text": [
      "<class 'pandas.core.frame.DataFrame'>\n",
      "RangeIndex: 2879681 entries, 0 to 2879680\n",
      "Data columns (total 9 columns):\n",
      " #   Column              Dtype  \n",
      "---  ------              -----  \n",
      " 0   create_date         int64  \n",
      " 1   user_id             object \n",
      " 2   user_birth          object \n",
      " 3   create_date.1       object \n",
      " 4   user_phone_details  object \n",
      " 5   buyer_mobile_phone  object \n",
      " 6   region              object \n",
      " 7   age                 int64  \n",
      " 8   user_region         float64\n",
      "dtypes: float64(1), int64(2), object(6)\n",
      "memory usage: 197.7+ MB\n"
     ]
    }
   ],
   "source": [
    "users.info()"
   ]
  },
  {
   "cell_type": "code",
   "execution_count": 119,
   "id": "9bc54f31",
   "metadata": {},
   "outputs": [],
   "source": [
    "cliks_add = pd.merge(cliks_add, users[['user_id', 'age', 'user_region']],\n",
    "                     how = 'left', on = 'user_id')"
   ]
  },
  {
   "cell_type": "code",
   "execution_count": 120,
   "id": "ec7d30e9",
   "metadata": {},
   "outputs": [
    {
     "name": "stdout",
     "output_type": "stream",
     "text": [
      "<class 'pandas.core.frame.DataFrame'>\n",
      "Int64Index: 5747390 entries, 0 to 5747389\n",
      "Data columns (total 16 columns):\n",
      " #   Column              Dtype  \n",
      "---  ------              -----  \n",
      " 0   create_time         object \n",
      " 1   create_date         object \n",
      " 2   user_phone_details  object \n",
      " 3   buyer_mobile_phone  object \n",
      " 4   user_id             object \n",
      " 5   url                 object \n",
      " 6   session_id          object \n",
      " 7   session_name        object \n",
      " 8   additional_url      object \n",
      " 9   organization_id     object \n",
      " 10  organization_name   object \n",
      " 11  session_identity    object \n",
      " 12  Org_region_number   float64\n",
      " 13  org_category        object \n",
      " 14  age                 float64\n",
      " 15  user_region         float64\n",
      "dtypes: float64(3), object(13)\n",
      "memory usage: 745.4+ MB\n"
     ]
    }
   ],
   "source": [
    "cliks_add.info()"
   ]
  },
  {
   "cell_type": "code",
   "execution_count": 121,
   "id": "6064261e",
   "metadata": {},
   "outputs": [],
   "source": [
    "cliks_add.to_csv(path + 'cliks_add.csv', sep=';', index=False)"
   ]
  },
  {
   "cell_type": "code",
   "execution_count": 122,
   "id": "8501ba8b",
   "metadata": {
    "scrolled": true
   },
   "outputs": [
    {
     "data": {
      "text/html": [
       "<div>\n",
       "<style scoped>\n",
       "    .dataframe tbody tr th:only-of-type {\n",
       "        vertical-align: middle;\n",
       "    }\n",
       "\n",
       "    .dataframe tbody tr th {\n",
       "        vertical-align: top;\n",
       "    }\n",
       "\n",
       "    .dataframe thead th {\n",
       "        text-align: right;\n",
       "    }\n",
       "</style>\n",
       "<table border=\"1\" class=\"dataframe\">\n",
       "  <thead>\n",
       "    <tr style=\"text-align: right;\">\n",
       "      <th></th>\n",
       "      <th>create_time</th>\n",
       "      <th>create_date</th>\n",
       "      <th>user_phone_details</th>\n",
       "      <th>buyer_mobile_phone</th>\n",
       "      <th>user_id</th>\n",
       "      <th>url</th>\n",
       "      <th>session_id</th>\n",
       "      <th>session_name</th>\n",
       "      <th>additional_url</th>\n",
       "      <th>organization_id</th>\n",
       "      <th>organization_name</th>\n",
       "      <th>session_identity</th>\n",
       "      <th>Org_region_number</th>\n",
       "      <th>org_category</th>\n",
       "      <th>age</th>\n",
       "      <th>user_region</th>\n",
       "    </tr>\n",
       "  </thead>\n",
       "  <tbody>\n",
       "    <tr>\n",
       "      <th>126434</th>\n",
       "      <td>2021-11-01 21:20:36</td>\n",
       "      <td>2021-11-01</td>\n",
       "      <td>iOS, iOS 14.4.2</td>\n",
       "      <td>ec162150e4cd8dd3511da2afd13c0db7</td>\n",
       "      <td>ffcc7ebd33558083ad2c2015c57a2f56</td>\n",
       "      <td>https://net-volgograd.ru/afisha/</td>\n",
       "      <td>1246923</td>\n",
       "      <td>Спектакль «Варшавская мелодия»</td>\n",
       "      <td>NaN</td>\n",
       "      <td>7911</td>\n",
       "      <td>ГБУК «Волгоградский Новый экспериментальный те...</td>\n",
       "      <td>Спектакль</td>\n",
       "      <td>34.0</td>\n",
       "      <td>Театры</td>\n",
       "      <td>20.0</td>\n",
       "      <td>34.0</td>\n",
       "    </tr>\n",
       "    <tr>\n",
       "      <th>4036095</th>\n",
       "      <td>2021-11-24 08:06:58</td>\n",
       "      <td>2021-11-24</td>\n",
       "      <td>Android, 11 (SDK 30)</td>\n",
       "      <td>34c372cb431afaa49c1d70d01495a90e</td>\n",
       "      <td>a2e8bccfafb9180549eb716ffc354b78</td>\n",
       "      <td>https://vmuzey.com/event/tematicheskaya-ekskur...</td>\n",
       "      <td>1438560</td>\n",
       "      <td>Экскурсия «Шорцы – кто они?»</td>\n",
       "      <td>NaN</td>\n",
       "      <td>2454</td>\n",
       "      <td>Таштагольский музей этнографии и природы Горно...</td>\n",
       "      <td>Экскурсия</td>\n",
       "      <td>42.0</td>\n",
       "      <td>Музеи и галереи</td>\n",
       "      <td>18.0</td>\n",
       "      <td>NaN</td>\n",
       "    </tr>\n",
       "    <tr>\n",
       "      <th>2271986</th>\n",
       "      <td>2021-11-03 17:24:30</td>\n",
       "      <td>2021-11-03</td>\n",
       "      <td>Android, 10 (SDK 29)</td>\n",
       "      <td>bd88b51f9ea0a39abcb94f474f565b75</td>\n",
       "      <td>cd816bd83f3bd5ab6b2b29d3991091fe</td>\n",
       "      <td>https://volkovteatr.ru/repertoire/curent/ottsy...</td>\n",
       "      <td>1232357</td>\n",
       "      <td>Спектакль «Отцы и дети»</td>\n",
       "      <td>NaN</td>\n",
       "      <td>9678</td>\n",
       "      <td>ФГБУК «Российский государственный академически...</td>\n",
       "      <td>Спектакль</td>\n",
       "      <td>76.0</td>\n",
       "      <td>Театры</td>\n",
       "      <td>17.0</td>\n",
       "      <td>NaN</td>\n",
       "    </tr>\n",
       "  </tbody>\n",
       "</table>\n",
       "</div>"
      ],
      "text/plain": [
       "                 create_time create_date    user_phone_details  \\\n",
       "126434   2021-11-01 21:20:36  2021-11-01       iOS, iOS 14.4.2   \n",
       "4036095  2021-11-24 08:06:58  2021-11-24  Android, 11 (SDK 30)   \n",
       "2271986  2021-11-03 17:24:30  2021-11-03  Android, 10 (SDK 29)   \n",
       "\n",
       "                       buyer_mobile_phone                           user_id  \\\n",
       "126434   ec162150e4cd8dd3511da2afd13c0db7  ffcc7ebd33558083ad2c2015c57a2f56   \n",
       "4036095  34c372cb431afaa49c1d70d01495a90e  a2e8bccfafb9180549eb716ffc354b78   \n",
       "2271986  bd88b51f9ea0a39abcb94f474f565b75  cd816bd83f3bd5ab6b2b29d3991091fe   \n",
       "\n",
       "                                                       url session_id  \\\n",
       "126434                    https://net-volgograd.ru/afisha/    1246923   \n",
       "4036095  https://vmuzey.com/event/tematicheskaya-ekskur...    1438560   \n",
       "2271986  https://volkovteatr.ru/repertoire/curent/ottsy...    1232357   \n",
       "\n",
       "                           session_name additional_url organization_id  \\\n",
       "126434   Спектакль «Варшавская мелодия»            NaN            7911   \n",
       "4036095    Экскурсия «Шорцы – кто они?»            NaN            2454   \n",
       "2271986         Спектакль «Отцы и дети»            NaN            9678   \n",
       "\n",
       "                                         organization_name session_identity  \\\n",
       "126434   ГБУК «Волгоградский Новый экспериментальный те...        Спектакль   \n",
       "4036095  Таштагольский музей этнографии и природы Горно...        Экскурсия   \n",
       "2271986  ФГБУК «Российский государственный академически...        Спектакль   \n",
       "\n",
       "         Org_region_number     org_category   age  user_region  \n",
       "126434                34.0           Театры  20.0         34.0  \n",
       "4036095               42.0  Музеи и галереи  18.0          NaN  \n",
       "2271986               76.0           Театры  17.0          NaN  "
      ]
     },
     "execution_count": 122,
     "metadata": {},
     "output_type": "execute_result"
    }
   ],
   "source": [
    "cliks_add.sample(3)"
   ]
  },
  {
   "cell_type": "code",
   "execution_count": 177,
   "id": "8131fcd7",
   "metadata": {},
   "outputs": [],
   "source": [
    "cliks_add.drop(['additional_url'],axis = 1, inplace = True)"
   ]
  },
  {
   "cell_type": "code",
   "execution_count": 187,
   "id": "e5f7e1f1",
   "metadata": {},
   "outputs": [],
   "source": [
    "cliks_add['user_phone_details_id'] = cliks_add['user_phone_details'].apply(lambda x: \n",
    "                                                                          re.sub('(\\..*)', '', x.replace('iOS ', '')) \n",
    "                                                                           if 'iOS' in x \n",
    "                                                                           else re.sub('\\ \\(.*', '', x))"
   ]
  },
  {
   "cell_type": "code",
   "execution_count": 188,
   "id": "3965f044",
   "metadata": {},
   "outputs": [
    {
     "data": {
      "text/plain": [
       "Android, 10           1384083\n",
       "Android, 11           1366778\n",
       "iOS, 15               1094266\n",
       "iOS, 14                991125\n",
       "Android, 9             534593\n",
       "Android, 8.1.0         120382\n",
       "Android, 8.0.0          86211\n",
       "iOS, 13                 56178\n",
       "Android, 7.0            37081\n",
       "Android, 7.1.2          24400\n",
       "iOS, 12                 16641\n",
       "Android, 7.1.1          11518\n",
       "Android, 6.0.1          11202\n",
       "Android, 6.0             7183\n",
       "Android, 12              4828\n",
       "Android, 10.0             513\n",
       "iOS, 11                   220\n",
       "Android, 9.0               99\n",
       "Android, 11.0              54\n",
       "Android, 5.1               22\n",
       "Android, 7.0.0             12\n",
       "user_phone_details          1\n",
       "Name: user_phone_details_id, dtype: int64"
      ]
     },
     "execution_count": 188,
     "metadata": {},
     "output_type": "execute_result"
    }
   ],
   "source": [
    "cliks_add['user_phone_details_id'].value_counts()"
   ]
  },
  {
   "cell_type": "code",
   "execution_count": 181,
   "id": "16670b77",
   "metadata": {},
   "outputs": [],
   "source": [
    "x = re.sub('\\ \\(.*', '', cliks_add['user_phone_details'].value_counts().index[1])#.replace('iOS ', ''))"
   ]
  },
  {
   "cell_type": "code",
   "execution_count": 182,
   "id": "7df4cb58",
   "metadata": {},
   "outputs": [
    {
     "data": {
      "text/plain": [
       "'Android, 11'"
      ]
     },
     "execution_count": 182,
     "metadata": {},
     "output_type": "execute_result"
    }
   ],
   "source": [
    "x"
   ]
  }
 ],
 "metadata": {
  "kernelspec": {
   "display_name": "Python 3 (ipykernel)",
   "language": "python",
   "name": "python3"
  },
  "language_info": {
   "codemirror_mode": {
    "name": "ipython",
    "version": 3
   },
   "file_extension": ".py",
   "mimetype": "text/x-python",
   "name": "python",
   "nbconvert_exporter": "python",
   "pygments_lexer": "ipython3",
   "version": "3.8.11"
  }
 },
 "nbformat": 4,
 "nbformat_minor": 5
}
