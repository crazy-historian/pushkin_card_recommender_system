{
 "cells": [
  {
   "cell_type": "code",
   "execution_count": 1,
   "id": "d0dbbf48",
   "metadata": {},
   "outputs": [],
   "source": [
    "import pandas as pd\n",
    "import numpy as np\n",
    "import math"
   ]
  },
  {
   "cell_type": "code",
   "execution_count": 2,
   "id": "e6a4963e",
   "metadata": {},
   "outputs": [],
   "source": [
    "path = 'C:/Users/Rusla/Documents/GitHub/Пушкинская карта - стажировка/Sample/'"
   ]
  },
  {
   "cell_type": "code",
   "execution_count": 3,
   "id": "4e7503dc",
   "metadata": {},
   "outputs": [
    {
     "name": "stderr",
     "output_type": "stream",
     "text": [
      "b'Skipping line 862995: expected 6 fields, saw 7\\nSkipping line 862997: expected 6 fields, saw 7\\n'\n",
      "b'Skipping line 2142333: expected 6 fields, saw 7\\nSkipping line 2142335: expected 6 fields, saw 7\\n'\n",
      "b'Skipping line 2844195: expected 6 fields, saw 7\\n'\n",
      "b'Skipping line 3074159: expected 6 fields, saw 7\\n'\n"
     ]
    }
   ],
   "source": [
    "click = pd.read_csv(path + 'click.csv', sep=';', error_bad_lines=False)"
   ]
  },
  {
   "cell_type": "code",
   "execution_count": 4,
   "id": "53d83c5b",
   "metadata": {},
   "outputs": [],
   "source": [
    "path2 = 'C:/Users/Rusla/Documents/GitHub/Пушкинская карта - стажировка/Sample/events/'"
   ]
  },
  {
   "cell_type": "code",
   "execution_count": 5,
   "id": "d1920fcd",
   "metadata": {},
   "outputs": [],
   "source": [
    "events_pushka_accepted_30122021 = pd.read_csv(path2 + 'events_pushka_accepted_30122021.csv', sep = ',', error_bad_lines=False)"
   ]
  },
  {
   "cell_type": "code",
   "execution_count": 6,
   "id": "5c2aafba",
   "metadata": {},
   "outputs": [
    {
     "data": {
      "text/html": [
       "<div>\n",
       "<style scoped>\n",
       "    .dataframe tbody tr th:only-of-type {\n",
       "        vertical-align: middle;\n",
       "    }\n",
       "\n",
       "    .dataframe tbody tr th {\n",
       "        vertical-align: top;\n",
       "    }\n",
       "\n",
       "    .dataframe thead th {\n",
       "        text-align: right;\n",
       "    }\n",
       "</style>\n",
       "<table border=\"1\" class=\"dataframe\">\n",
       "  <thead>\n",
       "    <tr style=\"text-align: right;\">\n",
       "      <th></th>\n",
       "      <th>create_time</th>\n",
       "      <th>create_date</th>\n",
       "      <th>user_phone_details</th>\n",
       "      <th>buyer_mobile_phone</th>\n",
       "      <th>user_id</th>\n",
       "      <th>url</th>\n",
       "    </tr>\n",
       "  </thead>\n",
       "  <tbody>\n",
       "    <tr>\n",
       "      <th>1384090</th>\n",
       "      <td>2021-11-10 13:17:34</td>\n",
       "      <td>2021-11-10</td>\n",
       "      <td>iOS, iOS 15.0.2</td>\n",
       "      <td>c9f2bff92d107c5b8cbd979a8b8cb391</td>\n",
       "      <td>c13fc626448c22c1e5f3b909cf148e0e</td>\n",
       "      <td>https://vmuzey.com/museum/hudozhestvennyy-muze...</td>\n",
       "    </tr>\n",
       "    <tr>\n",
       "      <th>1502165</th>\n",
       "      <td>2021-11-16 05:18:09</td>\n",
       "      <td>2021-11-16</td>\n",
       "      <td>Android, 9 (SDK 28)</td>\n",
       "      <td>99ef63e1f40914db00f8ae3204434e0e</td>\n",
       "      <td>8d76483ae9d708a6f763c408fc867782</td>\n",
       "      <td>https://iframeab-pre3870.intickets.ru/seance/1...</td>\n",
       "    </tr>\n",
       "    <tr>\n",
       "      <th>1525071</th>\n",
       "      <td>2021-11-17 07:53:45</td>\n",
       "      <td>2021-11-17</td>\n",
       "      <td>iOS, iOS 15.0.2</td>\n",
       "      <td>948a2811033e01bf1c10da3aff854ea5</td>\n",
       "      <td>249fa0bedc8a1a290c999985506b82c9</td>\n",
       "      <td>https://vmuzey.com/event/loskutnyy-uzor-tradic...</td>\n",
       "    </tr>\n",
       "  </tbody>\n",
       "</table>\n",
       "</div>"
      ],
      "text/plain": [
       "                 create_time create_date   user_phone_details  \\\n",
       "1384090  2021-11-10 13:17:34  2021-11-10      iOS, iOS 15.0.2   \n",
       "1502165  2021-11-16 05:18:09  2021-11-16  Android, 9 (SDK 28)   \n",
       "1525071  2021-11-17 07:53:45  2021-11-17      iOS, iOS 15.0.2   \n",
       "\n",
       "                       buyer_mobile_phone                           user_id  \\\n",
       "1384090  c9f2bff92d107c5b8cbd979a8b8cb391  c13fc626448c22c1e5f3b909cf148e0e   \n",
       "1502165  99ef63e1f40914db00f8ae3204434e0e  8d76483ae9d708a6f763c408fc867782   \n",
       "1525071  948a2811033e01bf1c10da3aff854ea5  249fa0bedc8a1a290c999985506b82c9   \n",
       "\n",
       "                                                       url  \n",
       "1384090  https://vmuzey.com/museum/hudozhestvennyy-muze...  \n",
       "1502165  https://iframeab-pre3870.intickets.ru/seance/1...  \n",
       "1525071  https://vmuzey.com/event/loskutnyy-uzor-tradic...  "
      ]
     },
     "execution_count": 6,
     "metadata": {},
     "output_type": "execute_result"
    }
   ],
   "source": [
    "click.sample(3)"
   ]
  },
  {
   "cell_type": "code",
   "execution_count": 7,
   "id": "e3baf59f",
   "metadata": {
    "scrolled": true
   },
   "outputs": [
    {
     "data": {
      "text/html": [
       "<div>\n",
       "<style scoped>\n",
       "    .dataframe tbody tr th:only-of-type {\n",
       "        vertical-align: middle;\n",
       "    }\n",
       "\n",
       "    .dataframe tbody tr th {\n",
       "        vertical-align: top;\n",
       "    }\n",
       "\n",
       "    .dataframe thead th {\n",
       "        text-align: right;\n",
       "    }\n",
       "</style>\n",
       "<table border=\"1\" class=\"dataframe\">\n",
       "  <thead>\n",
       "    <tr style=\"text-align: right;\">\n",
       "      <th></th>\n",
       "      <th>entity._id</th>\n",
       "      <th>entity.name</th>\n",
       "      <th>entity.saleLink</th>\n",
       "      <th>entity.additionalSaleLinks.0</th>\n",
       "      <th>entity.organization._id</th>\n",
       "      <th>entity.organization.name</th>\n",
       "    </tr>\n",
       "  </thead>\n",
       "  <tbody>\n",
       "    <tr>\n",
       "      <th>5554</th>\n",
       "      <td>900057</td>\n",
       "      <td>Концерт «Берегите Россию»</td>\n",
       "      <td>https://urfolk-art.ru/events/event/beregite-ro...</td>\n",
       "      <td>https://kurgan.kassy.ru/events/koncerty-i-shou...</td>\n",
       "      <td>5669.0</td>\n",
       "      <td>ГАУК СО «Уральский центр народного искусства и...</td>\n",
       "    </tr>\n",
       "    <tr>\n",
       "      <th>20035</th>\n",
       "      <td>1274878</td>\n",
       "      <td>Спектакль «Король Лир»</td>\n",
       "      <td>https://voronezhdrama.ru/afisha/</td>\n",
       "      <td>NaN</td>\n",
       "      <td>6991.0</td>\n",
       "      <td>ГБУК ВО «Воронежский государственный академиче...</td>\n",
       "    </tr>\n",
       "    <tr>\n",
       "      <th>21418</th>\n",
       "      <td>1281104</td>\n",
       "      <td>Концерт «Город мечты»</td>\n",
       "      <td>https://gubcks.ru/</td>\n",
       "      <td>NaN</td>\n",
       "      <td>12787.0</td>\n",
       "      <td>МБУ «Централизованная клубная система города Г...</td>\n",
       "    </tr>\n",
       "  </tbody>\n",
       "</table>\n",
       "</div>"
      ],
      "text/plain": [
       "       entity._id                entity.name  \\\n",
       "5554       900057  Концерт «Берегите Россию»   \n",
       "20035     1274878     Спектакль «Король Лир»   \n",
       "21418     1281104      Концерт «Город мечты»   \n",
       "\n",
       "                                         entity.saleLink  \\\n",
       "5554   https://urfolk-art.ru/events/event/beregite-ro...   \n",
       "20035                   https://voronezhdrama.ru/afisha/   \n",
       "21418                                 https://gubcks.ru/   \n",
       "\n",
       "                            entity.additionalSaleLinks.0  \\\n",
       "5554   https://kurgan.kassy.ru/events/koncerty-i-shou...   \n",
       "20035                                                NaN   \n",
       "21418                                                NaN   \n",
       "\n",
       "       entity.organization._id  \\\n",
       "5554                    5669.0   \n",
       "20035                   6991.0   \n",
       "21418                  12787.0   \n",
       "\n",
       "                                entity.organization.name  \n",
       "5554   ГАУК СО «Уральский центр народного искусства и...  \n",
       "20035  ГБУК ВО «Воронежский государственный академиче...  \n",
       "21418  МБУ «Централизованная клубная система города Г...  "
      ]
     },
     "execution_count": 7,
     "metadata": {},
     "output_type": "execute_result"
    }
   ],
   "source": [
    "events_pushka_accepted_30122021.sample(3)"
   ]
  },
  {
   "cell_type": "code",
   "execution_count": 19,
   "id": "197df712",
   "metadata": {
    "scrolled": true
   },
   "outputs": [
    {
     "name": "stdout",
     "output_type": "stream",
     "text": [
      "<class 'pandas.core.frame.DataFrame'>\n",
      "RangeIndex: 47856 entries, 0 to 47855\n",
      "Data columns (total 6 columns):\n",
      " #   Column                        Non-Null Count  Dtype  \n",
      "---  ------                        --------------  -----  \n",
      " 0   entity._id                    47856 non-null  int64  \n",
      " 1   entity.name                   47220 non-null  object \n",
      " 2   entity.saleLink               47218 non-null  object \n",
      " 3   entity.additionalSaleLinks.0  4636 non-null   object \n",
      " 4   entity.organization._id       47220 non-null  float64\n",
      " 5   entity.organization.name      47220 non-null  object \n",
      "dtypes: float64(1), int64(1), object(4)\n",
      "memory usage: 2.2+ MB\n"
     ]
    }
   ],
   "source": [
    "events_pushka_accepted_30122021.info()"
   ]
  },
  {
   "cell_type": "code",
   "execution_count": 21,
   "id": "7f81c71d",
   "metadata": {},
   "outputs": [],
   "source": [
    "events_pushka_accepted_30122021 = events_pushka_accepted_30122021[events_pushka_accepted_30122021[\n",
    "    'entity.saleLink'].notna() == True]"
   ]
  },
  {
   "cell_type": "code",
   "execution_count": 22,
   "id": "8d0b3f41",
   "metadata": {},
   "outputs": [
    {
     "name": "stdout",
     "output_type": "stream",
     "text": [
      "<class 'pandas.core.frame.DataFrame'>\n",
      "Int64Index: 47218 entries, 0 to 47855\n",
      "Data columns (total 6 columns):\n",
      " #   Column                        Non-Null Count  Dtype  \n",
      "---  ------                        --------------  -----  \n",
      " 0   entity._id                    47218 non-null  int64  \n",
      " 1   entity.name                   47218 non-null  object \n",
      " 2   entity.saleLink               47218 non-null  object \n",
      " 3   entity.additionalSaleLinks.0  4636 non-null   object \n",
      " 4   entity.organization._id       47218 non-null  float64\n",
      " 5   entity.organization.name      47218 non-null  object \n",
      "dtypes: float64(1), int64(1), object(4)\n",
      "memory usage: 2.5+ MB\n"
     ]
    }
   ],
   "source": [
    "events_pushka_accepted_30122021.info()"
   ]
  },
  {
   "cell_type": "code",
   "execution_count": 23,
   "id": "86a7b7a5",
   "metadata": {
    "scrolled": true
   },
   "outputs": [
    {
     "name": "stderr",
     "output_type": "stream",
     "text": [
      "C:\\Users\\Rusla\\AppData\\Local\\Temp/ipykernel_37592/2959895161.py:1: SettingWithCopyWarning: \n",
      "A value is trying to be set on a copy of a slice from a DataFrame.\n",
      "Try using .loc[row_indexer,col_indexer] = value instead\n",
      "\n",
      "See the caveats in the documentation: https://pandas.pydata.org/pandas-docs/stable/user_guide/indexing.html#returning-a-view-versus-a-copy\n",
      "  events_pushka_accepted_30122021['session_inentity'] = events_pushka_accepted_30122021['entity.name'\n"
     ]
    }
   ],
   "source": [
    "events_pushka_accepted_30122021['session_inentity'] = events_pushka_accepted_30122021['entity.name'\n",
    "                                                                                     ].apply(lambda x:\n",
    "                                                                                            x.split()[0].strip())"
   ]
  },
  {
   "cell_type": "code",
   "execution_count": 24,
   "id": "72d9ac40",
   "metadata": {},
   "outputs": [
    {
     "name": "stdout",
     "output_type": "stream",
     "text": [
      "<class 'pandas.core.frame.DataFrame'>\n",
      "Int64Index: 47218 entries, 0 to 47855\n",
      "Data columns (total 7 columns):\n",
      " #   Column                        Non-Null Count  Dtype  \n",
      "---  ------                        --------------  -----  \n",
      " 0   entity._id                    47218 non-null  int64  \n",
      " 1   entity.name                   47218 non-null  object \n",
      " 2   entity.saleLink               47218 non-null  object \n",
      " 3   entity.additionalSaleLinks.0  4636 non-null   object \n",
      " 4   entity.organization._id       47218 non-null  float64\n",
      " 5   entity.organization.name      47218 non-null  object \n",
      " 6   session_inentity              47218 non-null  object \n",
      "dtypes: float64(1), int64(1), object(5)\n",
      "memory usage: 2.9+ MB\n"
     ]
    }
   ],
   "source": [
    "events_pushka_accepted_30122021.info()"
   ]
  },
  {
   "cell_type": "code",
   "execution_count": 25,
   "id": "652e90ed",
   "metadata": {},
   "outputs": [
    {
     "data": {
      "text/html": [
       "<div>\n",
       "<style scoped>\n",
       "    .dataframe tbody tr th:only-of-type {\n",
       "        vertical-align: middle;\n",
       "    }\n",
       "\n",
       "    .dataframe tbody tr th {\n",
       "        vertical-align: top;\n",
       "    }\n",
       "\n",
       "    .dataframe thead th {\n",
       "        text-align: right;\n",
       "    }\n",
       "</style>\n",
       "<table border=\"1\" class=\"dataframe\">\n",
       "  <thead>\n",
       "    <tr style=\"text-align: right;\">\n",
       "      <th></th>\n",
       "      <th>entity._id</th>\n",
       "      <th>entity.name</th>\n",
       "      <th>entity.saleLink</th>\n",
       "      <th>entity.additionalSaleLinks.0</th>\n",
       "      <th>entity.organization._id</th>\n",
       "      <th>entity.organization.name</th>\n",
       "      <th>session_inentity</th>\n",
       "    </tr>\n",
       "  </thead>\n",
       "  <tbody>\n",
       "    <tr>\n",
       "      <th>40424</th>\n",
       "      <td>1412442</td>\n",
       "      <td>Мастер-класс «Vogue для начинающих. Женский урок»</td>\n",
       "      <td>https://kzn.kassir.ru/obrazovanie/vogue-dlya-n...</td>\n",
       "      <td>NaN</td>\n",
       "      <td>26466.0</td>\n",
       "      <td>МБУК г. Казани «Культурно-досуговый комплекс и...</td>\n",
       "      <td>Мастер-класс</td>\n",
       "    </tr>\n",
       "    <tr>\n",
       "      <th>36150</th>\n",
       "      <td>1366973</td>\n",
       "      <td>Спектакль «История медведей панда, рассказанна...</td>\n",
       "      <td>https://quicktickets.ru/volgodonsk-mdt/e16</td>\n",
       "      <td>NaN</td>\n",
       "      <td>21783.0</td>\n",
       "      <td>МАУК Волгодонский молодежный драматический театр</td>\n",
       "      <td>Спектакль</td>\n",
       "    </tr>\n",
       "    <tr>\n",
       "      <th>5805</th>\n",
       "      <td>920329</td>\n",
       "      <td>Спектакль «Дон Жуан, или Каменный пир»</td>\n",
       "      <td>https://www.vedogon.ru/afisha/spektakli/don-zh...</td>\n",
       "      <td>NaN</td>\n",
       "      <td>6725.0</td>\n",
       "      <td>ГБУК г. Москвы «Ведогонь-театр»</td>\n",
       "      <td>Спектакль</td>\n",
       "    </tr>\n",
       "  </tbody>\n",
       "</table>\n",
       "</div>"
      ],
      "text/plain": [
       "       entity._id                                        entity.name  \\\n",
       "40424     1412442  Мастер-класс «Vogue для начинающих. Женский урок»   \n",
       "36150     1366973  Спектакль «История медведей панда, рассказанна...   \n",
       "5805       920329             Спектакль «Дон Жуан, или Каменный пир»   \n",
       "\n",
       "                                         entity.saleLink  \\\n",
       "40424  https://kzn.kassir.ru/obrazovanie/vogue-dlya-n...   \n",
       "36150         https://quicktickets.ru/volgodonsk-mdt/e16   \n",
       "5805   https://www.vedogon.ru/afisha/spektakli/don-zh...   \n",
       "\n",
       "      entity.additionalSaleLinks.0  entity.organization._id  \\\n",
       "40424                          NaN                  26466.0   \n",
       "36150                          NaN                  21783.0   \n",
       "5805                           NaN                   6725.0   \n",
       "\n",
       "                                entity.organization.name session_inentity  \n",
       "40424  МБУК г. Казани «Культурно-досуговый комплекс и...     Мастер-класс  \n",
       "36150   МАУК Волгодонский молодежный драматический театр        Спектакль  \n",
       "5805                     ГБУК г. Москвы «Ведогонь-театр»        Спектакль  "
      ]
     },
     "execution_count": 25,
     "metadata": {},
     "output_type": "execute_result"
    }
   ],
   "source": [
    "events_pushka_accepted_30122021.sample(3)"
   ]
  },
  {
   "cell_type": "code",
   "execution_count": 26,
   "id": "d8606673",
   "metadata": {},
   "outputs": [
    {
     "data": {
      "text/plain": [
       "Спектакль          18787\n",
       "Концерт             8216\n",
       "Выставка            2835\n",
       "Экскурсия           2552\n",
       "Мастер-класс        1872\n",
       "                   ...  \n",
       "XVII                   1\n",
       "Юбилейное              1\n",
       "Арт-кафе               1\n",
       "Культурная             1\n",
       "Оперетта-мюзикл        1\n",
       "Name: session_inentity, Length: 817, dtype: int64"
      ]
     },
     "execution_count": 26,
     "metadata": {},
     "output_type": "execute_result"
    }
   ],
   "source": [
    "events_pushka_accepted_30122021['session_inentity'].value_counts()"
   ]
  },
  {
   "cell_type": "code",
   "execution_count": 13,
   "id": "4e922b5b",
   "metadata": {},
   "outputs": [],
   "source": [
    "events_links = events_pushka_accepted_30122021['entity.saleLink'].unique()"
   ]
  },
  {
   "cell_type": "code",
   "execution_count": 14,
   "id": "b501915d",
   "metadata": {},
   "outputs": [],
   "source": [
    "click_links = click['url'].unique()"
   ]
  },
  {
   "cell_type": "code",
   "execution_count": 15,
   "id": "39fc3180",
   "metadata": {},
   "outputs": [],
   "source": [
    "equal_links = []\n",
    "\n",
    "for i in click_links:\n",
    "    for j in events_links:\n",
    "        if i == j:\n",
    "            equal_links.append(i)"
   ]
  },
  {
   "cell_type": "code",
   "execution_count": 16,
   "id": "d10086ab",
   "metadata": {},
   "outputs": [
    {
     "data": {
      "text/plain": [
       "19572"
      ]
     },
     "execution_count": 16,
     "metadata": {},
     "output_type": "execute_result"
    }
   ],
   "source": [
    "len(equal_links)"
   ]
  },
  {
   "cell_type": "code",
   "execution_count": 17,
   "id": "cc12d8fa",
   "metadata": {},
   "outputs": [
    {
     "data": {
      "text/plain": [
       "19924"
      ]
     },
     "execution_count": 17,
     "metadata": {},
     "output_type": "execute_result"
    }
   ],
   "source": [
    "click['url'].nunique()"
   ]
  },
  {
   "cell_type": "code",
   "execution_count": null,
   "id": "78e79821",
   "metadata": {},
   "outputs": [],
   "source": [
    "events_pushka_accepted_30122021 = events_pushka_accepted_30122021.rename(columns= {'entity.saleLink': 'url',\n",
    "                                                                                  'entity._id': 'session_id',\n",
    "                                                                                  'entity.name'}) "
   ]
  }
 ],
 "metadata": {
  "kernelspec": {
   "display_name": "Python 3 (ipykernel)",
   "language": "python",
   "name": "python3"
  },
  "language_info": {
   "codemirror_mode": {
    "name": "ipython",
    "version": 3
   },
   "file_extension": ".py",
   "mimetype": "text/x-python",
   "name": "python",
   "nbconvert_exporter": "python",
   "pygments_lexer": "ipython3",
   "version": "3.8.11"
  }
 },
 "nbformat": 4,
 "nbformat_minor": 5
}
