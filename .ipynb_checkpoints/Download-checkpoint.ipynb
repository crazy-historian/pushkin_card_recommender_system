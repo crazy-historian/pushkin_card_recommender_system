{
 "cells": [
  {
   "cell_type": "code",
   "execution_count": 3,
   "id": "63e39a3a",
   "metadata": {},
   "outputs": [],
   "source": [
    "import pandas as pd\n",
    "import numpy as np"
   ]
  },
  {
   "cell_type": "code",
   "execution_count": 4,
   "id": "f7f2a64f",
   "metadata": {},
   "outputs": [],
   "source": [
    "dir = 'C:/Users/Rusla/Documents/GitHub/Пушкинская карта - стажировка/Sample/'"
   ]
  },
  {
   "cell_type": "code",
   "execution_count": 5,
   "id": "90b7ee6a",
   "metadata": {},
   "outputs": [
    {
     "name": "stdout",
     "output_type": "stream",
     "text": [
      "{'encoding': 'utf-8', 'confidence': 0.99, 'language': ''}\n"
     ]
    }
   ],
   "source": [
    "from chardet.universaldetector import UniversalDetector\n",
    "detector = UniversalDetector()\n",
    "with open(dir + \"click.txt\", 'rb') as fh:\n",
    "    for line in fh:\n",
    "        detector.feed(line)\n",
    "        if detector.done:\n",
    "            break\n",
    "    detector.close()\n",
    "print(detector.result)"
   ]
  },
  {
   "cell_type": "code",
   "execution_count": 6,
   "id": "7c92216f",
   "metadata": {},
   "outputs": [],
   "source": [
    "import csv\n",
    "\n",
    "with open(dir + \"click.txt\", \"r\", newline='', encoding='utf-8', errors = 'ignore') as in_file:\n",
    "    stripped = (line.strip() for line in in_file)\n",
    "    lines = (line.split(\";\") for line in stripped if line)\n",
    "    with open(dir + 'click.csv', 'w', encoding='utf-8', errors = 'ignore') as out_file:\n",
    "        writer = csv.writer(out_file, delimiter = ';')\n",
    "        writer.writerow(('create_time', 'create_date', 'user_phone_details', 'buyer_mobile_phone', 'user_id', 'url'))\n",
    "        writer.writerows(lines)"
   ]
  },
  {
   "cell_type": "code",
   "execution_count": 7,
   "id": "1134fea6",
   "metadata": {},
   "outputs": [
    {
     "name": "stdout",
     "output_type": "stream",
     "text": [
      "{'encoding': 'utf-8', 'confidence': 0.99, 'language': ''}\n"
     ]
    }
   ],
   "source": [
    "detector = UniversalDetector()\n",
    "with open(dir + \"click.csv\", 'rb') as fh:\n",
    "    for line in fh:\n",
    "        detector.feed(line)\n",
    "        if detector.done:\n",
    "            break\n",
    "    detector.close()\n",
    "print(detector.result)"
   ]
  },
  {
   "cell_type": "code",
   "execution_count": 8,
   "id": "6d9d396f",
   "metadata": {},
   "outputs": [
    {
     "name": "stderr",
     "output_type": "stream",
     "text": [
      "b'Skipping line 862995: expected 6 fields, saw 7\\nSkipping line 862997: expected 6 fields, saw 7\\n'\n",
      "b'Skipping line 2142333: expected 6 fields, saw 7\\nSkipping line 2142335: expected 6 fields, saw 7\\n'\n",
      "b'Skipping line 2844195: expected 6 fields, saw 7\\n'\n",
      "b'Skipping line 3074159: expected 6 fields, saw 7\\n'\n"
     ]
    }
   ],
   "source": [
    "click = pd.read_csv(dir + 'click.csv', sep=';', error_bad_lines=False)"
   ]
  },
  {
   "cell_type": "code",
   "execution_count": 9,
   "id": "da317787",
   "metadata": {},
   "outputs": [
    {
     "name": "stdout",
     "output_type": "stream",
     "text": [
      "<class 'pandas.core.frame.DataFrame'>\n",
      "RangeIndex: 1596724 entries, 0 to 1596723\n",
      "Data columns (total 6 columns):\n",
      " #   Column              Non-Null Count    Dtype \n",
      "---  ------              --------------    ----- \n",
      " 0   create_time         1596724 non-null  object\n",
      " 1   create_date         1596724 non-null  object\n",
      " 2   user_phone_details  1596724 non-null  object\n",
      " 3   buyer_mobile_phone  1596724 non-null  object\n",
      " 4   user_id             1596724 non-null  object\n",
      " 5   url                 1596724 non-null  object\n",
      "dtypes: object(6)\n",
      "memory usage: 73.1+ MB\n"
     ]
    }
   ],
   "source": [
    "click.info()"
   ]
  },
  {
   "cell_type": "code",
   "execution_count": 10,
   "id": "c4a05ffd",
   "metadata": {},
   "outputs": [
    {
     "data": {
      "text/html": [
       "<div>\n",
       "<style scoped>\n",
       "    .dataframe tbody tr th:only-of-type {\n",
       "        vertical-align: middle;\n",
       "    }\n",
       "\n",
       "    .dataframe tbody tr th {\n",
       "        vertical-align: top;\n",
       "    }\n",
       "\n",
       "    .dataframe thead th {\n",
       "        text-align: right;\n",
       "    }\n",
       "</style>\n",
       "<table border=\"1\" class=\"dataframe\">\n",
       "  <thead>\n",
       "    <tr style=\"text-align: right;\">\n",
       "      <th></th>\n",
       "      <th>create_time</th>\n",
       "      <th>create_date</th>\n",
       "      <th>user_phone_details</th>\n",
       "      <th>buyer_mobile_phone</th>\n",
       "      <th>user_id</th>\n",
       "      <th>url</th>\n",
       "    </tr>\n",
       "  </thead>\n",
       "  <tbody>\n",
       "    <tr>\n",
       "      <th>177730</th>\n",
       "      <td>2021-11-21 13:03:04</td>\n",
       "      <td>2021-11-21</td>\n",
       "      <td>Android, 9 (SDK 28)</td>\n",
       "      <td>790d97390fb977bc7c713f669aae257e</td>\n",
       "      <td>f662dbee0d50279215d5f5fee1a4e0a7</td>\n",
       "      <td>https://ticket.rusmuseum.ru/event/82DC859FAE69...</td>\n",
       "    </tr>\n",
       "    <tr>\n",
       "      <th>1030150</th>\n",
       "      <td>2021-11-26 17:12:05</td>\n",
       "      <td>2021-11-26</td>\n",
       "      <td>Android, 9 (SDK 28)</td>\n",
       "      <td>9b291396d9d074b4afafeec729b8f817</td>\n",
       "      <td>b50449ca03197a7ec5ab739296cfddba</td>\n",
       "      <td>https://ktyz.ru/play/view/236</td>\n",
       "    </tr>\n",
       "    <tr>\n",
       "      <th>1391856</th>\n",
       "      <td>2021-11-29 15:17:36</td>\n",
       "      <td>2021-11-29</td>\n",
       "      <td>Android, 10 (SDK 29)</td>\n",
       "      <td>84ca7bed19b415855a93d69e295add4b</td>\n",
       "      <td>8b9738bae680cdad49a302d842cce680</td>\n",
       "      <td>https://votk33.ru/events/</td>\n",
       "    </tr>\n",
       "    <tr>\n",
       "      <th>1362461</th>\n",
       "      <td>2021-11-29 11:28:22</td>\n",
       "      <td>2021-11-29</td>\n",
       "      <td>iOS, iOS 14.6</td>\n",
       "      <td>7095d3d43326a8a97ce59c0dd9a5dcf3</td>\n",
       "      <td>c702fb15df5ed6f3f78c23689167a635</td>\n",
       "      <td>https://nn.kassir.ru/frame/event/906058?key=82...</td>\n",
       "    </tr>\n",
       "    <tr>\n",
       "      <th>1302157</th>\n",
       "      <td>2021-11-25 09:54:38</td>\n",
       "      <td>2021-11-25</td>\n",
       "      <td>Android, 9 (SDK 28)</td>\n",
       "      <td>a0b24b448af96d7559c3dff5f77905c8</td>\n",
       "      <td>29e0ca40f27372c426f17cd5c75815c6</td>\n",
       "      <td>https://lk.zakaz.cloud/b/1/1105</td>\n",
       "    </tr>\n",
       "    <tr>\n",
       "      <th>1166130</th>\n",
       "      <td>2021-11-15 11:02:44</td>\n",
       "      <td>2021-11-15</td>\n",
       "      <td>Android, 11 (SDK 30)</td>\n",
       "      <td>0bdb2eac7ed2e6d1c23a840575d0e018</td>\n",
       "      <td>f3383099e852f70257022f6e4eb3aa27</td>\n",
       "      <td>https://volkovteatr.ru/repertoire/curent/ottsy...</td>\n",
       "    </tr>\n",
       "    <tr>\n",
       "      <th>1459892</th>\n",
       "      <td>2021-11-13 04:08:11</td>\n",
       "      <td>2021-11-13</td>\n",
       "      <td>iOS, iOS 15.0.1</td>\n",
       "      <td>a26834f243cd5fc1c7fcb5f55be1ad07</td>\n",
       "      <td>c724f9d59f4fdbdf43e0b343e4ccb35c</td>\n",
       "      <td>https://tdt.kto72.ru/events/semeyka-addams-597/</td>\n",
       "    </tr>\n",
       "  </tbody>\n",
       "</table>\n",
       "</div>"
      ],
      "text/plain": [
       "                 create_time create_date    user_phone_details  \\\n",
       "177730   2021-11-21 13:03:04  2021-11-21   Android, 9 (SDK 28)   \n",
       "1030150  2021-11-26 17:12:05  2021-11-26   Android, 9 (SDK 28)   \n",
       "1391856  2021-11-29 15:17:36  2021-11-29  Android, 10 (SDK 29)   \n",
       "1362461  2021-11-29 11:28:22  2021-11-29         iOS, iOS 14.6   \n",
       "1302157  2021-11-25 09:54:38  2021-11-25   Android, 9 (SDK 28)   \n",
       "1166130  2021-11-15 11:02:44  2021-11-15  Android, 11 (SDK 30)   \n",
       "1459892  2021-11-13 04:08:11  2021-11-13       iOS, iOS 15.0.1   \n",
       "\n",
       "                       buyer_mobile_phone                           user_id  \\\n",
       "177730   790d97390fb977bc7c713f669aae257e  f662dbee0d50279215d5f5fee1a4e0a7   \n",
       "1030150  9b291396d9d074b4afafeec729b8f817  b50449ca03197a7ec5ab739296cfddba   \n",
       "1391856  84ca7bed19b415855a93d69e295add4b  8b9738bae680cdad49a302d842cce680   \n",
       "1362461  7095d3d43326a8a97ce59c0dd9a5dcf3  c702fb15df5ed6f3f78c23689167a635   \n",
       "1302157  a0b24b448af96d7559c3dff5f77905c8  29e0ca40f27372c426f17cd5c75815c6   \n",
       "1166130  0bdb2eac7ed2e6d1c23a840575d0e018  f3383099e852f70257022f6e4eb3aa27   \n",
       "1459892  a26834f243cd5fc1c7fcb5f55be1ad07  c724f9d59f4fdbdf43e0b343e4ccb35c   \n",
       "\n",
       "                                                       url  \n",
       "177730   https://ticket.rusmuseum.ru/event/82DC859FAE69...  \n",
       "1030150                      https://ktyz.ru/play/view/236  \n",
       "1391856                          https://votk33.ru/events/  \n",
       "1362461  https://nn.kassir.ru/frame/event/906058?key=82...  \n",
       "1302157                    https://lk.zakaz.cloud/b/1/1105  \n",
       "1166130  https://volkovteatr.ru/repertoire/curent/ottsy...  \n",
       "1459892    https://tdt.kto72.ru/events/semeyka-addams-597/  "
      ]
     },
     "execution_count": 10,
     "metadata": {},
     "output_type": "execute_result"
    }
   ],
   "source": [
    "click.sample(7)"
   ]
  },
  {
   "cell_type": "code",
   "execution_count": 11,
   "id": "dbc544c0",
   "metadata": {},
   "outputs": [],
   "source": [
    "with open(dir + \"region.txt\", \"r\", newline='', encoding='utf-8', errors = 'ignore') as in_file:\n",
    "    stripped = (line.strip() for line in in_file)\n",
    "    lines = (line.split(\";\") for line in stripped if line)\n",
    "    with open(dir + 'region.csv', 'w', encoding='utf-8', errors = 'ignore') as out_file:\n",
    "        writer = csv.writer(out_file, delimiter = ';')\n",
    "        writer.writerow(('user_id', 'region'))\n",
    "        writer.writerows(lines)"
   ]
  },
  {
   "cell_type": "code",
   "execution_count": 12,
   "id": "e61bd625",
   "metadata": {},
   "outputs": [],
   "source": [
    "region = pd.read_csv(dir + 'region.csv', sep=';', error_bad_lines=False)"
   ]
  },
  {
   "cell_type": "code",
   "execution_count": 13,
   "id": "412b9028",
   "metadata": {},
   "outputs": [
    {
     "name": "stdout",
     "output_type": "stream",
     "text": [
      "<class 'pandas.core.frame.DataFrame'>\n",
      "RangeIndex: 2231053 entries, 0 to 2231052\n",
      "Data columns (total 2 columns):\n",
      " #   Column   Dtype \n",
      "---  ------   ----- \n",
      " 0   user_id  object\n",
      " 1   region   object\n",
      "dtypes: object(2)\n",
      "memory usage: 34.0+ MB\n"
     ]
    }
   ],
   "source": [
    "region.info()"
   ]
  },
  {
   "cell_type": "code",
   "execution_count": 14,
   "id": "708cd32d",
   "metadata": {
    "scrolled": true
   },
   "outputs": [
    {
     "data": {
      "text/html": [
       "<div>\n",
       "<style scoped>\n",
       "    .dataframe tbody tr th:only-of-type {\n",
       "        vertical-align: middle;\n",
       "    }\n",
       "\n",
       "    .dataframe tbody tr th {\n",
       "        vertical-align: top;\n",
       "    }\n",
       "\n",
       "    .dataframe thead th {\n",
       "        text-align: right;\n",
       "    }\n",
       "</style>\n",
       "<table border=\"1\" class=\"dataframe\">\n",
       "  <thead>\n",
       "    <tr style=\"text-align: right;\">\n",
       "      <th></th>\n",
       "      <th>user_id</th>\n",
       "      <th>region</th>\n",
       "    </tr>\n",
       "  </thead>\n",
       "  <tbody>\n",
       "    <tr>\n",
       "      <th>1154325</th>\n",
       "      <td>9ad677a0541ded0a80b67f3ef534f65e</td>\n",
       "      <td>Ярославская область</td>\n",
       "    </tr>\n",
       "    <tr>\n",
       "      <th>1832217</th>\n",
       "      <td>0d0c5439682176cbdcc42d276abb857b</td>\n",
       "      <td>Приморский край</td>\n",
       "    </tr>\n",
       "    <tr>\n",
       "      <th>222340</th>\n",
       "      <td>a82f41ff3a748595a7996377c9d651da</td>\n",
       "      <td>Иркутская область</td>\n",
       "    </tr>\n",
       "    <tr>\n",
       "      <th>1136579</th>\n",
       "      <td>25d47e3f27636a7bae4de13cd0958802</td>\n",
       "      <td>Саратовская область</td>\n",
       "    </tr>\n",
       "    <tr>\n",
       "      <th>708310</th>\n",
       "      <td>12a04ced8f6673e81fe01107346bb360</td>\n",
       "      <td>Москва</td>\n",
       "    </tr>\n",
       "    <tr>\n",
       "      <th>1011851</th>\n",
       "      <td>865efbe0a8062f31ad996ced43be48d0</td>\n",
       "      <td>Московская область</td>\n",
       "    </tr>\n",
       "    <tr>\n",
       "      <th>191563</th>\n",
       "      <td>cf98000cd3316953503922adb0bad1ec</td>\n",
       "      <td>Ханты-Мансийский автономный округ – Югра</td>\n",
       "    </tr>\n",
       "  </tbody>\n",
       "</table>\n",
       "</div>"
      ],
      "text/plain": [
       "                                  user_id  \\\n",
       "1154325  9ad677a0541ded0a80b67f3ef534f65e   \n",
       "1832217  0d0c5439682176cbdcc42d276abb857b   \n",
       "222340   a82f41ff3a748595a7996377c9d651da   \n",
       "1136579  25d47e3f27636a7bae4de13cd0958802   \n",
       "708310   12a04ced8f6673e81fe01107346bb360   \n",
       "1011851  865efbe0a8062f31ad996ced43be48d0   \n",
       "191563   cf98000cd3316953503922adb0bad1ec   \n",
       "\n",
       "                                           region  \n",
       "1154325                       Ярославская область  \n",
       "1832217                           Приморский край  \n",
       "222340                          Иркутская область  \n",
       "1136579                       Саратовская область  \n",
       "708310                                     Москва  \n",
       "1011851                        Московская область  \n",
       "191563   Ханты-Мансийский автономный округ – Югра  "
      ]
     },
     "execution_count": 14,
     "metadata": {},
     "output_type": "execute_result"
    }
   ],
   "source": [
    "region.sample(7)"
   ]
  },
  {
   "cell_type": "code",
   "execution_count": 15,
   "id": "763b1801",
   "metadata": {},
   "outputs": [],
   "source": [
    "with open(dir + \"uniq.txt\", \"r\", newline='', encoding='utf-8', errors = 'ignore') as in_file:\n",
    "    stripped = (line.strip() for line in in_file)\n",
    "    lines = (line.split(\";\") for line in stripped if line)\n",
    "    with open(dir + 'uniq.csv', 'w', encoding='utf-8', errors = 'ignore') as out_file:\n",
    "        writer = csv.writer(out_file, delimiter = ';')\n",
    "        writer.writerow(('create_date', 'user_phone_details', 'buyer_mobile_phone', 'user_id'))\n",
    "        writer.writerows(lines)"
   ]
  },
  {
   "cell_type": "code",
   "execution_count": null,
   "id": "341e5bb9",
   "metadata": {},
   "outputs": [],
   "source": [
    "uniq = pd.read_csv(dir + 'uniq.csv', sep=';', error_bad_lines=False)"
   ]
  },
  {
   "cell_type": "code",
   "execution_count": null,
   "id": "e8aed6ee",
   "metadata": {},
   "outputs": [],
   "source": [
    "uniq.info()"
   ]
  },
  {
   "cell_type": "code",
   "execution_count": null,
   "id": "56ed0ce6",
   "metadata": {},
   "outputs": [],
   "source": [
    "uniq.sample(7)"
   ]
  },
  {
   "cell_type": "code",
   "execution_count": null,
   "id": "e3494f64",
   "metadata": {},
   "outputs": [],
   "source": [
    "with open(dir + \"users.txt\", \"r\", newline='', encoding='utf-8', errors = 'ignore') as in_file:\n",
    "    stripped = (line.strip() for line in in_file)\n",
    "    lines = (line.split(\";\") for line in stripped if line)\n",
    "    with open(dir + 'users.csv', 'w', encoding='utf-8', errors = 'ignore') as out_file:\n",
    "        writer = csv.writer(out_file, delimiter = ';')\n",
    "        writer.writerow(('create_date', 'user_id', 'user_birth'))\n",
    "        writer.writerows(lines)"
   ]
  },
  {
   "cell_type": "code",
   "execution_count": null,
   "id": "10a45f6f",
   "metadata": {},
   "outputs": [],
   "source": [
    "users = pd.read_csv(dir + 'users.csv', sep=';', error_bad_lines=False)"
   ]
  },
  {
   "cell_type": "code",
   "execution_count": null,
   "id": "28f6965a",
   "metadata": {},
   "outputs": [],
   "source": [
    "users.info()"
   ]
  },
  {
   "cell_type": "code",
   "execution_count": null,
   "id": "83aaa926",
   "metadata": {
    "scrolled": false
   },
   "outputs": [],
   "source": [
    "users.sample(7)"
   ]
  },
  {
   "cell_type": "code",
   "execution_count": null,
   "id": "31d7b4c6",
   "metadata": {},
   "outputs": [],
   "source": [
    "from chardet.universaldetector import UniversalDetector\n",
    "detector = UniversalDetector()\n",
    "with open(dir + \"tickets2.json\", 'rb') as fh:\n",
    "    for line in fh:\n",
    "        detector.feed(line)\n",
    "        if detector.done:\n",
    "            break\n",
    "    detector.close()\n",
    "print(detector.result)"
   ]
  },
  {
   "cell_type": "code",
   "execution_count": null,
   "id": "13771047",
   "metadata": {},
   "outputs": [],
   "source": [
    "import json \n",
    "expl = [json.loads(line) for line in open(dir + 'tickets2.json', 'r', encoding='utf-8', errors = 'ignore')]"
   ]
  },
  {
   "cell_type": "code",
   "execution_count": null,
   "id": "5838579d",
   "metadata": {},
   "outputs": [],
   "source": [
    "tickets = pd.DataFrame(expl)"
   ]
  },
  {
   "cell_type": "code",
   "execution_count": null,
   "id": "2d190938",
   "metadata": {},
   "outputs": [],
   "source": [
    "tickets.info()"
   ]
  },
  {
   "cell_type": "code",
   "execution_count": null,
   "id": "7436d024",
   "metadata": {
    "scrolled": true
   },
   "outputs": [],
   "source": [
    "tickets.sample(7)"
   ]
  },
  {
   "cell_type": "code",
   "execution_count": null,
   "id": "df723345",
   "metadata": {
    "scrolled": true
   },
   "outputs": [],
   "source": [
    "tickets['status'].value_counts()"
   ]
  },
  {
   "cell_type": "code",
   "execution_count": null,
   "id": "5d2d4373",
   "metadata": {},
   "outputs": [],
   "source": [
    "dir2 = 'C:/Users/Rusla/Documents/GitHub/Пушкинская карта - стажировка/Sample/events/'"
   ]
  },
  {
   "cell_type": "code",
   "execution_count": null,
   "id": "bf2398e1",
   "metadata": {},
   "outputs": [],
   "source": [
    "events = pd.read_csv(dir2 + 'events.csv', sep = ';', error_bad_lines=False)"
   ]
  },
  {
   "cell_type": "code",
   "execution_count": null,
   "id": "bb9c043f",
   "metadata": {},
   "outputs": [],
   "source": [
    "events.info()"
   ]
  },
  {
   "cell_type": "code",
   "execution_count": null,
   "id": "867ba51c",
   "metadata": {
    "scrolled": false
   },
   "outputs": [],
   "source": [
    "events.sample(7)"
   ]
  },
  {
   "cell_type": "code",
   "execution_count": null,
   "id": "2c947f7b",
   "metadata": {},
   "outputs": [],
   "source": [
    "events[events.ID == 2217]"
   ]
  },
  {
   "cell_type": "code",
   "execution_count": null,
   "id": "9815fa56",
   "metadata": {
    "scrolled": true
   },
   "outputs": [],
   "source": [
    "events_pushka_accepted_30122021 = pd.read_csv(dir2 + 'events_pushka_accepted_30122021.csv', sep = ','\n",
    "                                              , error_bad_lines=False)"
   ]
  },
  {
   "cell_type": "code",
   "execution_count": null,
   "id": "55bb344b",
   "metadata": {},
   "outputs": [],
   "source": [
    "events_pushka_accepted_30122021.info()"
   ]
  },
  {
   "cell_type": "code",
   "execution_count": null,
   "id": "c3c9610e",
   "metadata": {
    "scrolled": false
   },
   "outputs": [],
   "source": [
    "events_pushka_accepted_30122021.sample(7)"
   ]
  },
  {
   "cell_type": "code",
   "execution_count": null,
   "id": "a85fac47",
   "metadata": {
    "scrolled": true
   },
   "outputs": [],
   "source": [
    "events_pushka_accepted_30122021[events_pushka_accepted_30122021['entity.organization._id'] == 2217]"
   ]
  },
  {
   "cell_type": "code",
   "execution_count": null,
   "id": "fd129c88",
   "metadata": {},
   "outputs": [],
   "source": [
    "organizations = pd.read_csv(dir2 + 'organizations.csv', sep = ';', error_bad_lines=False)"
   ]
  },
  {
   "cell_type": "code",
   "execution_count": null,
   "id": "5d582fbf",
   "metadata": {},
   "outputs": [],
   "source": [
    "organizations.info()"
   ]
  },
  {
   "cell_type": "code",
   "execution_count": null,
   "id": "210548d9",
   "metadata": {
    "scrolled": true
   },
   "outputs": [],
   "source": [
    "organizations.sample(7)"
   ]
  },
  {
   "cell_type": "code",
   "execution_count": null,
   "id": "2daeb50d",
   "metadata": {
    "scrolled": true
   },
   "outputs": [],
   "source": [
    "users_full = uniq.join(users['user_birth'],ignore_index=False, axis = 1, keys = 'user_id')"
   ]
  },
  {
   "cell_type": "code",
   "execution_count": null,
   "id": "0955889a",
   "metadata": {},
   "outputs": [],
   "source": [
    "users_full = pd.concat([uniq, users['user_birth']],ignore_index = True, axis = 1, keys = 'user_id')"
   ]
  },
  {
   "cell_type": "code",
   "execution_count": null,
   "id": "c85b4580",
   "metadata": {},
   "outputs": [],
   "source": [
    "users_full.columns = users_full.iloc[0]"
   ]
  },
  {
   "cell_type": "code",
   "execution_count": null,
   "id": "5a02412a",
   "metadata": {},
   "outputs": [],
   "source": [
    "users_full.info()"
   ]
  },
  {
   "cell_type": "code",
   "execution_count": null,
   "id": "eaa265d6",
   "metadata": {},
   "outputs": [],
   "source": [
    "users_full.head(5)"
   ]
  },
  {
   "cell_type": "code",
   "execution_count": null,
   "id": "34fe5500",
   "metadata": {},
   "outputs": [],
   "source": [
    "users_full = pd.concat([users_full, region['region']],ignore_index = True, axis = 1, keys = 'user_id')"
   ]
  },
  {
   "cell_type": "code",
   "execution_count": null,
   "id": "5fc88415",
   "metadata": {},
   "outputs": [],
   "source": [
    "users_full.columns = users_full.iloc[0]"
   ]
  },
  {
   "cell_type": "code",
   "execution_count": null,
   "id": "81ba4697",
   "metadata": {
    "scrolled": true
   },
   "outputs": [],
   "source": [
    "users_full.info()"
   ]
  },
  {
   "cell_type": "code",
   "execution_count": null,
   "id": "30c7f786",
   "metadata": {},
   "outputs": [],
   "source": [
    "users_full.head(5)"
   ]
  },
  {
   "cell_type": "code",
   "execution_count": null,
   "id": "8adce197",
   "metadata": {},
   "outputs": [],
   "source": [
    "users_full.drop(labels = [0],axis = 0, inplace = True)"
   ]
  },
  {
   "cell_type": "code",
   "execution_count": null,
   "id": "174fbee0",
   "metadata": {
    "scrolled": true
   },
   "outputs": [],
   "source": [
    "users_full.head(5)"
   ]
  },
  {
   "cell_type": "code",
   "execution_count": null,
   "id": "14421197",
   "metadata": {
    "scrolled": true
   },
   "outputs": [],
   "source": [
    "users_full.tail(5)"
   ]
  },
  {
   "cell_type": "code",
   "execution_count": null,
   "id": "fff0cdd1",
   "metadata": {},
   "outputs": [],
   "source": [
    "users_full['user_id'].value_counts()"
   ]
  },
  {
   "cell_type": "code",
   "execution_count": null,
   "id": "eacd79ee",
   "metadata": {},
   "outputs": [],
   "source": [
    "pd.to_datetime(users_full['create_date'], yearfirst = True, infer_datetime_format = True)"
   ]
  }
 ],
 "metadata": {
  "kernelspec": {
   "display_name": "Python 3 (ipykernel)",
   "language": "python",
   "name": "python3"
  },
  "language_info": {
   "codemirror_mode": {
    "name": "ipython",
    "version": 3
   },
   "file_extension": ".py",
   "mimetype": "text/x-python",
   "name": "python",
   "nbconvert_exporter": "python",
   "pygments_lexer": "ipython3",
   "version": "3.8.11"
  }
 },
 "nbformat": 4,
 "nbformat_minor": 5
}
